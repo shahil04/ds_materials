{
  "nbformat": 4,
  "nbformat_minor": 0,
  "metadata": {
    "colab": {
      "provenance": []
    },
    "kernelspec": {
      "name": "python3",
      "display_name": "Python 3"
    },
    "language_info": {
      "name": "python"
    }
  },
  "cells": [
    {
      "cell_type": "markdown",
      "source": [
        "## Use the numpy to perform Matrix operations in python"
      ],
      "metadata": {
        "id": "eAc6OS7_omPE"
      }
    },
    {
      "cell_type": "code",
      "execution_count": 1,
      "metadata": {
        "id": "xiIwpJdwlK1A"
      },
      "outputs": [],
      "source": [
        "import numpy as np\n",
        "\n",
        "# Define matrices\n",
        "\n",
        "# Example\n",
        "# A = np.array([[1, 2], [3, 4]])\n",
        "# B = np.array([[5, 6], [7, 8]])\n",
        "\n",
        "# Matrix addition\n",
        "\n",
        "\n",
        "# Matrix subtraction\n",
        "\n",
        "\n",
        "# Scalar multiplication\n",
        "scalar = 2\n",
        "\n",
        "# Matrix multiplication\n",
        "# Using np.dot() funtion\n",
        "\n",
        "\n",
        "\n",
        "# Transpose of a matrix\n",
        "\n",
        "\n",
        "# Determinant of a matrix\n",
        "\n",
        "\n",
        "# Inverse of a matrix (if exists)\n"
      ]
    },
    {
      "cell_type": "code",
      "source": [],
      "metadata": {
        "id": "r_yfL77soj7f"
      },
      "execution_count": null,
      "outputs": []
    }
  ]
}