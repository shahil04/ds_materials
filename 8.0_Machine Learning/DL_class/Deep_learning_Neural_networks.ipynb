{
 "cells": [
  {
   "cell_type": "markdown",
   "metadata": {},
   "source": [
    "1. https://medium.com/@ayush260201/maths-behind-neural-network-simplified-5f49594def0d\n",
    "2. https://towardsdatascience.com/how-to-define-a-neural-network-as-a-mathematical-function-f7b820cde3f"
   ]
  },
  {
   "cell_type": "markdown",
   "metadata": {},
   "source": [
    "### Streamlit\n",
    "- Streamlit is a Python library that allows you to create web applications for data science and machine learning.\n",
    "- It provides a simple and intuitive API for building web applications, making it easy to create interactive dash\n",
    "boards and visualizations.\n",
    "- Streamlit is particularly useful for data scientists and analysts who want to share their work with others or\n",
    "create interactive visualizations for presentations.\n",
    "- Streamlit is also useful for creating web applications that can be used by non-technical users,\n",
    "such as business stakeholders or customers.\n",
    "\n",
    "\n",
    "- https://www.datacamp.com/tutorial/streamlit\n",
    "- https://docs.streamlit.io/get-started/tutorials/create-a-multipage-app\n",
    "- https://docs.streamlit.io\n",
    "- https://blog.streamlit.io/how-to-create-an-ai-chatbot-llm-api-replicate-streamlit/\n",
    "- https://youtube.com/playlist?list=PL9XvIvvVL50Eyc28bQLhJC-H1F0eOuPRz&si=9pNMxPX6g6AbUXDS   -- Streamlit webapp Development"
   ]
  },
  {
   "cell_type": "markdown",
   "metadata": {},
   "source": [
    "##### Streamlit Projects\n",
    "- https://youtube.com/playlist?list=PLrLEqwuz-mRJCRfUXQLCB8IFvHPlh7IjF&si=MpJo8aT24WUAHSTb\n"
   ]
  },
  {
   "cell_type": "code",
   "execution_count": null,
   "metadata": {
    "vscode": {
     "languageId": "plaintext"
    }
   },
   "outputs": [],
   "source": [
    "Let's Build an AI News Anchor Generator App using Generative AI\n",
    "- https://youtu.be/cddahTnCo10?si=InZn0IvV4bw74omr\n",
    "\n",
    "\n",
    "Audio Summarization App using Gemini 1.5 Multimodal AI\n",
    "- https://youtu.be/Prxt07BXZUE?si=0jX3Np4fgnzJyYDX"
   ]
  }
 ],
 "metadata": {
  "kernelspec": {
   "display_name": "base",
   "language": "python",
   "name": "python3"
  },
  "language_info": {
   "codemirror_mode": {
    "name": "ipython",
    "version": 3
   },
   "file_extension": ".py",
   "mimetype": "text/x-python",
   "name": "python",
   "nbconvert_exporter": "python",
   "pygments_lexer": "ipython3",
   "version": "3.11.9"
  }
 },
 "nbformat": 4,
 "nbformat_minor": 2
}
