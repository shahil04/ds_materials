{
 "cells": [
  {
   "cell_type": "markdown",
   "id": "numerous-syntax",
   "metadata": {
    "papermill": {
     "duration": 0.050207,
     "end_time": "2021-06-04T19:47:18.066788",
     "exception": false,
     "start_time": "2021-06-04T19:47:18.016581",
     "status": "completed"
    },
    "tags": []
   },
   "source": [
    "<!-- ![image](https://i.ytimg.com/vi/TbEZIZo4PZ8/maxresdefault.jpg) -->"
   ]
  },
  {
   "cell_type": "markdown",
   "id": "291ceb92",
   "metadata": {},
   "source": [
    "### Introduction to Classification - INSURANCE CLAIM ANALYSIS\n",
    "Introduction to Logistic Regression\n",
    "\n",
    "Sigmoid Function\n",
    "\n",
    "Confusion Matrix\n",
    "\n",
    "Classification Evaluation Metrics\n",
    "\n",
    "https://www.kaggle.com/code/mohamedbakrey/make-a-prediction-for-insurance-claim-report\n",
    "\n",
    "https://youtu.be/ntBa7YKc9XM?si=1V1RL0wCmxM_gjor  Regression price\n",
    "\n",
    "https://youtu.be/OOLhKLXCJiU?si=dWxvFk82mVO8WxEP DBSCAN"
   ]
  },
  {
   "cell_type": "markdown",
   "id": "precious-blast",
   "metadata": {
    "papermill": {
     "duration": 0.049691,
     "end_time": "2021-06-04T19:47:18.165570",
     "exception": false,
     "start_time": "2021-06-04T19:47:18.115879",
     "status": "completed"
    },
    "tags": []
   },
   "source": [
    "# Predicting auto and insurance fraud in general:\n",
    "is a contract, represented by a policy, in which an individual or entity receives financial protection or reimbursement against losses from an insurance company. The company pools clients' risks to make payments more affordable for the insured.\n",
    "# Insurance Policy Components\n",
    "When choosing a policy, it is important to understand how insurance works.\n",
    "\n",
    "A firm understanding of these concepts goes a long way in helping you choose the policy that best suits your needs. For instance, whole life insurance may or may not be the right type of life insurance for you. There are three components of any type of insurance (premium, policy limit, and deductible) that are crucial."
   ]
  },
  {
   "cell_type": "markdown",
   "id": "anonymous-spirituality",
   "metadata": {
    "papermill": {
     "duration": 0.050504,
     "end_time": "2021-06-04T19:47:18.263925",
     "exception": false,
     "start_time": "2021-06-04T19:47:18.213421",
     "status": "completed"
    },
    "tags": []
   },
   "source": [
    "> The goal of this note, Kuho Hwa, is to make a simplified and structured analysis to make an explanation of that dirty process called fraud and lack of it through analysis and the machine learning system."
   ]
  },
  {
   "cell_type": "markdown",
   "id": "environmental-chance",
   "metadata": {
    "papermill": {
     "duration": 0.049138,
     "end_time": "2021-06-04T19:47:18.365223",
     "exception": false,
     "start_time": "2021-06-04T19:47:18.316085",
     "status": "completed"
    },
    "tags": []
   },
   "source": [
    "# Import Libraries"
   ]
  },
  {
   "cell_type": "code",
   "execution_count": 1,
   "id": "novel-looking",
   "metadata": {
    "execution": {
     "iopub.execute_input": "2021-06-04T19:47:18.469354Z",
     "iopub.status.busy": "2021-06-04T19:47:18.468092Z",
     "iopub.status.idle": "2021-06-04T19:47:19.261102Z",
     "shell.execute_reply": "2021-06-04T19:47:19.261635Z",
     "shell.execute_reply.started": "2021-06-04T19:43:34.590825Z"
    },
    "papermill": {
     "duration": 0.84725,
     "end_time": "2021-06-04T19:47:19.261915",
     "exception": false,
     "start_time": "2021-06-04T19:47:18.414665",
     "status": "completed"
    },
    "tags": []
   },
   "outputs": [],
   "source": [
    "import numpy as np\n",
    "import pandas as pd\n",
    "import os\n",
    "import matplotlib.pyplot as plt\n",
    "import seaborn as sns\n"
   ]
  },
  {
   "cell_type": "markdown",
   "id": "backed-scenario",
   "metadata": {
    "papermill": {
     "duration": 0.049427,
     "end_time": "2021-06-04T19:47:19.361830",
     "exception": false,
     "start_time": "2021-06-04T19:47:19.312403",
     "status": "completed"
    },
    "tags": []
   },
   "source": [
    "# Read data "
   ]
  },
  {
   "cell_type": "code",
   "execution_count": null,
   "id": "political-hartford",
   "metadata": {
    "execution": {
     "iopub.execute_input": "2021-06-04T19:47:19.463871Z",
     "iopub.status.busy": "2021-06-04T19:47:19.463283Z",
     "iopub.status.idle": "2021-06-04T19:47:19.495207Z",
     "shell.execute_reply": "2021-06-04T19:47:19.495711Z",
     "shell.execute_reply.started": "2021-06-04T19:43:35.456881Z"
    },
    "papermill": {
     "duration": 0.086575,
     "end_time": "2021-06-04T19:47:19.495894",
     "exception": false,
     "start_time": "2021-06-04T19:47:19.409319",
     "status": "completed"
    },
    "tags": []
   },
   "outputs": [],
   "source": [
    "db=pd.read_csv('insurance_claims_report.csv')\n",
    "# https://www.kaggle.com/code/mohamedbakrey/make-a-prediction-for-insurance-claim-report"
   ]
  },
  {
   "cell_type": "code",
   "execution_count": null,
   "id": "wired-permission",
   "metadata": {
    "execution": {
     "iopub.execute_input": "2021-06-04T19:47:19.597425Z",
     "iopub.status.busy": "2021-06-04T19:47:19.596472Z",
     "iopub.status.idle": "2021-06-04T19:47:19.639147Z",
     "shell.execute_reply": "2021-06-04T19:47:19.639600Z",
     "shell.execute_reply.started": "2021-06-04T19:43:35.493645Z"
    },
    "papermill": {
     "duration": 0.094041,
     "end_time": "2021-06-04T19:47:19.639797",
     "exception": false,
     "start_time": "2021-06-04T19:47:19.545756",
     "status": "completed"
    },
    "tags": []
   },
   "outputs": [],
   "source": [
    "db.head(10)"
   ]
  },
  {
   "cell_type": "code",
   "execution_count": null,
   "id": "roman-edward",
   "metadata": {
    "execution": {
     "iopub.execute_input": "2021-06-04T19:47:19.743572Z",
     "iopub.status.busy": "2021-06-04T19:47:19.742550Z",
     "iopub.status.idle": "2021-06-04T19:47:19.747650Z",
     "shell.execute_reply": "2021-06-04T19:47:19.748144Z",
     "shell.execute_reply.started": "2021-06-04T19:43:35.543852Z"
    },
    "papermill": {
     "duration": 0.058043,
     "end_time": "2021-06-04T19:47:19.748311",
     "exception": false,
     "start_time": "2021-06-04T19:47:19.690268",
     "status": "completed"
    },
    "tags": []
   },
   "outputs": [],
   "source": [
    "db.shape"
   ]
  },
  {
   "cell_type": "code",
   "execution_count": null,
   "id": "adult-uruguay",
   "metadata": {
    "execution": {
     "iopub.execute_input": "2021-06-04T19:47:19.849910Z",
     "iopub.status.busy": "2021-06-04T19:47:19.849022Z",
     "iopub.status.idle": "2021-06-04T19:47:19.871601Z",
     "shell.execute_reply": "2021-06-04T19:47:19.871076Z",
     "shell.execute_reply.started": "2021-06-04T19:43:35.549408Z"
    },
    "papermill": {
     "duration": 0.074155,
     "end_time": "2021-06-04T19:47:19.871740",
     "exception": false,
     "start_time": "2021-06-04T19:47:19.797585",
     "status": "completed"
    },
    "tags": []
   },
   "outputs": [],
   "source": [
    "db.info()"
   ]
  },
  {
   "cell_type": "code",
   "execution_count": null,
   "id": "civic-accreditation",
   "metadata": {
    "execution": {
     "iopub.execute_input": "2021-06-04T19:47:19.977870Z",
     "iopub.status.busy": "2021-06-04T19:47:19.977172Z",
     "iopub.status.idle": "2021-06-04T19:47:20.037394Z",
     "shell.execute_reply": "2021-06-04T19:47:20.036849Z",
     "shell.execute_reply.started": "2021-06-04T19:43:35.585508Z"
    },
    "papermill": {
     "duration": 0.116792,
     "end_time": "2021-06-04T19:47:20.037539",
     "exception": false,
     "start_time": "2021-06-04T19:47:19.920747",
     "status": "completed"
    },
    "tags": []
   },
   "outputs": [],
   "source": [
    "db.describe()"
   ]
  },
  {
   "cell_type": "code",
   "execution_count": null,
   "id": "convinced-active",
   "metadata": {
    "execution": {
     "iopub.execute_input": "2021-06-04T19:47:20.161178Z",
     "iopub.status.busy": "2021-06-04T19:47:20.146177Z",
     "iopub.status.idle": "2021-06-04T19:47:20.165476Z",
     "shell.execute_reply": "2021-06-04T19:47:20.164866Z",
     "shell.execute_reply.started": "2021-06-04T19:43:35.656406Z"
    },
    "papermill": {
     "duration": 0.077191,
     "end_time": "2021-06-04T19:47:20.165607",
     "exception": false,
     "start_time": "2021-06-04T19:47:20.088416",
     "status": "completed"
    },
    "tags": []
   },
   "outputs": [],
   "source": [
    "db.sum()"
   ]
  },
  {
   "cell_type": "code",
   "execution_count": null,
   "id": "unavailable-deployment",
   "metadata": {
    "execution": {
     "iopub.execute_input": "2021-06-04T19:47:20.279081Z",
     "iopub.status.busy": "2021-06-04T19:47:20.278213Z",
     "iopub.status.idle": "2021-06-04T19:47:20.282198Z",
     "shell.execute_reply": "2021-06-04T19:47:20.281642Z",
     "shell.execute_reply.started": "2021-06-04T19:43:35.684145Z"
    },
    "papermill": {
     "duration": 0.066284,
     "end_time": "2021-06-04T19:47:20.282326",
     "exception": false,
     "start_time": "2021-06-04T19:47:20.216042",
     "status": "completed"
    },
    "tags": []
   },
   "outputs": [],
   "source": [
    "db.count()"
   ]
  },
  {
   "cell_type": "code",
   "execution_count": null,
   "id": "endangered-logic",
   "metadata": {
    "execution": {
     "iopub.execute_input": "2021-06-04T19:47:20.408803Z",
     "iopub.status.busy": "2021-06-04T19:47:20.396284Z",
     "iopub.status.idle": "2021-06-04T19:47:20.438709Z",
     "shell.execute_reply": "2021-06-04T19:47:20.438201Z",
     "shell.execute_reply.started": "2021-06-04T19:43:35.699727Z"
    },
    "papermill": {
     "duration": 0.104365,
     "end_time": "2021-06-04T19:47:20.438837",
     "exception": false,
     "start_time": "2021-06-04T19:47:20.334472",
     "status": "completed"
    },
    "tags": []
   },
   "outputs": [],
   "source": [
    "pd.set_option('display.max_columns', 500)\n",
    "db"
   ]
  },
  {
   "cell_type": "code",
   "execution_count": null,
   "id": "reserved-notification",
   "metadata": {
    "execution": {
     "iopub.execute_input": "2021-06-04T19:47:20.547685Z",
     "iopub.status.busy": "2021-06-04T19:47:20.547089Z",
     "iopub.status.idle": "2021-06-04T19:47:20.564799Z",
     "shell.execute_reply": "2021-06-04T19:47:20.565301Z",
     "shell.execute_reply.started": "2021-06-04T19:43:35.755968Z"
    },
    "papermill": {
     "duration": 0.075309,
     "end_time": "2021-06-04T19:47:20.565459",
     "exception": false,
     "start_time": "2021-06-04T19:47:20.490150",
     "status": "completed"
    },
    "tags": []
   },
   "outputs": [],
   "source": [
    "db.mean()"
   ]
  },
  {
   "cell_type": "code",
   "execution_count": null,
   "id": "ready-cleaner",
   "metadata": {
    "execution": {
     "iopub.execute_input": "2021-06-04T19:47:20.677619Z",
     "iopub.status.busy": "2021-06-04T19:47:20.676959Z",
     "iopub.status.idle": "2021-06-04T19:47:20.688443Z",
     "shell.execute_reply": "2021-06-04T19:47:20.688900Z",
     "shell.execute_reply.started": "2021-06-04T19:43:35.782011Z"
    },
    "papermill": {
     "duration": 0.069095,
     "end_time": "2021-06-04T19:47:20.689086",
     "exception": false,
     "start_time": "2021-06-04T19:47:20.619991",
     "status": "completed"
    },
    "tags": []
   },
   "outputs": [],
   "source": [
    "db.max()"
   ]
  },
  {
   "cell_type": "code",
   "execution_count": null,
   "id": "minimal-lancaster",
   "metadata": {
    "execution": {
     "iopub.execute_input": "2021-06-04T19:47:20.796220Z",
     "iopub.status.busy": "2021-06-04T19:47:20.795590Z",
     "iopub.status.idle": "2021-06-04T19:47:20.809043Z",
     "shell.execute_reply": "2021-06-04T19:47:20.809545Z",
     "shell.execute_reply.started": "2021-06-04T19:43:35.800526Z"
    },
    "papermill": {
     "duration": 0.069334,
     "end_time": "2021-06-04T19:47:20.809690",
     "exception": false,
     "start_time": "2021-06-04T19:47:20.740356",
     "status": "completed"
    },
    "tags": []
   },
   "outputs": [],
   "source": [
    "db.min()"
   ]
  },
  {
   "cell_type": "code",
   "execution_count": null,
   "id": "coordinated-orange",
   "metadata": {
    "execution": {
     "iopub.execute_input": "2021-06-04T19:47:20.917803Z",
     "iopub.status.busy": "2021-06-04T19:47:20.917169Z",
     "iopub.status.idle": "2021-06-04T19:47:20.983110Z",
     "shell.execute_reply": "2021-06-04T19:47:20.983579Z",
     "shell.execute_reply.started": "2021-06-04T19:43:35.821173Z"
    },
    "papermill": {
     "duration": 0.120676,
     "end_time": "2021-06-04T19:47:20.983747",
     "exception": false,
     "start_time": "2021-06-04T19:47:20.863071",
     "status": "completed"
    },
    "tags": []
   },
   "outputs": [],
   "source": [
    "db.transpose().iloc[:,:5]"
   ]
  },
  {
   "cell_type": "code",
   "execution_count": null,
   "id": "effective-shame",
   "metadata": {
    "execution": {
     "iopub.execute_input": "2021-06-04T19:47:21.096078Z",
     "iopub.status.busy": "2021-06-04T19:47:21.095460Z",
     "iopub.status.idle": "2021-06-04T19:47:21.141043Z",
     "shell.execute_reply": "2021-06-04T19:47:21.141498Z",
     "shell.execute_reply.started": "2021-06-04T19:43:35.900342Z"
    },
    "papermill": {
     "duration": 0.103572,
     "end_time": "2021-06-04T19:47:21.141660",
     "exception": false,
     "start_time": "2021-06-04T19:47:21.038088",
     "status": "completed"
    },
    "tags": []
   },
   "outputs": [],
   "source": [
    "db.isnull()"
   ]
  },
  {
   "cell_type": "code",
   "execution_count": null,
   "id": "another-comment",
   "metadata": {
    "execution": {
     "iopub.execute_input": "2021-06-04T19:47:21.255679Z",
     "iopub.status.busy": "2021-06-04T19:47:21.255111Z",
     "iopub.status.idle": "2021-06-04T19:47:21.316949Z",
     "shell.execute_reply": "2021-06-04T19:47:21.316311Z",
     "shell.execute_reply.started": "2021-06-04T19:43:35.952824Z"
    },
    "papermill": {
     "duration": 0.120042,
     "end_time": "2021-06-04T19:47:21.317106",
     "exception": false,
     "start_time": "2021-06-04T19:47:21.197064",
     "status": "completed"
    },
    "tags": []
   },
   "outputs": [],
   "source": [
    "db.describe().transpose()"
   ]
  },
  {
   "cell_type": "code",
   "execution_count": null,
   "id": "simplified-simulation",
   "metadata": {
    "execution": {
     "iopub.execute_input": "2021-06-04T19:47:21.451298Z",
     "iopub.status.busy": "2021-06-04T19:47:21.436663Z",
     "iopub.status.idle": "2021-06-04T19:47:21.766848Z",
     "shell.execute_reply": "2021-06-04T19:47:21.766282Z",
     "shell.execute_reply.started": "2021-06-04T19:43:36.028610Z"
    },
    "papermill": {
     "duration": 0.392692,
     "end_time": "2021-06-04T19:47:21.767006",
     "exception": false,
     "start_time": "2021-06-04T19:47:21.374314",
     "status": "completed"
    },
    "tags": []
   },
   "outputs": [],
   "source": [
    "ax=sns.regplot(x='age',y='months_as_customer',data=db)"
   ]
  },
  {
   "cell_type": "code",
   "execution_count": null,
   "id": "spare-union",
   "metadata": {
    "execution": {
     "iopub.execute_input": "2021-06-04T19:47:21.892580Z",
     "iopub.status.busy": "2021-06-04T19:47:21.892025Z",
     "iopub.status.idle": "2021-06-04T19:47:22.320474Z",
     "shell.execute_reply": "2021-06-04T19:47:22.320962Z",
     "shell.execute_reply.started": "2021-06-04T19:43:36.381074Z"
    },
    "papermill": {
     "duration": 0.494494,
     "end_time": "2021-06-04T19:47:22.321157",
     "exception": false,
     "start_time": "2021-06-04T19:47:21.826663",
     "status": "completed"
    },
    "tags": []
   },
   "outputs": [],
   "source": [
    "p = db['age'].value_counts()\n",
    "print(p)\n",
    "db['age'].value_counts().plot.bar()"
   ]
  },
  {
   "cell_type": "code",
   "execution_count": null,
   "id": "environmental-novel",
   "metadata": {
    "execution": {
     "iopub.execute_input": "2021-06-04T19:47:22.450848Z",
     "iopub.status.busy": "2021-06-04T19:47:22.449595Z",
     "iopub.status.idle": "2021-06-04T19:47:26.503807Z",
     "shell.execute_reply": "2021-06-04T19:47:26.503313Z",
     "shell.execute_reply.started": "2021-06-04T19:43:36.852510Z"
    },
    "papermill": {
     "duration": 4.121194,
     "end_time": "2021-06-04T19:47:26.503935",
     "exception": false,
     "start_time": "2021-06-04T19:47:22.382741",
     "status": "completed"
    },
    "tags": []
   },
   "outputs": [],
   "source": [
    "p = db['months_as_customer'].value_counts()\n",
    "print(p)\n",
    "db['months_as_customer'].value_counts().plot.bar()"
   ]
  },
  {
   "cell_type": "code",
   "execution_count": null,
   "id": "operational-adventure",
   "metadata": {
    "execution": {
     "iopub.execute_input": "2021-06-04T19:47:26.633386Z",
     "iopub.status.busy": "2021-06-04T19:47:26.632766Z",
     "iopub.status.idle": "2021-06-04T19:47:27.097086Z",
     "shell.execute_reply": "2021-06-04T19:47:27.096453Z",
     "shell.execute_reply.started": "2021-06-04T19:43:41.072693Z"
    },
    "papermill": {
     "duration": 0.532634,
     "end_time": "2021-06-04T19:47:27.097222",
     "exception": false,
     "start_time": "2021-06-04T19:47:26.564588",
     "status": "completed"
    },
    "tags": []
   },
   "outputs": [],
   "source": [
    "sns.countplot(data=db, x='age')"
   ]
  },
  {
   "cell_type": "code",
   "execution_count": null,
   "id": "satisfied-forum",
   "metadata": {
    "execution": {
     "iopub.execute_input": "2021-06-04T19:47:27.365501Z",
     "iopub.status.busy": "2021-06-04T19:47:27.363880Z",
     "iopub.status.idle": "2021-06-04T19:47:27.518389Z",
     "shell.execute_reply": "2021-06-04T19:47:27.517843Z",
     "shell.execute_reply.started": "2021-06-04T19:43:41.567314Z"
    },
    "papermill": {
     "duration": 0.355625,
     "end_time": "2021-06-04T19:47:27.518541",
     "exception": false,
     "start_time": "2021-06-04T19:47:27.162916",
     "status": "completed"
    },
    "tags": []
   },
   "outputs": [],
   "source": [
    "sns.set_style(\"ticks\", {\"xtick.major.size\": 8, \"ytick.major.size\": 8})\n",
    "db['age'].hist(bins=30, color = \"red\", edgecolor='black', alpha=0.65, lw=1.5)\n",
    "plt.ylabel('age')\n",
    "plt.xlabel('age')\n"
   ]
  },
  {
   "cell_type": "code",
   "execution_count": null,
   "id": "incorporate-washington",
   "metadata": {
    "execution": {
     "iopub.execute_input": "2021-06-04T19:47:27.661634Z",
     "iopub.status.busy": "2021-06-04T19:47:27.661010Z",
     "iopub.status.idle": "2021-06-04T19:47:29.030255Z",
     "shell.execute_reply": "2021-06-04T19:47:29.030684Z",
     "shell.execute_reply.started": "2021-06-04T19:43:41.880404Z"
    },
    "papermill": {
     "duration": 1.449633,
     "end_time": "2021-06-04T19:47:29.030851",
     "exception": false,
     "start_time": "2021-06-04T19:47:27.581218",
     "status": "completed"
    },
    "tags": []
   },
   "outputs": [],
   "source": [
    "sns.jointplot(x = 'age', y = 'months_as_customer',\n",
    "              data = db, kind = 'kde', color = \"red\", alpha = 0.65)"
   ]
  },
  {
   "cell_type": "code",
   "execution_count": null,
   "id": "extensive-marketplace",
   "metadata": {
    "execution": {
     "iopub.execute_input": "2021-06-04T19:47:29.167126Z",
     "iopub.status.busy": "2021-06-04T19:47:29.166485Z",
     "iopub.status.idle": "2021-06-04T19:47:30.459025Z",
     "shell.execute_reply": "2021-06-04T19:47:30.458471Z",
     "shell.execute_reply.started": "2021-06-04T19:43:43.371271Z"
    },
    "papermill": {
     "duration": 1.362657,
     "end_time": "2021-06-04T19:47:30.459194",
     "exception": false,
     "start_time": "2021-06-04T19:47:29.096537",
     "status": "completed"
    },
    "tags": []
   },
   "outputs": [],
   "source": [
    "sns.jointplot(x = 'age', y = 'policy_deductable',\n",
    "              data = db, kind = 'kde', color = \"red\", alpha = 0.65)"
   ]
  },
  {
   "cell_type": "code",
   "execution_count": null,
   "id": "molecular-water",
   "metadata": {
    "execution": {
     "iopub.execute_input": "2021-06-04T19:47:30.616473Z",
     "iopub.status.busy": "2021-06-04T19:47:30.615178Z",
     "iopub.status.idle": "2021-06-04T19:47:31.895838Z",
     "shell.execute_reply": "2021-06-04T19:47:31.895239Z",
     "shell.execute_reply.started": "2021-06-04T19:43:44.747110Z"
    },
    "papermill": {
     "duration": 1.368891,
     "end_time": "2021-06-04T19:47:31.895999",
     "exception": false,
     "start_time": "2021-06-04T19:47:30.527108",
     "status": "completed"
    },
    "tags": []
   },
   "outputs": [],
   "source": [
    "\n",
    "sns.jointplot(x = 'age', y = 'injury_claim',\n",
    "              data = db, kind = 'kde', color = \"red\", alpha = 0.65)"
   ]
  },
  {
   "cell_type": "code",
   "execution_count": null,
   "id": "vietnamese-sixth",
   "metadata": {
    "execution": {
     "iopub.execute_input": "2021-06-04T19:47:32.087470Z",
     "iopub.status.busy": "2021-06-04T19:47:32.081440Z",
     "iopub.status.idle": "2021-06-04T19:47:33.396752Z",
     "shell.execute_reply": "2021-06-04T19:47:33.397208Z",
     "shell.execute_reply.started": "2021-06-04T19:43:46.146112Z"
    },
    "papermill": {
     "duration": 1.432779,
     "end_time": "2021-06-04T19:47:33.397364",
     "exception": false,
     "start_time": "2021-06-04T19:47:31.964585",
     "status": "completed"
    },
    "tags": []
   },
   "outputs": [],
   "source": [
    "sns.jointplot(x = 'age', y ='policy_deductable', \n",
    "              data = db,hue = 'fraud_reported',kind = 'kde', color = \"red\", alpha = 0.65)"
   ]
  },
  {
   "cell_type": "code",
   "execution_count": null,
   "id": "failing-birmingham",
   "metadata": {
    "execution": {
     "iopub.execute_input": "2021-06-04T19:47:33.547206Z",
     "iopub.status.busy": "2021-06-04T19:47:33.546569Z",
     "iopub.status.idle": "2021-06-04T19:49:22.073073Z",
     "shell.execute_reply": "2021-06-04T19:49:21.651845Z",
     "shell.execute_reply.started": "2021-06-04T19:43:47.630400Z"
    },
    "papermill": {
     "duration": 108.60469,
     "end_time": "2021-06-04T19:49:22.073253",
     "exception": false,
     "start_time": "2021-06-04T19:47:33.468563",
     "status": "completed"
    },
    "tags": []
   },
   "outputs": [],
   "source": [
    "sns.pairplot(db, hue = 'fraud_reported', palette = 'cool_r')\n"
   ]
  },
  {
   "cell_type": "markdown",
   "id": "standing-pepper",
   "metadata": {
    "papermill": {
     "duration": 0.252439,
     "end_time": "2021-06-04T19:49:22.621307",
     "exception": false,
     "start_time": "2021-06-04T19:49:22.368868",
     "status": "completed"
    },
    "tags": []
   },
   "source": [
    "# Let's apply our classification models one by one:\n",
    "1) Logistic Regression:"
   ]
  },
  {
   "cell_type": "code",
   "execution_count": 26,
   "id": "automatic-prince",
   "metadata": {
    "execution": {
     "iopub.execute_input": "2021-06-04T19:49:23.134342Z",
     "iopub.status.busy": "2021-06-04T19:49:23.133408Z",
     "iopub.status.idle": "2021-06-04T19:49:23.443325Z",
     "shell.execute_reply": "2021-06-04T19:49:23.443788Z",
     "shell.execute_reply.started": "2021-06-04T19:45:39.293989Z"
    },
    "papermill": {
     "duration": 0.569088,
     "end_time": "2021-06-04T19:49:23.444006",
     "exception": false,
     "start_time": "2021-06-04T19:49:22.874918",
     "status": "completed"
    },
    "tags": []
   },
   "outputs": [],
   "source": [
    "from sklearn.model_selection import train_test_split\n",
    "from sklearn import preprocessing"
   ]
  },
  {
   "cell_type": "code",
   "execution_count": null,
   "id": "wireless-kitchen",
   "metadata": {
    "execution": {
     "iopub.execute_input": "2021-06-04T19:49:23.941162Z",
     "iopub.status.busy": "2021-06-04T19:49:23.940158Z",
     "iopub.status.idle": "2021-06-04T19:49:23.946268Z",
     "shell.execute_reply": "2021-06-04T19:49:23.946697Z",
     "shell.execute_reply.started": "2021-06-04T19:45:39.531995Z"
    },
    "papermill": {
     "duration": 0.257683,
     "end_time": "2021-06-04T19:49:23.946857",
     "exception": false,
     "start_time": "2021-06-04T19:49:23.689174",
     "status": "completed"
    },
    "tags": []
   },
   "outputs": [],
   "source": [
    "db.columns"
   ]
  },
  {
   "cell_type": "code",
   "execution_count": 28,
   "id": "charming-bailey",
   "metadata": {
    "execution": {
     "iopub.execute_input": "2021-06-04T19:49:24.425864Z",
     "iopub.status.busy": "2021-06-04T19:49:24.424950Z",
     "iopub.status.idle": "2021-06-04T19:49:24.430852Z",
     "shell.execute_reply": "2021-06-04T19:49:24.431439Z",
     "shell.execute_reply.started": "2021-06-04T19:45:39.542602Z"
    },
    "papermill": {
     "duration": 0.242778,
     "end_time": "2021-06-04T19:49:24.431622",
     "exception": false,
     "start_time": "2021-06-04T19:49:24.188844",
     "status": "completed"
    },
    "tags": []
   },
   "outputs": [],
   "source": [
    "X = db[['months_as_customer', 'age', 'policy_annual_premium',\n",
    "       'insured_education_level', 'auto_year', 'fraud_reported', 'property_damage',\n",
    "       'umbrella_limit', 'incident_hour_of_the_day', 'incident_severity', 'authorities_contacted']]\n",
    "y = db['fraud_reported']"
   ]
  },
  {
   "cell_type": "code",
   "execution_count": 29,
   "id": "parallel-representation",
   "metadata": {
    "execution": {
     "iopub.execute_input": "2021-06-04T19:49:24.922163Z",
     "iopub.status.busy": "2021-06-04T19:49:24.921456Z",
     "iopub.status.idle": "2021-06-04T19:49:24.923912Z",
     "shell.execute_reply": "2021-06-04T19:49:24.924594Z",
     "shell.execute_reply.started": "2021-06-04T19:45:39.559889Z"
    },
    "papermill": {
     "duration": 0.251016,
     "end_time": "2021-06-04T19:49:24.924766",
     "exception": false,
     "start_time": "2021-06-04T19:49:24.673750",
     "status": "completed"
    },
    "tags": []
   },
   "outputs": [],
   "source": [
    "X_train, X_test, y_train, y_test = train_test_split(X, y, test_size=0.3, random_state=1)"
   ]
  },
  {
   "cell_type": "code",
   "execution_count": 30,
   "id": "higher-transcription",
   "metadata": {
    "execution": {
     "iopub.execute_input": "2021-06-04T19:49:25.405795Z",
     "iopub.status.busy": "2021-06-04T19:49:25.405181Z",
     "iopub.status.idle": "2021-06-04T19:49:25.622688Z",
     "shell.execute_reply": "2021-06-04T19:49:25.623289Z",
     "shell.execute_reply.started": "2021-06-04T19:45:39.575186Z"
    },
    "papermill": {
     "duration": 0.45172,
     "end_time": "2021-06-04T19:49:25.623466",
     "exception": false,
     "start_time": "2021-06-04T19:49:25.171746",
     "status": "completed"
    },
    "tags": []
   },
   "outputs": [],
   "source": [
    "from sklearn.datasets import make_classification\n",
    "from sklearn.metrics import classification_report,confusion_matrix\n",
    "from sklearn.linear_model import LogisticRegression\n",
    "from sklearn.model_selection import train_test_split\n",
    "from sklearn.pipeline import make_pipeline\n",
    "from sklearn.preprocessing import StandardScaler"
   ]
  },
  {
   "cell_type": "code",
   "execution_count": null,
   "id": "hidden-guitar",
   "metadata": {
    "execution": {
     "iopub.execute_input": "2021-06-04T19:49:26.115686Z",
     "iopub.status.busy": "2021-06-04T19:49:26.114985Z",
     "iopub.status.idle": "2021-06-04T19:49:26.136168Z",
     "shell.execute_reply": "2021-06-04T19:49:26.136660Z",
     "shell.execute_reply.started": "2021-06-04T19:45:39.777802Z"
    },
    "papermill": {
     "duration": 0.269468,
     "end_time": "2021-06-04T19:49:26.136822",
     "exception": false,
     "start_time": "2021-06-04T19:49:25.867354",
     "status": "completed"
    },
    "tags": []
   },
   "outputs": [],
   "source": [
    "X, y = make_classification(random_state=42)\n",
    "X_train, X_test, y_train, y_test = train_test_split(X, y, random_state=42)\n",
    "pipe = make_pipeline(StandardScaler(), LogisticRegression())\n",
    "pipe.fit(X_train, y_train)  # apply scaling on training data"
   ]
  },
  {
   "cell_type": "code",
   "execution_count": 32,
   "id": "subject-paste",
   "metadata": {
    "execution": {
     "iopub.execute_input": "2021-06-04T19:49:26.605916Z",
     "iopub.status.busy": "2021-06-04T19:49:26.605354Z",
     "iopub.status.idle": "2021-06-04T19:49:26.610012Z",
     "shell.execute_reply": "2021-06-04T19:49:26.610539Z",
     "shell.execute_reply.started": "2021-06-04T19:45:39.801097Z"
    },
    "papermill": {
     "duration": 0.241036,
     "end_time": "2021-06-04T19:49:26.610689",
     "exception": false,
     "start_time": "2021-06-04T19:49:26.369653",
     "status": "completed"
    },
    "tags": []
   },
   "outputs": [],
   "source": [
    "from sklearn.linear_model import LogisticRegression"
   ]
  },
  {
   "cell_type": "code",
   "execution_count": null,
   "id": "widespread-potential",
   "metadata": {
    "execution": {
     "iopub.execute_input": "2021-06-04T19:49:27.063687Z",
     "iopub.status.busy": "2021-06-04T19:49:27.062405Z",
     "iopub.status.idle": "2021-06-04T19:49:27.077985Z",
     "shell.execute_reply": "2021-06-04T19:49:27.078753Z",
     "shell.execute_reply.started": "2021-06-04T19:45:39.807987Z"
    },
    "papermill": {
     "duration": 0.240686,
     "end_time": "2021-06-04T19:49:27.078938",
     "exception": false,
     "start_time": "2021-06-04T19:49:26.838252",
     "status": "completed"
    },
    "tags": []
   },
   "outputs": [],
   "source": [
    "lr = LogisticRegression()\n",
    "lr.fit(X_train,y_train)"
   ]
  },
  {
   "cell_type": "code",
   "execution_count": 34,
   "id": "later-lease",
   "metadata": {
    "execution": {
     "iopub.execute_input": "2021-06-04T19:49:27.580385Z",
     "iopub.status.busy": "2021-06-04T19:49:27.579709Z",
     "iopub.status.idle": "2021-06-04T19:49:27.587070Z",
     "shell.execute_reply": "2021-06-04T19:49:27.588938Z",
     "shell.execute_reply.started": "2021-06-04T19:45:39.829865Z"
    },
    "papermill": {
     "duration": 0.253853,
     "end_time": "2021-06-04T19:49:27.590281",
     "exception": false,
     "start_time": "2021-06-04T19:49:27.336428",
     "status": "completed"
    },
    "tags": []
   },
   "outputs": [],
   "source": [
    "predictions1 = lr.predict(X_test)"
   ]
  },
  {
   "cell_type": "code",
   "execution_count": null,
   "id": "sensitive-traffic",
   "metadata": {
    "execution": {
     "iopub.execute_input": "2021-06-04T19:49:28.045469Z",
     "iopub.status.busy": "2021-06-04T19:49:28.044735Z",
     "iopub.status.idle": "2021-06-04T19:49:28.060255Z",
     "shell.execute_reply": "2021-06-04T19:49:28.059070Z",
     "shell.execute_reply.started": "2021-06-04T19:45:39.841054Z"
    },
    "papermill": {
     "duration": 0.234264,
     "end_time": "2021-06-04T19:49:28.060422",
     "exception": false,
     "start_time": "2021-06-04T19:49:27.826158",
     "status": "completed"
    },
    "tags": []
   },
   "outputs": [],
   "source": [
    "print(classification_report(y_test,predictions1))\n",
    "print('\\n')\n",
    "print(confusion_matrix(y_test,predictions1))"
   ]
  },
  {
   "cell_type": "code",
   "execution_count": null,
   "id": "fresh-tonight",
   "metadata": {
    "execution": {
     "iopub.execute_input": "2021-06-04T19:49:28.446388Z",
     "iopub.status.busy": "2021-06-04T19:49:28.445679Z",
     "iopub.status.idle": "2021-06-04T19:49:28.452351Z",
     "shell.execute_reply": "2021-06-04T19:49:28.452829Z",
     "shell.execute_reply.started": "2021-06-04T19:45:39.869157Z"
    },
    "papermill": {
     "duration": 0.203462,
     "end_time": "2021-06-04T19:49:28.452990",
     "exception": false,
     "start_time": "2021-06-04T19:49:28.249528",
     "status": "completed"
    },
    "tags": []
   },
   "outputs": [],
   "source": [
    "from sklearn.metrics import accuracy_score\n",
    "acclr = accuracy_score(y_test,predictions1)*100\n",
    "acclr"
   ]
  },
  {
   "cell_type": "markdown",
   "id": "french-merchandise",
   "metadata": {
    "papermill": {
     "duration": 0.186926,
     "end_time": "2021-06-04T19:49:28.832586",
     "exception": false,
     "start_time": "2021-06-04T19:49:28.645660",
     "status": "completed"
    },
    "tags": []
   },
   "source": [
    "# Naïve Bayes:"
   ]
  },
  {
   "cell_type": "code",
   "execution_count": null,
   "id": "american-klein",
   "metadata": {
    "execution": {
     "iopub.execute_input": "2021-06-04T19:49:29.221304Z",
     "iopub.status.busy": "2021-06-04T19:49:29.220605Z",
     "iopub.status.idle": "2021-06-04T19:49:29.232203Z",
     "shell.execute_reply": "2021-06-04T19:49:29.232754Z",
     "shell.execute_reply.started": "2021-06-04T19:45:39.888075Z"
    },
    "papermill": {
     "duration": 0.208988,
     "end_time": "2021-06-04T19:49:29.232914",
     "exception": false,
     "start_time": "2021-06-04T19:49:29.023926",
     "status": "completed"
    },
    "tags": []
   },
   "outputs": [],
   "source": [
    "from sklearn.naive_bayes import GaussianNB\n",
    "gnb = GaussianNB()\n",
    "gnb.fit(X_train, y_train)"
   ]
  },
  {
   "cell_type": "code",
   "execution_count": null,
   "id": "operating-timing",
   "metadata": {
    "execution": {
     "iopub.execute_input": "2021-06-04T19:49:29.872915Z",
     "iopub.status.busy": "2021-06-04T19:49:29.872157Z",
     "iopub.status.idle": "2021-06-04T19:49:29.875304Z",
     "shell.execute_reply": "2021-06-04T19:49:29.875877Z",
     "shell.execute_reply.started": "2021-06-04T19:45:39.911881Z"
    },
    "papermill": {
     "duration": 0.323606,
     "end_time": "2021-06-04T19:49:29.876071",
     "exception": false,
     "start_time": "2021-06-04T19:49:29.552465",
     "status": "completed"
    },
    "tags": []
   },
   "outputs": [],
   "source": [
    "gnb"
   ]
  },
  {
   "cell_type": "code",
   "execution_count": null,
   "id": "fantastic-delaware",
   "metadata": {
    "execution": {
     "iopub.execute_input": "2021-06-04T19:49:30.461063Z",
     "iopub.status.busy": "2021-06-04T19:49:30.460173Z",
     "iopub.status.idle": "2021-06-04T19:49:30.469610Z",
     "shell.execute_reply": "2021-06-04T19:49:30.470131Z",
     "shell.execute_reply.started": "2021-06-04T19:45:39.922773Z"
    },
    "papermill": {
     "duration": 0.264029,
     "end_time": "2021-06-04T19:49:30.470314",
     "exception": false,
     "start_time": "2021-06-04T19:49:30.206285",
     "status": "completed"
    },
    "tags": []
   },
   "outputs": [],
   "source": [
    "predictions2 = gnb.predict(X_test)\n",
    "print(classification_report(y_test,predictions2))\n",
    "print('\\n')\n",
    "print(confusion_matrix(y_test,predictions2))"
   ]
  },
  {
   "cell_type": "code",
   "execution_count": null,
   "id": "alternative-ottawa",
   "metadata": {
    "execution": {
     "iopub.execute_input": "2021-06-04T19:49:30.941405Z",
     "iopub.status.busy": "2021-06-04T19:49:30.940375Z",
     "iopub.status.idle": "2021-06-04T19:49:30.947909Z",
     "shell.execute_reply": "2021-06-04T19:49:30.947304Z",
     "shell.execute_reply.started": "2021-06-04T19:45:39.949670Z"
    },
    "papermill": {
     "duration": 0.229591,
     "end_time": "2021-06-04T19:49:30.948104",
     "exception": false,
     "start_time": "2021-06-04T19:49:30.718513",
     "status": "completed"
    },
    "tags": []
   },
   "outputs": [],
   "source": [
    "from sklearn.metrics import accuracy_score\n",
    "accgnb = accuracy_score(y_test,predictions2)*100\n",
    "accgnb"
   ]
  },
  {
   "cell_type": "markdown",
   "id": "essential-balloon",
   "metadata": {
    "papermill": {
     "duration": 0.233333,
     "end_time": "2021-06-04T19:49:31.374947",
     "exception": false,
     "start_time": "2021-06-04T19:49:31.141614",
     "status": "completed"
    },
    "tags": []
   },
   "source": [
    "# Stochastic Gradient Descent:"
   ]
  },
  {
   "cell_type": "code",
   "execution_count": null,
   "id": "about-prophet",
   "metadata": {
    "execution": {
     "iopub.execute_input": "2021-06-04T19:49:31.779370Z",
     "iopub.status.busy": "2021-06-04T19:49:31.778534Z",
     "iopub.status.idle": "2021-06-04T19:49:31.781713Z",
     "shell.execute_reply": "2021-06-04T19:49:31.782186Z",
     "shell.execute_reply.started": "2021-06-04T19:45:39.960453Z"
    },
    "papermill": {
     "duration": 0.213885,
     "end_time": "2021-06-04T19:49:31.782342",
     "exception": false,
     "start_time": "2021-06-04T19:49:31.568457",
     "status": "completed"
    },
    "tags": []
   },
   "outputs": [],
   "source": [
    "from sklearn.linear_model import SGDClassifier\n",
    "sgd = SGDClassifier()\n",
    "sgd.fit(X_train,y_train)\n",
    "sgd"
   ]
  },
  {
   "cell_type": "code",
   "execution_count": null,
   "id": "peripheral-knowing",
   "metadata": {
    "execution": {
     "iopub.execute_input": "2021-06-04T19:49:32.173394Z",
     "iopub.status.busy": "2021-06-04T19:49:32.172701Z",
     "iopub.status.idle": "2021-06-04T19:49:32.181424Z",
     "shell.execute_reply": "2021-06-04T19:49:32.181895Z",
     "shell.execute_reply.started": "2021-06-04T19:45:39.984681Z"
    },
    "papermill": {
     "duration": 0.208038,
     "end_time": "2021-06-04T19:49:32.182103",
     "exception": false,
     "start_time": "2021-06-04T19:49:31.974065",
     "status": "completed"
    },
    "tags": []
   },
   "outputs": [],
   "source": [
    "predictions3 = sgd.predict(X_test)\n",
    "print(classification_report(y_test,predictions3))\n",
    "print('\\n')\n",
    "print(confusion_matrix(y_test,predictions3))"
   ]
  },
  {
   "cell_type": "markdown",
   "id": "placed-wages",
   "metadata": {
    "papermill": {
     "duration": 0.192381,
     "end_time": "2021-06-04T19:49:32.750806",
     "exception": false,
     "start_time": "2021-06-04T19:49:32.558425",
     "status": "completed"
    },
    "tags": []
   },
   "source": [
    "# K-Nearest Neighbours:"
   ]
  },
  {
   "cell_type": "code",
   "execution_count": null,
   "id": "acoustic-internship",
   "metadata": {
    "execution": {
     "iopub.execute_input": "2021-06-04T19:49:33.135953Z",
     "iopub.status.busy": "2021-06-04T19:49:33.135362Z",
     "iopub.status.idle": "2021-06-04T19:49:33.214088Z",
     "shell.execute_reply": "2021-06-04T19:49:33.213533Z",
     "shell.execute_reply.started": "2021-06-04T19:45:40.008689Z"
    },
    "papermill": {
     "duration": 0.272028,
     "end_time": "2021-06-04T19:49:33.214224",
     "exception": false,
     "start_time": "2021-06-04T19:49:32.942196",
     "status": "completed"
    },
    "tags": []
   },
   "outputs": [],
   "source": [
    "from sklearn.neighbors import KNeighborsClassifier\n",
    "knn = KNeighborsClassifier(n_neighbors = 15)\n",
    "knn.fit(X_train,y_train)"
   ]
  },
  {
   "cell_type": "code",
   "execution_count": null,
   "id": "defensive-series",
   "metadata": {
    "execution": {
     "iopub.execute_input": "2021-06-04T19:49:33.611159Z",
     "iopub.status.busy": "2021-06-04T19:49:33.610157Z",
     "iopub.status.idle": "2021-06-04T19:49:33.622037Z",
     "shell.execute_reply": "2021-06-04T19:49:33.622659Z",
     "shell.execute_reply.started": "2021-06-04T19:45:40.098375Z"
    },
    "papermill": {
     "duration": 0.21237,
     "end_time": "2021-06-04T19:49:33.622871",
     "exception": false,
     "start_time": "2021-06-04T19:49:33.410501",
     "status": "completed"
    },
    "tags": []
   },
   "outputs": [],
   "source": [
    "predictions4 = knn.predict(X_test)\n",
    "print(classification_report(y_test,predictions4))\n",
    "print('\\n')\n",
    "print(confusion_matrix(y_test,predictions4))"
   ]
  },
  {
   "cell_type": "code",
   "execution_count": null,
   "id": "molecular-energy",
   "metadata": {
    "execution": {
     "iopub.execute_input": "2021-06-04T19:49:34.020631Z",
     "iopub.status.busy": "2021-06-04T19:49:34.020004Z",
     "iopub.status.idle": "2021-06-04T19:49:34.022720Z",
     "shell.execute_reply": "2021-06-04T19:49:34.023291Z",
     "shell.execute_reply.started": "2021-06-04T19:45:40.116253Z"
    },
    "papermill": {
     "duration": 0.205237,
     "end_time": "2021-06-04T19:49:34.023463",
     "exception": false,
     "start_time": "2021-06-04T19:49:33.818226",
     "status": "completed"
    },
    "tags": []
   },
   "outputs": [],
   "source": [
    "from sklearn.metrics import accuracy_score\n",
    "accknn = accuracy_score(y_test,predictions4)*100\n",
    "accknn"
   ]
  },
  {
   "cell_type": "markdown",
   "id": "intensive-sterling",
   "metadata": {
    "papermill": {
     "duration": 0.199597,
     "end_time": "2021-06-04T19:49:34.419813",
     "exception": false,
     "start_time": "2021-06-04T19:49:34.220216",
     "status": "completed"
    },
    "tags": []
   },
   "source": [
    "# Descision Tree"
   ]
  },
  {
   "cell_type": "code",
   "execution_count": null,
   "id": "lightweight-therapy",
   "metadata": {
    "execution": {
     "iopub.execute_input": "2021-06-04T19:49:34.819383Z",
     "iopub.status.busy": "2021-06-04T19:49:34.818747Z",
     "iopub.status.idle": "2021-06-04T19:49:34.862316Z",
     "shell.execute_reply": "2021-06-04T19:49:34.861818Z",
     "shell.execute_reply.started": "2021-06-04T19:45:40.125942Z"
    },
    "papermill": {
     "duration": 0.245147,
     "end_time": "2021-06-04T19:49:34.862483",
     "exception": false,
     "start_time": "2021-06-04T19:49:34.617336",
     "status": "completed"
    },
    "tags": []
   },
   "outputs": [],
   "source": [
    "from sklearn.tree import DecisionTreeClassifier\n",
    "dtree = DecisionTreeClassifier()\n",
    "dtree.fit(X_train,y_train)"
   ]
  },
  {
   "cell_type": "code",
   "execution_count": null,
   "id": "entire-sculpture",
   "metadata": {
    "execution": {
     "iopub.execute_input": "2021-06-04T19:49:35.259835Z",
     "iopub.status.busy": "2021-06-04T19:49:35.258741Z",
     "iopub.status.idle": "2021-06-04T19:49:35.267795Z",
     "shell.execute_reply": "2021-06-04T19:49:35.267291Z",
     "shell.execute_reply.started": "2021-06-04T19:45:40.176609Z"
    },
    "papermill": {
     "duration": 0.208406,
     "end_time": "2021-06-04T19:49:35.267932",
     "exception": false,
     "start_time": "2021-06-04T19:49:35.059526",
     "status": "completed"
    },
    "tags": []
   },
   "outputs": [],
   "source": [
    "predictions5 = dtree.predict(X_test)\n",
    "print(classification_report(y_test,predictions5))\n",
    "print('\\n')\n",
    "print(confusion_matrix(y_test,predictions5))"
   ]
  },
  {
   "cell_type": "code",
   "execution_count": null,
   "id": "frozen-weapon",
   "metadata": {
    "execution": {
     "iopub.execute_input": "2021-06-04T19:49:35.653636Z",
     "iopub.status.busy": "2021-06-04T19:49:35.652911Z",
     "iopub.status.idle": "2021-06-04T19:49:35.659046Z",
     "shell.execute_reply": "2021-06-04T19:49:35.659551Z",
     "shell.execute_reply.started": "2021-06-04T19:45:40.193822Z"
    },
    "papermill": {
     "duration": 0.201895,
     "end_time": "2021-06-04T19:49:35.659716",
     "exception": false,
     "start_time": "2021-06-04T19:49:35.457821",
     "status": "completed"
    },
    "tags": []
   },
   "outputs": [],
   "source": [
    "from sklearn.metrics import accuracy_score\n",
    "accdtree = accuracy_score(y_test,predictions5)*100\n",
    "accdtree"
   ]
  },
  {
   "cell_type": "markdown",
   "id": "average-telephone",
   "metadata": {
    "papermill": {
     "duration": 0.194889,
     "end_time": "2021-06-04T19:49:36.047735",
     "exception": false,
     "start_time": "2021-06-04T19:49:35.852846",
     "status": "completed"
    },
    "tags": []
   },
   "source": [
    "# Random Forest:"
   ]
  },
  {
   "cell_type": "code",
   "execution_count": null,
   "id": "laughing-officer",
   "metadata": {
    "execution": {
     "iopub.execute_input": "2021-06-04T19:49:36.435476Z",
     "iopub.status.busy": "2021-06-04T19:49:36.434872Z",
     "iopub.status.idle": "2021-06-04T19:49:36.809823Z",
     "shell.execute_reply": "2021-06-04T19:49:36.809287Z",
     "shell.execute_reply.started": "2021-06-04T19:45:40.204406Z"
    },
    "papermill": {
     "duration": 0.567869,
     "end_time": "2021-06-04T19:49:36.809946",
     "exception": false,
     "start_time": "2021-06-04T19:49:36.242077",
     "status": "completed"
    },
    "tags": []
   },
   "outputs": [],
   "source": [
    "from sklearn.ensemble import RandomForestClassifier\n",
    "rfc = RandomForestClassifier(n_estimators=200)\n",
    "rfc.fit(X_train,y_train)"
   ]
  },
  {
   "cell_type": "code",
   "execution_count": null,
   "id": "previous-privacy",
   "metadata": {
    "execution": {
     "iopub.execute_input": "2021-06-04T19:49:37.215550Z",
     "iopub.status.busy": "2021-06-04T19:49:37.214845Z",
     "iopub.status.idle": "2021-06-04T19:49:37.248078Z",
     "shell.execute_reply": "2021-06-04T19:49:37.247198Z",
     "shell.execute_reply.started": "2021-06-04T19:45:40.596930Z"
    },
    "papermill": {
     "duration": 0.243757,
     "end_time": "2021-06-04T19:49:37.248267",
     "exception": false,
     "start_time": "2021-06-04T19:49:37.004510",
     "status": "completed"
    },
    "tags": []
   },
   "outputs": [],
   "source": [
    "predictions6 = rfc.predict(X_test)\n",
    "print(classification_report(y_test,predictions6))\n",
    "print('\\n')\n",
    "print(confusion_matrix(y_test,predictions6))"
   ]
  },
  {
   "cell_type": "code",
   "execution_count": null,
   "id": "extra-louis",
   "metadata": {
    "execution": {
     "iopub.execute_input": "2021-06-04T19:49:37.812232Z",
     "iopub.status.busy": "2021-06-04T19:49:37.811383Z",
     "iopub.status.idle": "2021-06-04T19:49:37.815156Z",
     "shell.execute_reply": "2021-06-04T19:49:37.814673Z",
     "shell.execute_reply.started": "2021-06-04T19:45:40.639094Z"
    },
    "papermill": {
     "duration": 0.20619,
     "end_time": "2021-06-04T19:49:37.815291",
     "exception": false,
     "start_time": "2021-06-04T19:49:37.609101",
     "status": "completed"
    },
    "tags": []
   },
   "outputs": [],
   "source": [
    "from sklearn.metrics import accuracy_score\n",
    "accrfc = accuracy_score(y_test,predictions6)*100\n",
    "accrfc"
   ]
  },
  {
   "cell_type": "markdown",
   "id": "actual-congress",
   "metadata": {
    "papermill": {
     "duration": 0.195174,
     "end_time": "2021-06-04T19:49:38.202908",
     "exception": false,
     "start_time": "2021-06-04T19:49:38.007734",
     "status": "completed"
    },
    "tags": []
   },
   "source": [
    "#  Support Vector Machine:"
   ]
  },
  {
   "cell_type": "code",
   "execution_count": null,
   "id": "recorded-gothic",
   "metadata": {
    "execution": {
     "iopub.execute_input": "2021-06-04T19:49:38.610565Z",
     "iopub.status.busy": "2021-06-04T19:49:38.609565Z",
     "iopub.status.idle": "2021-06-04T19:49:38.616534Z",
     "shell.execute_reply": "2021-06-04T19:49:38.616073Z",
     "shell.execute_reply.started": "2021-06-04T19:45:40.649085Z"
    },
    "papermill": {
     "duration": 0.213567,
     "end_time": "2021-06-04T19:49:38.616662",
     "exception": false,
     "start_time": "2021-06-04T19:49:38.403095",
     "status": "completed"
    },
    "tags": []
   },
   "outputs": [],
   "source": [
    "from sklearn.svm import SVC\n",
    "svc_model = SVC()\n",
    "svc_model.fit(X_train,y_train)"
   ]
  },
  {
   "cell_type": "code",
   "execution_count": null,
   "id": "variable-channel",
   "metadata": {
    "execution": {
     "iopub.execute_input": "2021-06-04T19:49:39.017825Z",
     "iopub.status.busy": "2021-06-04T19:49:39.017213Z",
     "iopub.status.idle": "2021-06-04T19:49:39.026047Z",
     "shell.execute_reply": "2021-06-04T19:49:39.026550Z",
     "shell.execute_reply.started": "2021-06-04T19:45:40.662306Z"
    },
    "papermill": {
     "duration": 0.211346,
     "end_time": "2021-06-04T19:49:39.026702",
     "exception": false,
     "start_time": "2021-06-04T19:49:38.815356",
     "status": "completed"
    },
    "tags": []
   },
   "outputs": [],
   "source": [
    "predictions7 = svc_model.predict(X_test)\n",
    "print(classification_report(y_test,predictions7))\n",
    "print('\\n')\n",
    "print(confusion_matrix(y_test,predictions7))"
   ]
  },
  {
   "cell_type": "code",
   "execution_count": null,
   "id": "tracked-occurrence",
   "metadata": {
    "execution": {
     "iopub.execute_input": "2021-06-04T19:49:39.423055Z",
     "iopub.status.busy": "2021-06-04T19:49:39.422332Z",
     "iopub.status.idle": "2021-06-04T19:49:39.424896Z",
     "shell.execute_reply": "2021-06-04T19:49:39.425366Z",
     "shell.execute_reply.started": "2021-06-04T19:45:40.677771Z"
    },
    "papermill": {
     "duration": 0.203516,
     "end_time": "2021-06-04T19:49:39.425534",
     "exception": false,
     "start_time": "2021-06-04T19:49:39.222018",
     "status": "completed"
    },
    "tags": []
   },
   "outputs": [],
   "source": [
    "from sklearn.metrics import accuracy_score\n",
    "accSVM = accuracy_score(y_test,predictions7)*100\n",
    "accSVM"
   ]
  },
  {
   "cell_type": "code",
   "execution_count": null,
   "id": "colored-inquiry",
   "metadata": {
    "execution": {
     "iopub.execute_input": "2021-06-04T19:49:39.829309Z",
     "iopub.status.busy": "2021-06-04T19:49:39.828622Z",
     "iopub.status.idle": "2021-06-04T19:49:42.445308Z",
     "shell.execute_reply": "2021-06-04T19:49:42.445774Z",
     "shell.execute_reply.started": "2021-06-04T19:45:40.687613Z"
    },
    "papermill": {
     "duration": 2.822812,
     "end_time": "2021-06-04T19:49:42.445931",
     "exception": false,
     "start_time": "2021-06-04T19:49:39.623119",
     "status": "completed"
    },
    "tags": []
   },
   "outputs": [],
   "source": [
    "db.hist(edgecolor='black', linewidth=1.2)\n",
    "fig=plt.gcf()\n",
    "fig.set_size_inches(15,15)\n",
    "plt.show()"
   ]
  },
  {
   "cell_type": "code",
   "execution_count": null,
   "id": "acquired-alaska",
   "metadata": {
    "execution": {
     "iopub.execute_input": "2021-06-04T19:49:42.889221Z",
     "iopub.status.busy": "2021-06-04T19:49:42.886837Z",
     "iopub.status.idle": "2021-06-04T19:49:43.456942Z",
     "shell.execute_reply": "2021-06-04T19:49:43.456344Z",
     "shell.execute_reply.started": "2021-06-04T19:45:43.344609Z"
    },
    "papermill": {
     "duration": 0.810651,
     "end_time": "2021-06-04T19:49:43.457091",
     "exception": false,
     "start_time": "2021-06-04T19:49:42.646440",
     "status": "completed"
    },
    "tags": []
   },
   "outputs": [],
   "source": [
    "plt.figure(figsize=(15,10))\n",
    "plt.subplot(2,2,1)\n",
    "sns.violinplot(x='fraud_reported',y='age',data=db)\n",
    "plt.subplot(2,2,2)\n",
    "sns.violinplot(x='fraud_reported',y='incident_hour_of_the_day',data=db)\n",
    "plt.subplot(2,2,3)\n",
    "sns.violinplot(x='fraud_reported',y='age',data=db)\n",
    "plt.subplot(2,2,4)\n",
    "sns.violinplot(x='fraud_reported',y='incident_hour_of_the_day',data=db)"
   ]
  },
  {
   "cell_type": "code",
   "execution_count": null,
   "id": "earned-chaos",
   "metadata": {
    "execution": {
     "iopub.execute_input": "2021-06-04T19:49:43.880244Z",
     "iopub.status.busy": "2021-06-04T19:49:43.879607Z",
     "iopub.status.idle": "2021-06-04T19:49:45.708848Z",
     "shell.execute_reply": "2021-06-04T19:49:45.709576Z",
     "shell.execute_reply.started": "2021-06-04T19:45:43.960342Z"
    },
    "papermill": {
     "duration": 2.039624,
     "end_time": "2021-06-04T19:49:45.709797",
     "exception": false,
     "start_time": "2021-06-04T19:49:43.670173",
     "status": "completed"
    },
    "tags": []
   },
   "outputs": [],
   "source": [
    "plt.figure(figsize=(20,20)) \n",
    "sns.heatmap(db.corr(),annot=True,cmap='cubehelix_r') #draws  heatmap with input as the correlation matrix calculted by(iris.corr())\n",
    "plt.show()"
   ]
  },
  {
   "cell_type": "markdown",
   "id": "educated-solution",
   "metadata": {
    "papermill": {
     "duration": 0.218513,
     "end_time": "2021-06-04T19:49:46.161553",
     "exception": false,
     "start_time": "2021-06-04T19:49:45.943040",
     "status": "completed"
    },
    "tags": []
   },
   "source": [
    "# Splitting The Data into Training And Testing Dataset"
   ]
  },
  {
   "cell_type": "code",
   "execution_count": null,
   "id": "strange-active",
   "metadata": {
    "execution": {
     "iopub.execute_input": "2021-06-04T19:49:46.598214Z",
     "iopub.status.busy": "2021-06-04T19:49:46.597561Z",
     "iopub.status.idle": "2021-06-04T19:49:46.603746Z",
     "shell.execute_reply": "2021-06-04T19:49:46.603246Z",
     "shell.execute_reply.started": "2021-06-04T19:46:49.211052Z"
    },
    "papermill": {
     "duration": 0.225406,
     "end_time": "2021-06-04T19:49:46.603877",
     "exception": false,
     "start_time": "2021-06-04T19:49:46.378471",
     "status": "completed"
    },
    "tags": []
   },
   "outputs": [],
   "source": [
    "# in this our main data is split into train and test\n",
    "train, test = train_test_split(db, test_size = 0.3)\n",
    "# the attribute test_size=0.3 splits the data into 70% and 30% ratio. train=70% and test=30%\n",
    "print(train.shape)\n",
    "print(test.shape)"
   ]
  }
 ],
 "metadata": {
  "kernelspec": {
   "display_name": "base",
   "language": "python",
   "name": "python3"
  },
  "language_info": {
   "codemirror_mode": {
    "name": "ipython",
    "version": 3
   },
   "file_extension": ".py",
   "mimetype": "text/x-python",
   "name": "python",
   "nbconvert_exporter": "python",
   "pygments_lexer": "ipython3",
   "version": "3.11.9"
  },
  "papermill": {
   "default_parameters": {},
   "duration": 159.334249,
   "end_time": "2021-06-04T19:49:49.572860",
   "environment_variables": {},
   "exception": null,
   "input_path": "__notebook__.ipynb",
   "output_path": "__notebook__.ipynb",
   "parameters": {},
   "start_time": "2021-06-04T19:47:10.238611",
   "version": "2.3.3"
  }
 },
 "nbformat": 4,
 "nbformat_minor": 5
}
