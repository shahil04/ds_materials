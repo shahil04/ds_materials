{
 "cells": [
  {
   "cell_type": "markdown",
   "metadata": {},
   "source": [
    "https://www.kaggle.com/code/pavansanagapati/ensemble-learning-techniques-tutorial\n",
    "Boosting\n",
    "Introduction to Boosting\n",
    "https://www.kaggle.com/code/prashant111/bagging-vs-boosting \n",
    "Adaptive Boosting\n",
    "https://www.kaggle.com/discussions/accomplishments/485459#2708350 \n",
    "Gradient Boosting\n",
    "\n",
    "XG Boosting\n",
    "\n",
    "Assignment\n",
    "\n",
    " Support Vector Machine\n",
    "https://www.kaggle.com/code/faressayah/support-vector-machine-pca-tutorial-for-beginner\n",
    "\n",
    "https://www.kaggle.com/code/egazakharenko/support-vector-machines-svm-from-scratch\n",
    "Introduction to SVM\n",
    "\n",
    "Support Vectors and Hyperplane\n",
    "\n",
    "Hard and Soft Margin\n",
    "\n",
    "Polynomial and Radial Basis Kernel Function\n",
    "\n",
    "SVM for multi-class Classification\n",
    "\n",
    "SVM for Regression\n",
    "https://www.kaggle.com/code/prashant111/svm-classifier-tutorial\n",
    "\n",
    "=====================\n",
    " Unsupervised Learning - CUSTOMER PARTTERN MATCHING\n",
    "https://www.youtube.com/watch?v=afPJeQuVeuY \n",
    "Understand Customers with KMeans Clustering in Python\n",
    "Introduction to Clustering\n",
    "https://www.datacamp.com/blog/introduction-to-unsupervised-learning\n",
    "K-Means Clustering\n",
    "\n",
    "Principal Component Analysis\n",
    "\n",
    "Assignment\n",
    "https://youtu.be/JtgSrB5J0_w?si=1mnGkPv50hfyBtLn\n",
    "================\n",
    "\n",
    " CAPSTONE PROJECT - CREDIT CARD FRAUD DETECTION\n",
    "https://www.kaggle.com/datasets/mlg-ulb/creditcardfraud/discussion/277570\n",
    "https://data-flair.training/blogs/credit-card-fraud-detection-python-machine-learning/\n",
    "==========================\n",
    "Decision Tree and Random Forest - HEART DISEASE PREDICTION\n",
    "https://www.kaggle.com/code/nayeem091/a-guide-to-any-classification-problem\n",
    "Introduction to Decision Tree\n",
    "https://www.kaggle.com/code/prashant111/decision-tree-classifier-tutorial\n",
    "Gini Index and Entropy\n",
    "\n",
    "Advantage and Disadvantage\n",
    "\n",
    "Pruning Techniques\n",
    "\n",
    "Decision Tree for Regression\n",
    "\n",
    "Introduction to Random Forest\n",
    "https://www.kaggle.com/code/prashant111/random-forest-classifier-tutorial"
   ]
  },
  {
   "cell_type": "markdown",
   "metadata": {},
   "source": [
    "http://www.lac.inpe.br/~rafael.santos/Docs/CAP394/WholeStory-Iris.html"
   ]
  },
  {
   "cell_type": "markdown",
   "metadata": {},
   "source": [
    "https://wandb.ai/mostafaibrahim17/ml-articles/reports/An-Introduction-to-the-F1-Score-in-Machine-Learning--Vmlldzo2OTY0Mzg1#:~:text=Spam%20Filtering,the%20model's%20precision%20and%20recall."
   ]
  }
 ],
 "metadata": {
  "kernelspec": {
   "display_name": "base",
   "language": "python",
   "name": "python3"
  },
  "language_info": {
   "codemirror_mode": {
    "name": "ipython",
    "version": 3
   },
   "file_extension": ".py",
   "mimetype": "text/x-python",
   "name": "python",
   "nbconvert_exporter": "python",
   "pygments_lexer": "ipython3",
   "version": "3.11.9"
  }
 },
 "nbformat": 4,
 "nbformat_minor": 2
}
