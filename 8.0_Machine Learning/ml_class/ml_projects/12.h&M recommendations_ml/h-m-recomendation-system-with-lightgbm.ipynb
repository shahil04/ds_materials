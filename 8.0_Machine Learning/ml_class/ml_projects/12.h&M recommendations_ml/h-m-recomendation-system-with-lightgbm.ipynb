{
 "cells": [
  {
   "cell_type": "code",
   "execution_count": 1,
   "id": "da1ed68b",
   "metadata": {
    "_cell_guid": "b1076dfc-b9ad-4769-8c92-a6c4dae69d19",
    "_uuid": "8f2839f25d086af736a60e9eeb907d3b93b6e0e5",
    "execution": {
     "iopub.execute_input": "2025-08-21T15:13:28.926038Z",
     "iopub.status.busy": "2025-08-21T15:13:28.925636Z",
     "iopub.status.idle": "2025-08-21T15:13:31.079180Z",
     "shell.execute_reply": "2025-08-21T15:13:31.078087Z"
    },
    "papermill": {
     "duration": 2.162836,
     "end_time": "2025-08-21T15:13:31.081138",
     "exception": false,
     "start_time": "2025-08-21T15:13:28.918302",
     "status": "completed"
    },
    "tags": []
   },
   "outputs": [],
   "source": [
    "# This Python 3 environment comes with many helpful analytics libraries installed\n",
    "# It is defined by the kaggle/python Docker image: https://github.com/kaggle/docker-python\n",
    "# For example, here's several helpful packages to load\n",
    "\n",
    "import numpy as np # linear algebra\n",
    "import pandas as pd # data processing, CSV file I/O (e.g. pd.read_csv)\n",
    "\n",
    "# Input data files are available in the read-only \"../input/\" directory\n",
    "# For example, running this (by clicking run or pressing Shift+Enter) will list all files under the input directory\n",
    "\n",
    "import os\n",
    "# for dirname, _, filenames in os.walk('/kaggle/input'):\n",
    "#     for filename in filenames:\n",
    "#         print(os.path.join(dirname, filename))\n",
    "\n",
    "# You can write up to 20GB to the current directory (/kaggle/working/) that gets preserved as output when you create a version using \"Save & Run All\" \n",
    "# You can also write temporary files to /kaggle/temp/, but they won't be saved outside of the current session"
   ]
  },
  {
   "cell_type": "code",
   "execution_count": 2,
   "id": "5a84c286",
   "metadata": {
    "execution": {
     "iopub.execute_input": "2025-08-21T15:13:31.093980Z",
     "iopub.status.busy": "2025-08-21T15:13:31.093410Z",
     "iopub.status.idle": "2025-08-21T15:15:06.091362Z",
     "shell.execute_reply": "2025-08-21T15:15:06.090011Z"
    },
    "papermill": {
     "duration": 95.006519,
     "end_time": "2025-08-21T15:15:06.093323",
     "exception": false,
     "start_time": "2025-08-21T15:13:31.086804",
     "status": "completed"
    },
    "tags": []
   },
   "outputs": [],
   "source": [
    "transections = \"/kaggle/input/h-and-m-personalized-fashion-recommendations/transactions_train.csv\"\n",
    "articals = \"/kaggle/input/h-and-m-personalized-fashion-recommendations/articles.csv\"\n",
    "sample_submission = \"/kaggle/input/h-and-m-personalized-fashion-recommendations/sample_submission.csv\"\n",
    "customers = \"/kaggle/input/h-and-m-personalized-fashion-recommendations/customers.csv\"\n",
    "\n",
    "transactions_df = pd.read_csv(transections)\n",
    "articles_df = pd.read_csv(articals)\n",
    "customers_df = pd.read_csv(customers)"
   ]
  },
  {
   "cell_type": "code",
   "execution_count": 3,
   "id": "7889bb52",
   "metadata": {
    "execution": {
     "iopub.execute_input": "2025-08-21T15:15:06.105718Z",
     "iopub.status.busy": "2025-08-21T15:15:06.105352Z",
     "iopub.status.idle": "2025-08-21T15:15:06.139634Z",
     "shell.execute_reply": "2025-08-21T15:15:06.138488Z"
    },
    "papermill": {
     "duration": 0.04239,
     "end_time": "2025-08-21T15:15:06.141419",
     "exception": false,
     "start_time": "2025-08-21T15:15:06.099029",
     "status": "completed"
    },
    "tags": []
   },
   "outputs": [
    {
     "name": "stdout",
     "output_type": "stream",
     "text": [
      "        t_dat                                        customer_id  article_id  \\\n",
      "0  2018-09-20  000058a12d5b43e67d225668fa1f8d618c13dc232df0ca...   663713001   \n",
      "1  2018-09-20  000058a12d5b43e67d225668fa1f8d618c13dc232df0ca...   541518023   \n",
      "2  2018-09-20  00007d2de826758b65a93dd24ce629ed66842531df6699...   505221004   \n",
      "3  2018-09-20  00007d2de826758b65a93dd24ce629ed66842531df6699...   685687003   \n",
      "4  2018-09-20  00007d2de826758b65a93dd24ce629ed66842531df6699...   685687004   \n",
      "\n",
      "      price  sales_channel_id  \n",
      "0  0.050831                 2  \n",
      "1  0.030492                 2  \n",
      "2  0.015237                 2  \n",
      "3  0.016932                 2  \n",
      "4  0.016932                 2  \n",
      "   article_id  product_code          prod_name  product_type_no  \\\n",
      "0   108775015        108775          Strap top              253   \n",
      "1   108775044        108775          Strap top              253   \n",
      "2   108775051        108775      Strap top (1)              253   \n",
      "3   110065001        110065  OP T-shirt (Idro)              306   \n",
      "4   110065002        110065  OP T-shirt (Idro)              306   \n",
      "\n",
      "  product_type_name  product_group_name  graphical_appearance_no  \\\n",
      "0          Vest top  Garment Upper body                  1010016   \n",
      "1          Vest top  Garment Upper body                  1010016   \n",
      "2          Vest top  Garment Upper body                  1010017   \n",
      "3               Bra           Underwear                  1010016   \n",
      "4               Bra           Underwear                  1010016   \n",
      "\n",
      "  graphical_appearance_name  colour_group_code colour_group_name  ...  \\\n",
      "0                     Solid                  9             Black  ...   \n",
      "1                     Solid                 10             White  ...   \n",
      "2                    Stripe                 11         Off White  ...   \n",
      "3                     Solid                  9             Black  ...   \n",
      "4                     Solid                 10             White  ...   \n",
      "\n",
      "   department_name index_code        index_name index_group_no  \\\n",
      "0     Jersey Basic          A        Ladieswear              1   \n",
      "1     Jersey Basic          A        Ladieswear              1   \n",
      "2     Jersey Basic          A        Ladieswear              1   \n",
      "3   Clean Lingerie          B  Lingeries/Tights              1   \n",
      "4   Clean Lingerie          B  Lingeries/Tights              1   \n",
      "\n",
      "   index_group_name section_no            section_name garment_group_no  \\\n",
      "0        Ladieswear         16  Womens Everyday Basics             1002   \n",
      "1        Ladieswear         16  Womens Everyday Basics             1002   \n",
      "2        Ladieswear         16  Womens Everyday Basics             1002   \n",
      "3        Ladieswear         61         Womens Lingerie             1017   \n",
      "4        Ladieswear         61         Womens Lingerie             1017   \n",
      "\n",
      "   garment_group_name                                        detail_desc  \n",
      "0        Jersey Basic            Jersey top with narrow shoulder straps.  \n",
      "1        Jersey Basic            Jersey top with narrow shoulder straps.  \n",
      "2        Jersey Basic            Jersey top with narrow shoulder straps.  \n",
      "3   Under-, Nightwear  Microfibre T-shirt bra with underwired, moulde...  \n",
      "4   Under-, Nightwear  Microfibre T-shirt bra with underwired, moulde...  \n",
      "\n",
      "[5 rows x 25 columns]\n",
      "                                         customer_id   FN  Active  \\\n",
      "0  00000dbacae5abe5e23885899a1fa44253a17956c6d1c3...  NaN     NaN   \n",
      "1  0000423b00ade91418cceaf3b26c6af3dd342b51fd051e...  NaN     NaN   \n",
      "2  000058a12d5b43e67d225668fa1f8d618c13dc232df0ca...  NaN     NaN   \n",
      "3  00005ca1c9ed5f5146b52ac8639a40ca9d57aeff4d1bd2...  NaN     NaN   \n",
      "4  00006413d8573cd20ed7128e53b7b13819fe5cfc2d801f...  1.0     1.0   \n",
      "\n",
      "  club_member_status fashion_news_frequency   age  \\\n",
      "0             ACTIVE                   NONE  49.0   \n",
      "1             ACTIVE                   NONE  25.0   \n",
      "2             ACTIVE                   NONE  24.0   \n",
      "3             ACTIVE                   NONE  54.0   \n",
      "4             ACTIVE              Regularly  52.0   \n",
      "\n",
      "                                         postal_code  \n",
      "0  52043ee2162cf5aa7ee79974281641c6f11a68d276429a...  \n",
      "1  2973abc54daa8a5f8ccfe9362140c63247c5eee03f1d93...  \n",
      "2  64f17e6a330a85798e4998f62d0930d14db8db1c054af6...  \n",
      "3  5d36574f52495e81f019b680c843c443bd343d5ca5b1c2...  \n",
      "4  25fa5ddee9aac01b35208d01736e57942317d756b32ddd...  \n"
     ]
    },
    {
     "name": "stderr",
     "output_type": "stream",
     "text": [
      "/usr/local/lib/python3.11/dist-packages/pandas/io/formats/format.py:1458: RuntimeWarning: invalid value encountered in greater\n",
      "  has_large_values = (abs_vals > 1e6).any()\n",
      "/usr/local/lib/python3.11/dist-packages/pandas/io/formats/format.py:1459: RuntimeWarning: invalid value encountered in less\n",
      "  has_small_values = ((abs_vals < 10 ** (-self.digits)) & (abs_vals > 0)).any()\n",
      "/usr/local/lib/python3.11/dist-packages/pandas/io/formats/format.py:1459: RuntimeWarning: invalid value encountered in greater\n",
      "  has_small_values = ((abs_vals < 10 ** (-self.digits)) & (abs_vals > 0)).any()\n"
     ]
    }
   ],
   "source": [
    "print(transactions_df.head())\n",
    "print(articles_df.head())\n",
    "print(customers_df.head())"
   ]
  },
  {
   "cell_type": "markdown",
   "id": "809d8b72",
   "metadata": {
    "papermill": {
     "duration": 0.00595,
     "end_time": "2025-08-21T15:15:06.152962",
     "exception": false,
     "start_time": "2025-08-21T15:15:06.147012",
     "status": "completed"
    },
    "tags": []
   },
   "source": [
    "# Let's check some basic stats"
   ]
  },
  {
   "cell_type": "code",
   "execution_count": 4,
   "id": "8c7f0c54",
   "metadata": {
    "execution": {
     "iopub.execute_input": "2025-08-21T15:15:06.165718Z",
     "iopub.status.busy": "2025-08-21T15:15:06.165371Z",
     "iopub.status.idle": "2025-08-21T15:15:19.395451Z",
     "shell.execute_reply": "2025-08-21T15:15:19.394168Z"
    },
    "papermill": {
     "duration": 13.238374,
     "end_time": "2025-08-21T15:15:19.397146",
     "exception": false,
     "start_time": "2025-08-21T15:15:06.158772",
     "status": "completed"
    },
    "tags": []
   },
   "outputs": [
    {
     "name": "stdout",
     "output_type": "stream",
     "text": [
      "Transactions DataFrame Info:\n",
      "<class 'pandas.core.frame.DataFrame'>\n",
      "RangeIndex: 31788324 entries, 0 to 31788323\n",
      "Data columns (total 5 columns):\n",
      " #   Column            Dtype         \n",
      "---  ------            -----         \n",
      " 0   t_dat             datetime64[ns]\n",
      " 1   customer_id       object        \n",
      " 2   article_id        int64         \n",
      " 3   price             float64       \n",
      " 4   sales_channel_id  int64         \n",
      "dtypes: datetime64[ns](1), float64(1), int64(2), object(1)\n",
      "memory usage: 1.2+ GB\n",
      "None\n",
      "\n",
      "Basic Statistics\n",
      "Number of unique customers: 1362281\n",
      "Number of unique articles: 104547\n",
      "Date range of transactions: 2018-09-20 to 2020-09-22\n"
     ]
    }
   ],
   "source": [
    "# Convert `t_dat` to a datetime type for easy date manipulation\n",
    "transactions_df['t_dat'] = pd.to_datetime(transactions_df['t_dat'])\n",
    "\n",
    "# Get a high-level overview of the data\n",
    "print(\"Transactions DataFrame Info:\")\n",
    "print(transactions_df.info())\n",
    "\n",
    "# Count the number of unique customers and articles\n",
    "num_unique_customers = transactions_df['customer_id'].nunique()\n",
    "num_unique_articles = transactions_df['article_id'].nunique()\n",
    "\n",
    "# Find the date range of the transactions\n",
    "start_date = transactions_df['t_dat'].min()\n",
    "end_date = transactions_df['t_dat'].max()\n",
    "\n",
    "# Print the key statistics\n",
    "print(\"\\nBasic Statistics\")\n",
    "print(f\"Number of unique customers: {num_unique_customers}\")\n",
    "print(f\"Number of unique articles: {num_unique_articles}\")\n",
    "print(f\"Date range of transactions: {start_date.strftime('%Y-%m-%d')} to {end_date.strftime('%Y-%m-%d')}\")"
   ]
  },
  {
   "cell_type": "markdown",
   "id": "98d36469",
   "metadata": {
    "papermill": {
     "duration": 0.005096,
     "end_time": "2025-08-21T15:15:19.407937",
     "exception": false,
     "start_time": "2025-08-21T15:15:19.402841",
     "status": "completed"
    },
    "tags": []
   },
   "source": [
    "# --- EDA on Customers Data ---\n",
    "#### To understand the dataset better, the next logical step in our EDA is to visualize how the number of transactions changes over time. This can reveal seasonal patterns, trends, and key events that influence purchasing behavior."
   ]
  },
  {
   "cell_type": "code",
   "execution_count": 5,
   "id": "2266d547",
   "metadata": {
    "execution": {
     "iopub.execute_input": "2025-08-21T15:15:19.420805Z",
     "iopub.status.busy": "2025-08-21T15:15:19.420469Z",
     "iopub.status.idle": "2025-08-21T15:15:19.950804Z",
     "shell.execute_reply": "2025-08-21T15:15:19.949447Z"
    },
    "papermill": {
     "duration": 0.539377,
     "end_time": "2025-08-21T15:15:19.952682",
     "exception": false,
     "start_time": "2025-08-21T15:15:19.413305",
     "status": "completed"
    },
    "tags": []
   },
   "outputs": [
    {
     "name": "stdout",
     "output_type": "stream",
     "text": [
      "--- Customers Dataframe EDA ---\n",
      "\n",
      "Missing values in customers data:\n",
      "customer_id                    0\n",
      "FN                        895050\n",
      "Active                    907576\n",
      "club_member_status          6062\n",
      "fashion_news_frequency     16011\n",
      "age                        15861\n",
      "postal_code                    0\n",
      "dtype: int64\n",
      "\n",
      "Distribution of club_member_status:\n",
      "club_member_status\n",
      "ACTIVE        1272491\n",
      "PRE-CREATE      92960\n",
      "LEFT CLUB         467\n",
      "Name: count, dtype: int64\n",
      "\n",
      "Distribution of fashion_news_frequency:\n",
      "fashion_news_frequency\n",
      "NONE         877711\n",
      "Regularly    477416\n",
      "Monthly         842\n",
      "Name: count, dtype: int64\n"
     ]
    }
   ],
   "source": [
    "print(\"--- Customers Dataframe EDA ---\")\n",
    "print(\"\\nMissing values in customers data:\")\n",
    "print(customers_df.isnull().sum())\n",
    "print(\"\\nDistribution of club_member_status:\")\n",
    "print(customers_df['club_member_status'].value_counts())\n",
    "print(\"\\nDistribution of fashion_news_frequency:\")\n",
    "print(customers_df['fashion_news_frequency'].value_counts())"
   ]
  },
  {
   "cell_type": "markdown",
   "id": "a71589e4",
   "metadata": {
    "papermill": {
     "duration": 0.005405,
     "end_time": "2025-08-21T15:15:19.963769",
     "exception": false,
     "start_time": "2025-08-21T15:15:19.958364",
     "status": "completed"
    },
    "tags": []
   },
   "source": [
    "Customers Data: We have some key categorical features like club_member_status and fashion_news_frequency that can be very powerful predictors. The high number of missing values for FN and Active suggests that for many customers, this information isn't available. We'll need a strategy to handle these missing values, possibly by treating them as their own category. The age column, while mostly complete, has some missing values we can impute later."
   ]
  },
  {
   "cell_type": "markdown",
   "id": "ec4e7f7c",
   "metadata": {
    "papermill": {
     "duration": 0.005173,
     "end_time": "2025-08-21T15:15:19.974389",
     "exception": false,
     "start_time": "2025-08-21T15:15:19.969216",
     "status": "completed"
    },
    "tags": []
   },
   "source": [
    "# --- EDA on Articles Data ---"
   ]
  },
  {
   "cell_type": "code",
   "execution_count": 6,
   "id": "d533b159",
   "metadata": {
    "execution": {
     "iopub.execute_input": "2025-08-21T15:15:19.987234Z",
     "iopub.status.busy": "2025-08-21T15:15:19.986933Z",
     "iopub.status.idle": "2025-08-21T15:15:20.089646Z",
     "shell.execute_reply": "2025-08-21T15:15:20.088085Z"
    },
    "papermill": {
     "duration": 0.111495,
     "end_time": "2025-08-21T15:15:20.091453",
     "exception": false,
     "start_time": "2025-08-21T15:15:19.979958",
     "status": "completed"
    },
    "tags": []
   },
   "outputs": [
    {
     "name": "stdout",
     "output_type": "stream",
     "text": [
      "\n",
      "--- Articles Dataframe EDA ---\n",
      "\n",
      "Missing values in articles data:\n",
      "article_id                        0\n",
      "product_code                      0\n",
      "prod_name                         0\n",
      "product_type_no                   0\n",
      "product_type_name                 0\n",
      "product_group_name                0\n",
      "graphical_appearance_no           0\n",
      "graphical_appearance_name         0\n",
      "colour_group_code                 0\n",
      "colour_group_name                 0\n",
      "perceived_colour_value_id         0\n",
      "perceived_colour_value_name       0\n",
      "perceived_colour_master_id        0\n",
      "perceived_colour_master_name      0\n",
      "department_no                     0\n",
      "department_name                   0\n",
      "index_code                        0\n",
      "index_name                        0\n",
      "index_group_no                    0\n",
      "index_group_name                  0\n",
      "section_no                        0\n",
      "section_name                      0\n",
      "garment_group_no                  0\n",
      "garment_group_name                0\n",
      "detail_desc                     416\n",
      "dtype: int64\n",
      "\n",
      "Distribution of product_group_name:\n",
      "product_group_name\n",
      "Garment Upper body       42741\n",
      "Garment Lower body       19812\n",
      "Garment Full body        13292\n",
      "Accessories              11158\n",
      "Underwear                 5490\n",
      "Shoes                     5283\n",
      "Swimwear                  3127\n",
      "Socks & Tights            2442\n",
      "Nightwear                 1899\n",
      "Unknown                    121\n",
      "Underwear/nightwear         54\n",
      "Cosmetic                    49\n",
      "Bags                        25\n",
      "Items                       17\n",
      "Furniture                   13\n",
      "Garment and Shoe care        9\n",
      "Stationery                   5\n",
      "Interior textile             3\n",
      "Fun                          2\n",
      "Name: count, dtype: int64\n",
      "\n",
      "Distribution of garment_group_name:\n",
      "garment_group_name\n",
      "Jersey Fancy                     21445\n",
      "Accessories                      11519\n",
      "Jersey Basic                      8126\n",
      "Knitwear                          7490\n",
      "Under-, Nightwear                 7441\n",
      "Trousers                          6727\n",
      "Blouses                           5838\n",
      "Shoes                             5145\n",
      "Dresses Ladies                    4874\n",
      "Outdoor                           4501\n",
      "Unknown                           3873\n",
      "Trousers Denim                    3100\n",
      "Swimwear                          2787\n",
      "Socks and Tights                  2272\n",
      "Shirts                            2116\n",
      "Woven/Jersey/Knitted mix Baby     1965\n",
      "Shorts                            1559\n",
      "Dresses/Skirts girls              1541\n",
      "Skirts                            1254\n",
      "Special Offers                    1061\n",
      "Dressed                            908\n",
      "Name: count, dtype: int64\n"
     ]
    }
   ],
   "source": [
    "print(\"\\n--- Articles Dataframe EDA ---\")\n",
    "print(\"\\nMissing values in articles data:\")\n",
    "print(articles_df.isnull().sum())\n",
    "print(\"\\nDistribution of product_group_name:\")\n",
    "print(articles_df['product_group_name'].value_counts())\n",
    "print(\"\\nDistribution of garment_group_name:\")\n",
    "print(articles_df['garment_group_name'].value_counts())"
   ]
  },
  {
   "cell_type": "markdown",
   "id": "ff51f9ec",
   "metadata": {
    "papermill": {
     "duration": 0.006072,
     "end_time": "2025-08-21T15:15:20.103654",
     "exception": false,
     "start_time": "2025-08-21T15:15:20.097582",
     "status": "completed"
    },
    "tags": []
   },
   "source": [
    "Articles Data: This data is very clean! Nearly every column is complete, giving us a rich set of features to work with. The product_group_name and garment_group_name columns are particularly useful and show us the dominance of clothing categories like 'Garment Upper body' and 'Garment Lower body'."
   ]
  },
  {
   "cell_type": "markdown",
   "id": "8900e489",
   "metadata": {
    "papermill": {
     "duration": 0.005353,
     "end_time": "2025-08-21T15:15:20.114697",
     "exception": false,
     "start_time": "2025-08-21T15:15:20.109344",
     "status": "completed"
    },
    "tags": []
   },
   "source": [
    "### Let's merge 3 data frames with sample data"
   ]
  },
  {
   "cell_type": "code",
   "execution_count": 7,
   "id": "305c292f",
   "metadata": {
    "execution": {
     "iopub.execute_input": "2025-08-21T15:15:20.129566Z",
     "iopub.status.busy": "2025-08-21T15:15:20.128501Z",
     "iopub.status.idle": "2025-08-21T15:15:26.910564Z",
     "shell.execute_reply": "2025-08-21T15:15:26.909597Z"
    },
    "papermill": {
     "duration": 6.791464,
     "end_time": "2025-08-21T15:15:26.912417",
     "exception": false,
     "start_time": "2025-08-21T15:15:20.120953",
     "status": "completed"
    },
    "tags": []
   },
   "outputs": [
    {
     "name": "stdout",
     "output_type": "stream",
     "text": [
      "Merged DataFrame Info (last 3 months):\n",
      "<class 'pandas.core.frame.DataFrame'>\n",
      "RangeIndex: 4056792 entries, 0 to 4056791\n",
      "Data columns (total 35 columns):\n",
      " #   Column                        Dtype         \n",
      "---  ------                        -----         \n",
      " 0   t_dat                         datetime64[ns]\n",
      " 1   customer_id                   object        \n",
      " 2   article_id                    int64         \n",
      " 3   price                         float64       \n",
      " 4   sales_channel_id              int64         \n",
      " 5   FN                            float64       \n",
      " 6   Active                        float64       \n",
      " 7   club_member_status            object        \n",
      " 8   fashion_news_frequency        object        \n",
      " 9   age                           float64       \n",
      " 10  postal_code                   object        \n",
      " 11  product_code                  int64         \n",
      " 12  prod_name                     object        \n",
      " 13  product_type_no               int64         \n",
      " 14  product_type_name             object        \n",
      " 15  product_group_name            object        \n",
      " 16  graphical_appearance_no       int64         \n",
      " 17  graphical_appearance_name     object        \n",
      " 18  colour_group_code             int64         \n",
      " 19  colour_group_name             object        \n",
      " 20  perceived_colour_value_id     int64         \n",
      " 21  perceived_colour_value_name   object        \n",
      " 22  perceived_colour_master_id    int64         \n",
      " 23  perceived_colour_master_name  object        \n",
      " 24  department_no                 int64         \n",
      " 25  department_name               object        \n",
      " 26  index_code                    object        \n",
      " 27  index_name                    object        \n",
      " 28  index_group_no                int64         \n",
      " 29  index_group_name              object        \n",
      " 30  section_no                    int64         \n",
      " 31  section_name                  object        \n",
      " 32  garment_group_no              int64         \n",
      " 33  garment_group_name            object        \n",
      " 34  detail_desc                   object        \n",
      "dtypes: datetime64[ns](1), float64(4), int64(12), object(18)\n",
      "memory usage: 1.1+ GB\n",
      "None\n",
      "\n",
      "Merged DataFrame Head:\n"
     ]
    },
    {
     "name": "stderr",
     "output_type": "stream",
     "text": [
      "/usr/local/lib/python3.11/dist-packages/pandas/io/formats/format.py:1458: RuntimeWarning: invalid value encountered in greater\n",
      "  has_large_values = (abs_vals > 1e6).any()\n",
      "/usr/local/lib/python3.11/dist-packages/pandas/io/formats/format.py:1459: RuntimeWarning: invalid value encountered in less\n",
      "  has_small_values = ((abs_vals < 10 ** (-self.digits)) & (abs_vals > 0)).any()\n",
      "/usr/local/lib/python3.11/dist-packages/pandas/io/formats/format.py:1459: RuntimeWarning: invalid value encountered in greater\n",
      "  has_small_values = ((abs_vals < 10 ** (-self.digits)) & (abs_vals > 0)).any()\n",
      "/usr/local/lib/python3.11/dist-packages/pandas/io/formats/format.py:1458: RuntimeWarning: invalid value encountered in greater\n",
      "  has_large_values = (abs_vals > 1e6).any()\n",
      "/usr/local/lib/python3.11/dist-packages/pandas/io/formats/format.py:1459: RuntimeWarning: invalid value encountered in less\n",
      "  has_small_values = ((abs_vals < 10 ** (-self.digits)) & (abs_vals > 0)).any()\n",
      "/usr/local/lib/python3.11/dist-packages/pandas/io/formats/format.py:1459: RuntimeWarning: invalid value encountered in greater\n",
      "  has_small_values = ((abs_vals < 10 ** (-self.digits)) & (abs_vals > 0)).any()\n"
     ]
    },
    {
     "data": {
      "text/html": [
       "<div>\n",
       "<style scoped>\n",
       "    .dataframe tbody tr th:only-of-type {\n",
       "        vertical-align: middle;\n",
       "    }\n",
       "\n",
       "    .dataframe tbody tr th {\n",
       "        vertical-align: top;\n",
       "    }\n",
       "\n",
       "    .dataframe thead th {\n",
       "        text-align: right;\n",
       "    }\n",
       "</style>\n",
       "<table border=\"1\" class=\"dataframe\">\n",
       "  <thead>\n",
       "    <tr style=\"text-align: right;\">\n",
       "      <th></th>\n",
       "      <th>t_dat</th>\n",
       "      <th>customer_id</th>\n",
       "      <th>article_id</th>\n",
       "      <th>price</th>\n",
       "      <th>sales_channel_id</th>\n",
       "      <th>FN</th>\n",
       "      <th>Active</th>\n",
       "      <th>club_member_status</th>\n",
       "      <th>fashion_news_frequency</th>\n",
       "      <th>age</th>\n",
       "      <th>...</th>\n",
       "      <th>department_name</th>\n",
       "      <th>index_code</th>\n",
       "      <th>index_name</th>\n",
       "      <th>index_group_no</th>\n",
       "      <th>index_group_name</th>\n",
       "      <th>section_no</th>\n",
       "      <th>section_name</th>\n",
       "      <th>garment_group_no</th>\n",
       "      <th>garment_group_name</th>\n",
       "      <th>detail_desc</th>\n",
       "    </tr>\n",
       "  </thead>\n",
       "  <tbody>\n",
       "    <tr>\n",
       "      <th>0</th>\n",
       "      <td>2020-06-22</td>\n",
       "      <td>000346516dd355b40badca0c0f5f37a318ddae31f0e0f7...</td>\n",
       "      <td>816588001</td>\n",
       "      <td>0.022017</td>\n",
       "      <td>2</td>\n",
       "      <td>NaN</td>\n",
       "      <td>NaN</td>\n",
       "      <td>ACTIVE</td>\n",
       "      <td>NONE</td>\n",
       "      <td>25.0</td>\n",
       "      <td>...</td>\n",
       "      <td>Tops Fancy Jersey</td>\n",
       "      <td>D</td>\n",
       "      <td>Divided</td>\n",
       "      <td>2</td>\n",
       "      <td>Divided</td>\n",
       "      <td>53</td>\n",
       "      <td>Divided Collection</td>\n",
       "      <td>1005</td>\n",
       "      <td>Jersey Fancy</td>\n",
       "      <td>Cropped, off-the-shoulder jersey top with a sm...</td>\n",
       "    </tr>\n",
       "    <tr>\n",
       "      <th>1</th>\n",
       "      <td>2020-06-22</td>\n",
       "      <td>000346516dd355b40badca0c0f5f37a318ddae31f0e0f7...</td>\n",
       "      <td>669708001</td>\n",
       "      <td>0.016932</td>\n",
       "      <td>2</td>\n",
       "      <td>NaN</td>\n",
       "      <td>NaN</td>\n",
       "      <td>ACTIVE</td>\n",
       "      <td>NONE</td>\n",
       "      <td>25.0</td>\n",
       "      <td>...</td>\n",
       "      <td>Tops Woven</td>\n",
       "      <td>D</td>\n",
       "      <td>Divided</td>\n",
       "      <td>2</td>\n",
       "      <td>Divided</td>\n",
       "      <td>53</td>\n",
       "      <td>Divided Collection</td>\n",
       "      <td>1010</td>\n",
       "      <td>Blouses</td>\n",
       "      <td>Short off-the-shoulder top in an airy weave wi...</td>\n",
       "    </tr>\n",
       "    <tr>\n",
       "      <th>2</th>\n",
       "      <td>2020-06-22</td>\n",
       "      <td>0008a2dd68b9a347b6f6b6d567b48684d4a11e05a8b7cc...</td>\n",
       "      <td>811907001</td>\n",
       "      <td>0.012695</td>\n",
       "      <td>1</td>\n",
       "      <td>NaN</td>\n",
       "      <td>NaN</td>\n",
       "      <td>ACTIVE</td>\n",
       "      <td>NONE</td>\n",
       "      <td>19.0</td>\n",
       "      <td>...</td>\n",
       "      <td>Swimwear</td>\n",
       "      <td>B</td>\n",
       "      <td>Lingeries/Tights</td>\n",
       "      <td>1</td>\n",
       "      <td>Ladieswear</td>\n",
       "      <td>60</td>\n",
       "      <td>Womens Swimwear, beachwear</td>\n",
       "      <td>1018</td>\n",
       "      <td>Swimwear</td>\n",
       "      <td>Fully lined bikini top with removable inserts ...</td>\n",
       "    </tr>\n",
       "    <tr>\n",
       "      <th>3</th>\n",
       "      <td>2020-06-22</td>\n",
       "      <td>000f4d22ea7b4fc94704b3e6b7fb225b4f9dde7560cd38...</td>\n",
       "      <td>856332001</td>\n",
       "      <td>0.025814</td>\n",
       "      <td>2</td>\n",
       "      <td>1.0</td>\n",
       "      <td>1.0</td>\n",
       "      <td>ACTIVE</td>\n",
       "      <td>Regularly</td>\n",
       "      <td>27.0</td>\n",
       "      <td>...</td>\n",
       "      <td>Premium Quality</td>\n",
       "      <td>C</td>\n",
       "      <td>Ladies Accessories</td>\n",
       "      <td>1</td>\n",
       "      <td>Ladieswear</td>\n",
       "      <td>64</td>\n",
       "      <td>Womens Shoes</td>\n",
       "      <td>1020</td>\n",
       "      <td>Shoes</td>\n",
       "      <td>Leather slides with wide, crossover straps and...</td>\n",
       "    </tr>\n",
       "    <tr>\n",
       "      <th>4</th>\n",
       "      <td>2020-06-22</td>\n",
       "      <td>000f4d22ea7b4fc94704b3e6b7fb225b4f9dde7560cd38...</td>\n",
       "      <td>589748001</td>\n",
       "      <td>0.011610</td>\n",
       "      <td>2</td>\n",
       "      <td>1.0</td>\n",
       "      <td>1.0</td>\n",
       "      <td>ACTIVE</td>\n",
       "      <td>Regularly</td>\n",
       "      <td>27.0</td>\n",
       "      <td>...</td>\n",
       "      <td>Belts</td>\n",
       "      <td>C</td>\n",
       "      <td>Ladies Accessories</td>\n",
       "      <td>1</td>\n",
       "      <td>Ladieswear</td>\n",
       "      <td>65</td>\n",
       "      <td>Womens Big accessories</td>\n",
       "      <td>1019</td>\n",
       "      <td>Accessories</td>\n",
       "      <td>Wide waist belt with a round metal buckle. Wid...</td>\n",
       "    </tr>\n",
       "  </tbody>\n",
       "</table>\n",
       "<p>5 rows × 35 columns</p>\n",
       "</div>"
      ],
      "text/plain": [
       "       t_dat                                        customer_id  article_id  \\\n",
       "0 2020-06-22  000346516dd355b40badca0c0f5f37a318ddae31f0e0f7...   816588001   \n",
       "1 2020-06-22  000346516dd355b40badca0c0f5f37a318ddae31f0e0f7...   669708001   \n",
       "2 2020-06-22  0008a2dd68b9a347b6f6b6d567b48684d4a11e05a8b7cc...   811907001   \n",
       "3 2020-06-22  000f4d22ea7b4fc94704b3e6b7fb225b4f9dde7560cd38...   856332001   \n",
       "4 2020-06-22  000f4d22ea7b4fc94704b3e6b7fb225b4f9dde7560cd38...   589748001   \n",
       "\n",
       "      price  sales_channel_id   FN  Active club_member_status  \\\n",
       "0  0.022017                 2  NaN     NaN             ACTIVE   \n",
       "1  0.016932                 2  NaN     NaN             ACTIVE   \n",
       "2  0.012695                 1  NaN     NaN             ACTIVE   \n",
       "3  0.025814                 2  1.0     1.0             ACTIVE   \n",
       "4  0.011610                 2  1.0     1.0             ACTIVE   \n",
       "\n",
       "  fashion_news_frequency   age  ...    department_name  index_code  \\\n",
       "0                   NONE  25.0  ...  Tops Fancy Jersey           D   \n",
       "1                   NONE  25.0  ...         Tops Woven           D   \n",
       "2                   NONE  19.0  ...           Swimwear           B   \n",
       "3              Regularly  27.0  ...    Premium Quality           C   \n",
       "4              Regularly  27.0  ...              Belts           C   \n",
       "\n",
       "           index_name  index_group_no index_group_name section_no  \\\n",
       "0             Divided               2          Divided         53   \n",
       "1             Divided               2          Divided         53   \n",
       "2    Lingeries/Tights               1       Ladieswear         60   \n",
       "3  Ladies Accessories               1       Ladieswear         64   \n",
       "4  Ladies Accessories               1       Ladieswear         65   \n",
       "\n",
       "                 section_name garment_group_no  garment_group_name  \\\n",
       "0          Divided Collection             1005        Jersey Fancy   \n",
       "1          Divided Collection             1010             Blouses   \n",
       "2  Womens Swimwear, beachwear             1018            Swimwear   \n",
       "3                Womens Shoes             1020               Shoes   \n",
       "4      Womens Big accessories             1019         Accessories   \n",
       "\n",
       "                                         detail_desc  \n",
       "0  Cropped, off-the-shoulder jersey top with a sm...  \n",
       "1  Short off-the-shoulder top in an airy weave wi...  \n",
       "2  Fully lined bikini top with removable inserts ...  \n",
       "3  Leather slides with wide, crossover straps and...  \n",
       "4  Wide waist belt with a round metal buckle. Wid...  \n",
       "\n",
       "[5 rows x 35 columns]"
      ]
     },
     "execution_count": 7,
     "metadata": {},
     "output_type": "execute_result"
    }
   ],
   "source": [
    "# Convert `t_dat` to datetime\n",
    "transactions_df['t_dat'] = pd.to_datetime(transactions_df['t_dat'])\n",
    "\n",
    "# Filter transactions for the last 3 months\n",
    "end_date = transactions_df['t_dat'].max()\n",
    "start_date_filtered = end_date - pd.DateOffset(months=3)\n",
    "recent_transactions = transactions_df[transactions_df['t_dat'] >= start_date_filtered]\n",
    "\n",
    "# Merge the dataframes\n",
    "merged_df = pd.merge(recent_transactions, customers_df, on='customer_id', how='left')\n",
    "merged_df = pd.merge(merged_df, articles_df, on='article_id', how='left')\n",
    "\n",
    "# Display the information of the new, merged dataframe\n",
    "print(\"Merged DataFrame Info (last 3 months):\")\n",
    "print(merged_df.info())\n",
    "\n",
    "print(\"\\nMerged DataFrame Head:\")\n",
    "merged_df.head()"
   ]
  },
  {
   "cell_type": "markdown",
   "id": "5295215f",
   "metadata": {
    "papermill": {
     "duration": 0.005965,
     "end_time": "2025-08-21T15:15:26.924910",
     "exception": false,
     "start_time": "2025-08-21T15:15:26.918945",
     "status": "completed"
    },
    "tags": []
   },
   "source": [
    "### Let's fill the null data"
   ]
  },
  {
   "cell_type": "code",
   "execution_count": 8,
   "id": "1fdad3d4",
   "metadata": {
    "execution": {
     "iopub.execute_input": "2025-08-21T15:15:26.938668Z",
     "iopub.status.busy": "2025-08-21T15:15:26.938273Z",
     "iopub.status.idle": "2025-08-21T15:15:28.872150Z",
     "shell.execute_reply": "2025-08-21T15:15:28.870912Z"
    },
    "papermill": {
     "duration": 1.942894,
     "end_time": "2025-08-21T15:15:28.873991",
     "exception": false,
     "start_time": "2025-08-21T15:15:26.931097",
     "status": "completed"
    },
    "tags": []
   },
   "outputs": [
    {
     "name": "stderr",
     "output_type": "stream",
     "text": [
      "/tmp/ipykernel_13/2658978471.py:3: FutureWarning: A value is trying to be set on a copy of a DataFrame or Series through chained assignment using an inplace method.\n",
      "The behavior will change in pandas 3.0. This inplace method will never work because the intermediate object on which we are setting values always behaves as a copy.\n",
      "\n",
      "For example, when doing 'df[col].method(value, inplace=True)', try using 'df.method({col: value}, inplace=True)' or df[col] = df[col].method(value) instead, to perform the operation inplace on the original object.\n",
      "\n",
      "\n",
      "  merged_df['age'].fillna(median_age, inplace=True)\n"
     ]
    },
    {
     "name": "stdout",
     "output_type": "stream",
     "text": [
      "club_member_status        0\n",
      "fashion_news_frequency    0\n",
      "FN                        0\n",
      "Active                    0\n",
      "dtype: int64\n"
     ]
    },
    {
     "data": {
      "text/html": [
       "<div>\n",
       "<style scoped>\n",
       "    .dataframe tbody tr th:only-of-type {\n",
       "        vertical-align: middle;\n",
       "    }\n",
       "\n",
       "    .dataframe tbody tr th {\n",
       "        vertical-align: top;\n",
       "    }\n",
       "\n",
       "    .dataframe thead th {\n",
       "        text-align: right;\n",
       "    }\n",
       "</style>\n",
       "<table border=\"1\" class=\"dataframe\">\n",
       "  <thead>\n",
       "    <tr style=\"text-align: right;\">\n",
       "      <th></th>\n",
       "      <th>t_dat</th>\n",
       "      <th>age</th>\n",
       "      <th>FN</th>\n",
       "      <th>Active</th>\n",
       "      <th>club_member_status</th>\n",
       "      <th>week</th>\n",
       "      <th>day_of_week</th>\n",
       "    </tr>\n",
       "  </thead>\n",
       "  <tbody>\n",
       "    <tr>\n",
       "      <th>0</th>\n",
       "      <td>2020-06-22</td>\n",
       "      <td>25.0</td>\n",
       "      <td>0.0</td>\n",
       "      <td>0.0</td>\n",
       "      <td>ACTIVE</td>\n",
       "      <td>26</td>\n",
       "      <td>0</td>\n",
       "    </tr>\n",
       "    <tr>\n",
       "      <th>1</th>\n",
       "      <td>2020-06-22</td>\n",
       "      <td>25.0</td>\n",
       "      <td>0.0</td>\n",
       "      <td>0.0</td>\n",
       "      <td>ACTIVE</td>\n",
       "      <td>26</td>\n",
       "      <td>0</td>\n",
       "    </tr>\n",
       "    <tr>\n",
       "      <th>2</th>\n",
       "      <td>2020-06-22</td>\n",
       "      <td>19.0</td>\n",
       "      <td>0.0</td>\n",
       "      <td>0.0</td>\n",
       "      <td>ACTIVE</td>\n",
       "      <td>26</td>\n",
       "      <td>0</td>\n",
       "    </tr>\n",
       "    <tr>\n",
       "      <th>3</th>\n",
       "      <td>2020-06-22</td>\n",
       "      <td>27.0</td>\n",
       "      <td>1.0</td>\n",
       "      <td>1.0</td>\n",
       "      <td>ACTIVE</td>\n",
       "      <td>26</td>\n",
       "      <td>0</td>\n",
       "    </tr>\n",
       "    <tr>\n",
       "      <th>4</th>\n",
       "      <td>2020-06-22</td>\n",
       "      <td>27.0</td>\n",
       "      <td>1.0</td>\n",
       "      <td>1.0</td>\n",
       "      <td>ACTIVE</td>\n",
       "      <td>26</td>\n",
       "      <td>0</td>\n",
       "    </tr>\n",
       "  </tbody>\n",
       "</table>\n",
       "</div>"
      ],
      "text/plain": [
       "       t_dat   age   FN  Active club_member_status  week  day_of_week\n",
       "0 2020-06-22  25.0  0.0     0.0             ACTIVE    26            0\n",
       "1 2020-06-22  25.0  0.0     0.0             ACTIVE    26            0\n",
       "2 2020-06-22  19.0  0.0     0.0             ACTIVE    26            0\n",
       "3 2020-06-22  27.0  1.0     1.0             ACTIVE    26            0\n",
       "4 2020-06-22  27.0  1.0     1.0             ACTIVE    26            0"
      ]
     },
     "execution_count": 8,
     "metadata": {},
     "output_type": "execute_result"
    }
   ],
   "source": [
    "# Let's fill null with the median age of the customers\n",
    "median_age = merged_df['age'].median()\n",
    "merged_df['age'].fillna(median_age, inplace=True)\n",
    "\n",
    "# Impute missing categorical values with a placeholder\n",
    "merged_df['club_member_status'] = merged_df['club_member_status'].fillna('Unknown')\n",
    "merged_df['fashion_news_frequency'] = merged_df['fashion_news_frequency'].fillna('Unknown')\n",
    "merged_df['FN'] = merged_df['FN'].fillna(0)\n",
    "merged_df['Active'] = merged_df['Active'].fillna(0)\n",
    "\n",
    "print(merged_df[['club_member_status', 'fashion_news_frequency', 'FN', 'Active']].isna().sum())\n",
    "\n",
    "# Create temporal features\n",
    "merged_df['week'] = merged_df['t_dat'].dt.isocalendar().week.astype(int)\n",
    "merged_df['day_of_week'] = merged_df['t_dat'].dt.dayofweek.astype(int)\n",
    "\n",
    "merged_df[['t_dat', 'age', 'FN', 'Active', 'club_member_status', 'week', 'day_of_week']].head()\n"
   ]
  },
  {
   "cell_type": "code",
   "execution_count": 9,
   "id": "32abd98f",
   "metadata": {
    "execution": {
     "iopub.execute_input": "2025-08-21T15:15:28.891375Z",
     "iopub.status.busy": "2025-08-21T15:15:28.891092Z",
     "iopub.status.idle": "2025-08-21T15:15:31.286857Z",
     "shell.execute_reply": "2025-08-21T15:15:31.280144Z"
    },
    "papermill": {
     "duration": 2.409627,
     "end_time": "2025-08-21T15:15:31.292065",
     "exception": false,
     "start_time": "2025-08-21T15:15:28.882438",
     "status": "completed"
    },
    "tags": []
   },
   "outputs": [
    {
     "data": {
      "text/html": [
       "<div>\n",
       "<style scoped>\n",
       "    .dataframe tbody tr th:only-of-type {\n",
       "        vertical-align: middle;\n",
       "    }\n",
       "\n",
       "    .dataframe tbody tr th {\n",
       "        vertical-align: top;\n",
       "    }\n",
       "\n",
       "    .dataframe thead th {\n",
       "        text-align: right;\n",
       "    }\n",
       "</style>\n",
       "<table border=\"1\" class=\"dataframe\">\n",
       "  <thead>\n",
       "    <tr style=\"text-align: right;\">\n",
       "      <th></th>\n",
       "      <th>total_purchase</th>\n",
       "      <th>last_purchase_date</th>\n",
       "      <th>recency_days</th>\n",
       "    </tr>\n",
       "    <tr>\n",
       "      <th>customer_id</th>\n",
       "      <th></th>\n",
       "      <th></th>\n",
       "      <th></th>\n",
       "    </tr>\n",
       "  </thead>\n",
       "  <tbody>\n",
       "    <tr>\n",
       "      <th>00000dbacae5abe5e23885899a1fa44253a17956c6d1c3d25f88aa139fdfc657</th>\n",
       "      <td>1</td>\n",
       "      <td>2020-09-05</td>\n",
       "      <td>17</td>\n",
       "    </tr>\n",
       "    <tr>\n",
       "      <th>0000423b00ade91418cceaf3b26c6af3dd342b51fd051eec9c12fb36984420fa</th>\n",
       "      <td>1</td>\n",
       "      <td>2020-07-08</td>\n",
       "      <td>76</td>\n",
       "    </tr>\n",
       "    <tr>\n",
       "      <th>000058a12d5b43e67d225668fa1f8d618c13dc232df0cad8ffe7ad4a1091e318</th>\n",
       "      <td>1</td>\n",
       "      <td>2020-09-15</td>\n",
       "      <td>7</td>\n",
       "    </tr>\n",
       "    <tr>\n",
       "      <th>00006413d8573cd20ed7128e53b7b13819fe5cfc2d801fe7fc0f26dd8d65a85a</th>\n",
       "      <td>4</td>\n",
       "      <td>2020-08-12</td>\n",
       "      <td>41</td>\n",
       "    </tr>\n",
       "    <tr>\n",
       "      <th>0000757967448a6cb83efb3ea7a3fb9d418ac7adf2379d8cd0c725276a467a2a</th>\n",
       "      <td>2</td>\n",
       "      <td>2020-09-14</td>\n",
       "      <td>8</td>\n",
       "    </tr>\n",
       "  </tbody>\n",
       "</table>\n",
       "</div>"
      ],
      "text/plain": [
       "                                                    total_purchase  \\\n",
       "customer_id                                                          \n",
       "00000dbacae5abe5e23885899a1fa44253a17956c6d1c3d...               1   \n",
       "0000423b00ade91418cceaf3b26c6af3dd342b51fd051ee...               1   \n",
       "000058a12d5b43e67d225668fa1f8d618c13dc232df0cad...               1   \n",
       "00006413d8573cd20ed7128e53b7b13819fe5cfc2d801fe...               4   \n",
       "0000757967448a6cb83efb3ea7a3fb9d418ac7adf2379d8...               2   \n",
       "\n",
       "                                                   last_purchase_date  \\\n",
       "customer_id                                                             \n",
       "00000dbacae5abe5e23885899a1fa44253a17956c6d1c3d...         2020-09-05   \n",
       "0000423b00ade91418cceaf3b26c6af3dd342b51fd051ee...         2020-07-08   \n",
       "000058a12d5b43e67d225668fa1f8d618c13dc232df0cad...         2020-09-15   \n",
       "00006413d8573cd20ed7128e53b7b13819fe5cfc2d801fe...         2020-08-12   \n",
       "0000757967448a6cb83efb3ea7a3fb9d418ac7adf2379d8...         2020-09-14   \n",
       "\n",
       "                                                    recency_days  \n",
       "customer_id                                                       \n",
       "00000dbacae5abe5e23885899a1fa44253a17956c6d1c3d...            17  \n",
       "0000423b00ade91418cceaf3b26c6af3dd342b51fd051ee...            76  \n",
       "000058a12d5b43e67d225668fa1f8d618c13dc232df0cad...             7  \n",
       "00006413d8573cd20ed7128e53b7b13819fe5cfc2d801fe...            41  \n",
       "0000757967448a6cb83efb3ea7a3fb9d418ac7adf2379d8...             8  "
      ]
     },
     "execution_count": 9,
     "metadata": {},
     "output_type": "execute_result"
    }
   ],
   "source": [
    "# calculate recency, frequency, and monetary value for each customer\n",
    "customer_features = merged_df.groupby('customer_id').agg(\n",
    "    total_purchase = ('article_id', 'count'),\n",
    "    last_purchase_date = ('t_dat', 'max')\n",
    ")\n",
    "customer_features[\"recency_days\"] = (merged_df['t_dat'].max() - customer_features['last_purchase_date']).dt.days\n",
    "customer_features.head()"
   ]
  },
  {
   "cell_type": "code",
   "execution_count": 10,
   "id": "2fdf695f",
   "metadata": {
    "execution": {
     "iopub.execute_input": "2025-08-21T15:15:31.340908Z",
     "iopub.status.busy": "2025-08-21T15:15:31.340534Z",
     "iopub.status.idle": "2025-08-21T15:15:31.893767Z",
     "shell.execute_reply": "2025-08-21T15:15:31.889310Z"
    },
    "papermill": {
     "duration": 0.586623,
     "end_time": "2025-08-21T15:15:31.898450",
     "exception": false,
     "start_time": "2025-08-21T15:15:31.311827",
     "status": "completed"
    },
    "tags": []
   },
   "outputs": [
    {
     "data": {
      "text/html": [
       "<div>\n",
       "<style scoped>\n",
       "    .dataframe tbody tr th:only-of-type {\n",
       "        vertical-align: middle;\n",
       "    }\n",
       "\n",
       "    .dataframe tbody tr th {\n",
       "        vertical-align: top;\n",
       "    }\n",
       "\n",
       "    .dataframe thead th {\n",
       "        text-align: right;\n",
       "    }\n",
       "</style>\n",
       "<table border=\"1\" class=\"dataframe\">\n",
       "  <thead>\n",
       "    <tr style=\"text-align: right;\">\n",
       "      <th></th>\n",
       "      <th>purchase_count</th>\n",
       "      <th>average_price</th>\n",
       "    </tr>\n",
       "    <tr>\n",
       "      <th>article_id</th>\n",
       "      <th></th>\n",
       "      <th></th>\n",
       "    </tr>\n",
       "  </thead>\n",
       "  <tbody>\n",
       "    <tr>\n",
       "      <th>108775015</th>\n",
       "      <td>3</td>\n",
       "      <td>0.003842</td>\n",
       "    </tr>\n",
       "    <tr>\n",
       "      <th>108775044</th>\n",
       "      <td>98</td>\n",
       "      <td>0.008117</td>\n",
       "    </tr>\n",
       "    <tr>\n",
       "      <th>110065001</th>\n",
       "      <td>5</td>\n",
       "      <td>0.006342</td>\n",
       "    </tr>\n",
       "    <tr>\n",
       "      <th>110065002</th>\n",
       "      <td>6</td>\n",
       "      <td>0.005743</td>\n",
       "    </tr>\n",
       "    <tr>\n",
       "      <th>110065011</th>\n",
       "      <td>3</td>\n",
       "      <td>0.007797</td>\n",
       "    </tr>\n",
       "  </tbody>\n",
       "</table>\n",
       "</div>"
      ],
      "text/plain": [
       "            purchase_count  average_price\n",
       "article_id                               \n",
       "108775015                3       0.003842\n",
       "108775044               98       0.008117\n",
       "110065001                5       0.006342\n",
       "110065002                6       0.005743\n",
       "110065011                3       0.007797"
      ]
     },
     "execution_count": 10,
     "metadata": {},
     "output_type": "execute_result"
    }
   ],
   "source": [
    "# calculate popularity and average price for each article\n",
    "artical_features = merged_df.groupby('article_id').agg(\n",
    "    purchase_count = ('customer_id', 'count'),\n",
    "    average_price = ('price', 'mean')\n",
    ")\n",
    "artical_features.head()"
   ]
  },
  {
   "cell_type": "markdown",
   "id": "c6c2cc71",
   "metadata": {
    "papermill": {
     "duration": 0.007148,
     "end_time": "2025-08-21T15:15:31.933328",
     "exception": false,
     "start_time": "2025-08-21T15:15:31.926180",
     "status": "completed"
    },
    "tags": []
   },
   "source": [
    "# Now it's time to prepare the data model\n",
    "1. generate positive samples\n",
    "2. generate negative samples\n",
    "3. merge features\n",
    "4. finalizing the datasets"
   ]
  },
  {
   "cell_type": "code",
   "execution_count": 11,
   "id": "0c66de82",
   "metadata": {
    "execution": {
     "iopub.execute_input": "2025-08-21T15:15:31.948817Z",
     "iopub.status.busy": "2025-08-21T15:15:31.948437Z",
     "iopub.status.idle": "2025-08-21T15:15:32.522532Z",
     "shell.execute_reply": "2025-08-21T15:15:32.521359Z"
    },
    "papermill": {
     "duration": 0.584299,
     "end_time": "2025-08-21T15:15:32.524607",
     "exception": false,
     "start_time": "2025-08-21T15:15:31.940308",
     "status": "completed"
    },
    "tags": []
   },
   "outputs": [],
   "source": [
    "# To make the process faster, let's work with a small sample of the merged data\n",
    "sample_merged_df = merged_df.sample(n=100000, random_state=42).reset_index(drop=True)"
   ]
  },
  {
   "cell_type": "code",
   "execution_count": 12,
   "id": "379005a4",
   "metadata": {
    "execution": {
     "iopub.execute_input": "2025-08-21T15:15:32.542859Z",
     "iopub.status.busy": "2025-08-21T15:15:32.542442Z",
     "iopub.status.idle": "2025-08-21T15:15:32.557449Z",
     "shell.execute_reply": "2025-08-21T15:15:32.556368Z"
    },
    "papermill": {
     "duration": 0.026216,
     "end_time": "2025-08-21T15:15:32.559419",
     "exception": false,
     "start_time": "2025-08-21T15:15:32.533203",
     "status": "completed"
    },
    "tags": []
   },
   "outputs": [],
   "source": [
    "# Create positive samples with a label of 1\n",
    "positive_samples = sample_merged_df[['customer_id', 'article_id']].copy()\n",
    "positive_samples['label'] = 1"
   ]
  },
  {
   "cell_type": "code",
   "execution_count": 13,
   "id": "fac09060",
   "metadata": {
    "execution": {
     "iopub.execute_input": "2025-08-21T15:15:32.577761Z",
     "iopub.status.busy": "2025-08-21T15:15:32.577422Z",
     "iopub.status.idle": "2025-08-21T15:15:32.585121Z",
     "shell.execute_reply": "2025-08-21T15:15:32.583637Z"
    },
    "papermill": {
     "duration": 0.019272,
     "end_time": "2025-08-21T15:15:32.587088",
     "exception": false,
     "start_time": "2025-08-21T15:15:32.567816",
     "status": "completed"
    },
    "tags": []
   },
   "outputs": [],
   "source": [
    "# Negative Sampling: Get all unique article IDs\n",
    "all_article_ids = sample_merged_df['article_id'].unique()"
   ]
  },
  {
   "cell_type": "code",
   "execution_count": 14,
   "id": "3ce3f576",
   "metadata": {
    "execution": {
     "iopub.execute_input": "2025-08-21T15:15:32.607589Z",
     "iopub.status.busy": "2025-08-21T15:15:32.606828Z",
     "iopub.status.idle": "2025-08-21T15:47:30.001257Z",
     "shell.execute_reply": "2025-08-21T15:47:29.999806Z"
    },
    "papermill": {
     "duration": 1917.415299,
     "end_time": "2025-08-21T15:47:30.011398",
     "exception": false,
     "start_time": "2025-08-21T15:15:32.596099",
     "status": "completed"
    },
    "tags": []
   },
   "outputs": [
    {
     "data": {
      "text/html": [
       "<div>\n",
       "<style scoped>\n",
       "    .dataframe tbody tr th:only-of-type {\n",
       "        vertical-align: middle;\n",
       "    }\n",
       "\n",
       "    .dataframe tbody tr th {\n",
       "        vertical-align: top;\n",
       "    }\n",
       "\n",
       "    .dataframe thead th {\n",
       "        text-align: right;\n",
       "    }\n",
       "</style>\n",
       "<table border=\"1\" class=\"dataframe\">\n",
       "  <thead>\n",
       "    <tr style=\"text-align: right;\">\n",
       "      <th></th>\n",
       "      <th>customer_id</th>\n",
       "      <th>article_id</th>\n",
       "      <th>label</th>\n",
       "    </tr>\n",
       "  </thead>\n",
       "  <tbody>\n",
       "    <tr>\n",
       "      <th>0</th>\n",
       "      <td>dda4b507ba647aec8fe0c10767133f05cce8b847c0e1fb...</td>\n",
       "      <td>861373001</td>\n",
       "      <td>0</td>\n",
       "    </tr>\n",
       "    <tr>\n",
       "      <th>1</th>\n",
       "      <td>dda4b507ba647aec8fe0c10767133f05cce8b847c0e1fb...</td>\n",
       "      <td>801803001</td>\n",
       "      <td>0</td>\n",
       "    </tr>\n",
       "    <tr>\n",
       "      <th>2</th>\n",
       "      <td>dda4b507ba647aec8fe0c10767133f05cce8b847c0e1fb...</td>\n",
       "      <td>861451002</td>\n",
       "      <td>0</td>\n",
       "    </tr>\n",
       "    <tr>\n",
       "      <th>3</th>\n",
       "      <td>dda4b507ba647aec8fe0c10767133f05cce8b847c0e1fb...</td>\n",
       "      <td>904995001</td>\n",
       "      <td>0</td>\n",
       "    </tr>\n",
       "    <tr>\n",
       "      <th>4</th>\n",
       "      <td>db48cdc0f7cedaea840f50dc2e7b52dd84e0d67c48ac82...</td>\n",
       "      <td>698387022</td>\n",
       "      <td>0</td>\n",
       "    </tr>\n",
       "  </tbody>\n",
       "</table>\n",
       "</div>"
      ],
      "text/plain": [
       "                                         customer_id  article_id  label\n",
       "0  dda4b507ba647aec8fe0c10767133f05cce8b847c0e1fb...   861373001      0\n",
       "1  dda4b507ba647aec8fe0c10767133f05cce8b847c0e1fb...   801803001      0\n",
       "2  dda4b507ba647aec8fe0c10767133f05cce8b847c0e1fb...   861451002      0\n",
       "3  dda4b507ba647aec8fe0c10767133f05cce8b847c0e1fb...   904995001      0\n",
       "4  db48cdc0f7cedaea840f50dc2e7b52dd84e0d67c48ac82...   698387022      0"
      ]
     },
     "execution_count": 14,
     "metadata": {},
     "output_type": "execute_result"
    }
   ],
   "source": [
    "# generate negetive sample list\n",
    "negative_samples_list = []\n",
    "for customer in positive_samples['customer_id'].unique():\n",
    "    customer_purchases = set(positive_samples[positive_samples['customer_id'] == customer]['article_id'])\n",
    "    \n",
    "    # Get articles not purchased by the customer\n",
    "    non_purchased_articles = np.setdiff1d(all_article_ids, list(customer_purchases))\n",
    "    \n",
    "    # Randomly sample a few non-purchased items for each purchase\n",
    "    num_neg_samples = min(len(non_purchased_articles), 4) # Take 4 negative samples for each positive\n",
    "    if num_neg_samples > 0:\n",
    "        neg_articles = np.random.choice(non_purchased_articles, num_neg_samples, replace=False)\n",
    "        for neg_article in neg_articles:\n",
    "            negative_samples_list.append([customer, neg_article, 0])\n",
    "\n",
    "negative_samples = pd.DataFrame(negative_samples_list, columns=['customer_id', 'article_id', 'label'])\n",
    "\n",
    "negative_samples.head()"
   ]
  },
  {
   "cell_type": "code",
   "execution_count": 15,
   "id": "6db6940d",
   "metadata": {
    "execution": {
     "iopub.execute_input": "2025-08-21T15:47:30.027993Z",
     "iopub.status.busy": "2025-08-21T15:47:30.027659Z",
     "iopub.status.idle": "2025-08-21T15:47:30.458517Z",
     "shell.execute_reply": "2025-08-21T15:47:30.457574Z"
    },
    "papermill": {
     "duration": 0.441487,
     "end_time": "2025-08-21T15:47:30.460367",
     "exception": false,
     "start_time": "2025-08-21T15:47:30.018880",
     "status": "completed"
    },
    "tags": []
   },
   "outputs": [
    {
     "name": "stdout",
     "output_type": "stream",
     "text": [
      "\n",
      "Final Dataset Shape:\n",
      "(433492, 8)\n",
      "\n",
      "Distribution of Labels:\n",
      "label\n",
      "0    333492\n",
      "1    100000\n",
      "Name: count, dtype: int64\n",
      "Final Dataset for Modeling Head:\n"
     ]
    },
    {
     "data": {
      "text/html": [
       "<div>\n",
       "<style scoped>\n",
       "    .dataframe tbody tr th:only-of-type {\n",
       "        vertical-align: middle;\n",
       "    }\n",
       "\n",
       "    .dataframe tbody tr th {\n",
       "        vertical-align: top;\n",
       "    }\n",
       "\n",
       "    .dataframe thead th {\n",
       "        text-align: right;\n",
       "    }\n",
       "</style>\n",
       "<table border=\"1\" class=\"dataframe\">\n",
       "  <thead>\n",
       "    <tr style=\"text-align: right;\">\n",
       "      <th></th>\n",
       "      <th>customer_id</th>\n",
       "      <th>article_id</th>\n",
       "      <th>label</th>\n",
       "      <th>total_purchase</th>\n",
       "      <th>last_purchase_date</th>\n",
       "      <th>recency_days</th>\n",
       "      <th>purchase_count</th>\n",
       "      <th>average_price</th>\n",
       "    </tr>\n",
       "  </thead>\n",
       "  <tbody>\n",
       "    <tr>\n",
       "      <th>0</th>\n",
       "      <td>dda4b507ba647aec8fe0c10767133f05cce8b847c0e1fb...</td>\n",
       "      <td>850917001</td>\n",
       "      <td>1</td>\n",
       "      <td>11</td>\n",
       "      <td>2020-09-20</td>\n",
       "      <td>2</td>\n",
       "      <td>3530</td>\n",
       "      <td>0.024704</td>\n",
       "    </tr>\n",
       "    <tr>\n",
       "      <th>1</th>\n",
       "      <td>db48cdc0f7cedaea840f50dc2e7b52dd84e0d67c48ac82...</td>\n",
       "      <td>641804002</td>\n",
       "      <td>1</td>\n",
       "      <td>57</td>\n",
       "      <td>2020-09-20</td>\n",
       "      <td>2</td>\n",
       "      <td>38</td>\n",
       "      <td>0.033022</td>\n",
       "    </tr>\n",
       "    <tr>\n",
       "      <th>2</th>\n",
       "      <td>087e522ecf2fe0bf21eb9df8f1d93d0159e7aacad094bc...</td>\n",
       "      <td>850241001</td>\n",
       "      <td>1</td>\n",
       "      <td>14</td>\n",
       "      <td>2020-08-29</td>\n",
       "      <td>24</td>\n",
       "      <td>394</td>\n",
       "      <td>0.016158</td>\n",
       "    </tr>\n",
       "    <tr>\n",
       "      <th>3</th>\n",
       "      <td>7efc9f365f8905b3b7112097822e6c1acaba16bc991972...</td>\n",
       "      <td>862482009</td>\n",
       "      <td>1</td>\n",
       "      <td>32</td>\n",
       "      <td>2020-09-14</td>\n",
       "      <td>8</td>\n",
       "      <td>652</td>\n",
       "      <td>0.031093</td>\n",
       "    </tr>\n",
       "    <tr>\n",
       "      <th>4</th>\n",
       "      <td>87fa826bdcd3470c14251cd6bc4377c6697f08b382d375...</td>\n",
       "      <td>688105016</td>\n",
       "      <td>1</td>\n",
       "      <td>5</td>\n",
       "      <td>2020-07-16</td>\n",
       "      <td>68</td>\n",
       "      <td>145</td>\n",
       "      <td>0.030448</td>\n",
       "    </tr>\n",
       "  </tbody>\n",
       "</table>\n",
       "</div>"
      ],
      "text/plain": [
       "                                         customer_id  article_id  label  \\\n",
       "0  dda4b507ba647aec8fe0c10767133f05cce8b847c0e1fb...   850917001      1   \n",
       "1  db48cdc0f7cedaea840f50dc2e7b52dd84e0d67c48ac82...   641804002      1   \n",
       "2  087e522ecf2fe0bf21eb9df8f1d93d0159e7aacad094bc...   850241001      1   \n",
       "3  7efc9f365f8905b3b7112097822e6c1acaba16bc991972...   862482009      1   \n",
       "4  87fa826bdcd3470c14251cd6bc4377c6697f08b382d375...   688105016      1   \n",
       "\n",
       "   total_purchase last_purchase_date  recency_days  purchase_count  \\\n",
       "0              11         2020-09-20             2            3530   \n",
       "1              57         2020-09-20             2              38   \n",
       "2              14         2020-08-29            24             394   \n",
       "3              32         2020-09-14             8             652   \n",
       "4               5         2020-07-16            68             145   \n",
       "\n",
       "   average_price  \n",
       "0       0.024704  \n",
       "1       0.033022  \n",
       "2       0.016158  \n",
       "3       0.031093  \n",
       "4       0.030448  "
      ]
     },
     "execution_count": 15,
     "metadata": {},
     "output_type": "execute_result"
    }
   ],
   "source": [
    "# Now combine positive and negative samples\n",
    "final_data = pd.concat([positive_samples, negative_samples], ignore_index=True)\n",
    "\n",
    "# Merge our aggregated features\n",
    "final_data = pd.merge(final_data, customer_features, on='customer_id', how='left')\n",
    "final_data = pd.merge(final_data, artical_features, on='article_id', how='left')\n",
    "\n",
    "# Show the final dataset structure\n",
    "print(\"\\nFinal Dataset Shape:\")\n",
    "print(final_data.shape)\n",
    "print(\"\\nDistribution of Labels:\")\n",
    "print(final_data['label'].value_counts())\n",
    "\n",
    "print(\"Final Dataset for Modeling Head:\")\n",
    "final_data.head()\n",
    "\n",
    "\n",
    "\n",
    "\n",
    "\n",
    "\n"
   ]
  },
  {
   "cell_type": "markdown",
   "id": "56880e1e",
   "metadata": {
    "papermill": {
     "duration": 0.007993,
     "end_time": "2025-08-21T15:47:30.476192",
     "exception": false,
     "start_time": "2025-08-21T15:47:30.468199",
     "status": "completed"
    },
    "tags": []
   },
   "source": [
    "# Now that we have our final dataset, with both positive and negative samples, our next step is to build and train a machine learning model. This is where we will use all the features we engineered to create a powerful ranking model.\n",
    "Now that we have our final dataset, with both positive and negative samples, our next step is to build and train a machine learning model. This is where we will use all the features we engineered to create a powerful ranking model.\n",
    "\n",
    "## Building the Ranking Model with LightGBM\n",
    "#### A great choice for this type of structured, tabular data is a gradient boosting model. They are fast, efficient, and often perform very well in competitions. We'll use LightGBM, a popular and high-performance library.\n",
    "\n",
    "The process will involve these key steps:\n",
    "\n",
    "1. Splitting the Data: We will split our final dataset into a training set and a validation set.\n",
    "\n",
    "2. Defining Features: We will identify the features that our model will use to make predictions.\n",
    "\n",
    "3. Training the Model: We'll train a LightGBM classifier to predict the label (purchase or not) for each customer-article pair."
   ]
  },
  {
   "cell_type": "markdown",
   "id": "1b34e5a5",
   "metadata": {
    "papermill": {
     "duration": 0.007289,
     "end_time": "2025-08-21T15:47:30.490961",
     "exception": false,
     "start_time": "2025-08-21T15:47:30.483672",
     "status": "completed"
    },
    "tags": []
   },
   "source": [
    "## We need to import sklearn and LightGBM model"
   ]
  },
  {
   "cell_type": "code",
   "execution_count": 16,
   "id": "c1f1d8a4",
   "metadata": {
    "execution": {
     "iopub.execute_input": "2025-08-21T15:47:30.507579Z",
     "iopub.status.busy": "2025-08-21T15:47:30.507252Z",
     "iopub.status.idle": "2025-08-21T15:47:39.947027Z",
     "shell.execute_reply": "2025-08-21T15:47:39.946045Z"
    },
    "papermill": {
     "duration": 9.450108,
     "end_time": "2025-08-21T15:47:39.948806",
     "exception": false,
     "start_time": "2025-08-21T15:47:30.498698",
     "status": "completed"
    },
    "tags": []
   },
   "outputs": [],
   "source": [
    "import lightgbm as lgb\n",
    "from sklearn.model_selection import train_test_split"
   ]
  },
  {
   "cell_type": "code",
   "execution_count": 17,
   "id": "2c7b7841",
   "metadata": {
    "execution": {
     "iopub.execute_input": "2025-08-21T15:47:39.966672Z",
     "iopub.status.busy": "2025-08-21T15:47:39.966003Z",
     "iopub.status.idle": "2025-08-21T15:47:42.139695Z",
     "shell.execute_reply": "2025-08-21T15:47:42.138588Z"
    },
    "papermill": {
     "duration": 2.184955,
     "end_time": "2025-08-21T15:47:42.141422",
     "exception": false,
     "start_time": "2025-08-21T15:47:39.956467",
     "status": "completed"
    },
    "tags": []
   },
   "outputs": [
    {
     "name": "stdout",
     "output_type": "stream",
     "text": [
      "[LightGBM] [Info] Number of positive: 80000, number of negative: 266793\n",
      "[LightGBM] [Info] Auto-choosing col-wise multi-threading, the overhead of testing was 0.016536 seconds.\n",
      "You can set `force_col_wise=true` to remove the overhead.\n",
      "[LightGBM] [Info] Total Bins 806\n",
      "[LightGBM] [Info] Number of data points in the train set: 346793, number of used features: 4\n",
      "[LightGBM] [Info] [binary:BoostFromScore]: pavg=0.230685 -> initscore=-1.204446\n",
      "[LightGBM] [Info] Start training from score -1.204446\n",
      "LightGBM model training complete!\n",
      "Model accuracy on validation set: 0.8013817921775338\n"
     ]
    }
   ],
   "source": [
    "# Define features and target\n",
    "features = ['total_purchase', 'recency_days', 'purchase_count', 'average_price']\n",
    "target = 'label'\n",
    "\n",
    "# Drop any NaN values that might have been created during merging the datasets\n",
    "final_data.dropna(subset=features, inplace=True)\n",
    "\n",
    "X = final_data[features]\n",
    "y = final_data[target]\n",
    "\n",
    "# Split data into training and validation sets\n",
    "X_train, X_val, y_train, y_val = train_test_split(X, y, test_size=0.2, random_state=42, stratify=y)\n",
    "\n",
    "# Initialize and train the LightGBM model\n",
    "lgb_model = lgb.LGBMClassifier(random_state=42)\n",
    "lgb_model.fit(X_train, y_train)\n",
    "\n",
    "# Print a confirmation message\n",
    "print(\"LightGBM model training complete!\")\n",
    "print(\"Model accuracy on validation set:\", lgb_model.score(X_val, y_val))"
   ]
  },
  {
   "cell_type": "code",
   "execution_count": null,
   "id": "e2775d9e",
   "metadata": {
    "papermill": {
     "duration": 0.008129,
     "end_time": "2025-08-21T15:47:42.158338",
     "exception": false,
     "start_time": "2025-08-21T15:47:42.150209",
     "status": "completed"
    },
    "tags": []
   },
   "outputs": [],
   "source": []
  }
 ],
 "metadata": {
  "kaggle": {
   "accelerator": "none",
   "dataSources": [
    {
     "databundleVersionId": 3103714,
     "sourceId": 31254,
     "sourceType": "competition"
    }
   ],
   "dockerImageVersionId": 31089,
   "isGpuEnabled": false,
   "isInternetEnabled": true,
   "language": "python",
   "sourceType": "notebook"
  },
  "kernelspec": {
   "display_name": "Python 3",
   "language": "python",
   "name": "python3"
  },
  "language_info": {
   "codemirror_mode": {
    "name": "ipython",
    "version": 3
   },
   "file_extension": ".py",
   "mimetype": "text/x-python",
   "name": "python",
   "nbconvert_exporter": "python",
   "pygments_lexer": "ipython3",
   "version": "3.11.13"
  },
  "papermill": {
   "default_parameters": {},
   "duration": 2062.596631,
   "end_time": "2025-08-21T15:47:44.891514",
   "environment_variables": {},
   "exception": null,
   "input_path": "__notebook__.ipynb",
   "output_path": "__notebook__.ipynb",
   "parameters": {},
   "start_time": "2025-08-21T15:13:22.294883",
   "version": "2.6.0"
  }
 },
 "nbformat": 4,
 "nbformat_minor": 5
}
