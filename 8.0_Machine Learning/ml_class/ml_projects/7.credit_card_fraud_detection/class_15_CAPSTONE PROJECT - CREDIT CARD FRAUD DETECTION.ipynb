{
 "cells": [
  {
   "cell_type": "markdown",
   "metadata": {},
   "source": [
    "CAPSTONE PROJECT - CREDIT CARD FRAUD DETECTION"
   ]
  },
  {
   "cell_type": "markdown",
   "metadata": {},
   "source": [
    "\n",
    "CAPSTONE PROJECT - CREDIT CARD FRAUD DETECTION\n",
    "\n",
    "https://www.kaggle.com/datasets/mlg-ulb/creditcardfraud/discussion/277570\n",
    "\n",
    "https://data-flair.training/blogs/credit-card-fraud-detection-python-machine-learning/"
   ]
  },
  {
   "cell_type": "code",
   "execution_count": null,
   "metadata": {},
   "outputs": [],
   "source": [
    "https://fraud-detection-handbook.github.io/fraud-detection-handbook/Chapter_3_GettingStarted/SimulatedDataset.html"
   ]
  },
  {
   "cell_type": "markdown",
   "metadata": {},
   "source": [
    "https://www.kaggle.com/datasets/mlg-ulb/creditcardfraud?select=creditcard.csv\n",
    "\n",
    "https://www.kaggle.com/datasets/mlg-ulb/creditcardfraud  --> data set link"
   ]
  },
  {
   "cell_type": "markdown",
   "metadata": {},
   "source": []
  }
 ],
 "metadata": {
  "language_info": {
   "name": "python"
  }
 },
 "nbformat": 4,
 "nbformat_minor": 2
}
