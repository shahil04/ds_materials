{
 "cells": [
  {
   "cell_type": "markdown",
   "metadata": {},
   "source": [
    "## what we will learn\n",
    "\n",
    "- Regularization\n",
    "- Underfitting and Overfitting\n",
    "- bias variance \n",
    "- bias -variance tradeoff\n",
    "- Cross Validation"
   ]
  },
  {
   "cell_type": "code",
   "execution_count": 3,
   "metadata": {},
   "outputs": [],
   "source": [
    "import numpy as np\n",
    "import pandas as pd\n",
    "import matplotlib.pyplot as plt"
   ]
  },
  {
   "cell_type": "markdown",
   "metadata": {},
   "source": [
    "### Topics \n",
    "\n",
    "- Regularizations\n",
    "    - ridge,lasso,ElasticNet\n",
    "  \n",
    "- Bias Variance\n",
    "    -  overfitting, underfitting\n",
    "\n",
    "- CrossValidations  "
   ]
  },
  {
   "cell_type": "markdown",
   "metadata": {},
   "source": [
    "## Regularizations"
   ]
  },
  {
   "cell_type": "markdown",
   "metadata": {},
   "source": [
    "Regularization is a technique used to reduce errors by fitting the function appropriately on the given training set and avoiding overfitting.\n",
    "\n",
    "##### Role Of Regularization\n",
    "\n",
    "In Python, Regularization is a technique used to prevent overfitting by adding a penalty term to the loss function, discouraging the model from assigning too much importance to individual features or coefficients.\n",
    "\n",
    "1. Complexity Control: Regularization helps control model complexity by preventing overfitting to training data, resulting in better generalization to new data.\n",
    "2. Preventing Overfitting: One way to prevent overfitting is to use regularization, which penalizes large coefficients and constrains their magnitudes, thereby preventing a model from becoming overly complex and memorizing the training data instead of learning its underlying patterns.\n",
    "3. Balancing Bias and Variance: Regularization can help balance the trade-off between model bias (underfitting) and model variance (overfitting) in machine learning, which leads to improved performance.\n",
    "4. Feature Selection: Some regularization methods, such as L1 regularization (Lasso), promote sparse solutions that drive some feature coefficients to zero. This automatically selects important features while excluding less important ones.\n",
    "5. Handling Multicollinearity: When features are highly correlated (multicollinearity), regularization can stabilize the model by reducing coefficient sensitivity to small data changes.\n",
    "6. Generalization: Regularized models learn underlying patterns of data for better generalization to new data, instead of memorizing specific examples.\n",
    "\n",
    "- https://www.geeksforgeeks.org/regularization-in-machine-learning/ \n",
    "- https://www.geeksforgeeks.org/regularization-techniques-in-machine-learning/"
   ]
  },
  {
   "cell_type": "markdown",
   "metadata": {},
   "source": [
    "### Lasso(L1) Ridge(L2) ElasticNet"
   ]
  },
  {
   "cell_type": "code",
   "execution_count": 1,
   "metadata": {},
   "outputs": [],
   "source": [
    "import pandas as pd\n",
    "import numpy as np\n",
    "import matplotlib.pyplot as plt\n",
    "import seaborn as sns\n",
    "\n",
    "import warnings\n",
    "warnings.filterwarnings('ignore')"
   ]
  },
  {
   "cell_type": "code",
   "execution_count": null,
   "metadata": {},
   "outputs": [],
   "source": []
  },
  {
   "cell_type": "code",
   "execution_count": 2,
   "metadata": {},
   "outputs": [
    {
     "name": "stdout",
     "output_type": "stream",
     "text": [
      "<class 'pandas.core.frame.DataFrame'>\n",
      "RangeIndex: 398 entries, 0 to 397\n",
      "Data columns (total 8 columns):\n",
      " #   Column        Non-Null Count  Dtype  \n",
      "---  ------        --------------  -----  \n",
      " 0   mpg           398 non-null    float64\n",
      " 1   cylinders     398 non-null    int64  \n",
      " 2   displacement  398 non-null    float64\n",
      " 3   horsepower    398 non-null    float64\n",
      " 4   weight        398 non-null    int64  \n",
      " 5   acceleration  398 non-null    float64\n",
      " 6   model_year    398 non-null    int64  \n",
      " 7   origin        398 non-null    object \n",
      "dtypes: float64(4), int64(3), object(1)\n",
      "memory usage: 25.0+ KB\n"
     ]
    }
   ],
   "source": [
    "df = sns.load_dataset('mpg')\n",
    "df.drop(\"name\", axis =1, inplace=True)\n",
    "df\n",
    "df.isna().sum()\n",
    "\n",
    "df['horsepower'].median()\n",
    "\n",
    "df['horsepower'] = df['horsepower'].fillna(df['horsepower'].median())\n",
    "\n",
    "df.info()\n",
    "\n",
    "df.origin.unique()\n",
    "\n",
    "\n",
    "df.origin.value_counts()\n",
    "\n",
    "df['origin'] = df['origin'].map({\"usa\":1, \"japan\": 2, \"europe\": 3})\n",
    "\n",
    "X = df.drop('mpg', axis =1)\n",
    "y = df['mpg']\n",
    "\n"
   ]
  },
  {
   "cell_type": "code",
   "execution_count": 3,
   "metadata": {},
   "outputs": [
    {
     "name": "stdout",
     "output_type": "stream",
     "text": [
      "The coefficient for cylinders is -0.3176142302799369\n",
      "The coefficient for displacement is 0.026237482599078946\n",
      "The coefficient for horsepower is -0.018270764913124595\n",
      "The coefficient for weight is -0.007487750398361897\n",
      "The coefficient for acceleration is 0.0504067346197138\n",
      "The coefficient for model_year is 0.8470951427061365\n",
      "The coefficient for origin is 1.5190958387975024\n"
     ]
    }
   ],
   "source": [
    "from sklearn.model_selection import train_test_split\n",
    "X_train, X_test, y_train, y_test = train_test_split(X, y, test_size = 0.3, random_state=1)\n",
    "\n",
    "X_train.shape, X_test.shape\n",
    "\n",
    "from sklearn.linear_model import LinearRegression\n",
    "regression_model = LinearRegression()\n",
    "regression_model\n",
    "\n",
    "regression_model.fit(X_train, y_train)\n",
    "\n",
    "\n",
    "for i, col_name in enumerate(X_train.columns):\n",
    "    print(f\"The coefficient for {col_name} is {regression_model.coef_[i]}\")"
   ]
  },
  {
   "cell_type": "code",
   "execution_count": 4,
   "metadata": {},
   "outputs": [
    {
     "data": {
      "text/plain": [
       "0.8348001123742285"
      ]
     },
     "execution_count": 4,
     "metadata": {},
     "output_type": "execute_result"
    }
   ],
   "source": [
    "from sklearn.metrics import r2_score\n",
    "y_pred_linear = regression_model.predict(X_test)\n",
    "r2_score(y_test, y_pred_linear)"
   ]
  },
  {
   "cell_type": "code",
   "execution_count": 5,
   "metadata": {},
   "outputs": [
    {
     "name": "stdout",
     "output_type": "stream",
     "text": [
      "The coefficient for cylinders is -0.10121103813475338\n",
      "The coefficient for displacement is 0.01549704723498359\n",
      "The coefficient for horsepower is -0.015154146537673992\n",
      "The coefficient for weight is -0.0072516011271230064\n",
      "The coefficient for acceleration is 0.030640385245588053\n",
      "The coefficient for model_year is 0.7914981246881716\n",
      "The coefficient for origin is 0.7240611102907413\n"
     ]
    }
   ],
   "source": [
    "#ridge regression\n",
    "\n",
    "from sklearn.linear_model import Ridge,LinearRegression\n",
    "\n",
    "ridge_regression_model = Ridge(alpha=100)\n",
    "\n",
    "ridge_regression_model.fit(X_train, y_train)\n",
    "\n",
    "for i, col_name in enumerate(X_train.columns):\n",
    "    print(f\"The coefficient for {col_name} is {ridge_regression_model.coef_[i]}\")"
   ]
  },
  {
   "cell_type": "code",
   "execution_count": 6,
   "metadata": {},
   "outputs": [
    {
     "data": {
      "text/plain": [
       "0.8350365150570258"
      ]
     },
     "execution_count": 6,
     "metadata": {},
     "output_type": "execute_result"
    }
   ],
   "source": [
    "from sklearn.metrics import r2_score\n",
    "y_pred = ridge_regression_model.predict(X_test)\n",
    "r2_score(y_test, y_pred)"
   ]
  },
  {
   "cell_type": "code",
   "execution_count": 7,
   "metadata": {},
   "outputs": [
    {
     "name": "stdout",
     "output_type": "stream",
     "text": [
      "The coefficient for cylinders is -0.0\n",
      "The coefficient for displacement is 0.006208198888300358\n",
      "The coefficient for horsepower is -0.011058382987169565\n",
      "The coefficient for weight is -0.0069826731680230885\n",
      "The coefficient for acceleration is 0.0\n",
      "The coefficient for model_year is 0.744654952003819\n",
      "The coefficient for origin is 0.0\n"
     ]
    }
   ],
   "source": [
    "#lasso regression\n",
    "\n",
    "from sklearn.linear_model import Lasso\n",
    "\n",
    "lasso_regression_model = Lasso(alpha=0.5)\n",
    "\n",
    "lasso_regression_model.fit(X_train, y_train)\n",
    "\n",
    "for i, col_name in enumerate(X_train.columns):\n",
    "    print(f\"The coefficient for {col_name} is {lasso_regression_model.coef_[i]}\")"
   ]
  },
  {
   "cell_type": "code",
   "execution_count": 8,
   "metadata": {},
   "outputs": [
    {
     "data": {
      "text/plain": [
       "0.8277934716635555"
      ]
     },
     "execution_count": 8,
     "metadata": {},
     "output_type": "execute_result"
    }
   ],
   "source": [
    "from sklearn.metrics import r2_score\n",
    "y_pred = lasso_regression_model.predict(X_test)\n",
    "r2_score(y_test, y_pred)"
   ]
  },
  {
   "cell_type": "markdown",
   "metadata": {},
   "source": [
    "# ElasticNet"
   ]
  },
  {
   "cell_type": "code",
   "execution_count": 9,
   "metadata": {},
   "outputs": [],
   "source": [
    "from sklearn.linear_model import ElasticNet"
   ]
  },
  {
   "cell_type": "code",
   "execution_count": 10,
   "metadata": {},
   "outputs": [
    {
     "name": "stdout",
     "output_type": "stream",
     "text": [
      "The coefficient for cylinders is -0.0\n",
      "The coefficient for displacement is 0.007991329781571462\n",
      "The coefficient for horsepower is -0.013891824664720713\n",
      "The coefficient for weight is -0.006988137750203173\n",
      "The coefficient for acceleration is 0.0\n",
      "The coefficient for model_year is 0.736838267738092\n",
      "The coefficient for origin is 0.20426289739925593\n"
     ]
    }
   ],
   "source": [
    "elastic_regression_model = ElasticNet(alpha=0.8, l1_ratio=0.4)\n",
    "elastic_regression_model.fit(X_train, y_train)\n",
    "for i, col_name in enumerate(X_train.columns):\n",
    "    print(f\"The coefficient for {col_name} is {elastic_regression_model.coef_[i]}\")"
   ]
  },
  {
   "cell_type": "code",
   "execution_count": 11,
   "metadata": {},
   "outputs": [
    {
     "data": {
      "text/plain": [
       "0.8308672338152328"
      ]
     },
     "execution_count": 11,
     "metadata": {},
     "output_type": "execute_result"
    }
   ],
   "source": [
    "from sklearn.metrics import r2_score\n",
    "y_pred = elastic_regression_model.predict(X_test)\n",
    "r2_score(y_test, y_pred)"
   ]
  },
  {
   "cell_type": "markdown",
   "metadata": {},
   "source": [
    "## Bias Variance\n",
    "\n",
    "Bias is simply defined as the inability of the model because of that there is some difference or error occurring between the model’s predicted value and the actual value. These differences between actual or expected values and the predicted values are known as error or bias error or error due to bias. Bias is a systematic error that occurs due to wrong assumptions in the machine learning process. \n",
    "\n",
    "https://www.geeksforgeeks.org/bias-vs-variance-in-machine-learning/\n",
    "\n"
   ]
  },
  {
   "cell_type": "markdown",
   "metadata": {},
   "source": [
    "![alt text](bias-and-variance-in-machine-learning.png)\n",
    "\n",
    "![alt text](bias-and-variance-in-machine-learning2.png)\n",
    "\n",
    "![alt text](bias-and-variance-in-machine-learning3.png)\n",
    "\n",
    "![alt text](bias-and-variance-in-machine-learning4.png)"
   ]
  },
  {
   "cell_type": "markdown",
   "metadata": {},
   "source": [
    "## bias variance code\n",
    "- https://www.superannotate.com/blog/overfitting-and-underfitting-in-machine-learning\n",
    "- https://www.javatpoint.com/bias-and-variance-in-machine-learning \n",
    "- https://spotintelligence.com/2023/04/11/bias-variance-trade-off/\n",
    "\n"
   ]
  },
  {
   "cell_type": "markdown",
   "metadata": {},
   "source": [
    "Bias and variance are two core components that determine the performance of machine learning models, and they are critical for understanding the trade-offs involved in model selection and training. Understanding these concepts can help you evaluate model errors and improve model generalization. Let’s dive into the details of bias and variance, and then implement them using Python with an example.\n",
    "\n",
    "### **1. Bias and Variance: The Key Concepts**\n",
    "\n",
    "- **Bias**: It refers to the error introduced by approximating a real-world problem (which may be complex) by a simplified model. A high-bias model makes strong assumptions about the data and typically underfits. Underfitting means the model is too simplistic and cannot capture the underlying patterns in the data.\n",
    "  \n",
    "- **Variance**: It refers to the error introduced by the model’s sensitivity to small fluctuations in the training set. A high-variance model overfits, meaning it memorizes the training data and performs poorly on unseen data because it is too complex.\n",
    "  \n",
    "- **Bias-Variance Trade-off**: The goal is to strike a balance between bias and variance. A good model has low bias and low variance, but in practice, improving one tends to worsen the other. As you reduce bias (increasing model complexity), variance increases, and vice versa.\n",
    "\n",
    "### **2. Error Decomposition:**\n",
    "\n",
    "The generalization error of a model can be decomposed into three components:\n",
    "\n",
    "- **Bias**: The error due to overly simplistic assumptions in the model.\n",
    "- **Variance**: The error due to the model’s sensitivity to the training data.\n",
    "- **Irreducible Error**: The noise in the data that cannot be reduced by any model.\n",
    "\n",
    "\\[\n",
    "\\text{Error} = \\text{Bias}^2 + \\text{Variance} + \\text{Irreducible Error}\n",
    "\\]\n",
    "\n",
    "### **3. Example: Implementing Bias and Variance in Python**\n",
    "\n",
    "Let’s use a simple dataset (e.g., synthetic data) and visualize how bias and variance behave with different model complexities.\n",
    "\n",
    "#### **Step 1: Generate Synthetic Data**\n",
    "\n",
    "\n",
    "\n",
    "#### **Step 2: Define Models with Different Complexity**\n",
    "\n",
    "We’ll fit three models with different complexities:\n",
    "- **Low Complexity**: Linear regression (high bias, low variance)\n",
    "- **Medium Complexity**: Polynomial regression (low bias, medium variance)\n",
    "- **High Complexity**: High-degree polynomial regression (low bias, high variance)\n",
    "\n",
    "#### **Step 3: Visualizing the Bias-Variance Trade-off**\n",
    "\n",
    "### **Conclusion**\n"
   ]
  },
  {
   "cell_type": "code",
   "execution_count": 15,
   "metadata": {},
   "outputs": [
    {
     "data": {
      "image/png": "[encoded data removed]",
      "text/plain": [
       "<Figure size 800x600 with 1 Axes>"
      ]
     },
     "metadata": {},
     "output_type": "display_data"
    }
   ],
   "source": [
    "# Step 1: Generate Synthetic Data\n",
    "\n",
    "import numpy as np\n",
    "import matplotlib.pyplot as plt\n",
    "\n",
    "# Generate synthetic data\n",
    "np.random.seed(42)\n",
    "\n",
    "# True quadratic function: y = 0.5 * x^2 + noise\n",
    "X = np.linspace(-3, 3, 100)\n",
    "y_true = 0.5 * X**2 + np.random.normal(0, 0.1, len(X))  # y = 0.5x^2 + noise\n",
    "\n",
    "# Visualize the true data\n",
    "plt.figure(figsize=(8,6))\n",
    "plt.scatter(X, y_true, color='blue', label='Noisy data')\n",
    "plt.plot(X, 0.5 * X**2, color='red', label='True function', linewidth=2)\n",
    "plt.legend()\n",
    "plt.xlabel('X')\n",
    "plt.ylabel('y')\n",
    "plt.title('Synthetic Quadratic Data')\n",
    "plt.show()\n"
   ]
  },
  {
   "cell_type": "code",
   "execution_count": 16,
   "metadata": {},
   "outputs": [
    {
     "name": "stdout",
     "output_type": "stream",
     "text": [
      "Mean Squared Error (Linear): 1.6780\n",
      "Mean Squared Error (Degree 3): 0.0060\n",
      "Mean Squared Error (Degree 15): 0.0086\n"
     ]
    }
   ],
   "source": [
    "# Step 2: Define Models with Different Complexity\n",
    "from sklearn.linear_model import LinearRegression\n",
    "from sklearn.preprocessing import PolynomialFeatures\n",
    "from sklearn.pipeline import make_pipeline\n",
    "from sklearn.model_selection import train_test_split\n",
    "from sklearn.metrics import mean_squared_error\n",
    "\n",
    "# Split the data\n",
    "X_train, X_test, y_train, y_test = train_test_split(X.reshape(-1, 1), y_true, test_size=0.2, random_state=42)\n",
    "\n",
    "# Linear regression (Low Complexity)\n",
    "model_linear = LinearRegression()\n",
    "\n",
    "# Polynomial regression (Medium Complexity)\n",
    "degree_3 = make_pipeline(PolynomialFeatures(degree=3), LinearRegression())\n",
    "\n",
    "# High-degree polynomial regression (High Complexity)\n",
    "degree_15 = make_pipeline(PolynomialFeatures(degree=15), LinearRegression())\n",
    "\n",
    "# Fit models\n",
    "model_linear.fit(X_train, y_train)\n",
    "degree_3.fit(X_train, y_train)\n",
    "degree_15.fit(X_train, y_train)\n",
    "\n",
    "# Predict and calculate errors\n",
    "y_pred_linear = model_linear.predict(X_test)\n",
    "y_pred_3 = degree_3.predict(X_test)\n",
    "y_pred_15 = degree_15.predict(X_test)\n",
    "\n",
    "# Compute Mean Squared Error\n",
    "mse_linear = mean_squared_error(y_test, y_pred_linear)\n",
    "mse_3 = mean_squared_error(y_test, y_pred_3)\n",
    "mse_15 = mean_squared_error(y_test, y_pred_15)\n",
    "\n",
    "print(f'Mean Squared Error (Linear): {mse_linear:.4f}')\n",
    "print(f'Mean Squared Error (Degree 3): {mse_3:.4f}')\n",
    "print(f'Mean Squared Error (Degree 15): {mse_15:.4f}')\n"
   ]
  },
  {
   "cell_type": "code",
   "execution_count": 17,
   "metadata": {},
   "outputs": [
    {
     "data": {
      "image/png": "[encoded data removed]",
      "text/plain": [
       "<Figure size 800x600 with 1 Axes>"
      ]
     },
     "metadata": {},
     "output_type": "display_data"
    }
   ],
   "source": [
    "# Step 3: Visualizing the Bias-Variance Trade-off\n",
    "\n",
    "# Plot predictions\n",
    "plt.figure(figsize=(8,6))\n",
    "\n",
    "# True function\n",
    "plt.plot(X, 0.5 * X**2, color='red', label='True function', linewidth=2)\n",
    "\n",
    "# Predictions\n",
    "plt.scatter(X, y_true, color='blue', label='Data points', alpha=0.5)\n",
    "plt.plot(X, model_linear.predict(X.reshape(-1, 1)), color='green', label='Linear Model (Low Complexity)')\n",
    "plt.plot(X, degree_3.predict(X.reshape(-1, 1)), color='orange', label='Degree 3 Polynomial (Medium Complexity)')\n",
    "plt.plot(X, degree_15.predict(X.reshape(-1, 1)), color='purple', label='Degree 15 Polynomial (High Complexity)')\n",
    "\n",
    "# Add labels and title\n",
    "plt.legend()\n",
    "plt.xlabel('X')\n",
    "plt.ylabel('y')\n",
    "plt.title('Bias-Variance Trade-off: Model Predictions')\n",
    "plt.show()\n",
    "\n",
    "# 4. Interpreting Results"
   ]
  },
  {
   "cell_type": "markdown",
   "metadata": {},
   "source": [
    "### **4. Interpreting Results**\n",
    "\n",
    "- **Linear Model** (low complexity, high bias):\n",
    "  - It underfits the data, and you can see that the model is a straight line which is far from the actual curve.\n",
    "  - The **bias** is high, because the model assumes a linear relationship, but the data is quadratic.\n",
    "  - The **variance** is low because the model doesn’t change much with different subsets of the data.\n",
    "\n",
    "- **Degree 3 Polynomial** (medium complexity, balanced bias-variance):\n",
    "  - This model fits the data better than the linear model, capturing the curvature.\n",
    "  - It strikes a balance between bias and variance, with reasonable accuracy and generalization.\n",
    "\n",
    "- **Degree 15 Polynomial** (high complexity, low bias):\n",
    "  - This model overfits the data, following every fluctuation in the noisy data points.\n",
    "  - It has **low bias** (almost perfect fit to the training data) but **high variance** (poor generalization to the test set).\n",
    "  - This model likely has a very high **variance**, meaning small changes in the training data would result in big changes to the model.\n",
    "\n",
    "### **5. Summary of Bias and Variance**\n",
    "\n",
    "- **Low Bias, High Variance**: Complex models (like high-degree polynomials) often overfit, leading to high variance and low bias.\n",
    "- **High Bias, Low Variance**: Simpler models (like linear regression) often underfit, leading to high bias and low variance.\n",
    "- **Ideal Model**: A model that captures the underlying pattern (low bias) but also generalizes well to new data (low variance).\n",
    "\n",
    "### **Conclusion**\n",
    "\n",
    "Understanding and addressing the bias-variance trade-off is crucial for building effective machine learning models. By controlling the complexity of the model, we can strike a balance that minimizes both bias and variance, leading to a model that generalizes well to unseen data. In practice, cross-validation techniques are often used to estimate generalization error and choose the right model complexity."
   ]
  },
  {
   "cell_type": "markdown",
   "metadata": {},
   "source": [
    "## Crossvalidation\n",
    "- https://www.geeksforgeeks.org/cross-validation-machine-learning/\n",
    "- https://www.analyticsvidhya.com/blog/2021/05/4-ways-to-evaluate-your-machine-learning-model-cross-validation-techniques-with-python-code/"
   ]
  },
  {
   "cell_type": "markdown",
   "metadata": {},
   "source": [
    "https://www.kaggle.com/code/jnikhilsai/cross-validation-with-linear-regression#Cross-Validation-with-Linear-Regression"
   ]
  },
  {
   "cell_type": "markdown",
   "metadata": {},
   "source": [
    "### 1. Hold Out method\n",
    "\n",
    "This is the simplest evaluation method and is widely used in Machine Learning projects. Here the entire dataset(population) is divided into 2 sets – train set and test set. The data can be divided into 70-30 or 60-40, 75-25 or 80-20, or even 50-50 depending on the use case. As a rule, the proportion of training data has to be larger than the test data.\n",
    "![alt text](<62390hold out_datavedas.jpg>)\n",
    "\n",
    "\n",
    "### 2. Leave One Out Cross-Validation\n",
    "\n",
    "In this method, we divide the data into train and test sets – but with a twist. Instead of dividing the data into 2 subsets, we select a single observation as test data, and everything else is labeled as training data and the model is trained. Now the 2nd observation is selected as test data and the model is trained on the remaining data.\n",
    "\n",
    "![alt text](22483LOOCV-split-ISLR.png)\n",
    "\n",
    "### 3. K-Fold Cross-Validation\n",
    "\n",
    "In this resampling technique, the whole data is divided into k sets of almost equal sizes. The first set is selected as the test set and the model is trained on the remaining k-1 sets. The test error rate is then calculated after fitting the model to the test data.\n",
    "\n",
    "In the second iteration, the 2nd set is selected as a test set and the remaining k-1 sets are used to train the data and the error is calculated. This process continues for all the k sets.\n",
    "\n",
    "![alt text](47515k-fold.jpg)\n",
    "\n",
    "### 4. Stratified K-Fold Cross-Validation\n",
    "\n",
    "This is a slight variation from K-Fold Cross Validation, which uses ‘stratified sampling’ instead of ‘random sampling.’\n",
    "\n",
    "Let’s quickly understand what stratified sampling is and how is it different from random sampling.\n",
    "\n",
    "Suppose your data contains reviews for a cosmetic product used by both the male and female population. When we perform random sampling to split the data into train and test sets, there is a possibility that most of the data representing males is not represented in training data but might end up in test data. When we train the model on sample training data that is not a correct representation of the actual population, the model will not predict the test data with good accuracy.\n",
    "\n",
    "This is where Stratified Sampling comes to the rescue. Here the data is split in such a way that it represents all the classes from the population.\n",
    "\n",
    "Let’s consider the above example which has a cosmetic product review of 1000 customers out of which 60% is female and 40% is male. I want to split the data into train and test data in proportion (80:20). 80% of 1000 customers will be 800 which will be chosen in such a way that there are 480 reviews associated with the female population and 320 representing the male population. In a similar fashion, 20% of 1000 customers will be chosen for the test data ( with the same female and male representation).\n",
    "![alt text](80190B9CCp.png)\n"
   ]
  },
  {
   "cell_type": "code",
   "execution_count": null,
   "metadata": {},
   "outputs": [
    {
     "name": "stdout",
     "output_type": "stream",
     "text": [
      "Train: [50, 10, 40, 20, 80, 90, 60] Test: [30, 100, 70]\n"
     ]
    }
   ],
   "source": [
    "# 1. \n",
    "from sklearn.model_selection import train_test_split\n",
    "\n",
    "X = [10, 20, 30, 40, 50, 60, 70, 80, 90, 100]\n",
    "X_train, X_test= train_test_split(X, test_size=0.3, random_state=1)\n",
    "print('Train:', X_train, 'Test:', X_test)"
   ]
  },
  {
   "cell_type": "code",
   "execution_count": 11,
   "metadata": {},
   "outputs": [
    {
     "name": "stdout",
     "output_type": "stream",
     "text": [
      "[1 2 3 4 5 6 7 8 9] [0]\n",
      "[0 2 3 4 5 6 7 8 9] [1]\n",
      "[0 1 3 4 5 6 7 8 9] [2]\n",
      "[0 1 2 4 5 6 7 8 9] [3]\n",
      "[0 1 2 3 5 6 7 8 9] [4]\n",
      "[0 1 2 3 4 6 7 8 9] [5]\n",
      "[0 1 2 3 4 5 7 8 9] [6]\n",
      "[0 1 2 3 4 5 6 8 9] [7]\n",
      "[0 1 2 3 4 5 6 7 9] [8]\n",
      "[0 1 2 3 4 5 6 7 8] [9]\n"
     ]
    }
   ],
   "source": [
    "from sklearn.model_selection import LeaveOneOut\n",
    "X = [10,20,30,40,50,60,70,80,90,100]\n",
    "\n",
    "l = LeaveOneOut()\n",
    "\n",
    "for train, test in l.split(X):\n",
    "\n",
    "    print(\"%s %s\"% (train,test))"
   ]
  },
  {
   "cell_type": "code",
   "execution_count": 13,
   "metadata": {},
   "outputs": [
    {
     "name": "stdout",
     "output_type": "stream",
     "text": [
      "<generator object BaseCrossValidator.split at 0x0000021DF24728A0>\n"
     ]
    }
   ],
   "source": [
    "print(l.split(X))"
   ]
  },
  {
   "cell_type": "code",
   "execution_count": 8,
   "metadata": {},
   "outputs": [
    {
     "name": "stdout",
     "output_type": "stream",
     "text": [
      "hello s\n",
      "hell0 s\n",
      "hello s\n",
      "hello s\n"
     ]
    }
   ],
   "source": [
    "a=\"s\"\n",
    "print(\"hello\",a)\n",
    "print(f\"hell0 {a}\")\n",
    "print(\"hello {}\".format(a))\n",
    "print(\"hello %s\"%(a))"
   ]
  },
  {
   "cell_type": "code",
   "execution_count": null,
   "metadata": {},
   "outputs": [],
   "source": []
  },
  {
   "cell_type": "code",
   "execution_count": null,
   "metadata": {},
   "outputs": [
    {
     "name": "stdout",
     "output_type": "stream",
     "text": [
      "Train data ['a', 'd', 'e', 'f'] Test data ['b', 'c']\n",
      "Train data ['a', 'b', 'c', 'd'] Test data ['e', 'f']\n",
      "Train data ['a', 'b', 'c', 'e', 'f'] Test data ['d']\n",
      "Train data ['b', 'c', 'd', 'e', 'f'] Test data ['a']\n"
     ]
    }
   ],
   "source": [
    "# 3.k_fold\n",
    "from sklearn.model_selection import KFold\n",
    "X = [\"a\",'b','c','d','e','f']\n",
    "\n",
    "kf = KFold(n_splits=4, shuffle=True, random_state=None)\n",
    "\n",
    "for train, test in kf.split(X):\n",
    "\n",
    "    # print(\"Train data\",train,\"Test data\",test)\n",
    "    print(\"Train data\",[X[i] for i in train],\"Test data\",[X[i] for i in test])\n"
   ]
  },
  {
   "cell_type": "code",
   "execution_count": 21,
   "metadata": {},
   "outputs": [
    {
     "name": "stdout",
     "output_type": "stream",
     "text": [
      "Train: [1 3 4 5] Test: [0 2]\n",
      "Train: [0 2 3 5] Test: [1 4]\n",
      "Train: [0 1 2 4] Test: [3 5]\n"
     ]
    }
   ],
   "source": [
    "# Quick implementation of Stratified K-Fold Cross-Validation in Python\n",
    "import numpy as np\n",
    "from sklearn.model_selection import StratifiedKFold\n",
    "X = np.array([[1,2],[3,4],[5,6],[7,8],[9,10],[11,12]])\n",
    "y= np.array([0,0,1,0,1,1])\n",
    "\n",
    "skf = StratifiedKFold(n_splits=3,random_state=None,shuffle=False)\n",
    "\n",
    "for train_index,test_index in skf.split(X,y):\n",
    "    print(\"Train:\",train_index,'Test:',test_index)\n",
    "    X_train,X_test = X[train_index], X[test_index]\n",
    "    y_train,y_test = y[train_index], y[test_index]"
   ]
  },
  {
   "cell_type": "markdown",
   "metadata": {},
   "source": [
    "\n",
    "## Next will learn  \n",
    "\n",
    "- Gradient Descent\n",
    "- Hyperparameter\n",
    "- Logistic Regression\n",
    "- Implementations of Cross Validation\n"
   ]
  },
  {
   "cell_type": "markdown",
   "metadata": {},
   "source": []
  }
 ],
 "metadata": {
  "kernelspec": {
   "display_name": "base",
   "language": "python",
   "name": "python3"
  },
  "language_info": {
   "codemirror_mode": {
    "name": "ipython",
    "version": 3
   },
   "file_extension": ".py",
   "mimetype": "text/x-python",
   "name": "python",
   "nbconvert_exporter": "python",
   "pygments_lexer": "ipython3",
   "version": "3.11.9"
  }
 },
 "nbformat": 4,
 "nbformat_minor": 2
}
