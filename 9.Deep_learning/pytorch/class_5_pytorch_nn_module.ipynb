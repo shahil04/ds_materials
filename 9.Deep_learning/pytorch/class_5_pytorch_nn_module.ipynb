{
  "cells": [
    {
      "cell_type": "markdown",
      "metadata": {},
      "source": [
        "Intro\n",
        "00:41 - Plan of Action / Revision\n",
        "02:12 - Improvements\n",
        "04:39 - The NN Module w Code Demo\n",
        "17:32 - Improved Code v1\n",
        "29:10 - Improvement Review\n",
        "33:30 - What is torch.optim module\n",
        "37:45 - Improved Code v2\n",
        "38:51 - Outro\n"
      ]
    },
    {
      "cell_type": "code",
      "execution_count": null,
      "metadata": {
        "id": "oJvxf-ftpdEy"
      },
      "outputs": [],
      "source": [
        "# create model class\n",
        "import torch\n",
        "import torch.nn as nn\n",
        "\n",
        "class Model(nn.Module):\n",
        "\n",
        "  def __init__(self, num_features):\n",
        "\n",
        "    super().__init__()\n",
        "    self.network = nn.Sequential(\n",
        "        nn.Linear(num_features, 3),\n",
        "        nn.ReLU(),\n",
        "        nn.Linear(3, 1),\n",
        "        nn.Sigmoid()\n",
        "    )\n",
        "\n",
        "  def forward(self, features):\n",
        "\n",
        "    out = self.network(features)\n",
        "\n",
        "    return out"
      ]
    },
    {
      "cell_type": "code",
      "execution_count": null,
      "metadata": {
        "colab": {
          "base_uri": "https://localhost:8080/"
        },
        "id": "I_Tbf5p6sQQI",
        "outputId": "5f897187-6609-4868-a294-ef15c32d5eaa"
      },
      "outputs": [
        {
          "data": {
            "text/plain": [
              "tensor([[0.6188],\n",
              "        [0.6139],\n",
              "        [0.6124],\n",
              "        [0.6172],\n",
              "        [0.6167],\n",
              "        [0.6180],\n",
              "        [0.6211],\n",
              "        [0.6171],\n",
              "        [0.6156],\n",
              "        [0.6220]], grad_fn=<SigmoidBackward0>)"
            ]
          },
          "execution_count": 16,
          "metadata": {},
          "output_type": "execute_result"
        }
      ],
      "source": [
        "# create dataset\n",
        "features = torch.rand(10,5)\n",
        "\n",
        "# create model\n",
        "model = Model(features.shape[1])\n",
        "\n",
        "# call model for forward pass\n",
        "# model.forward(features)\n",
        "model(features)"
      ]
    },
    {
      "cell_type": "code",
      "execution_count": null,
      "metadata": {
        "colab": {
          "base_uri": "https://localhost:8080/"
        },
        "id": "Kf6yPbtBPvCD",
        "outputId": "988cf3c5-b9a4-45ba-bdf5-ddc01fcd9279"
      },
      "outputs": [
        {
          "data": {
            "text/plain": [
              "Parameter containing:\n",
              "tensor([[0.5021, 0.5738, 0.4083]], requires_grad=True)"
            ]
          },
          "execution_count": 12,
          "metadata": {},
          "output_type": "execute_result"
        }
      ],
      "source": [
        "# show model weights\n",
        "model.linear2.weight"
      ]
    },
    {
      "cell_type": "code",
      "execution_count": null,
      "metadata": {
        "colab": {
          "base_uri": "https://localhost:8080/"
        },
        "id": "qcER5vK3saCz",
        "outputId": "a6a5b7d1-d255-49e1-defb-cc3c41492674"
      },
      "outputs": [
        {
          "name": "stdout",
          "output_type": "stream",
          "text": [
            "Collecting torchinfo\n",
            "  Downloading torchinfo-1.8.0-py3-none-any.whl.metadata (21 kB)\n",
            "Downloading torchinfo-1.8.0-py3-none-any.whl (23 kB)\n",
            "Installing collected packages: torchinfo\n",
            "Successfully installed torchinfo-1.8.0\n"
          ]
        }
      ],
      "source": [
        "!pip install torchinfo"
      ]
    },
    {
      "cell_type": "code",
      "execution_count": null,
      "metadata": {
        "colab": {
          "base_uri": "https://localhost:8080/"
        },
        "id": "ah9VjT_dxiJD",
        "outputId": "b63089c2-db30-4cfb-e039-830c018cdee2"
      },
      "outputs": [
        {
          "data": {
            "text/plain": [
              "==========================================================================================\n",
              "Layer (type:depth-idx)                   Output Shape              Param #\n",
              "==========================================================================================\n",
              "Model                                    [10, 1]                   --\n",
              "├─Linear: 1-1                            [10, 3]                   18\n",
              "├─ReLU: 1-2                              [10, 3]                   --\n",
              "├─Linear: 1-3                            [10, 1]                   4\n",
              "├─Sigmoid: 1-4                           [10, 1]                   --\n",
              "==========================================================================================\n",
              "Total params: 22\n",
              "Trainable params: 22\n",
              "Non-trainable params: 0\n",
              "Total mult-adds (M): 0.00\n",
              "==========================================================================================\n",
              "Input size (MB): 0.00\n",
              "Forward/backward pass size (MB): 0.00\n",
              "Params size (MB): 0.00\n",
              "Estimated Total Size (MB): 0.00\n",
              "=========================================================================================="
            ]
          },
          "execution_count": 13,
          "metadata": {},
          "output_type": "execute_result"
        }
      ],
      "source": [
        "from torchinfo import summary\n",
        "\n",
        "summary(model, input_size=(10, 5))"
      ]
    },
    {
      "cell_type": "code",
      "execution_count": null,
      "metadata": {
        "id": "7AbUHThPxpIc"
      },
      "outputs": [],
      "source": []
    }
  ],
  "metadata": {
    "colab": {
      "provenance": []
    },
    "kernelspec": {
      "display_name": "Python 3",
      "name": "python3"
    },
    "language_info": {
      "name": "python"
    }
  },
  "nbformat": 4,
  "nbformat_minor": 0
}
