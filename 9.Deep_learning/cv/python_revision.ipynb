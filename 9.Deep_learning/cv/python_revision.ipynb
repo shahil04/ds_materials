{
 "cells": [
  {
   "cell_type": "code",
   "execution_count": 1,
   "id": "e2140332",
   "metadata": {},
   "outputs": [
    {
     "name": "stdout",
     "output_type": "stream",
     "text": [
      "hello world\n"
     ]
    }
   ],
   "source": [
    "print(\"hello world\")"
   ]
  },
  {
   "cell_type": "code",
   "execution_count": null,
   "id": "33660cb1",
   "metadata": {},
   "outputs": [],
   "source": [
    "# litreals\n",
    "# datatypes\n",
    "int\n",
    "float \n",
    "string\n",
    "bool\n",
    "\n",
    "# non premetive\n",
    "#  sequetial --> list, tuple, set,forozen set\n",
    "#  mapping --> dict\n",
    "\n",
    "# use define\n",
    "# class"
   ]
  },
  {
   "cell_type": "code",
   "execution_count": 4,
   "id": "96a6fe37",
   "metadata": {},
   "outputs": [
    {
     "data": {
      "text/plain": [
       "float"
      ]
     },
     "execution_count": 4,
     "metadata": {},
     "output_type": "execute_result"
    }
   ],
   "source": [
    "a =5.45\n",
    "type(a)"
   ]
  },
  {
   "cell_type": "code",
   "execution_count": 5,
   "id": "ac75cc48",
   "metadata": {},
   "outputs": [
    {
     "data": {
      "text/plain": [
       "str"
      ]
     },
     "execution_count": 5,
     "metadata": {},
     "output_type": "execute_result"
    }
   ],
   "source": [
    "type(\"hello world\")"
   ]
  },
  {
   "cell_type": "code",
   "execution_count": 8,
   "id": "f5c72d2b",
   "metadata": {},
   "outputs": [
    {
     "data": {
      "text/plain": [
       "5"
      ]
     },
     "execution_count": 8,
     "metadata": {},
     "output_type": "execute_result"
    }
   ],
   "source": [
    "int(a)"
   ]
  },
  {
   "cell_type": "code",
   "execution_count": 7,
   "id": "b545101a",
   "metadata": {},
   "outputs": [
    {
     "data": {
      "text/plain": [
       "5.45"
      ]
     },
     "execution_count": 7,
     "metadata": {},
     "output_type": "execute_result"
    }
   ],
   "source": [
    "a"
   ]
  },
  {
   "cell_type": "code",
   "execution_count": 12,
   "id": "03b2a83b",
   "metadata": {},
   "outputs": [
    {
     "data": {
      "text/plain": [
       "67"
      ]
     },
     "execution_count": 12,
     "metadata": {},
     "output_type": "execute_result"
    }
   ],
   "source": [
    "int(input(\"enter a number\"))"
   ]
  },
  {
   "cell_type": "code",
   "execution_count": 11,
   "id": "276a4f8c",
   "metadata": {},
   "outputs": [],
   "source": [
    "b= 6"
   ]
  },
  {
   "cell_type": "code",
   "execution_count": 13,
   "id": "d935433f",
   "metadata": {},
   "outputs": [
    {
     "data": {
      "text/plain": [
       "11.45"
      ]
     },
     "execution_count": 13,
     "metadata": {},
     "output_type": "execute_result"
    }
   ],
   "source": [
    "a+b "
   ]
  },
  {
   "cell_type": "code",
   "execution_count": 14,
   "id": "e94423f7",
   "metadata": {},
   "outputs": [
    {
     "data": {
      "text/plain": [
       "int"
      ]
     },
     "execution_count": 14,
     "metadata": {},
     "output_type": "execute_result"
    }
   ],
   "source": [
    "type(b)"
   ]
  },
  {
   "cell_type": "code",
   "execution_count": 15,
   "id": "215b6d78",
   "metadata": {},
   "outputs": [
    {
     "name": "stdout",
     "output_type": "stream",
     "text": [
      "<class 'int'>\n"
     ]
    }
   ],
   "source": [
    "print(type(b))"
   ]
  },
  {
   "cell_type": "code",
   "execution_count": 16,
   "id": "d6fe8e73",
   "metadata": {},
   "outputs": [
    {
     "data": {
      "text/plain": [
       "list"
      ]
     },
     "execution_count": 16,
     "metadata": {},
     "output_type": "execute_result"
    }
   ],
   "source": [
    "a = [5,6,7,8,9]\n",
    "type(a)"
   ]
  },
  {
   "cell_type": "code",
   "execution_count": 17,
   "id": "0907b76f",
   "metadata": {},
   "outputs": [
    {
     "name": "stdout",
     "output_type": "stream",
     "text": [
      "<class 'list'>\n"
     ]
    }
   ],
   "source": [
    "print(type(a))"
   ]
  },
  {
   "cell_type": "code",
   "execution_count": 18,
   "id": "ec24105d",
   "metadata": {},
   "outputs": [
    {
     "data": {
      "text/plain": [
       "9"
      ]
     },
     "execution_count": 18,
     "metadata": {},
     "output_type": "execute_result"
    }
   ],
   "source": [
    "a.pop()"
   ]
  },
  {
   "cell_type": "code",
   "execution_count": 19,
   "id": "59d7eb29",
   "metadata": {},
   "outputs": [
    {
     "data": {
      "text/plain": [
       "3.5"
      ]
     },
     "execution_count": 19,
     "metadata": {},
     "output_type": "execute_result"
    }
   ],
   "source": [
    "7/2"
   ]
  },
  {
   "cell_type": "code",
   "execution_count": 20,
   "id": "3045df51",
   "metadata": {},
   "outputs": [
    {
     "data": {
      "text/plain": [
       "3"
      ]
     },
     "execution_count": 20,
     "metadata": {},
     "output_type": "execute_result"
    }
   ],
   "source": [
    "7//2"
   ]
  },
  {
   "cell_type": "code",
   "execution_count": 21,
   "id": "f215e573",
   "metadata": {},
   "outputs": [
    {
     "data": {
      "text/plain": [
       "1"
      ]
     },
     "execution_count": 21,
     "metadata": {},
     "output_type": "execute_result"
    }
   ],
   "source": [
    "7%2"
   ]
  },
  {
   "cell_type": "code",
   "execution_count": 22,
   "id": "288e2e02",
   "metadata": {},
   "outputs": [],
   "source": [
    "a= 5"
   ]
  },
  {
   "cell_type": "code",
   "execution_count": 23,
   "id": "1ebe2302",
   "metadata": {},
   "outputs": [
    {
     "data": {
      "text/plain": [
       "7"
      ]
     },
     "execution_count": 23,
     "metadata": {},
     "output_type": "execute_result"
    }
   ],
   "source": [
    "a =a+2\n",
    "a"
   ]
  },
  {
   "cell_type": "code",
   "execution_count": 24,
   "id": "942ddc1d",
   "metadata": {},
   "outputs": [
    {
     "data": {
      "text/plain": [
       "9"
      ]
     },
     "execution_count": 24,
     "metadata": {},
     "output_type": "execute_result"
    }
   ],
   "source": [
    "a +=2\n",
    "a"
   ]
  },
  {
   "cell_type": "code",
   "execution_count": 25,
   "id": "5be06e2e",
   "metadata": {},
   "outputs": [
    {
     "data": {
      "text/plain": [
       "True"
      ]
     },
     "execution_count": 25,
     "metadata": {},
     "output_type": "execute_result"
    }
   ],
   "source": [
    "a>b"
   ]
  },
  {
   "cell_type": "code",
   "execution_count": null,
   "id": "43601e73",
   "metadata": {},
   "outputs": [],
   "source": [
    "# Logical Operators\n",
    "and or not"
   ]
  },
  {
   "cell_type": "code",
   "execution_count": 27,
   "id": "288ec2b7",
   "metadata": {},
   "outputs": [
    {
     "name": "stdout",
     "output_type": "stream",
     "text": [
      "9 6\n"
     ]
    }
   ],
   "source": [
    "print(a,b)"
   ]
  },
  {
   "cell_type": "code",
   "execution_count": 28,
   "id": "f9ad8a1f",
   "metadata": {},
   "outputs": [
    {
     "data": {
      "text/plain": [
       "False"
      ]
     },
     "execution_count": 28,
     "metadata": {},
     "output_type": "execute_result"
    }
   ],
   "source": [
    "a>b and a>10"
   ]
  },
  {
   "cell_type": "code",
   "execution_count": 32,
   "id": "68b546b8",
   "metadata": {},
   "outputs": [
    {
     "data": {
      "text/plain": [
       "True"
      ]
     },
     "execution_count": 32,
     "metadata": {},
     "output_type": "execute_result"
    }
   ],
   "source": [
    "a>b or a>10"
   ]
  },
  {
   "cell_type": "code",
   "execution_count": null,
   "id": "b927512b",
   "metadata": {},
   "outputs": [
    {
     "data": {
      "text/plain": [
       "True"
      ]
     },
     "execution_count": 31,
     "metadata": {},
     "output_type": "execute_result"
    }
   ],
   "source": [
    "not(a>b and a>10)"
   ]
  },
  {
   "cell_type": "code",
   "execution_count": 33,
   "id": "b59d8a71",
   "metadata": {},
   "outputs": [],
   "source": [
    "# Identity operators\n",
    "a= 5\n",
    "c = 5"
   ]
  },
  {
   "cell_type": "code",
   "execution_count": 34,
   "id": "53699030",
   "metadata": {},
   "outputs": [
    {
     "data": {
      "text/plain": [
       "140714731579960"
      ]
     },
     "execution_count": 34,
     "metadata": {},
     "output_type": "execute_result"
    }
   ],
   "source": [
    "id(a)"
   ]
  },
  {
   "cell_type": "code",
   "execution_count": 36,
   "id": "d12afad9",
   "metadata": {},
   "outputs": [
    {
     "data": {
      "text/plain": [
       "140714731579960"
      ]
     },
     "execution_count": 36,
     "metadata": {},
     "output_type": "execute_result"
    }
   ],
   "source": [
    "id(c)"
   ]
  },
  {
   "cell_type": "code",
   "execution_count": 37,
   "id": "602384ed",
   "metadata": {},
   "outputs": [],
   "source": [
    "d =\"5\""
   ]
  },
  {
   "cell_type": "code",
   "execution_count": 38,
   "id": "90444f6c",
   "metadata": {},
   "outputs": [
    {
     "data": {
      "text/plain": [
       "140714731640320"
      ]
     },
     "execution_count": 38,
     "metadata": {},
     "output_type": "execute_result"
    }
   ],
   "source": [
    "id(d)"
   ]
  },
  {
   "cell_type": "code",
   "execution_count": 39,
   "id": "edee0a3a",
   "metadata": {},
   "outputs": [
    {
     "data": {
      "text/plain": [
       "True"
      ]
     },
     "execution_count": 39,
     "metadata": {},
     "output_type": "execute_result"
    }
   ],
   "source": [
    "a==c"
   ]
  },
  {
   "cell_type": "code",
   "execution_count": 42,
   "id": "2653a5b5",
   "metadata": {},
   "outputs": [
    {
     "data": {
      "text/plain": [
       "True"
      ]
     },
     "execution_count": 42,
     "metadata": {},
     "output_type": "execute_result"
    }
   ],
   "source": [
    "a==int(d)"
   ]
  },
  {
   "cell_type": "code",
   "execution_count": 43,
   "id": "0d4c95fc",
   "metadata": {},
   "outputs": [
    {
     "data": {
      "text/plain": [
       "True"
      ]
     },
     "execution_count": 43,
     "metadata": {},
     "output_type": "execute_result"
    }
   ],
   "source": [
    "a is c"
   ]
  },
  {
   "cell_type": "code",
   "execution_count": 46,
   "id": "4c7d5d10",
   "metadata": {},
   "outputs": [
    {
     "data": {
      "text/plain": [
       "140714731579960"
      ]
     },
     "execution_count": 46,
     "metadata": {},
     "output_type": "execute_result"
    }
   ],
   "source": [
    "e = int(d)\n",
    "id(e)"
   ]
  },
  {
   "cell_type": "code",
   "execution_count": 45,
   "id": "7451cbaa",
   "metadata": {},
   "outputs": [
    {
     "data": {
      "text/plain": [
       "False"
      ]
     },
     "execution_count": 45,
     "metadata": {},
     "output_type": "execute_result"
    }
   ],
   "source": [
    "a is d"
   ]
  },
  {
   "cell_type": "code",
   "execution_count": 47,
   "id": "fb12d003",
   "metadata": {},
   "outputs": [],
   "source": [
    "list2 = [4,5,6,7,8,9]"
   ]
  },
  {
   "cell_type": "code",
   "execution_count": 50,
   "id": "29eaf749",
   "metadata": {},
   "outputs": [
    {
     "data": {
      "text/plain": [
       "True"
      ]
     },
     "execution_count": 50,
     "metadata": {},
     "output_type": "execute_result"
    }
   ],
   "source": [
    "# 5\n",
    "15 not in list2"
   ]
  },
  {
   "cell_type": "code",
   "execution_count": 60,
   "id": "5bd0d0f5",
   "metadata": {},
   "outputs": [
    {
     "name": "stdout",
     "output_type": "stream",
     "text": [
      "teenage\n"
     ]
    },
    {
     "data": {
      "text/plain": [
       "13"
      ]
     },
     "execution_count": 60,
     "metadata": {},
     "output_type": "execute_result"
    }
   ],
   "source": [
    "# if  condition :\n",
    "#     statement \n",
    "age = 13\n",
    "if  age>=18:\n",
    "    print(\"adult\")\n",
    "    age +=1\n",
    "else:\n",
    "    print(\"teenage\")\n",
    "\n",
    "age "
   ]
  },
  {
   "cell_type": "code",
   "execution_count": null,
   "id": "c5c8727e",
   "metadata": {},
   "outputs": [
    {
     "name": "stdout",
     "output_type": "stream",
     "text": [
      "adult\n",
      "eligible\n"
     ]
    }
   ],
   "source": [
    "age =23\n",
    "v_id =\"Y\"\n",
    "\n",
    "if  age>=18:\n",
    "    print(\"adult\")\n",
    "\n",
    "    if v_id ==\"Y\":\n",
    "        print(\"eligible\")\n",
    "        \n"
   ]
  },
  {
   "cell_type": "code",
   "execution_count": 63,
   "id": "987c0624",
   "metadata": {},
   "outputs": [
    {
     "name": "stdout",
     "output_type": "stream",
     "text": [
      "minor\n"
     ]
    }
   ],
   "source": [
    "age =13\n",
    "v_id =\"N\"\n",
    "\n",
    "if  age>=18:\n",
    "    print(\"adult\")\n",
    "\n",
    "    if v_id ==\"Y\":\n",
    "        print(\"eligible\")\n",
    "\n",
    "    else:\n",
    "        print(\"not eligible\")\n",
    "        \n",
    "else:\n",
    "    print(\"minor\")"
   ]
  },
  {
   "cell_type": "code",
   "execution_count": null,
   "id": "50be4963",
   "metadata": {},
   "outputs": [
    {
     "name": "stdout",
     "output_type": "stream",
     "text": [
      "F\n"
     ]
    }
   ],
   "source": [
    "# multiple if statements\n",
    "mark =40\n",
    "if mark>=90:\n",
    "    print(\"A\")\n",
    "if mark>=75 and mark<90:\n",
    "    print(\"B\")\n",
    "if mark>=60 and mark<75:\n",
    "    print(\"C\")\n",
    "if mark>=45 and mark<60:\n",
    "    print(\"D\")\n",
    "if mark<45:\n",
    "    print(\"F\")"
   ]
  },
  {
   "cell_type": "code",
   "execution_count": null,
   "id": "39962657",
   "metadata": {},
   "outputs": [
    {
     "name": "stdout",
     "output_type": "stream",
     "text": [
      "A\n",
      "B\n"
     ]
    }
   ],
   "source": [
    "mark =91\n",
    "if mark>=90:\n",
    "    print(\"A\")\n",
    "if mark>=75:\n",
    "    print(\"B\")\n",
    "if mark<75:\n",
    "    print(\"c\")"
   ]
  },
  {
   "cell_type": "code",
   "execution_count": 74,
   "id": "2997a5dc",
   "metadata": {},
   "outputs": [
    {
     "name": "stdout",
     "output_type": "stream",
     "text": [
      "B\n"
     ]
    }
   ],
   "source": [
    "mark =76\n",
    "if mark>=90:\n",
    "    print(\"A\")\n",
    "elif mark>=75 :\n",
    "    print(\"B\")\n",
    "else:\n",
    "    print(\"C\")"
   ]
  },
  {
   "cell_type": "code",
   "execution_count": null,
   "id": "d0455999",
   "metadata": {},
   "outputs": [],
   "source": [
    "if  age>=18:\n",
    "    print(\"yes  \")\n",
    "\n",
    "edu=\"12\"\n",
    "if edu ==\"G\":\n",
    "    print(\"Y\")\n"
   ]
  },
  {
   "cell_type": "code",
   "execution_count": 78,
   "id": "712db664",
   "metadata": {},
   "outputs": [
    {
     "name": "stdout",
     "output_type": "stream",
     "text": [
      "Invalid user name or password\n"
     ]
    }
   ],
   "source": [
    "# create a login logic \n",
    "user =input(\"Enter your user name: \")\n",
    "password = input(\"Enter your password: \")\n",
    "if user == \"admin\" and password == \"1234\":\n",
    "    print(\"Login Success\")\n",
    "else:\n",
    "    print(\"Invalid user name or password\")"
   ]
  },
  {
   "cell_type": "code",
   "execution_count": null,
   "id": "75e4909d",
   "metadata": {},
   "outputs": [],
   "source": [
    "# registation  form \n",
    "#  phone number   atleat 10 digit\n",
    "#  email id     @ .\n",
    "#  password  8 char, 1 upper case, 1 lower case, 1 number\n",
    "# user name \n"
   ]
  },
  {
   "cell_type": "code",
   "execution_count": null,
   "id": "1cc73eff",
   "metadata": {},
   "outputs": [],
   "source": [
    "for i in range(1,10):\n",
    "    print(\"hii\")\n",
    "    print(i)\n",
    "\n",
    "print(\"hello\")"
   ]
  },
  {
   "cell_type": "code",
   "execution_count": null,
   "id": "e7855067",
   "metadata": {},
   "outputs": [],
   "source": [
    "i= 1\n",
    "while (i <10):\n",
    "    print(\"hii\")\n",
    "    print(i)\n",
    "    i = i + 1"
   ]
  },
  {
   "cell_type": "code",
   "execution_count": null,
   "id": "512256bc",
   "metadata": {},
   "outputs": [
    {
     "name": "stdout",
     "output_type": "stream",
     "text": [
      "Invalid user name or password\n",
      "your 1 attempt used\n",
      "Login Success\n"
     ]
    }
   ],
   "source": [
    "# 3 attempt\n",
    "for i in  range(1,4):\n",
    "    # create a login logic \n",
    "    user =input(\"Enter your user name: \")\n",
    "    password = input(\"Enter your password: \")\n",
    "    if user == \"admin\" and password == \"1234\":\n",
    "        print(\"Login Success\")\n",
    "        break\n",
    "    else:\n",
    "        print(\"Invalid user name or password\")\n",
    "\n",
    "    print(f\"your {i} attempt used\")\n"
   ]
  },
  {
   "cell_type": "code",
   "execution_count": 90,
   "id": "aa8dd0d9",
   "metadata": {},
   "outputs": [
    {
     "name": "stdout",
     "output_type": "stream",
     "text": [
      "Invalid user name or password\n",
      "your 2 attempt used\n",
      "Login Success\n"
     ]
    }
   ],
   "source": [
    "# 3 attempt\n",
    "check = \"Y\"\n",
    "\n",
    "while (check !=\"N\"):\n",
    "    user =input(\"Enter your user name: \")\n",
    "    password = input(\"Enter your password: \")\n",
    "    if user == \"admin\" and password == \"1234\":\n",
    "        print(\"Login Success\")\n",
    "        break\n",
    "    else:\n",
    "        print(\"Invalid user name or password\")\n",
    "\n",
    "    print(f\"your {i} attempt used\")\n",
    "\n",
    "    check = input(\"you want to try again Press Y or press N to exit: \")\n"
   ]
  },
  {
   "cell_type": "code",
   "execution_count": null,
   "id": "8e6d38bc",
   "metadata": {},
   "outputs": [],
   "source": []
  }
 ],
 "metadata": {
  "kernelspec": {
   "display_name": "aienv",
   "language": "python",
   "name": "python3"
  },
  "language_info": {
   "codemirror_mode": {
    "name": "ipython",
    "version": 3
   },
   "file_extension": ".py",
   "mimetype": "text/x-python",
   "name": "python",
   "nbconvert_exporter": "python",
   "pygments_lexer": "ipython3",
   "version": "3.12.9"
  }
 },
 "nbformat": 4,
 "nbformat_minor": 5
}
