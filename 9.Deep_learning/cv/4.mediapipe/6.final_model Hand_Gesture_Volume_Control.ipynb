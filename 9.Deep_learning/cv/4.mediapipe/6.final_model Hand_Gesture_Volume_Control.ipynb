{
  "cells": [
    {
      "cell_type": "code",
      "execution_count": 1,
      "id": "kSAQnDTXqicO",
      "metadata": {
        "colab": {
          "base_uri": "https://localhost:8080/"
        },
        "id": "kSAQnDTXqicO",
        "outputId": "12ae3a87-2ae6-48a1-c778-eb10f585f300"
      },
      "outputs": [],
      "source": [
        "# !pip install mediapipe"
      ]
    },
    {
      "cell_type": "code",
      "execution_count": 1,
      "id": "EE5G0JhUf3hU",
      "metadata": {
        "colab": {
          "base_uri": "https://localhost:8080/"
        },
        "id": "EE5G0JhUf3hU",
        "outputId": "47f19eb7-baf4-4b23-9ae0-32629a4a1e04"
      },
      "outputs": [
        {
          "name": "stdout",
          "output_type": "stream",
          "text": [
            "Requirement already satisfied: comtypes in c:\\users\\hp\\appdata\\local\\packages\\pythonsoftwarefoundation.python.3.11_qbz5n2kfra8p0\\localcache\\local-packages\\python311\\site-packages (1.4.11)\n",
            "Requirement already satisfied: pycaw in c:\\users\\hp\\appdata\\local\\packages\\pythonsoftwarefoundation.python.3.11_qbz5n2kfra8p0\\localcache\\local-packages\\python311\\site-packages (20240210)\n",
            "Requirement already satisfied: psutil in c:\\users\\hp\\appdata\\local\\packages\\pythonsoftwarefoundation.python.3.11_qbz5n2kfra8p0\\localcache\\local-packages\\python311\\site-packages (from pycaw) (7.0.0)\n"
          ]
        }
      ],
      "source": [
        "!pip install comtypes pycaw\n",
        "# !pip install ctypes"
      ]
    },
    {
      "cell_type": "code",
      "execution_count": 2,
      "id": "b73363cb",
      "metadata": {
        "colab": {
          "base_uri": "https://localhost:8080/",
          "height": 667
        },
        "id": "b73363cb",
        "outputId": "fd032809-dc4d-4d90-cff1-48d09f601b75"
      },
      "outputs": [],
      "source": [
        "import cv2\n",
        "import mediapipe as mp\n",
        "from math import hypot\n",
        "\n",
        "import numpy as np\n",
        "\n",
        "cap = cv2.VideoCapture(0)\n",
        "\n",
        "mpHands = mp.solutions.hands\n",
        "hands = mpHands.Hands()\n",
        "mpDraw = mp.solutions.drawing_utils\n",
        "\n",
        "from ctypes import cast, POINTER\n",
        "from comtypes import CLSCTX_ALL\n",
        "from pycaw.pycaw import AudioUtilities, IAudioEndpointVolume\n",
        "devices = AudioUtilities.GetSpeakers()\n",
        "interface = devices.Activate(IAudioEndpointVolume._iid_, CLSCTX_ALL, None)\n",
        "volume = cast(interface, POINTER(IAudioEndpointVolume))\n",
        "\n",
        "min_vol, max_vol = volume.GetVolumeRange()[:2]\n",
        "\n",
        "\n",
        "\n",
        "\n",
        "while True:\n",
        "    success,img = cap.read()\n",
        "    imgRGB = cv2.cvtColor(img,cv2.COLOR_BGR2RGB)\n",
        "    results = hands.process(imgRGB)\n",
        "\n",
        "    lmList = []\n",
        "    if results.multi_hand_landmarks:\n",
        "        for handlandmark in results.multi_hand_landmarks:\n",
        "            for id,lm in enumerate(handlandmark.landmark):\n",
        "                h,w,_ = img.shape\n",
        "                cx,cy = int(lm.x*w),int(lm.y*h)\n",
        "                lmList.append([id,cx,cy])\n",
        "            mpDraw.draw_landmarks(img,handlandmark,mpHands.HAND_CONNECTIONS)\n",
        "\n",
        "    if lmList != []:\n",
        "        x1,y1 = lmList[4][1],lmList[4][2]\n",
        "        x2,y2 = lmList[8][1],lmList[8][2]\n",
        "\n",
        "        cv2.circle(img,(x1,y1),4,(255,0,0),cv2.FILLED)\n",
        "        cv2.circle(img,(x2,y2),4,(255,0,0),cv2.FILLED)\n",
        "        cv2.line(img,(x1,y1),(x2,y2),(255,0,0),3)\n",
        "\n",
        "        length = hypot(x2-x1,y2-y1)\n",
        "\n",
        "        value = np.interp(length,[15,300],[min_vol,max_vol])\n",
        "        volume.SetMasterVolumeLevel(value, None)\n",
        "\n",
        "\n",
        "\n",
        "    cv2.imshow('Image',img)\n",
        "    if cv2.waitKey(1) & 0xff==ord('q'):\n",
        "        break\n",
        "\n",
        "\n",
        "cap.release()\n",
        "cv2.destroyAllWindows()"
      ]
    },
    {
      "cell_type": "code",
      "execution_count": null,
      "id": "4bfb31cc",
      "metadata": {
        "id": "4bfb31cc"
      },
      "outputs": [],
      "source": []
    },
    {
      "cell_type": "code",
      "execution_count": null,
      "id": "67d09068",
      "metadata": {
        "colab": {
          "base_uri": "https://localhost:8080/"
        },
        "id": "67d09068",
        "outputId": "e620f24c-0ca3-4e12-b692-852c687835b8"
      },
      "outputs": [],
      "source": []
    },
    {
      "cell_type": "markdown",
      "id": "d17b0a6b",
      "metadata": {
        "id": "d17b0a6b"
      },
      "source": [
        "I've added a cell to install the required libraries. I've also removed the `ctypes` import from the next cell as it's a built-in library and doesn't need to be imported explicitly."
      ]
    }
  ],
  "metadata": {
    "colab": {
      "provenance": []
    },
    "kernelspec": {
      "display_name": "Python 3",
      "language": "python",
      "name": "python3"
    },
    "language_info": {
      "codemirror_mode": {
        "name": "ipython",
        "version": 3
      },
      "file_extension": ".py",
      "mimetype": "text/x-python",
      "name": "python",
      "nbconvert_exporter": "python",
      "pygments_lexer": "ipython3",
      "version": "3.11.9"
    }
  },
  "nbformat": 4,
  "nbformat_minor": 5
}
