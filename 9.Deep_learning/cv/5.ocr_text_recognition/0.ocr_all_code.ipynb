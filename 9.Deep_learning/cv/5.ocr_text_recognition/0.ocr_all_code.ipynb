{
 "cells": [
  {
   "cell_type": "markdown",
   "id": "8fd313d3",
   "metadata": {},
   "source": [
    "\n",
    "# **OCR Bootcamp Notes**\n",
    "\n",
    "*(Optical Character Recognition)*\n",
    "\n",
    "---\n",
    "\n",
    "## ✅ **1. Introduction to OCR**\n",
    "\n",
    "### **What is OCR?**\n",
    "\n",
    "* OCR = **Optical Character Recognition**\n",
    "* Converts **printed or handwritten text in images** into **editable text**.\n",
    "* Works by detecting **characters, words, and text layout** from an image or document.\n",
    "\n",
    "---\n",
    "\n",
    "### **Why OCR?**\n",
    "\n",
    "* Automates data entry.\n",
    "* Digitizes physical documents.\n",
    "* Enables **searchable PDFs**.\n",
    "* Used in banking, healthcare, transportation, retail.\n",
    "\n",
    "---\n",
    "\n",
    "### **Real-world Applications**\n",
    "\n",
    "* Scanning books into eBooks.\n",
    "* License Plate Recognition.\n",
    "* Invoice & Receipt Automation.\n",
    "* Passport/ID verification.\n",
    "* Subtitle extraction from videos.\n",
    "\n",
    "---\n",
    "\n",
    "### **OCR vs ICR**\n",
    "\n",
    "* **OCR**: Recognizes printed text.\n",
    "* **ICR**: Recognizes **handwritten text** using AI.\n",
    "\n",
    "---\n",
    "\n",
    "## ✅ **2. How OCR Works**\n",
    "\n",
    "1. **Image Acquisition** → Capture image/document.\n",
    "2. **Preprocessing** → Clean image (noise removal, binarization).\n",
    "3. **Text Detection** → Locate text regions.\n",
    "4. **Character Recognition** → Extract text.\n",
    "5. **Post-processing** → Correct errors.\n",
    "\n",
    "---\n",
    "\n",
    "## ✅ **3. Image Preprocessing for OCR**\n",
    "\n",
    "**Why preprocessing?**\n",
    "Bad quality images → Low OCR accuracy.\n",
    "Preprocessing helps clean the image for better results.\n",
    "\n",
    "### **Techniques**\n",
    "\n",
    "* **Grayscale conversion** → Reduce complexity.\n",
    "* **Thresholding** → Convert to black & white.\n",
    "\n",
    "  * Binary threshold.\n",
    "  * Adaptive threshold.\n",
    "* **Noise removal** → Gaussian blur, Median filter.\n",
    "* **Morphological operations** → Remove small artifacts.\n",
    "* **Deskewing** → Correct tilted text.\n",
    "\n",
    "**Code Example (OpenCV Preprocessing):**\n"
   ]
  },
  {
   "cell_type": "code",
   "execution_count": 1,
   "id": "5dbc00d3",
   "metadata": {},
   "outputs": [
    {
     "data": {
      "text/plain": [
       "True"
      ]
     },
     "execution_count": 1,
     "metadata": {},
     "output_type": "execute_result"
    }
   ],
   "source": [
    "import cv2\n",
    "\n",
    "# Use raw string for path\n",
    "img = cv2.imread(r'C:\\Users\\hp\\Documents\\ds_materials\\9.Deep_learning\\cv\\5.ocr_text_recognition\\images\\lifestyle-02.jpg')\n",
    "\n",
    "# Check if image is loaded\n",
    "if img is None:\n",
    "    raise FileNotFoundError(\"Image not found. Check the file path.\")\n",
    "\n",
    "# Convert to grayscale\n",
    "gray = cv2.cvtColor(img, cv2.COLOR_BGR2GRAY)\n",
    "\n",
    "# Apply threshold\n",
    "_, thresh = cv2.threshold(gray, 150, 255, cv2.THRESH_BINARY)\n",
    "\n",
    "# Save processed image\n",
    "cv2.imwrite('images\\processed.jpg', thresh)\n"
   ]
  },
  {
   "cell_type": "markdown",
   "id": "9033d9da",
   "metadata": {},
   "source": [
    "\n",
    "## ✅ **4. OCR Engines & Libraries**\n",
    "\n",
    "* **Tesseract OCR** (most popular, by Google)\n",
    "* **EasyOCR** (Deep learning-based, supports multiple languages)\n",
    "* **PaddleOCR** (High accuracy)\n",
    "* **Google Vision API** (Cloud-based)\n",
    "\n",
    "---\n",
    "\n",
    "### **Installing Tesseract**\n",
    "\n",
    "**Windows/Linux Setup:**\n",
    "\n",
    "* Install Tesseract from official site.\n",
    "* Add path to environment variables.\n",
    "* Install Python wrapper:\n",
    "\n",
    "\n",
    "---\n",
    "\n",
    "### **Basic OCR in Python:**\n",
    "\n",
    "import pytesseract\n",
    "from PIL import Image\n",
    "\n",
    "img = Image.open('text_image.png')\n",
    "text = pytesseract.image_to_string(img)\n",
    "print(text)"
   ]
  },
  {
   "cell_type": "code",
   "execution_count": 2,
   "id": "19d2e0c1",
   "metadata": {},
   "outputs": [
    {
     "name": "stdout",
     "output_type": "stream",
     "text": [
      "Collecting pytesseract\n",
      "  Using cached pytesseract-0.3.13-py3-none-any.whl.metadata (11 kB)\n",
      "Requirement already satisfied: opencv-python in c:\\users\\hp\\anaconda3\\envs\\cvenv\\lib\\site-packages (4.11.0.86)\n",
      "Requirement already satisfied: packaging>=21.3 in c:\\users\\hp\\anaconda3\\envs\\cvenv\\lib\\site-packages (from pytesseract) (25.0)\n",
      "Requirement already satisfied: Pillow>=8.0.0 in c:\\users\\hp\\anaconda3\\envs\\cvenv\\lib\\site-packages (from pytesseract) (11.3.0)\n",
      "Requirement already satisfied: numpy>=1.21.2 in c:\\users\\hp\\anaconda3\\envs\\cvenv\\lib\\site-packages (from opencv-python) (1.26.4)\n",
      "Using cached pytesseract-0.3.13-py3-none-any.whl (14 kB)\n",
      "Installing collected packages: pytesseract\n",
      "Successfully installed pytesseract-0.3.13\n"
     ]
    }
   ],
   "source": [
    "!pip install pytesseract opencv-python\n"
   ]
  },
  {
   "cell_type": "markdown",
   "id": "b2df9528",
   "metadata": {},
   "source": [
    "\n",
    "## ✅ **5. Advanced OCR Features**\n",
    "\n",
    "* **Multilingual OCR** → Support for 100+ languages.\n",
    "* **Custom language models** → Train for new fonts.\n",
    "* **Extracting structured data** → Tables, forms.\n",
    "* **Confidence scores** → Check accuracy.\n",
    "* **Handwriting recognition** → Using deep learning (ICR).\n",
    "\n",
    "---\n",
    "\n",
    "## ✅ **6. Improving OCR Accuracy**\n",
    "\n",
    "* Use **high-resolution images**.\n",
    "* Apply **deskewing** & **denoising**.\n",
    "* Convert to **grayscale or binary**.\n",
    "* Train custom models for complex fonts.\n",
    "* Use **Deep Learning (CRNN)** for better accuracy.\n",
    "\n",
    "---\n",
    "\n",
    "## ✅ **7. OCR in Applications**\n",
    "\n",
    "* **Extract text from PDFs** using `pdf2image` + OCR.\n",
    "* **Real-time OCR** using webcam feed.\n",
    "* **Batch OCR** for multiple documents.\n",
    "* **Integrating OCR with Flask/FastAPI for APIs**."
   ]
  },
  {
   "cell_type": "code",
   "execution_count": 3,
   "id": "60e1f24d",
   "metadata": {},
   "outputs": [
    {
     "name": "stdout",
     "output_type": "stream",
     "text": [
      "Collecting pdf2image\n",
      "  Using cached pdf2image-1.17.0-py3-none-any.whl.metadata (6.2 kB)\n",
      "Requirement already satisfied: pillow in c:\\users\\hp\\anaconda3\\envs\\cvenv\\lib\\site-packages (from pdf2image) (11.3.0)\n",
      "Using cached pdf2image-1.17.0-py3-none-any.whl (11 kB)\n",
      "Installing collected packages: pdf2image\n",
      "Successfully installed pdf2image-1.17.0\n"
     ]
    }
   ],
   "source": [
    "!pip install pdf2image"
   ]
  },
  {
   "cell_type": "code",
   "execution_count": 4,
   "id": "05154ec5",
   "metadata": {},
   "outputs": [
    {
     "name": "stdout",
     "output_type": "stream",
     "text": [
      "Requirement already satisfied: pdf2image in c:\\users\\hp\\anaconda3\\envs\\cvenv\\lib\\site-packages (1.17.0)\n",
      "Requirement already satisfied: pillow in c:\\users\\hp\\anaconda3\\envs\\cvenv\\lib\\site-packages (from pdf2image) (11.3.0)\n"
     ]
    }
   ],
   "source": [
    "!pip install pdf2image"
   ]
  },
  {
   "cell_type": "code",
   "execution_count": 1,
   "metadata": {},
   "outputs": [
    {
     "ename": "PDFInfoNotInstalledError",
     "evalue": "Unable to get page count. Is poppler installed and in PATH?",
     "output_type": "error",
     "traceback": [
      "\u001b[1;31m---------------------------------------------------------------------------\u001b[0m",
      "\u001b[1;31mFileNotFoundError\u001b[0m                         Traceback (most recent call last)",
      "File \u001b[1;32mc:\\Users\\hp\\anaconda3\\envs\\cvenv\\lib\\site-packages\\pdf2image\\pdf2image.py:581\u001b[0m, in \u001b[0;36mpdfinfo_from_path\u001b[1;34m(pdf_path, userpw, ownerpw, poppler_path, rawdates, timeout, first_page, last_page)\u001b[0m\n\u001b[0;32m    580\u001b[0m     env[\u001b[38;5;124m\"\u001b[39m\u001b[38;5;124mLD_LIBRARY_PATH\u001b[39m\u001b[38;5;124m\"\u001b[39m] \u001b[38;5;241m=\u001b[39m poppler_path \u001b[38;5;241m+\u001b[39m \u001b[38;5;124m\"\u001b[39m\u001b[38;5;124m:\u001b[39m\u001b[38;5;124m\"\u001b[39m \u001b[38;5;241m+\u001b[39m env\u001b[38;5;241m.\u001b[39mget(\u001b[38;5;124m\"\u001b[39m\u001b[38;5;124mLD_LIBRARY_PATH\u001b[39m\u001b[38;5;124m\"\u001b[39m, \u001b[38;5;124m\"\u001b[39m\u001b[38;5;124m\"\u001b[39m)\n\u001b[1;32m--> 581\u001b[0m proc \u001b[38;5;241m=\u001b[39m \u001b[43mPopen\u001b[49m\u001b[43m(\u001b[49m\u001b[43mcommand\u001b[49m\u001b[43m,\u001b[49m\u001b[43m \u001b[49m\u001b[43menv\u001b[49m\u001b[38;5;241;43m=\u001b[39;49m\u001b[43menv\u001b[49m\u001b[43m,\u001b[49m\u001b[43m \u001b[49m\u001b[43mstdout\u001b[49m\u001b[38;5;241;43m=\u001b[39;49m\u001b[43mPIPE\u001b[49m\u001b[43m,\u001b[49m\u001b[43m \u001b[49m\u001b[43mstderr\u001b[49m\u001b[38;5;241;43m=\u001b[39;49m\u001b[43mPIPE\u001b[49m\u001b[43m)\u001b[49m\n\u001b[0;32m    583\u001b[0m \u001b[38;5;28;01mtry\u001b[39;00m:\n",
      "File \u001b[1;32mc:\\Users\\hp\\anaconda3\\envs\\cvenv\\lib\\subprocess.py:971\u001b[0m, in \u001b[0;36mPopen.__init__\u001b[1;34m(self, args, bufsize, executable, stdin, stdout, stderr, preexec_fn, close_fds, shell, cwd, env, universal_newlines, startupinfo, creationflags, restore_signals, start_new_session, pass_fds, user, group, extra_groups, encoding, errors, text, umask, pipesize)\u001b[0m\n\u001b[0;32m    968\u001b[0m             \u001b[38;5;28mself\u001b[39m\u001b[38;5;241m.\u001b[39mstderr \u001b[38;5;241m=\u001b[39m io\u001b[38;5;241m.\u001b[39mTextIOWrapper(\u001b[38;5;28mself\u001b[39m\u001b[38;5;241m.\u001b[39mstderr,\n\u001b[0;32m    969\u001b[0m                     encoding\u001b[38;5;241m=\u001b[39mencoding, errors\u001b[38;5;241m=\u001b[39merrors)\n\u001b[1;32m--> 971\u001b[0m     \u001b[38;5;28;43mself\u001b[39;49m\u001b[38;5;241;43m.\u001b[39;49m\u001b[43m_execute_child\u001b[49m\u001b[43m(\u001b[49m\u001b[43margs\u001b[49m\u001b[43m,\u001b[49m\u001b[43m \u001b[49m\u001b[43mexecutable\u001b[49m\u001b[43m,\u001b[49m\u001b[43m \u001b[49m\u001b[43mpreexec_fn\u001b[49m\u001b[43m,\u001b[49m\u001b[43m \u001b[49m\u001b[43mclose_fds\u001b[49m\u001b[43m,\u001b[49m\n\u001b[0;32m    972\u001b[0m \u001b[43m                        \u001b[49m\u001b[43mpass_fds\u001b[49m\u001b[43m,\u001b[49m\u001b[43m \u001b[49m\u001b[43mcwd\u001b[49m\u001b[43m,\u001b[49m\u001b[43m \u001b[49m\u001b[43menv\u001b[49m\u001b[43m,\u001b[49m\n\u001b[0;32m    973\u001b[0m \u001b[43m                        \u001b[49m\u001b[43mstartupinfo\u001b[49m\u001b[43m,\u001b[49m\u001b[43m \u001b[49m\u001b[43mcreationflags\u001b[49m\u001b[43m,\u001b[49m\u001b[43m \u001b[49m\u001b[43mshell\u001b[49m\u001b[43m,\u001b[49m\n\u001b[0;32m    974\u001b[0m \u001b[43m                        \u001b[49m\u001b[43mp2cread\u001b[49m\u001b[43m,\u001b[49m\u001b[43m \u001b[49m\u001b[43mp2cwrite\u001b[49m\u001b[43m,\u001b[49m\n\u001b[0;32m    975\u001b[0m \u001b[43m                        \u001b[49m\u001b[43mc2pread\u001b[49m\u001b[43m,\u001b[49m\u001b[43m \u001b[49m\u001b[43mc2pwrite\u001b[49m\u001b[43m,\u001b[49m\n\u001b[0;32m    976\u001b[0m \u001b[43m                        \u001b[49m\u001b[43merrread\u001b[49m\u001b[43m,\u001b[49m\u001b[43m \u001b[49m\u001b[43merrwrite\u001b[49m\u001b[43m,\u001b[49m\n\u001b[0;32m    977\u001b[0m \u001b[43m                        \u001b[49m\u001b[43mrestore_signals\u001b[49m\u001b[43m,\u001b[49m\n\u001b[0;32m    978\u001b[0m \u001b[43m                        \u001b[49m\u001b[43mgid\u001b[49m\u001b[43m,\u001b[49m\u001b[43m \u001b[49m\u001b[43mgids\u001b[49m\u001b[43m,\u001b[49m\u001b[43m \u001b[49m\u001b[43muid\u001b[49m\u001b[43m,\u001b[49m\u001b[43m \u001b[49m\u001b[43mumask\u001b[49m\u001b[43m,\u001b[49m\n\u001b[0;32m    979\u001b[0m \u001b[43m                        \u001b[49m\u001b[43mstart_new_session\u001b[49m\u001b[43m)\u001b[49m\n\u001b[0;32m    980\u001b[0m \u001b[38;5;28;01mexcept\u001b[39;00m:\n\u001b[0;32m    981\u001b[0m     \u001b[38;5;66;03m# Cleanup if the child failed starting.\u001b[39;00m\n",
      "File \u001b[1;32mc:\\Users\\hp\\anaconda3\\envs\\cvenv\\lib\\subprocess.py:1456\u001b[0m, in \u001b[0;36mPopen._execute_child\u001b[1;34m(self, args, executable, preexec_fn, close_fds, pass_fds, cwd, env, startupinfo, creationflags, shell, p2cread, p2cwrite, c2pread, c2pwrite, errread, errwrite, unused_restore_signals, unused_gid, unused_gids, unused_uid, unused_umask, unused_start_new_session)\u001b[0m\n\u001b[0;32m   1455\u001b[0m \u001b[38;5;28;01mtry\u001b[39;00m:\n\u001b[1;32m-> 1456\u001b[0m     hp, ht, pid, tid \u001b[38;5;241m=\u001b[39m \u001b[43m_winapi\u001b[49m\u001b[38;5;241;43m.\u001b[39;49m\u001b[43mCreateProcess\u001b[49m\u001b[43m(\u001b[49m\u001b[43mexecutable\u001b[49m\u001b[43m,\u001b[49m\u001b[43m \u001b[49m\u001b[43margs\u001b[49m\u001b[43m,\u001b[49m\n\u001b[0;32m   1457\u001b[0m \u001b[43m                             \u001b[49m\u001b[38;5;66;43;03m# no special security\u001b[39;49;00m\n\u001b[0;32m   1458\u001b[0m \u001b[43m                             \u001b[49m\u001b[38;5;28;43;01mNone\u001b[39;49;00m\u001b[43m,\u001b[49m\u001b[43m \u001b[49m\u001b[38;5;28;43;01mNone\u001b[39;49;00m\u001b[43m,\u001b[49m\n\u001b[0;32m   1459\u001b[0m \u001b[43m                             \u001b[49m\u001b[38;5;28;43mint\u001b[39;49m\u001b[43m(\u001b[49m\u001b[38;5;129;43;01mnot\u001b[39;49;00m\u001b[43m \u001b[49m\u001b[43mclose_fds\u001b[49m\u001b[43m)\u001b[49m\u001b[43m,\u001b[49m\n\u001b[0;32m   1460\u001b[0m \u001b[43m                             \u001b[49m\u001b[43mcreationflags\u001b[49m\u001b[43m,\u001b[49m\n\u001b[0;32m   1461\u001b[0m \u001b[43m                             \u001b[49m\u001b[43menv\u001b[49m\u001b[43m,\u001b[49m\n\u001b[0;32m   1462\u001b[0m \u001b[43m                             \u001b[49m\u001b[43mcwd\u001b[49m\u001b[43m,\u001b[49m\n\u001b[0;32m   1463\u001b[0m \u001b[43m                             \u001b[49m\u001b[43mstartupinfo\u001b[49m\u001b[43m)\u001b[49m\n\u001b[0;32m   1464\u001b[0m \u001b[38;5;28;01mfinally\u001b[39;00m:\n\u001b[0;32m   1465\u001b[0m     \u001b[38;5;66;03m# Child is launched. Close the parent's copy of those pipe\u001b[39;00m\n\u001b[0;32m   1466\u001b[0m     \u001b[38;5;66;03m# handles that only the child should have open.  You need\u001b[39;00m\n\u001b[1;32m   (...)\u001b[0m\n\u001b[0;32m   1469\u001b[0m     \u001b[38;5;66;03m# pipe will not close when the child process exits and the\u001b[39;00m\n\u001b[0;32m   1470\u001b[0m     \u001b[38;5;66;03m# ReadFile will hang.\u001b[39;00m\n",
      "\u001b[1;31mFileNotFoundError\u001b[0m: [WinError 2] The system cannot find the file specified",
      "\nDuring handling of the above exception, another exception occurred:\n",
      "\u001b[1;31mPDFInfoNotInstalledError\u001b[0m                  Traceback (most recent call last)",
      "Cell \u001b[1;32mIn[1], line 6\u001b[0m\n\u001b[0;32m      3\u001b[0m \u001b[38;5;28;01mfrom\u001b[39;00m\u001b[38;5;250m \u001b[39m\u001b[38;5;21;01mpdf2image\u001b[39;00m\u001b[38;5;250m \u001b[39m\u001b[38;5;28;01mimport\u001b[39;00m convert_from_path\n\u001b[0;32m      4\u001b[0m \u001b[38;5;28;01mimport\u001b[39;00m\u001b[38;5;250m \u001b[39m\u001b[38;5;21;01mpytesseract\u001b[39;00m\n\u001b[1;32m----> 6\u001b[0m pages \u001b[38;5;241m=\u001b[39m \u001b[43mconvert_from_path\u001b[49m\u001b[43m(\u001b[49m\u001b[38;5;124;43m'\u001b[39;49m\u001b[38;5;124;43mdocument.pdf\u001b[39;49m\u001b[38;5;124;43m'\u001b[39;49m\u001b[43m,\u001b[49m\u001b[43m \u001b[49m\u001b[38;5;241;43m300\u001b[39;49m\u001b[43m)\u001b[49m\n\u001b[0;32m      7\u001b[0m \u001b[38;5;28;01mfor\u001b[39;00m page \u001b[38;5;129;01min\u001b[39;00m pages:\n\u001b[0;32m      8\u001b[0m     text \u001b[38;5;241m=\u001b[39m pytesseract\u001b[38;5;241m.\u001b[39mimage_to_string(page)\n",
      "File \u001b[1;32mc:\\Users\\hp\\anaconda3\\envs\\cvenv\\lib\\site-packages\\pdf2image\\pdf2image.py:127\u001b[0m, in \u001b[0;36mconvert_from_path\u001b[1;34m(pdf_path, dpi, output_folder, first_page, last_page, fmt, jpegopt, thread_count, userpw, ownerpw, use_cropbox, strict, transparent, single_file, output_file, poppler_path, grayscale, size, paths_only, use_pdftocairo, timeout, hide_annotations)\u001b[0m\n\u001b[0;32m    124\u001b[0m \u001b[38;5;28;01mif\u001b[39;00m \u001b[38;5;28misinstance\u001b[39m(poppler_path, PurePath):\n\u001b[0;32m    125\u001b[0m     poppler_path \u001b[38;5;241m=\u001b[39m poppler_path\u001b[38;5;241m.\u001b[39mas_posix()\n\u001b[1;32m--> 127\u001b[0m page_count \u001b[38;5;241m=\u001b[39m \u001b[43mpdfinfo_from_path\u001b[49m\u001b[43m(\u001b[49m\n\u001b[0;32m    128\u001b[0m \u001b[43m    \u001b[49m\u001b[43mpdf_path\u001b[49m\u001b[43m,\u001b[49m\u001b[43m \u001b[49m\u001b[43muserpw\u001b[49m\u001b[43m,\u001b[49m\u001b[43m \u001b[49m\u001b[43mownerpw\u001b[49m\u001b[43m,\u001b[49m\u001b[43m \u001b[49m\u001b[43mpoppler_path\u001b[49m\u001b[38;5;241;43m=\u001b[39;49m\u001b[43mpoppler_path\u001b[49m\n\u001b[0;32m    129\u001b[0m \u001b[43m\u001b[49m\u001b[43m)\u001b[49m[\u001b[38;5;124m\"\u001b[39m\u001b[38;5;124mPages\u001b[39m\u001b[38;5;124m\"\u001b[39m]\n\u001b[0;32m    131\u001b[0m \u001b[38;5;66;03m# We start by getting the output format, the buffer processing function and if we need pdftocairo\u001b[39;00m\n\u001b[0;32m    132\u001b[0m parsed_fmt, final_extension, parse_buffer_func, use_pdfcairo_format \u001b[38;5;241m=\u001b[39m _parse_format(\n\u001b[0;32m    133\u001b[0m     fmt, grayscale\n\u001b[0;32m    134\u001b[0m )\n",
      "File \u001b[1;32mc:\\Users\\hp\\anaconda3\\envs\\cvenv\\lib\\site-packages\\pdf2image\\pdf2image.py:607\u001b[0m, in \u001b[0;36mpdfinfo_from_path\u001b[1;34m(pdf_path, userpw, ownerpw, poppler_path, rawdates, timeout, first_page, last_page)\u001b[0m\n\u001b[0;32m    604\u001b[0m     \u001b[38;5;28;01mreturn\u001b[39;00m d\n\u001b[0;32m    606\u001b[0m \u001b[38;5;28;01mexcept\u001b[39;00m \u001b[38;5;167;01mOSError\u001b[39;00m:\n\u001b[1;32m--> 607\u001b[0m     \u001b[38;5;28;01mraise\u001b[39;00m PDFInfoNotInstalledError(\n\u001b[0;32m    608\u001b[0m         \u001b[38;5;124m\"\u001b[39m\u001b[38;5;124mUnable to get page count. Is poppler installed and in PATH?\u001b[39m\u001b[38;5;124m\"\u001b[39m\n\u001b[0;32m    609\u001b[0m     )\n\u001b[0;32m    610\u001b[0m \u001b[38;5;28;01mexcept\u001b[39;00m \u001b[38;5;167;01mValueError\u001b[39;00m:\n\u001b[0;32m    611\u001b[0m     \u001b[38;5;28;01mraise\u001b[39;00m PDFPageCountError(\n\u001b[0;32m    612\u001b[0m         \u001b[38;5;124mf\u001b[39m\u001b[38;5;124m\"\u001b[39m\u001b[38;5;124mUnable to get page count.\u001b[39m\u001b[38;5;130;01m\\n\u001b[39;00m\u001b[38;5;132;01m{\u001b[39;00merr\u001b[38;5;241m.\u001b[39mdecode(\u001b[38;5;124m'\u001b[39m\u001b[38;5;124mutf8\u001b[39m\u001b[38;5;124m'\u001b[39m,\u001b[38;5;250m \u001b[39m\u001b[38;5;124m'\u001b[39m\u001b[38;5;124mignore\u001b[39m\u001b[38;5;124m'\u001b[39m)\u001b[38;5;132;01m}\u001b[39;00m\u001b[38;5;124m\"\u001b[39m\n\u001b[0;32m    613\u001b[0m     )\n",
      "\u001b[1;31mPDFInfoNotInstalledError\u001b[0m: Unable to get page count. Is poppler installed and in PATH?"
     ]
    }
   ],
   "source": [
    "### **Example: Extract Text from PDF**\n",
    "\n",
    "from pdf2image import convert_from_path\n",
    "import pytesseract\n",
    "\n",
    "pages = convert_from_path('document.pdf', 300)\n",
    "for page in pages:\n",
    "    text = pytesseract.image_to_string(page)\n",
    "    print(text)"
   ]
  },
  {
   "cell_type": "markdown",
   "id": "17683a6c",
   "metadata": {},
   "source": [
    "- PDFInfoNotInstalledError: Unable to get page count. Is poppler installed and in PATH?\n"
   ]
  },
  {
   "cell_type": "markdown",
   "id": "38ee246b",
   "metadata": {},
   "source": [
    "## Exract data from image"
   ]
  },
  {
   "cell_type": "code",
   "execution_count": null,
   "id": "8ecd9c09",
   "metadata": {},
   "outputs": [],
   "source": [
    "import streamlit as st\n",
    "from ocr_utils import *\n",
    "import numpy as np\n",
    "import cv2\n",
    "\n",
    "st.set_page_config(page_title=\"OCR Text Recognition\")\n",
    "st.title(\"📝 OCR Text Recognition with Pytesseract\")\n",
    "\n",
    "uploaded_file = st.file_uploader(\"Upload an image with text\", type=[\"jpg\", \"jpeg\", \"png\"])\n",
    "if uploaded_file:\n",
    "    image = load_image(uploaded_file.read())\n",
    "    st.image(image, caption=\"Original Image\", use_column_width=True)\n",
    "\n",
    "    thresh = preprocess_image(image)\n",
    "    st.image(thresh, caption=\"Preprocessed Image\", use_column_width=True)\n",
    "\n",
    "    st.subheader(\"📄 Extracted Text\")\n",
    "    text = extract_text(thresh)\n",
    "    st.code(text)\n",
    "\n",
    "    st.subheader(\"🔍 Word Detection with Bounding Boxes\")\n",
    "    data = extract_data(thresh)\n",
    "    n_boxes = len(data['level'])\n",
    "    for i in range(n_boxes):\n",
    "        (x, y, w, h) = (data['left'][i], data['top'][i], data['width'][i], data['height'][i])\n",
    "        cv2.rectangle(image, (x, y), (x + w, y + h), (0, 255, 0), 2)\n",
    "    st.image(image, caption=\"Detected Words\", use_column_width=True)\n"
   ]
  },
  {
   "cell_type": "markdown",
   "id": "68a7f4ef",
   "metadata": {},
   "source": [
    "\n",
    "---\n",
    "\n",
    "## ✅ **8. Projects & Case Studies**\n",
    "\n",
    "### **Beginner**\n",
    "\n",
    "✔ Extract text from an image.\n",
    "✔ Convert scanned PDF to editable text.\n",
    "\n",
    "### **Intermediate**\n",
    "\n",
    "✔ License plate recognition.\n",
    "✔ Business card reader using OCR + OpenCV.\n",
    "\n",
    "### **Advanced**\n",
    "\n",
    "✔ Automated invoice processing with table extraction.\n",
    "✔ Real-time subtitle extraction from video feed.\n",
    "\n",
    "---\n",
    "\n",
    "## ✅ **Practice Session**\n",
    "\n",
    "**Questions:**\n",
    "\n",
    "1. Define OCR and its real-world uses.\n",
    "2. Explain why image preprocessing is important for OCR.\n",
    "3. Write Python code to extract text from an image using Tesseract.\n",
    "4. How do you improve OCR accuracy?\n",
    "5. What is the difference between OCR and ICR?\n",
    "\n",
    "---\n",
    "\n",
    "## ✅ **Assignments**\n",
    "\n",
    "1. Extract text from a scanned handwritten note.\n",
    "2. Create an OCR pipeline for multilingual documents.\n",
    "3. Implement OCR for real-time video stream using OpenCV.\n",
    "4. Process 100 scanned documents and export extracted text into Excel.\n",
    "\n",
    "---\n",
    "\n",
    "## ✅ **Tools & Libraries**\n",
    "\n",
    "* **OpenCV** → Image preprocessing.\n",
    "* **Pytesseract** → OCR engine.\n",
    "* **pdf2image** → Convert PDFs to images.\n",
    "* **EasyOCR** → Multilingual deep learning-based OCR.\n",
    "* **Flask/FastAPI** → Build OCR APIs.\n",
    "\n",
    "---"
   ]
  },
  {
   "cell_type": "markdown",
   "id": "518497ca",
   "metadata": {},
   "source": []
  }
 ],
 "metadata": {
  "kernelspec": {
   "display_name": "cvenv",
   "language": "python",
   "name": "python3"
  },
  "language_info": {
   "codemirror_mode": {
    "name": "ipython",
    "version": 3
   },
   "file_extension": ".py",
   "mimetype": "text/x-python",
   "name": "python",
   "nbconvert_exporter": "python",
   "pygments_lexer": "ipython3",
   "version": "3.10.18"
  }
 },
 "nbformat": 4,
 "nbformat_minor": 5
}
