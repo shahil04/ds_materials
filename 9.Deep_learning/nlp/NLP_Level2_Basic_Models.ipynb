{
 "cells": [
  {
   "cell_type": "markdown",
   "id": "bbd647a9",
   "metadata": {},
   "source": [
    "# 📘 Level 2: Basic NLP Models\n",
    "---\n",
    "Welcome to the second level! Let's start building simple NLP models.\n",
    "\n",
    "Topics we will cover:\n",
    "- Sentiment Analysis (Classical ML)\n",
    "- Text Classification (Manual categories)\n",
    "- Language Detection\n",
    "\n",
    "Each topic includes:\n",
    "- Definition 🧠\n",
    "- Why Use It 🎯\n",
    "- Code Examples with Explanation 💻\n",
    "- Mini Assignments ✍️"
   ]
  },
  {
   "cell_type": "markdown",
   "id": "61b9e0fb",
   "metadata": {},
   "source": [
    "\n",
    "# 1. Sentiment Analysis (using Classical Machine Learning)\n",
    "**Definition:**  \n",
    "Sentiment Analysis is the task of identifying emotions (Positive, Negative, Neutral) in text.\n",
    "\n",
    "**Why use Sentiment Analysis?**  \n",
    "- Understand customer feedback automatically.\n",
    "- Brand monitoring, Social media analysis.\n",
    "\n"
   ]
  },
  {
   "cell_type": "code",
   "execution_count": 2,
   "id": "401def7a",
   "metadata": {},
   "outputs": [
    {
     "name": "stdout",
     "output_type": "stream",
     "text": [
      "Accuracy: 0.5\n"
     ]
    }
   ],
   "source": [
    "\n",
    "# Import Libraries\n",
    "from sklearn.model_selection import train_test_split\n",
    "from sklearn.feature_extraction.text import CountVectorizer\n",
    "from sklearn.naive_bayes import MultinomialNB\n",
    "from sklearn.metrics import accuracy_score\n",
    "\n",
    "# Sample Data\n",
    "texts = [\"I love this product\", \"This is a bad movie\", \"Amazing experience!\", \"Worst service ever\", \"I feel great\", \"I hate waiting\"]\n",
    "labels = [1, 0, 1, 0, 1, 0]  # 1=Positive, 0=Negative\n",
    "\n",
    "# Text Vectorization\n",
    "vectorizer = CountVectorizer()\n",
    "X = vectorizer.fit_transform(texts)\n",
    "\n",
    "# Train-Test Split\n",
    "X_train, X_test, y_train, y_test = train_test_split(X, labels, test_size=0.3, random_state=42)\n",
    "\n",
    "# Model Training\n",
    "model = MultinomialNB()\n",
    "model.fit(X_train, y_train)\n",
    "\n",
    "# Prediction\n",
    "y_pred = model.predict(X_test)\n",
    "print(\"Accuracy:\", accuracy_score(y_test, y_pred))\n",
    "    "
   ]
  },
  {
   "cell_type": "markdown",
   "id": "adc63c12",
   "metadata": {},
   "source": [
    "\n",
    "✅ **Explanation:**  \n",
    "- We use `CountVectorizer` to convert text into numbers.\n",
    "- Trained a `Naive Bayes Classifier`.\n",
    "- Evaluated using `accuracy_score`.\n",
    "    "
   ]
  },
  {
   "cell_type": "markdown",
   "id": "c7967fc9",
   "metadata": {},
   "source": [
    "\n",
    "# 2. Text Classification (Manual Categories)\n",
    "**Definition:**  \n",
    "Classify text into predefined topics like 'sports', 'politics', 'technology'.\n",
    "\n",
    "**Why use Text Classification?**  \n",
    "- Organize large document collections.\n",
    "- News categorization.\n",
    "\n"
   ]
  },
  {
   "cell_type": "code",
   "execution_count": 4,
   "id": "8b4007aa",
   "metadata": {},
   "outputs": [
    {
     "name": "stdout",
     "output_type": "stream",
     "text": [
      "Predictions: ['politics' 'sports'] ['politics', 'sports']\n"
     ]
    }
   ],
   "source": [
    "\n",
    "# Sample Data\n",
    "texts = [\"The match was exciting\", \"Elections are coming soon\", \"New AI technology released\", \"Government passed a new law\", \"The player scored a goal\"]\n",
    "categories = [\"sports\", \"politics\", \"technology\", \"politics\", \"sports\"]\n",
    "\n",
    "# Text Vectorization\n",
    "X = vectorizer.fit_transform(texts)\n",
    "\n",
    "# Train-Test Split\n",
    "X_train, X_test, y_train, y_test = train_test_split(X, categories, test_size=0.3, random_state=42)\n",
    "\n",
    "# Model Training\n",
    "model = MultinomialNB()\n",
    "model.fit(X_train, y_train)\n",
    "\n",
    "# Prediction\n",
    "y_pred = model.predict(X_test)\n",
    "print(\"Predictions:\", y_pred,y_test)\n",
    "    "
   ]
  },
  {
   "cell_type": "markdown",
   "id": "580bcfd7",
   "metadata": {},
   "source": [
    "\n",
    "✅ **Explanation:**  \n",
    "- Same method as sentiment analysis but with multiple classes instead of binary.\n",
    "    "
   ]
  },
  {
   "cell_type": "markdown",
   "id": "ea108ba5",
   "metadata": {},
   "source": [
    "\n",
    "# 3. Language Detection\n",
    "**Definition:**  \n",
    "Identify the language of a given text.\n",
    "\n",
    "**Why use Language Detection?**  \n",
    "- Routing chats to the right language team.\n",
    "- Preprocessing before translation tasks.\n",
    "\n"
   ]
  },
  {
   "cell_type": "code",
   "execution_count": 6,
   "id": "b6b9ee38",
   "metadata": {},
   "outputs": [
    {
     "name": "stdout",
     "output_type": "stream",
     "text": [
      "'Bonjour tout le monde' --> fr\n",
      "'Hello everyone' --> no\n",
      "'Hola amigo' --> so\n",
      "'Wie geht's dir?' --> af\n"
     ]
    }
   ],
   "source": [
    "\n",
    "# Install langdetect library if not installed\n",
    "# pip install langdetect\n",
    "\n",
    "from langdetect import detect\n",
    "\n",
    "# Examples\n",
    "texts = [\"Bonjour tout le monde\", \"Hello everyone\", \"Hola amigo\", \"Wie geht's dir?\"]\n",
    "\n",
    "for text in texts:\n",
    "    print(f\"'{text}' --> {detect(text)}\")\n",
    "    "
   ]
  },
  {
   "cell_type": "markdown",
   "id": "5de7b030",
   "metadata": {},
   "source": [
    "\n",
    "✅ **Explanation:**  \n",
    "- `langdetect` detects over 55+ languages from simple text input.\n",
    "    "
   ]
  },
  {
   "cell_type": "markdown",
   "id": "b6f427a7",
   "metadata": {},
   "source": [
    "\n",
    "# 📚 Mini Assignment\n",
    "- Create your own mini Sentiment Analysis model.\n",
    "- Build a mini Text Classification project (2 or 3 categories).\n",
    "- Try detecting language from a paragraph instead of a single sentence.\n",
    "    "
   ]
  }
 ],
 "metadata": {
  "kernelspec": {
   "display_name": "nlp",
   "language": "python",
   "name": "python3"
  },
  "language_info": {
   "codemirror_mode": {
    "name": "ipython",
    "version": 3
   },
   "file_extension": ".py",
   "mimetype": "text/x-python",
   "name": "python",
   "nbconvert_exporter": "python",
   "pygments_lexer": "ipython3",
   "version": "3.12.9"
  }
 },
 "nbformat": 4,
 "nbformat_minor": 5
}
