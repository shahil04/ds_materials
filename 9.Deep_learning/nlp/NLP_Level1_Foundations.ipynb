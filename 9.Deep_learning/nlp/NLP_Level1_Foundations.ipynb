{
 "cells": [
  {
   "cell_type": "markdown",
   "id": "12064bf8",
   "metadata": {},
   "source": [
    "# 📘 Level 1: NLP Foundations\n",
    "---\n",
    "Welcome to the first step in mastering Natural Language Processing (NLP)! This notebook covers basic but essential topics to build a strong foundation.\n",
    "\n",
    "Each topic includes:\n",
    "- Definition 🧠\n",
    "- Why Use It 🎯\n",
    "- Code Examples with Explanation 💻\n",
    "- Mini Assignments ✍️"
   ]
  },
  {
   "cell_type": "markdown",
   "id": "23726959",
   "metadata": {},
   "source": [
    "\n",
    "# 1. What is Natural Language Processing (NLP)?\n",
    "**Definition:**  \n",
    "NLP is a branch of Artificial Intelligence that enables machines to understand, interpret, and generate human language.\n",
    "\n",
    "**Why use NLP?**  \n",
    "- Communicate with computers using natural language (English, Hindi, etc.).\n",
    "- Automate text-based tasks (translation, sentiment analysis, etc.).\n",
    "\n",
    "**Examples:** Chatbots, Translators, Voice Assistants.\n",
    "    "
   ]
  },
  {
   "cell_type": "markdown",
   "id": "b56b8fac",
   "metadata": {},
   "source": [
    "\n",
    "# 2. Text Preprocessing Overview\n",
    "**Definition:**  \n",
    "Preparing raw text into a clean and usable format for machine learning models.\n",
    "\n",
    "**Why use it?**  \n",
    "- Reduces noise.\n",
    "- Improves model performance.\n",
    "\n",
    "Common steps: Tokenization, Stopwords Removal, Lemmatization, Vectorization.\n",
    "    "
   ]
  },
  {
   "cell_type": "markdown",
   "id": "63ed81db",
   "metadata": {},
   "source": [
    "\n",
    "# 3. Tokenization\n",
    "**Definition:**  \n",
    "Breaking text into individual units like words or sentences.\n",
    "\n",
    "**Why use Tokenization?**  \n",
    "- It simplifies the analysis.\n",
    "- Prepares text for modeling.\n",
    "\n"
   ]
  },
  {
   "cell_type": "code",
   "execution_count": null,
   "id": "f84f4c85",
   "metadata": {},
   "outputs": [
    {
     "name": "stderr",
     "output_type": "stream",
     "text": [
      "[nltk_data] Downloading package punkt_tab to\n",
      "[nltk_data]     C:\\Users\\hp\\AppData\\Roaming\\nltk_data...\n",
      "[nltk_data]   Package punkt_tab is already up-to-date!\n"
     ]
    },
    {
     "data": {
      "text/plain": [
       "True"
      ]
     },
     "execution_count": 2,
     "metadata": {},
     "output_type": "execute_result"
    }
   ],
   "source": [
    "# pip install nltk==3.8.1  for error free\n",
    "import nltk\n",
    "nltk.download('punkt_tab')  # punkt is correct\n",
    "# Notes:\n",
    "\n",
    "# word_tokenize() splits the text into individual words and punctuations.\n",
    "# sent_tokenize() splits the text into sentences.\n",
    "# nltk.download('punkt') only needs to be run once (per environment) to download the tokenizer data."
   ]
  },
  {
   "cell_type": "code",
   "execution_count": 3,
   "id": "4a1f0451",
   "metadata": {},
   "outputs": [],
   "source": [
    "# import nltk\n",
    "# nltk.download('punkt', force=True)"
   ]
  },
  {
   "cell_type": "code",
   "execution_count": 4,
   "id": "80beca33",
   "metadata": {},
   "outputs": [
    {
     "name": "stdout",
     "output_type": "stream",
     "text": [
      "Word Tokens: ['NLP', 'makes', 'machines', 'understand', 'human', 'language', '!', 'It', \"'s\", 'amazing', '.']\n",
      "Sentence Tokens: ['NLP makes machines understand human language!', \"It's amazing.\"]\n"
     ]
    }
   ],
   "source": [
    "from nltk.tokenize import word_tokenize, sent_tokenize\n",
    "\n",
    "text = \"NLP makes machines understand human language! It's amazing.\"\n",
    "# Word Tokenization\n",
    "words = word_tokenize(text)\n",
    "print(\"Word Tokens:\", words)\n",
    "# Sentence Tokenization\n",
    "sentences = sent_tokenize(text)\n",
    "print(\"Sentence Tokens:\", sentences)\n",
    "    "
   ]
  },
  {
   "cell_type": "markdown",
   "id": "af525f70",
   "metadata": {},
   "source": [
    "\n",
    "✅ **Explanation:**  \n",
    "- `word_tokenize` splits text into words.\n",
    "- `sent_tokenize` splits text into sentences.\n",
    "    "
   ]
  },
  {
   "cell_type": "markdown",
   "id": "574e8dbe",
   "metadata": {},
   "source": [
    "\n",
    "# 4. Removing Non-Alphabetic Characters\n",
    "**Definition:**  \n",
    "Filtering out tokens that are not pure letters.\n",
    "\n",
    "**Why?**  \n",
    "- Focus on meaningful words only.\n",
    "\n"
   ]
  },
  {
   "cell_type": "code",
   "execution_count": 5,
   "id": "4c485d47",
   "metadata": {},
   "outputs": [
    {
     "name": "stdout",
     "output_type": "stream",
     "text": [
      "After Removing Non-Alphabets: ['NLP', 'makes', 'machines', 'understand', 'human', 'language', 'It', 'amazing']\n"
     ]
    }
   ],
   "source": [
    "\n",
    "# Removing non-alphabetic words\n",
    "words_alpha = [word for word in words if word.isalpha()]\n",
    "print(\"After Removing Non-Alphabets:\", words_alpha)\n",
    "    "
   ]
  },
  {
   "cell_type": "markdown",
   "id": "fb5b43e6",
   "metadata": {},
   "source": [
    "\n",
    "# 5. Stopwords Removal\n",
    "**Definition:**  \n",
    "Removing common words (like 'is', 'the', 'and') that don't add much meaning.\n",
    "\n",
    "**Why?**  \n",
    "- Reduces noise.\n",
    "- Highlights important words.\n",
    "\n"
   ]
  },
  {
   "cell_type": "code",
   "execution_count": 6,
   "id": "bd19016c",
   "metadata": {},
   "outputs": [
    {
     "name": "stdout",
     "output_type": "stream",
     "text": [
      "After Stopwords Removal: ['NLP', 'makes', 'machines', 'understand', 'human', 'language', 'amazing']\n"
     ]
    },
    {
     "name": "stderr",
     "output_type": "stream",
     "text": [
      "[nltk_data] Downloading package stopwords to\n",
      "[nltk_data]     C:\\Users\\hp\\AppData\\Roaming\\nltk_data...\n",
      "[nltk_data]   Package stopwords is already up-to-date!\n"
     ]
    }
   ],
   "source": [
    "\n",
    "nltk.download('stopwords')\n",
    "from nltk.corpus import stopwords\n",
    "\n",
    "stop_words = set(stopwords.words('english'))\n",
    "filtered_words = [word for word in words_alpha if word.lower() not in stop_words]\n",
    "print(\"After Stopwords Removal:\", filtered_words)\n",
    "    "
   ]
  },
  {
   "cell_type": "markdown",
   "id": "27a65f29",
   "metadata": {},
   "source": [
    "\n",
    "# 6. Stemming and Lemmatization\n",
    "**Definition:**  \n",
    "Reducing words to their base or root form.\n",
    "\n",
    "**Why?**  \n",
    "- Groups similar words (run, running, runs ➔ run).\n",
    "\n"
   ]
  },
  {
   "cell_type": "code",
   "execution_count": 7,
   "id": "b8b9c444",
   "metadata": {},
   "outputs": [
    {
     "name": "stderr",
     "output_type": "stream",
     "text": [
      "[nltk_data] Downloading package wordnet to\n",
      "[nltk_data]     C:\\Users\\hp\\AppData\\Roaming\\nltk_data...\n",
      "[nltk_data]   Package wordnet is already up-to-date!\n"
     ]
    },
    {
     "name": "stdout",
     "output_type": "stream",
     "text": [
      "Stemmed Words: ['nlp', 'make', 'machin', 'understand', 'human', 'languag', 'amaz']\n",
      "Lemmatized Words: ['NLP', 'make', 'machine', 'understand', 'human', 'language', 'amazing']\n"
     ]
    }
   ],
   "source": [
    "\n",
    "from nltk.stem import PorterStemmer, WordNetLemmatizer\n",
    "nltk.download('wordnet')\n",
    "\n",
    "stemmer = PorterStemmer()\n",
    "lemmatizer = WordNetLemmatizer()\n",
    "\n",
    "stemmed = [stemmer.stem(word) for word in filtered_words]\n",
    "lemmatized = [lemmatizer.lemmatize(word) for word in filtered_words]\n",
    "\n",
    "print(\"Stemmed Words:\", stemmed)\n",
    "print(\"Lemmatized Words:\", lemmatized)\n",
    "    "
   ]
  },
  {
   "cell_type": "markdown",
   "id": "49f74cd2",
   "metadata": {},
   "source": [
    "\n",
    "# 7. Part of Speech (POS) Tagging\n",
    "**Definition:**  \n",
    "Identifying each word's role — noun, verb, adjective, etc.\n",
    "\n",
    "**Why?**  \n",
    "- Helps understand sentence structure.\n",
    "\n"
   ]
  },
  {
   "cell_type": "code",
   "execution_count": 8,
   "id": "b65f7331",
   "metadata": {},
   "outputs": [
    {
     "name": "stdout",
     "output_type": "stream",
     "text": [
      "POS Tags: [('NLP', 'NNP'), ('makes', 'VBZ'), ('machines', 'NNS'), ('understand', 'JJ'), ('human', 'JJ'), ('language', 'NN'), ('It', 'PRP'), ('amazing', 'VBG')]\n"
     ]
    },
    {
     "name": "stderr",
     "output_type": "stream",
     "text": [
      "[nltk_data] Downloading package punkt to\n",
      "[nltk_data]     C:\\Users\\hp\\AppData\\Roaming\\nltk_data...\n",
      "[nltk_data]   Package punkt is already up-to-date!\n",
      "[nltk_data] Downloading package averaged_perceptron_tagger to\n",
      "[nltk_data]     C:\\Users\\hp\\AppData\\Roaming\\nltk_data...\n",
      "[nltk_data]   Package averaged_perceptron_tagger is already up-to-\n",
      "[nltk_data]       date!\n"
     ]
    }
   ],
   "source": [
    "import nltk\n",
    "nltk.download('punkt')\n",
    "nltk.download('averaged_perceptron_tagger')\n",
    "\n",
    "text = \"NLP makes machines understand human language! It's amazing.\"\n",
    "\n",
    "# Tokenize into words\n",
    "words = nltk.word_tokenize(text)\n",
    "\n",
    "# (optional) Filter out punctuations\n",
    "filtered_words = [word for word in words if word.isalpha()]\n",
    "\n",
    "# POS tagging\n",
    "pos_tags = nltk.pos_tag(filtered_words)\n",
    "\n",
    "print(\"POS Tags:\", pos_tags)\n"
   ]
  },
  {
   "cell_type": "code",
   "execution_count": 9,
   "id": "c2c541dd",
   "metadata": {},
   "outputs": [
    {
     "name": "stdout",
     "output_type": "stream",
     "text": [
      "POS Tags: [('NLP', 'NNP'), ('makes', 'VBZ'), ('machines', 'NNS'), ('understand', 'JJ'), ('human', 'JJ'), ('language', 'NN'), ('It', 'PRP'), ('amazing', 'VBG')]\n"
     ]
    },
    {
     "name": "stderr",
     "output_type": "stream",
     "text": [
      "[nltk_data] Downloading package averaged_perceptron_tagger to\n",
      "[nltk_data]     C:\\Users\\hp\\AppData\\Roaming\\nltk_data...\n",
      "[nltk_data]   Package averaged_perceptron_tagger is already up-to-\n",
      "[nltk_data]       date!\n"
     ]
    }
   ],
   "source": [
    "import nltk\n",
    "nltk.download('averaged_perceptron_tagger')\n",
    "pos_tags = nltk.pos_tag(filtered_words)\n",
    "print(\"POS Tags:\", pos_tags)\n"
   ]
  },
  {
   "cell_type": "markdown",
   "id": "b2734f64",
   "metadata": {},
   "source": [
    "\n",
    "# 8. Named Entity Recognition (NER)\n",
    "**Definition:**  \n",
    "Finding entities like Person names, Organizations, Dates, Locations.\n",
    "\n",
    "**Why?**  \n",
    "- Extract valuable real-world information.\n",
    "\n"
   ]
  },
  {
   "cell_type": "code",
   "execution_count": 21,
   "id": "4382ea83",
   "metadata": {},
   "outputs": [],
   "source": [
    "text = \"NLP makes machines understand human language! It's amazing. google, raj\"\n",
    "text2 = \"raj is a good boy\""
   ]
  },
  {
   "cell_type": "code",
   "execution_count": 22,
   "id": "2eb91874",
   "metadata": {},
   "outputs": [],
   "source": [
    "# python -m spacy download en_core_web_sm\n",
    "# download first\n",
    "import spacy\n",
    "nlp = spacy.load(\"en_core_web_sm\")\n",
    "\n",
    "doc = nlp(text2)\n",
    "for ent in doc.ents:\n",
    "    print(ent.text, ent.label_)\n",
    "    "
   ]
  },
  {
   "cell_type": "markdown",
   "id": "497c5c8a",
   "metadata": {},
   "source": [
    "\n",
    "# 9. Bag of Words (BoW)\n",
    "**Definition:**  \n",
    "Representing text using word counts.\n",
    "\n",
    "**Why?**  \n",
    "- Converts text to numbers for modeling.\n",
    "\n"
   ]
  },
  {
   "cell_type": "code",
   "execution_count": 25,
   "id": "af638556",
   "metadata": {},
   "outputs": [
    {
     "name": "stdout",
     "output_type": "stream",
     "text": [
      "   amazing  google  human  it  language  machines  makes  nlp  raj  understand\n",
      "0        1       1      1   1         1         1      1    1    1           1\n"
     ]
    }
   ],
   "source": [
    "# pip install scikit-learn, pandas\n",
    "from sklearn.feature_extraction.text import CountVectorizer\n",
    "import pandas as pd\n",
    "\n",
    "corpus = [text]\n",
    "vectorizer = CountVectorizer()\n",
    "X = vectorizer.fit_transform(corpus)\n",
    "print(pd.DataFrame(X.toarray(), columns=vectorizer.get_feature_names_out()))   "
   ]
  },
  {
   "cell_type": "markdown",
   "id": "a0ab8f7b",
   "metadata": {},
   "source": [
    "\n",
    "# 10. TF-IDF (Term Frequency - Inverse Document Frequency)\n",
    "**Definition:**  \n",
    "Gives importance to rare but meaningful words.\n",
    "\n",
    "**Why?**  \n",
    "- Highlights unique words for a document.\n",
    "\n"
   ]
  },
  {
   "cell_type": "code",
   "execution_count": 26,
   "id": "387ef2f7",
   "metadata": {},
   "outputs": [
    {
     "name": "stdout",
     "output_type": "stream",
     "text": [
      "    amazing    google     human        it  language  machines     makes  \\\n",
      "0  0.316228  0.316228  0.316228  0.316228  0.316228  0.316228  0.316228   \n",
      "\n",
      "        nlp       raj  understand  \n",
      "0  0.316228  0.316228    0.316228  \n"
     ]
    }
   ],
   "source": [
    "\n",
    "from sklearn.feature_extraction.text import TfidfVectorizer\n",
    "\n",
    "vectorizer = TfidfVectorizer()\n",
    "X = vectorizer.fit_transform(corpus)\n",
    "print(pd.DataFrame(X.toarray(), columns=vectorizer.get_feature_names_out()))\n",
    "    "
   ]
  },
  {
   "cell_type": "markdown",
   "id": "19546550",
   "metadata": {},
   "source": [
    "\n",
    "# 11. Text Visualization\n",
    "**Definition:**  \n",
    "Creating visual insights from textual data.\n",
    "\n",
    "**Why?**  \n",
    "- Quickly spot important terms.\n",
    "\n"
   ]
  },
  {
   "cell_type": "code",
   "execution_count": 28,
   "id": "0e3f579a",
   "metadata": {},
   "outputs": [
    {
     "data": {
      "image/png": "[encoded data removed]",
      "text/plain": [
       "<Figure size 1000x500 with 1 Axes>"
      ]
     },
     "metadata": {},
     "output_type": "display_data"
    }
   ],
   "source": [
    "# pip install wordcloud\n",
    "from wordcloud import WordCloud\n",
    "import matplotlib.pyplot as plt\n",
    "\n",
    "wordcloud = WordCloud(width=800, height=400, background_color='white').generate(' '.join(filtered_words))\n",
    "plt.figure(figsize=(10,5))\n",
    "plt.imshow(wordcloud, interpolation='bilinear')\n",
    "plt.axis('off')\n",
    "plt.show()\n",
    "    "
   ]
  },
  {
   "cell_type": "markdown",
   "id": "4610f7de",
   "metadata": {},
   "source": [
    "\n",
    "# 📚 Mini Assignment\n",
    "- Take a paragraph of your own.\n",
    "- Apply Tokenization, Stopword Removal, Lemmatization.\n",
    "- Create a Word Cloud.\n",
    "- Submit the code + visualization.\n",
    "    "
   ]
  }
 ],
 "metadata": {
  "kernelspec": {
   "display_name": "nlp",
   "language": "python",
   "name": "python3"
  },
  "language_info": {
   "codemirror_mode": {
    "name": "ipython",
    "version": 3
   },
   "file_extension": ".py",
   "mimetype": "text/x-python",
   "name": "python",
   "nbconvert_exporter": "python",
   "pygments_lexer": "ipython3",
   "version": "3.12.9"
  }
 },
 "nbformat": 4,
 "nbformat_minor": 5
}
