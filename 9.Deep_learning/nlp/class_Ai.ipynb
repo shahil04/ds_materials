{
 "cells": [
  {
   "cell_type": "code",
   "execution_count": null,
   "id": "48d9a60e",
   "metadata": {},
   "outputs": [],
   "source": [
    "\n",
    "sent =\"What is the capital of France?\""
   ]
  },
  {
   "cell_type": "code",
   "execution_count": null,
   "id": "91579929",
   "metadata": {},
   "outputs": [],
   "source": [
    "list1 =[]\n",
    "\n",
    "for word in sent.split(\" \"):\n",
    "    print(word)\n",
    "    # cleaning\n",
    "\n",
    "    list1.append(word)\n",
    "\n",
    "\n",
    "    panch=\"!@#$%^&*()\"\n",
    "\n",
    "list1\n"
   ]
  },
  {
   "cell_type": "code",
   "execution_count": null,
   "id": "fb9ddc05",
   "metadata": {},
   "outputs": [],
   "source": [
    "dic = {}\n",
    "\n",
    "for i in range(len(list1)):\n",
    "    print(i)\n",
    "    dic[i]=list1[i]\n",
    "\n",
    "dic"
   ]
  },
  {
   "cell_type": "code",
   "execution_count": null,
   "id": "9c7329b6",
   "metadata": {},
   "outputs": [],
   "source": [
    "70"
   ]
  },
  {
   "cell_type": "code",
   "execution_count": null,
   "id": "8d0d8639",
   "metadata": {},
   "outputs": [],
   "source": [
    "# pip install nltk==3.8.1  for error free\n",
    "import nltk\n",
    "nltk.download('punkt_tab')  # punkt is correct\n",
    "# Notes:\n",
    "\n",
    "# nltk.download('punkt')  # punkt is correct\n"
   ]
  },
  {
   "cell_type": "code",
   "execution_count": null,
   "id": "4d8f88e0",
   "metadata": {},
   "outputs": [],
   "source": [
    "from nltk.tokenize import word_tokenize, sent_tokenize\n",
    "\n",
    "text = \"NLP makes machines understand human language! It's amazing. I am giving 4star\"\n",
    "\n",
    "word_tokenize(text)"
   ]
  },
  {
   "cell_type": "code",
   "execution_count": null,
   "id": "efe9a921",
   "metadata": {},
   "outputs": [],
   "source": [
    "sent_tokenize(text)"
   ]
  },
  {
   "cell_type": "code",
   "execution_count": 15,
   "id": "789f6a0c",
   "metadata": {},
   "outputs": [
    {
     "name": "stdout",
     "output_type": "stream",
     "text": [
      "NLP\n",
      "makes\n",
      "machines\n",
      "understand\n",
      "human\n",
      "language\n",
      "It\n",
      "amazing\n",
      "I\n",
      "am\n",
      "giving\n",
      "4star\n"
     ]
    }
   ],
   "source": [
    "# text cleaning\n",
    "words_alpha=[]\n",
    "for  i in word_tokenize(text):\n",
    "    if i.isalnum() :\n",
    "        print(i)\n",
    "        words_alpha.append(i)"
   ]
  },
  {
   "cell_type": "code",
   "execution_count": null,
   "id": "84d8f86d",
   "metadata": {},
   "outputs": [],
   "source": [
    "nltk.download('stopwords')\n",
    "from nltk.corpus import stopwords"
   ]
  },
  {
   "cell_type": "code",
   "execution_count": null,
   "id": "586f4ee6",
   "metadata": {},
   "outputs": [],
   "source": [
    "# store the stops words in variable\n",
    "stop_words = set(stopwords.words('english'))\n",
    "stop_words"
   ]
  },
  {
   "cell_type": "code",
   "execution_count": null,
   "id": "965e084d",
   "metadata": {},
   "outputs": [
    {
     "name": "stdout",
     "output_type": "stream",
     "text": [
      "After Stopwords Removal: ['NLP', 'makes', 'machines', 'understand', 'human', 'language', 'amazing', 'giving', '4star']\n"
     ]
    }
   ],
   "source": [
    "filtered_words = [word for word in words_alpha if word.lower() not in stop_words]\n",
    "print(\"After Stopwords Removal:\", filtered_words)\n",
    "    "
   ]
  },
  {
   "cell_type": "code",
   "execution_count": 26,
   "id": "e459eb1c",
   "metadata": {},
   "outputs": [
    {
     "name": "stderr",
     "output_type": "stream",
     "text": [
      "[nltk_data] Downloading package wordnet to\n",
      "[nltk_data]     C:\\Users\\hp\\AppData\\Roaming\\nltk_data...\n",
      "[nltk_data]   Package wordnet is already up-to-date!\n"
     ]
    },
    {
     "data": {
      "text/plain": [
       "True"
      ]
     },
     "execution_count": 26,
     "metadata": {},
     "output_type": "execute_result"
    }
   ],
   "source": [
    "# Stemmer and Lemmatizer to change into their root word\n",
    "from nltk.stem import PorterStemmer, WordNetLemmatizer, SnowballStemmer\n",
    "nltk.download('wordnet')"
   ]
  },
  {
   "cell_type": "code",
   "execution_count": 29,
   "id": "0dbb18e2",
   "metadata": {},
   "outputs": [],
   "source": [
    "stemmer = PorterStemmer()\n",
    "sb = SnowballStemmer(language=\"english\")\n",
    "lemmatizer = WordNetLemmatizer()\n"
   ]
  },
  {
   "cell_type": "code",
   "execution_count": 30,
   "id": "9c8e2a5f",
   "metadata": {},
   "outputs": [
    {
     "name": "stdout",
     "output_type": "stream",
     "text": [
      "nlp\n",
      "nlp\n",
      "make\n",
      "make\n",
      "machin\n",
      "machin\n",
      "understand\n",
      "understand\n",
      "human\n",
      "human\n",
      "languag\n",
      "languag\n",
      "amaz\n",
      "amaz\n",
      "give\n",
      "give\n",
      "4star\n",
      "4star\n"
     ]
    }
   ],
   "source": [
    "for  i in filtered_words:\n",
    "    print(stemmer.stem(i))\n",
    "    print(sb.stem(i))"
   ]
  },
  {
   "cell_type": "code",
   "execution_count": 24,
   "id": "9964ec40",
   "metadata": {},
   "outputs": [
    {
     "name": "stdout",
     "output_type": "stream",
     "text": [
      "NLP\n",
      "make\n",
      "machine\n",
      "understand\n",
      "human\n",
      "language\n",
      "amazing\n",
      "giving\n",
      "4star\n"
     ]
    }
   ],
   "source": [
    "for  i in filtered_words:\n",
    "    print(lemmatizer.lemmatize(i))"
   ]
  },
  {
   "cell_type": "code",
   "execution_count": 31,
   "id": "94ae7ef6",
   "metadata": {},
   "outputs": [
    {
     "name": "stderr",
     "output_type": "stream",
     "text": [
      "[nltk_data] Downloading package averaged_perceptron_tagger to\n",
      "[nltk_data]     C:\\Users\\hp\\AppData\\Roaming\\nltk_data...\n",
      "[nltk_data]   Package averaged_perceptron_tagger is already up-to-\n",
      "[nltk_data]       date!\n"
     ]
    },
    {
     "data": {
      "text/plain": [
       "True"
      ]
     },
     "execution_count": 31,
     "metadata": {},
     "output_type": "execute_result"
    }
   ],
   "source": [
    "# for POS Tag\n",
    "nltk.download('averaged_perceptron_tagger')\n"
   ]
  },
  {
   "cell_type": "code",
   "execution_count": 32,
   "id": "1bfc10a9",
   "metadata": {},
   "outputs": [
    {
     "name": "stdout",
     "output_type": "stream",
     "text": [
      "POS Tags: [('NLP', 'NNP'), ('makes', 'VBZ'), ('machines', 'NNS'), ('understand', 'JJ'), ('human', 'JJ'), ('language', 'NN'), ('amazing', 'VBG'), ('giving', 'VBG'), ('4star', 'CD')]\n"
     ]
    }
   ],
   "source": [
    "# POS tagging\n",
    "pos_tags = nltk.pos_tag(filtered_words)\n",
    "\n",
    "print(\"POS Tags:\", pos_tags)"
   ]
  },
  {
   "cell_type": "code",
   "execution_count": null,
   "id": "4e9a78b9",
   "metadata": {},
   "outputs": [],
   "source": []
  }
 ],
 "metadata": {
  "kernelspec": {
   "display_name": "nlp",
   "language": "python",
   "name": "python3"
  },
  "language_info": {
   "codemirror_mode": {
    "name": "ipython",
    "version": 3
   },
   "file_extension": ".py",
   "mimetype": "text/x-python",
   "name": "python",
   "nbconvert_exporter": "python",
   "pygments_lexer": "ipython3",
   "version": "3.12.9"
  }
 },
 "nbformat": 4,
 "nbformat_minor": 5
}
