{
 "cells": [
  {
   "cell_type": "markdown",
   "metadata": {},
   "source": [
    "# Rainfall Prediction Project\n",
    "Predict rainfall for Indian districts using historical data."
   ]
  },
  {
   "cell_type": "code",
   "execution_count": 2,
   "metadata": {},
   "outputs": [],
   "source": [
    "# Imports\n",
    "import pandas as pd\n",
    "import numpy as np\n",
    "import matplotlib.pyplot as plt\n",
    "import seaborn as sns\n",
    "import joblib\n",
    "\n",
    "# from src.data_prep import load_raw, clean_dates\n",
    "# from src.features import create_time_features\n",
    "# from src.models import build_rf_pipeline, save_model\n",
    "# from src.evaluate import rmse, mae\n"
   ]
  },
  {
   "cell_type": "code",
   "execution_count": null,
   "id": "feb04c20",
   "metadata": {},
   "outputs": [],
   "source": [
    "# Rainfall Prediction Project - Self Contained Notebook\n",
    "\n",
    "# --- Imports ---\n",
    "import pandas as pd\n",
    "import numpy as np\n",
    "import matplotlib.pyplot as plt\n",
    "import seaborn as sns\n",
    "from sklearn.ensemble import RandomForestRegressor\n",
    "from sklearn.pipeline import Pipeline\n",
    "from sklearn.compose import ColumnTransformer\n",
    "from sklearn.preprocessing import StandardScaler, OneHotEncoder\n",
    "from sklearn.impute import SimpleImputer\n",
    "from sklearn.metrics import mean_squared_error, mean_absolute_error\n",
    "import joblib\n",
    "from datetime import timedelta, datetime\n",
    "\n",
    "# --- 1. Functions ---\n",
    "\n",
    "# Data loading and cleaning\n",
    "def load_and_clean_data(path):\n",
    "    df = pd.read_csv(path)\n",
    "    df = df.dropna(subset=['Date']).copy()\n",
    "    df['Date'] = pd.to_datetime(df['Date'], format='%Y-%m-%d', errors='coerce')\n",
    "    df = df.dropna(subset=['Date']).copy()\n",
    "    df['Day'] = df['Date'].dt.day\n",
    "    df['Weekday'] = df['Date'].dt.day_name()\n",
    "    df['Month'] = df['Date'].dt.month\n",
    "    df['Year'] = df['Date'].dt.year\n",
    "    return df\n",
    "\n",
    "# Feature engineering\n",
    "def create_time_features(df, group_col='District', target='Avg_rainfall', lags=[1,2,3,7], windows=[3,7]):\n",
    "    df = df.sort_values([group_col,'Date']).copy()\n",
    "    for lag in lags:\n",
    "        df[f'lag_{lag}'] = df.groupby(group_col)[target].shift(lag)\n",
    "    for w in windows:\n",
    "        df[f'roll_mean_{w}'] = df.groupby(group_col)[target].shift(1).rolling(window=w, min_periods=1).mean().reset_index(level=0, drop=True)\n",
    "    return df\n",
    "\n",
    "# Model building\n",
    "def build_rf_pipeline(numeric_features, categorical_features):\n",
    "    numeric_transformer = Pipeline(steps=[\n",
    "        ('imputer', SimpleImputer(strategy='median')),\n",
    "        ('scaler', StandardScaler())\n",
    "    ])\n",
    "    categorical_transformer = Pipeline(steps=[\n",
    "        ('ohe', OneHotEncoder(handle_unknown='ignore'))\n",
    "    ])\n",
    "    preprocessor = ColumnTransformer(transformers=[\n",
    "        ('num', numeric_transformer, numeric_features),\n",
    "        ('cat', categorical_transformer, categorical_features)\n",
    "    ])\n",
    "    model = Pipeline(steps=[\n",
    "        ('pre', preprocessor),\n",
    "        ('rf', RandomForestRegressor(n_estimators=100, random_state=42, n_jobs=-1))\n",
    "    ])\n",
    "    return model\n",
    "\n",
    "# Evaluation metrics\n",
    "def rmse(y_true, y_pred):\n",
    "    return np.sqrt(mean_squared_error(y_true, y_pred))\n",
    "\n",
    "def mae(y_true, y_pred):\n",
    "    return mean_absolute_error(y_true, y_pred)\n",
    "\n",
    "# 7-day forecast\n",
    "def forecast_7_days(model, df_hist, features, start_date):\n",
    "    last_known = df_hist.iloc[-1].copy()\n",
    "    forecast_dates = []\n",
    "    forecast_values = []\n",
    "    for i in range(7):\n",
    "        X_input = last_known[features].values.reshape(1,-1)\n",
    "        val = model.predict(X_input)[0]\n",
    "        forecast_values.append(val)\n",
    "        forecast_dates.append(start_date + timedelta(days=i+1))\n",
    "        # Update lag features\n",
    "        last_known['lag_3'] = last_known['lag_2']\n",
    "        last_known['lag_2'] = last_known['lag_1']\n",
    "        last_known['lag_1'] = val\n",
    "        last_known['roll_mean_7'] = np.mean([last_known['lag_1'], last_known['lag_2'], last_known['lag_3']])\n",
    "    return forecast_dates, forecast_values\n",
    "\n",
    "# --- 2. Load & clean data ---\n",
    "# df = load_and_clean_data(\"data/raw/sample_rainfall.csv\")\n",
    "df = load_and_clean_data(r'C:\\Users\\hp\\Documents\\ds_materials\\9.Deep_learning\\project\\Rainfall Pattern Prediction\\rainfall_prediction_project\\data\\raw\\sample_rainfall.csv')\n",
    "\n",
    "df.head()\n",
    "\n",
    "\n",
    "# --- 3. EDA ---\n",
    "plt.figure(figsize=(8,4))\n",
    "sns.histplot(df['Avg_rainfall'], bins=30, kde=True, color='skyblue')\n",
    "plt.title('Rainfall Distribution')\n",
    "plt.xlabel('Avg_rainfall (mm)')\n",
    "plt.show()\n",
    "\n",
    "monthly_avg = df.groupby('Month')['Avg_rainfall'].mean().reset_index()\n",
    "plt.figure(figsize=(8,4))\n",
    "sns.barplot(x='Month', y='Avg_rainfall', data=monthly_avg, palette='viridis')\n",
    "plt.title('Average Rainfall per Month')\n",
    "plt.show()\n",
    "\n",
    "# --- 4. Feature engineering ---\n",
    "df = create_time_features(df)\n",
    "df.dropna(subset=['lag_1'], inplace=True)\n",
    "df.head()\n",
    "\n",
    "# --- 5. Model training ---\n",
    "num_features = ['lag_1','lag_2','lag_3','roll_mean_7','Day','Month']\n",
    "cat_features = ['District']\n",
    "X = df[num_features + cat_features]\n",
    "y = df['Avg_rainfall']\n",
    "\n",
    "split_idx = int(0.8*len(df))\n",
    "X_train, X_test = X.iloc[:split_idx], X.iloc[split_idx:]\n",
    "y_train, y_test = y.iloc[:split_idx], y.iloc[split_idx:]\n",
    "\n",
    "model = build_rf_pipeline(num_features, cat_features)\n",
    "model.fit(X_train, y_train)\n",
    "\n",
    "# Save model\n",
    "import os\n",
    "os.makedirs(\"models\", exist_ok=True)\n",
    "joblib.dump(model, \"models/rf_model.joblib\")\n",
    "\n",
    "# --- 6. Evaluation ---\n",
    "y_pred = model.predict(X_test)\n",
    "print('RMSE:', rmse(y_test, y_pred))\n",
    "print('MAE:', mae(y_test, y_pred))\n",
    "\n",
    "# --- 7. 7-day forecast example ---\n",
    "district = 'South East'\n",
    "df_hist = df[df['District']==district].sort_values('Date')\n",
    "start_date = df_hist['Date'].max()\n",
    "\n",
    "forecast_dates, forecast_values = forecast_7_days(model, df_hist, num_features + cat_features, start_date)\n",
    "\n",
    "plt.figure(figsize=(10,4))\n",
    "plt.plot(forecast_dates, forecast_values, marker='o', color='blue')\n",
    "plt.title(f'7-Day Forecast for {district}')\n",
    "plt.xlabel('Date')\n",
    "plt.ylabel('Rainfall (mm)')\n",
    "plt.grid(True)\n",
    "plt.show()\n"
   ]
  },
  {
   "cell_type": "code",
   "execution_count": 16,
   "id": "d334ccf5",
   "metadata": {},
   "outputs": [
    {
     "data": {
      "image/png": "[encoded data removed]",
      "text/plain": [
       "<Figure size 1000x400 with 1 Axes>"
      ]
     },
     "metadata": {},
     "output_type": "display_data"
    }
   ],
   "source": [
    "def forecast_7_days(model, df_hist, features, start_date):\n",
    "    last_known = df_hist.iloc[-1].copy()\n",
    "    forecast_dates = []\n",
    "    forecast_values = []\n",
    "    for i in range(7):\n",
    "        X_input = pd.DataFrame([last_known])[features]  # convert to DataFrame\n",
    "        val = model.predict(X_input)[0]\n",
    "        forecast_values.append(val)\n",
    "        forecast_dates.append(start_date + timedelta(days=i+1))\n",
    "        # Update lag features\n",
    "        last_known['lag_3'] = last_known['lag_2']\n",
    "        last_known['lag_2'] = last_known['lag_1']\n",
    "        last_known['lag_1'] = val\n",
    "        last_known['roll_mean_7'] = np.mean([last_known['lag_1'], last_known['lag_2'], last_known['lag_3']])\n",
    "    return forecast_dates, forecast_values\n",
    "\n",
    "\n",
    "\n",
    "# --- 7. 7-day forecast example ---\n",
    "district = 'South East'\n",
    "df_hist = df[df['District']==district].sort_values('Date')\n",
    "start_date = df_hist['Date'].max()\n",
    "\n",
    "forecast_dates, forecast_values = forecast_7_days(model, df_hist, num_features + cat_features, start_date)\n",
    "\n",
    "plt.figure(figsize=(10,4))\n",
    "plt.plot(forecast_dates, forecast_values, marker='o', color='blue')\n",
    "plt.title(f'7-Day Forecast for {district}')\n",
    "plt.xlabel('Date')\n",
    "plt.ylabel('Rainfall (mm)')\n",
    "plt.grid(True)\n",
    "plt.show()\n"
   ]
  },
  {
   "cell_type": "markdown",
   "metadata": {},
   "source": [
    "## 1. Load & Clean Data"
   ]
  },
  {
   "cell_type": "code",
   "execution_count": null,
   "metadata": {},
   "outputs": [
    {
     "data": {
      "text/html": [
       "<div>\n",
       "<style scoped>\n",
       "    .dataframe tbody tr th:only-of-type {\n",
       "        vertical-align: middle;\n",
       "    }\n",
       "\n",
       "    .dataframe tbody tr th {\n",
       "        vertical-align: top;\n",
       "    }\n",
       "\n",
       "    .dataframe thead th {\n",
       "        text-align: right;\n",
       "    }\n",
       "</style>\n",
       "<table border=\"1\" class=\"dataframe\">\n",
       "  <thead>\n",
       "    <tr style=\"text-align: right;\">\n",
       "      <th></th>\n",
       "      <th>Unnamed: 0</th>\n",
       "      <th>State</th>\n",
       "      <th>District</th>\n",
       "      <th>Date</th>\n",
       "      <th>Year</th>\n",
       "      <th>Month</th>\n",
       "      <th>Avg_rainfall</th>\n",
       "      <th>Day</th>\n",
       "      <th>Weekday</th>\n",
       "    </tr>\n",
       "  </thead>\n",
       "  <tbody>\n",
       "    <tr>\n",
       "      <th>0</th>\n",
       "      <td>0</td>\n",
       "      <td>Delhi</td>\n",
       "      <td>North</td>\n",
       "      <td>2024-12-09</td>\n",
       "      <td>2024</td>\n",
       "      <td>12</td>\n",
       "      <td>0.000898</td>\n",
       "      <td>9</td>\n",
       "      <td>Monday</td>\n",
       "    </tr>\n",
       "    <tr>\n",
       "      <th>1</th>\n",
       "      <td>1</td>\n",
       "      <td>Delhi</td>\n",
       "      <td>North</td>\n",
       "      <td>2024-12-10</td>\n",
       "      <td>2024</td>\n",
       "      <td>12</td>\n",
       "      <td>0.000000</td>\n",
       "      <td>10</td>\n",
       "      <td>Tuesday</td>\n",
       "    </tr>\n",
       "    <tr>\n",
       "      <th>2</th>\n",
       "      <td>2</td>\n",
       "      <td>Delhi</td>\n",
       "      <td>North</td>\n",
       "      <td>2024-12-13</td>\n",
       "      <td>2024</td>\n",
       "      <td>12</td>\n",
       "      <td>0.000000</td>\n",
       "      <td>13</td>\n",
       "      <td>Friday</td>\n",
       "    </tr>\n",
       "    <tr>\n",
       "      <th>3</th>\n",
       "      <td>3</td>\n",
       "      <td>Delhi</td>\n",
       "      <td>North</td>\n",
       "      <td>2024-12-15</td>\n",
       "      <td>2024</td>\n",
       "      <td>12</td>\n",
       "      <td>0.000000</td>\n",
       "      <td>15</td>\n",
       "      <td>Sunday</td>\n",
       "    </tr>\n",
       "    <tr>\n",
       "      <th>4</th>\n",
       "      <td>4</td>\n",
       "      <td>Delhi</td>\n",
       "      <td>North</td>\n",
       "      <td>2024-12-19</td>\n",
       "      <td>2024</td>\n",
       "      <td>12</td>\n",
       "      <td>0.000000</td>\n",
       "      <td>19</td>\n",
       "      <td>Thursday</td>\n",
       "    </tr>\n",
       "  </tbody>\n",
       "</table>\n",
       "</div>"
      ],
      "text/plain": [
       "   Unnamed: 0  State District       Date  Year  Month  Avg_rainfall  Day  \\\n",
       "0           0  Delhi    North 2024-12-09  2024     12      0.000898    9   \n",
       "1           1  Delhi    North 2024-12-10  2024     12      0.000000   10   \n",
       "2           2  Delhi    North 2024-12-13  2024     12      0.000000   13   \n",
       "3           3  Delhi    North 2024-12-15  2024     12      0.000000   15   \n",
       "4           4  Delhi    North 2024-12-19  2024     12      0.000000   19   \n",
       "\n",
       "    Weekday  \n",
       "0    Monday  \n",
       "1   Tuesday  \n",
       "2    Friday  \n",
       "3    Sunday  \n",
       "4  Thursday  "
      ]
     },
     "execution_count": 8,
     "metadata": {},
     "output_type": "execute_result"
    }
   ],
   "source": [
    "df = load_raw(r'C:\\Users\\hp\\Documents\\ds_materials\\9.Deep_learning\\project\\Rainfall Pattern Prediction\\rainfall_prediction_project\\data\\raw\\sample_rainfall.csv')\n",
    "df = clean_dates(df)\n",
    "df.head()"
   ]
  },
  {
   "cell_type": "markdown",
   "metadata": {},
   "source": [
    "## 2. Exploratory Data Analysis (EDA)"
   ]
  },
  {
   "cell_type": "code",
   "execution_count": 9,
   "metadata": {},
   "outputs": [
    {
     "data": {
      "image/png": "[encoded data removed]",
      "text/plain": [
       "<Figure size 800x400 with 1 Axes>"
      ]
     },
     "metadata": {},
     "output_type": "display_data"
    },
    {
     "name": "stderr",
     "output_type": "stream",
     "text": [
      "C:\\Users\\hp\\AppData\\Local\\Temp\\ipykernel_15852\\1344566689.py:11: FutureWarning: \n",
      "\n",
      "Passing `palette` without assigning `hue` is deprecated and will be removed in v0.14.0. Assign the `x` variable to `hue` and set `legend=False` for the same effect.\n",
      "\n",
      "  sns.barplot(x='Month', y='Avg_rainfall', data=monthly_avg, palette='viridis')\n"
     ]
    },
    {
     "data": {
      "image/png": "[encoded data removed]",
      "text/plain": [
       "<Figure size 800x400 with 1 Axes>"
      ]
     },
     "metadata": {},
     "output_type": "display_data"
    }
   ],
   "source": [
    "# Rainfall distribution\n",
    "plt.figure(figsize=(8,4))\n",
    "sns.histplot(df['Avg_rainfall'], bins=30, kde=True, color='skyblue')\n",
    "plt.title('Rainfall Distribution')\n",
    "plt.xlabel('Avg_rainfall (mm)')\n",
    "plt.show()\n",
    "\n",
    "# Monthly rainfall trend\n",
    "monthly_avg = df.groupby('Month')['Avg_rainfall'].mean().reset_index()\n",
    "plt.figure(figsize=(8,4))\n",
    "sns.barplot(x='Month', y='Avg_rainfall', data=monthly_avg, palette='viridis')\n",
    "plt.title('Average Rainfall per Month')\n",
    "plt.show()"
   ]
  },
  {
   "cell_type": "markdown",
   "metadata": {},
   "source": [
    "## 3. Feature Engineering"
   ]
  },
  {
   "cell_type": "code",
   "execution_count": 10,
   "metadata": {},
   "outputs": [
    {
     "ename": "NameError",
     "evalue": "name 'create_time_features' is not defined",
     "output_type": "error",
     "traceback": [
      "\u001b[1;31m---------------------------------------------------------------------------\u001b[0m",
      "\u001b[1;31mNameError\u001b[0m                                 Traceback (most recent call last)",
      "Cell \u001b[1;32mIn[10], line 1\u001b[0m\n\u001b[1;32m----> 1\u001b[0m df \u001b[38;5;241m=\u001b[39m \u001b[43mcreate_time_features\u001b[49m(df)\n\u001b[0;32m      2\u001b[0m df\u001b[38;5;241m.\u001b[39mdropna(subset\u001b[38;5;241m=\u001b[39m[\u001b[38;5;124m'\u001b[39m\u001b[38;5;124mlag_1\u001b[39m\u001b[38;5;124m'\u001b[39m], inplace\u001b[38;5;241m=\u001b[39m\u001b[38;5;28;01mTrue\u001b[39;00m)\n\u001b[0;32m      3\u001b[0m df\u001b[38;5;241m.\u001b[39mhead()\n",
      "\u001b[1;31mNameError\u001b[0m: name 'create_time_features' is not defined"
     ]
    }
   ],
   "source": [
    "df = create_time_features(df)\n",
    "df.dropna(subset=['lag_1'], inplace=True)\n",
    "df.head()"
   ]
  },
  {
   "cell_type": "markdown",
   "metadata": {},
   "source": [
    "## 4. Model Training"
   ]
  },
  {
   "cell_type": "code",
   "execution_count": null,
   "metadata": {},
   "outputs": [],
   "source": [
    "# Features & target\n",
    "num_features = ['lag_1','lag_2','lag_3','roll_mean_7','Day','Month']\n",
    "cat_features = ['District']\n",
    "X = df[num_features + cat_features]\n",
    "y = df['Avg_rainfall']\n",
    "\n",
    "# Train-test split (time-based)\n",
    "split_idx = int(0.8*len(df))\n",
    "X_train, X_test = X.iloc[:split_idx], X.iloc[split_idx:]\n",
    "y_train, y_test = y.iloc[:split_idx], y.iloc[split_idx:]\n",
    "\n",
    "# Build & train model\n",
    "model = build_rf_pipeline(num_features, cat_features)\n",
    "model.fit(X_train, y_train)\n",
    "\n",
    "# Save model\n",
    "save_model(model, 'models/rf_model.joblib')"
   ]
  },
  {
   "cell_type": "markdown",
   "metadata": {},
   "source": [
    "## 5. Model Evaluation"
   ]
  },
  {
   "cell_type": "code",
   "execution_count": null,
   "metadata": {},
   "outputs": [],
   "source": [
    "y_pred = model.predict(X_test)\n",
    "print('RMSE:', rmse(y_test, y_pred))\n",
    "print('MAE:', mae(y_test, y_pred))"
   ]
  },
  {
   "cell_type": "markdown",
   "metadata": {},
   "source": [
    "## 6. 7-Day Forecast Example"
   ]
  },
  {
   "cell_type": "code",
   "execution_count": null,
   "metadata": {},
   "outputs": [],
   "source": [
    "district = 'South East'\n",
    "df_hist = df[df['District']==district].sort_values('Date')\n",
    "last_known = df_hist.iloc[-1].copy()\n",
    "forecast_dates = []\n",
    "forecast_values = []\n",
    "\n",
    "from datetime import timedelta\n",
    "start_date = last_known['Date']\n",
    "\n",
    "for i in range(7):\n",
    "    X_input = last_known[num_features + cat_features].values.reshape(1,-1)\n",
    "    val = model.predict(X_input)[0]\n",
    "    forecast_values.append(val)\n",
    "    forecast_dates.append(start_date + timedelta(days=i+1))\n",
    "    # Update lag features\n",
    "    last_known['lag_3'] = last_known['lag_2']\n",
    "    last_known['lag_2'] = last_known['lag_1']\n",
    "    last_known['lag_1'] = val\n",
    "    last_known['roll_mean_7'] = np.mean([last_known['lag_1'], last_known['lag_2'], last_known['lag_3']])\n",
    "\n",
    "# Plot forecast\n",
    "plt.figure(figsize=(10,4))\n",
    "plt.plot(forecast_dates, forecast_values, marker='o', color='blue')\n",
    "plt.title(f'7-Day Forecast for {district}')\n",
    "plt.xlabel('Date')\n",
    "plt.ylabel('Rainfall (mm)')\n",
    "plt.grid(True)\n",
    "plt.show()"
   ]
  }
 ],
 "metadata": {
  "kernelspec": {
   "display_name": "cvenv",
   "language": "python",
   "name": "python3"
  },
  "language_info": {
   "codemirror_mode": {
    "name": "ipython",
    "version": 3
   },
   "file_extension": ".py",
   "mimetype": "text/x-python",
   "name": "python",
   "nbconvert_exporter": "python",
   "pygments_lexer": "ipython3",
   "version": "3.10.18"
  }
 },
 "nbformat": 4,
 "nbformat_minor": 5
}
