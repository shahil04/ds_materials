{
 "cells": [
  {
   "cell_type": "markdown",
   "id": "505a9b2a",
   "metadata": {},
   "source": [
    "## Prepared by Sanasam Ranbir Singh"
   ]
  },
  {
   "cell_type": "markdown",
   "id": "eb8a7bee",
   "metadata": {},
   "source": [
    "# Arithmetic Operation on Tensors\n",
    "---\n",
    "Tensor can store data with wide ranges of dimensions, starting from scalar (zero dimensional data) to any dimension. Arithmetic operations like plus, minus, multiplication, division can be applied between two tensors. <b>Element-wise operations between tensors will be performed.</b><br>\n",
    "\n",
    "For example \n",
    "<div>\n",
    "<img src=\"attachment:image-12.png\" width=500 align=\"left\" />\n",
    "    </div>\n",
    "<br><br><br><br><br><br><br><br><br><br><br>\n",
    "Given two tensors $a$ and $b$, for performing an arithmetic operation, the following compatibilities are checked.\n",
    "\n",
    "> - If the shape of the respective component dimensions of the tensors are same. Then, they are compatible.\n",
    "> - For the <b>mismatched</b> component dimensions, one of them has <b>shape 1</b>, Then, they are compatible.\n",
    "> - Otherwise, they are not compatible.\n",
    "\n",
    "If the dimension and/or shapes of $a$ and $b$ are not same, but compatible. Then apply <b>Broadcast</b> over the lower dimensional tensor.\n",
    "\n",
    "### Broadcast (Stretch): Replicate the values\n",
    "\n",
    "The following example shows multiplication of a vector $a = [1,2,3]$ and scalar $b=2$.\n",
    "<div>\n",
    "<img src=\"attachment:image.png\" width=500 align=\"left\"/>\n",
    "</div>\n",
    "<br><br><br><br><br><br><br><br><br>\n",
    "<div>\n",
    "The shape of the tensor $a$ = (3), i.e., dimension=1<br>\n",
    "The shape of the tensor $b$ = (1), i.e., dimension=1. A scalar can also be consider as a vector of single element.<br>\n",
    "The Shapes are different i.e., $(3)!= (1)$, but one of the component dimension is 1. So, apply stretching the tensor with dimension 1, i.e., <b> replicate the values of the tensor till the matching shape</b> of the particular component dimension. \n",
    "\n",
    "The value of the scalar is replicated till the matching shape. <b> A scalar can always perform arthmetic operations (+,-,*,/) with a vector.</b></div>\n",
    "\n",
    "\n",
    "The following example shows the case of higher dimension.\n",
    "\n",
    "<div>\n",
    "<img src=\"attachment:image-8.png\" width=400 align=\"left\"\\>\n",
    "    </div>\n",
    "<div>\n",
    "    <img src=\"attachment:image-13.png\" width=400 align=\"left\" \\>\n",
    "</div>\n",
    "<br><br><br><br><br><br><br><br><br>\n",
    "Another Example:\n",
    "<div>\n",
    "<img src=\"attachment:image-9.png\"  width=400 align=\"left\"\\>\n",
    "     </div>\n",
    "     \n",
    "<div>\n",
    "     <img src=\"attachment:image-10.png\" width=400 align=\"left\"\\>\n",
    "    </div>\n",
    "<br><br><br><br><br><br><br><br><br>\n",
    "\n",
    "<font color=red><b>The following example are not compatitble.</b></font>\n",
    "<div>\n",
    "<img src=\"attachment:image-11.png\" width=600 align=\"left\" /></div>\n",
    "\n",
    "\n",
    "---"
   ]
  },
  {
   "cell_type": "code",
   "execution_count": 1,
   "id": "dd39029d",
   "metadata": {},
   "outputs": [],
   "source": [
    "import tensorflow as tf"
   ]
  },
  {
   "cell_type": "markdown",
   "id": "b44ce6be",
   "metadata": {},
   "source": [
    "<div class=\"alert alert-block alert-danger\">\n",
    "    <font size=5><b>Between Two Scalar Tensors</b></font>\n",
    "</div>\n",
    "The scalar tensors are always compatible."
   ]
  },
  {
   "cell_type": "code",
   "execution_count": 2,
   "id": "0ce1b2c3",
   "metadata": {},
   "outputs": [
    {
     "name": "stdout",
     "output_type": "stream",
     "text": [
      "tf.Tensor(12, shape=(), dtype=int32)\n"
     ]
    }
   ],
   "source": [
    "x = tf.constant(5)\n",
    "y = tf.constant(7)\n",
    "z = x + y\n",
    "print(z)"
   ]
  },
  {
   "cell_type": "markdown",
   "id": "b51e00a9",
   "metadata": {},
   "source": [
    "<div class=\"alert alert-block alert-danger\">\n",
    "    <font size=5><b>Between Two Vector Tensors</b></font>\n",
    "</div>\n",
    "<br>\n",
    "Given two tensors $x = [1,2,3]$ and $y = [4,5,6]$, $Shape(x)=Shape(y)=> (3)=(3)$. They are compatible.\n"
   ]
  },
  {
   "cell_type": "code",
   "execution_count": 3,
   "id": "5c64dd60",
   "metadata": {},
   "outputs": [
    {
     "name": "stdout",
     "output_type": "stream",
     "text": [
      "tf.Tensor([5 7 9], shape=(3,), dtype=int32)\n"
     ]
    }
   ],
   "source": [
    "x = tf.constant([1,2,3])\n",
    "y = tf.constant([4,5,6])\n",
    "z = x + y\n",
    "print(z)"
   ]
  },
  {
   "cell_type": "markdown",
   "id": "e7b41722",
   "metadata": {},
   "source": [
    "<div class=\"alert alert-block alert-danger\">\n",
    "    <font size=5><b>Between Two Matrix Tensors</b></font>\n",
    "</div>\n",
    "<br>\n",
    "Given the following two tensors $x$ and $y$,\n",
    "\\begin{equation}\n",
    "x=\n",
    "\\begin{pmatrix}\n",
    "  1 & 2 & 3\\\\\n",
    "  4 & 5 & 6\\\\\n",
    "\\end{pmatrix}\n",
    "\\end{equation}<br> and<br>\n",
    "\\begin{equation}\n",
    "y=\n",
    "\\begin{pmatrix}\n",
    "  7 & 8 & 9\\\\\n",
    "  10 & 11 & 12\\\\\n",
    "\\end{pmatrix}\n",
    "\\end{equation}\n",
    "\n",
    "$Shape(x)=Shape(y)=> (2,3)=(2,3)$. They are compatible."
   ]
  },
  {
   "cell_type": "code",
   "execution_count": 4,
   "id": "e81e6fcf",
   "metadata": {},
   "outputs": [
    {
     "name": "stdout",
     "output_type": "stream",
     "text": [
      "x: \n",
      "[[1 2 3]\n",
      " [4 5 6]]\n",
      "y: \n",
      "[[4 5 6]\n",
      " [7 8 9]]\n",
      "z: \n",
      "[[5 7 9]\n",
      " [11 13 15]]\n"
     ]
    }
   ],
   "source": [
    "x = tf.constant([[1,2,3],[4,5,6]])\n",
    "print(\"x: \")\n",
    "tf.print(x)\n",
    "y = tf.constant([[4,5,6],[7,8,9]])\n",
    "print(\"y: \")\n",
    "tf.print(y)\n",
    "y.numpy()\n",
    "z = x + y\n",
    "print(\"z: \")\n",
    "tf.print(z)"
   ]
  },
  {
   "cell_type": "markdown",
   "id": "132c789d",
   "metadata": {},
   "source": [
    "<div class=\"alert alert-block alert-danger\">\n",
    "    <font size=5><b>Between Sclar and Vector Tensors</b></font>\n",
    "</div>\n",
    "<br>\n",
    "Given a scalar tensor $x = 2 $ and vector tensor $y = [4,5,6]$, $Shape(x)\\neq Shape(y)=> ( )\\neq(3)$.<br>\n",
    "Since scalar can also be defined as vector of one element, broadcast can be appled. Hence, they are compatible.\n",
    "<br>\n",
    "\n",
    "<div>\n",
    "<img src=\"attachment:image.png\" width=400 align=\"left\" />\n",
    "    </div>\n"
   ]
  },
  {
   "cell_type": "code",
   "execution_count": 5,
   "id": "f72d83f0",
   "metadata": {},
   "outputs": [
    {
     "name": "stdout",
     "output_type": "stream",
     "text": [
      "[2 4 6]\n"
     ]
    }
   ],
   "source": [
    "y = tf.constant([1,2,3])\n",
    "x = tf.constant(2)\n",
    "z = y * x\n",
    "tf.print(z)"
   ]
  },
  {
   "cell_type": "markdown",
   "id": "0b7e3b3e",
   "metadata": {},
   "source": [
    "<div class=\"alert alert-block alert-danger\">\n",
    "    <font size=5><b>Between Vector and Matrix Tensors</b></font>\n",
    "</div>\n",
    "<br>\n",
    "Given a tensor $x = [1,2,3]$ and a matrix tensor\n",
    "\\begin{equation}\n",
    "y=\n",
    "\\begin{pmatrix}\n",
    "  4 \\\\\n",
    "  5 \\\\\n",
    "  6\\\\\n",
    "\\end{pmatrix}\n",
    "\\end{equation}\n",
    " $Shape(x)\\neq Shape(y)=> (3)\\neq(3\\times 1)$.<br>\n",
    "Since one of all the mismatched component dimensions is 1, broadcast can be appled. Hence, they are compatible.\n",
    "<br><br>\n",
    "<div>\n",
    "    <img src=\"attachment:image-3.png\" width=150 align=\"left\" />\n",
    "    </div>   \n",
    "<div>\n",
    "<img src=\"attachment:image.png\" width=300 align=\"left\" />\n",
    "    </div>"
   ]
  },
  {
   "cell_type": "code",
   "execution_count": 6,
   "id": "5cafffb1",
   "metadata": {},
   "outputs": [
    {
     "name": "stdout",
     "output_type": "stream",
     "text": [
      "[[5 6 7]\n",
      " [6 7 8]\n",
      " [7 8 9]]\n"
     ]
    }
   ],
   "source": [
    "x = tf.constant([1,2,3])\n",
    "y = tf.constant([[4],[5],[6]])\n",
    "z = x + y\n",
    "tf.print(z)"
   ]
  },
  {
   "cell_type": "markdown",
   "id": "215ac1de",
   "metadata": {},
   "source": [
    "## Another Example\n",
    "Given a tensor $x = [1,2,3,4]$ and a matrix tensor\n",
    "\\begin{equation}\n",
    "y=\n",
    "\\begin{pmatrix}\n",
    "  4 &6&7&8 \\\\\n",
    "  9 &10&11&12\\\\\n",
    "\\end{pmatrix}\n",
    "\\end{equation}\n",
    " $Shape(x)\\neq Shape(y)=> (3)\\neq(2\\times 3)$.<br> That means,\n",
    " <div>\n",
    "    <img src=\"attachment:image.png\" width=150 align=\"left\"/>\n",
    "    </div>\n"
   ]
  },
  {
   "cell_type": "code",
   "execution_count": 7,
   "id": "5b5b5cb8",
   "metadata": {},
   "outputs": [
    {
     "name": "stdout",
     "output_type": "stream",
     "text": [
      "[[5 8 10 12]\n",
      " [10 12 14 16]]\n"
     ]
    }
   ],
   "source": [
    "x = tf.constant([1,2,3,4])\n",
    "y = tf.constant([[4,6,7,8],[9,10,11,12]])\n",
    "z = y + x\n",
    "tf.print(z)"
   ]
  },
  {
   "cell_type": "markdown",
   "id": "c9a07459",
   "metadata": {},
   "source": [
    "<div class=\"alert alert-block alert-danger\">\n",
    "    <font size=5><b>Incompatible Example</b></font>\n",
    "</div>\n",
    "<br>\n",
    "Given  $x = [1,2,3]$ and $y = [1,2,3,4]$,\n",
    " $Shape(x)\\neq Shape(y)=> (3)\\neq(4)$.<b>Not Compatible</b> <br><br>\n",
    " \n",
    "<div>\n",
    "<img src=\"attachment:image.png\" width=250 align=\"left\" />\n",
    "</div>\n"
   ]
  },
  {
   "cell_type": "code",
   "execution_count": 8,
   "id": "6ad4b336",
   "metadata": {},
   "outputs": [
    {
     "ename": "InvalidArgumentError",
     "evalue": "{{function_node __wrapped__AddV2_device_/job:localhost/replica:0/task:0/device:CPU:0}} Incompatible shapes: [3] vs. [4] [Op:AddV2] name: ",
     "output_type": "error",
     "traceback": [
      "\u001b[1;31m---------------------------------------------------------------------------\u001b[0m",
      "\u001b[1;31mInvalidArgumentError\u001b[0m                      Traceback (most recent call last)",
      "Cell \u001b[1;32mIn[8], line 3\u001b[0m\n\u001b[0;32m      1\u001b[0m x \u001b[38;5;241m=\u001b[39m tf\u001b[38;5;241m.\u001b[39mconstant([\u001b[38;5;241m1\u001b[39m,\u001b[38;5;241m2\u001b[39m,\u001b[38;5;241m3\u001b[39m])\n\u001b[0;32m      2\u001b[0m y \u001b[38;5;241m=\u001b[39m tf\u001b[38;5;241m.\u001b[39mconstant([\u001b[38;5;241m4\u001b[39m,\u001b[38;5;241m5\u001b[39m,\u001b[38;5;241m6\u001b[39m,\u001b[38;5;241m8\u001b[39m])\n\u001b[1;32m----> 3\u001b[0m z \u001b[38;5;241m=\u001b[39m \u001b[43mx\u001b[49m\u001b[43m \u001b[49m\u001b[38;5;241;43m+\u001b[39;49m\u001b[43m \u001b[49m\u001b[43my\u001b[49m\n\u001b[0;32m      4\u001b[0m \u001b[38;5;28mprint\u001b[39m(z)\n",
      "File \u001b[1;32mc:\\Users\\hp\\.conda\\envs\\dl\\Lib\\site-packages\\tensorflow\\python\\util\\traceback_utils.py:153\u001b[0m, in \u001b[0;36mfilter_traceback.<locals>.error_handler\u001b[1;34m(*args, **kwargs)\u001b[0m\n\u001b[0;32m    151\u001b[0m \u001b[38;5;28;01mexcept\u001b[39;00m \u001b[38;5;167;01mException\u001b[39;00m \u001b[38;5;28;01mas\u001b[39;00m e:\n\u001b[0;32m    152\u001b[0m   filtered_tb \u001b[38;5;241m=\u001b[39m _process_traceback_frames(e\u001b[38;5;241m.\u001b[39m__traceback__)\n\u001b[1;32m--> 153\u001b[0m   \u001b[38;5;28;01mraise\u001b[39;00m e\u001b[38;5;241m.\u001b[39mwith_traceback(filtered_tb) \u001b[38;5;28;01mfrom\u001b[39;00m\u001b[38;5;250m \u001b[39m\u001b[38;5;28;01mNone\u001b[39;00m\n\u001b[0;32m    154\u001b[0m \u001b[38;5;28;01mfinally\u001b[39;00m:\n\u001b[0;32m    155\u001b[0m   \u001b[38;5;28;01mdel\u001b[39;00m filtered_tb\n",
      "File \u001b[1;32mc:\\Users\\hp\\.conda\\envs\\dl\\Lib\\site-packages\\tensorflow\\python\\framework\\ops.py:6002\u001b[0m, in \u001b[0;36mraise_from_not_ok_status\u001b[1;34m(e, name)\u001b[0m\n\u001b[0;32m   6000\u001b[0m \u001b[38;5;28;01mdef\u001b[39;00m\u001b[38;5;250m \u001b[39m\u001b[38;5;21mraise_from_not_ok_status\u001b[39m(e, name) \u001b[38;5;241m-\u001b[39m\u001b[38;5;241m>\u001b[39m NoReturn:\n\u001b[0;32m   6001\u001b[0m   e\u001b[38;5;241m.\u001b[39mmessage \u001b[38;5;241m+\u001b[39m\u001b[38;5;241m=\u001b[39m (\u001b[38;5;124m\"\u001b[39m\u001b[38;5;124m name: \u001b[39m\u001b[38;5;124m\"\u001b[39m \u001b[38;5;241m+\u001b[39m \u001b[38;5;28mstr\u001b[39m(name \u001b[38;5;28;01mif\u001b[39;00m name \u001b[38;5;129;01mis\u001b[39;00m \u001b[38;5;129;01mnot\u001b[39;00m \u001b[38;5;28;01mNone\u001b[39;00m \u001b[38;5;28;01melse\u001b[39;00m \u001b[38;5;124m\"\u001b[39m\u001b[38;5;124m\"\u001b[39m))\n\u001b[1;32m-> 6002\u001b[0m   \u001b[38;5;28;01mraise\u001b[39;00m core\u001b[38;5;241m.\u001b[39m_status_to_exception(e) \u001b[38;5;28;01mfrom\u001b[39;00m\u001b[38;5;250m \u001b[39m\u001b[38;5;28;01mNone\u001b[39;00m\n",
      "\u001b[1;31mInvalidArgumentError\u001b[0m: {{function_node __wrapped__AddV2_device_/job:localhost/replica:0/task:0/device:CPU:0}} Incompatible shapes: [3] vs. [4] [Op:AddV2] name: "
     ]
    }
   ],
   "source": [
    "x = tf.constant([1,2,3])\n",
    "y = tf.constant([4,5,6,8])\n",
    "z = x + y\n",
    "print(z)"
   ]
  },
  {
   "cell_type": "markdown",
   "id": "61a024ef",
   "metadata": {},
   "source": [
    "### Another example\n",
    "Given a tensor $x = [1,2,3]$ and a matrix tensor\n",
    "\\begin{equation}\n",
    "y=\n",
    "\\begin{pmatrix}\n",
    "  4 &6&7&8 \\\\\n",
    "  9 &10&11&12\\\\\n",
    "\\end{pmatrix}\n",
    "\\end{equation}\n",
    "\n",
    "<br>\n",
    " $Shape(x)\\neq Shape(y)=> (3)\\neq(2\\times 4)$. That means, <br><br>\n",
    " <div>\n",
    " <img src=\"attachment:image.png\" width=200 align=\"left\"/>\n",
    "    </div>"
   ]
  },
  {
   "cell_type": "code",
   "execution_count": 9,
   "id": "230e1392",
   "metadata": {},
   "outputs": [
    {
     "ename": "InvalidArgumentError",
     "evalue": "{{function_node __wrapped__AddV2_device_/job:localhost/replica:0/task:0/device:CPU:0}} Incompatible shapes: [3] vs. [2,4] [Op:AddV2] name: ",
     "output_type": "error",
     "traceback": [
      "\u001b[1;31m---------------------------------------------------------------------------\u001b[0m",
      "\u001b[1;31mInvalidArgumentError\u001b[0m                      Traceback (most recent call last)",
      "Cell \u001b[1;32mIn[9], line 3\u001b[0m\n\u001b[0;32m      1\u001b[0m x \u001b[38;5;241m=\u001b[39m tf\u001b[38;5;241m.\u001b[39mconstant([\u001b[38;5;241m1\u001b[39m,\u001b[38;5;241m2\u001b[39m,\u001b[38;5;241m3\u001b[39m])\n\u001b[0;32m      2\u001b[0m y \u001b[38;5;241m=\u001b[39m tf\u001b[38;5;241m.\u001b[39mconstant([[\u001b[38;5;241m4\u001b[39m,\u001b[38;5;241m5\u001b[39m,\u001b[38;5;241m6\u001b[39m,\u001b[38;5;241m8\u001b[39m],[\u001b[38;5;241m9\u001b[39m,\u001b[38;5;241m10\u001b[39m,\u001b[38;5;241m11\u001b[39m,\u001b[38;5;241m12\u001b[39m]])\n\u001b[1;32m----> 3\u001b[0m z \u001b[38;5;241m=\u001b[39m \u001b[43mx\u001b[49m\u001b[43m \u001b[49m\u001b[38;5;241;43m+\u001b[39;49m\u001b[43m \u001b[49m\u001b[43my\u001b[49m\n\u001b[0;32m      4\u001b[0m \u001b[38;5;28mprint\u001b[39m(z)\n",
      "File \u001b[1;32mc:\\Users\\hp\\.conda\\envs\\dl\\Lib\\site-packages\\tensorflow\\python\\util\\traceback_utils.py:153\u001b[0m, in \u001b[0;36mfilter_traceback.<locals>.error_handler\u001b[1;34m(*args, **kwargs)\u001b[0m\n\u001b[0;32m    151\u001b[0m \u001b[38;5;28;01mexcept\u001b[39;00m \u001b[38;5;167;01mException\u001b[39;00m \u001b[38;5;28;01mas\u001b[39;00m e:\n\u001b[0;32m    152\u001b[0m   filtered_tb \u001b[38;5;241m=\u001b[39m _process_traceback_frames(e\u001b[38;5;241m.\u001b[39m__traceback__)\n\u001b[1;32m--> 153\u001b[0m   \u001b[38;5;28;01mraise\u001b[39;00m e\u001b[38;5;241m.\u001b[39mwith_traceback(filtered_tb) \u001b[38;5;28;01mfrom\u001b[39;00m\u001b[38;5;250m \u001b[39m\u001b[38;5;28;01mNone\u001b[39;00m\n\u001b[0;32m    154\u001b[0m \u001b[38;5;28;01mfinally\u001b[39;00m:\n\u001b[0;32m    155\u001b[0m   \u001b[38;5;28;01mdel\u001b[39;00m filtered_tb\n",
      "File \u001b[1;32mc:\\Users\\hp\\.conda\\envs\\dl\\Lib\\site-packages\\tensorflow\\python\\framework\\ops.py:6002\u001b[0m, in \u001b[0;36mraise_from_not_ok_status\u001b[1;34m(e, name)\u001b[0m\n\u001b[0;32m   6000\u001b[0m \u001b[38;5;28;01mdef\u001b[39;00m\u001b[38;5;250m \u001b[39m\u001b[38;5;21mraise_from_not_ok_status\u001b[39m(e, name) \u001b[38;5;241m-\u001b[39m\u001b[38;5;241m>\u001b[39m NoReturn:\n\u001b[0;32m   6001\u001b[0m   e\u001b[38;5;241m.\u001b[39mmessage \u001b[38;5;241m+\u001b[39m\u001b[38;5;241m=\u001b[39m (\u001b[38;5;124m\"\u001b[39m\u001b[38;5;124m name: \u001b[39m\u001b[38;5;124m\"\u001b[39m \u001b[38;5;241m+\u001b[39m \u001b[38;5;28mstr\u001b[39m(name \u001b[38;5;28;01mif\u001b[39;00m name \u001b[38;5;129;01mis\u001b[39;00m \u001b[38;5;129;01mnot\u001b[39;00m \u001b[38;5;28;01mNone\u001b[39;00m \u001b[38;5;28;01melse\u001b[39;00m \u001b[38;5;124m\"\u001b[39m\u001b[38;5;124m\"\u001b[39m))\n\u001b[1;32m-> 6002\u001b[0m   \u001b[38;5;28;01mraise\u001b[39;00m core\u001b[38;5;241m.\u001b[39m_status_to_exception(e) \u001b[38;5;28;01mfrom\u001b[39;00m\u001b[38;5;250m \u001b[39m\u001b[38;5;28;01mNone\u001b[39;00m\n",
      "\u001b[1;31mInvalidArgumentError\u001b[0m: {{function_node __wrapped__AddV2_device_/job:localhost/replica:0/task:0/device:CPU:0}} Incompatible shapes: [3] vs. [2,4] [Op:AddV2] name: "
     ]
    }
   ],
   "source": [
    "x = tf.constant([1,2,3])\n",
    "y = tf.constant([[4,5,6,8],[9,10,11,12]])\n",
    "z = x + y\n",
    "print(z)"
   ]
  },
  {
   "cell_type": "markdown",
   "id": "1e2c595f",
   "metadata": {},
   "source": [
    "## Summary\n",
    "In this lesson, we have learnt \n",
    "> - Different arthmetic operations on tensors.\n",
    "> - Compatibility of two tensors for performing arithmetic operations.\n",
    "> - Broadcasting values of a tensor."
   ]
  },
  {
   "cell_type": "code",
   "execution_count": null,
   "id": "6cf929aa",
   "metadata": {},
   "outputs": [],
   "source": []
  }
 ],
 "metadata": {
  "kernelspec": {
   "display_name": "dl",
   "language": "python",
   "name": "python3"
  },
  "language_info": {
   "codemirror_mode": {
    "name": "ipython",
    "version": 3
   },
   "file_extension": ".py",
   "mimetype": "text/x-python",
   "name": "python",
   "nbconvert_exporter": "python",
   "pygments_lexer": "ipython3",
   "version": "3.12.8"
  }
 },
 "nbformat": 4,
 "nbformat_minor": 5
}
