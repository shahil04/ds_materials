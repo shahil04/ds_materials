{
 "cells": [
  {
   "cell_type": "markdown",
   "id": "82a15394",
   "metadata": {},
   "source": [
    "# Matrix Operations using Tensors"
   ]
  },
  {
   "cell_type": "code",
   "execution_count": 2,
   "id": "1d9ff0b6",
   "metadata": {},
   "outputs": [
    {
     "name": "stdout",
     "output_type": "stream",
     "text": [
      "[[3 6 9 12]\n",
      " [4 8 12 16]\n",
      " [5 10 15 20]\n",
      " [5 10 15 20]]\r\n"
     ]
    }
   ],
   "source": [
    "import tensorflow as tf\n",
    "\n",
    "A = tf.constant([[1, 2, 3, 4]])\n",
    "B = tf.constant([[3],\n",
    "                  [4],\n",
    "                  [5],\n",
    "                  [5]])\n",
    "C = tf.multiply(A, B)  # Equivalent to A*B, element wise product\n",
    "tf.print(C)"
   ]
  },
  {
   "cell_type": "code",
   "execution_count": 3,
   "id": "c3b44728",
   "metadata": {},
   "outputs": [
    {
     "name": "stdout",
     "output_type": "stream",
     "text": [
      "[[46]]\r\n"
     ]
    }
   ],
   "source": [
    "import tensorflow as tf\n",
    "\n",
    "A = tf.constant([[1, 2, 3, 4]])\n",
    "B = tf.constant([[3], [4], [5], [5]])\n",
    "C = tf.matmul(A, B)\n",
    "tf.print(C)"
   ]
  },
  {
   "cell_type": "code",
   "execution_count": 4,
   "id": "a6d5d114",
   "metadata": {},
   "outputs": [
    {
     "name": "stdout",
     "output_type": "stream",
     "text": [
      "[[5600]\n",
      " [5900]\n",
      " [10550]]\r\n"
     ]
    }
   ],
   "source": [
    "A = tf.constant([[2, 24], \n",
    "                 [2, 26], \n",
    "                 [2, 57]])\n",
    "B = tf.constant([[1000], \n",
    "                 [150]])\n",
    "C = tf.matmul(A, B)\n",
    "tf.print(C)"
   ]
  },
  {
   "cell_type": "code",
   "execution_count": 9,
   "id": "78c6d140",
   "metadata": {},
   "outputs": [
    {
     "name": "stdout",
     "output_type": "stream",
     "text": [
      "[2 4 6]\r\n"
     ]
    }
   ],
   "source": [
    "A = tf.constant([1,2,3])\n",
    "B = tf.constant([1,2,3])\n",
    "C = tf.add(A, B)  # Element wise addition.\n",
    "tf.print(C)"
   ]
  },
  {
   "cell_type": "code",
   "execution_count": 10,
   "id": "15f98207",
   "metadata": {},
   "outputs": [
    {
     "data": {
      "text/plain": [
       "<tf.Tensor: shape=(3, 2), dtype=int32, numpy=\n",
       "array([[1, 4],\n",
       "       [2, 5],\n",
       "       [3, 6]])>"
      ]
     },
     "execution_count": 10,
     "metadata": {},
     "output_type": "execute_result"
    }
   ],
   "source": [
    "x = tf.constant([[1, 2, 3], [4, 5, 6]])\n",
    "tf.transpose(x)"
   ]
  },
  {
   "cell_type": "code",
   "execution_count": null,
   "id": "2ebfac23",
   "metadata": {},
   "outputs": [],
   "source": []
  }
 ],
 "metadata": {
  "kernelspec": {
   "display_name": "Python 3 (ipykernel)",
   "language": "python",
   "name": "python3"
  },
  "language_info": {
   "codemirror_mode": {
    "name": "ipython",
    "version": 3
   },
   "file_extension": ".py",
   "mimetype": "text/x-python",
   "name": "python",
   "nbconvert_exporter": "python",
   "pygments_lexer": "ipython3",
   "version": "3.9.12"
  }
 },
 "nbformat": 4,
 "nbformat_minor": 5
}
