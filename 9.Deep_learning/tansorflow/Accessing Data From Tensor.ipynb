{
 "cells": [
  {
   "cell_type": "markdown",
   "id": "2c786811",
   "metadata": {},
   "source": [
    "# Slice"
   ]
  },
  {
   "cell_type": "code",
   "execution_count": 126,
   "id": "18f2aee1",
   "metadata": {},
   "outputs": [
    {
     "name": "stdout",
     "output_type": "stream",
     "text": [
      "tf.Tensor(\n",
      "[[[ 1.  2.  3.]\n",
      "  [ 4.  5.  6.]\n",
      "  [ 7.  8.  9.]]\n",
      "\n",
      " [[10. 11. 12.]\n",
      "  [13. 14. 15.]\n",
      "  [16. 17. 18.]]], shape=(2, 3, 3), dtype=float32)\n",
      "\n",
      "\n",
      "tf.Tensor(\n",
      "[[[ 4.  5.]\n",
      "  [ 7.  8.]]\n",
      "\n",
      " [[13. 14.]\n",
      "  [16. 17.]]], shape=(2, 2, 2), dtype=float32)\n"
     ]
    }
   ],
   "source": [
    "import tensorflow as tf\n",
    "x = tf.constant([[[1., 2., 3.], [4., 5.,6 ], [7. , 8.,9 ]],\n",
    "                 [[10., 11.,12], [13., 14., 15], [16., 17., 18]]])\n",
    "print(x)\n",
    "\n",
    "\n",
    "res = tf.slice(x, [0, 1, 0], [2, 2, 2])\n",
    "print(\"\\n\")\n",
    "print(res)"
   ]
  },
  {
   "cell_type": "markdown",
   "id": "c817481e",
   "metadata": {},
   "source": [
    "# Gather"
   ]
  },
  {
   "cell_type": "code",
   "execution_count": 99,
   "id": "537be8d5",
   "metadata": {},
   "outputs": [
    {
     "data": {
      "text/plain": [
       "<tf.Tensor: shape=(1,), dtype=int32, numpy=array([1])>"
      ]
     },
     "execution_count": 99,
     "metadata": {},
     "output_type": "execute_result"
    }
   ],
   "source": [
    "x = tf.constant([3, 5, 1, 6, 8, 7])\n",
    "tf.gather(x, [2])"
   ]
  },
  {
   "cell_type": "code",
   "execution_count": 100,
   "id": "aa60bbfe",
   "metadata": {},
   "outputs": [
    {
     "data": {
      "text/plain": [
       "<tf.Tensor: shape=(2,), dtype=int32, numpy=array([3, 6])>"
      ]
     },
     "execution_count": 100,
     "metadata": {},
     "output_type": "execute_result"
    }
   ],
   "source": [
    "x = tf.constant([3, 5, 1, 6, 8, 7])\n",
    "tf.gather(x, [0,3])"
   ]
  },
  {
   "cell_type": "code",
   "execution_count": 128,
   "id": "a854706d",
   "metadata": {},
   "outputs": [
    {
     "data": {
      "text/plain": [
       "array([[1, 3],\n",
       "       [1, 7]])"
      ]
     },
     "execution_count": 128,
     "metadata": {},
     "output_type": "execute_result"
    }
   ],
   "source": [
    "x = tf.constant([3, 5, 1, 6, 8, 7])\n",
    "tf.gather(x, [[2, 0], [2, 5]]).numpy()"
   ]
  },
  {
   "cell_type": "code",
   "execution_count": 132,
   "id": "5d2fde69",
   "metadata": {},
   "outputs": [
    {
     "name": "stdout",
     "output_type": "stream",
     "text": [
      "tf.Tensor(\n",
      "[[12.]\n",
      " [22.]\n",
      " [32.]], shape=(3, 1), dtype=float32)\n"
     ]
    }
   ],
   "source": [
    "x = tf.constant([     [10.0, 11.0, 12.0],\n",
    "                      [20.0, 21.0, 22.0],\n",
    "                      [30.0, 31.0, 32.0]])\n",
    "y = tf.gather(x, indices=[2], axis=1)\n",
    "print(y)"
   ]
  },
  {
   "cell_type": "code",
   "execution_count": 136,
   "id": "f457b383",
   "metadata": {},
   "outputs": [
    {
     "name": "stdout",
     "output_type": "stream",
     "text": [
      "tf.Tensor([[20.]], shape=(1, 1), dtype=float32)\n"
     ]
    }
   ],
   "source": [
    "x = tf.constant([     [10.0, 11.0, 12.0],\n",
    "                      [20.0, 21.0, 22.0],\n",
    "                      [30.0, 31.0, 32.0]])\n",
    "y = tf.gather(x, indices=[1])\n",
    "z = tf.gather(y, indices=[0], axis=1)\n",
    "print(z)"
   ]
  },
  {
   "cell_type": "markdown",
   "id": "b561376e",
   "metadata": {},
   "source": [
    "# Find Min/Max"
   ]
  },
  {
   "cell_type": "code",
   "execution_count": 139,
   "id": "c98b14eb",
   "metadata": {},
   "outputs": [
    {
     "data": {
      "text/plain": [
       "<tf.Tensor: shape=(), dtype=int32, numpy=1>"
      ]
     },
     "execution_count": 139,
     "metadata": {},
     "output_type": "execute_result"
    }
   ],
   "source": [
    "x = tf.constant([\n",
    "  [[1, 2], [3, 4]],\n",
    "  [[1, 2], [3, 4]]\n",
    "])\n",
    "tf.reduce_min(x)"
   ]
  },
  {
   "cell_type": "code",
   "execution_count": 146,
   "id": "a4f28ad3",
   "metadata": {},
   "outputs": [
    {
     "name": "stdout",
     "output_type": "stream",
     "text": [
      "tf.Tensor(2, shape=(), dtype=int32)\n"
     ]
    }
   ],
   "source": [
    "x = tf.constant([[9,2,10,4],\n",
    "                 [5,6,7,8]])\n",
    "print(tf.reduce_min(x))"
   ]
  },
  {
   "cell_type": "code",
   "execution_count": 147,
   "id": "8db036c9",
   "metadata": {},
   "outputs": [
    {
     "data": {
      "text/plain": [
       "<tf.Tensor: shape=(), dtype=int32, numpy=4>"
      ]
     },
     "execution_count": 147,
     "metadata": {},
     "output_type": "execute_result"
    }
   ],
   "source": [
    "x = tf.constant([\n",
    "  [[1, 2], [3, 4]],\n",
    "  [[1, 2], [3, 4]]\n",
    "])\n",
    "tf.reduce_max(x)"
   ]
  },
  {
   "cell_type": "markdown",
   "id": "374f1b67",
   "metadata": {},
   "source": [
    "## Index"
   ]
  },
  {
   "cell_type": "code",
   "execution_count": 148,
   "id": "eff0fe16",
   "metadata": {},
   "outputs": [
    {
     "name": "stdout",
     "output_type": "stream",
     "text": [
      "tf.Tensor([1 0 1 0], shape=(4,), dtype=int64)\n"
     ]
    }
   ],
   "source": [
    "x = tf.constant([[9,2,10,4],[5,6,7,8]])\n",
    "print(tf.math.argmin(x))"
   ]
  },
  {
   "cell_type": "code",
   "execution_count": 141,
   "id": "9ff18883",
   "metadata": {},
   "outputs": [
    {
     "name": "stdout",
     "output_type": "stream",
     "text": [
      "tf.Tensor([0 1 1 1 0], shape=(5,), dtype=int64)\n"
     ]
    }
   ],
   "source": [
    "x = tf.constant([[2, 20, 30, 3, 6],\n",
    "                 [3, 11, 16, 1, 8],\n",
    "                 [14, 45, 23, 5, 27]])\n",
    "print(tf.math.argmin(x))"
   ]
  },
  {
   "cell_type": "code",
   "execution_count": 145,
   "id": "9ce92262",
   "metadata": {},
   "outputs": [
    {
     "name": "stdout",
     "output_type": "stream",
     "text": [
      "tf.Tensor([0 1 0 1], shape=(4,), dtype=int64)\n"
     ]
    }
   ],
   "source": [
    "x = tf.constant([[9,2,10,4],[5,6,7,8]])\n",
    "print(tf.math.argmax(x))"
   ]
  },
  {
   "cell_type": "markdown",
   "id": "177d2786",
   "metadata": {},
   "source": [
    "## Minimum from two tensors"
   ]
  },
  {
   "cell_type": "code",
   "execution_count": 37,
   "id": "c61665df",
   "metadata": {},
   "outputs": [
    {
     "data": {
      "text/plain": [
       "<tf.Tensor: shape=(4,), dtype=float32, numpy=array([-5., -2.,  0.,  0.], dtype=float32)>"
      ]
     },
     "execution_count": 37,
     "metadata": {},
     "output_type": "execute_result"
    }
   ],
   "source": [
    "x = tf.constant([0., 0., 0., 0.])\n",
    "y = tf.constant([-5., -2., 0., 3.])\n",
    "tf.math.minimum(x, y)"
   ]
  },
  {
   "cell_type": "code",
   "execution_count": 38,
   "id": "5a0784bf",
   "metadata": {},
   "outputs": [
    {
     "data": {
      "text/plain": [
       "<tf.Tensor: shape=(4,), dtype=float32, numpy=array([0., 0., 0., 3.], dtype=float32)>"
      ]
     },
     "execution_count": 38,
     "metadata": {},
     "output_type": "execute_result"
    }
   ],
   "source": [
    "x = tf.constant([0., 0., 0., 0.])\n",
    "y = tf.constant([-5., -2., 0., 3.])\n",
    "tf.math.maximum(x, y)"
   ]
  },
  {
   "cell_type": "markdown",
   "id": "a37b83f1",
   "metadata": {},
   "source": [
    "# Concatenation"
   ]
  },
  {
   "cell_type": "code",
   "execution_count": 39,
   "id": "1490a212",
   "metadata": {},
   "outputs": [
    {
     "data": {
      "text/plain": [
       "<tf.Tensor: shape=(4, 3), dtype=int32, numpy=\n",
       "array([[ 1,  2,  3],\n",
       "       [ 4,  5,  6],\n",
       "       [ 7,  8,  9],\n",
       "       [10, 11, 12]])>"
      ]
     },
     "execution_count": 39,
     "metadata": {},
     "output_type": "execute_result"
    }
   ],
   "source": [
    "x = [[1, 2, 3], [4, 5, 6]]\n",
    "y = [[7, 8, 9], [10, 11, 12]]\n",
    "tf.concat([x, y], 0)"
   ]
  },
  {
   "cell_type": "code",
   "execution_count": 40,
   "id": "abfad6d0",
   "metadata": {},
   "outputs": [
    {
     "data": {
      "text/plain": [
       "<tf.Tensor: shape=(2, 6), dtype=int32, numpy=\n",
       "array([[ 1,  2,  3,  7,  8,  9],\n",
       "       [ 4,  5,  6, 10, 11, 12]])>"
      ]
     },
     "execution_count": 40,
     "metadata": {},
     "output_type": "execute_result"
    }
   ],
   "source": [
    "x = [[1, 2, 3], [4, 5, 6]]\n",
    "y = [[7, 8, 9], [10, 11, 12]]\n",
    "tf.concat([x, y], 1)"
   ]
  },
  {
   "cell_type": "markdown",
   "id": "fe63599c",
   "metadata": {},
   "source": [
    "# initialization"
   ]
  },
  {
   "cell_type": "code",
   "execution_count": 41,
   "id": "718e2aa6",
   "metadata": {},
   "outputs": [
    {
     "name": "stdout",
     "output_type": "stream",
     "text": [
      "tf.Tensor(\n",
      "[[0 0 0 0]\n",
      " [0 0 0 0]\n",
      " [0 0 0 0]], shape=(3, 4), dtype=int32)\n"
     ]
    }
   ],
   "source": [
    "x = tf.zeros([3, 4], tf.int32)\n",
    "print(x)"
   ]
  },
  {
   "cell_type": "code",
   "execution_count": 42,
   "id": "420c4873",
   "metadata": {},
   "outputs": [
    {
     "name": "stdout",
     "output_type": "stream",
     "text": [
      "tf.Tensor(\n",
      "[[1 1 1 1]\n",
      " [1 1 1 1]\n",
      " [1 1 1 1]], shape=(3, 4), dtype=int32)\n"
     ]
    }
   ],
   "source": [
    "x = tf.ones([3, 4], tf.int32)\n",
    "print(x)"
   ]
  },
  {
   "cell_type": "code",
   "execution_count": null,
   "id": "aef56cfc",
   "metadata": {},
   "outputs": [],
   "source": []
  },
  {
   "cell_type": "markdown",
   "id": "0f5972d2",
   "metadata": {},
   "source": [
    "# Loss Function"
   ]
  },
  {
   "cell_type": "code",
   "execution_count": 150,
   "id": "1f339d15",
   "metadata": {},
   "outputs": [
    {
     "data": {
      "text/plain": [
       "0.5"
      ]
     },
     "execution_count": 150,
     "metadata": {},
     "output_type": "execute_result"
    }
   ],
   "source": [
    "y_true = [0., 1.]\n",
    "y_pred = [1., 1.]\n",
    "# Using 'auto'/'sum_over_batch_size' reduction type.\n",
    "mse = tf.keras.losses.MeanSquaredError()\n",
    "mse(y_true, y_pred).numpy()"
   ]
  },
  {
   "cell_type": "code",
   "execution_count": 55,
   "id": "b574a72b",
   "metadata": {},
   "outputs": [
    {
     "data": {
      "text/plain": [
       "1.1769392"
      ]
     },
     "execution_count": 55,
     "metadata": {},
     "output_type": "execute_result"
    }
   ],
   "source": [
    "y_true = [[0, 1, 0], [0, 0, 1]]\n",
    "y_pred = [[0.05, 0.95, 0], [0.1, 0.8, 0.1]]\n",
    "# Using 'auto'/'sum_over_batch_size' reduction type.\n",
    "cce = tf.keras.losses.CategoricalCrossentropy()\n",
    "cce(y_true, y_pred).numpy()"
   ]
  },
  {
   "cell_type": "markdown",
   "id": "796518a5",
   "metadata": {},
   "source": [
    "# Activation Function"
   ]
  },
  {
   "cell_type": "code",
   "execution_count": 56,
   "id": "81bf8e2c",
   "metadata": {},
   "outputs": [
    {
     "data": {
      "text/plain": [
       "<tf.Tensor: shape=(3,), dtype=float32, numpy=array([0.09003057, 0.24472848, 0.66524094], dtype=float32)>"
      ]
     },
     "execution_count": 56,
     "metadata": {},
     "output_type": "execute_result"
    }
   ],
   "source": [
    "softmax = tf.nn.softmax([-1, 0., 1.])\n",
    "softmax"
   ]
  },
  {
   "cell_type": "code",
   "execution_count": 57,
   "id": "8cebb05c",
   "metadata": {},
   "outputs": [
    {
     "data": {
      "text/plain": [
       "<tf.Tensor: shape=(4,), dtype=float32, numpy=array([0.5      , 0.7310586, 1.       , 1.       ], dtype=float32)>"
      ]
     },
     "execution_count": 57,
     "metadata": {},
     "output_type": "execute_result"
    }
   ],
   "source": [
    "x = tf.constant([0.0, 1.0, 50.0, 100.0])\n",
    "tf.math.sigmoid(x)"
   ]
  },
  {
   "cell_type": "code",
   "execution_count": 58,
   "id": "c05b4c1f",
   "metadata": {},
   "outputs": [],
   "source": [
    "a = tf.constant([-3.0,-1.0, 0.0,1.0,3.0], dtype = tf.float32)\n",
    "b = tf.keras.activations.tanh(a)\n"
   ]
  },
  {
   "cell_type": "code",
   "execution_count": 59,
   "id": "52138431",
   "metadata": {},
   "outputs": [
    {
     "data": {
      "text/plain": [
       "array([2.0611537e-09, 2.6894143e-01, 5.0000000e-01, 7.3105860e-01,\n",
       "       1.0000000e+00], dtype=float32)"
      ]
     },
     "execution_count": 59,
     "metadata": {},
     "output_type": "execute_result"
    }
   ],
   "source": [
    "a = tf.constant([-20, -1.0, 0.0, 1.0, 20], dtype = tf.float32)\n",
    "b = tf.keras.activations.sigmoid(a)\n",
    "b.numpy()"
   ]
  },
  {
   "cell_type": "code",
   "execution_count": 69,
   "id": "4a4216c5",
   "metadata": {},
   "outputs": [
    {
     "name": "stdout",
     "output_type": "stream",
     "text": [
      "tf.Tensor(\n",
      "[[0.01275478 0.03467109 0.25618666 0.6963875 ]\n",
      " [0.6439142  0.2368828  0.08714432 0.0320586 ]], shape=(2, 4), dtype=float32)\n"
     ]
    }
   ],
   "source": [
    "inputs = tf.constant([[1.0,2,4,5],[5,4,3,2]])\n",
    "outputs = tf.keras.activations.softmax(inputs)\n",
    "print(outputs)"
   ]
  },
  {
   "cell_type": "code",
   "execution_count": null,
   "id": "ab2706c1",
   "metadata": {},
   "outputs": [],
   "source": []
  }
 ],
 "metadata": {
  "kernelspec": {
   "display_name": "Python 3 (ipykernel)",
   "language": "python",
   "name": "python3"
  },
  "language_info": {
   "codemirror_mode": {
    "name": "ipython",
    "version": 3
   },
   "file_extension": ".py",
   "mimetype": "text/x-python",
   "name": "python",
   "nbconvert_exporter": "python",
   "pygments_lexer": "ipython3",
   "version": "3.9.12"
  }
 },
 "nbformat": 4,
 "nbformat_minor": 5
}
