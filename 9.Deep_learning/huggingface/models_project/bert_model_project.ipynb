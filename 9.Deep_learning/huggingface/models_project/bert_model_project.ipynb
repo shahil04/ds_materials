{
 "cells": [
  {
   "cell_type": "code",
   "execution_count": null,
   "id": "d3498480",
   "metadata": {},
   "outputs": [],
   "source": [
    "# https://huggingface.co/google-bert/bert-base-uncased\n"
   ]
  }
 ],
 "metadata": {
  "language_info": {
   "name": "python"
  }
 },
 "nbformat": 4,
 "nbformat_minor": 5
}
