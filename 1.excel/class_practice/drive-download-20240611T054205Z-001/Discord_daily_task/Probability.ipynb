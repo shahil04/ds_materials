{
  "cells": [
    {
      "cell_type": "code",
      "execution_count": null,
      "metadata": {
        "colab": {},
        "colab_type": "code",
        "id": "tFQ4bdA53nVF"
      },
      "outputs": [
        {
          "ename": "",
          "evalue": "",
          "output_type": "error",
          "traceback": [
            "\u001b[1;31mThe kernel failed to start due to the missing module 'typing_extensions'. Consider installing this module.\n",
            "\u001b[1;31mClick <a href='https://aka.ms/kernelFailuresMissingModule'>here</a> for more info."
          ]
        }
      ],
      "source": []
    },
    {
      "cell_type": "markdown",
      "metadata": {
        "colab_type": "text",
        "id": "jsmjmvb8Dlu9"
      },
      "source": [
        "# Example 1:\n",
        "\n",
        "---\n",
        "\n"
      ]
    },
    {
      "cell_type": "code",
      "execution_count": null,
      "metadata": {
        "colab": {
          "base_uri": "https://localhost:8080/",
          "height": 34
        },
        "colab_type": "code",
        "id": "z7E8ErzD3nVQ",
        "outputId": "87112d28-3763-4197-a925-6664a9d86dc0"
      },
      "outputs": [],
      "source": [
        "# Sample Space\n",
        "cards = 52\n",
        "\n",
        "# Outcomes\n",
        "aces = 4\n",
        "\n",
        "\n",
        "# Divide possible outcomes by the sample set\n",
        "ace_probability = aces / cards\n",
        "\n",
        "# Print probability rounded to two decimal places\n",
        "print(\"Probability of getting aces:\", round(ace_probability, 2))"
      ]
    },
    {
      "cell_type": "markdown",
      "metadata": {
        "colab_type": "text",
        "id": "2BZQV1rQDqIK"
      },
      "source": [
        "# Example2:\n",
        "\n",
        "---\n",
        "\n"
      ]
    },
    {
      "cell_type": "code",
      "execution_count": null,
      "metadata": {
        "colab": {
          "base_uri": "https://localhost:8080/",
          "height": 34
        },
        "colab_type": "code",
        "id": "V2Z-QhdeDvu2",
        "outputId": "33a30ded-8c60-4f30-ef41-08e8c3392078"
      },
      "outputs": [],
      "source": [
        "# Sample Space\n",
        "cards = 52\n",
        "\n",
        "# Determine the probability of drawing a heart\n",
        "hearts = 13\n",
        "hearts_probability = hearts/cards\n",
        "\n",
        "print(\"Probability of getting hearts:\", round(hearts_probability,2))"
      ]
    },
    {
      "cell_type": "markdown",
      "metadata": {
        "colab_type": "text",
        "id": "Qjcd3tP4D50s"
      },
      "source": [
        "# Example3:\n",
        "\n",
        "---\n",
        "\n"
      ]
    },
    {
      "cell_type": "code",
      "execution_count": null,
      "metadata": {
        "colab": {
          "base_uri": "https://localhost:8080/",
          "height": 68
        },
        "colab_type": "code",
        "id": "T28jnb3VEMC_",
        "outputId": "5dd53c8c-7a08-4ee3-a999-4f57e66cc650"
      },
      "outputs": [],
      "source": [
        "# Create function that returns probability percent rounded to one decimal place\n",
        "def event_probability(event_outcomes, sample_space):\n",
        "    probability = (event_outcomes / sample_space) * 100\n",
        "    return round(probability, 1)\n",
        "\n",
        "# Sample Space\n",
        "cards = 52\n",
        "\n",
        "# Determine the probability of drawing a heart\n",
        "hearts = 13\n",
        "heart_probability = event_probability(hearts, cards)\n",
        "\n",
        "# Determine the probability of drawing a face card\n",
        "face_cards = 12\n",
        "face_card_probability = event_probability(face_cards, cards)\n",
        "\n",
        "# Determine the probability of drawing the queen of hearts\n",
        "ace_of_hearts = 1\n",
        "ace_of_hearts_probability = event_probability(ace_of_hearts, cards)\n",
        "\n",
        "# Print each probability\n",
        "print(str(heart_probability) + '%')\n",
        "print(str(face_card_probability) + '%')\n",
        "print(str(ace_of_hearts_probability) + '%')"
      ]
    },
    {
      "cell_type": "markdown",
      "metadata": {
        "colab_type": "text",
        "id": "G6Yh-scfEXBn"
      },
      "source": [
        "# Example4: \n",
        "\n",
        "---\n",
        "\n"
      ]
    },
    {
      "cell_type": "code",
      "execution_count": null,
      "metadata": {
        "colab": {
          "base_uri": "https://localhost:8080/",
          "height": 34
        },
        "colab_type": "code",
        "id": "alpEsvVlEfdI",
        "outputId": "66f66c7c-e237-47fe-ac4f-dd5c503a2f12"
      },
      "outputs": [],
      "source": [
        "# Sample Space\n",
        "cards = 52\n",
        "hole_cards = 2\n",
        "turn_community_cards = 4\n",
        "cards = cards - (hole_cards + turn_community_cards)\n",
        "\n",
        "# Outcomes\n",
        "diamonds = 13\n",
        "diamonds_drawn = 4\n",
        "# In poker, cards that complete a draw are known as \"outs\"\n",
        "outs = diamonds - diamonds_drawn\n",
        "\n",
        "#Determine river flush probability\n",
        "river_flush_probability = event_probability(outs, cards)\n",
        "print(river_flush_probability)"
      ]
    },
    {
      "cell_type": "markdown",
      "metadata": {},
      "source": [
        "# Now your Turn to solve questions\n",
        "\n",
        "in ... you write your logic in each questions"
      ]
    },
    {
      "cell_type": "code",
      "execution_count": null,
      "metadata": {},
      "outputs": [],
      "source": [
        "# Example 5: Probability of Rolling a Prime Number with a Six-Sided Die\n",
        "sides = 6\n",
        "prime_numbers = [2, 3, 5]\n",
        "prime_outcomes = len(prime_numbers)\n",
        "prime_probability = ...  # replace the ... with your logic code \n",
        "print(\"Probability of rolling a prime number:\", round(prime_probability, 2))\n",
        "\n",
        "# Example 6: Probability of Drawing a Red Card from a Standard Deck\n",
        "red_cards = 26\n",
        "red_card_probability =...  # replace the ... with your logic code \n",
        "print(\"Probability of drawing a red card:\", round(red_card_probability, 2))\n",
        "\n",
        "# Example 7: Probability of Drawing a Spade or a King from a Standard Deck\n",
        "spades = 13\n",
        "kings = 4\n",
        "spade_or_king_outcomes = spades + kings - 1  # Subtract one to avoid double counting the king of spades\n",
        "spade_or_king_probability = ...  # replace the ... with your logic code \n",
        "print(\"Probability of drawing a spade or a king:\", round(spade_or_king_probability, 2))\n",
        "\n",
        "# Example 8: Probability of Rolling Doubles with Two Six-Sided Dice\n",
        "doubles_outcomes = 6  # (1,1), (2,2), (3,3), (4,4), (5,5), (6,6)\n",
        "\n",
        "doubles_probability = ...  # replace the ... with your logic code \n",
        "\n",
        "print(\"Probability of rolling doubles:\", round(doubles_probability, 2))\n",
        "\n",
        "# Example 9: Probability of Drawing Two Aces from a Deck Without Replacement\n",
        "aces_left = 3  # After drawing one ace, there are only three left in the deck\n",
        "second_ace_probability = aces_left / (cards - 1)  # Total cards decrease by one after drawing the first ace\n",
        "\n",
        "two_aces_probability = ...  # replace the ... with your logic code \n",
        "\n",
        "print(\"Probability of drawing two aces without replacement:\", round(two_aces_probability, 2))\n"
      ]
    },
    {
      "cell_type": "code",
      "execution_count": null,
      "metadata": {},
      "outputs": [],
      "source": []
    },
    {
      "cell_type": "code",
      "execution_count": null,
      "metadata": {},
      "outputs": [],
      "source": []
    },
    {
      "cell_type": "code",
      "execution_count": null,
      "metadata": {},
      "outputs": [],
      "source": []
    },
    {
      "cell_type": "code",
      "execution_count": null,
      "metadata": {},
      "outputs": [],
      "source": []
    },
    {
      "cell_type": "code",
      "execution_count": null,
      "metadata": {},
      "outputs": [],
      "source": []
    },
    {
      "cell_type": "code",
      "execution_count": null,
      "metadata": {},
      "outputs": [],
      "source": []
    },
    {
      "cell_type": "markdown",
      "metadata": {},
      "source": [
        "## Solution but first solve yourself"
      ]
    },
    {
      "cell_type": "code",
      "execution_count": null,
      "metadata": {},
      "outputs": [],
      "source": [
        "# Example 5: Probability of Rolling a Prime Number with a Six-Sided Die\n",
        "sides = 6\n",
        "prime_numbers = [2, 3, 5]\n",
        "prime_outcomes = len(prime_numbers)\n",
        "prime_probability = prime_outcomes / sides\n",
        "print(\"Probability of rolling a prime number:\", round(prime_probability, 2))\n",
        "\n",
        "# Example 6: Probability of Drawing a Red Card from a Standard Deck\n",
        "red_cards = 26\n",
        "red_card_probability = red_cards / cards\n",
        "print(\"Probability of drawing a red card:\", round(red_card_probability, 2))\n",
        "\n",
        "# Example 7: Probability of Drawing a Spade or a King from a Standard Deck\n",
        "spades = 13\n",
        "kings = 4\n",
        "spade_or_king_outcomes = spades + kings - 1  # Subtract one to avoid double counting the king of spades\n",
        "spade_or_king_probability = spade_or_king_outcomes / cards\n",
        "print(\"Probability of drawing a spade or a king:\", round(spade_or_king_probability, 2))\n",
        "\n",
        "# Example 8: Probability of Rolling Doubles with Two Six-Sided Dice\n",
        "doubles_outcomes = 6  # (1,1), (2,2), (3,3), (4,4), (5,5), (6,6)\n",
        "doubles_probability = doubles_outcomes / (sides * sides)\n",
        "print(\"Probability of rolling doubles:\", round(doubles_probability, 2))\n",
        "\n",
        "# Example 9: Probability of Drawing Two Aces from a Deck Without Replacement\n",
        "aces_left = 3  # After drawing one ace, there are only three left in the deck\n",
        "second_ace_probability = aces_left / (cards - 1)  # Total cards decrease by one after drawing the first ace\n",
        "two_aces_probability = ace_probability * second_ace_probability\n",
        "print(\"Probability of drawing two aces without replacement:\", round(two_aces_probability, 2))"
      ]
    },
    {
      "cell_type": "code",
      "execution_count": null,
      "metadata": {},
      "outputs": [],
      "source": []
    }
  ],
  "metadata": {
    "colab": {
      "name": "Probability.ipynb",
      "provenance": [],
      "version": "0.3.2"
    },
    "kernelspec": {
      "display_name": "Python 3",
      "name": "python3"
    },
    "language_info": {
      "name": "python",
      "version": "3.11.5"
    }
  },
  "nbformat": 4,
  "nbformat_minor": 0
}
