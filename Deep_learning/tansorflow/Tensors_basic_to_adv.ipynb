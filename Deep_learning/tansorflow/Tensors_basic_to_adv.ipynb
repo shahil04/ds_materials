{
 "cells": [
  {
   "cell_type": "markdown",
   "id": "0e1e1b64",
   "metadata": {},
   "source": [
    "## Prepared by Sanasam Ranbir Singh"
   ]
  },
  {
   "cell_type": "markdown",
   "id": "78df7ce6",
   "metadata": {},
   "source": [
    "# How to define tensors?\n",
    "***\n",
    "<div class=\"alert alert-block alert-danger\">\n",
    "    <font size=5><b> Import TensorFlow module</b></font>\n",
    "</div>\n",
    "\n",
    "<font size=4>For using tensorflow, we would need to <b>import the tensorflow</b> module first as follows.</font>"
   ]
  },
  {
   "cell_type": "code",
   "execution_count": 1,
   "id": "10fb10fc",
   "metadata": {},
   "outputs": [
    {
     "name": "stdout",
     "output_type": "stream",
     "text": [
      "The version is 2.18.0\n"
     ]
    }
   ],
   "source": [
    "import tensorflow as tf                   # tensorflow is imported as object tf\n",
    "print(\"The version is \" + tf.__version__) # print the version. I have used 2.x"
   ]
  },
  {
   "cell_type": "markdown",
   "id": "ab29ed51",
   "metadata": {},
   "source": [
    " \n",
    " <br><br>\n",
    " \n",
    " "
   ]
  },
  {
   "cell_type": "markdown",
   "id": "cc25aea4",
   "metadata": {},
   "source": [
    "<div class=\"alert alert-block alert-danger\">\n",
    "    <font size=5><b> Types of Tensors</b></font>\n",
    "</div>"
   ]
  },
  {
   "cell_type": "markdown",
   "id": "cb459377",
   "metadata": {},
   "source": [
    "### Four Types\n",
    "> <font size=4>1. Constant</font><br>\n",
    "> <font size=4>2. Variable</font><br>\n",
    "> <font size=4>3. Placeholder</font><br>\n",
    "> <font size=4>4. SparseTensor</font>\n",
    "\n",
    "<font size=4>In today's lesson, we will define tensor using <b>constant</b> tensor type. Other types of tensors, we will discuss in the subsequent lessons.</font>\n",
    "## Constant Tensor\n",
    "___\n",
    "\n",
    "\n",
    "<font size=4>A <b>Constant</b> tensor is created using <b>tf.constant()</b> method. As the name suggest, once created, the value of constant type tensor can not be changed. </font>\n",
    "\n",
    "<font size=4><b><i>Syntex</i></b><br>\n",
    "> tf.constant ( value, dtype=None, shape=None, name='Const')</font>\n",
    "\n",
    "<font size=4><b><i>Attributes</i></b>:<br>\n",
    "> <b>value</b>: A constant value (or list) of output type dtype.<br>\n",
    "> <b>dtype</b>: The type of the elements of the resulting tensor.<br>\n",
    "> <b>shape</b>: Optional dimensions of resulting tensor.<br>\n",
    "> <b>name</b>: Optional name for the tensor.</font>\n",
    "\n",
    "<font size=4><b><i>Return</i></b><br>\n",
    "> It returns a Constant Tensor</font>\n",
    "\n",
    "\n"
   ]
  },
  {
   "cell_type": "markdown",
   "id": "a383c366",
   "metadata": {},
   "source": [
    "<div class=\"alert alert-block alert-danger\">\n",
    "    <font size=5><b>Data Types</b></font>\n",
    "</div>\n",
    "\n",
    "<div>\n",
    "<img src=\"attachment:image.png\" width=500 align=\"left\"/>\n",
    "</div>\n",
    "<br><br>"
   ]
  },
  {
   "cell_type": "markdown",
   "id": "96b9bb5d",
   "metadata": {},
   "source": [
    "<div class=\"alert alert-block alert-danger\">\n",
    "    <font size=5><b>Define a Scalar Tensor</b></font>\n",
    "</div>\n",
    "\n",
    "A scalar tensor stores a scalar value wich can be a number, a string, a boolean value.\n",
    "\n",
    "It has no direction associated with it. That means,\n",
    "- Rank (dimension) = 0 <br>\n",
    "- Shape = 0\n",
    "\n",
    "Some examples of scalar tensors are defined below."
   ]
  },
  {
   "cell_type": "code",
   "execution_count": 2,
   "id": "0e0b9c32",
   "metadata": {},
   "outputs": [
    {
     "name": "stdout",
     "output_type": "stream",
     "text": [
      "tf.Tensor(5, shape=(), dtype=int32)\n"
     ]
    }
   ],
   "source": [
    "x = tf.constant(5)  # Integer value\n",
    "print(x)"
   ]
  },
  {
   "cell_type": "code",
   "execution_count": 3,
   "id": "d2b279dc",
   "metadata": {},
   "outputs": [
    {
     "name": "stdout",
     "output_type": "stream",
     "text": [
      "tf.Tensor(5.0, shape=(), dtype=float32)\n"
     ]
    }
   ],
   "source": [
    "x = tf.constant(5.0)\n",
    "print(x)"
   ]
  },
  {
   "cell_type": "code",
   "execution_count": 4,
   "id": "58db10ac",
   "metadata": {},
   "outputs": [
    {
     "name": "stdout",
     "output_type": "stream",
     "text": [
      "tf.Tensor(b'Tensor Definition', shape=(), dtype=string)\n"
     ]
    }
   ],
   "source": [
    "x = tf.constant(\"Tensor Definition\")\n",
    "print(x)"
   ]
  },
  {
   "cell_type": "code",
   "execution_count": 5,
   "id": "bf8cdf3d",
   "metadata": {},
   "outputs": [
    {
     "name": "stdout",
     "output_type": "stream",
     "text": [
      "tf.Tensor(True, shape=(), dtype=bool)\n"
     ]
    }
   ],
   "source": [
    "x = tf.constant(True)\n",
    "print(x)"
   ]
  },
  {
   "cell_type": "markdown",
   "id": "672bc577",
   "metadata": {},
   "source": [
    "<div class=\"alert alert-block alert-danger\">\n",
    "    <font size=5><b>Vector Tensor (1 Dimensional Tensor)</b></font>\n",
    "</div>\n",
    "\n",
    "It has data with only one direction i.e., coordinate space. The following figure defines four data points in one direction, which can be realized by a vector of [1,3,6,8].<br>\n",
    "<img src=\"attachment:image-3.png\" align=\"left\"/><br><br><br>\n",
    "\n",
    "All the data points lies in a the same direction, it means,\n",
    "- Rank (dimention)= 1\n",
    "- Shape = $n$; $n$ is the number of the elements in the vector.\n",
    "\n",
    "It defines vectors such as vector of,\n",
    "> - Integers:  [1, 2, 3]\n",
    ">  - Rank=1, Shape=3\n",
    "> - Floats: [2.0, 4.0, 6.0, 8.0]\n",
    ">  - Rank=1, Shape=4\n",
    "> - String: [\"Tom\", \"John\", \"Sally\"]\n",
    ">  - Rank=1, Shape=3\n",
    "\n",
    "<font color='red'><b>1D tensor is a vector of 0D Tensors.</b></font> Few examples are defined below.\n"
   ]
  },
  {
   "cell_type": "code",
   "execution_count": 6,
   "id": "7066fcb3",
   "metadata": {},
   "outputs": [
    {
     "name": "stdout",
     "output_type": "stream",
     "text": [
      "tf.Tensor([2 4 6], shape=(3,), dtype=int32)\n"
     ]
    }
   ],
   "source": [
    "x = tf.constant([2, 4, 6])      # A Rank 1 tensor of shape 3 with integer values. \n",
    "print(x)"
   ]
  },
  {
   "cell_type": "code",
   "execution_count": 7,
   "id": "d2959963",
   "metadata": {},
   "outputs": [
    {
     "name": "stdout",
     "output_type": "stream",
     "text": [
      "tf.Tensor([2. 4. 6. 8.], shape=(4,), dtype=float32)\n"
     ]
    }
   ],
   "source": [
    "x = tf.constant([2.0, 4.0, 6.0, 8.0])   # A Rank 1 tensor of shape 4  with real values.\n",
    "print(x)"
   ]
  },
  {
   "cell_type": "code",
   "execution_count": 8,
   "id": "529c7e7e",
   "metadata": {},
   "outputs": [
    {
     "name": "stdout",
     "output_type": "stream",
     "text": [
      "tf.Tensor([b'Tom' b'John' b'Sally'], shape=(3,), dtype=string)\n"
     ]
    }
   ],
   "source": [
    "x = tf.constant([\"Tom\", \"John\", \"Sally\"])   # A Rank 1 tensor of shape 4  with string values.\n",
    "print(x)"
   ]
  },
  {
   "cell_type": "markdown",
   "id": "2e745f1c",
   "metadata": {},
   "source": [
    "<div class=\"alert alert-block alert-danger\">\n",
    "    <font size=5><b>Matrix Tensor (2 Dimensional Tensor)</b></font>\n",
    "</div>\n",
    "\n",
    "\n",
    "<b>Rank = 2, shape = ($n$,$m$); $n$ and $m$ are positive natural numbers </b>\n",
    "\n",
    "<font color='red'><b> 2D tensor is a vector of 1D tensor</b></font>"
   ]
  },
  {
   "cell_type": "code",
   "execution_count": 9,
   "id": "7046c30e",
   "metadata": {},
   "outputs": [
    {
     "name": "stdout",
     "output_type": "stream",
     "text": [
      "tf.Tensor(\n",
      "[[1 2 3 4]\n",
      " [5 6 7 8]], shape=(2, 4), dtype=int32)\n"
     ]
    }
   ],
   "source": [
    "y = tf.constant([[1, 2, 3, 4],[5,6,7,8]])\n",
    "print(y)"
   ]
  },
  {
   "cell_type": "markdown",
   "id": "7fb6e204",
   "metadata": {},
   "source": [
    "<div class=\"alert alert-block alert-danger\">\n",
    "    <font size=5><b>3 Dimensional Tensor</b></font>\n",
    "</div>\n",
    "\n",
    "\n",
    "<b>Rank = 3, shape = ($l$,$n$,$m$); $l$, $n$ and $m$ are positive natural numbers </b>\n",
    "\n",
    "<font color='red'><b> 3D tensor is a vector of 2D tensor</b></font>"
   ]
  },
  {
   "cell_type": "code",
   "execution_count": 10,
   "id": "b381c4ce",
   "metadata": {},
   "outputs": [
    {
     "name": "stdout",
     "output_type": "stream",
     "text": [
      "tf.Tensor(\n",
      "[[[1 2 3 4]\n",
      "  [5 6 7 8]]\n",
      "\n",
      " [[1 2 3 4]\n",
      "  [5 6 7 8]]\n",
      "\n",
      " [[1 2 3 4]\n",
      "  [5 6 7 8]]], shape=(3, 2, 4), dtype=int32)\n"
     ]
    }
   ],
   "source": [
    "y = tf.constant([[[1, 2, 3, 4],[5,6,7,8]],[[1, 2, 3, 4],[5,6,7,8]],[[1, 2, 3, 4],[5,6,7,8]]])\n",
    "print(y)"
   ]
  },
  {
   "cell_type": "markdown",
   "id": "cfd51c72",
   "metadata": {},
   "source": [
    "<div class=\"alert alert-block alert-danger\">\n",
    "    <font size=5><b>Generalization</b></font>\n",
    "</div>\n",
    "\n",
    "<b>We can define a tensor $x$ of dimension $k$ with the shape ($n_{k}$,$n_{k-1}$, $n_{k-2}$,$n_{k-3}$,...,$n_{1}$) </b>\n",
    "> <b>as a vector with $n_{k}$ number of $k-1$ Dimemsional tensors of shape ($n_{k-1}$, $n_{k-2}$,$n_{k-3}$,...,$n_{1}$) </b>\n",
    "\n",
    "<b>Recursively, a tensor of dimension $k-1$ shape ($n_{k-1}$, $n_{k-2}$,$n_{k-3}$,...,$n_{1}$) can be defined </b>\n",
    "> asas a vector with $n_{k-1}$ number of $k-2$ Dimemsional tensors of shape ($n_{k-2}$,$n_{k-3}$,...,$n_{1}$), and so on... </b> "
   ]
  },
  {
   "cell_type": "markdown",
   "id": "93876c24",
   "metadata": {},
   "source": [
    "<div class=\"alert alert-block alert-danger\">\n",
    "    <font size=5><b>Summary</b></font>\n",
    "</div>\n",
    "\n",
    "1. Rank/Degree of a tensor defines the number of associated dirctions or dimenssions."
   ]
  },
  {
   "cell_type": "code",
   "execution_count": 11,
   "id": "d78d7383",
   "metadata": {},
   "outputs": [
    {
     "data": {
      "text/plain": [
       "<tf.Tensor: shape=(), dtype=int32, numpy=2>"
      ]
     },
     "execution_count": 11,
     "metadata": {},
     "output_type": "execute_result"
    }
   ],
   "source": [
    "y = tf.constant([[1, 2, 3, 4],[5,6,7,8]])\n",
    "tf.rank(y)"
   ]
  },
  {
   "cell_type": "markdown",
   "id": "7ea02ae9",
   "metadata": {},
   "source": [
    "2. Shape of a tensor defines the number of element in each of the dirctions or dimenssions."
   ]
  },
  {
   "cell_type": "code",
   "execution_count": 12,
   "id": "ad792272",
   "metadata": {},
   "outputs": [
    {
     "data": {
      "text/plain": [
       "<tf.Tensor: shape=(2,), dtype=int32, numpy=array([2, 4], dtype=int32)>"
      ]
     },
     "execution_count": 12,
     "metadata": {},
     "output_type": "execute_result"
    }
   ],
   "source": [
    "y = tf.constant([[1, 2, 3, 4],[5,6,7,8]])\n",
    "tf.shape(y)"
   ]
  },
  {
   "cell_type": "markdown",
   "id": "df28548d",
   "metadata": {},
   "source": [
    "3. The value of a tensor can be printed as"
   ]
  },
  {
   "cell_type": "code",
   "execution_count": 13,
   "id": "e18b7e68",
   "metadata": {},
   "outputs": [
    {
     "name": "stdout",
     "output_type": "stream",
     "text": [
      "[[1 2 3 4]\n",
      " [5 6 7 8]]\n"
     ]
    }
   ],
   "source": [
    "y = tf.constant([[1, 2, 3, 4],[5,6,7,8]])\n",
    "tf.print(y)"
   ]
  },
  {
   "cell_type": "code",
   "execution_count": null,
   "id": "aa95ede2",
   "metadata": {},
   "outputs": [],
   "source": []
  }
 ],
 "metadata": {
  "kernelspec": {
   "display_name": "dl",
   "language": "python",
   "name": "python3"
  },
  "language_info": {
   "codemirror_mode": {
    "name": "ipython",
    "version": 3
   },
   "file_extension": ".py",
   "mimetype": "text/x-python",
   "name": "python",
   "nbconvert_exporter": "python",
   "pygments_lexer": "ipython3",
   "version": "3.12.8"
  }
 },
 "nbformat": 4,
 "nbformat_minor": 5
}
