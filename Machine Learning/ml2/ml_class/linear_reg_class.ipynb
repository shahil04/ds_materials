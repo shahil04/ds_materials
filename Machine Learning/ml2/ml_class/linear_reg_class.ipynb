{
 "cells": [
  {
   "cell_type": "markdown",
   "metadata": {},
   "source": [
    "Introduction to Regression - Marketing Analysis\n",
    "Linear Regression\n",
    "\n",
    "Lost and Cost Function (Mean Squared Error)\n",
    "\n",
    "Ordinary Least Square Technique (OLS)\n",
    "\n",
    "Regression Evaluation Metrics\n",
    "\n",
    "Assumptions of Machine Learning\n",
    "\n",
    "Polynomial Regression"
   ]
  },
  {
   "cell_type": "code",
   "execution_count": null,
   "metadata": {},
   "outputs": [],
   "source": [
    "import numpy as np\n",
    "import pandas as pd\n",
    "import matplotlib.pyplot as plt\n",
    "\n",
    "#read the data\n",
    "from sklearn.datasets import load_diabetes"
   ]
  },
  {
   "cell_type": "code",
   "execution_count": null,
   "metadata": {},
   "outputs": [],
   "source": [
    "from sklearn.model_selection import train_test_split\n",
    "# import packages \n",
    "import numpy as np \n",
    "import pandas as pd "
   ]
  },
  {
   "cell_type": "code",
   "execution_count": 1,
   "metadata": {},
   "outputs": [],
   "source": [
    "#problem statement >> To predict disease progression one year after baseine"
   ]
  },
  {
   "cell_type": "code",
   "execution_count": null,
   "metadata": {},
   "outputs": [],
   "source": [
    "#data preparation\n",
    "#divide the data into X and y"
   ]
  },
  {
   "cell_type": "code",
   "execution_count": null,
   "metadata": {},
   "outputs": [],
   "source": [
    "### Splitting the dataset to the matrices X and Y\n",
    "\n",
    "X = encoded_dataset.iloc[:, : -1].values\n",
    "Y = encoded_dataset.iloc[:, -1].values"
   ]
  },
  {
   "cell_type": "code",
   "execution_count": 2,
   "metadata": {},
   "outputs": [
    {
     "ename": "NameError",
     "evalue": "name 'X' is not defined",
     "output_type": "error",
     "traceback": [
      "\u001b[1;31m---------------------------------------------------------------------------\u001b[0m",
      "\u001b[1;31mNameError\u001b[0m                                 Traceback (most recent call last)",
      "Cell \u001b[1;32mIn[2], line 2\u001b[0m\n\u001b[0;32m      1\u001b[0m \u001b[38;5;28;01mfrom\u001b[39;00m \u001b[38;5;21;01msklearn\u001b[39;00m\u001b[38;5;21;01m.\u001b[39;00m\u001b[38;5;21;01mmodel_selection\u001b[39;00m \u001b[38;5;28;01mimport\u001b[39;00m train_test_split\n\u001b[1;32m----> 2\u001b[0m X_train, X_test, y_train, y_test \u001b[38;5;241m=\u001b[39m train_test_split(X, y, test_size \u001b[38;5;241m=\u001b[39m \u001b[38;5;241m0.20\u001b[39m, random_state \u001b[38;5;241m=\u001b[39m \u001b[38;5;241m111\u001b[39m)\n\u001b[0;32m      3\u001b[0m X_train\n",
      "\u001b[1;31mNameError\u001b[0m: name 'X' is not defined"
     ]
    }
   ],
   "source": [
    "from sklearn.model_selection import train_test_split\n",
    "X_train, X_test, y_train, y_test = train_test_split(X, y, test_size = 0.20, random_state = 111)\n",
    "X_train\n"
   ]
  },
  {
   "cell_type": "code",
   "execution_count": null,
   "metadata": {},
   "outputs": [],
   "source": [
    "y_train"
   ]
  },
  {
   "cell_type": "code",
   "execution_count": null,
   "metadata": {},
   "outputs": [],
   "source": [
    "# #scaling  optional \n",
    "# from sklearn.preprocessing import StandardScaler\n",
    "# scaler = StandardScaler()\n",
    "# #train >> fit transform\n",
    "# X_train = scaler.fit_transform(X_train)\n",
    "# X_test = scaler.transform(X_test)"
   ]
  },
  {
   "cell_type": "code",
   "execution_count": null,
   "metadata": {},
   "outputs": [],
   "source": [
    "\n",
    "#model training\n",
    "\n",
    "from sklearn.linear_model import LinearRegression\n",
    "model = LinearRegression()\n",
    "model\n",
    "model.fit(X_train, y_train)\n",
    "model.coef_ #m, beta1\n",
    "model.intercept_ #c, betanot\n",
    "y_pred = model.predict(X_test)\n",
    "X_test\n",
    "y_pred\n"
   ]
  },
  {
   "cell_type": "code",
   "execution_count": null,
   "metadata": {},
   "outputs": [],
   "source": [
    "plt.scatter(df.Weight, df.Height)"
   ]
  },
  {
   "cell_type": "code",
   "execution_count": null,
   "metadata": {},
   "outputs": [],
   "source": [
    "#visualised the result\n",
    "plt.scatter(X_test, y_test, color = 'black', label = \"Actual data\")\n",
    "plt.plot(X_test, y_pred, color = 'red', linewidth = 3, label = \"linear regression line\")\n",
    "plt.xlabel(\"BMI\")\n",
    "plt.ylabel(\"One year preogression-target\")\n",
    "plt.title(\"My first linear regression model\")\n",
    "plt.legend()\n",
    "plt.show()"
   ]
  },
  {
   "cell_type": "code",
   "execution_count": null,
   "metadata": {},
   "outputs": [],
   "source": [
    "# OLS regression\n",
    "https://www.statology.org/ols-regression-python/\n"
   ]
  },
  {
   "cell_type": "code",
   "execution_count": 3,
   "metadata": {},
   "outputs": [
    {
     "name": "stdout",
     "output_type": "stream",
     "text": [
      "    hours  score\n",
      "0       1     64\n",
      "1       2     66\n",
      "2       4     76\n",
      "3       5     73\n",
      "4       5     74\n",
      "5       6     81\n",
      "6       6     83\n",
      "7       7     82\n",
      "8       8     80\n",
      "9      10     88\n",
      "10     11     84\n",
      "11     11     82\n",
      "12     12     91\n",
      "13     12     93\n",
      "14     14     89\n",
      "                            OLS Regression Results                            \n",
      "==============================================================================\n",
      "Dep. Variable:                  score   R-squared:                       0.831\n",
      "Model:                            OLS   Adj. R-squared:                  0.818\n",
      "Method:                 Least Squares   F-statistic:                     63.91\n",
      "Date:                Sun, 06 Oct 2024   Prob (F-statistic):           2.25e-06\n",
      "Time:                        17:12:57   Log-Likelihood:                -39.594\n",
      "No. Observations:                  15   AIC:                             83.19\n",
      "Df Residuals:                      13   BIC:                             84.60\n",
      "Df Model:                           1                                         \n",
      "Covariance Type:            nonrobust                                         \n",
      "==============================================================================\n",
      "                 coef    std err          t      P>|t|      [0.025      0.975]\n",
      "------------------------------------------------------------------------------\n",
      "const         65.3340      2.106     31.023      0.000      60.784      69.884\n",
      "hours          1.9824      0.248      7.995      0.000       1.447       2.518\n",
      "==============================================================================\n",
      "Omnibus:                        4.351   Durbin-Watson:                   1.677\n",
      "Prob(Omnibus):                  0.114   Jarque-Bera (JB):                1.329\n",
      "Skew:                           0.092   Prob(JB):                        0.515\n",
      "Kurtosis:                       1.554   Cond. No.                         19.2\n",
      "==============================================================================\n",
      "\n",
      "Notes:\n",
      "[1] Standard Errors assume that the covariance matrix of the errors is correctly specified.\n"
     ]
    },
    {
     "name": "stderr",
     "output_type": "stream",
     "text": [
      "C:\\Users\\hp\\AppData\\Roaming\\Python\\Python311\\site-packages\\scipy\\stats\\_axis_nan_policy.py:418: UserWarning: `kurtosistest` p-value may be inaccurate with fewer than 20 observations; only n=15 observations were given.\n",
      "  return hypotest_fun_in(*args, **kwds)\n"
     ]
    }
   ],
   "source": [
    "import pandas as pd\n",
    "\n",
    "#create DataFrame\n",
    "df = pd.DataFrame({'hours': [1, 2, 4, 5, 5, 6, 6, 7, 8, 10, 11, 11, 12, 12, 14],\n",
    "                   'score': [64, 66, 76, 73, 74, 81, 83, 82, 80, 88, 84, 82, 91, 93, 89]})\n",
    "\n",
    "#view DataFrame\n",
    "print(df)\n",
    "\n",
    "import statsmodels.api as sm\n",
    "\n",
    "#define predictor and response variables\n",
    "y = df['score']\n",
    "x = df['hours']\n",
    "\n",
    "#add constant to predictor variables\n",
    "x = sm.add_constant(x)\n",
    "\n",
    "#fit linear regression model\n",
    "model = sm.OLS(y, x).fit()\n",
    "\n",
    "#view model summary\n",
    "print(model.summary())\n",
    "\n"
   ]
  },
  {
   "cell_type": "code",
   "execution_count": 5,
   "metadata": {},
   "outputs": [
    {
     "data": {
      "text/plain": [
       "Text(0, 0.5, 'Exam Score')"
      ]
     },
     "execution_count": 5,
     "metadata": {},
     "output_type": "execute_result"
    },
    {
     "data": {
      "image/png": "[encoded data removed]",
      "text/plain": [
       "<Figure size 640x480 with 1 Axes>"
      ]
     },
     "metadata": {},
     "output_type": "display_data"
    }
   ],
   "source": [
    "import matplotlib.pyplot as plt\n",
    "import numpy as np\n",
    "#find line of best fit\n",
    "a, b = np.polyfit(df['hours'], df['score'], 1)\n",
    "\n",
    "#add points to plot\n",
    "plt.scatter(df['hours'], df['score'], color='purple')\n",
    "\n",
    "#add line of best fit to plot\n",
    "plt.plot(df['hours'], a*df['hours']+b)\n",
    "\n",
    "#add fitted regression equation to plot\n",
    "plt.text(1, 90, 'y = ' + '{:.3f}'.format(b) + ' + {:.3f}'.format(a) + 'x', size=12)\n",
    "\n",
    "#add axis labels\n",
    "plt.xlabel('Hours Studied')\n",
    "plt.ylabel('Exam Score')"
   ]
  },
  {
   "cell_type": "markdown",
   "metadata": {},
   "source": [
    "### Matrix Evaluations"
   ]
  },
  {
   "cell_type": "code",
   "execution_count": null,
   "metadata": {},
   "outputs": [],
   "source": [
    "from sklearn.metrics import mean_squared_error, mean_absolute_error, r2_score"
   ]
  },
  {
   "cell_type": "code",
   "execution_count": null,
   "metadata": {},
   "outputs": [],
   "source": [
    "mean_squared_error(y_test, y_pred_test) #MSE\n",
    "\n",
    "mean_absolute_error(y_test, y_pred_test) # MAE\n",
    "\n",
    "\n",
    "np.sqrt(mean_squared_error(y_test, y_pred_test))  # RMSE\n",
    "\n",
    "r2_score(y_test, y_pred_test)#85% of y is explained by X, rquare 0 to 1\n",
    "\n",
    "#adj rsquare = 1-(1-rsq)*N-1/n-p-1\n",
    "score = r2_score(y_test, y_pred_test)\n",
    "score\n",
    "X_test.shape[1]\n",
    "\n",
    "1- (1-score)*(len(y_test)-1) / (len(y_test) - X_test.shape[1] - 1)"
   ]
  },
  {
   "cell_type": "markdown",
   "metadata": {},
   "source": [
    "https://www.youtube.com/watch?v=OOLhKLXCJiU\n",
    "\n",
    "004 kaggle insurance claim analysis demographics n health"
   ]
  }
 ],
 "metadata": {
  "kernelspec": {
   "display_name": "base",
   "language": "python",
   "name": "python3"
  },
  "language_info": {
   "codemirror_mode": {
    "name": "ipython",
    "version": 3
   },
   "file_extension": ".py",
   "mimetype": "text/x-python",
   "name": "python",
   "nbconvert_exporter": "python",
   "pygments_lexer": "ipython3",
   "version": "3.11.9"
  }
 },
 "nbformat": 4,
 "nbformat_minor": 2
}
