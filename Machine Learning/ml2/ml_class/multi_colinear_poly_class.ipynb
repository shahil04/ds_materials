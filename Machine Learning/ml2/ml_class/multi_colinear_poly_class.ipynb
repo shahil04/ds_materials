{
 "cells": [
  {
   "cell_type": "code",
   "execution_count": null,
   "metadata": {},
   "outputs": [],
   "source": [
    "from sklearn.datasets import fetch_california_housing\n",
    "import pandas as pd\n",
    "import numpy as np\n",
    "import matplotlib.pyplot as plt\n",
    "import seaborn as sns\n",
    "\n",
    "data = fetch_california_housing()\n",
    "df = pd.DataFrame(data.data, columns = data.feature_names)\n",
    "df['Price'] = data.target"
   ]
  },
  {
   "cell_type": "code",
   "execution_count": null,
   "metadata": {},
   "outputs": [],
   "source": [
    "#multicollinearity>> when one feature is explained by all other features\n",
    "#when two features>> correlation\n",
    "#more than two features>> vif, clustermap\n",
    "\n",
    "sns.heatmap(df.corr(), annot = True, vmin = -1, vmax = 1)\n"
   ]
  },
  {
   "cell_type": "code",
   "execution_count": null,
   "metadata": {},
   "outputs": [],
   "source": [
    "#clustermap table shows group(cluster ) relationship\n",
    "plt.figure(figsize = (5, 5))\n",
    "sns.clustermap(df.corr(), vmin = -1, vmax =1, annot = True)"
   ]
  },
  {
   "cell_type": "code",
   "execution_count": null,
   "metadata": {},
   "outputs": [],
   "source": [
    "from statsmodels.stats.outliers_influence import variance_inflation_factor\n",
    "\n",
    "vif = pd.DataFrame()\n",
    "vif['Feature'] = df.columns\n",
    "vif\n",
    "\n",
    "vif[\"VIF\"] = [variance_inflation_factor(df.values, i) for i in range(len(df.columns))]"
   ]
  },
  {
   "cell_type": "code",
   "execution_count": null,
   "metadata": {},
   "outputs": [],
   "source": [
    "df1 = df.copy()\n",
    "\n",
    "df1.drop(\"Longitude\", axis=1, inplace=True)\n",
    "df1\n",
    "vif = pd.DataFrame()\n",
    "vif['Feature'] = df1.columns\n",
    "vif[\"VIF\"] = [variance_inflation_factor(df1.values, i) for i in range(len(df1.columns))]\n",
    "\n",
    "vif"
   ]
  },
  {
   "cell_type": "code",
   "execution_count": null,
   "metadata": {},
   "outputs": [],
   "source": [
    "vif"
   ]
  },
  {
   "cell_type": "code",
   "execution_count": null,
   "metadata": {},
   "outputs": [],
   "source": [
    "df1.drop(\"AveRooms\", axis=1, inplace=True)\n",
    "vif = pd.DataFrame()\n",
    "vif['Feature'] = df1.columns\n",
    "vif[\"VIF\"] = [variance_inflation_factor(df1.values, i) for i in range(len(df1.columns))]"
   ]
  },
  {
   "cell_type": "code",
   "execution_count": null,
   "metadata": {},
   "outputs": [],
   "source": [
    "vif"
   ]
  },
  {
   "cell_type": "code",
   "execution_count": null,
   "metadata": {},
   "outputs": [],
   "source": [
    "df1.drop(\"Latitude\", axis=1, inplace=True)\n",
    "vif = pd.DataFrame()\n",
    "vif['Feature'] = df1.columns\n",
    "vif[\"VIF\"] = [variance_inflation_factor(df1.values, i) for i in range(len(df1.columns))]"
   ]
  },
  {
   "cell_type": "code",
   "execution_count": null,
   "metadata": {},
   "outputs": [],
   "source": [
    "df1.drop(\"Latitude\", axis=1, inplace=True)\n",
    "vif = pd.DataFrame()\n",
    "vif['Feature'] = df1.columns\n",
    "vif[\"VIF\"] = [variance_inflation_factor(df1.values, i) for i in range(len(df1.columns))]"
   ]
  },
  {
   "cell_type": "code",
   "execution_count": null,
   "metadata": {},
   "outputs": [],
   "source": [
    "df1\n",
    "X = df1.iloc[:, :-1]\n",
    "y = df1.iloc[:,-1]\n",
    "\n",
    "# and then train  the model\n"
   ]
  },
  {
   "cell_type": "code",
   "execution_count": null,
   "metadata": {},
   "outputs": [],
   "source": [
    "#RFE >> recruseive feature elimination\n",
    "X = df.iloc[:, :-1]\n",
    "y = df.iloc[:, -1]\n",
    "\n",
    "from sklearn.feature_selection import RFE\n",
    "\n",
    "rfe = RFE(estimator = LinearRegression(), n_features_to_select=6)\n",
    "\n",
    "rfe.fit(X, y)\n",
    "\n",
    "rfe.predict(X)\n",
    "\n",
    "rfe.support_\n",
    "\n",
    "X.columns\n",
    "\n",
    "rfe.ranking_\n"
   ]
  },
  {
   "cell_type": "markdown",
   "metadata": {},
   "source": [
    "### Multiple linear regression"
   ]
  },
  {
   "cell_type": "markdown",
   "metadata": {},
   "source": [
    "from sklearn.datasets import fetch_california_housing\n",
    "data = fetch_california_housing()\n",
    "#data\n",
    "df = pd.DataFrame(data.data, columns = data.feature_names)\n",
    "df['Price'] = data.target\n",
    "\n",
    "#data, eda prep\n",
    "df.isnull().sum()\n",
    "\n",
    "sns.heatmap(df.corr(), annot = True)\n",
    "\n",
    "X = df.drop(\"Price\", axis = 1)\n",
    "y = df['Price']"
   ]
  },
  {
   "cell_type": "code",
   "execution_count": null,
   "metadata": {},
   "outputs": [],
   "source": [
    "from sklearn.model_selection import train_test_split\n",
    "X_train, X_test, y_train, y_test = train_test_split(X, y, test_size = 0.3, random_state = 1)"
   ]
  },
  {
   "cell_type": "code",
   "execution_count": null,
   "metadata": {},
   "outputs": [],
   "source": [
    "\n",
    "from sklearn.preprocessing import StandardScaler\n",
    "scaler = StandardScaler()\n",
    "\n",
    "\n",
    "X_train = scaler.fit_transform(X_train)\n",
    "X_test = scaler.transform(X_test)\n",
    "\n"
   ]
  },
  {
   "cell_type": "code",
   "execution_count": null,
   "metadata": {},
   "outputs": [],
   "source": [
    "#model training\n",
    "from sklearn.linear_model import LinearRegression\n",
    "model = LinearRegression()\n",
    "model.fit(X_train, y_train)\n",
    "model.coef_\n",
    "\n",
    "len(model.coef_)\n",
    "\n",
    "model.intercept_\n",
    "\n",
    "y_pred = model.predict(X_test)\n",
    "\n",
    "y_pred"
   ]
  },
  {
   "cell_type": "code",
   "execution_count": null,
   "metadata": {},
   "outputs": [],
   "source": [
    "from sklearn.metrics import mean_absolute_error, mean_squared_error, r2_score\n",
    "mean_squared_error(y_test, y_pred)\n",
    "\n",
    "mean_absolute_error(y_test, y_pred)\n",
    "\n",
    "\n",
    "r2_score(y_test, y_pred)\n",
    "\n",
    "\n"
   ]
  },
  {
   "cell_type": "code",
   "execution_count": null,
   "metadata": {},
   "outputs": [],
   "source": [
    "#assumption check for regression\n",
    "plt.scatter(y_test, y_pred)\n",
    "\n",
    "error = y_test-y_pred\n",
    "sns.distplot(error)\n",
    "\n",
    "plt.scatter(y_pred, error)   # Plot the predicted values against the error homodacity\n",
    "\n",
    "sns.pairplot(df.iloc[0:10])\n",
    "\n"
   ]
  },
  {
   "cell_type": "markdown",
   "metadata": {},
   "source": [
    "## Lasso Ridge ElasticNet"
   ]
  },
  {
   "cell_type": "markdown",
   "metadata": {},
   "source": [
    "import pandas as pd\n",
    "import numpy as np\n",
    "import matplotlib.pyplot as plt\n",
    "import seaborn as sns\n",
    "\n",
    "import warnings\n",
    "warnings.filterwarnings('ignore')"
   ]
  },
  {
   "cell_type": "code",
   "execution_count": null,
   "metadata": {},
   "outputs": [],
   "source": [
    "df = sns.load_dataset('mpg')\n",
    "df.drop(\"name\", axis =1, inplace=True)\n",
    "df\n",
    "df.isna().sum()\n",
    "\n",
    "df['horsepower'].median()\n",
    "\n",
    "df['horsepower'] = df['horsepower'].fillna(df['horsepower'].median())\n",
    "\n",
    "df.info()\n",
    "\n",
    "df.origin.unique()\n",
    "\n",
    "\n",
    "df.origin.value_counts()\n",
    "\n",
    "df['origin'] = df['origin'].map({\"usa\":1, \"japan\": 2, \"europe\": 3})\n",
    "\n",
    "X = df.drop('mpg', axis =1)\n",
    "y = df['mpg']\n",
    "\n"
   ]
  },
  {
   "cell_type": "code",
   "execution_count": null,
   "metadata": {},
   "outputs": [],
   "source": [
    "from sklearn.model_selection import train_test_split\n",
    "X_train, X_test, y_train, y_test = train_test_split(X, y, test_size = 0.3, random_state=1)\n",
    "\n",
    "X_train.shape, X_test.shape\n",
    "\n",
    "from sklearn.linear_model import LinearRegression\n",
    "regression_model = LinearRegression()\n",
    "regression_model\n",
    "\n",
    "regression_model.fit(X_train, y_train)\n",
    "\n",
    "\n",
    "for i, col_name in enumerate(X_train.columns):\n",
    "    print(f\"The coefficient for {col_name} is {regression_model.coef_[i]}\")"
   ]
  },
  {
   "cell_type": "code",
   "execution_count": null,
   "metadata": {},
   "outputs": [],
   "source": [
    "from sklearn.metrics import r2_score\n",
    "y_pred_linear = regression_model.predict(X_test)\n",
    "r2_score(y_test, y_pred_linear)"
   ]
  },
  {
   "cell_type": "code",
   "execution_count": null,
   "metadata": {},
   "outputs": [],
   "source": [
    "#ridge regression\n",
    "\n",
    "from sklearn.linear_model import Ridge\n",
    "ridge_regression_model = Ridge(alpha=100)\n",
    "ridge_regression_model.fit(X_train, y_train)\n",
    "for i, col_name in enumerate(X_train.columns):\n",
    "    print(f\"The coefficient for {col_name} is {ridge_regression_model.coef_[i]}\")"
   ]
  },
  {
   "cell_type": "code",
   "execution_count": null,
   "metadata": {},
   "outputs": [],
   "source": [
    "from sklearn.metrics import r2_score\n",
    "y_pred = ridge_regression_model.predict(X_test)\n",
    "r2_score(y_test, y_pred)"
   ]
  },
  {
   "cell_type": "code",
   "execution_count": null,
   "metadata": {},
   "outputs": [],
   "source": [
    "#lasso regression\n",
    "\n",
    "from sklearn.linear_model import Lasso\n",
    "lasso_regression_model = Lasso(alpha=0.5)\n",
    "lasso_regression_model.fit(X_train, y_train)\n",
    "for i, col_name in enumerate(X_train.columns):\n",
    "    print(f\"The coefficient for {col_name} is {lasso_regression_model.coef_[i]}\")"
   ]
  },
  {
   "cell_type": "code",
   "execution_count": null,
   "metadata": {},
   "outputs": [],
   "source": [
    "from sklearn.metrics import r2_score\n",
    "y_pred = lasso_regression_model.predict(X_test)\n",
    "r2_score(y_test, y_pred)"
   ]
  },
  {
   "cell_type": "code",
   "execution_count": null,
   "metadata": {},
   "outputs": [],
   "source": [
    "from sklearn.linear_model import ElasticNet"
   ]
  },
  {
   "cell_type": "code",
   "execution_count": null,
   "metadata": {},
   "outputs": [],
   "source": [
    "elastic_regression_model = ElasticNet(alpha=0.8, l1_ratio=0.4)\n",
    "elastic_regression_model.fit(X_train, y_train)\n",
    "for i, col_name in enumerate(X_train.columns):\n",
    "    print(f\"The coefficient for {col_name} is {elastic_regression_model.coef_[i]}\")"
   ]
  },
  {
   "cell_type": "code",
   "execution_count": null,
   "metadata": {},
   "outputs": [],
   "source": [
    "from sklearn.metrics import r2_score\n",
    "y_pred = elastic_regression_model.predict(X_test)\n",
    "r2_score(y_test, y_pred)"
   ]
  },
  {
   "cell_type": "markdown",
   "metadata": {},
   "source": [
    "# # Crossvalidation"
   ]
  },
  {
   "cell_type": "code",
   "execution_count": null,
   "metadata": {},
   "outputs": [],
   "source": [
    "from sklearn.linear_model import LassoCV\n",
    "lassocv = LassoCV(cv = 5)\n",
    "lassocv.fit(X_train, y_train)\n",
    "y_pred = lassocv.predict(X_test)\n",
    "r2_score(y_test, y_pred)"
   ]
  },
  {
   "cell_type": "code",
   "execution_count": null,
   "metadata": {},
   "outputs": [],
   "source": [
    "# # bias variance code\n",
    "# https://spotintelligence.com/2023/04/11/bias-variance-trade-off/\n",
    "# https://www.superannotate.com/blog/overfitting-and-underfitting-in-machine-learning\n"
   ]
  },
  {
   "cell_type": "markdown",
   "metadata": {},
   "source": []
  }
 ],
 "metadata": {
  "language_info": {
   "name": "python"
  }
 },
 "nbformat": 4,
 "nbformat_minor": 2
}
