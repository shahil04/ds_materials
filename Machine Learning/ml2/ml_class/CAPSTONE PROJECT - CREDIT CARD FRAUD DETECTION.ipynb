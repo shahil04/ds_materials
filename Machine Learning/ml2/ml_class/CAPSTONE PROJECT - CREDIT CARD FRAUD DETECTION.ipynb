{
 "cells": [
  {
   "cell_type": "markdown",
   "metadata": {},
   "source": [
    "CAPSTONE PROJECT - CREDIT CARD FRAUD DETECTION"
   ]
  },
  {
   "cell_type": "markdown",
   "metadata": {},
   "source": [
    "\n",
    "CAPSTONE PROJECT - CREDIT CARD FRAUD DETECTION\n",
    "https://www.kaggle.com/datasets/mlg-ulb/creditcardfraud/discussion/277570\n",
    "https://data-flair.training/blogs/credit-card-fraud-detection-python-machine-learning/"
   ]
  },
  {
   "cell_type": "code",
   "execution_count": null,
   "metadata": {},
   "outputs": [],
   "source": [
    "https://fraud-detection-handbook.github.io/fraud-detection-handbook/Chapter_3_GettingStarted/SimulatedDataset.html"
   ]
  }
 ],
 "metadata": {
  "language_info": {
   "name": "python"
  }
 },
 "nbformat": 4,
 "nbformat_minor": 2
}
