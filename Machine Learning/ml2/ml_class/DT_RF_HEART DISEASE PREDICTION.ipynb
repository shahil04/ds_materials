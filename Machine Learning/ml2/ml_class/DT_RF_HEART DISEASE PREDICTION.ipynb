{
 "cells": [
  {
   "cell_type": "markdown",
   "metadata": {},
   "source": [
    "Decision Tree and Random Forest - HEART DISEASE PREDICTION   Aug 22, 2024\n",
    "Introduction to Decision Tree\n",
    "\n",
    "Gini Index and Entropy\n",
    "\n",
    "Advantage and Disadvantage\n",
    "\n",
    "Pruning Techniques\n",
    "\n",
    "Decision Tree for Regression\n",
    "\n",
    "Introduction to Random Forest\n",
    "\n",
    "\n",
    "\n",
    "\n",
    "Decision Tree and Random Forest - HEART DISEASE PREDICTION\n",
    "https://www.kaggle.com/code/nayeem091/a-guide-to-any-classification-problem\n",
    "Introduction to Decision Tree\n",
    "https://www.kaggle.com/code/prashant111/decision-tree-classifier-tutorial\n",
    "Gini Index and Entropy\n",
    "\n",
    "Advantage and Disadvantage\n",
    "\n",
    "Pruning Techniques\n",
    "\n",
    "Decision Tree for Regression\n",
    "\n",
    "Introduction to Random Forest\n",
    "https://www.kaggle.com/code/prashant111/random-forest-classifier-tutorial\n"
   ]
  },
  {
   "cell_type": "code",
   "execution_count": null,
   "metadata": {},
   "outputs": [],
   "source": [
    "https://www.kaggle.com/code/caesarmario/listen-to-your-heart-a-disease-prediction"
   ]
  },
  {
   "cell_type": "markdown",
   "metadata": {},
   "source": [
    " Unsupervised learning problems can be further grouped into clustering and association problems.\n",
    "\n",
    "Clustering: A clustering problem is where you want to discover the inherent groupings in the data, such as grouping customers by purchasing behaviour.\n",
    "\n",
    "Association: An association rule learning problem is where you want to discover rules that describe large portions of your data, such as people that buy X also tend to buy Y.\n",
    "\n",
    "Application of Unsupervised Machine Learning\n",
    "1. Human Behaviour Analysis\n",
    "\n",
    "2. Social Network Analysis to define groups of friends.\n",
    "\n",
    "3. Market Segmentation of companies by location, industry, vertical.\n",
    "\n",
    "4. Organizing computing clusters based on similar event patterns and processes\n",
    "\n",
    "Algorithm for Unsupervised Machine Learning:\n",
    "K-means Algorithm\n",
    "2. Apriori Algorithm\n",
    "3. Expectation–maximization algorithm (EM)\n",
    "4. Principal Component Analysis (PCA)"
   ]
  },
  {
   "cell_type": "code",
   "execution_count": null,
   "metadata": {},
   "outputs": [],
   "source": []
  }
 ],
 "metadata": {
  "language_info": {
   "name": "python"
  }
 },
 "nbformat": 4,
 "nbformat_minor": 2
}
