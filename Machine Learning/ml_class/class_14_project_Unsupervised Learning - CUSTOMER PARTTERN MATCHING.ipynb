{
 "cells": [
  {
   "cell_type": "markdown",
   "metadata": {},
   "source": [
    "Unsupervised Learning - CUSTOMER PARTTERN MATCHING   Aug 13, 2024\n",
    "Introduction to Clustering\n",
    "\n",
    "K-Means Clustering\n",
    "\n",
    "Principal Component Analysis\n",
    "\n",
    "\n",
    "\n",
    "\n",
    " Unsupervised Learning - CUSTOMER PARTTERN MATCHING\n",
    "https://www.youtube.com/watch?v=afPJeQuVeuY \n",
    "Understand Customers with KMeans Clustering in Python\n",
    "Introduction to Clustering\n",
    "https://www.datacamp.com/blog/introduction-to-unsupervised-learning\n",
    "K-Means Clustering\n",
    "\n",
    "Principal Component Analysis\n",
    "\n",
    "Assignment\n",
    "https://youtu.be/JtgSrB5J0_w?si=1mnGkPv50hfyBtLn"
   ]
  },
  {
   "cell_type": "markdown",
   "metadata": {},
   "source": [
    "####  Online Retail Data Clustering Project\n",
    "\n",
    "- https://github.com/trentpark8800/online-retail-data-clustering\n",
    "    - https://github.com/trentpark8800/online-retail-data-clustering/blob/main/online-retail-data-clustering.ipynb\n",
    "    - https://www.youtube.com/watch?v=afPJeQuVeuY \n",
    "    - https://archive.ics.uci.edu/dataset/502/online+retail+ii datasets"
   ]
  },
  {
   "cell_type": "code",
   "execution_count": null,
   "metadata": {
    "vscode": {
     "languageId": "plaintext"
    }
   },
   "outputs": [],
   "source": []
  },
  {
   "cell_type": "markdown",
   "metadata": {},
   "source": [
    "https://www.kaggle.com/datasets/vjchoudhary7/customer-segmentation-tutorial-in-python\n",
    "\n",
    "https://drive.google.com/file/d/17i0c6SmncNuwSgr9W1MRRk3YYdEOP9Gd/view\n",
    "\n",
    "https://colab.research.google.com/drive/1izGP15oreJ9zFZ4qi8jz9jaK3nuhb8a2?usp=sharing#scrollTo=gTSFo2LiLIav\n",
    "\n"
   ]
  }
 ],
 "metadata": {
  "language_info": {
   "name": "python"
  }
 },
 "nbformat": 4,
 "nbformat_minor": 2
}
