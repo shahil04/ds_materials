{
 "cells": [
  {
   "cell_type": "markdown",
   "metadata": {},
   "source": [
    "###  Unsupervise Learning \n",
    "\n",
    "https://www.javatpoint.com/unsupervised-machine-learning\n",
    "\n",
    "\n",
    "https://www.analyticsvidhya.com/blog/2018/05/essentials-of-deep-learning-trudging-into-unsupervised-deep-learning/\n",
    "\n"
   ]
  },
  {
   "cell_type": "markdown",
   "metadata": {},
   "source": [
    "Understanding Unsupervised Machine Learning\n",
    "Resources to be used in this course.\n",
    "Setting the Context\n",
    "Choosing Clustering Algorithms\n",
    "Solving our Problem using k-means - Part 1\n",
    "Solving our Problem using k-means - Part 2\n",
    "Finding optimal K value\n",
    "Analysis and Insights Based on the Plots\n",
    "Introduction to Hierarchical Clustering Analysis (HCA)\n",
    "Solving our Problem using Hierarchical Clustering\n",
    "Introduction to DBSCAN Clustering\n",
    "Solving our Problem using DBSCAN\n",
    "Reading: Applications of Clustering in the Real World\n",
    "Project\n",
    "\n",
    "https://courses.analyticsvidhya.com/courses/free-unsupervised-ml-guide"
   ]
  },
  {
   "cell_type": "markdown",
   "metadata": {},
   "source": [
    "A Guide to Unsupervised Learning Techniques\n",
    "One branch of machine learning calling a lot of attention recently is unsupervised learning, where computers can come to their own conclusions about the meaning in disorganized data. In contrast to supervised learning, in which the algorithm is taught by labeled data, unsupervised loading works directly on raw and non-labeled information. This method is especially useful when all one has to work on are raw data about which there are no predetermined categories or descriptions available, and in such cases the algorithm can find its own patterns.\n",
    "\n",
    "Key Aspects of Unsupervised Learning:\n",
    "\n",
    "1. Clustering:\n",
    "On the other hand, unsupervised learning is particularly suited to clustering together similar data points. These techniques group the data into clusters, allowing one to pinpoint natural divisions in a given set. Some of the more popular clustering techniques are k-means, hierarchical clustering and DBSCAN.\n",
    "\n",
    "2. Dimensionality Reduction:\n",
    "In fact, dimen-sion reduction is one function of unsupervised learning. Methods including Principal Components Analysis (PCA) and t-distributed Stochastic Neighbor Embedding (t-SNE), however, condense original information without losing important features, making visualization easier and also improving model performance.\n",
    "\n",
    "3. Anomaly Detection:\n",
    "Another important task of unsupervised learning is to identify outliers. This means the patterns within normal data, and identifying abnormal cases. Algorithms have uses in all areas from financial fraud detection to diagnostic testing of industrial processes.\n",
    "\n",
    "4. Association Rule Learning:\n",
    "Association rule learning uses unsupervised pattern analysis to search for interesting relationships in the data. For example, the Apriori and Eclat algorithms can discover correlations such as “ if A then B ” to enable companies to improve recommendations on products or know how customers are using their services.\n",
    "\n",
    "5. Generative Models:\n",
    "Generative models are unsupervised learning methods that create new samples of data drawn from the training distribution. Substantial examples include Variational Autoencoders (VAEs) and Generative Adversarial Networks (GANs), used in image generation, style transfer, etc.\n",
    "\n",
    "The ability of unsupervised learning to glean substantive understanding from data that has not been labeled makes it an ideal tool for exploration, pattern recognition and discovery in a wide range of areas. The potential for unsupervised learning is slated to grow, as technology lets us begin really delving into the true power of artificial intelligence."
   ]
  },
  {
   "cell_type": "markdown",
   "metadata": {},
   "source": [
    "https://www.kaggle.com/code/frankmollard/a-story-about-unsupervised-learning"
   ]
  },
  {
   "cell_type": "markdown",
   "metadata": {},
   "source": []
  }
 ],
 "metadata": {
  "language_info": {
   "name": "python"
  }
 },
 "nbformat": 4,
 "nbformat_minor": 2
}
