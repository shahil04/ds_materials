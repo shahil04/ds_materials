{
 "cells": [
  {
   "cell_type": "markdown",
   "metadata": {},
   "source": [
    "1. data ingestion \n",
    "2. data  processing \n",
    "    - check null\n",
    "    - check duplicate value\n",
    "    - check data type\n",
    "    - drop unwanted data\n",
    "    - fill null value\n",
    "    - data normalization/scaling (transform data)\n",
    "    - create new data\n",
    "    - check outliers\n",
    "3.  data analysis \n",
    "- descriptive statistics\n",
    "    - univariante\n",
    "    - \n",
    "- correlation analysis\n",
    "    - bivariant \n",
    "    - multivariant\n",
    "\n"
   ]
  },
  {
   "cell_type": "code",
   "execution_count": 1,
   "metadata": {},
   "outputs": [],
   "source": [
    "import numpy as np \n",
    "import pandas as pd \n",
    "import matplotlib.pyplot as plt\n",
    "import seaborn as sns"
   ]
  },
  {
   "cell_type": "code",
   "execution_count": 2,
   "metadata": {},
   "outputs": [],
   "source": [
    "# load data\n",
    "df =pd.read_csv(\"Car_sales.csv\")"
   ]
  },
  {
   "cell_type": "code",
   "execution_count": 3,
   "metadata": {},
   "outputs": [
    {
     "data": {
      "text/html": [
       "<div>\n",
       "<style scoped>\n",
       "    .dataframe tbody tr th:only-of-type {\n",
       "        vertical-align: middle;\n",
       "    }\n",
       "\n",
       "    .dataframe tbody tr th {\n",
       "        vertical-align: top;\n",
       "    }\n",
       "\n",
       "    .dataframe thead th {\n",
       "        text-align: right;\n",
       "    }\n",
       "</style>\n",
       "<table border=\"1\" class=\"dataframe\">\n",
       "  <thead>\n",
       "    <tr style=\"text-align: right;\">\n",
       "      <th></th>\n",
       "      <th>Manufacturer</th>\n",
       "      <th>Model</th>\n",
       "      <th>Sales_in_thousands</th>\n",
       "      <th>__year_resale_value</th>\n",
       "      <th>Vehicle_type</th>\n",
       "      <th>Price_in_thousands</th>\n",
       "      <th>Engine_size</th>\n",
       "      <th>Horsepower</th>\n",
       "      <th>Wheelbase</th>\n",
       "      <th>Width</th>\n",
       "      <th>Length</th>\n",
       "      <th>Curb_weight</th>\n",
       "      <th>Fuel_capacity</th>\n",
       "      <th>Fuel_efficiency</th>\n",
       "      <th>Latest_Launch</th>\n",
       "      <th>Power_perf_factor</th>\n",
       "    </tr>\n",
       "  </thead>\n",
       "  <tbody>\n",
       "    <tr>\n",
       "      <th>0</th>\n",
       "      <td>Acura</td>\n",
       "      <td>Integra</td>\n",
       "      <td>16.919</td>\n",
       "      <td>16.360</td>\n",
       "      <td>Passenger</td>\n",
       "      <td>21.50</td>\n",
       "      <td>1.8</td>\n",
       "      <td>140.0</td>\n",
       "      <td>101.2</td>\n",
       "      <td>67.3</td>\n",
       "      <td>172.4</td>\n",
       "      <td>2.639</td>\n",
       "      <td>13.2</td>\n",
       "      <td>28.0</td>\n",
       "      <td>2/2/2012</td>\n",
       "      <td>58.280150</td>\n",
       "    </tr>\n",
       "    <tr>\n",
       "      <th>1</th>\n",
       "      <td>Acura</td>\n",
       "      <td>TL</td>\n",
       "      <td>39.384</td>\n",
       "      <td>19.875</td>\n",
       "      <td>Passenger</td>\n",
       "      <td>28.40</td>\n",
       "      <td>3.2</td>\n",
       "      <td>225.0</td>\n",
       "      <td>108.1</td>\n",
       "      <td>70.3</td>\n",
       "      <td>192.9</td>\n",
       "      <td>3.517</td>\n",
       "      <td>17.2</td>\n",
       "      <td>25.0</td>\n",
       "      <td>6/3/2011</td>\n",
       "      <td>91.370778</td>\n",
       "    </tr>\n",
       "    <tr>\n",
       "      <th>2</th>\n",
       "      <td>Acura</td>\n",
       "      <td>CL</td>\n",
       "      <td>14.114</td>\n",
       "      <td>18.225</td>\n",
       "      <td>Passenger</td>\n",
       "      <td>NaN</td>\n",
       "      <td>3.2</td>\n",
       "      <td>225.0</td>\n",
       "      <td>106.9</td>\n",
       "      <td>70.6</td>\n",
       "      <td>192.0</td>\n",
       "      <td>3.470</td>\n",
       "      <td>17.2</td>\n",
       "      <td>26.0</td>\n",
       "      <td>1/4/2012</td>\n",
       "      <td>NaN</td>\n",
       "    </tr>\n",
       "    <tr>\n",
       "      <th>3</th>\n",
       "      <td>Acura</td>\n",
       "      <td>RL</td>\n",
       "      <td>8.588</td>\n",
       "      <td>29.725</td>\n",
       "      <td>Passenger</td>\n",
       "      <td>42.00</td>\n",
       "      <td>3.5</td>\n",
       "      <td>210.0</td>\n",
       "      <td>114.6</td>\n",
       "      <td>71.4</td>\n",
       "      <td>196.6</td>\n",
       "      <td>3.850</td>\n",
       "      <td>18.0</td>\n",
       "      <td>22.0</td>\n",
       "      <td>3/10/2011</td>\n",
       "      <td>91.389779</td>\n",
       "    </tr>\n",
       "    <tr>\n",
       "      <th>4</th>\n",
       "      <td>Audi</td>\n",
       "      <td>A4</td>\n",
       "      <td>20.397</td>\n",
       "      <td>22.255</td>\n",
       "      <td>Passenger</td>\n",
       "      <td>23.99</td>\n",
       "      <td>1.8</td>\n",
       "      <td>150.0</td>\n",
       "      <td>102.6</td>\n",
       "      <td>68.2</td>\n",
       "      <td>178.0</td>\n",
       "      <td>2.998</td>\n",
       "      <td>16.4</td>\n",
       "      <td>27.0</td>\n",
       "      <td>10/8/2011</td>\n",
       "      <td>62.777639</td>\n",
       "    </tr>\n",
       "  </tbody>\n",
       "</table>\n",
       "</div>"
      ],
      "text/plain": [
       "  Manufacturer    Model  Sales_in_thousands  __year_resale_value Vehicle_type  \\\n",
       "0        Acura  Integra              16.919               16.360    Passenger   \n",
       "1        Acura       TL              39.384               19.875    Passenger   \n",
       "2        Acura       CL              14.114               18.225    Passenger   \n",
       "3        Acura       RL               8.588               29.725    Passenger   \n",
       "4         Audi       A4              20.397               22.255    Passenger   \n",
       "\n",
       "   Price_in_thousands  Engine_size  Horsepower  Wheelbase  Width  Length  \\\n",
       "0               21.50          1.8       140.0      101.2   67.3   172.4   \n",
       "1               28.40          3.2       225.0      108.1   70.3   192.9   \n",
       "2                 NaN          3.2       225.0      106.9   70.6   192.0   \n",
       "3               42.00          3.5       210.0      114.6   71.4   196.6   \n",
       "4               23.99          1.8       150.0      102.6   68.2   178.0   \n",
       "\n",
       "   Curb_weight  Fuel_capacity  Fuel_efficiency Latest_Launch  \\\n",
       "0        2.639           13.2             28.0      2/2/2012   \n",
       "1        3.517           17.2             25.0      6/3/2011   \n",
       "2        3.470           17.2             26.0      1/4/2012   \n",
       "3        3.850           18.0             22.0     3/10/2011   \n",
       "4        2.998           16.4             27.0     10/8/2011   \n",
       "\n",
       "   Power_perf_factor  \n",
       "0          58.280150  \n",
       "1          91.370778  \n",
       "2                NaN  \n",
       "3          91.389779  \n",
       "4          62.777639  "
      ]
     },
     "execution_count": 3,
     "metadata": {},
     "output_type": "execute_result"
    }
   ],
   "source": [
    "### Shape of the dataset\n",
    "df.head()"
   ]
  },
  {
   "cell_type": "code",
   "execution_count": 4,
   "metadata": {},
   "outputs": [
    {
     "name": "stdout",
     "output_type": "stream",
     "text": [
      "<class 'pandas.core.frame.DataFrame'>\n",
      "RangeIndex: 157 entries, 0 to 156\n",
      "Data columns (total 16 columns):\n",
      " #   Column               Non-Null Count  Dtype  \n",
      "---  ------               --------------  -----  \n",
      " 0   Manufacturer         157 non-null    object \n",
      " 1   Model                157 non-null    object \n",
      " 2   Sales_in_thousands   157 non-null    float64\n",
      " 3   __year_resale_value  121 non-null    float64\n",
      " 4   Vehicle_type         157 non-null    object \n",
      " 5   Price_in_thousands   155 non-null    float64\n",
      " 6   Engine_size          156 non-null    float64\n",
      " 7   Horsepower           156 non-null    float64\n",
      " 8   Wheelbase            156 non-null    float64\n",
      " 9   Width                156 non-null    float64\n",
      " 10  Length               156 non-null    float64\n",
      " 11  Curb_weight          155 non-null    float64\n",
      " 12  Fuel_capacity        156 non-null    float64\n",
      " 13  Fuel_efficiency      154 non-null    float64\n",
      " 14  Latest_Launch        157 non-null    object \n",
      " 15  Power_perf_factor    155 non-null    float64\n",
      "dtypes: float64(12), object(4)\n",
      "memory usage: 19.8+ KB\n"
     ]
    }
   ],
   "source": [
    "df.info()"
   ]
  },
  {
   "cell_type": "code",
   "execution_count": 5,
   "metadata": {},
   "outputs": [
    {
     "data": {
      "text/plain": [
       "(157, 16)"
      ]
     },
     "execution_count": 5,
     "metadata": {},
     "output_type": "execute_result"
    }
   ],
   "source": [
    "# no rows, cols \n",
    "df.shape"
   ]
  },
  {
   "cell_type": "code",
   "execution_count": 6,
   "metadata": {},
   "outputs": [
    {
     "data": {
      "text/plain": [
       "Manufacturer            object\n",
       "Model                   object\n",
       "Sales_in_thousands     float64\n",
       "__year_resale_value    float64\n",
       "Vehicle_type            object\n",
       "Price_in_thousands     float64\n",
       "Engine_size            float64\n",
       "Horsepower             float64\n",
       "Wheelbase              float64\n",
       "Width                  float64\n",
       "Length                 float64\n",
       "Curb_weight            float64\n",
       "Fuel_capacity          float64\n",
       "Fuel_efficiency        float64\n",
       "Latest_Launch           object\n",
       "Power_perf_factor      float64\n",
       "dtype: object"
      ]
     },
     "execution_count": 6,
     "metadata": {},
     "output_type": "execute_result"
    }
   ],
   "source": [
    "df.dtypes"
   ]
  },
  {
   "cell_type": "markdown",
   "metadata": {},
   "source": [
    "## check null and clean\n"
   ]
  },
  {
   "cell_type": "code",
   "execution_count": 7,
   "metadata": {},
   "outputs": [
    {
     "data": {
      "text/plain": [
       "Manufacturer            0\n",
       "Model                   0\n",
       "Sales_in_thousands      0\n",
       "__year_resale_value    36\n",
       "Vehicle_type            0\n",
       "Price_in_thousands      2\n",
       "Engine_size             1\n",
       "Horsepower              1\n",
       "Wheelbase               1\n",
       "Width                   1\n",
       "Length                  1\n",
       "Curb_weight             2\n",
       "Fuel_capacity           1\n",
       "Fuel_efficiency         3\n",
       "Latest_Launch           0\n",
       "Power_perf_factor       2\n",
       "dtype: int64"
      ]
     },
     "execution_count": 7,
     "metadata": {},
     "output_type": "execute_result"
    }
   ],
   "source": [
    "df.isnull().sum() "
   ]
  },
  {
   "cell_type": "code",
   "execution_count": 8,
   "metadata": {},
   "outputs": [
    {
     "data": {
      "text/plain": [
       "np.int64(0)"
      ]
     },
     "execution_count": 8,
     "metadata": {},
     "output_type": "execute_result"
    }
   ],
   "source": [
    "# drop dupplicates\n",
    "df.duplicated().sum()"
   ]
  },
  {
   "cell_type": "code",
   "execution_count": 9,
   "metadata": {},
   "outputs": [
    {
     "data": {
      "text/html": [
       "<div>\n",
       "<style scoped>\n",
       "    .dataframe tbody tr th:only-of-type {\n",
       "        vertical-align: middle;\n",
       "    }\n",
       "\n",
       "    .dataframe tbody tr th {\n",
       "        vertical-align: top;\n",
       "    }\n",
       "\n",
       "    .dataframe thead th {\n",
       "        text-align: right;\n",
       "    }\n",
       "</style>\n",
       "<table border=\"1\" class=\"dataframe\">\n",
       "  <thead>\n",
       "    <tr style=\"text-align: right;\">\n",
       "      <th></th>\n",
       "      <th>Manufacturer</th>\n",
       "      <th>Model</th>\n",
       "      <th>Sales_in_thousands</th>\n",
       "      <th>__year_resale_value</th>\n",
       "      <th>Vehicle_type</th>\n",
       "      <th>Price_in_thousands</th>\n",
       "      <th>Engine_size</th>\n",
       "      <th>Horsepower</th>\n",
       "      <th>Wheelbase</th>\n",
       "      <th>Width</th>\n",
       "      <th>Length</th>\n",
       "      <th>Curb_weight</th>\n",
       "      <th>Fuel_capacity</th>\n",
       "      <th>Fuel_efficiency</th>\n",
       "      <th>Latest_Launch</th>\n",
       "      <th>Power_perf_factor</th>\n",
       "    </tr>\n",
       "  </thead>\n",
       "  <tbody>\n",
       "    <tr>\n",
       "      <th>0</th>\n",
       "      <td>Acura</td>\n",
       "      <td>Integra</td>\n",
       "      <td>16.919</td>\n",
       "      <td>16.360</td>\n",
       "      <td>Passenger</td>\n",
       "      <td>21.50</td>\n",
       "      <td>1.8</td>\n",
       "      <td>140.0</td>\n",
       "      <td>101.2</td>\n",
       "      <td>67.3</td>\n",
       "      <td>172.4</td>\n",
       "      <td>2.639</td>\n",
       "      <td>13.2</td>\n",
       "      <td>28.0</td>\n",
       "      <td>2/2/2012</td>\n",
       "      <td>58.280150</td>\n",
       "    </tr>\n",
       "    <tr>\n",
       "      <th>1</th>\n",
       "      <td>Acura</td>\n",
       "      <td>TL</td>\n",
       "      <td>39.384</td>\n",
       "      <td>19.875</td>\n",
       "      <td>Passenger</td>\n",
       "      <td>28.40</td>\n",
       "      <td>3.2</td>\n",
       "      <td>225.0</td>\n",
       "      <td>108.1</td>\n",
       "      <td>70.3</td>\n",
       "      <td>192.9</td>\n",
       "      <td>3.517</td>\n",
       "      <td>17.2</td>\n",
       "      <td>25.0</td>\n",
       "      <td>6/3/2011</td>\n",
       "      <td>91.370778</td>\n",
       "    </tr>\n",
       "    <tr>\n",
       "      <th>3</th>\n",
       "      <td>Acura</td>\n",
       "      <td>RL</td>\n",
       "      <td>8.588</td>\n",
       "      <td>29.725</td>\n",
       "      <td>Passenger</td>\n",
       "      <td>42.00</td>\n",
       "      <td>3.5</td>\n",
       "      <td>210.0</td>\n",
       "      <td>114.6</td>\n",
       "      <td>71.4</td>\n",
       "      <td>196.6</td>\n",
       "      <td>3.850</td>\n",
       "      <td>18.0</td>\n",
       "      <td>22.0</td>\n",
       "      <td>3/10/2011</td>\n",
       "      <td>91.389779</td>\n",
       "    </tr>\n",
       "    <tr>\n",
       "      <th>4</th>\n",
       "      <td>Audi</td>\n",
       "      <td>A4</td>\n",
       "      <td>20.397</td>\n",
       "      <td>22.255</td>\n",
       "      <td>Passenger</td>\n",
       "      <td>23.99</td>\n",
       "      <td>1.8</td>\n",
       "      <td>150.0</td>\n",
       "      <td>102.6</td>\n",
       "      <td>68.2</td>\n",
       "      <td>178.0</td>\n",
       "      <td>2.998</td>\n",
       "      <td>16.4</td>\n",
       "      <td>27.0</td>\n",
       "      <td>10/8/2011</td>\n",
       "      <td>62.777639</td>\n",
       "    </tr>\n",
       "    <tr>\n",
       "      <th>5</th>\n",
       "      <td>Audi</td>\n",
       "      <td>A6</td>\n",
       "      <td>18.780</td>\n",
       "      <td>23.555</td>\n",
       "      <td>Passenger</td>\n",
       "      <td>33.95</td>\n",
       "      <td>2.8</td>\n",
       "      <td>200.0</td>\n",
       "      <td>108.7</td>\n",
       "      <td>76.1</td>\n",
       "      <td>192.0</td>\n",
       "      <td>3.561</td>\n",
       "      <td>18.5</td>\n",
       "      <td>22.0</td>\n",
       "      <td>8/9/2011</td>\n",
       "      <td>84.565105</td>\n",
       "    </tr>\n",
       "    <tr>\n",
       "      <th>...</th>\n",
       "      <td>...</td>\n",
       "      <td>...</td>\n",
       "      <td>...</td>\n",
       "      <td>...</td>\n",
       "      <td>...</td>\n",
       "      <td>...</td>\n",
       "      <td>...</td>\n",
       "      <td>...</td>\n",
       "      <td>...</td>\n",
       "      <td>...</td>\n",
       "      <td>...</td>\n",
       "      <td>...</td>\n",
       "      <td>...</td>\n",
       "      <td>...</td>\n",
       "      <td>...</td>\n",
       "      <td>...</td>\n",
       "    </tr>\n",
       "    <tr>\n",
       "      <th>145</th>\n",
       "      <td>Volkswagen</td>\n",
       "      <td>Golf</td>\n",
       "      <td>9.761</td>\n",
       "      <td>11.425</td>\n",
       "      <td>Passenger</td>\n",
       "      <td>14.90</td>\n",
       "      <td>2.0</td>\n",
       "      <td>115.0</td>\n",
       "      <td>98.9</td>\n",
       "      <td>68.3</td>\n",
       "      <td>163.3</td>\n",
       "      <td>2.767</td>\n",
       "      <td>14.5</td>\n",
       "      <td>26.0</td>\n",
       "      <td>1/24/2011</td>\n",
       "      <td>46.943877</td>\n",
       "    </tr>\n",
       "    <tr>\n",
       "      <th>146</th>\n",
       "      <td>Volkswagen</td>\n",
       "      <td>Jetta</td>\n",
       "      <td>83.721</td>\n",
       "      <td>13.240</td>\n",
       "      <td>Passenger</td>\n",
       "      <td>16.70</td>\n",
       "      <td>2.0</td>\n",
       "      <td>115.0</td>\n",
       "      <td>98.9</td>\n",
       "      <td>68.3</td>\n",
       "      <td>172.3</td>\n",
       "      <td>2.853</td>\n",
       "      <td>14.5</td>\n",
       "      <td>26.0</td>\n",
       "      <td>8/27/2011</td>\n",
       "      <td>47.638237</td>\n",
       "    </tr>\n",
       "    <tr>\n",
       "      <th>147</th>\n",
       "      <td>Volkswagen</td>\n",
       "      <td>Passat</td>\n",
       "      <td>51.102</td>\n",
       "      <td>16.725</td>\n",
       "      <td>Passenger</td>\n",
       "      <td>21.20</td>\n",
       "      <td>1.8</td>\n",
       "      <td>150.0</td>\n",
       "      <td>106.4</td>\n",
       "      <td>68.5</td>\n",
       "      <td>184.1</td>\n",
       "      <td>3.043</td>\n",
       "      <td>16.4</td>\n",
       "      <td>27.0</td>\n",
       "      <td>10/30/2012</td>\n",
       "      <td>61.701381</td>\n",
       "    </tr>\n",
       "    <tr>\n",
       "      <th>148</th>\n",
       "      <td>Volkswagen</td>\n",
       "      <td>Cabrio</td>\n",
       "      <td>9.569</td>\n",
       "      <td>16.575</td>\n",
       "      <td>Passenger</td>\n",
       "      <td>19.99</td>\n",
       "      <td>2.0</td>\n",
       "      <td>115.0</td>\n",
       "      <td>97.4</td>\n",
       "      <td>66.7</td>\n",
       "      <td>160.4</td>\n",
       "      <td>3.079</td>\n",
       "      <td>13.7</td>\n",
       "      <td>26.0</td>\n",
       "      <td>5/31/2011</td>\n",
       "      <td>48.907372</td>\n",
       "    </tr>\n",
       "    <tr>\n",
       "      <th>149</th>\n",
       "      <td>Volkswagen</td>\n",
       "      <td>GTI</td>\n",
       "      <td>5.596</td>\n",
       "      <td>13.760</td>\n",
       "      <td>Passenger</td>\n",
       "      <td>17.50</td>\n",
       "      <td>2.0</td>\n",
       "      <td>115.0</td>\n",
       "      <td>98.9</td>\n",
       "      <td>68.3</td>\n",
       "      <td>163.3</td>\n",
       "      <td>2.762</td>\n",
       "      <td>14.6</td>\n",
       "      <td>26.0</td>\n",
       "      <td>4/1/2011</td>\n",
       "      <td>47.946841</td>\n",
       "    </tr>\n",
       "  </tbody>\n",
       "</table>\n",
       "<p>117 rows × 16 columns</p>\n",
       "</div>"
      ],
      "text/plain": [
       "    Manufacturer    Model  Sales_in_thousands  __year_resale_value  \\\n",
       "0          Acura  Integra              16.919               16.360   \n",
       "1          Acura       TL              39.384               19.875   \n",
       "3          Acura       RL               8.588               29.725   \n",
       "4           Audi       A4              20.397               22.255   \n",
       "5           Audi       A6              18.780               23.555   \n",
       "..           ...      ...                 ...                  ...   \n",
       "145   Volkswagen     Golf               9.761               11.425   \n",
       "146   Volkswagen    Jetta              83.721               13.240   \n",
       "147   Volkswagen   Passat              51.102               16.725   \n",
       "148   Volkswagen   Cabrio               9.569               16.575   \n",
       "149   Volkswagen      GTI               5.596               13.760   \n",
       "\n",
       "    Vehicle_type  Price_in_thousands  Engine_size  Horsepower  Wheelbase  \\\n",
       "0      Passenger               21.50          1.8       140.0      101.2   \n",
       "1      Passenger               28.40          3.2       225.0      108.1   \n",
       "3      Passenger               42.00          3.5       210.0      114.6   \n",
       "4      Passenger               23.99          1.8       150.0      102.6   \n",
       "5      Passenger               33.95          2.8       200.0      108.7   \n",
       "..           ...                 ...          ...         ...        ...   \n",
       "145    Passenger               14.90          2.0       115.0       98.9   \n",
       "146    Passenger               16.70          2.0       115.0       98.9   \n",
       "147    Passenger               21.20          1.8       150.0      106.4   \n",
       "148    Passenger               19.99          2.0       115.0       97.4   \n",
       "149    Passenger               17.50          2.0       115.0       98.9   \n",
       "\n",
       "     Width  Length  Curb_weight  Fuel_capacity  Fuel_efficiency Latest_Launch  \\\n",
       "0     67.3   172.4        2.639           13.2             28.0      2/2/2012   \n",
       "1     70.3   192.9        3.517           17.2             25.0      6/3/2011   \n",
       "3     71.4   196.6        3.850           18.0             22.0     3/10/2011   \n",
       "4     68.2   178.0        2.998           16.4             27.0     10/8/2011   \n",
       "5     76.1   192.0        3.561           18.5             22.0      8/9/2011   \n",
       "..     ...     ...          ...            ...              ...           ...   \n",
       "145   68.3   163.3        2.767           14.5             26.0     1/24/2011   \n",
       "146   68.3   172.3        2.853           14.5             26.0     8/27/2011   \n",
       "147   68.5   184.1        3.043           16.4             27.0    10/30/2012   \n",
       "148   66.7   160.4        3.079           13.7             26.0     5/31/2011   \n",
       "149   68.3   163.3        2.762           14.6             26.0      4/1/2011   \n",
       "\n",
       "     Power_perf_factor  \n",
       "0            58.280150  \n",
       "1            91.370778  \n",
       "3            91.389779  \n",
       "4            62.777639  \n",
       "5            84.565105  \n",
       "..                 ...  \n",
       "145          46.943877  \n",
       "146          47.638237  \n",
       "147          61.701381  \n",
       "148          48.907372  \n",
       "149          47.946841  \n",
       "\n",
       "[117 rows x 16 columns]"
      ]
     },
     "execution_count": 9,
     "metadata": {},
     "output_type": "execute_result"
    }
   ],
   "source": [
    "df.dropna()"
   ]
  },
  {
   "cell_type": "code",
   "execution_count": null,
   "metadata": {},
   "outputs": [],
   "source": []
  },
  {
   "cell_type": "code",
   "execution_count": 10,
   "metadata": {},
   "outputs": [
    {
     "data": {
      "text/plain": [
       "0      16.360\n",
       "1      19.875\n",
       "2      18.225\n",
       "3      29.725\n",
       "4      22.255\n",
       "        ...  \n",
       "152       NaN\n",
       "153       NaN\n",
       "154       NaN\n",
       "155       NaN\n",
       "156       NaN\n",
       "Name: __year_resale_value, Length: 157, dtype: float64"
      ]
     },
     "execution_count": 10,
     "metadata": {},
     "output_type": "execute_result"
    }
   ],
   "source": [
    "df[\"__year_resale_value\"]"
   ]
  },
  {
   "cell_type": "code",
   "execution_count": 11,
   "metadata": {},
   "outputs": [
    {
     "name": "stdout",
     "output_type": "stream",
     "text": [
      "<class 'pandas.core.frame.DataFrame'>\n",
      "RangeIndex: 157 entries, 0 to 156\n",
      "Data columns (total 15 columns):\n",
      " #   Column              Non-Null Count  Dtype  \n",
      "---  ------              --------------  -----  \n",
      " 0   Manufacturer        157 non-null    object \n",
      " 1   Model               157 non-null    object \n",
      " 2   Sales_in_thousands  157 non-null    float64\n",
      " 3   Vehicle_type        157 non-null    object \n",
      " 4   Price_in_thousands  155 non-null    float64\n",
      " 5   Engine_size         156 non-null    float64\n",
      " 6   Horsepower          156 non-null    float64\n",
      " 7   Wheelbase           156 non-null    float64\n",
      " 8   Width               156 non-null    float64\n",
      " 9   Length              156 non-null    float64\n",
      " 10  Curb_weight         155 non-null    float64\n",
      " 11  Fuel_capacity       156 non-null    float64\n",
      " 12  Fuel_efficiency     154 non-null    float64\n",
      " 13  Latest_Launch       157 non-null    object \n",
      " 14  Power_perf_factor   155 non-null    float64\n",
      "dtypes: float64(11), object(4)\n",
      "memory usage: 18.5+ KB\n"
     ]
    }
   ],
   "source": [
    "# fill the null value of __year_resale_value\n",
    "df.drop(\"__year_resale_value\",axis=1, inplace=True)\n",
    "df.info()\n"
   ]
  },
  {
   "cell_type": "code",
   "execution_count": 12,
   "metadata": {},
   "outputs": [
    {
     "data": {
      "text/plain": [
       "Manufacturer          0\n",
       "Model                 0\n",
       "Sales_in_thousands    0\n",
       "Vehicle_type          0\n",
       "Price_in_thousands    2\n",
       "Engine_size           1\n",
       "Horsepower            1\n",
       "Wheelbase             1\n",
       "Width                 1\n",
       "Length                1\n",
       "Curb_weight           2\n",
       "Fuel_capacity         1\n",
       "Fuel_efficiency       3\n",
       "Latest_Launch         0\n",
       "Power_perf_factor     2\n",
       "dtype: int64"
      ]
     },
     "execution_count": 12,
     "metadata": {},
     "output_type": "execute_result"
    }
   ],
   "source": [
    "df.isnull().sum()"
   ]
  },
  {
   "cell_type": "code",
   "execution_count": 13,
   "metadata": {},
   "outputs": [],
   "source": [
    "df.dropna(axis=0, inplace=True)"
   ]
  },
  {
   "cell_type": "code",
   "execution_count": 14,
   "metadata": {},
   "outputs": [
    {
     "data": {
      "text/plain": [
       "Manufacturer          0\n",
       "Model                 0\n",
       "Sales_in_thousands    0\n",
       "Vehicle_type          0\n",
       "Price_in_thousands    0\n",
       "Engine_size           0\n",
       "Horsepower            0\n",
       "Wheelbase             0\n",
       "Width                 0\n",
       "Length                0\n",
       "Curb_weight           0\n",
       "Fuel_capacity         0\n",
       "Fuel_efficiency       0\n",
       "Latest_Launch         0\n",
       "Power_perf_factor     0\n",
       "dtype: int64"
      ]
     },
     "execution_count": 14,
     "metadata": {},
     "output_type": "execute_result"
    }
   ],
   "source": [
    "df.isnull().sum()"
   ]
  },
  {
   "cell_type": "code",
   "execution_count": 15,
   "metadata": {},
   "outputs": [
    {
     "ename": "KeyError",
     "evalue": "'wj'",
     "output_type": "error",
     "traceback": [
      "\u001b[1;31m---------------------------------------------------------------------------\u001b[0m",
      "\u001b[1;31mKeyError\u001b[0m                                  Traceback (most recent call last)",
      "File \u001b[1;32mc:\\ProgramData\\anaconda3\\Lib\\site-packages\\pandas\\core\\indexes\\base.py:3805\u001b[0m, in \u001b[0;36mIndex.get_loc\u001b[1;34m(self, key)\u001b[0m\n\u001b[0;32m   3804\u001b[0m \u001b[38;5;28;01mtry\u001b[39;00m:\n\u001b[1;32m-> 3805\u001b[0m     \u001b[38;5;28;01mreturn\u001b[39;00m \u001b[38;5;28mself\u001b[39m\u001b[38;5;241m.\u001b[39m_engine\u001b[38;5;241m.\u001b[39mget_loc(casted_key)\n\u001b[0;32m   3806\u001b[0m \u001b[38;5;28;01mexcept\u001b[39;00m \u001b[38;5;167;01mKeyError\u001b[39;00m \u001b[38;5;28;01mas\u001b[39;00m err:\n",
      "File \u001b[1;32mindex.pyx:167\u001b[0m, in \u001b[0;36mpandas._libs.index.IndexEngine.get_loc\u001b[1;34m()\u001b[0m\n",
      "File \u001b[1;32mindex.pyx:196\u001b[0m, in \u001b[0;36mpandas._libs.index.IndexEngine.get_loc\u001b[1;34m()\u001b[0m\n",
      "File \u001b[1;32mpandas\\\\_libs\\\\hashtable_class_helper.pxi:7081\u001b[0m, in \u001b[0;36mpandas._libs.hashtable.PyObjectHashTable.get_item\u001b[1;34m()\u001b[0m\n",
      "File \u001b[1;32mpandas\\\\_libs\\\\hashtable_class_helper.pxi:7089\u001b[0m, in \u001b[0;36mpandas._libs.hashtable.PyObjectHashTable.get_item\u001b[1;34m()\u001b[0m\n",
      "\u001b[1;31mKeyError\u001b[0m: 'wj'",
      "\nThe above exception was the direct cause of the following exception:\n",
      "\u001b[1;31mKeyError\u001b[0m                                  Traceback (most recent call last)",
      "Cell \u001b[1;32mIn[15], line 2\u001b[0m\n\u001b[0;32m      1\u001b[0m \u001b[38;5;66;03m# fillna \u001b[39;00m\n\u001b[1;32m----> 2\u001b[0m df[\u001b[38;5;124m\"\u001b[39m\u001b[38;5;124mwj\u001b[39m\u001b[38;5;124m\"\u001b[39m] \u001b[38;5;241m=\u001b[39m df[\u001b[38;5;124m\"\u001b[39m\u001b[38;5;124mwj\u001b[39m\u001b[38;5;124m\"\u001b[39m]\u001b[38;5;241m.\u001b[39mfillna(df[\u001b[38;5;124m\"\u001b[39m\u001b[38;5;124mwj\u001b[39m\u001b[38;5;124m\"\u001b[39m]\u001b[38;5;241m.\u001b[39mmean())\n",
      "File \u001b[1;32mc:\\ProgramData\\anaconda3\\Lib\\site-packages\\pandas\\core\\frame.py:4102\u001b[0m, in \u001b[0;36mDataFrame.__getitem__\u001b[1;34m(self, key)\u001b[0m\n\u001b[0;32m   4100\u001b[0m \u001b[38;5;28;01mif\u001b[39;00m \u001b[38;5;28mself\u001b[39m\u001b[38;5;241m.\u001b[39mcolumns\u001b[38;5;241m.\u001b[39mnlevels \u001b[38;5;241m>\u001b[39m \u001b[38;5;241m1\u001b[39m:\n\u001b[0;32m   4101\u001b[0m     \u001b[38;5;28;01mreturn\u001b[39;00m \u001b[38;5;28mself\u001b[39m\u001b[38;5;241m.\u001b[39m_getitem_multilevel(key)\n\u001b[1;32m-> 4102\u001b[0m indexer \u001b[38;5;241m=\u001b[39m \u001b[38;5;28mself\u001b[39m\u001b[38;5;241m.\u001b[39mcolumns\u001b[38;5;241m.\u001b[39mget_loc(key)\n\u001b[0;32m   4103\u001b[0m \u001b[38;5;28;01mif\u001b[39;00m is_integer(indexer):\n\u001b[0;32m   4104\u001b[0m     indexer \u001b[38;5;241m=\u001b[39m [indexer]\n",
      "File \u001b[1;32mc:\\ProgramData\\anaconda3\\Lib\\site-packages\\pandas\\core\\indexes\\base.py:3812\u001b[0m, in \u001b[0;36mIndex.get_loc\u001b[1;34m(self, key)\u001b[0m\n\u001b[0;32m   3807\u001b[0m     \u001b[38;5;28;01mif\u001b[39;00m \u001b[38;5;28misinstance\u001b[39m(casted_key, \u001b[38;5;28mslice\u001b[39m) \u001b[38;5;129;01mor\u001b[39;00m (\n\u001b[0;32m   3808\u001b[0m         \u001b[38;5;28misinstance\u001b[39m(casted_key, abc\u001b[38;5;241m.\u001b[39mIterable)\n\u001b[0;32m   3809\u001b[0m         \u001b[38;5;129;01mand\u001b[39;00m \u001b[38;5;28many\u001b[39m(\u001b[38;5;28misinstance\u001b[39m(x, \u001b[38;5;28mslice\u001b[39m) \u001b[38;5;28;01mfor\u001b[39;00m x \u001b[38;5;129;01min\u001b[39;00m casted_key)\n\u001b[0;32m   3810\u001b[0m     ):\n\u001b[0;32m   3811\u001b[0m         \u001b[38;5;28;01mraise\u001b[39;00m InvalidIndexError(key)\n\u001b[1;32m-> 3812\u001b[0m     \u001b[38;5;28;01mraise\u001b[39;00m \u001b[38;5;167;01mKeyError\u001b[39;00m(key) \u001b[38;5;28;01mfrom\u001b[39;00m \u001b[38;5;21;01merr\u001b[39;00m\n\u001b[0;32m   3813\u001b[0m \u001b[38;5;28;01mexcept\u001b[39;00m \u001b[38;5;167;01mTypeError\u001b[39;00m:\n\u001b[0;32m   3814\u001b[0m     \u001b[38;5;66;03m# If we have a listlike key, _check_indexing_error will raise\u001b[39;00m\n\u001b[0;32m   3815\u001b[0m     \u001b[38;5;66;03m#  InvalidIndexError. Otherwise we fall through and re-raise\u001b[39;00m\n\u001b[0;32m   3816\u001b[0m     \u001b[38;5;66;03m#  the TypeError.\u001b[39;00m\n\u001b[0;32m   3817\u001b[0m     \u001b[38;5;28mself\u001b[39m\u001b[38;5;241m.\u001b[39m_check_indexing_error(key)\n",
      "\u001b[1;31mKeyError\u001b[0m: 'wj'"
     ]
    }
   ],
   "source": [
    "# fillna \n",
    "df[\"wj\"] = df[\"wj\"].fillna(df[\"wj\"].mean())\n"
   ]
  },
  {
   "cell_type": "code",
   "execution_count": null,
   "metadata": {},
   "outputs": [],
   "source": [
    "# Analysis \n",
    "# - univariante\n",
    "# - bivariante .corr\n",
    "# - multivariante  .corr// heatmap"
   ]
  },
  {
   "cell_type": "code",
   "execution_count": null,
   "metadata": {},
   "outputs": [
    {
     "data": {
      "text/html": [
       "<div>\n",
       "<style scoped>\n",
       "    .dataframe tbody tr th:only-of-type {\n",
       "        vertical-align: middle;\n",
       "    }\n",
       "\n",
       "    .dataframe tbody tr th {\n",
       "        vertical-align: top;\n",
       "    }\n",
       "\n",
       "    .dataframe thead th {\n",
       "        text-align: right;\n",
       "    }\n",
       "</style>\n",
       "<table border=\"1\" class=\"dataframe\">\n",
       "  <thead>\n",
       "    <tr style=\"text-align: right;\">\n",
       "      <th></th>\n",
       "      <th>Manufacturer</th>\n",
       "      <th>Model</th>\n",
       "      <th>Sales_in_thousands</th>\n",
       "      <th>Vehicle_type</th>\n",
       "      <th>Price_in_thousands</th>\n",
       "      <th>Engine_size</th>\n",
       "      <th>Horsepower</th>\n",
       "      <th>Wheelbase</th>\n",
       "      <th>Width</th>\n",
       "      <th>Length</th>\n",
       "      <th>Curb_weight</th>\n",
       "      <th>Fuel_capacity</th>\n",
       "      <th>Fuel_efficiency</th>\n",
       "      <th>Latest_Launch</th>\n",
       "      <th>Power_perf_factor</th>\n",
       "    </tr>\n",
       "  </thead>\n",
       "  <tbody>\n",
       "    <tr>\n",
       "      <th>0</th>\n",
       "      <td>Acura</td>\n",
       "      <td>Integra</td>\n",
       "      <td>16.919</td>\n",
       "      <td>Passenger</td>\n",
       "      <td>21.50</td>\n",
       "      <td>1.8</td>\n",
       "      <td>140.0</td>\n",
       "      <td>101.2</td>\n",
       "      <td>67.3</td>\n",
       "      <td>172.4</td>\n",
       "      <td>2.639</td>\n",
       "      <td>13.2</td>\n",
       "      <td>28.0</td>\n",
       "      <td>2/2/2012</td>\n",
       "      <td>58.280150</td>\n",
       "    </tr>\n",
       "    <tr>\n",
       "      <th>1</th>\n",
       "      <td>Acura</td>\n",
       "      <td>TL</td>\n",
       "      <td>39.384</td>\n",
       "      <td>Passenger</td>\n",
       "      <td>28.40</td>\n",
       "      <td>3.2</td>\n",
       "      <td>225.0</td>\n",
       "      <td>108.1</td>\n",
       "      <td>70.3</td>\n",
       "      <td>192.9</td>\n",
       "      <td>3.517</td>\n",
       "      <td>17.2</td>\n",
       "      <td>25.0</td>\n",
       "      <td>6/3/2011</td>\n",
       "      <td>91.370778</td>\n",
       "    </tr>\n",
       "    <tr>\n",
       "      <th>3</th>\n",
       "      <td>Acura</td>\n",
       "      <td>RL</td>\n",
       "      <td>8.588</td>\n",
       "      <td>Passenger</td>\n",
       "      <td>42.00</td>\n",
       "      <td>3.5</td>\n",
       "      <td>210.0</td>\n",
       "      <td>114.6</td>\n",
       "      <td>71.4</td>\n",
       "      <td>196.6</td>\n",
       "      <td>3.850</td>\n",
       "      <td>18.0</td>\n",
       "      <td>22.0</td>\n",
       "      <td>3/10/2011</td>\n",
       "      <td>91.389779</td>\n",
       "    </tr>\n",
       "    <tr>\n",
       "      <th>4</th>\n",
       "      <td>Audi</td>\n",
       "      <td>A4</td>\n",
       "      <td>20.397</td>\n",
       "      <td>Passenger</td>\n",
       "      <td>23.99</td>\n",
       "      <td>1.8</td>\n",
       "      <td>150.0</td>\n",
       "      <td>102.6</td>\n",
       "      <td>68.2</td>\n",
       "      <td>178.0</td>\n",
       "      <td>2.998</td>\n",
       "      <td>16.4</td>\n",
       "      <td>27.0</td>\n",
       "      <td>10/8/2011</td>\n",
       "      <td>62.777639</td>\n",
       "    </tr>\n",
       "    <tr>\n",
       "      <th>5</th>\n",
       "      <td>Audi</td>\n",
       "      <td>A6</td>\n",
       "      <td>18.780</td>\n",
       "      <td>Passenger</td>\n",
       "      <td>33.95</td>\n",
       "      <td>2.8</td>\n",
       "      <td>200.0</td>\n",
       "      <td>108.7</td>\n",
       "      <td>76.1</td>\n",
       "      <td>192.0</td>\n",
       "      <td>3.561</td>\n",
       "      <td>18.5</td>\n",
       "      <td>22.0</td>\n",
       "      <td>8/9/2011</td>\n",
       "      <td>84.565105</td>\n",
       "    </tr>\n",
       "    <tr>\n",
       "      <th>...</th>\n",
       "      <td>...</td>\n",
       "      <td>...</td>\n",
       "      <td>...</td>\n",
       "      <td>...</td>\n",
       "      <td>...</td>\n",
       "      <td>...</td>\n",
       "      <td>...</td>\n",
       "      <td>...</td>\n",
       "      <td>...</td>\n",
       "      <td>...</td>\n",
       "      <td>...</td>\n",
       "      <td>...</td>\n",
       "      <td>...</td>\n",
       "      <td>...</td>\n",
       "      <td>...</td>\n",
       "    </tr>\n",
       "    <tr>\n",
       "      <th>152</th>\n",
       "      <td>Volvo</td>\n",
       "      <td>V40</td>\n",
       "      <td>3.545</td>\n",
       "      <td>Passenger</td>\n",
       "      <td>24.40</td>\n",
       "      <td>1.9</td>\n",
       "      <td>160.0</td>\n",
       "      <td>100.5</td>\n",
       "      <td>67.6</td>\n",
       "      <td>176.6</td>\n",
       "      <td>3.042</td>\n",
       "      <td>15.8</td>\n",
       "      <td>25.0</td>\n",
       "      <td>9/21/2011</td>\n",
       "      <td>66.498812</td>\n",
       "    </tr>\n",
       "    <tr>\n",
       "      <th>153</th>\n",
       "      <td>Volvo</td>\n",
       "      <td>S70</td>\n",
       "      <td>15.245</td>\n",
       "      <td>Passenger</td>\n",
       "      <td>27.50</td>\n",
       "      <td>2.4</td>\n",
       "      <td>168.0</td>\n",
       "      <td>104.9</td>\n",
       "      <td>69.3</td>\n",
       "      <td>185.9</td>\n",
       "      <td>3.208</td>\n",
       "      <td>17.9</td>\n",
       "      <td>25.0</td>\n",
       "      <td>11/24/2012</td>\n",
       "      <td>70.654495</td>\n",
       "    </tr>\n",
       "    <tr>\n",
       "      <th>154</th>\n",
       "      <td>Volvo</td>\n",
       "      <td>V70</td>\n",
       "      <td>17.531</td>\n",
       "      <td>Passenger</td>\n",
       "      <td>28.80</td>\n",
       "      <td>2.4</td>\n",
       "      <td>168.0</td>\n",
       "      <td>104.9</td>\n",
       "      <td>69.3</td>\n",
       "      <td>186.2</td>\n",
       "      <td>3.259</td>\n",
       "      <td>17.9</td>\n",
       "      <td>25.0</td>\n",
       "      <td>6/25/2011</td>\n",
       "      <td>71.155978</td>\n",
       "    </tr>\n",
       "    <tr>\n",
       "      <th>155</th>\n",
       "      <td>Volvo</td>\n",
       "      <td>C70</td>\n",
       "      <td>3.493</td>\n",
       "      <td>Passenger</td>\n",
       "      <td>45.50</td>\n",
       "      <td>2.3</td>\n",
       "      <td>236.0</td>\n",
       "      <td>104.9</td>\n",
       "      <td>71.5</td>\n",
       "      <td>185.7</td>\n",
       "      <td>3.601</td>\n",
       "      <td>18.5</td>\n",
       "      <td>23.0</td>\n",
       "      <td>4/26/2011</td>\n",
       "      <td>101.623357</td>\n",
       "    </tr>\n",
       "    <tr>\n",
       "      <th>156</th>\n",
       "      <td>Volvo</td>\n",
       "      <td>S80</td>\n",
       "      <td>18.969</td>\n",
       "      <td>Passenger</td>\n",
       "      <td>36.00</td>\n",
       "      <td>2.9</td>\n",
       "      <td>201.0</td>\n",
       "      <td>109.9</td>\n",
       "      <td>72.1</td>\n",
       "      <td>189.8</td>\n",
       "      <td>3.600</td>\n",
       "      <td>21.1</td>\n",
       "      <td>24.0</td>\n",
       "      <td>11/14/2011</td>\n",
       "      <td>85.735655</td>\n",
       "    </tr>\n",
       "  </tbody>\n",
       "</table>\n",
       "<p>152 rows × 15 columns</p>\n",
       "</div>"
      ],
      "text/plain": [
       "    Manufacturer    Model  Sales_in_thousands Vehicle_type  \\\n",
       "0          Acura  Integra              16.919    Passenger   \n",
       "1          Acura       TL              39.384    Passenger   \n",
       "3          Acura       RL               8.588    Passenger   \n",
       "4           Audi       A4              20.397    Passenger   \n",
       "5           Audi       A6              18.780    Passenger   \n",
       "..           ...      ...                 ...          ...   \n",
       "152        Volvo      V40               3.545    Passenger   \n",
       "153        Volvo      S70              15.245    Passenger   \n",
       "154        Volvo      V70              17.531    Passenger   \n",
       "155        Volvo      C70               3.493    Passenger   \n",
       "156        Volvo      S80              18.969    Passenger   \n",
       "\n",
       "     Price_in_thousands  Engine_size  Horsepower  Wheelbase  Width  Length  \\\n",
       "0                 21.50          1.8       140.0      101.2   67.3   172.4   \n",
       "1                 28.40          3.2       225.0      108.1   70.3   192.9   \n",
       "3                 42.00          3.5       210.0      114.6   71.4   196.6   \n",
       "4                 23.99          1.8       150.0      102.6   68.2   178.0   \n",
       "5                 33.95          2.8       200.0      108.7   76.1   192.0   \n",
       "..                  ...          ...         ...        ...    ...     ...   \n",
       "152               24.40          1.9       160.0      100.5   67.6   176.6   \n",
       "153               27.50          2.4       168.0      104.9   69.3   185.9   \n",
       "154               28.80          2.4       168.0      104.9   69.3   186.2   \n",
       "155               45.50          2.3       236.0      104.9   71.5   185.7   \n",
       "156               36.00          2.9       201.0      109.9   72.1   189.8   \n",
       "\n",
       "     Curb_weight  Fuel_capacity  Fuel_efficiency Latest_Launch  \\\n",
       "0          2.639           13.2             28.0      2/2/2012   \n",
       "1          3.517           17.2             25.0      6/3/2011   \n",
       "3          3.850           18.0             22.0     3/10/2011   \n",
       "4          2.998           16.4             27.0     10/8/2011   \n",
       "5          3.561           18.5             22.0      8/9/2011   \n",
       "..           ...            ...              ...           ...   \n",
       "152        3.042           15.8             25.0     9/21/2011   \n",
       "153        3.208           17.9             25.0    11/24/2012   \n",
       "154        3.259           17.9             25.0     6/25/2011   \n",
       "155        3.601           18.5             23.0     4/26/2011   \n",
       "156        3.600           21.1             24.0    11/14/2011   \n",
       "\n",
       "     Power_perf_factor  \n",
       "0            58.280150  \n",
       "1            91.370778  \n",
       "3            91.389779  \n",
       "4            62.777639  \n",
       "5            84.565105  \n",
       "..                 ...  \n",
       "152          66.498812  \n",
       "153          70.654495  \n",
       "154          71.155978  \n",
       "155         101.623357  \n",
       "156          85.735655  \n",
       "\n",
       "[152 rows x 15 columns]"
      ]
     },
     "execution_count": 24,
     "metadata": {},
     "output_type": "execute_result"
    }
   ],
   "source": [
    "df"
   ]
  },
  {
   "cell_type": "code",
   "execution_count": null,
   "metadata": {},
   "outputs": [
    {
     "data": {
      "text/plain": [
       "array(['Acura', 'Audi', 'BMW', 'Buick', 'Cadillac', 'Chevrolet',\n",
       "       'Chrysler', 'Dodge', 'Ford', 'Honda', 'Hyundai', 'Infiniti',\n",
       "       'Jaguar', 'Jeep', 'Lexus', 'Lincoln', 'Mitsubishi', 'Mercury',\n",
       "       'Mercedes-B', 'Nissan', 'Oldsmobile', 'Plymouth', 'Pontiac',\n",
       "       'Porsche', 'Saab', 'Saturn', 'Subaru', 'Toyota', 'Volkswagen',\n",
       "       'Volvo'], dtype=object)"
      ]
     },
     "execution_count": 30,
     "metadata": {},
     "output_type": "execute_result"
    }
   ],
   "source": [
    "# total unique values\n",
    "# ttoal unique values\n",
    "# total vaules\n",
    "# Manufacturer wise  total \n",
    "df[\"Manufacturer\"].unique()"
   ]
  },
  {
   "cell_type": "code",
   "execution_count": null,
   "metadata": {},
   "outputs": [
    {
     "data": {
      "text/plain": [
       "30"
      ]
     },
     "execution_count": 26,
     "metadata": {},
     "output_type": "execute_result"
    }
   ],
   "source": [
    "df[\"Manufacturer\"].nunique()"
   ]
  },
  {
   "cell_type": "code",
   "execution_count": null,
   "metadata": {},
   "outputs": [
    {
     "data": {
      "text/plain": [
       "pandas.core.series.Series"
      ]
     },
     "execution_count": 34,
     "metadata": {},
     "output_type": "execute_result"
    }
   ],
   "source": [
    "df[\"Manufacturer\"].groupby(by=df[\"Manufacturer\"]).count()"
   ]
  },
  {
   "cell_type": "code",
   "execution_count": null,
   "metadata": {},
   "outputs": [
    {
     "data": {
      "text/plain": [
       "Manufacturer\n",
       "Ford          11\n",
       "Dodge         10\n",
       "Chevrolet      9\n",
       "Mercedes-B     9\n",
       "Toyota         9\n",
       "Nissan         7\n",
       "Mitsubishi     7\n",
       "Pontiac        6\n",
       "Volkswagen     6\n",
       "Mercury        6\n",
       "Lexus          6\n",
       "Chrysler       6\n",
       "Volvo          6\n",
       "Honda          5\n",
       "Oldsmobile     5\n",
       "Saturn         5\n",
       "Buick          4\n",
       "Plymouth       4\n",
       "Cadillac       4\n",
       "Audi           3\n",
       "BMW            3\n",
       "Acura          3\n",
       "Lincoln        3\n",
       "Porsche        3\n",
       "Jeep           3\n",
       "Hyundai        3\n",
       "Saab           2\n",
       "Subaru         2\n",
       "Jaguar         1\n",
       "Infiniti       1\n",
       "Name: Manufacturer, dtype: int64"
      ]
     },
     "execution_count": 35,
     "metadata": {},
     "output_type": "execute_result"
    }
   ],
   "source": [
    "df[\"Manufacturer\"].groupby(by=df[\"Manufacturer\"]).count().sort_values(ascending=False)"
   ]
  },
  {
   "cell_type": "code",
   "execution_count": null,
   "metadata": {},
   "outputs": [],
   "source": [
    "# data distibution \n",
    "plt.hist(x=df[\"Manufacturer\"])\n"
   ]
  },
  {
   "cell_type": "code",
   "execution_count": 19,
   "metadata": {},
   "outputs": [
    {
     "data": {
      "image/png": "[encoded data removed]",
      "text/plain": [
       "<Figure size 1500x500 with 1 Axes>"
      ]
     },
     "metadata": {},
     "output_type": "display_data"
    }
   ],
   "source": [
    "plt.figure(figsize=(15,5))\n",
    "sns.histplot(x=df[\"Manufacturer\"],kde=True)\n",
    "plt.xticks(rotation=90)\n",
    "plt.show()"
   ]
  },
  {
   "cell_type": "code",
   "execution_count": null,
   "metadata": {},
   "outputs": [],
   "source": [
    "df"
   ]
  },
  {
   "cell_type": "code",
   "execution_count": null,
   "metadata": {},
   "outputs": [],
   "source": [
    "# show the avg price of Manufacturer\n",
    "avg_price = df[[\"Manufacturer\",\"Price_in_thousands\"]].groupby(\"Manufacturer\",as_index=False).mean(\"Price_in_thousands\")\n",
    "avg_price"
   ]
  },
  {
   "cell_type": "code",
   "execution_count": 50,
   "metadata": {},
   "outputs": [
    {
     "data": {
      "image/png": "[encoded data removed]",
      "text/plain": [
       "<Figure size 640x480 with 1 Axes>"
      ]
     },
     "metadata": {},
     "output_type": "display_data"
    }
   ],
   "source": [
    "sns.barplot(x=avg_price[\"Manufacturer\"],y=avg_price[\"Price_in_thousands\"])\n",
    "plt.xticks(rotation=90)\n",
    "plt.show()"
   ]
  },
  {
   "cell_type": "markdown",
   "metadata": {},
   "source": []
  },
  {
   "cell_type": "code",
   "execution_count": 67,
   "metadata": {},
   "outputs": [
    {
     "data": {
      "text/plain": [
       "Vehicle_type\n",
       "Passenger    112\n",
       "Car           40\n",
       "Name: count, dtype: int64"
      ]
     },
     "execution_count": 67,
     "metadata": {},
     "output_type": "execute_result"
    }
   ],
   "source": [
    "\n",
    "vehicle_count = df['Vehicle_type'].value_counts()\n",
    "vehicle_count"
   ]
  },
  {
   "cell_type": "code",
   "execution_count": 68,
   "metadata": {},
   "outputs": [
    {
     "data": {
      "image/png": "[encoded data removed]",
      "text/plain": [
       "<Figure size 640x480 with 1 Axes>"
      ]
     },
     "metadata": {},
     "output_type": "display_data"
    }
   ],
   "source": [
    "### Bar graph showing the value counts of the column - Vehicle_type\n",
    "\n",
    "sns.barplot(x=vehicle_count.index, y=vehicle_count.values, alpha = 0.8,hue=vehicle_count.index)\n",
    "plt.title('Bar graph showing the value counts of the column - Vehicle type')\n",
    "plt.ylabel('Number of Occurrences', fontsize = 12)\n",
    "plt.xlabel('Vehicle type', fontsize = 12)\n",
    "plt.show()"
   ]
  },
  {
   "cell_type": "code",
   "execution_count": 53,
   "metadata": {},
   "outputs": [
    {
     "data": {
      "text/plain": [
       "array(['Passenger', 'Car'], dtype=object)"
      ]
     },
     "execution_count": 53,
     "metadata": {},
     "output_type": "execute_result"
    }
   ],
   "source": [
    "df[\"Vehicle_type\"].unique()"
   ]
  },
  {
   "cell_type": "code",
   "execution_count": 74,
   "metadata": {},
   "outputs": [
    {
     "data": {
      "text/plain": [
       "Vehicle_type\n",
       "Passenger    112\n",
       "Car           40\n",
       "Name: count, dtype: int64"
      ]
     },
     "execution_count": 74,
     "metadata": {},
     "output_type": "execute_result"
    }
   ],
   "source": [
    "# categorical columns\n",
    "# total sales count in each vehicle types \n",
    "df2 = df[\"Vehicle_type\"].value_counts()\n",
    "df2\n",
    "# total sales amount in each types\n",
    "# type(df2)"
   ]
  },
  {
   "cell_type": "code",
   "execution_count": 72,
   "metadata": {},
   "outputs": [
    {
     "data": {
      "text/plain": [
       "<Axes: xlabel='Vehicle_type'>"
      ]
     },
     "execution_count": 72,
     "metadata": {},
     "output_type": "execute_result"
    },
    {
     "data": {
      "image/png": "[encoded data removed]",
      "text/plain": [
       "<Figure size 640x480 with 1 Axes>"
      ]
     },
     "metadata": {},
     "output_type": "display_data"
    }
   ],
   "source": [
    "sns.barplot(x=df2.index, y=df2.values)"
   ]
  },
  {
   "cell_type": "code",
   "execution_count": 75,
   "metadata": {},
   "outputs": [
    {
     "data": {
      "text/html": [
       "<div>\n",
       "<style scoped>\n",
       "    .dataframe tbody tr th:only-of-type {\n",
       "        vertical-align: middle;\n",
       "    }\n",
       "\n",
       "    .dataframe tbody tr th {\n",
       "        vertical-align: top;\n",
       "    }\n",
       "\n",
       "    .dataframe thead th {\n",
       "        text-align: right;\n",
       "    }\n",
       "</style>\n",
       "<table border=\"1\" class=\"dataframe\">\n",
       "  <thead>\n",
       "    <tr style=\"text-align: right;\">\n",
       "      <th></th>\n",
       "      <th>Vehicle_type</th>\n",
       "      <th>Price_in_thousands</th>\n",
       "    </tr>\n",
       "  </thead>\n",
       "  <tbody>\n",
       "    <tr>\n",
       "      <th>0</th>\n",
       "      <td>Car</td>\n",
       "      <td>1052.799</td>\n",
       "    </tr>\n",
       "    <tr>\n",
       "      <th>1</th>\n",
       "      <td>Passenger</td>\n",
       "      <td>3101.638</td>\n",
       "    </tr>\n",
       "  </tbody>\n",
       "</table>\n",
       "</div>"
      ],
      "text/plain": [
       "  Vehicle_type  Price_in_thousands\n",
       "0          Car            1052.799\n",
       "1    Passenger            3101.638"
      ]
     },
     "execution_count": 75,
     "metadata": {},
     "output_type": "execute_result"
    }
   ],
   "source": [
    "# total sales by vechles types\n",
    "df[[\"Vehicle_type\",\"Price_in_thousands\"]].groupby(\"Vehicle_type\",as_index=False).sum()"
   ]
  },
  {
   "cell_type": "markdown",
   "metadata": {},
   "source": [
    "### Insights\n",
    "- passeger vehicles sales are 3x of car\n",
    "- we more focus car sales "
   ]
  },
  {
   "cell_type": "markdown",
   "metadata": {},
   "source": [
    "### number data types"
   ]
  },
  {
   "cell_type": "code",
   "execution_count": 76,
   "metadata": {},
   "outputs": [
    {
     "data": {
      "text/plain": [
       "Manufacturer           object\n",
       "Model                  object\n",
       "Sales_in_thousands    float64\n",
       "Vehicle_type           object\n",
       "Price_in_thousands    float64\n",
       "Engine_size           float64\n",
       "Horsepower            float64\n",
       "Wheelbase             float64\n",
       "Width                 float64\n",
       "Length                float64\n",
       "Curb_weight           float64\n",
       "Fuel_capacity         float64\n",
       "Fuel_efficiency       float64\n",
       "Latest_Launch          object\n",
       "Power_perf_factor     float64\n",
       "dtype: object"
      ]
     },
     "execution_count": 76,
     "metadata": {},
     "output_type": "execute_result"
    }
   ],
   "source": [
    "df.dtypes"
   ]
  },
  {
   "cell_type": "code",
   "execution_count": 78,
   "metadata": {},
   "outputs": [
    {
     "data": {
      "text/html": [
       "<div>\n",
       "<style scoped>\n",
       "    .dataframe tbody tr th:only-of-type {\n",
       "        vertical-align: middle;\n",
       "    }\n",
       "\n",
       "    .dataframe tbody tr th {\n",
       "        vertical-align: top;\n",
       "    }\n",
       "\n",
       "    .dataframe thead th {\n",
       "        text-align: right;\n",
       "    }\n",
       "</style>\n",
       "<table border=\"1\" class=\"dataframe\">\n",
       "  <thead>\n",
       "    <tr style=\"text-align: right;\">\n",
       "      <th></th>\n",
       "      <th>Sales_in_thousands</th>\n",
       "      <th>Price_in_thousands</th>\n",
       "      <th>Engine_size</th>\n",
       "      <th>Horsepower</th>\n",
       "      <th>Wheelbase</th>\n",
       "      <th>Width</th>\n",
       "      <th>Length</th>\n",
       "      <th>Curb_weight</th>\n",
       "      <th>Fuel_capacity</th>\n",
       "      <th>Fuel_efficiency</th>\n",
       "      <th>Power_perf_factor</th>\n",
       "    </tr>\n",
       "  </thead>\n",
       "  <tbody>\n",
       "    <tr>\n",
       "      <th>count</th>\n",
       "      <td>152.000000</td>\n",
       "      <td>152.000000</td>\n",
       "      <td>152.000000</td>\n",
       "      <td>152.000000</td>\n",
       "      <td>152.000000</td>\n",
       "      <td>152.000000</td>\n",
       "      <td>152.000000</td>\n",
       "      <td>152.000000</td>\n",
       "      <td>152.000000</td>\n",
       "      <td>152.000000</td>\n",
       "      <td>152.000000</td>\n",
       "    </tr>\n",
       "    <tr>\n",
       "      <th>mean</th>\n",
       "      <td>53.359072</td>\n",
       "      <td>27.331822</td>\n",
       "      <td>3.049342</td>\n",
       "      <td>184.809211</td>\n",
       "      <td>107.413816</td>\n",
       "      <td>71.088816</td>\n",
       "      <td>187.059211</td>\n",
       "      <td>3.376184</td>\n",
       "      <td>17.959211</td>\n",
       "      <td>23.842105</td>\n",
       "      <td>76.704153</td>\n",
       "    </tr>\n",
       "    <tr>\n",
       "      <th>std</th>\n",
       "      <td>68.938380</td>\n",
       "      <td>14.418669</td>\n",
       "      <td>1.049818</td>\n",
       "      <td>56.823152</td>\n",
       "      <td>7.717839</td>\n",
       "      <td>3.464666</td>\n",
       "      <td>13.471247</td>\n",
       "      <td>0.636593</td>\n",
       "      <td>3.937582</td>\n",
       "      <td>4.304788</td>\n",
       "      <td>25.180983</td>\n",
       "    </tr>\n",
       "    <tr>\n",
       "      <th>min</th>\n",
       "      <td>0.110000</td>\n",
       "      <td>9.235000</td>\n",
       "      <td>1.000000</td>\n",
       "      <td>55.000000</td>\n",
       "      <td>92.600000</td>\n",
       "      <td>62.600000</td>\n",
       "      <td>149.400000</td>\n",
       "      <td>1.895000</td>\n",
       "      <td>10.300000</td>\n",
       "      <td>15.000000</td>\n",
       "      <td>23.276272</td>\n",
       "    </tr>\n",
       "    <tr>\n",
       "      <th>25%</th>\n",
       "      <td>13.714000</td>\n",
       "      <td>17.888750</td>\n",
       "      <td>2.300000</td>\n",
       "      <td>147.500000</td>\n",
       "      <td>102.900000</td>\n",
       "      <td>68.375000</td>\n",
       "      <td>177.475000</td>\n",
       "      <td>2.964750</td>\n",
       "      <td>15.775000</td>\n",
       "      <td>21.000000</td>\n",
       "      <td>59.755537</td>\n",
       "    </tr>\n",
       "    <tr>\n",
       "      <th>50%</th>\n",
       "      <td>29.213000</td>\n",
       "      <td>22.747000</td>\n",
       "      <td>3.000000</td>\n",
       "      <td>175.000000</td>\n",
       "      <td>107.000000</td>\n",
       "      <td>70.400000</td>\n",
       "      <td>186.650000</td>\n",
       "      <td>3.336000</td>\n",
       "      <td>17.200000</td>\n",
       "      <td>24.000000</td>\n",
       "      <td>71.514623</td>\n",
       "    </tr>\n",
       "    <tr>\n",
       "      <th>75%</th>\n",
       "      <td>68.069750</td>\n",
       "      <td>31.938750</td>\n",
       "      <td>3.575000</td>\n",
       "      <td>211.250000</td>\n",
       "      <td>112.200000</td>\n",
       "      <td>73.100000</td>\n",
       "      <td>195.125000</td>\n",
       "      <td>3.821500</td>\n",
       "      <td>19.800000</td>\n",
       "      <td>26.000000</td>\n",
       "      <td>89.408406</td>\n",
       "    </tr>\n",
       "    <tr>\n",
       "      <th>max</th>\n",
       "      <td>540.561000</td>\n",
       "      <td>85.500000</td>\n",
       "      <td>8.000000</td>\n",
       "      <td>450.000000</td>\n",
       "      <td>138.700000</td>\n",
       "      <td>79.900000</td>\n",
       "      <td>224.500000</td>\n",
       "      <td>5.572000</td>\n",
       "      <td>32.000000</td>\n",
       "      <td>45.000000</td>\n",
       "      <td>188.144323</td>\n",
       "    </tr>\n",
       "  </tbody>\n",
       "</table>\n",
       "</div>"
      ],
      "text/plain": [
       "       Sales_in_thousands  Price_in_thousands  Engine_size  Horsepower  \\\n",
       "count          152.000000          152.000000   152.000000  152.000000   \n",
       "mean            53.359072           27.331822     3.049342  184.809211   \n",
       "std             68.938380           14.418669     1.049818   56.823152   \n",
       "min              0.110000            9.235000     1.000000   55.000000   \n",
       "25%             13.714000           17.888750     2.300000  147.500000   \n",
       "50%             29.213000           22.747000     3.000000  175.000000   \n",
       "75%             68.069750           31.938750     3.575000  211.250000   \n",
       "max            540.561000           85.500000     8.000000  450.000000   \n",
       "\n",
       "        Wheelbase       Width      Length  Curb_weight  Fuel_capacity  \\\n",
       "count  152.000000  152.000000  152.000000   152.000000     152.000000   \n",
       "mean   107.413816   71.088816  187.059211     3.376184      17.959211   \n",
       "std      7.717839    3.464666   13.471247     0.636593       3.937582   \n",
       "min     92.600000   62.600000  149.400000     1.895000      10.300000   \n",
       "25%    102.900000   68.375000  177.475000     2.964750      15.775000   \n",
       "50%    107.000000   70.400000  186.650000     3.336000      17.200000   \n",
       "75%    112.200000   73.100000  195.125000     3.821500      19.800000   \n",
       "max    138.700000   79.900000  224.500000     5.572000      32.000000   \n",
       "\n",
       "       Fuel_efficiency  Power_perf_factor  \n",
       "count       152.000000         152.000000  \n",
       "mean         23.842105          76.704153  \n",
       "std           4.304788          25.180983  \n",
       "min          15.000000          23.276272  \n",
       "25%          21.000000          59.755537  \n",
       "50%          24.000000          71.514623  \n",
       "75%          26.000000          89.408406  \n",
       "max          45.000000         188.144323  "
      ]
     },
     "execution_count": 78,
     "metadata": {},
     "output_type": "execute_result"
    }
   ],
   "source": [
    "# total, avg, max ,min , percentile, median , \n",
    "# distributions, outliers,\n",
    "df.describe()"
   ]
  },
  {
   "cell_type": "code",
   "execution_count": 82,
   "metadata": {},
   "outputs": [
    {
     "data": {
      "image/png": "[encoded data removed]",
      "text/plain": [
       "<Figure size 500x300 with 1 Axes>"
      ]
     },
     "metadata": {},
     "output_type": "display_data"
    }
   ],
   "source": [
    "plt.figure(figsize=(5,3))\n",
    "sns.histplot(x=df[\"Sales_in_thousands\"] ,kde=True)\n",
    "plt.show()"
   ]
  },
  {
   "cell_type": "code",
   "execution_count": 84,
   "metadata": {},
   "outputs": [
    {
     "data": {
      "image/png": "[encoded data removed]",
      "text/plain": [
       "<Figure size 500x300 with 1 Axes>"
      ]
     },
     "metadata": {},
     "output_type": "display_data"
    }
   ],
   "source": [
    "# outliers\n",
    "plt.figure(figsize=(5,3))\n",
    "sns.boxplot(x=df[\"Sales_in_thousands\"])\n",
    "plt.show()"
   ]
  },
  {
   "cell_type": "code",
   "execution_count": 87,
   "metadata": {},
   "outputs": [],
   "source": [
    "q1 = df[\"Sales_in_thousands\"].quantile(.25)\n",
    "q3 = df[\"Sales_in_thousands\"].quantile(.75)"
   ]
  },
  {
   "cell_type": "code",
   "execution_count": 88,
   "metadata": {},
   "outputs": [
    {
     "data": {
      "text/plain": [
       "np.float64(54.35575)"
      ]
     },
     "execution_count": 88,
     "metadata": {},
     "output_type": "execute_result"
    }
   ],
   "source": [
    "iqr = q3-q1\n",
    "iqr"
   ]
  },
  {
   "cell_type": "code",
   "execution_count": 121,
   "metadata": {},
   "outputs": [],
   "source": [
    "lower_fench = q1 - .05*iqr\n",
    "upper_fench = q3 + 5*iqr"
   ]
  },
  {
   "cell_type": "code",
   "execution_count": 122,
   "metadata": {},
   "outputs": [
    {
     "data": {
      "text/plain": [
       "np.float64(10.9962125)"
      ]
     },
     "execution_count": 122,
     "metadata": {},
     "output_type": "execute_result"
    }
   ],
   "source": [
    "lower_fench"
   ]
  },
  {
   "cell_type": "code",
   "execution_count": 123,
   "metadata": {},
   "outputs": [
    {
     "data": {
      "text/plain": [
       "np.float64(339.8485)"
      ]
     },
     "execution_count": 123,
     "metadata": {},
     "output_type": "execute_result"
    }
   ],
   "source": [
    "upper_fench"
   ]
  },
  {
   "cell_type": "code",
   "execution_count": null,
   "metadata": {},
   "outputs": [],
   "source": []
  },
  {
   "cell_type": "code",
   "execution_count": 139,
   "metadata": {},
   "outputs": [
    {
     "data": {
      "text/plain": [
       "0      21.50\n",
       "1      28.40\n",
       "3      42.00\n",
       "4      23.99\n",
       "5      33.95\n",
       "       ...  \n",
       "152    24.40\n",
       "153    27.50\n",
       "154    28.80\n",
       "155    45.50\n",
       "156    36.00\n",
       "Name: Price_in_thousands, Length: 152, dtype: float64"
      ]
     },
     "execution_count": 139,
     "metadata": {},
     "output_type": "execute_result"
    }
   ],
   "source": [
    "df[\"Price_in_thousands\"][df[\"Price_in_thousands\"]< upper_fench]"
   ]
  },
  {
   "cell_type": "code",
   "execution_count": null,
   "metadata": {},
   "outputs": [],
   "source": [
    "df[\"Sales_in_thousands\"][(df[\"Sales_in_thousands\"]> lower_fench) & (df[\"Sales_in_thousands\"]<upper_fench)]"
   ]
  },
  {
   "cell_type": "code",
   "execution_count": 140,
   "metadata": {},
   "outputs": [],
   "source": [
    "df[\"clean_price\"] = df[\"Sales_in_thousands\"][(df[\"Sales_in_thousands\"]> lower_fench) & (df[\"Sales_in_thousands\"]<upper_fench)]"
   ]
  },
  {
   "cell_type": "code",
   "execution_count": 141,
   "metadata": {},
   "outputs": [
    {
     "data": {
      "text/plain": [
       "<Axes: xlabel='clean_price'>"
      ]
     },
     "execution_count": 141,
     "metadata": {},
     "output_type": "execute_result"
    },
    {
     "data": {
      "image/png": "[encoded data removed]",
      "text/plain": [
       "<Figure size 640x480 with 1 Axes>"
      ]
     },
     "metadata": {},
     "output_type": "display_data"
    }
   ],
   "source": [
    "sns.boxplot(x=df[\"clean_price\"])"
   ]
  },
  {
   "cell_type": "code",
   "execution_count": null,
   "metadata": {},
   "outputs": [],
   "source": []
  }
 ],
 "metadata": {
  "kernelspec": {
   "display_name": "base",
   "language": "python",
   "name": "python3"
  },
  "language_info": {
   "codemirror_mode": {
    "name": "ipython",
    "version": 3
   },
   "file_extension": ".py",
   "mimetype": "text/x-python",
   "name": "python",
   "nbconvert_exporter": "python",
   "pygments_lexer": "ipython3",
   "version": "3.11.9"
  }
 },
 "nbformat": 4,
 "nbformat_minor": 2
}
