{
 "cells": [
  {
   "cell_type": "code",
   "execution_count": 5,
   "metadata": {},
   "outputs": [],
   "source": [
    "#  file handling\n",
    "data = open(\"demo.txt\",'r')\n",
    "\n"
   ]
  },
  {
   "cell_type": "code",
   "execution_count": 10,
   "metadata": {},
   "outputs": [
    {
     "data": {
      "text/plain": [
       "'today we learn file hendling.'"
      ]
     },
     "execution_count": 10,
     "metadata": {},
     "output_type": "execute_result"
    }
   ],
   "source": [
    "data.readline()\n",
    "data.seek(0)\n",
    "data.readline()"
   ]
  },
  {
   "cell_type": "code",
   "execution_count": 11,
   "metadata": {},
   "outputs": [],
   "source": [
    "data.close()"
   ]
  },
  {
   "cell_type": "code",
   "execution_count": 13,
   "metadata": {},
   "outputs": [
    {
     "data": {
      "text/plain": [
       "'Hello, world!'"
      ]
     },
     "execution_count": 13,
     "metadata": {},
     "output_type": "execute_result"
    }
   ],
   "source": [
    "f = open(\"demo.txt\",\"w+\")\n",
    "f.write(\"Hello, world!\")\n",
    "f.seek(0)\n",
    "f.read()"
   ]
  },
  {
   "cell_type": "code",
   "execution_count": 14,
   "metadata": {},
   "outputs": [
    {
     "data": {
      "text/plain": [
       "'today we learn file hendling.Hello, world!'"
      ]
     },
     "execution_count": 14,
     "metadata": {},
     "output_type": "execute_result"
    }
   ],
   "source": [
    "f = open(\"demo.txt\",\"a+\")\n",
    "f.write(\"Hello, world!\")\n",
    "f.seek(0)\n",
    "f.read()"
   ]
  },
  {
   "cell_type": "code",
   "execution_count": null,
   "metadata": {},
   "outputs": [],
   "source": []
  },
  {
   "cell_type": "code",
   "execution_count": 22,
   "metadata": {},
   "outputs": [
    {
     "name": "stdout",
     "output_type": "stream",
     "text": [
      "today we learn file hendling.Hello, world! new line add  new line add  new line add  new line add  new line add  new line add \n"
     ]
    }
   ],
   "source": [
    "with open(\"demo.txt\",\"a+\") as file:\n",
    "    file.write(\" new line add \") \n",
    "    file.seek(0)\n",
    "    print(file.read())\n"
   ]
  },
  {
   "cell_type": "code",
   "execution_count": null,
   "metadata": {},
   "outputs": [
    {
     "name": "stdout",
     "output_type": "stream",
     "text": [
      "You are eligible to apply for voter id.\n",
      "he/she can vote now\n"
     ]
    }
   ],
   "source": [
    "# user input\n",
    "# write a program to check age is greater than 18 so that he can apply for a voter id\n",
    "# and if he/she is name in voterlist then he is eligible for vote. \n",
    "\n",
    "voter_names_list = [\"raj\",\"deep\",\"kumar\", \"dev\"]\n",
    "\n",
    "age = int(input(\"Enter your age: \"))\n",
    "name = input(\"Enter your name: \")\n",
    "\n",
    "if age >= 18:\n",
    "    print(\"You are eligible \")\n",
    "\n",
    "    if name in voter_names_list:\n",
    "        print(\"he/she can vote now\")\n",
    "    \n",
    "else:\n",
    "    print(\"not eligible\")"
   ]
  },
  {
   "cell_type": "code",
   "execution_count": null,
   "metadata": {},
   "outputs": [
    {
     "name": "stdout",
     "output_type": "stream",
     "text": [
      "You are eligible \n",
      "he/she can vote now\n"
     ]
    }
   ],
   "source": [
    "voter_names_list = [\"raj\",\"deep\",\"kumar\", \"dev\"]\n",
    "\n",
    "age = int(input(\"Enter your age: \"))\n",
    "name = input(\"Enter your name: \")\n",
    "if age >= 18:\n",
    "    print(\"You are eligible \")\n",
    "\n",
    "    for n in voter_names_list:\n",
    "        if n==name:\n",
    "            print(\"he/she can vote now\")\n",
    "else:\n",
    "    print(\"not eligible\")"
   ]
  },
  {
   "cell_type": "code",
   "execution_count": null,
   "metadata": {},
   "outputs": [],
   "source": [
    "# take input from user calculate the simple interest on the amount given.\n",
    "amt =2000\n",
    "rate =3\n",
    "time =2\n",
    "\n"
   ]
  },
  {
   "cell_type": "code",
   "execution_count": 8,
   "metadata": {},
   "outputs": [
    {
     "data": {
      "text/plain": [
       "['raj', 'deep', 'kumar', 'dev', 'shahil']"
      ]
     },
     "execution_count": 8,
     "metadata": {},
     "output_type": "execute_result"
    }
   ],
   "source": [
    "voter_names_list.append(\"shahil\")\n",
    "voter_names_list"
   ]
  },
  {
   "cell_type": "code",
   "execution_count": 5,
   "metadata": {},
   "outputs": [],
   "source": [
    "# find the the even number from 1 to 100:\n",
    "# using for loop\n",
    "even_list =[]\n",
    "for i in range(1, 101):\n",
    "\n",
    "    if i % 2 == 0:\n",
    "        # print(i)\n",
    "        even_list.append(i)\n"
   ]
  },
  {
   "cell_type": "code",
   "execution_count": 10,
   "metadata": {},
   "outputs": [
    {
     "name": "stdout",
     "output_type": "stream",
     "text": [
      "50 [2, 4, 6, 8, 10, 12, 14, 16, 18, 20, 22, 24, 26, 28, 30, 32, 34, 36, 38, 40, 42, 44, 46, 48, 50, 52, 54, 56, 58, 60, 62, 64, 66, 68, 70, 72, 74, 76, 78, 80, 82, 84, 86, 88, 90, 92, 94, 96, 98, 100]\n"
     ]
    }
   ],
   "source": [
    "print(len(even_list),even_list)"
   ]
  },
  {
   "cell_type": "code",
   "execution_count": null,
   "metadata": {},
   "outputs": [
    {
     "name": "stdout",
     "output_type": "stream",
     "text": [
      "yes\n"
     ]
    }
   ],
   "source": [
    "# while \n",
    "# check conditions in loop \n",
    "name = \"raj\"\n",
    "\n",
    "if name==\"raj\":\n",
    "    print(\"yes\")"
   ]
  },
  {
   "cell_type": "code",
   "execution_count": 1,
   "metadata": {},
   "outputs": [
    {
     "name": "stdout",
     "output_type": "stream",
     "text": [
      "yes\n",
      "yes\n",
      "yes\n",
      "yes\n"
     ]
    }
   ],
   "source": [
    "name = \"raj\"\n",
    "\n",
    "while name==\"raj\":\n",
    "    name = input(\"enter your name:\")\n",
    "    print(\"yes\")"
   ]
  },
  {
   "cell_type": "code",
   "execution_count": 5,
   "metadata": {},
   "outputs": [
    {
     "name": "stdout",
     "output_type": "stream",
     "text": [
      "i  1\n",
      "i+1  2\n"
     ]
    }
   ],
   "source": [
    "i =1\n",
    "print(\"i \",i)\n",
    "\n",
    "i =i+1\n",
    "print(\"i+1 \",i)"
   ]
  },
  {
   "cell_type": "code",
   "execution_count": 6,
   "metadata": {},
   "outputs": [
    {
     "data": {
      "text/plain": [
       "2"
      ]
     },
     "execution_count": 6,
     "metadata": {},
     "output_type": "execute_result"
    }
   ],
   "source": [
    "i"
   ]
  },
  {
   "cell_type": "code",
   "execution_count": null,
   "metadata": {},
   "outputs": [],
   "source": [
    "# find the the even number from 1 to 100: # using while loop\n",
    "odd_list =[]\n",
    "i = 1\n",
    "while i <= 10:\n",
    "\n",
    "    if i%2!=0:\n",
    "        odd_list.append(i)\n",
    "   \n",
    "    i = i+1"
   ]
  },
  {
   "cell_type": "code",
   "execution_count": 11,
   "metadata": {},
   "outputs": [
    {
     "data": {
      "text/plain": [
       "'4343'"
      ]
     },
     "execution_count": 11,
     "metadata": {},
     "output_type": "execute_result"
    }
   ],
   "source": [
    "input()"
   ]
  },
  {
   "cell_type": "code",
   "execution_count": null,
   "metadata": {},
   "outputs": [],
   "source": [
    "# Print numbers until the user enters 0\n",
    "number =input(\"enter the number:\")\n",
    "\n",
    "while number!=\"0\":\n",
    "    number = input(\"enter the number:\")\n",
    "    print(number)"
   ]
  },
  {
   "cell_type": "code",
   "execution_count": 6,
   "metadata": {},
   "outputs": [
    {
     "name": "stdout",
     "output_type": "stream",
     "text": [
      "45\n",
      "0\n"
     ]
    }
   ],
   "source": [
    "# Print numbers until the user enters 0\n",
    "number =3\n",
    "\n",
    "while number!=0:\n",
    "    number = int(input(\"enter the number:\"))\n",
    "    print(number)"
   ]
  },
  {
   "cell_type": "code",
   "execution_count": null,
   "metadata": {},
   "outputs": [
    {
     "ename": "NameError",
     "evalue": "name 'voter_names_list' is not defined",
     "output_type": "error",
     "traceback": [
      "\u001b[1;31m---------------------------------------------------------------------------\u001b[0m",
      "\u001b[1;31mNameError\u001b[0m                                 Traceback (most recent call last)",
      "Cell \u001b[1;32mIn[7], line 1\u001b[0m\n\u001b[1;32m----> 1\u001b[0m \u001b[38;5;28mlen\u001b[39m(voter_names_list)\n",
      "\u001b[1;31mNameError\u001b[0m: name 'voter_names_list' is not defined"
     ]
    }
   ],
   "source": []
  },
  {
   "cell_type": "code",
   "execution_count": null,
   "metadata": {},
   "outputs": [
    {
     "name": "stdout",
     "output_type": "stream",
     "text": [
      "You are eligible \n",
      "he/she can vote now\n"
     ]
    }
   ],
   "source": [
    "0\n",
    "\n",
    "voter_names_list = [\"raj\",\"deep\",\"kumar\", \"dev\"]\n",
    "age = int(input(\"Enter your age: \"))\n",
    "name = input(\"Enter your name: \")\n",
    "if age >= 18:\n",
    "    print(\"You are eligible \")\n",
    "    \n",
    "    n = 0\n",
    "    while(n<4):\n",
    "        if name== voter_names_list[n]:\n",
    "            print(\"he/she can vote now\")\n",
    "\n",
    "        n=n+1\n",
    "else:\n",
    "    print(\"not eligible\")"
   ]
  },
  {
   "cell_type": "code",
   "execution_count": 12,
   "metadata": {},
   "outputs": [
    {
     "data": {
      "text/plain": [
       "4"
      ]
     },
     "execution_count": 12,
     "metadata": {},
     "output_type": "execute_result"
    }
   ],
   "source": [
    "len(voter_names_list)"
   ]
  },
  {
   "cell_type": "code",
   "execution_count": null,
   "metadata": {},
   "outputs": [],
   "source": [
    "# Exercise 9: Display numbers from -10 to -1 using for loop"
   ]
  },
  {
   "cell_type": "code",
   "execution_count": null,
   "metadata": {},
   "outputs": [],
   "source": [
    "# Exercise 1: Print first 10 natural numbers using while loop\n",
    "\n",
    "# Exercise 3: Calculate sum of all numbers from 1 to a given number\n",
    "# Exercise 4: Print multiplication table of a given number\n",
    "# Exercise 5: Display numbers from a list using a loop\n",
    "# Exercise 6: Count the total number of digits in a number"
   ]
  },
  {
   "cell_type": "code",
   "execution_count": null,
   "metadata": {},
   "outputs": [],
   "source": [
    "# Exercise 3: Calculate sum of all numbers from 1 to a given number\n",
    "number = int(input(\"Enter the nth number: \"))\n",
    "i =1\n",
    "sum = 0\n",
    "while(i <= number):\n",
    "    print(sum,i)\n",
    "    sum = sum + i\n",
    "    \n",
    "    i = i + 1\n",
    "\n",
    "print(f\"sum of 1 to {number} natural numbers is {sum}\") "
   ]
  },
  {
   "cell_type": "code",
   "execution_count": 10,
   "metadata": {},
   "outputs": [
    {
     "name": "stdout",
     "output_type": "stream",
     "text": [
      "0 1\n",
      "1 2\n",
      "3 3\n",
      "6 4\n",
      "break the loop when the sum is 10\n",
      "sum of 1 to 343 natural numbers sum is 10\n"
     ]
    }
   ],
   "source": [
    "# break the loop when the sum is 10 \n",
    "number = int(input(\"Enter the nth number: \"))\n",
    "i =1\n",
    "sum = 0\n",
    "while(i <= number):\n",
    "    print(sum,i)\n",
    "    sum = sum + i\n",
    "    i = i + 1\n",
    "\n",
    "    if sum == 10:\n",
    "        print(\"break the loop when the sum is 10\")\n",
    "        break\n",
    "\n",
    "print(f\"sum of 1 to {number} natural numbers sum is {sum}\") "
   ]
  },
  {
   "cell_type": "code",
   "execution_count": null,
   "metadata": {},
   "outputs": [
    {
     "name": "stdout",
     "output_type": "stream",
     "text": [
      "3\n",
      "565 this is the number \n"
     ]
    }
   ],
   "source": [
    "a=int(input(\"give your number\"))\n",
    "b=str(a)\n",
    "print(len(b))\n",
    "print(f\"{a} this is the number \")\n"
   ]
  },
  {
   "cell_type": "code",
   "execution_count": null,
   "metadata": {},
   "outputs": [],
   "source": [
    "#  calucate the area of the rectangle\n",
    "# calucate the area of the circle\n",
    "#  Reverse a integer number  123 --> 321\n",
    "#  calculate the sum of the digits of a number 123 --> 1+2+3\n",
    "#  Check if the first and last numbers of a list are the same  [34,3,232,12,12,34]"
   ]
  },
  {
   "cell_type": "code",
   "execution_count": 11,
   "metadata": {},
   "outputs": [
    {
     "name": "stdout",
     "output_type": "stream",
     "text": [
      "a\n",
      "j\n",
      "a\n",
      "y\n"
     ]
    }
   ],
   "source": [
    "num =123\n",
    "name= \"ajay\"\n",
    "for i in name:\n",
    "    print(i)\n"
   ]
  },
  {
   "cell_type": "code",
   "execution_count": null,
   "metadata": {},
   "outputs": [
    {
     "name": "stdout",
     "output_type": "stream",
     "text": [
      "0 1\n",
      "1 2\n",
      "3 3\n",
      "6 4\n"
     ]
    },
    {
     "data": {
      "text/plain": [
       "10"
      ]
     },
     "execution_count": 16,
     "metadata": {},
     "output_type": "execute_result"
    }
   ],
   "source": [
    "sum = 0\n",
    "num =1234\n",
    "for i in str(num):\n",
    "    print(sum,i)\n",
    "    sum = sum + int(i)\n",
    "\n",
    "sum\n"
   ]
  },
  {
   "cell_type": "code",
   "execution_count": 18,
   "metadata": {},
   "outputs": [
    {
     "data": {
      "text/plain": [
       "'4321'"
      ]
     },
     "execution_count": 18,
     "metadata": {},
     "output_type": "execute_result"
    }
   ],
   "source": [
    "str(num)[::-1]"
   ]
  },
  {
   "cell_type": "code",
   "execution_count": 14,
   "metadata": {},
   "outputs": [
    {
     "name": "stdout",
     "output_type": "stream",
     "text": [
      "23\n",
      "454\n",
      "232\n",
      "45\n",
      "23\n"
     ]
    }
   ],
   "source": [
    "f=[23,454,232,45,23]\n",
    "\n",
    "for temp in f:\n",
    "    print(temp)"
   ]
  },
  {
   "cell_type": "code",
   "execution_count": 27,
   "metadata": {},
   "outputs": [
    {
     "name": "stdout",
     "output_type": "stream",
     "text": [
      "1\n",
      "HI \n",
      "2\n",
      "HI \n",
      "3\n",
      "HI \n",
      "4\n",
      "HI \n"
     ]
    }
   ],
   "source": [
    "for i in range(1,10):\n",
    "    \n",
    "    if i == 5:\n",
    "        break\n",
    "\n",
    "    print(i)\n",
    "    print(\"HI \")\n",
    "    "
   ]
  },
  {
   "cell_type": "code",
   "execution_count": null,
   "metadata": {},
   "outputs": [],
   "source": [
    "for i in range(1,10):\n",
    "    \n",
    "    if i == 5:\n",
    "        continue\n",
    "\n",
    "    print(i)\n",
    "    print(\"HI \")\n",
    "    "
   ]
  },
  {
   "cell_type": "code",
   "execution_count": 28,
   "metadata": {},
   "outputs": [
    {
     "name": "stdout",
     "output_type": "stream",
     "text": [
      "1\n",
      "HI \n",
      "2\n",
      "HI \n",
      "3\n",
      "HI \n",
      "4\n",
      "HI \n",
      "6\n",
      "HI \n",
      "7\n",
      "HI \n",
      "8\n",
      "HI \n",
      "9\n",
      "HI \n"
     ]
    }
   ],
   "source": [
    "for i in range(1,10):\n",
    "    \n",
    "    if i == 5:\n",
    "        continue\n",
    "\n",
    "    print(i)\n",
    "    print(\"HI \")\n",
    "    "
   ]
  },
  {
   "cell_type": "code",
   "execution_count": null,
   "metadata": {},
   "outputs": [],
   "source": [
    "\n",
    "def functions_name():\n",
    "    for i in range(1,10):\n",
    "        \n",
    "        if i == 5:\n",
    "            continue\n",
    "\n",
    "        print(i)\n",
    "        print(\"HI \")\n"
   ]
  },
  {
   "cell_type": "code",
   "execution_count": 33,
   "metadata": {},
   "outputs": [
    {
     "name": "stdout",
     "output_type": "stream",
     "text": [
      "1\n",
      "HI \n",
      "2\n",
      "HI \n",
      "3\n",
      "HI \n",
      "4\n",
      "HI \n",
      "6\n",
      "HI \n",
      "7\n",
      "HI \n",
      "8\n",
      "HI \n",
      "9\n",
      "HI \n"
     ]
    }
   ],
   "source": [
    "functions_name()"
   ]
  },
  {
   "cell_type": "code",
   "execution_count": 34,
   "metadata": {},
   "outputs": [
    {
     "name": "stdout",
     "output_type": "stream",
     "text": [
      "area of rectangular 50\n"
     ]
    }
   ],
   "source": [
    "h = 5\n",
    "w = 10\n",
    "\n",
    "print(f\"area of rectangular {h*w}\")"
   ]
  },
  {
   "cell_type": "code",
   "execution_count": null,
   "metadata": {},
   "outputs": [],
   "source": [
    "def are_of_rectangular():\n",
    "    h = 5\n",
    "    w = 10\n",
    "\n",
    "    print(f\"area of rectangular {h*w}\")"
   ]
  },
  {
   "cell_type": "code",
   "execution_count": 36,
   "metadata": {},
   "outputs": [
    {
     "name": "stdout",
     "output_type": "stream",
     "text": [
      "area of rectangular 50\n"
     ]
    }
   ],
   "source": [
    "are_of_rectangular()"
   ]
  },
  {
   "cell_type": "code",
   "execution_count": 37,
   "metadata": {},
   "outputs": [],
   "source": [
    "def are_of_rectangular():\n",
    "    h = int(input(\"enter height\"))\n",
    "    w = int(input(\"enter wedith\"))\n",
    "\n",
    "    print(f\"area of rectangular {h*w}\")"
   ]
  },
  {
   "cell_type": "code",
   "execution_count": 38,
   "metadata": {},
   "outputs": [
    {
     "name": "stdout",
     "output_type": "stream",
     "text": [
      "area of rectangular 400\n"
     ]
    }
   ],
   "source": [
    "are_of_rectangular()"
   ]
  },
  {
   "cell_type": "code",
   "execution_count": 40,
   "metadata": {},
   "outputs": [],
   "source": [
    "def are_of_rectangular(h,w):\n",
    "    print(f\"area of rectangular {h*w}\")"
   ]
  },
  {
   "cell_type": "code",
   "execution_count": 41,
   "metadata": {},
   "outputs": [
    {
     "name": "stdout",
     "output_type": "stream",
     "text": [
      "area of rectangular 200\n"
     ]
    }
   ],
   "source": [
    "are_of_rectangular(20,10)"
   ]
  },
  {
   "cell_type": "code",
   "execution_count": null,
   "metadata": {},
   "outputs": [],
   "source": [
    "# print the pattern \n",
    "Q1\n",
    "1\n",
    "2 2\n",
    "3 3 3\n",
    "4 4 4 4\n",
    "5 5 5 5 5\n",
    "\n",
    "Q2\n",
    "*\n",
    "* *\n",
    "* * *\n",
    "* * * *\n",
    "* * * * *"
   ]
  },
  {
   "cell_type": "code",
   "execution_count": 14,
   "metadata": {},
   "outputs": [
    {
     "name": "stdout",
     "output_type": "stream",
     "text": [
      "1 \n",
      "2 2 \n",
      "3 3 3 \n",
      "4 4 4 4 \n",
      "5 5 5 5 5 \n"
     ]
    }
   ],
   "source": [
    "n =5\n",
    "for i in range(1,n+1):\n",
    "    for j in range(1,i+1):\n",
    "        print(i,end= \" \")\n",
    "\n",
    "    print()"
   ]
  },
  {
   "cell_type": "code",
   "execution_count": 15,
   "metadata": {},
   "outputs": [
    {
     "name": "stdout",
     "output_type": "stream",
     "text": [
      "* \n",
      "* * \n",
      "* * * \n",
      "* * * * \n",
      "* * * * * \n"
     ]
    }
   ],
   "source": [
    "n =5\n",
    "for i in range(1,n+1):\n",
    "    for j in range(1,i+1):\n",
    "        print(\"*\",end= \" \")\n",
    "\n",
    "    print()"
   ]
  },
  {
   "cell_type": "code",
   "execution_count": 17,
   "metadata": {},
   "outputs": [
    {
     "name": "stdout",
     "output_type": "stream",
     "text": [
      "* \n",
      "* * \n",
      "* * * \n",
      "* * * * \n",
      "* * * * * \n"
     ]
    }
   ],
   "source": [
    "n =5\n",
    "for i in range(1,n+1):\n",
    "    print(i*\"* \")"
   ]
  },
  {
   "cell_type": "code",
   "execution_count": 20,
   "metadata": {},
   "outputs": [
    {
     "name": "stdout",
     "output_type": "stream",
     "text": [
      "1 \n",
      "1 2 \n",
      "1 2 3 \n",
      "1 2 3 4 \n",
      "1 2 3 4 5 \n"
     ]
    }
   ],
   "source": [
    "n =5\n",
    "for i in range(1,n+1):\n",
    "    for j in range(1,i+1):\n",
    "        print(j,end= \" \")\n",
    "\n",
    "    print()"
   ]
  },
  {
   "cell_type": "code",
   "execution_count": null,
   "metadata": {},
   "outputs": [],
   "source": [
    "def pattern(n):\n",
    "    \n",
    "    for i in range(1,n+1):\n",
    "        for j in range(1,i+1):\n",
    "            print(j,end= \" \")\n",
    "\n",
    "        print()"
   ]
  },
  {
   "cell_type": "code",
   "execution_count": null,
   "metadata": {},
   "outputs": [],
   "source": [
    "pattern(5)"
   ]
  },
  {
   "cell_type": "code",
   "execution_count": null,
   "metadata": {},
   "outputs": [],
   "source": [
    "pattern(10)"
   ]
  },
  {
   "cell_type": "code",
   "execution_count": null,
   "metadata": {},
   "outputs": [],
   "source": [
    "# Define parameters \n",
    "def pattern(n ,xyz):\n",
    "\n",
    "    for i in range(1,n+1):\n",
    "        for j in range(1,i+1):\n",
    "            print(xyz ,end= \" \")\n",
    "        print()"
   ]
  },
  {
   "cell_type": "code",
   "execution_count": 41,
   "metadata": {},
   "outputs": [
    {
     "name": "stdout",
     "output_type": "stream",
     "text": [
      "^ \n",
      "^ ^ \n",
      "^ ^ ^ \n",
      "^ ^ ^ ^ \n",
      "^ ^ ^ ^ ^ \n"
     ]
    }
   ],
   "source": [
    "pattern(5,\"^\")"
   ]
  },
  {
   "cell_type": "code",
   "execution_count": null,
   "metadata": {},
   "outputs": [],
   "source": [
    "pattern(10,\"^\")"
   ]
  },
  {
   "cell_type": "code",
   "execution_count": null,
   "metadata": {},
   "outputs": [],
   "source": [
    "# default Arguments\n",
    "def pattern(n=5 ,xyz=\"*\"):\n",
    "\n",
    "    for i in range(1,n+1):\n",
    "        for j in range(1,i+1):\n",
    "            print(xyz ,end= \" \")\n",
    "        print()"
   ]
  },
  {
   "cell_type": "code",
   "execution_count": 45,
   "metadata": {},
   "outputs": [
    {
     "name": "stdout",
     "output_type": "stream",
     "text": [
      "7 \n",
      "7 7 \n",
      "7 7 7 \n",
      "7 7 7 7 \n",
      "7 7 7 7 7 \n",
      "7 7 7 7 7 7 \n",
      "7 7 7 7 7 7 7 \n",
      "7 7 7 7 7 7 7 7 \n",
      "7 7 7 7 7 7 7 7 7 \n",
      "7 7 7 7 7 7 7 7 7 7 \n"
     ]
    }
   ],
   "source": [
    "pattern(10,\"7\")"
   ]
  },
  {
   "cell_type": "code",
   "execution_count": 46,
   "metadata": {},
   "outputs": [
    {
     "name": "stdout",
     "output_type": "stream",
     "text": [
      "* \n",
      "* * \n",
      "* * * \n",
      "* * * * \n",
      "* * * * * \n"
     ]
    }
   ],
   "source": [
    "pattern()"
   ]
  },
  {
   "cell_type": "code",
   "execution_count": 50,
   "metadata": {},
   "outputs": [
    {
     "name": "stdout",
     "output_type": "stream",
     "text": [
      "$ \n",
      "$ $ \n",
      "$ $ $ \n",
      "$ $ $ $ \n",
      "$ $ $ $ $ \n"
     ]
    }
   ],
   "source": [
    "pattern(xyz=\"$\")"
   ]
  },
  {
   "cell_type": "code",
   "execution_count": null,
   "metadata": {},
   "outputs": [],
   "source": [
    "# positional argunment \n",
    "pattern(7, \"*\")\n",
    "\n",
    "# pattern(\"$\",7)  --> error"
   ]
  },
  {
   "cell_type": "code",
   "execution_count": null,
   "metadata": {},
   "outputs": [],
   "source": [
    "# referntial argument\n",
    "pattern(xyz = \"&\", n =7)"
   ]
  },
  {
   "cell_type": "code",
   "execution_count": 61,
   "metadata": {},
   "outputs": [
    {
     "name": "stdout",
     "output_type": "stream",
     "text": [
      "5\n"
     ]
    }
   ],
   "source": [
    "# create a funtions to add 2 number  and using passing number as argument\n",
    "def addpr(num1, num2):\n",
    "\n",
    "    print(num1+num2)\n",
    "\n",
    "addpr(3,2)"
   ]
  },
  {
   "cell_type": "code",
   "execution_count": 63,
   "metadata": {},
   "outputs": [
    {
     "name": "stdout",
     "output_type": "stream",
     "text": [
      "7\n"
     ]
    }
   ],
   "source": [
    "a= addpr(3,4)"
   ]
  },
  {
   "cell_type": "code",
   "execution_count": 68,
   "metadata": {},
   "outputs": [],
   "source": [
    "a"
   ]
  },
  {
   "cell_type": "code",
   "execution_count": 65,
   "metadata": {},
   "outputs": [
    {
     "data": {
      "text/plain": [
       "5"
      ]
     },
     "execution_count": 65,
     "metadata": {},
     "output_type": "execute_result"
    }
   ],
   "source": [
    "def addre(num1, num2):\n",
    "\n",
    "    return num1+num2\n",
    "\n",
    "addre(3,2)"
   ]
  },
  {
   "cell_type": "code",
   "execution_count": 69,
   "metadata": {},
   "outputs": [],
   "source": [
    "b = addre(3,4)"
   ]
  },
  {
   "cell_type": "code",
   "execution_count": 70,
   "metadata": {},
   "outputs": [
    {
     "data": {
      "text/plain": [
       "7"
      ]
     },
     "execution_count": 70,
     "metadata": {},
     "output_type": "execute_result"
    }
   ],
   "source": [
    "b"
   ]
  },
  {
   "cell_type": "code",
   "execution_count": 71,
   "metadata": {},
   "outputs": [
    {
     "data": {
      "text/plain": [
       "7"
      ]
     },
     "execution_count": 71,
     "metadata": {},
     "output_type": "execute_result"
    }
   ],
   "source": [
    "b"
   ]
  },
  {
   "cell_type": "code",
   "execution_count": null,
   "metadata": {},
   "outputs": [],
   "source": [
    "# create the funtion of caluculte the area of the rectangle argument as height,width and using return\n",
    "def calculate_area(height, width):\n",
    "    area = height * width \n",
    "    return area\n",
    "\n",
    "# Example\n",
    "# 5,63 -->30\n",
    "# 10,50 -->50\n",
    "# diff area1 -area2 -->20 "
   ]
  },
  {
   "cell_type": "code",
   "execution_count": 79,
   "metadata": {},
   "outputs": [
    {
     "data": {
      "text/plain": [
       "315"
      ]
     },
     "execution_count": 79,
     "metadata": {},
     "output_type": "execute_result"
    }
   ],
   "source": [
    "area1 = calculate_area(5,63)\n",
    "area1"
   ]
  },
  {
   "cell_type": "code",
   "execution_count": 80,
   "metadata": {},
   "outputs": [
    {
     "data": {
      "text/plain": [
       "500"
      ]
     },
     "execution_count": 80,
     "metadata": {},
     "output_type": "execute_result"
    }
   ],
   "source": [
    "area2 = calculate_area(10,50)\n",
    "area2"
   ]
  },
  {
   "cell_type": "code",
   "execution_count": 81,
   "metadata": {},
   "outputs": [
    {
     "data": {
      "text/plain": [
       "185"
      ]
     },
     "execution_count": 81,
     "metadata": {},
     "output_type": "execute_result"
    }
   ],
   "source": [
    "area2-area1"
   ]
  },
  {
   "cell_type": "code",
   "execution_count": null,
   "metadata": {},
   "outputs": [],
   "source": [
    "# Arbitrary Arguments, *args, **kwargs\n",
    "\n",
    "# add 2 numbers \n",
    "def addre(*xyz):\n",
    "\n",
    "    return xyz[0]+xyz[1]"
   ]
  },
  {
   "cell_type": "code",
   "execution_count": 90,
   "metadata": {},
   "outputs": [
    {
     "data": {
      "text/plain": [
       "5"
      ]
     },
     "execution_count": 90,
     "metadata": {},
     "output_type": "execute_result"
    }
   ],
   "source": [
    "addre(3,2)"
   ]
  },
  {
   "cell_type": "code",
   "execution_count": 91,
   "metadata": {},
   "outputs": [
    {
     "data": {
      "text/plain": [
       "20"
      ]
     },
     "execution_count": 91,
     "metadata": {},
     "output_type": "execute_result"
    }
   ],
   "source": [
    "sum([2,3,4,5,6])"
   ]
  },
  {
   "cell_type": "code",
   "execution_count": 92,
   "metadata": {},
   "outputs": [],
   "source": [
    "# add n numbers \n",
    "def addre(*xyz):\n",
    "\n",
    "    return sum(xyz)"
   ]
  },
  {
   "cell_type": "code",
   "execution_count": 93,
   "metadata": {},
   "outputs": [
    {
     "data": {
      "text/plain": [
       "54"
      ]
     },
     "execution_count": 93,
     "metadata": {},
     "output_type": "execute_result"
    }
   ],
   "source": [
    "addre(4, 5, 6, 7, 7, 8, 8, 9)"
   ]
  },
  {
   "cell_type": "code",
   "execution_count": 95,
   "metadata": {},
   "outputs": [],
   "source": [
    "# 'Alice', 'Bob', 'Charlie', 'David'  \n",
    "# create a function to show the name of the person  which is pass in  the *args  arguments\n",
    "def names(*xyz):\n",
    "    return xyz"
   ]
  },
  {
   "cell_type": "code",
   "execution_count": 99,
   "metadata": {},
   "outputs": [
    {
     "name": "stdout",
     "output_type": "stream",
     "text": [
      "Alice\n",
      "Bob\n",
      "Charlie\n",
      "David\n"
     ]
    }
   ],
   "source": [
    "names('Alice', 'Bob', 'Charlie', 'David' )"
   ]
  },
  {
   "cell_type": "code",
   "execution_count": 100,
   "metadata": {},
   "outputs": [],
   "source": [
    "def names(*xyz):\n",
    "    for i in range(len(xyz)):\n",
    "        print(xyz[i])"
   ]
  },
  {
   "cell_type": "code",
   "execution_count": 101,
   "metadata": {},
   "outputs": [
    {
     "name": "stdout",
     "output_type": "stream",
     "text": [
      "Alice\n",
      "Bob\n",
      "Charlie\n",
      "David\n"
     ]
    }
   ],
   "source": [
    "names('Alice', 'Bob', 'Charlie', 'David' )"
   ]
  },
  {
   "cell_type": "code",
   "execution_count": null,
   "metadata": {},
   "outputs": [],
   "source": []
  }
 ],
 "metadata": {
  "kernelspec": {
   "display_name": "base",
   "language": "python",
   "name": "python3"
  },
  "language_info": {
   "codemirror_mode": {
    "name": "ipython",
    "version": 3
   },
   "file_extension": ".py",
   "mimetype": "text/x-python",
   "name": "python",
   "nbconvert_exporter": "python",
   "pygments_lexer": "ipython3",
   "version": "3.11.9"
  }
 },
 "nbformat": 4,
 "nbformat_minor": 2
}
