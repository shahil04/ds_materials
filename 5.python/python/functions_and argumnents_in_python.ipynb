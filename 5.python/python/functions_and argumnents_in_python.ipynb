{
 "cells": [
  {
   "cell_type": "markdown",
   "metadata": {},
   "source": [
    "# write a program a string is anagram or not \n"
   ]
  },
  {
   "cell_type": "code",
   "execution_count": null,
   "metadata": {},
   "outputs": [
    {
     "data": {
      "text/plain": [
       "['e', 'h', 'r', 't', 'y']"
      ]
     },
     "execution_count": 5,
     "metadata": {},
     "output_type": "execute_result"
    }
   ],
   "source": [
    "\n",
    "s1 = \"earth\"\n",
    "s2 = \"heart\"\n",
    "sorted(s1)"
   ]
  },
  {
   "cell_type": "code",
   "execution_count": null,
   "metadata": {},
   "outputs": [],
   "source": [
    "def sup():\n",
    "    a=input(\"give your name\")\n",
    "    b=input(\"give your 2name\")\n",
    "    n=list(a)\n",
    "    d=list(b)\n",
    "    for g in n:\n",
    "        if g in d :\n",
    "            a=1\n",
    "        else:\n",
    "            a=0\n",
    "    \n",
    "        if(a==1):\n",
    "            print(\"ts an anagram\")\n",
    "        else:\n",
    "            print(\"its not\")\n",
    "\n",
    "sup()"
   ]
  },
  {
   "cell_type": "code",
   "execution_count": 6,
   "metadata": {},
   "outputs": [
    {
     "data": {
      "text/plain": [
       "['a', 'e', 'h', 'r', 't']"
      ]
     },
     "execution_count": 6,
     "metadata": {},
     "output_type": "execute_result"
    }
   ],
   "source": [
    "sorted(s2)"
   ]
  },
  {
   "cell_type": "code",
   "execution_count": 1,
   "metadata": {},
   "outputs": [],
   "source": [
    "def anagram(s1, s2):\n",
    "    if len(s1)== len(s2):\n",
    "        if sorted(s1)==sorted(s2):\n",
    "            print( f\"{s1} is a anagram of {s2}\")\n",
    "        else:\n",
    "            print(\"not a anagram\")\n",
    "    else:\n",
    "        print(\"not anagram\")"
   ]
  },
  {
   "cell_type": "code",
   "execution_count": 2,
   "metadata": {},
   "outputs": [
    {
     "name": "stdout",
     "output_type": "stream",
     "text": [
      "earth is a anagram of heart\n"
     ]
    }
   ],
   "source": [
    "anagram(\"earth\", \"heart\")"
   ]
  },
  {
   "cell_type": "code",
   "execution_count": 3,
   "metadata": {},
   "outputs": [
    {
     "name": "stdout",
     "output_type": "stream",
     "text": [
      "120\n"
     ]
    }
   ],
   "source": [
    "n =5 \n",
    "fact = 1\n",
    "for i in range(1, n+1):\n",
    "    fact = fact* i\n",
    "\n",
    "print(fact)"
   ]
  },
  {
   "cell_type": "code",
   "execution_count": 4,
   "metadata": {},
   "outputs": [],
   "source": [
    "def factorial(n):\n",
    "    fact = 1\n",
    "    for i in range(1, n+1):\n",
    "        fact = fact* i\n",
    "    print(fact)"
   ]
  },
  {
   "cell_type": "code",
   "execution_count": 6,
   "metadata": {},
   "outputs": [],
   "source": [
    "obj = lambda a,b : a+b\n"
   ]
  },
  {
   "cell_type": "code",
   "execution_count": 7,
   "metadata": {},
   "outputs": [
    {
     "data": {
      "text/plain": [
       "30"
      ]
     },
     "execution_count": 7,
     "metadata": {},
     "output_type": "execute_result"
    }
   ],
   "source": [
    "obj(10,20)"
   ]
  },
  {
   "cell_type": "code",
   "execution_count": 8,
   "metadata": {},
   "outputs": [],
   "source": [
    "obj= lambda x: x**2"
   ]
  },
  {
   "cell_type": "code",
   "execution_count": 9,
   "metadata": {},
   "outputs": [
    {
     "data": {
      "text/plain": [
       "16"
      ]
     },
     "execution_count": 9,
     "metadata": {},
     "output_type": "execute_result"
    }
   ],
   "source": [
    "obj(4)"
   ]
  },
  {
   "cell_type": "code",
   "execution_count": 15,
   "metadata": {},
   "outputs": [],
   "source": [
    "# recursion \n",
    "def re(n = 4):\n",
    "    if n == 0:\n",
    "        \n",
    "        return 1\n",
    "    print(n)\n",
    "    \n",
    "    re(n-1)"
   ]
  },
  {
   "cell_type": "code",
   "execution_count": 16,
   "metadata": {},
   "outputs": [
    {
     "name": "stdout",
     "output_type": "stream",
     "text": [
      "4\n",
      "3\n",
      "2\n",
      "1\n"
     ]
    }
   ],
   "source": [
    "re()"
   ]
  },
  {
   "cell_type": "code",
   "execution_count": null,
   "metadata": {},
   "outputs": [],
   "source": [
    "# recursion \n",
    "def re(n = 4):\n",
    "    if n == 0:\n",
    "        return 1\n",
    "    print(n)\n",
    "    return re(n-1)"
   ]
  },
  {
   "cell_type": "code",
   "execution_count": 28,
   "metadata": {},
   "outputs": [
    {
     "name": "stdout",
     "output_type": "stream",
     "text": [
      "1\n",
      "None\n",
      "None\n",
      "None\n"
     ]
    }
   ],
   "source": [
    "re()"
   ]
  },
  {
   "cell_type": "code",
   "execution_count": null,
   "metadata": {},
   "outputs": [
    {
     "data": {
      "text/plain": [
       "120"
      ]
     },
     "execution_count": 31,
     "metadata": {},
     "output_type": "execute_result"
    }
   ],
   "source": [
    "def factorial(n):\n",
    "    fact = 1\n",
    "    if n == 1:\n",
    "        return fact\n",
    "    \n",
    "    return  n * factorial(n-1)\n",
    "\n",
    "factorial(5)\n",
    "\n",
    "# fabonacci serise\n"
   ]
  },
  {
   "cell_type": "code",
   "execution_count": 8,
   "metadata": {},
   "outputs": [],
   "source": [
    "# Write code Check if the given string is Palindrome or not\n",
    "\n",
    "# ex: 12321  \n",
    "# The idea is to find the reverse of the original number \n",
    "# and then compare the reversed number with the original number"
   ]
  },
  {
   "cell_type": "markdown",
   "metadata": {},
   "source": [
    "### **Function and Modules** (Oct 22, 2024)\n",
    "\n",
    "In Python, **functions** and **modules** are fundamental building blocks that allow for reusable, organized, and structured code. Here's a detailed explanation of key concepts:\n",
    "\n",
    "---\n",
    "\n",
    "### **Defining and Calling Functions**\n",
    "\n",
    "#### **Defining a Function**:\n",
    "A function is defined using the `def` keyword, followed by the function name and parentheses containing optional parameters. Functions help organize code, making it modular and reusable.\n",
    "\n",
    "```python\n",
    "def greet(name):\n",
    "    print(f\"Hello, {name}!\")\n",
    "```\n",
    "\n",
    "- `def` is the keyword used to define a function.\n",
    "- `greet` is the function name.\n",
    "- `name` is the function parameter.\n",
    "\n",
    "#### **Calling a Function**:\n",
    "To use a function, you simply call it by its name and provide any necessary arguments (if the function requires them).\n",
    "\n",
    "```python\n",
    "greet(\"Alice\")  # Output: Hello, Alice!\n",
    "```\n",
    "\n",
    "---\n",
    "\n",
    "### **Return Statement**\n",
    "\n",
    "The `return` statement is used to send a result back to the caller, terminating the function execution.\n",
    "\n",
    "```python\n",
    "def add(a, b):\n",
    "    return a + b\n",
    "\n",
    "result = add(3, 5)  # result will be 8\n",
    "```\n",
    "\n",
    "- The `return` statement passes the value back to the place where the function was called.\n",
    "- After `return`, the function execution stops.\n",
    "\n",
    "---\n",
    "\n",
    "### **Types of Arguments**\n",
    "\n",
    "#### **1. Default Arguments**:\n",
    "Default arguments are provided in the function definition and are used when no value is passed by the caller. If no value is provided, the default is used.\n",
    "\n",
    "```python\n",
    "def greet(name=\"Guest\"):\n",
    "    print(f\"Hello, {name}!\")\n",
    "\n",
    "greet()        # Output: Hello, Guest!\n",
    "greet(\"Bob\")   # Output: Hello, Bob!\n",
    "```\n",
    "\n",
    "- If the argument `name` is not provided, the function uses the default value `\"Guest\"`.\n",
    "\n",
    "#### **2. Variable Length Arguments**:\n",
    "Python allows you to pass a variable number of arguments to a function. These can be:\n",
    "- **Arbitrary positional arguments** (using `*args`)\n",
    "- **Arbitrary keyword arguments** (using `**kwargs`)\n",
    "\n",
    "```python\n",
    "def show_info(*args, **kwargs):\n",
    "    print(\"Positional arguments:\", args)\n",
    "    print(\"Keyword arguments:\", kwargs)\n",
    "\n",
    "show_info(1, 2, 3, name=\"Alice\", age=25)\n",
    "```\n",
    "\n",
    "Output:\n",
    "```bash\n",
    "Positional arguments: (1, 2, 3)\n",
    "Keyword arguments: {'name': 'Alice', 'age': 25}\n",
    "```\n",
    "\n",
    "- `*args` collects extra positional arguments into a tuple.\n",
    "- `**kwargs` collects extra keyword arguments into a dictionary.\n",
    "\n",
    "---\n",
    "\n",
    "### **Variable Scope - Global vs Local**\n",
    "\n",
    "In Python, **scope** refers to the region in which a variable is recognized. There are two main types:\n",
    "\n",
    "#### **Local Scope**:\n",
    "A variable is considered **local** if it is defined inside a function. It is accessible only within that function.\n",
    "\n",
    "```python\n",
    "def my_function():\n",
    "    x = 10  # x is local to my_function\n",
    "    print(x)\n",
    "\n",
    "my_function()  # Output: 10\n",
    "print(x)  # Error: x is not defined outside the function\n",
    "```\n",
    "\n",
    "#### **Global Scope**:\n",
    "A variable is considered **global** if it is defined outside any function and is accessible throughout the code.\n",
    "\n",
    "```python\n",
    "x = 20  # x is global\n",
    "\n",
    "def my_function():\n",
    "    print(x)  # Accesses the global variable x\n",
    "\n",
    "my_function()  # Output: 20\n",
    "print(x)  # Output: 20\n",
    "```\n",
    "\n",
    "#### **Modifying Global Variables**:\n",
    "To modify a global variable inside a function, use the `global` keyword.\n",
    "\n",
    "```python\n",
    "x = 10\n",
    "\n",
    "def change_global():\n",
    "    global x\n",
    "    x = 20\n",
    "\n",
    "change_global()\n",
    "print(x)  # Output: 20\n",
    "```\n",
    "\n",
    "---\n",
    "\n",
    "### **Recursive Function**\n",
    "\n",
    "A recursive function is a function that calls itself to solve a problem. Recursion is useful for problems that can be broken down into smaller, similar sub-problems.\n",
    "\n",
    "#### Example - Factorial:\n",
    "The factorial of a number `n` (denoted `n!`) is the product of all positive integers less than or equal to `n`. It can be defined recursively as:\n",
    "\n",
    "\\[\n",
    "n! = n \\times (n-1)!\n",
    "\\]\n",
    "\n",
    "```python\n",
    "def factorial(n):\n",
    "    if n == 0:\n",
    "        return 1\n",
    "    else:\n",
    "        return n * factorial(n-1)\n",
    "\n",
    "print(factorial(5))  # Output: 120\n",
    "```\n",
    "\n",
    "- Base case: `factorial(0) = 1` (stops the recursion).\n",
    "- Recursive case: `factorial(n) = n * factorial(n-1)`.\n",
    "\n",
    "#### **Key Points**:\n",
    "- Every recursive function must have a base case to prevent infinite recursion.\n",
    "- Too many recursive calls can lead to a **stack overflow** (exceeding the maximum recursion depth).\n",
    "\n",
    "---\n",
    "\n",
    "### **Lambda, Filter, Map, Reduce**\n",
    "\n",
    "#### **Lambda Functions**:\n",
    "A `lambda` function is a small anonymous function defined with the `lambda` keyword. It can have any number of arguments but only one expression.\n",
    "\n",
    "```python\n",
    "# Lambda function to add two numbers\n",
    "add = lambda a, b: a + b\n",
    "print(add(3, 4))  # Output: 7\n",
    "```\n",
    "\n",
    "#### **Filter**:\n",
    "The `filter()` function filters a sequence based on a function that returns `True` or `False`. It returns a filter object, which can be converted to a list or another iterable.\n",
    "\n",
    "```python\n",
    "# Filter even numbers from a list\n",
    "numbers = [1, 2, 3, 4, 5, 6]\n",
    "even_numbers = list(filter(lambda x: x % 2 == 0, numbers))\n",
    "print(even_numbers)  # Output: [2, 4, 6]\n",
    "```\n",
    "\n",
    "#### **Map**:\n",
    "The `map()` function applies a given function to all items in an input list (or any iterable). It returns an iterator.\n",
    "\n",
    "```python\n",
    "# Square each number in the list\n",
    "numbers = [1, 2, 3, 4, 5]\n",
    "squared_numbers = list(map(lambda x: x ** 2, numbers))\n",
    "print(squared_numbers)  # Output: [1, 4, 9, 16, 25]\n",
    "```\n",
    "\n",
    "#### **Reduce**:\n",
    "The `reduce()` function (from `functools`) applies a binary function cumulatively to the items of an iterable, from left to right, so as to reduce the iterable to a single value.\n",
    "\n",
    "```python\n",
    "from functools import reduce\n",
    "\n",
    "# Calculate the sum of numbers in the list\n",
    "numbers = [1, 2, 3, 4, 5]\n",
    "total = reduce(lambda x, y: x + y, numbers)\n",
    "print(total)  # Output: 15\n",
    "```\n",
    "\n",
    "---\n",
    "\n",
    "### **Need for Modules**\n",
    "\n",
    "Modules are needed for the following reasons:\n",
    "- **Code Reusability**: You can reuse code by importing functions and variables from other files.\n",
    "- **Organization**: They help organize large programs into smaller, manageable files.\n",
    "- **Maintainability**: Makes code easier to maintain, as related functions can be grouped together.\n",
    "- **Namespace Management**: Avoids cluttering the global namespace by separating code into distinct namespaces (modules).\n",
    "\n",
    "---\n",
    "\n",
    "### **What is a Module?**\n",
    "\n",
    "A **module** is a file containing Python code, typically with a `.py` extension. It can define functions, classes, and variables that you can reuse in other Python programs.\n",
    "\n",
    "```python\n",
    "# Example of a module named \"mymodule.py\"\n",
    "def greet(name):\n",
    "    return f\"Hello, {name}!\"\n",
    "\n",
    "# Using the module in another file\n",
    "import mymodule\n",
    "\n",
    "print(mymodule.greet(\"Alice\"))  # Output: Hello, Alice!\n",
    "```\n",
    "\n",
    "---\n",
    "\n",
    "### **Built-in Modules**\n",
    "\n",
    "Python provides a variety of built-in modules for performing common tasks. Some commonly used built-in modules include:\n",
    "- `math`: For mathematical operations.\n",
    "- `os`: For interacting with the operating system.\n",
    "- `random`: For generating random numbers.\n",
    "- `sys`: For system-specific parameters.\n",
    "- `datetime`: For handling dates and times.\n",
    "\n",
    "Example:\n",
    "```python\n",
    "import math\n",
    "print(math.sqrt(16))  # Output: 4.0\n",
    "```\n",
    "\n",
    "---\n",
    "\n",
    "### **User-defined Modules**\n",
    "\n",
    "You can create your own modules by saving Python code in a `.py` file. These can then be imported into other Python files.\n",
    "\n",
    "1. **Create the module** (`mymodule.py`):\n",
    "```python\n",
    "# mymodule.py\n",
    "def greet(name):\n",
    "    print(f\"Hello, {name}!\")\n",
    "```\n",
    "\n",
    "2. **Import and use the module**:\n",
    "```python\n",
    "import mymodule\n",
    "mymodule.greet(\"Bob\")  # Output: Hello, Bob!\n",
    "```\n",
    "\n",
    "---\n",
    "\n",
    "### **Summary**\n",
    "\n",
    "- Functions allow us to group code into reusable blocks.\n",
    "- **Arguments** can be default, variable-length, or keyword arguments.\n",
    "- **Scopes** define where variables are accessible, with global and local being the main types.\n",
    "- **Recursion** enables solving problems where the function calls itself.\n",
    "- **Lambda, filter, map, and reduce** are functional programming tools in Python.\n",
    "- **Modules** help in organizing code, and Python provides both built-in and user-defined modules for reusability."
   ]
  },
  {
   "cell_type": "markdown",
   "metadata": {},
   "source": []
  },
  {
   "cell_type": "code",
   "execution_count": null,
   "metadata": {},
   "outputs": [],
   "source": [
    "def factorial(n):\n",
    "    # Base case: when n is 0, return 1\n",
    "    if n == 0:\n",
    "        return 1\n",
    "    else:\n",
    "        return n * factorial(n-1)\n",
    "\n",
    "# Example usage\n",
    "print(factorial(5))  # Output: 120\n"
   ]
  }
 ],
 "metadata": {
  "kernelspec": {
   "display_name": "base",
   "language": "python",
   "name": "python3"
  },
  "language_info": {
   "codemirror_mode": {
    "name": "ipython",
    "version": 3
   },
   "file_extension": ".py",
   "mimetype": "text/x-python",
   "name": "python",
   "nbconvert_exporter": "python",
   "pygments_lexer": "ipython3",
   "version": "3.11.9"
  }
 },
 "nbformat": 4,
 "nbformat_minor": 2
}
