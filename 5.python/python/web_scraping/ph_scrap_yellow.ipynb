{
 "cells": [
  {
   "cell_type": "code",
   "execution_count": 3,
   "metadata": {},
   "outputs": [],
   "source": [
    "import requests\n",
    "from bs4 import BeautifulSoup as bs\n",
    "\n"
   ]
  },
  {
   "cell_type": "code",
   "execution_count": 6,
   "metadata": {},
   "outputs": [
    {
     "data": {
      "text/plain": [
       "200"
      ]
     },
     "execution_count": 6,
     "metadata": {},
     "output_type": "execute_result"
    }
   ],
   "source": [
    "url ='https://www.yellowpages.com/search?search_terms=Italian+Restaurants&geo_location_terms=Ottawa%2C+ON'\n",
    "\n",
    "page = requests.get(url)\n",
    "page.status_code"
   ]
  },
  {
   "cell_type": "code",
   "execution_count": 36,
   "metadata": {},
   "outputs": [
    {
     "name": "stdout",
     "output_type": "stream",
     "text": [
      "[<div class=\"phones phone primary\">(419) 331-2220</div>, <div class=\"phones phone primary\">(419) 222-4076</div>, <div class=\"phones phone primary\">(419) 224-5639</div>, <div class=\"phones phone primary\">(419) 221-4747</div>, <div class=\"phones phone primary\">(419) 331-3111</div>, <div class=\"phones phone primary\">(419) 692-8888</div>, <div class=\"phones phone primary\">(419) 692-0891</div>, <div class=\"phones phone primary\">(419) 228-9269</div>]\n",
      "(419) 331-2220\n",
      "(419) 222-4076\n",
      "(419) 224-5639\n",
      "(419) 221-4747\n",
      "(419) 331-3111\n",
      "(419) 692-8888\n",
      "(419) 692-0891\n",
      "(419) 228-9269\n"
     ]
    }
   ],
   "source": [
    "soup = bs(page.content, \"html.parser\")\n",
    "\n",
    "ph = soup.findAll(\"div\", class_=\"phones phone primary\")\n",
    "print(ph)\n",
    "for p in ph:\n",
    "    print(p.get_text())\n",
    "# phone_numbers = [ph.get_text(strip=True) for ph in ph]\n",
    "# phone_numbers\n",
    "\n",
    "\n",
    "# [[name, phome, detais],[name, phome, detais],[name, phome, detais]]"
   ]
  },
  {
   "cell_type": "code",
   "execution_count": 26,
   "metadata": {},
   "outputs": [
    {
     "name": "stdout",
     "output_type": "stream",
     "text": [
      "[<a class=\"business-name\" data-analytics='{\"target\":\"name\",\"feature_click\":\"\"}' href=\"/lima-oh/mip/milano-cafe-28532017\" rel=\"\"><span>Milano Cafe</span></a>, <a class=\"business-name\" data-analytics='{\"target\":\"name\",\"feature_click\":\"\"}' href=\"/lima-oh/mip/fazolis-3954441\" rel=\"\"><span>Fazoli's</span></a>, <a class=\"business-name\" data-analytics='{\"target\":\"name\",\"feature_click\":\"\"}' href=\"/lima-oh/mip/joeys-submarines-459468633\" rel=\"\"><span>Joey's Submarines</span></a>, <a class=\"business-name\" data-analytics='{\"target\":\"name\",\"feature_click\":\"\"}' href=\"/lima-oh/mip/rapid-fired-pizza-530283612\" rel=\"\"><span>Rapid Fired Pizza</span></a>, <a class=\"business-name\" data-analytics='{\"target\":\"name\",\"feature_click\":\"\"}' href=\"/lima-oh/mip/pandrones-pizza-west-1175303\" rel=\"\"><span>Pandrones Pizza West</span></a>, <a class=\"business-name\" data-analytics='{\"target\":\"name\",\"feature_click\":\"\"}' href=\"/delphos-oh/mip/kostas-topp-chalet-restaurant-lounge-1950911\" rel=\"\"><span>Kosta's Topp Chalet Restaurant &amp; Lounge</span></a>, <a class=\"business-name\" data-analytics='{\"target\":\"name\",\"feature_click\":\"\"}' href=\"/delphos-oh/mip/niedeckenss-carry-out-10063651\" rel=\"\"><span>Niedeckens's Carry-Out</span></a>, <a class=\"business-name\" data-analytics='{\"target\":\"name\",\"feature_click\":\"\"}' href=\"/lima-oh/mip/rigalis-pizza-village-4889078\" rel=\"\"><span>Rigali's Pizza Village</span></a>]\n",
      "Milano Cafe\n",
      "https://www.yellowpages.com/lima-oh/mip/milano-cafe-28532017\n",
      "Fazoli's\n",
      "https://www.yellowpages.com/lima-oh/mip/fazolis-3954441\n",
      "Joey's Submarines\n",
      "https://www.yellowpages.com/lima-oh/mip/joeys-submarines-459468633\n",
      "Rapid Fired Pizza\n",
      "https://www.yellowpages.com/lima-oh/mip/rapid-fired-pizza-530283612\n",
      "Pandrones Pizza West\n",
      "https://www.yellowpages.com/lima-oh/mip/pandrones-pizza-west-1175303\n",
      "Kosta's Topp Chalet Restaurant & Lounge\n",
      "https://www.yellowpages.com/delphos-oh/mip/kostas-topp-chalet-restaurant-lounge-1950911\n",
      "Niedeckens's Carry-Out\n",
      "https://www.yellowpages.com/delphos-oh/mip/niedeckenss-carry-out-10063651\n",
      "Rigali's Pizza Village\n",
      "https://www.yellowpages.com/lima-oh/mip/rigalis-pizza-village-4889078\n"
     ]
    }
   ],
   "source": [
    "\n",
    "name = soup.findAll(\"a\",class_=\"business-name\")\n",
    "print(name)\n",
    "base_url = \"https://www.yellowpages.com\"\n",
    "for p in name:\n",
    "    print(p.get_text())\n",
    "    print(base_url+p[\"href\"])"
   ]
  },
  {
   "cell_type": "code",
   "execution_count": 44,
   "metadata": {},
   "outputs": [
    {
     "name": "stdout",
     "output_type": "stream",
     "text": [
      "200\n",
      "https://i4.ypcdn.com/blob/afa74841b4b14ca47051adbe523b0825ed1dba96\n",
      "https://i3.ypcdn.com/blob/54c82ad06733c48a983bf90ca71c722789076d3e\n",
      "https://i2.ypcdn.com/blob/f5575fe56506fcb3817ad2f0ec89ea9eb1a26be4\n",
      "https://i4.ypcdn.com/blob/dba75e7ed632d556bfc272487e3a8449e949f517\n",
      "https://i1.ypcdn.com/blob/d11b68a1c41688ec62a71404b1c73089334ff380\n",
      "https://i2.ypcdn.com/blob/bb36a4649972277f6335052f2c0f32768c4aa254\n",
      "https://i1.ypcdn.com/blob/a6da93174b349c5ca1c4717ffcb4bec2eb3bccb3\n",
      "https://i2.ypcdn.com/blob/a005f7166d3448761e27f6aec939128f5d2c8871\n",
      "<Response [200]>\n",
      "<Response [200]>\n",
      "<Response [200]>\n",
      "<Response [200]>\n",
      "<Response [200]>\n",
      "<Response [200]>\n",
      "<Response [200]>\n",
      "<Response [200]>\n"
     ]
    }
   ],
   "source": [
    "# \n",
    "url = \"https://www.yellowpages.com/lima-oh/mip/fazolis-3954441\"\n",
    "html = requests.get(url)\n",
    "print(html.status_code)\n",
    "\n",
    "soup1 = bs(html.content, \"html.parser\")\n",
    "\n",
    "name = soup1.find(\"div\",class_=\"carousel\")\n",
    "# print(name)\n",
    "\n",
    "img = name.findAll(\"img\")\n",
    "urls=[]\n",
    "for i in img:\n",
    "    # print(i)\n",
    "    urls.append(i[\"data-url\"])\n",
    "    print(i[\"data-url\"])\n",
    "p\n",
    "\n",
    "for i in range(0, len(img)):\n",
    "    load = requests.get(urls[i])\n",
    "    print(load)\n",
    "    with open(\"img\"+str(i)+\".jpg\", \"wb\") as file:\n",
    "        file.write(load.content) \n"
   ]
  },
  {
   "cell_type": "code",
   "execution_count": 45,
   "metadata": {},
   "outputs": [
    {
     "name": "stdout",
     "output_type": "stream",
     "text": [
      "['https://i4.ypcdn.com/blob/afa74841b4b14ca47051adbe523b0825ed1dba96', 'https://i3.ypcdn.com/blob/54c82ad06733c48a983bf90ca71c722789076d3e', 'https://i2.ypcdn.com/blob/f5575fe56506fcb3817ad2f0ec89ea9eb1a26be4', 'https://i4.ypcdn.com/blob/dba75e7ed632d556bfc272487e3a8449e949f517', 'https://i1.ypcdn.com/blob/d11b68a1c41688ec62a71404b1c73089334ff380', 'https://i2.ypcdn.com/blob/bb36a4649972277f6335052f2c0f32768c4aa254', 'https://i1.ypcdn.com/blob/a6da93174b349c5ca1c4717ffcb4bec2eb3bccb3', 'https://i2.ypcdn.com/blob/a005f7166d3448761e27f6aec939128f5d2c8871']\n"
     ]
    }
   ],
   "source": [
    "import os\n",
    "os.getcwd()\n",
    "print(urls)"
   ]
  },
  {
   "cell_type": "code",
   "execution_count": null,
   "metadata": {},
   "outputs": [],
   "source": []
  }
 ],
 "metadata": {
  "kernelspec": {
   "display_name": "base",
   "language": "python",
   "name": "python3"
  },
  "language_info": {
   "codemirror_mode": {
    "name": "ipython",
    "version": 3
   },
   "file_extension": ".py",
   "mimetype": "text/x-python",
   "name": "python",
   "nbconvert_exporter": "python",
   "pygments_lexer": "ipython3",
   "version": "3.12.4"
  }
 },
 "nbformat": 4,
 "nbformat_minor": 2
}
