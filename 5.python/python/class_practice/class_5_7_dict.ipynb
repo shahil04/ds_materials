{
 "cells": [
  {
   "cell_type": "markdown",
   "metadata": {},
   "source": [
    "17. **Filter out negative numbers from a list**  \n",
    "    Given a list `[1, -2, 3, -4, 5, -6]`, write a `for` loop to filter out all negative numbers and store the positive numbers in a new list.\n",
    "8. **Calculate factorial**  \n",
    "   Write a program using a `while` loop that calculates the factorial of a number, say 5."
   ]
  },
  {
   "cell_type": "code",
   "execution_count": 2,
   "metadata": {},
   "outputs": [
    {
     "name": "stdout",
     "output_type": "stream",
     "text": [
      "[1, 3, 4, 5]\n"
     ]
    }
   ],
   "source": [
    "li1= [1,-2,3,4,5,-6]\n",
    "ponum =[]\n",
    "for  temp in li1:\n",
    "    if temp>0:\n",
    "        ponum.append(temp)\n",
    "\n",
    "print(ponum)"
   ]
  },
  {
   "cell_type": "code",
   "execution_count": 4,
   "metadata": {},
   "outputs": [
    {
     "name": "stdout",
     "output_type": "stream",
     "text": [
      "factorial 1 is  1\n",
      "factorial 2 is  2\n",
      "factorial 3 is  6\n",
      "factorial 4 is  24\n",
      "factorial 5 is  120\n",
      "factorial 6 is  720\n",
      "factorial 7 is  5040\n",
      "factorial 8 is  40320\n",
      "factorial 9 is  362880\n",
      "factorial 10 is  3628800\n",
      "factorial 11 is  39916800\n",
      "factorial 12 is  479001600\n",
      "factorial 13 is  6227020800\n",
      "factorial 14 is  87178291200\n",
      "factorial 15 is  1307674368000\n",
      "1307674368000\n"
     ]
    }
   ],
   "source": [
    "fact=1\n",
    "number =15\n",
    "i=1\n",
    "while(i<=number):\n",
    "    fact*=i\n",
    "    print(\"factorial\",i,\"is \",fact)\n",
    "    i+=1\n",
    "   \n",
    "print(fact)"
   ]
  },
  {
   "cell_type": "code",
   "execution_count": 8,
   "metadata": {},
   "outputs": [],
   "source": [
    "str1 ='Hello world'\n",
    "str2 = \"Python is fun\"\n",
    "\n",
    "str3 =\"\"\"line 1\n",
    "lin2\n",
    "line 3\n",
    "\"\"\""
   ]
  },
  {
   "cell_type": "code",
   "execution_count": null,
   "metadata": {},
   "outputs": [],
   "source": [
    "print(str1)\n",
    "print(str2)\n",
    "print(str3)"
   ]
  },
  {
   "cell_type": "code",
   "execution_count": null,
   "metadata": {},
   "outputs": [],
   "source": [
    "str1[0]\n",
    "str1[0:5]"
   ]
  },
  {
   "cell_type": "code",
   "execution_count": null,
   "metadata": {},
   "outputs": [],
   "source": [
    "for i in str1:\n",
    "    print(i)"
   ]
  },
  {
   "cell_type": "code",
   "execution_count": 14,
   "metadata": {},
   "outputs": [
    {
     "ename": "TypeError",
     "evalue": "'str' object does not support item assignment",
     "output_type": "error",
     "traceback": [
      "\u001b[1;31m---------------------------------------------------------------------------\u001b[0m",
      "\u001b[1;31mTypeError\u001b[0m                                 Traceback (most recent call last)",
      "Cell \u001b[1;32mIn[14], line 1\u001b[0m\n\u001b[1;32m----> 1\u001b[0m str1[\u001b[38;5;241m0\u001b[39m]\u001b[38;5;241m=\u001b[39m\u001b[38;5;124m\"\u001b[39m\u001b[38;5;124ms\u001b[39m\u001b[38;5;124m\"\u001b[39m\n",
      "\u001b[1;31mTypeError\u001b[0m: 'str' object does not support item assignment"
     ]
    }
   ],
   "source": [
    "str1[0]=\"s\""
   ]
  },
  {
   "cell_type": "code",
   "execution_count": 16,
   "metadata": {},
   "outputs": [
    {
     "data": {
      "text/plain": [
       "'Shell World'"
      ]
     },
     "execution_count": 16,
     "metadata": {},
     "output_type": "execute_result"
    }
   ],
   "source": [
    "str1 =\"Shell World\"\n",
    "str1"
   ]
  },
  {
   "cell_type": "code",
   "execution_count": 22,
   "metadata": {},
   "outputs": [
    {
     "data": {
      "text/plain": [
       "'World'"
      ]
     },
     "execution_count": 22,
     "metadata": {},
     "output_type": "execute_result"
    }
   ],
   "source": [
    "str1[-5:]"
   ]
  },
  {
   "cell_type": "code",
   "execution_count": 31,
   "metadata": {},
   "outputs": [],
   "source": [
    "s1=1\n",
    "s2=1.0"
   ]
  },
  {
   "cell_type": "code",
   "execution_count": 32,
   "metadata": {},
   "outputs": [
    {
     "data": {
      "text/plain": [
       "True"
      ]
     },
     "execution_count": 32,
     "metadata": {},
     "output_type": "execute_result"
    }
   ],
   "source": [
    "s1==s2"
   ]
  },
  {
   "cell_type": "code",
   "execution_count": 33,
   "metadata": {},
   "outputs": [
    {
     "data": {
      "text/plain": [
       "False"
      ]
     },
     "execution_count": 33,
     "metadata": {},
     "output_type": "execute_result"
    }
   ],
   "source": [
    "s1 is s2"
   ]
  },
  {
   "cell_type": "code",
   "execution_count": 34,
   "metadata": {},
   "outputs": [
    {
     "data": {
      "text/plain": [
       "'Shell World'"
      ]
     },
     "execution_count": 34,
     "metadata": {},
     "output_type": "execute_result"
    }
   ],
   "source": [
    "str1"
   ]
  },
  {
   "cell_type": "code",
   "execution_count": 35,
   "metadata": {},
   "outputs": [
    {
     "data": {
      "text/plain": [
       "True"
      ]
     },
     "execution_count": 35,
     "metadata": {},
     "output_type": "execute_result"
    }
   ],
   "source": [
    "\"W\" in str1"
   ]
  },
  {
   "cell_type": "code",
   "execution_count": 36,
   "metadata": {},
   "outputs": [
    {
     "data": {
      "text/plain": [
       "False"
      ]
     },
     "execution_count": 36,
     "metadata": {},
     "output_type": "execute_result"
    }
   ],
   "source": [
    "\"w\" in str1"
   ]
  },
  {
   "cell_type": "code",
   "execution_count": 42,
   "metadata": {},
   "outputs": [
    {
     "data": {
      "text/plain": [
       "'Shell World | Python is fun'"
      ]
     },
     "execution_count": 42,
     "metadata": {},
     "output_type": "execute_result"
    }
   ],
   "source": [
    "# concatination\n",
    "str1 +\" | \"+ str2"
   ]
  },
  {
   "cell_type": "code",
   "execution_count": 39,
   "metadata": {},
   "outputs": [
    {
     "data": {
      "text/plain": [
       "'Shell world'"
      ]
     },
     "execution_count": 39,
     "metadata": {},
     "output_type": "execute_result"
    }
   ],
   "source": [
    "str1.capitalize()"
   ]
  },
  {
   "cell_type": "code",
   "execution_count": 40,
   "metadata": {},
   "outputs": [
    {
     "data": {
      "text/plain": [
       "'shell world'"
      ]
     },
     "execution_count": 40,
     "metadata": {},
     "output_type": "execute_result"
    }
   ],
   "source": [
    "str1.casefold()"
   ]
  },
  {
   "cell_type": "code",
   "execution_count": 41,
   "metadata": {},
   "outputs": [
    {
     "data": {
      "text/plain": [
       "'SHELL WORLD'"
      ]
     },
     "execution_count": 41,
     "metadata": {},
     "output_type": "execute_result"
    }
   ],
   "source": [
    "str1.upper()"
   ]
  },
  {
   "cell_type": "code",
   "execution_count": 49,
   "metadata": {},
   "outputs": [
    {
     "data": {
      "text/plain": [
       "1"
      ]
     },
     "execution_count": 49,
     "metadata": {},
     "output_type": "execute_result"
    }
   ],
   "source": [
    "str1.count(\"r\")"
   ]
  },
  {
   "cell_type": "code",
   "execution_count": 50,
   "metadata": {},
   "outputs": [
    {
     "data": {
      "text/plain": [
       "11"
      ]
     },
     "execution_count": 50,
     "metadata": {},
     "output_type": "execute_result"
    }
   ],
   "source": [
    "len(str1)"
   ]
  },
  {
   "cell_type": "code",
   "execution_count": 62,
   "metadata": {},
   "outputs": [
    {
     "data": {
      "text/plain": [
       "'Shell World'"
      ]
     },
     "execution_count": 62,
     "metadata": {},
     "output_type": "execute_result"
    }
   ],
   "source": [
    "str1"
   ]
  },
  {
   "cell_type": "code",
   "execution_count": 53,
   "metadata": {},
   "outputs": [
    {
     "data": {
      "text/plain": [
       "('Shell', ' ', 'World')"
      ]
     },
     "execution_count": 53,
     "metadata": {},
     "output_type": "execute_result"
    }
   ],
   "source": [
    "str1.partition(\" \")"
   ]
  },
  {
   "cell_type": "code",
   "execution_count": 59,
   "metadata": {},
   "outputs": [
    {
     "data": {
      "text/plain": [
       "7"
      ]
     },
     "execution_count": 59,
     "metadata": {},
     "output_type": "execute_result"
    }
   ],
   "source": [
    "str1.find(\"or\")"
   ]
  },
  {
   "cell_type": "code",
   "execution_count": 61,
   "metadata": {},
   "outputs": [
    {
     "data": {
      "text/plain": [
       "'Hhell World'"
      ]
     },
     "execution_count": 61,
     "metadata": {},
     "output_type": "execute_result"
    }
   ],
   "source": [
    "str1.replace(\"S\",\"H\")"
   ]
  },
  {
   "cell_type": "code",
   "execution_count": 66,
   "metadata": {},
   "outputs": [
    {
     "data": {
      "text/plain": [
       "'  abc '"
      ]
     },
     "execution_count": 66,
     "metadata": {},
     "output_type": "execute_result"
    }
   ],
   "source": [
    "str4=\"  abc \"\n",
    "str4"
   ]
  },
  {
   "cell_type": "code",
   "execution_count": 68,
   "metadata": {},
   "outputs": [
    {
     "data": {
      "text/plain": [
       "'  abc'"
      ]
     },
     "execution_count": 68,
     "metadata": {},
     "output_type": "execute_result"
    }
   ],
   "source": [
    "str4.rstrip()"
   ]
  },
  {
   "cell_type": "code",
   "execution_count": 69,
   "metadata": {},
   "outputs": [
    {
     "data": {
      "text/plain": [
       "'abc'"
      ]
     },
     "execution_count": 69,
     "metadata": {},
     "output_type": "execute_result"
    }
   ],
   "source": [
    "str4.strip()"
   ]
  },
  {
   "cell_type": "code",
   "execution_count": 70,
   "metadata": {},
   "outputs": [
    {
     "data": {
      "text/plain": [
       "'abc '"
      ]
     },
     "execution_count": 70,
     "metadata": {},
     "output_type": "execute_result"
    }
   ],
   "source": [
    "str4.lstrip()"
   ]
  },
  {
   "cell_type": "code",
   "execution_count": 73,
   "metadata": {},
   "outputs": [
    {
     "data": {
      "text/plain": [
       "'Python is fun'"
      ]
     },
     "execution_count": 73,
     "metadata": {},
     "output_type": "execute_result"
    }
   ],
   "source": [
    "str2"
   ]
  },
  {
   "cell_type": "code",
   "execution_count": 74,
   "metadata": {},
   "outputs": [
    {
     "data": {
      "text/plain": [
       "['Python', 'is', 'fun']"
      ]
     },
     "execution_count": 74,
     "metadata": {},
     "output_type": "execute_result"
    }
   ],
   "source": [
    "str2.split(\" \")"
   ]
  },
  {
   "cell_type": "code",
   "execution_count": 75,
   "metadata": {},
   "outputs": [],
   "source": [
    "sr= str2.split(\" \")"
   ]
  },
  {
   "cell_type": "code",
   "execution_count": 76,
   "metadata": {},
   "outputs": [
    {
     "data": {
      "text/plain": [
       "['Python', 'is', 'fun']"
      ]
     },
     "execution_count": 76,
     "metadata": {},
     "output_type": "execute_result"
    }
   ],
   "source": [
    "sr"
   ]
  },
  {
   "cell_type": "code",
   "execution_count": 77,
   "metadata": {},
   "outputs": [
    {
     "data": {
      "text/plain": [
       "['Python', 'is', 'fun', 'new word']"
      ]
     },
     "execution_count": 77,
     "metadata": {},
     "output_type": "execute_result"
    }
   ],
   "source": [
    "sr.append(\"new word\")\n",
    "sr"
   ]
  },
  {
   "cell_type": "code",
   "execution_count": 81,
   "metadata": {},
   "outputs": [
    {
     "data": {
      "text/plain": [
       "'Python is fun new word'"
      ]
     },
     "execution_count": 81,
     "metadata": {},
     "output_type": "execute_result"
    }
   ],
   "source": [
    "\" \".join(sr)"
   ]
  },
  {
   "cell_type": "markdown",
   "metadata": {},
   "source": [
    "# Dict"
   ]
  },
  {
   "cell_type": "code",
   "execution_count": null,
   "metadata": {},
   "outputs": [],
   "source": [
    "d1={}\n",
    "d2=dict()\n",
    "d3={1:\"a\",2:\"v\"}\n",
    "\n",
    "print(type(d1))\n",
    "print(type(d2))\n",
    "print(type(d3))\n",
    "# "
   ]
  },
  {
   "cell_type": "code",
   "execution_count": 22,
   "metadata": {},
   "outputs": [],
   "source": [
    "country_capitals = {\n",
    "  \"Germany\": \"Berlin\", \n",
    "  \"Canada\": \"Ottawa\", \n",
    "  \"England\": \"London\"\n",
    "}"
   ]
  },
  {
   "cell_type": "code",
   "execution_count": 23,
   "metadata": {},
   "outputs": [
    {
     "data": {
      "text/plain": [
       "'Ottawa'"
      ]
     },
     "execution_count": 23,
     "metadata": {},
     "output_type": "execute_result"
    }
   ],
   "source": [
    "country_capitals[\"Canada\"]"
   ]
  },
  {
   "cell_type": "code",
   "execution_count": 24,
   "metadata": {},
   "outputs": [
    {
     "data": {
      "text/plain": [
       "{'Germany': 'Berlin',\n",
       " 'Canada': 'Ottawa',\n",
       " 'England': 'London',\n",
       " 'India': 'New Delhi'}"
      ]
     },
     "execution_count": 24,
     "metadata": {},
     "output_type": "execute_result"
    }
   ],
   "source": [
    "country_capitals[\"India\"] =  \"New Delhi\"\n",
    "\n",
    "country_capitals"
   ]
  },
  {
   "cell_type": "code",
   "execution_count": 25,
   "metadata": {},
   "outputs": [
    {
     "data": {
      "text/plain": [
       "{'Germany': 'Berlin',\n",
       " 'Canada': 'Ottawa',\n",
       " 'England': 'London',\n",
       " 'India': 'Delhi'}"
      ]
     },
     "execution_count": 25,
     "metadata": {},
     "output_type": "execute_result"
    }
   ],
   "source": [
    "country_capitals[\"India\"] =  \"Delhi\"\n",
    "\n",
    "country_capitals"
   ]
  },
  {
   "cell_type": "code",
   "execution_count": 27,
   "metadata": {},
   "outputs": [
    {
     "data": {
      "text/plain": [
       "'Delhi'"
      ]
     },
     "execution_count": 27,
     "metadata": {},
     "output_type": "execute_result"
    }
   ],
   "source": [
    "country_capitals.pop(\"India\")"
   ]
  },
  {
   "cell_type": "code",
   "execution_count": 28,
   "metadata": {},
   "outputs": [
    {
     "data": {
      "text/plain": [
       "{'Germany': 'Berlin', 'Canada': 'Ottawa', 'England': 'London'}"
      ]
     },
     "execution_count": 28,
     "metadata": {},
     "output_type": "execute_result"
    }
   ],
   "source": [
    "country_capitals"
   ]
  },
  {
   "cell_type": "code",
   "execution_count": 30,
   "metadata": {},
   "outputs": [],
   "source": [
    "del country_capitals[\"Canada\"]"
   ]
  },
  {
   "cell_type": "code",
   "execution_count": 31,
   "metadata": {},
   "outputs": [
    {
     "data": {
      "text/plain": [
       "{'Germany': 'Berlin', 'England': 'London'}"
      ]
     },
     "execution_count": 31,
     "metadata": {},
     "output_type": "execute_result"
    }
   ],
   "source": [
    "country_capitals"
   ]
  },
  {
   "cell_type": "code",
   "execution_count": 32,
   "metadata": {},
   "outputs": [
    {
     "name": "stdout",
     "output_type": "stream",
     "text": [
      "Germany\n",
      "England\n"
     ]
    }
   ],
   "source": [
    "for i in country_capitals:\n",
    "    print(i)"
   ]
  },
  {
   "cell_type": "code",
   "execution_count": 34,
   "metadata": {},
   "outputs": [
    {
     "data": {
      "text/plain": [
       "{'Germany': 'France', 'England': 'London'}"
      ]
     },
     "execution_count": 34,
     "metadata": {},
     "output_type": "execute_result"
    }
   ],
   "source": [
    "country_capitals.update({\"Germany\":\"France\"})\n",
    "country_capitals"
   ]
  },
  {
   "cell_type": "code",
   "execution_count": 35,
   "metadata": {},
   "outputs": [
    {
     "data": {
      "text/plain": [
       "{'Germany': 'France', 'England': 'London', 'India': 'Delhi'}"
      ]
     },
     "execution_count": 35,
     "metadata": {},
     "output_type": "execute_result"
    }
   ],
   "source": [
    "country_capitals.update({\"India\":\"Delhi\"})\n",
    "country_capitals"
   ]
  },
  {
   "cell_type": "code",
   "execution_count": 36,
   "metadata": {},
   "outputs": [
    {
     "data": {
      "text/plain": [
       "dict_keys(['Germany', 'England', 'India'])"
      ]
     },
     "execution_count": 36,
     "metadata": {},
     "output_type": "execute_result"
    }
   ],
   "source": [
    "country_capitals.keys()"
   ]
  },
  {
   "cell_type": "code",
   "execution_count": 37,
   "metadata": {},
   "outputs": [
    {
     "data": {
      "text/plain": [
       "dict_values(['France', 'London', 'Delhi'])"
      ]
     },
     "execution_count": 37,
     "metadata": {},
     "output_type": "execute_result"
    }
   ],
   "source": [
    "country_capitals.values()"
   ]
  },
  {
   "cell_type": "code",
   "execution_count": null,
   "metadata": {},
   "outputs": [],
   "source": [
    "for i,j in country_capitals.items():\n",
    "    print(\"state\",i)\n",
    "    print(\"capital\",j)"
   ]
  },
  {
   "cell_type": "code",
   "execution_count": 38,
   "metadata": {},
   "outputs": [
    {
     "data": {
      "text/plain": [
       "dict_items([('Germany', 'France'), ('England', 'London'), ('India', 'Delhi')])"
      ]
     },
     "execution_count": 38,
     "metadata": {},
     "output_type": "execute_result"
    }
   ],
   "source": [
    "country_capitals.items()"
   ]
  },
  {
   "cell_type": "code",
   "execution_count": 43,
   "metadata": {},
   "outputs": [
    {
     "data": {
      "text/plain": [
       "'Delhi'"
      ]
     },
     "execution_count": 43,
     "metadata": {},
     "output_type": "execute_result"
    }
   ],
   "source": [
    "country_capitals.get(\"India\")"
   ]
  },
  {
   "cell_type": "code",
   "execution_count": 44,
   "metadata": {},
   "outputs": [
    {
     "data": {
      "text/plain": [
       "('India', 'Delhi')"
      ]
     },
     "execution_count": 44,
     "metadata": {},
     "output_type": "execute_result"
    }
   ],
   "source": [
    "country_capitals.popitem()"
   ]
  },
  {
   "cell_type": "code",
   "execution_count": 45,
   "metadata": {},
   "outputs": [],
   "source": [
    "f= country_capitals.copy()"
   ]
  },
  {
   "cell_type": "code",
   "execution_count": null,
   "metadata": {},
   "outputs": [],
   "source": [
    "g= country_capitals"
   ]
  },
  {
   "cell_type": "code",
   "execution_count": 55,
   "metadata": {},
   "outputs": [
    {
     "data": {
      "text/plain": [
       "{'Germany': 'France', 'England': 'London'}"
      ]
     },
     "execution_count": 55,
     "metadata": {},
     "output_type": "execute_result"
    }
   ],
   "source": [
    "f"
   ]
  },
  {
   "cell_type": "code",
   "execution_count": 56,
   "metadata": {},
   "outputs": [
    {
     "data": {
      "text/plain": [
       "{'Germany': 'France', 'England': 'London', 'a': 'b', 'aa': 'b'}"
      ]
     },
     "execution_count": 56,
     "metadata": {},
     "output_type": "execute_result"
    }
   ],
   "source": [
    "g"
   ]
  },
  {
   "cell_type": "code",
   "execution_count": 47,
   "metadata": {},
   "outputs": [],
   "source": [
    "country_capitals.update({\"a\":\"b\"})"
   ]
  },
  {
   "cell_type": "code",
   "execution_count": 52,
   "metadata": {},
   "outputs": [],
   "source": [
    "country_capitals.update({\"aa\":\"b\"})"
   ]
  },
  {
   "cell_type": "code",
   "execution_count": 53,
   "metadata": {},
   "outputs": [
    {
     "data": {
      "text/plain": [
       "{'Germany': 'France', 'England': 'London', 'a': 'b', 'aa': 'b'}"
      ]
     },
     "execution_count": 53,
     "metadata": {},
     "output_type": "execute_result"
    }
   ],
   "source": [
    "\n",
    "g"
   ]
  },
  {
   "cell_type": "code",
   "execution_count": null,
   "metadata": {},
   "outputs": [],
   "source": []
  },
  {
   "cell_type": "code",
   "execution_count": 54,
   "metadata": {},
   "outputs": [
    {
     "data": {
      "text/plain": [
       "{'Germany': 'France', 'England': 'London'}"
      ]
     },
     "execution_count": 54,
     "metadata": {},
     "output_type": "execute_result"
    }
   ],
   "source": [
    "f"
   ]
  },
  {
   "cell_type": "markdown",
   "metadata": {},
   "source": [
    "18. **Find the first occurrence of a target element**  \n",
    "    Write a `for` loop to find the first occurrence of a target element, say 50, in the list `[10, 20, 30, 40, 50, 60]`. Break the loop once the element is found.\n",
    "\n",
    "13. **Sum of each row in a 2D list**  \n",
    "    Given a 2D list `[[1, 2, 3], [4, 5, 6], [7, 8, 9]]`, use a nested `for` loop to print the sum of each row.\n",
    "    \n",
    "18. Write a program to classify a triangle as equilateral, isosceles, or scalene using nested `if` statements."
   ]
  },
  {
   "cell_type": "code",
   "execution_count": 8,
   "metadata": {},
   "outputs": [
    {
     "name": "stdout",
     "output_type": "stream",
     "text": [
      "6\n",
      "15\n",
      "24\n"
     ]
    }
   ],
   "source": [
    "li2= [[1, 2, 3], [4, 5, 6], [7, 8, 9]]\n",
    "for l in li2:\n",
    "    print(sum(l))"
   ]
  },
  {
   "cell_type": "code",
   "execution_count": 9,
   "metadata": {},
   "outputs": [
    {
     "name": "stdout",
     "output_type": "stream",
     "text": [
      "[1, 2, 3]\n",
      "[4, 5, 6]\n",
      "[7, 8, 9]\n"
     ]
    }
   ],
   "source": [
    "li2= [[1, 2, 3], [4, 5, 6], [7, 8, 9]]\n",
    "for l in li2:\n",
    "    print(l)"
   ]
  },
  {
   "cell_type": "code",
   "execution_count": 10,
   "metadata": {},
   "outputs": [
    {
     "data": {
      "text/plain": [
       "45"
      ]
     },
     "execution_count": 10,
     "metadata": {},
     "output_type": "execute_result"
    }
   ],
   "source": [
    "li2= [[1, 2, 3], [4, 5, 6], [7, 8, 9]]\n",
    "total=0\n",
    "for l in li2:\n",
    "    for j in l:\n",
    "        total+=j\n",
    "total"
   ]
  },
  {
   "cell_type": "code",
   "execution_count": 20,
   "metadata": {},
   "outputs": [
    {
     "name": "stdout",
     "output_type": "stream",
     "text": [
      "6\n",
      "15\n",
      "24\n"
     ]
    }
   ],
   "source": [
    "li2= [[1, 2, 3], [4, 5, 6], [7, 8, 9]]\n",
    "\n",
    "for l in li2:\n",
    "    total=0\n",
    "    for j in l:\n",
    "        total+=j\n",
    "    print(total) "
   ]
  },
  {
   "cell_type": "code",
   "execution_count": 19,
   "metadata": {},
   "outputs": [
    {
     "name": "stdout",
     "output_type": "stream",
     "text": [
      "[1, 2, 3]\n",
      " in 1st loop total 0\n",
      "1\n",
      "2\n",
      "3\n",
      "6\n",
      "[4, 5, 6]\n",
      " in 1st loop total 0\n",
      "4\n",
      "5\n",
      "6\n",
      "15\n",
      "[7, 8, 9]\n",
      " in 1st loop total 0\n",
      "7\n",
      "8\n",
      "9\n",
      "24\n"
     ]
    }
   ],
   "source": [
    "li2= [[1, 2, 3], [4, 5, 6], [7, 8, 9]]\n",
    "\n",
    "for l in li2:\n",
    "    print(l)\n",
    "    total=0\n",
    "    print(\" in 1st loop total\" ,total)\n",
    "    for j in l:\n",
    "        print(j)\n",
    "        total+=j\n",
    "    print(total) "
   ]
  },
  {
   "cell_type": "code",
   "execution_count": 4,
   "metadata": {},
   "outputs": [
    {
     "name": "stdout",
     "output_type": "stream",
     "text": [
      "Element  50  is  found at index  5\n"
     ]
    }
   ],
   "source": [
    "li=[34,65,78,34,87,50,34,23]\n",
    "element =50\n",
    "for i in range(0, len(li) ):\n",
    "    if li[i] == element:\n",
    "        print(\"Element \",li[i], \" is  found at index \", i)\n",
    "        break"
   ]
  },
  {
   "cell_type": "code",
   "execution_count": 21,
   "metadata": {},
   "outputs": [
    {
     "name": "stdout",
     "output_type": "stream",
     "text": [
      "Sum of row [1, 2, 3]: 6\n",
      "Sum of row [4, 5, 6]: 15\n",
      "Sum of row [7, 8, 9]: 24\n"
     ]
    }
   ],
   "source": [
    "# Define the 2D list\n",
    "matrix = [[1, 2, 3], [4, 5, 6], [7, 8, 9]]\n",
    "\n",
    "# Iterate over each row\n",
    "for row in matrix:\n",
    "    row_sum = 0  # Initialize sum for the current row\n",
    "    # Sum the elements in the current row\n",
    "    for element in row:\n",
    "        row_sum += element\n",
    "    # Print the sum of the current row\n",
    "    print(f\"Sum of row {row}: {row_sum}\")\n"
   ]
  },
  {
   "cell_type": "code",
   "execution_count": null,
   "metadata": {},
   "outputs": [],
   "source": []
  },
  {
   "cell_type": "code",
   "execution_count": null,
   "metadata": {},
   "outputs": [],
   "source": []
  },
  {
   "cell_type": "code",
   "execution_count": 6,
   "metadata": {},
   "outputs": [
    {
     "name": "stdout",
     "output_type": "stream",
     "text": [
      "----*\n",
      "---**\n",
      "--***\n",
      "-****\n"
     ]
    }
   ],
   "source": [
    "n=5\n",
    "for i in range(1,n):\n",
    "    print(\"-\"*(n-i), end=\"\")\n",
    "    for j in range(i):\n",
    "        print(\"*\" ,end=\"\")\n",
    "    print()\n"
   ]
  },
  {
   "cell_type": "code",
   "execution_count": null,
   "metadata": {},
   "outputs": [],
   "source": [
    "n=5\n",
    "for i in range(1,n):\n",
    "    print(\"-\"*(n-i), end=\"\")\n",
    "    for j in range(i):\n",
    "        print(\"*\" ,end=\"\")\n",
    "    print()\n"
   ]
  },
  {
   "cell_type": "markdown",
   "metadata": {},
   "source": [
    "## OOP"
   ]
  },
  {
   "cell_type": "code",
   "execution_count": 23,
   "metadata": {},
   "outputs": [],
   "source": [
    "class Bottle:\n",
    "    cap=None\n",
    "    name=None\n",
    "    color =None\n",
    "\n",
    "    def dis(self):\n",
    "        print(self.cap, self.name,self.color)"
   ]
  },
  {
   "cell_type": "code",
   "execution_count": 24,
   "metadata": {},
   "outputs": [],
   "source": [
    "b1 = Bottle()"
   ]
  },
  {
   "cell_type": "code",
   "execution_count": 25,
   "metadata": {},
   "outputs": [],
   "source": [
    "b1.cap=\"small\"\n",
    "b1.name=\"cello\"\n",
    "b1.color=\"red\""
   ]
  },
  {
   "cell_type": "code",
   "execution_count": 26,
   "metadata": {},
   "outputs": [],
   "source": [
    "b2 = Bottle()\n",
    "b2.cap=\"large\"\n",
    "b2.name=\"melten\"\n",
    "b2.color=\"green\""
   ]
  },
  {
   "cell_type": "code",
   "execution_count": 21,
   "metadata": {},
   "outputs": [
    {
     "data": {
      "text/plain": [
       "'cello'"
      ]
     },
     "execution_count": 21,
     "metadata": {},
     "output_type": "execute_result"
    }
   ],
   "source": [
    "b1.name"
   ]
  },
  {
   "cell_type": "code",
   "execution_count": 27,
   "metadata": {},
   "outputs": [
    {
     "name": "stdout",
     "output_type": "stream",
     "text": [
      "small cello red\n"
     ]
    }
   ],
   "source": [
    "b1.dis()"
   ]
  },
  {
   "cell_type": "code",
   "execution_count": 28,
   "metadata": {},
   "outputs": [
    {
     "name": "stdout",
     "output_type": "stream",
     "text": [
      "large melten green\n"
     ]
    }
   ],
   "source": [
    "b2.dis()"
   ]
  },
  {
   "cell_type": "code",
   "execution_count": 36,
   "metadata": {},
   "outputs": [],
   "source": [
    "class Customer:\n",
    "\n",
    "    name=None\n",
    "    cus_id=None\n",
    "    amount=None\n",
    "    def  __init__(self):\n",
    "        print(\"object created\")\n",
    "\n",
    "\n",
    "    def dis(self):\n",
    "        print(\"Customer Name: \", self.name)\n",
    "        print(f\"Customer id: {self.cus_id}\")\n",
    "        print(f\"Customer Amount: {self.amount}\")"
   ]
  },
  {
   "cell_type": "code",
   "execution_count": 38,
   "metadata": {},
   "outputs": [
    {
     "name": "stdout",
     "output_type": "stream",
     "text": [
      "object created\n"
     ]
    }
   ],
   "source": [
    "c2 = Customer()"
   ]
  },
  {
   "cell_type": "code",
   "execution_count": 37,
   "metadata": {},
   "outputs": [
    {
     "name": "stdout",
     "output_type": "stream",
     "text": [
      "object created\n",
      "Customer Name:  John\n",
      "Customer id: 2\n",
      "Customer Amount: 100\n"
     ]
    }
   ],
   "source": [
    "c2 = Customer()\n",
    "c2.name = \"John\"\n",
    "c2.cus_id=2\n",
    "c2.amount=100\n",
    "\n",
    "c2.dis()"
   ]
  },
  {
   "cell_type": "code",
   "execution_count": 31,
   "metadata": {},
   "outputs": [
    {
     "ename": "TypeError",
     "evalue": "Customer() takes no arguments",
     "output_type": "error",
     "traceback": [
      "\u001b[1;31m---------------------------------------------------------------------------\u001b[0m",
      "\u001b[1;31mTypeError\u001b[0m                                 Traceback (most recent call last)",
      "Cell \u001b[1;32mIn[31], line 1\u001b[0m\n\u001b[1;32m----> 1\u001b[0m c1\u001b[38;5;241m=\u001b[39mCustomer(\u001b[38;5;124m\"\u001b[39m\u001b[38;5;124mdeep\u001b[39m\u001b[38;5;124m\"\u001b[39m,\u001b[38;5;241m1\u001b[39m,\u001b[38;5;241m1000\u001b[39m)\n",
      "\u001b[1;31mTypeError\u001b[0m: Customer() takes no arguments"
     ]
    }
   ],
   "source": [
    "c1=Customer(\"deep\",1,1000)"
   ]
  },
  {
   "cell_type": "code",
   "execution_count": null,
   "metadata": {},
   "outputs": [],
   "source": [
    "def "
   ]
  },
  {
   "cell_type": "code",
   "execution_count": 43,
   "metadata": {},
   "outputs": [],
   "source": [
    "class Customer:\n",
    "    def  __init__(self, name, cus_id, amount):\n",
    "        self.name = name\n",
    "        self.id = cus_id\n",
    "        self.amt= amount\n",
    "\n",
    "    def dis(self):\n",
    "        print(\"Customer Name: \", self.name)\n",
    "        print(f\"Customer id: {self.id}\")\n",
    "        print(f\"Customer Amount: {self.amt}\")"
   ]
  },
  {
   "cell_type": "code",
   "execution_count": 44,
   "metadata": {},
   "outputs": [],
   "source": [
    "c2 =Customer(\"john\",343,1000)"
   ]
  },
  {
   "cell_type": "code",
   "execution_count": 45,
   "metadata": {},
   "outputs": [
    {
     "name": "stdout",
     "output_type": "stream",
     "text": [
      "Customer Name:  john\n",
      "Customer id: 343\n",
      "Customer Amount: 1000\n"
     ]
    }
   ],
   "source": [
    "c2.dis()"
   ]
  },
  {
   "cell_type": "code",
   "execution_count": 46,
   "metadata": {},
   "outputs": [],
   "source": [
    "del c2"
   ]
  },
  {
   "cell_type": "code",
   "execution_count": 47,
   "metadata": {},
   "outputs": [
    {
     "ename": "NameError",
     "evalue": "name 'c2' is not defined",
     "output_type": "error",
     "traceback": [
      "\u001b[1;31m---------------------------------------------------------------------------\u001b[0m",
      "\u001b[1;31mNameError\u001b[0m                                 Traceback (most recent call last)",
      "Cell \u001b[1;32mIn[47], line 1\u001b[0m\n\u001b[1;32m----> 1\u001b[0m c2\n",
      "\u001b[1;31mNameError\u001b[0m: name 'c2' is not defined"
     ]
    }
   ],
   "source": [
    "c2"
   ]
  },
  {
   "cell_type": "markdown",
   "metadata": {},
   "source": [
    "### Create a Vehicle class with max_speed and mileage instance attributes"
   ]
  },
  {
   "cell_type": "code",
   "execution_count": 1,
   "metadata": {},
   "outputs": [
    {
     "name": "stdout",
     "output_type": "stream",
     "text": [
      "Max Speed: 120 mph\n",
      "Milage: 200 miles\n"
     ]
    }
   ],
   "source": [
    "class Vehicle:\n",
    "    def __init__(self, max_speed, milage):\n",
    "        self.max_speed = max_speed\n",
    "        self.milage = milage\n",
    "\n",
    "    def display(self):\n",
    "        print(f\"Max Speed: {self.max_speed} mph\")\n",
    "        print(f\"Milage: {self.milage} miles\")\n",
    "\n",
    "\n",
    "car1 =  Vehicle(120, 200)\n",
    "car1.display()\n",
    "\n"
   ]
  },
  {
   "cell_type": "code",
   "execution_count": 7,
   "metadata": {},
   "outputs": [
    {
     "name": "stdout",
     "output_type": "stream",
     "text": [
      "I can eat\n",
      "My name is  Rohu\n"
     ]
    }
   ],
   "source": [
    "class Animal:\n",
    "    # attribute and method of the parent class\n",
    "    name = \"\"\n",
    "    def eat(self):\n",
    "        print(\"I can eat\")\n",
    "\n",
    "# inherit from Animal\n",
    "class Dog(Animal):\n",
    "    # new method in subclass\n",
    "    def display(self):\n",
    "        # access name attribute of superclass using self\n",
    "        print(\"My name is \", self.name)\n",
    "\n",
    "# create an object of the subclass\n",
    "labrador = Dog()\n",
    "# access superclass attribute and method \n",
    "labrador.name = \"Rohu\"\n",
    "labrador.eat()\n",
    "# call subclass method \n",
    "labrador.display()"
   ]
  },
  {
   "cell_type": "code",
   "execution_count": 10,
   "metadata": {},
   "outputs": [],
   "source": [
    "class pom(Dog): #multilevel  Animal-> Dog-> Pom\n",
    "    pass"
   ]
  },
  {
   "cell_type": "code",
   "execution_count": 9,
   "metadata": {},
   "outputs": [],
   "source": [
    "class pom(Dog,Animal):  #multiple  inheritance  (Dog , Animal)\n",
    "    pass"
   ]
  },
  {
   "cell_type": "code",
   "execution_count": 13,
   "metadata": {},
   "outputs": [],
   "source": [
    "class Animal:\n",
    "    name = \"\"\n",
    "    def eat(self):\n",
    "        print(\"I can eat\")\n",
    "\n",
    "class Dog(Animal):\n",
    "    def display(self):\n",
    "        print(\"My name is \", self.name)\n",
    "\n",
    "    def eat(self):\n",
    "        print(\"I can eat  dog food\")\n",
    "\n",
    "class Cat(Animal):\n",
    "    def display(self):\n",
    "        print(\"My name is \", self.name)\n",
    "\n",
    "    def eat(self):\n",
    "        print(\"I can eat  cat food\")\n"
   ]
  },
  {
   "cell_type": "code",
   "execution_count": 23,
   "metadata": {},
   "outputs": [
    {
     "name": "stdout",
     "output_type": "stream",
     "text": [
      "I can eat  dog food\n",
      "My name is  Rohu\n"
     ]
    }
   ],
   "source": [
    "labrador = Dog()\n",
    "labrador.name = \"Rohu\"\n",
    "labrador.eat()\n",
    "labrador.display()"
   ]
  },
  {
   "cell_type": "code",
   "execution_count": 24,
   "metadata": {},
   "outputs": [
    {
     "name": "stdout",
     "output_type": "stream",
     "text": [
      "I can eat  cat food\n",
      "My name is  mie\n"
     ]
    }
   ],
   "source": [
    "cat = Cat()\n",
    "cat.name = \"mie\"\n",
    "cat.eat()\n",
    "cat.display()"
   ]
  },
  {
   "cell_type": "code",
   "execution_count": 25,
   "metadata": {},
   "outputs": [
    {
     "name": "stdout",
     "output_type": "stream",
     "text": [
      "I can eat  dog food\n",
      "My name is  Rohu\n",
      "I can eat  cat food\n",
      "My name is  mie\n"
     ]
    }
   ],
   "source": [
    "for i in (labrador,cat):   # polymorfism\n",
    "    i.eat()\n",
    "    i.display()"
   ]
  },
  {
   "cell_type": "code",
   "execution_count": 27,
   "metadata": {},
   "outputs": [
    {
     "data": {
      "text/plain": [
       "9"
      ]
     },
     "execution_count": 27,
     "metadata": {},
     "output_type": "execute_result"
    }
   ],
   "source": [
    "4+5"
   ]
  },
  {
   "cell_type": "code",
   "execution_count": 28,
   "metadata": {},
   "outputs": [
    {
     "data": {
      "text/plain": [
       "'45'"
      ]
     },
     "execution_count": 28,
     "metadata": {},
     "output_type": "execute_result"
    }
   ],
   "source": [
    "\"4\"+\"5\""
   ]
  },
  {
   "cell_type": "code",
   "execution_count": 42,
   "metadata": {},
   "outputs": [],
   "source": [
    "#encapsulation\n",
    "class Animal:\n",
    "    def  __init__(self, name):\n",
    "        self.__name = name\n",
    "    def eat(self):\n",
    "        print(\"I can eat\")\n",
    "    def get_name(self):\n",
    "        return self.__name\n",
    "\n",
    "    def  set_name(self, name):\n",
    "        self.__name = name\n",
    "\n",
    "class Dog(Animal):\n",
    "    def display(self):\n",
    "        name = self.get_name()\n",
    "        print(\"My name is \", name)\n",
    "\n",
    "    def eat(self):\n",
    "        print(\"I can eat  dog food\")\n",
    "\n",
    "class Cat(Animal):\n",
    "    def display(self):\n",
    "        print(\"My name is \", self.name)\n",
    "\n",
    "    def eat(self):\n",
    "        print(\"I can eat  cat food\")"
   ]
  },
  {
   "cell_type": "code",
   "execution_count": 43,
   "metadata": {},
   "outputs": [
    {
     "name": "stdout",
     "output_type": "stream",
     "text": [
      "My name is  ddd\n"
     ]
    }
   ],
   "source": [
    "dog1 = Dog(\"ddd\")\n",
    "dog1.display()"
   ]
  },
  {
   "cell_type": "code",
   "execution_count": 44,
   "metadata": {},
   "outputs": [],
   "source": [
    "dog1.set_name(\"deep\")"
   ]
  },
  {
   "cell_type": "code",
   "execution_count": 45,
   "metadata": {},
   "outputs": [
    {
     "name": "stdout",
     "output_type": "stream",
     "text": [
      "My name is  deep\n"
     ]
    }
   ],
   "source": [
    "dog1.display()"
   ]
  },
  {
   "cell_type": "code",
   "execution_count": null,
   "metadata": {},
   "outputs": [],
   "source": []
  },
  {
   "cell_type": "code",
   "execution_count": 54,
   "metadata": {},
   "outputs": [
    {
     "name": "stdout",
     "output_type": "stream",
     "text": [
      "200\n",
      "1\n",
      "1\n"
     ]
    }
   ],
   "source": [
    "import requests\n",
    "from bs4 import BeautifulSoup\n",
    "import lxml\n",
    "\n",
    "# URL of the product page (This example URL is generic; you need the URL of the specific mobile page)\n",
    "url = \"https://www.amazon.in/POCO-Mirror-Black-RAM-Storage/dp/B0CSDSJ31L?pd_rd_w=nJl6Q&content-id=amzn1.sym.4208c4b0-bca1-4d25-819d-4a63e3b5b520&pf_rd_p=4208c4b0-bca1-4d25-819d-4a63e3b5b520&pf_rd_r=M2DR6ZCX3Z9TPC4BHVG5&pd_rd_wg=GLokb&pd_rd_r=2a4c31a2-3904-4461-9486-05a939847d02&pd_rd_i=B0CSDSJ31L&ref_=pd_hp_d_btf_unk_B0CSDSJ31L\"\n",
    "\n",
    "# Set up headers to mimic a browser request (prevents blocking)\n",
    "headers = {\n",
    "    \"User-Agent\": \"Mozilla/5.0 (Windows NT 10.0; Win64; x64) AppleWebKit/537.36 (KHTML, like Gecko) Chrome/58.0.3029.110 Safari/537.3\"\n",
    "}\n",
    "\n",
    "# Send a GET request to fetch the HTML content of the page\n",
    "response = requests.get(url, headers=headers)\n",
    "print(response.status_code)\n",
    "# Check if the request was successful (status code 200)\n",
    "if response.status_code == 200:\n",
    "    print(1)\n",
    "    # Parse the HTML content using BeautifulSoup\n",
    "    soup = BeautifulSoup(response.content, 'lxml')\n",
    "    print(1)\n",
    "    # Find all the product containers (specific to Amazon structure; class names may change over time)\n",
    "    for product in soup.find_all('div', {'data-component-type': 's-search-result'}):\n",
    "        # Extract product title\n",
    "        print(product)\n",
    "        title = product.h2.text.strip()\n",
    "        print(f\"Product Title: {title}\")\n",
    "        # Extract price (Note: Price may not always be available or could be in different parts of the page)\n",
    "        price_whole = product.find('span', class_='a-price-whole')\n",
    "        price_fraction = product.find('span', class_='a-price-fraction')\n",
    "        print(1)\n",
    "        if price_whole and price_fraction:\n",
    "            price = price_whole.text + price_fraction.text\n",
    "        else:\n",
    "            price = \"Price not available\"\n",
    "\n",
    "        # Extract product rating (if available)\n",
    "        rating = product.find('span', class_='a-icon-alt')\n",
    "        if rating:\n",
    "            rating = rating.text\n",
    "        else:\n",
    "            rating = \"No rating available\"\n",
    "\n",
    "        # Print the extracted details\n",
    "        print(f\"Product Title: {title}\")\n",
    "        print(f\"Price: {price}\")\n",
    "        print(f\"Rating: {rating}\")\n",
    "        print(\"-\" * 40)\n",
    "\n",
    "else:\n",
    "    print(f\"Failed to retrieve the page. Status code: {response.status_code}\")\n"
   ]
  },
  {
   "cell_type": "code",
   "execution_count": 26,
   "metadata": {},
   "outputs": [
    {
     "name": "stdout",
     "output_type": "stream",
     "text": [
      "My name is Buddy\n",
      "I can eat dog food\n",
      "My name is Whiskers\n",
      "I can eat cat food\n"
     ]
    }
   ],
   "source": [
    "class Animal:\n",
    "    def __init__(self, name=\"\"):\n",
    "        self.__name = name  # Private attribute\n",
    "\n",
    "    # Getter for name\n",
    "    def get_name(self):\n",
    "        return self.__name\n",
    "\n",
    "    # Setter for name\n",
    "    def set_name(self, name):\n",
    "        self.__name = name\n",
    "\n",
    "    def eat(self):\n",
    "        print(\"I can eat\")\n",
    "\n",
    "class Dog(Animal):\n",
    "    def display(self):\n",
    "        print(\"My name is\", self.get_name())  # Accessing the private attribute through a getter\n",
    "\n",
    "    def eat(self):\n",
    "        print(\"I can eat dog food\")\n",
    "\n",
    "class Cat(Animal):\n",
    "    def display(self):\n",
    "        print(\"My name is\", self.get_name())  # Accessing the private attribute through a getter\n",
    "\n",
    "    def eat(self):\n",
    "        print(\"I can eat cat food\")\n",
    "\n",
    "\n",
    "# Create Dog and Cat objects\n",
    "dog = Dog()\n",
    "dog.set_name(\"Buddy\")  # Set the private attribute using the setter\n",
    "dog.display()          # Output: My name is Buddy\n",
    "dog.eat()              # Output: I can eat dog food\n",
    "\n",
    "cat = Cat()\n",
    "cat.set_name(\"Whiskers\")  # Set the private attribute using the setter\n",
    "cat.display()             # Output: My name is Whiskers\n",
    "cat.eat()                 # Output: I can eat cat food\n"
   ]
  },
  {
   "cell_type": "code",
   "execution_count": null,
   "metadata": {},
   "outputs": [],
   "source": []
  },
  {
   "cell_type": "code",
   "execution_count": null,
   "metadata": {},
   "outputs": [],
   "source": []
  },
  {
   "cell_type": "code",
   "execution_count": null,
   "metadata": {},
   "outputs": [],
   "source": []
  },
  {
   "cell_type": "code",
   "execution_count": null,
   "metadata": {},
   "outputs": [],
   "source": []
  },
  {
   "cell_type": "code",
   "execution_count": null,
   "metadata": {},
   "outputs": [],
   "source": []
  },
  {
   "cell_type": "code",
   "execution_count": null,
   "metadata": {},
   "outputs": [],
   "source": [
    "class Car:\n",
    "    def __init__(self, brand, year):\n",
    "        self.brand = brand      # Public attribute\n",
    "        self.__year = year      # Private attribute (by convention, using __ makes it private)\n",
    "\n",
    "    # Public method to access the private attribute\n",
    "    def get_year(self):\n",
    "        return self.__year\n",
    "\n",
    "    # Public method to modify the private attribute\n",
    "    def set_year(self, year):\n",
    "        if year > 1885:  # Cars weren't invented before 1886, so adding validation\n",
    "            self.__year = year\n",
    "        else:\n",
    "            print(\"Invalid year!\")\n",
    "\n",
    "# Create an object of the Car class\n",
    "my_car = Car(\"Toyota\", 2020)\n",
    "\n",
    "# Access public attribute\n",
    "print(my_car.brand)  # Output: Toyota\n",
    "\n",
    "# Try to access private attribute directly (will fail)\n",
    "# print(my_car.__year)  # This will raise an AttributeError\n",
    "\n",
    "# Access the private attribute through the public method\n",
    "print(my_car.get_year())  # Output: 2020\n",
    "\n",
    "# Modify the private attribute using the setter method\n",
    "my_car.set_year(2023)\n",
    "print(my_car.get_year())  # Output: 2023"
   ]
  }
 ],
 "metadata": {
  "kernelspec": {
   "display_name": "base",
   "language": "python",
   "name": "python3"
  },
  "language_info": {
   "codemirror_mode": {
    "name": "ipython",
    "version": 3
   },
   "file_extension": ".py",
   "mimetype": "text/x-python",
   "name": "python",
   "nbconvert_exporter": "python",
   "pygments_lexer": "ipython3",
   "version": "3.11.9"
  }
 },
 "nbformat": 4,
 "nbformat_minor": 2
}
