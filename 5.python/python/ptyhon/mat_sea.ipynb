{
 "cells": [
  {
   "cell_type": "markdown",
   "metadata": {},
   "source": [
    "## Matplotilp\n",
    "\n",
    "https://www.geeksforgeeks.org/matplotlib-tutorial/\n",
    "\n",
    "https://www.kaggle.com/code/prashant111/matplotlib-tutorial-for-beginners"
   ]
  },
  {
   "cell_type": "markdown",
   "metadata": {},
   "source": [
    "#matplotlib, seaborn >>important from interview, plotly >> interactive, bokeh\n",
    "\n",
    "https://matplotlib.org/stable/tutorials/pyplot.html#sphx-glr-tutorials-pyplot-py\n",
    "\n",
    "\n",
    "#plt.style.use('classic')\\\n",
    "#http://tonysyu.github.io/raw_content/matplotlib-style-gallery/gallery.html\n",
    "\n"
   ]
  },
  {
   "cell_type": "code",
   "execution_count": null,
   "metadata": {},
   "outputs": [],
   "source": [
    "# pip install matplotlib\n",
    "import matplotlib.pyplot as plt\n",
    "import numpy as np\n",
    "import pandas as pd"
   ]
  },
  {
   "cell_type": "code",
   "execution_count": null,
   "metadata": {},
   "outputs": [],
   "source": []
  }
 ],
 "metadata": {
  "kernelspec": {
   "display_name": "base",
   "language": "python",
   "name": "python3"
  },
  "language_info": {
   "codemirror_mode": {
    "name": "ipython",
    "version": 3
   },
   "file_extension": ".py",
   "mimetype": "text/x-python",
   "name": "python",
   "nbconvert_exporter": "python",
   "pygments_lexer": "ipython3",
   "version": "3.11.9"
  }
 },
 "nbformat": 4,
 "nbformat_minor": 2
}
