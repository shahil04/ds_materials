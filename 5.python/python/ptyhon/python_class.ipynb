{
 "cells": [
  {
   "cell_type": "code",
   "execution_count": 1,
   "metadata": {},
   "outputs": [],
   "source": [
    "import pandas as pd"
   ]
  },
  {
   "cell_type": "markdown",
   "metadata": {},
   "source": [
    "Python Fundamentals\n",
    "Python Variables and Literals\n",
    "    Assigning values to Variables in Python\n",
    "    Changing the Value of a Variable in Python\n",
    "    Assigning multiple values to multiple variables\n",
    "     Numeric Literals\n",
    "     String Literals\n",
    "      Boolean Literals\n",
    "      Python contains one special literal None\n",
    "      Collection Literals\n",
    "      collection literals. List, Tuple, Dict, and Set literals.\n",
    "Python Type Conversion\n",
    "    There are two types of type conversion in Python.\n",
    "        Implicit Conversion - automatic type conversion\n",
    "\n",
    "        Explicit Conversion - manual type conversion\n",
    "    \n",
    "Python Basic Input and Output\n",
    "        print(object= separator= end= file= flush=)\n",
    "\n",
    "Python Operators"
   ]
  },
  {
   "cell_type": "markdown",
   "metadata": {},
   "source": [
    "Install Python on Windows\n",
    "To install Python on your Windows, just follow these steps:\n",
    "\n",
    "Install VS Code\n",
    "Download Python Installer File\n",
    "Run the Installer\n",
    "Install Python\n",
    "Verify your installation\n",
    "\n",
    "Your First Python Program\n",
    "\n",
    "There are two things to note about print():\n",
    "\n",
    "Everything we want to display on the screen is included inside the parentheses ().\n",
    "The text we want to print is placed within double quotes \" \""
   ]
  },
  {
   "cell_type": "code",
   "execution_count": 14,
   "metadata": {},
   "outputs": [
    {
     "name": "stdout",
     "output_type": "stream",
     "text": [
      "hello world\n"
     ]
    }
   ],
   "source": [
    "\n",
    "print(\"hello world\")"
   ]
  },
  {
   "cell_type": "code",
   "execution_count": 15,
   "metadata": {},
   "outputs": [
    {
     "name": "stdout",
     "output_type": "stream",
     "text": [
      "hello world\n"
     ]
    }
   ],
   "source": [
    "# this function work for print message\n",
    "# this function work for print message\n",
    "\n",
    "'''sdfdfdf\n",
    "sdffgdgdf\n",
    "dgffdgdfg\n",
    "dfgdfgfdgdfgd\n",
    "sfdfsdfsydr\n",
    "htrhdrfthhgf\n",
    "efsedfsdfrer\n",
    "rtyhrthrh'''\n",
    "\n",
    "\n",
    "def cll():\n",
    "    print(\"hello world\")  #  this line print hello world\n",
    "\n",
    "\n",
    "cll()"
   ]
  },
  {
   "cell_type": "code",
   "execution_count": 21,
   "metadata": {},
   "outputs": [
    {
     "name": "stdout",
     "output_type": "stream",
     "text": [
      "shahil\n"
     ]
    }
   ],
   "source": [
    "var =\"shahil\"\n",
    "print(var)"
   ]
  },
  {
   "cell_type": "code",
   "execution_count": 26,
   "metadata": {},
   "outputs": [],
   "source": [
    "gdfgfgdfg = \"shahil \""
   ]
  },
  {
   "cell_type": "code",
   "execution_count": 27,
   "metadata": {},
   "outputs": [
    {
     "data": {
      "text/plain": [
       "'shahil '"
      ]
     },
     "execution_count": 27,
     "metadata": {},
     "output_type": "execute_result"
    }
   ],
   "source": [
    "gdfgfgdfg"
   ]
  },
  {
   "cell_type": "code",
   "execution_count": 31,
   "metadata": {},
   "outputs": [],
   "source": [
    "first_name =\"shahil\"\n"
   ]
  },
  {
   "cell_type": "code",
   "execution_count": 32,
   "metadata": {},
   "outputs": [
    {
     "data": {
      "text/plain": [
       "8"
      ]
     },
     "execution_count": 32,
     "metadata": {},
     "output_type": "execute_result"
    }
   ],
   "source": [
    "num1 =3\n",
    "num =5\n",
    "\n",
    "num+num1"
   ]
  },
  {
   "cell_type": "code",
   "execution_count": 36,
   "metadata": {},
   "outputs": [
    {
     "name": "stdout",
     "output_type": "stream",
     "text": [
      "The sum is: 25 hello 10\n"
     ]
    }
   ],
   "source": [
    "number1 = 10\n",
    "number2 = 15\n",
    "\n",
    "sum = number1 + number2\n",
    "\n",
    "print(\"The sum is:\", sum, \"hello\",number1)\n"
   ]
  },
  {
   "cell_type": "code",
   "execution_count": 39,
   "metadata": {},
   "outputs": [],
   "source": [
    "name = None"
   ]
  },
  {
   "cell_type": "markdown",
   "metadata": {},
   "source": [
    "- step 1 https://www.programiz.com/python-programming/first-program\n",
    "- "
   ]
  },
  {
   "cell_type": "markdown",
   "metadata": {},
   "source": [
    "Comments are hints that we add to our code to make it easier to understand. Python comments start with #\n",
    "# print a number\n",
    "print(25)"
   ]
  },
  {
   "cell_type": "code",
   "execution_count": null,
   "metadata": {},
   "outputs": [],
   "source": [
    "# Single-line Comment\n",
    "# declare a variable\n",
    "name = \"John\"\n",
    "\n",
    "# print name\n",
    "print(name)    # John\n",
    "\n",
    "# Multiline Comments\n",
    "\n",
    "# This is an example of a multiline comment\n",
    "# created using multiple single-line commenced\n",
    "# The code prints the text Hello World\n",
    "print(\"Hello, World!\")\n",
    "\n",
    "\n",
    "'''This is an example \n",
    "of multiline comment'''\n",
    "print(\"Hello, World!\")\n",
    "\n",
    "# Prevent Executing Code Using Comments\n",
    "# Comments are valuable when debugging code.\n",
    "\n",
    "# Why Use Comments?\n",
    "# We should use comments:\n",
    "\n",
    "# For future references, as comments make our code readable.\n",
    "# For debugging.\n",
    "# For code collaboration, as comments help peer developers to understand each other's code.\n"
   ]
  },
  {
   "cell_type": "markdown",
   "metadata": {},
   "source": [
    "### Short Notes on Python Lists\n",
    "\n",
    "- **Python List**: A versatile, ordered, and mutable data type that can store multiple items of different types.\n",
    "\n",
    "- **Creating a List**: Use square brackets `[]`, separating elements by commas.\n",
    "  ```python\n",
    "  ages = [19, 26, 29]\n",
    "  ```\n",
    "\n",
    "- **List Characteristics**:\n",
    "  - **Ordered**: Items maintain their sequence.\n",
    "  - **Mutable**: Items can be modified after creation.\n",
    "  - **Allow Duplicates**: Lists can store duplicate values.\n",
    "\n",
    "- **Accessing List Elements**: Use indexing to access list elements.\n",
    "  ```python\n",
    "  languages = ['Python', 'Swift', 'C++']\n",
    "  print(languages[0])  # Output: Python\n",
    "  ```\n",
    "\n",
    "- **Negative Indexing**: Access elements from the end using negative indices (`-1` for last element).\n",
    "  ```python\n",
    "  print(languages[-1])  # Output: C++\n",
    "  ```\n",
    "\n",
    "- **Slicing a List**: Retrieve parts of a list using slicing (e.g., `list[start:end]`).\n",
    "\n",
    "- **Adding Elements**:\n",
    "  - **append()**: Adds an item to the end of the list.\n",
    "    ```python\n",
    "    fruits.append('cherry')\n",
    "    ```\n",
    "  - **extend()**: Adds elements from another iterable.\n",
    "    ```python\n",
    "    numbers.extend(even_numbers)\n",
    "    ```\n",
    "\n",
    "- **Modifying List Items**: Assign a new value using the index.\n",
    "  ```python\n",
    "  colors[2] = 'Blue'\n",
    "  ```\n",
    "\n",
    "- **Removing Elements**:\n",
    "  - **remove()**: Removes the first occurrence of the specified value.\n",
    "    ```python\n",
    "    numbers.remove(4)\n",
    "    ```\n",
    "  - **del**: Deletes an item or a slice from the list.\n",
    "    ```python\n",
    "    del names[1:4]\n",
    "    ```\n",
    "\n",
    "- **Finding Length**: Use `len()` to get the number of items in a list.\n",
    "  ```python\n",
    "  len(cars)  # Output: 3\n",
    "  ```\n",
    "\n",
    "- **Iterating Through a List**: Use a `for` loop to iterate.\n",
    "  ```python\n",
    "  for fruit in fruits:\n",
    "      print(fruit)\n",
    "  ```\n",
    "\n",
    "- **List Methods**:\n",
    "  - `append()`, `extend()`, `insert()`, `remove()`, `pop()`, `clear()`, `index()`, `count()`, `sort()`, `reverse()`, `copy()`\n",
    "\n",
    "- **Checking if an Item Exists**: Use the `in` keyword.\n",
    "  ```python\n",
    "  'cherry' in fruits  # Output: True\n",
    "  ```\n",
    "\n",
    "- **Challenge**: Write a function to find the largest number in a list.\n",
    "  ```python\n",
    "  def find_largest(nums):\n",
    "      return max(nums)\n",
    "\n",
    "  print(find_largest([1, 2, 9, 4, 5]))  # Output: 9\n",
    "  ```"
   ]
  },
  {
   "cell_type": "code",
   "execution_count": null,
   "metadata": {},
   "outputs": [],
   "source": []
  }
 ],
 "metadata": {
  "kernelspec": {
   "display_name": "base",
   "language": "python",
   "name": "python3"
  },
  "language_info": {
   "codemirror_mode": {
    "name": "ipython",
    "version": 3
   },
   "file_extension": ".py",
   "mimetype": "text/x-python",
   "name": "python",
   "nbconvert_exporter": "python",
   "pygments_lexer": "ipython3",
   "version": "3.11.9"
  }
 },
 "nbformat": 4,
 "nbformat_minor": 2
}
