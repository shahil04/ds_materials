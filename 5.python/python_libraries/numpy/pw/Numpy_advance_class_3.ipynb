{
  "cells": [
    {
      "cell_type": "code",
      "execution_count": null,
      "id": "6d2c5c80",
      "metadata": {
        "id": "6d2c5c80"
      },
      "outputs": [],
      "source": [
        "import numpy as np\n",
        "arr = np.ones((3, 4))"
      ]
    },
    {
      "cell_type": "code",
      "execution_count": null,
      "id": "0cf245ff",
      "metadata": {
        "id": "0cf245ff",
        "outputId": "e26add7f-7492-4230-d095-4b99ed6fdbc4"
      },
      "outputs": [
        {
          "data": {
            "text/plain": [
              "array([[1., 1., 1., 1.],\n",
              "       [1., 1., 1., 1.],\n",
              "       [1., 1., 1., 1.]])"
            ]
          },
          "execution_count": 4,
          "metadata": {},
          "output_type": "execute_result"
        }
      ],
      "source": [
        "arr"
      ]
    },
    {
      "cell_type": "code",
      "execution_count": null,
      "id": "3e3453da",
      "metadata": {
        "id": "3e3453da",
        "outputId": "9dd80686-ad9b-450d-9ac4-3c69092bda6c"
      },
      "outputs": [
        {
          "data": {
            "text/plain": [
              "array([[6., 6., 6., 6.],\n",
              "       [6., 6., 6., 6.],\n",
              "       [6., 6., 6., 6.]])"
            ]
          },
          "execution_count": 5,
          "metadata": {},
          "output_type": "execute_result"
        }
      ],
      "source": [
        "arr + 5"
      ]
    },
    {
      "cell_type": "code",
      "execution_count": null,
      "id": "d8ee1828",
      "metadata": {
        "id": "d8ee1828",
        "outputId": "f05eda6d-d1f0-4c67-f443-e482b727789b"
      },
      "outputs": [
        {
          "data": {
            "text/plain": [
              "array([[5., 5., 5., 5.],\n",
              "       [5., 5., 5., 5.],\n",
              "       [5., 5., 5., 5.]])"
            ]
          },
          "execution_count": 6,
          "metadata": {},
          "output_type": "execute_result"
        }
      ],
      "source": [
        "arr*5"
      ]
    },
    {
      "cell_type": "code",
      "execution_count": null,
      "id": "780a18b9",
      "metadata": {
        "id": "780a18b9",
        "outputId": "bf9dddd2-78d0-431b-a7e8-896f55bca8a8"
      },
      "outputs": [
        {
          "data": {
            "text/plain": [
              "array([[5., 5., 5., 5.],\n",
              "       [5., 5., 5., 5.],\n",
              "       [5., 5., 5., 5.]])"
            ]
          },
          "execution_count": 15,
          "metadata": {},
          "output_type": "execute_result"
        }
      ],
      "source": [
        "np.empty((3, 4))"
      ]
    },
    {
      "cell_type": "code",
      "execution_count": null,
      "id": "5276a22f",
      "metadata": {
        "id": "5276a22f",
        "outputId": "d0c869a8-af58-4949-d958-0d50d9d8a6ff"
      },
      "outputs": [
        {
          "data": {
            "text/plain": [
              "array([[1, 0, 0],\n",
              "       [0, 1, 0],\n",
              "       [0, 0, 1]])"
            ]
          },
          "execution_count": 22,
          "metadata": {},
          "output_type": "execute_result"
        }
      ],
      "source": [
        "np.eye(3, dtype = int) #n*n matrix #tO calculate inverse of matroix"
      ]
    },
    {
      "cell_type": "code",
      "execution_count": null,
      "id": "fa09cc61",
      "metadata": {
        "id": "fa09cc61",
        "outputId": "78e3c2af-d2cf-4925-b2a0-85eccb8df9e6"
      },
      "outputs": [
        {
          "data": {
            "text/plain": [
              "array([[1., 1., 1., 1.],\n",
              "       [1., 1., 1., 1.],\n",
              "       [1., 1., 1., 1.]])"
            ]
          },
          "execution_count": 23,
          "metadata": {},
          "output_type": "execute_result"
        }
      ],
      "source": [
        "arr"
      ]
    },
    {
      "cell_type": "code",
      "execution_count": null,
      "id": "cf144ec0",
      "metadata": {
        "id": "cf144ec0",
        "outputId": "fd319ee9-3ee8-4d8a-da37-8df56a2f3ef4"
      },
      "outputs": [
        {
          "data": {
            "text/html": [
              "<div>\n",
              "<style scoped>\n",
              "    .dataframe tbody tr th:only-of-type {\n",
              "        vertical-align: middle;\n",
              "    }\n",
              "\n",
              "    .dataframe tbody tr th {\n",
              "        vertical-align: top;\n",
              "    }\n",
              "\n",
              "    .dataframe thead th {\n",
              "        text-align: right;\n",
              "    }\n",
              "</style>\n",
              "<table border=\"1\" class=\"dataframe\">\n",
              "  <thead>\n",
              "    <tr style=\"text-align: right;\">\n",
              "      <th></th>\n",
              "      <th>0</th>\n",
              "      <th>1</th>\n",
              "      <th>2</th>\n",
              "      <th>3</th>\n",
              "    </tr>\n",
              "  </thead>\n",
              "  <tbody>\n",
              "    <tr>\n",
              "      <th>0</th>\n",
              "      <td>1.0</td>\n",
              "      <td>1.0</td>\n",
              "      <td>1.0</td>\n",
              "      <td>1.0</td>\n",
              "    </tr>\n",
              "    <tr>\n",
              "      <th>1</th>\n",
              "      <td>1.0</td>\n",
              "      <td>1.0</td>\n",
              "      <td>1.0</td>\n",
              "      <td>1.0</td>\n",
              "    </tr>\n",
              "    <tr>\n",
              "      <th>2</th>\n",
              "      <td>1.0</td>\n",
              "      <td>1.0</td>\n",
              "      <td>1.0</td>\n",
              "      <td>1.0</td>\n",
              "    </tr>\n",
              "  </tbody>\n",
              "</table>\n",
              "</div>"
            ],
            "text/plain": [
              "     0    1    2    3\n",
              "0  1.0  1.0  1.0  1.0\n",
              "1  1.0  1.0  1.0  1.0\n",
              "2  1.0  1.0  1.0  1.0"
            ]
          },
          "execution_count": 24,
          "metadata": {},
          "output_type": "execute_result"
        }
      ],
      "source": [
        "#optional\n",
        "\n",
        "import pandas as pd\n",
        "pd.DataFrame(arr)"
      ]
    },
    {
      "cell_type": "code",
      "execution_count": 1,
      "id": "09bf2be2",
      "metadata": {
        "id": "09bf2be2",
        "outputId": "01534bc6-9e13-4c9c-d790-7336db20d48f"
      },
      "outputs": [
        {
          "data": {
            "text/plain": [
              "7.149147899375323"
            ]
          },
          "execution_count": 1,
          "metadata": {},
          "output_type": "execute_result"
        }
      ],
      "source": [
        "#extra topics\n",
        "import random\n",
        "random.choice((1, 2, 3, 4, 5, 6))\n",
        "\n",
        "random.choice('Ajay')\n",
        "random.randrange(1, 10)\n",
        "random.random() # a random no is generated between o (included), 1 will be excluded\n",
        "\n",
        "lis = [1, 2, 3, 4, 5]\n",
        "random.shuffle(lis)\n",
        "\n",
        "random.uniform(7, 14) #a no between 7 and 14"
      ]
    },
    {
      "cell_type": "code",
      "execution_count": 2,
      "id": "8c35d578",
      "metadata": {
        "id": "8c35d578"
      },
      "outputs": [
        {
          "ename": "NameError",
          "evalue": "name 'np' is not defined",
          "output_type": "error",
          "traceback": [
            "\u001b[1;31m---------------------------------------------------------------------------\u001b[0m",
            "\u001b[1;31mNameError\u001b[0m                                 Traceback (most recent call last)",
            "Cell \u001b[1;32mIn[2], line 1\u001b[0m\n\u001b[1;32m----> 1\u001b[0m np\u001b[38;5;241m.\u001b[39marray([])\n",
            "\u001b[1;31mNameError\u001b[0m: name 'np' is not defined"
          ]
        }
      ],
      "source": [
        "np.array([])"
      ]
    },
    {
      "cell_type": "code",
      "execution_count": null,
      "id": "1112871e",
      "metadata": {
        "id": "1112871e",
        "outputId": "8a74004d-2921-483b-f733-69239ae8560e"
      },
      "outputs": [
        {
          "data": {
            "text/plain": [
              "0.9211111156563901"
            ]
          },
          "execution_count": 287,
          "metadata": {},
          "output_type": "execute_result"
        }
      ],
      "source": [
        "np.random.random_sample()"
      ]
    },
    {
      "cell_type": "code",
      "execution_count": null,
      "id": "cc3c3603",
      "metadata": {
        "id": "cc3c3603",
        "outputId": "c9058de6-818a-439e-dbe0-07697b434af1"
      },
      "outputs": [
        {
          "data": {
            "text/plain": [
              "float"
            ]
          },
          "execution_count": 279,
          "metadata": {},
          "output_type": "execute_result"
        }
      ],
      "source": [
        "type(np.random.random_sample())"
      ]
    },
    {
      "cell_type": "code",
      "execution_count": null,
      "id": "6515618a",
      "metadata": {
        "id": "6515618a",
        "outputId": "dc2b1cf7-575d-4ea6-f953-c6a6e738215f"
      },
      "outputs": [
        {
          "data": {
            "text/plain": [
              "array([0.90202035, 0.60630875, 0.15373777, 0.86313403, 0.42078372])"
            ]
          },
          "execution_count": 280,
          "metadata": {},
          "output_type": "execute_result"
        }
      ],
      "source": [
        "np.random.random_sample((5,))"
      ]
    },
    {
      "cell_type": "code",
      "execution_count": null,
      "id": "f016851d",
      "metadata": {
        "id": "f016851d",
        "outputId": "247ef1b7-b13c-4085-eaff-8279d6916ac1"
      },
      "outputs": [
        {
          "data": {
            "text/plain": [
              "array([0.11447432])"
            ]
          },
          "execution_count": 47,
          "metadata": {},
          "output_type": "execute_result"
        }
      ],
      "source": [
        "np.random.rand(1)"
      ]
    },
    {
      "cell_type": "code",
      "execution_count": null,
      "id": "b406c5cf",
      "metadata": {
        "id": "b406c5cf",
        "outputId": "35be2191-0bbd-4531-aa4e-fa863c45b05b"
      },
      "outputs": [
        {
          "data": {
            "text/plain": [
              "array([[0.36447448, 0.62336784, 0.83770828],\n",
              "       [0.96798408, 0.50156134, 0.91970993]])"
            ]
          },
          "execution_count": 44,
          "metadata": {},
          "output_type": "execute_result"
        }
      ],
      "source": [
        "np.random.rand(2, 3)"
      ]
    },
    {
      "cell_type": "code",
      "execution_count": null,
      "id": "cf700afb",
      "metadata": {
        "id": "cf700afb",
        "outputId": "34befade-95bb-446d-8f08-0de2a4f7ea2e"
      },
      "outputs": [
        {
          "data": {
            "text/plain": [
              "array([[ 0.6934026 , -0.40988039, -0.29346066],\n",
              "       [ 0.00731871,  1.51932967, -0.41561844]])"
            ]
          },
          "execution_count": 49,
          "metadata": {},
          "output_type": "execute_result"
        }
      ],
      "source": [
        "np.random.randn(2, 3)"
      ]
    },
    {
      "cell_type": "code",
      "execution_count": null,
      "id": "d299b157",
      "metadata": {
        "id": "d299b157",
        "outputId": "5c4fbf57-e19b-4f79-88cb-375922ec4acc"
      },
      "outputs": [
        {
          "data": {
            "text/plain": [
              "0.13122192085217144"
            ]
          },
          "execution_count": 50,
          "metadata": {},
          "output_type": "execute_result"
        }
      ],
      "source": [
        "np.random.random_sample()"
      ]
    },
    {
      "cell_type": "code",
      "execution_count": null,
      "id": "c3c0f7ec",
      "metadata": {
        "id": "c3c0f7ec",
        "outputId": "a334f248-dc20-49e3-8c72-0f2101db6d55"
      },
      "outputs": [
        {
          "data": {
            "text/plain": [
              "array([[1, 2, 3, 3],\n",
              "       [2, 4, 1, 4],\n",
              "       [1, 4, 4, 4]])"
            ]
          },
          "execution_count": 51,
          "metadata": {},
          "output_type": "execute_result"
        }
      ],
      "source": [
        "np.random.randint(1, 5, size = (3, 4))"
      ]
    },
    {
      "cell_type": "code",
      "execution_count": null,
      "id": "630208a5",
      "metadata": {
        "id": "630208a5"
      },
      "outputs": [],
      "source": [
        "arr = np.random.randint(1, 5, size = (3, 4))"
      ]
    },
    {
      "cell_type": "code",
      "execution_count": null,
      "id": "90051fcc",
      "metadata": {
        "id": "90051fcc",
        "outputId": "072376d0-37f0-4078-f0c7-7ec95fc000be"
      },
      "outputs": [
        {
          "data": {
            "text/plain": [
              "array([[4, 1, 1, 2],\n",
              "       [3, 2, 3, 4],\n",
              "       [4, 1, 3, 1]])"
            ]
          },
          "execution_count": 53,
          "metadata": {},
          "output_type": "execute_result"
        }
      ],
      "source": [
        "arr"
      ]
    },
    {
      "cell_type": "code",
      "execution_count": null,
      "id": "304d2c66",
      "metadata": {
        "id": "304d2c66",
        "outputId": "53e37c63-be99-4012-fbba-7f0ceae074dd"
      },
      "outputs": [
        {
          "data": {
            "text/plain": [
              "12"
            ]
          },
          "execution_count": 54,
          "metadata": {},
          "output_type": "execute_result"
        }
      ],
      "source": [
        "arr.size"
      ]
    },
    {
      "cell_type": "code",
      "execution_count": null,
      "id": "0a04274b",
      "metadata": {
        "id": "0a04274b",
        "outputId": "933b1100-9921-41d1-ab2f-7220a2081137"
      },
      "outputs": [
        {
          "data": {
            "text/plain": [
              "(3, 4)"
            ]
          },
          "execution_count": 55,
          "metadata": {},
          "output_type": "execute_result"
        }
      ],
      "source": [
        "arr.shape"
      ]
    },
    {
      "cell_type": "code",
      "execution_count": null,
      "id": "69d6405a",
      "metadata": {
        "id": "69d6405a",
        "outputId": "70c21a53-a484-46a2-88b9-ecc7aac8f257"
      },
      "outputs": [
        {
          "data": {
            "text/plain": [
              "2"
            ]
          },
          "execution_count": 56,
          "metadata": {},
          "output_type": "execute_result"
        }
      ],
      "source": [
        "arr.ndim"
      ]
    },
    {
      "cell_type": "code",
      "execution_count": null,
      "id": "c0267eb1",
      "metadata": {
        "id": "c0267eb1",
        "outputId": "2fc2ce51-68b3-4b40-d6a8-c07fb19c812e"
      },
      "outputs": [
        {
          "data": {
            "text/plain": [
              "array([[4, 1, 1, 2],\n",
              "       [3, 2, 3, 4],\n",
              "       [4, 1, 3, 1]])"
            ]
          },
          "execution_count": 57,
          "metadata": {},
          "output_type": "execute_result"
        }
      ],
      "source": [
        "arr"
      ]
    },
    {
      "cell_type": "code",
      "execution_count": null,
      "id": "cc0a7eef",
      "metadata": {
        "id": "cc0a7eef",
        "outputId": "f953afb6-c1f9-46cc-c26c-8c5665858061"
      },
      "outputs": [
        {
          "data": {
            "text/plain": [
              "array([[4, 1, 1, 2, 3, 2],\n",
              "       [3, 4, 4, 1, 3, 1]])"
            ]
          },
          "execution_count": 60,
          "metadata": {},
          "output_type": "execute_result"
        }
      ],
      "source": [
        "arr.reshape(2, 6) #array size can not change, multiples of array size"
      ]
    },
    {
      "cell_type": "code",
      "execution_count": null,
      "id": "4111d896",
      "metadata": {
        "id": "4111d896",
        "outputId": "f506e7f5-9c43-41e1-993b-9cee37bb53c3"
      },
      "outputs": [
        {
          "data": {
            "text/plain": [
              "array([[4, 1],\n",
              "       [1, 2],\n",
              "       [3, 2],\n",
              "       [3, 4],\n",
              "       [4, 1],\n",
              "       [3, 1]])"
            ]
          },
          "execution_count": 61,
          "metadata": {},
          "output_type": "execute_result"
        }
      ],
      "source": [
        "arr.reshape(6, 2)"
      ]
    },
    {
      "cell_type": "code",
      "execution_count": null,
      "id": "7d982323",
      "metadata": {
        "id": "7d982323",
        "outputId": "b72e99b9-d483-4e44-972c-ab9fab27c513"
      },
      "outputs": [
        {
          "data": {
            "text/plain": [
              "array([4, 1, 1, 2, 3, 2, 3, 4, 4, 1, 3, 1])"
            ]
          },
          "execution_count": 64,
          "metadata": {},
          "output_type": "execute_result"
        }
      ],
      "source": [
        "arr.reshape(12,)"
      ]
    },
    {
      "cell_type": "code",
      "execution_count": null,
      "id": "e2a4ab22",
      "metadata": {
        "id": "e2a4ab22",
        "outputId": "7fa8cdf6-ae8c-4391-f3a7-16081d3c5076"
      },
      "outputs": [
        {
          "data": {
            "text/plain": [
              "array([[4],\n",
              "       [1],\n",
              "       [1],\n",
              "       [2],\n",
              "       [3],\n",
              "       [2],\n",
              "       [3],\n",
              "       [4],\n",
              "       [4],\n",
              "       [1],\n",
              "       [3],\n",
              "       [1]])"
            ]
          },
          "execution_count": 65,
          "metadata": {},
          "output_type": "execute_result"
        }
      ],
      "source": [
        "arr.reshape(12, 1)"
      ]
    },
    {
      "cell_type": "code",
      "execution_count": null,
      "id": "dd8a93d2",
      "metadata": {
        "id": "dd8a93d2",
        "outputId": "6b43e27b-1dbf-43e6-87de-8d8af25abf33"
      },
      "outputs": [
        {
          "ename": "ValueError",
          "evalue": "cannot reshape array of size 12 into shape (12,2)",
          "output_type": "error",
          "traceback": [
            "\u001b[1;31m---------------------------------------------------------------------------\u001b[0m",
            "\u001b[1;31mValueError\u001b[0m                                Traceback (most recent call last)",
            "Cell \u001b[1;32mIn[66], line 1\u001b[0m\n\u001b[1;32m----> 1\u001b[0m arr\u001b[38;5;241m.\u001b[39mreshape(\u001b[38;5;241m12\u001b[39m,\u001b[38;5;241m2\u001b[39m)\n",
            "\u001b[1;31mValueError\u001b[0m: cannot reshape array of size 12 into shape (12,2)"
          ]
        }
      ],
      "source": [
        "arr.reshape(12,2)"
      ]
    },
    {
      "cell_type": "code",
      "execution_count": null,
      "id": "d27d2db9",
      "metadata": {
        "id": "d27d2db9",
        "outputId": "0c350933-7c8b-4261-ba74-0b2e25299d04"
      },
      "outputs": [
        {
          "data": {
            "text/plain": [
              "array([[4, 1, 1],\n",
              "       [2, 3, 2],\n",
              "       [3, 4, 4],\n",
              "       [1, 3, 1]])"
            ]
          },
          "execution_count": 67,
          "metadata": {},
          "output_type": "execute_result"
        }
      ],
      "source": [
        "arr.reshape(4, 3)"
      ]
    },
    {
      "cell_type": "code",
      "execution_count": null,
      "id": "88985273",
      "metadata": {
        "id": "88985273",
        "outputId": "7035cdd2-cab5-4d87-c9b0-70d2207cec00"
      },
      "outputs": [
        {
          "data": {
            "text/plain": [
              "array([[4, 1, 1, 2],\n",
              "       [3, 2, 3, 4],\n",
              "       [4, 1, 3, 1]])"
            ]
          },
          "execution_count": 68,
          "metadata": {},
          "output_type": "execute_result"
        }
      ],
      "source": [
        "arr.reshape(3,4)"
      ]
    },
    {
      "cell_type": "code",
      "execution_count": null,
      "id": "b1b1e75c",
      "metadata": {
        "id": "b1b1e75c",
        "outputId": "6122a4cd-86aa-4557-a50d-fcf87d07e80b"
      },
      "outputs": [
        {
          "data": {
            "text/plain": [
              "array([[4, 1, 1, 2],\n",
              "       [3, 2, 3, 4],\n",
              "       [4, 1, 3, 1]])"
            ]
          },
          "execution_count": 69,
          "metadata": {},
          "output_type": "execute_result"
        }
      ],
      "source": [
        "arr"
      ]
    },
    {
      "cell_type": "code",
      "execution_count": null,
      "id": "9b4a7848",
      "metadata": {
        "id": "9b4a7848",
        "outputId": "65acccae-bc25-48c3-e419-ad4946a86a07"
      },
      "outputs": [
        {
          "data": {
            "text/plain": [
              "array([[4, 1, 1],\n",
              "       [2, 3, 2],\n",
              "       [3, 4, 4],\n",
              "       [1, 3, 1]])"
            ]
          },
          "execution_count": 73,
          "metadata": {},
          "output_type": "execute_result"
        }
      ],
      "source": [
        "arr.reshape(4, -1)"
      ]
    },
    {
      "cell_type": "code",
      "execution_count": null,
      "id": "e906e39e",
      "metadata": {
        "id": "e906e39e",
        "outputId": "fef5d6df-1f9a-4b23-e94d-d0b4a589010f"
      },
      "outputs": [
        {
          "data": {
            "text/plain": [
              "array([[4, 1, 1],\n",
              "       [2, 3, 2],\n",
              "       [3, 4, 4],\n",
              "       [1, 3, 1]])"
            ]
          },
          "execution_count": 74,
          "metadata": {},
          "output_type": "execute_result"
        }
      ],
      "source": [
        "arr.reshape(4, -100)"
      ]
    },
    {
      "cell_type": "code",
      "execution_count": null,
      "id": "2bff1250",
      "metadata": {
        "id": "2bff1250",
        "outputId": "cb4b9486-7a7a-4203-c6f0-d2960e20fac8"
      },
      "outputs": [
        {
          "data": {
            "text/plain": [
              "array([[4, 1, 1, 2],\n",
              "       [3, 2, 3, 4],\n",
              "       [4, 1, 3, 1]])"
            ]
          },
          "execution_count": 75,
          "metadata": {},
          "output_type": "execute_result"
        }
      ],
      "source": [
        "arr.reshape(3, -100)"
      ]
    },
    {
      "cell_type": "code",
      "execution_count": null,
      "id": "a068091e",
      "metadata": {
        "id": "a068091e",
        "outputId": "843ab5b3-a77f-4a7c-87cb-4c29beb0338f"
      },
      "outputs": [
        {
          "data": {
            "text/plain": [
              "array([[4, 1, 1, 2],\n",
              "       [3, 2, 3, 4],\n",
              "       [4, 1, 3, 1]])"
            ]
          },
          "execution_count": 81,
          "metadata": {},
          "output_type": "execute_result"
        }
      ],
      "source": [
        "arr.reshape(-1, 4)"
      ]
    },
    {
      "cell_type": "code",
      "execution_count": null,
      "id": "5ff5cb0a",
      "metadata": {
        "id": "5ff5cb0a",
        "outputId": "bf37f66c-7cef-4a57-b0bd-277afd91de5d"
      },
      "outputs": [
        {
          "data": {
            "text/plain": [
              "array([[4, 1, 1, 2],\n",
              "       [3, 2, 3, 4],\n",
              "       [4, 1, 3, 1]])"
            ]
          },
          "execution_count": 87,
          "metadata": {},
          "output_type": "execute_result"
        }
      ],
      "source": [
        "arr"
      ]
    },
    {
      "cell_type": "code",
      "execution_count": null,
      "id": "6c443454",
      "metadata": {
        "id": "6c443454",
        "outputId": "4dca8462-f215-4d64-e583-641e63ffb0d8"
      },
      "outputs": [
        {
          "data": {
            "text/plain": [
              "array([[4, 1, 1, 2],\n",
              "       [3, 2, 3, 4],\n",
              "       [4, 1, 3, 1]])"
            ]
          },
          "execution_count": 89,
          "metadata": {},
          "output_type": "execute_result"
        }
      ],
      "source": [
        "arr.reshape(12, ).base"
      ]
    },
    {
      "cell_type": "code",
      "execution_count": null,
      "id": "4f705183",
      "metadata": {
        "id": "4f705183",
        "outputId": "51f72a37-7104-40da-98f9-ffbc6943b561"
      },
      "outputs": [
        {
          "data": {
            "text/plain": [
              "array([[4, 1, 1, 2],\n",
              "       [3, 2, 3, 4],\n",
              "       [4, 1, 3, 1]])"
            ]
          },
          "execution_count": 90,
          "metadata": {},
          "output_type": "execute_result"
        }
      ],
      "source": [
        "arr"
      ]
    },
    {
      "cell_type": "code",
      "execution_count": null,
      "id": "0774e249",
      "metadata": {
        "id": "0774e249",
        "outputId": "c13c2db8-c9a2-48b9-d872-b896b524f71b"
      },
      "outputs": [
        {
          "data": {
            "text/plain": [
              "12"
            ]
          },
          "execution_count": 91,
          "metadata": {},
          "output_type": "execute_result"
        }
      ],
      "source": [
        "arr.size"
      ]
    },
    {
      "cell_type": "code",
      "execution_count": null,
      "id": "d8f1159c",
      "metadata": {
        "id": "d8f1159c",
        "outputId": "c5cb656e-5756-4a0e-9a25-6b2aac0dfb1c"
      },
      "outputs": [
        {
          "data": {
            "text/plain": [
              "array([[[4, 1, 1],\n",
              "        [2, 3, 2]],\n",
              "\n",
              "       [[3, 4, 4],\n",
              "        [1, 3, 1]]])"
            ]
          },
          "execution_count": 92,
          "metadata": {},
          "output_type": "execute_result"
        }
      ],
      "source": [
        "arr.reshape(2, 2, 3)"
      ]
    },
    {
      "cell_type": "code",
      "execution_count": null,
      "id": "c91113ad",
      "metadata": {
        "id": "c91113ad",
        "outputId": "11d93d23-7161-44a9-afea-4a4a0dc4568d"
      },
      "outputs": [
        {
          "data": {
            "text/plain": [
              "array([[[[4, 1, 1],\n",
              "         [2, 3, 2]],\n",
              "\n",
              "        [[3, 4, 4],\n",
              "         [1, 3, 1]]]])"
            ]
          },
          "execution_count": 93,
          "metadata": {},
          "output_type": "execute_result"
        }
      ],
      "source": [
        "arr.reshape(1, 2, 2, 3)"
      ]
    },
    {
      "cell_type": "code",
      "execution_count": null,
      "id": "a561838c",
      "metadata": {
        "id": "a561838c",
        "outputId": "0640c84c-536e-4bd7-874d-8feedf011496"
      },
      "outputs": [
        {
          "data": {
            "text/plain": [
              "array([[[4],\n",
              "        [1],\n",
              "        [1]],\n",
              "\n",
              "       [[2],\n",
              "        [3],\n",
              "        [2]],\n",
              "\n",
              "       [[3],\n",
              "        [4],\n",
              "        [4]],\n",
              "\n",
              "       [[1],\n",
              "        [3],\n",
              "        [1]]])"
            ]
          },
          "execution_count": 94,
          "metadata": {},
          "output_type": "execute_result"
        }
      ],
      "source": [
        "arr.reshape(4, 3, 1)"
      ]
    },
    {
      "cell_type": "code",
      "execution_count": null,
      "id": "a1b34382",
      "metadata": {
        "id": "a1b34382",
        "outputId": "9a1b9ae3-9ac4-419e-bde0-b01d1918a3f0"
      },
      "outputs": [
        {
          "data": {
            "text/plain": [
              "array([[[[[[[[[[[[4, 1, 1],\n",
              "                 [2, 3, 2]],\n",
              "\n",
              "                [[3, 4, 4],\n",
              "                 [1, 3, 1]]]]]]]]]]]])"
            ]
          },
          "execution_count": 96,
          "metadata": {},
          "output_type": "execute_result"
        }
      ],
      "source": [
        "arr.reshape(1, 1, 1, 1, 1, 1, 1, 1, 1, 2, 2, 3)"
      ]
    },
    {
      "cell_type": "code",
      "execution_count": null,
      "id": "ca5d4613",
      "metadata": {
        "id": "ca5d4613"
      },
      "outputs": [],
      "source": [
        "lis = [1, 2, 3, 4]\n",
        "arr = np.array(lis)"
      ]
    },
    {
      "cell_type": "code",
      "execution_count": null,
      "id": "c11b423b",
      "metadata": {
        "id": "c11b423b",
        "outputId": "61144bc8-22fb-4199-85b4-51d68f3996f0"
      },
      "outputs": [
        {
          "data": {
            "text/plain": [
              "array([1, 2, 3, 4])"
            ]
          },
          "execution_count": 99,
          "metadata": {},
          "output_type": "execute_result"
        }
      ],
      "source": [
        "arr"
      ]
    },
    {
      "cell_type": "code",
      "execution_count": null,
      "id": "2264e026",
      "metadata": {
        "id": "2264e026",
        "outputId": "8f77cc87-fc14-42b8-8f8f-8c74cee1bef7"
      },
      "outputs": [
        {
          "data": {
            "text/plain": [
              "1"
            ]
          },
          "execution_count": 100,
          "metadata": {},
          "output_type": "execute_result"
        }
      ],
      "source": [
        "arr.ndim"
      ]
    },
    {
      "cell_type": "code",
      "execution_count": null,
      "id": "ae1b54a7",
      "metadata": {
        "id": "ae1b54a7",
        "outputId": "b3a053bf-b6c9-44c9-8e3f-b9457587d2e1"
      },
      "outputs": [
        {
          "data": {
            "text/plain": [
              "array([[2, 3],\n",
              "       [4, 5]])"
            ]
          },
          "execution_count": 102,
          "metadata": {},
          "output_type": "execute_result"
        }
      ],
      "source": [
        "arr2 = np.array([[2, 3], [4, 5]])\n",
        "arr2"
      ]
    },
    {
      "cell_type": "code",
      "execution_count": null,
      "id": "8399c0c7",
      "metadata": {
        "id": "8399c0c7",
        "outputId": "576f35d4-131c-4596-d3e8-606b781e7c4d"
      },
      "outputs": [
        {
          "data": {
            "text/plain": [
              "2"
            ]
          },
          "execution_count": 103,
          "metadata": {},
          "output_type": "execute_result"
        }
      ],
      "source": [
        "arr2.ndim"
      ]
    },
    {
      "cell_type": "code",
      "execution_count": null,
      "id": "3f743f0d",
      "metadata": {
        "id": "3f743f0d",
        "outputId": "52a321d8-6036-4391-96a9-dce8ef57e8c0"
      },
      "outputs": [
        {
          "data": {
            "text/plain": [
              "array([[0., 0., 0., 0.],\n",
              "       [0., 0., 0., 0.],\n",
              "       [0., 0., 0., 0.]])"
            ]
          },
          "execution_count": 105,
          "metadata": {},
          "output_type": "execute_result"
        }
      ],
      "source": [
        "arr2 = np.zeros((3, 4))\n",
        "arr2"
      ]
    },
    {
      "cell_type": "code",
      "execution_count": null,
      "id": "dbfe0fe6",
      "metadata": {
        "id": "dbfe0fe6",
        "outputId": "3b64ca22-3575-4fb4-8d6d-6f7905c30f79"
      },
      "outputs": [
        {
          "data": {
            "text/plain": [
              "2"
            ]
          },
          "execution_count": 106,
          "metadata": {},
          "output_type": "execute_result"
        }
      ],
      "source": [
        "arr2.ndim"
      ]
    },
    {
      "cell_type": "code",
      "execution_count": null,
      "id": "f98f0ec1",
      "metadata": {
        "id": "f98f0ec1",
        "outputId": "c8040b73-e521-4221-c0aa-116ada0f346a"
      },
      "outputs": [
        {
          "data": {
            "text/plain": [
              "array([[[0., 0., 0., 0.],\n",
              "        [0., 0., 0., 0.],\n",
              "        [0., 0., 0., 0.]]])"
            ]
          },
          "execution_count": 107,
          "metadata": {},
          "output_type": "execute_result"
        }
      ],
      "source": [
        "arr3 = np.zeros((1, 3, 4)) # 3 rows, 4 columns >> 2d array + 1d\n",
        "arr3"
      ]
    },
    {
      "cell_type": "code",
      "execution_count": null,
      "id": "23160134",
      "metadata": {
        "id": "23160134",
        "outputId": "5c936731-38c7-43ec-93a1-ca80226761d1"
      },
      "outputs": [
        {
          "data": {
            "text/plain": [
              "3"
            ]
          },
          "execution_count": 108,
          "metadata": {},
          "output_type": "execute_result"
        }
      ],
      "source": [
        "arr3.ndim"
      ]
    },
    {
      "cell_type": "code",
      "execution_count": null,
      "id": "07f9c9ca",
      "metadata": {
        "id": "07f9c9ca",
        "outputId": "400b0751-2f95-4fff-daba-dee18895f929"
      },
      "outputs": [
        {
          "data": {
            "text/plain": [
              "(1, 3, 4)"
            ]
          },
          "execution_count": 109,
          "metadata": {},
          "output_type": "execute_result"
        }
      ],
      "source": [
        "arr3.shape"
      ]
    },
    {
      "cell_type": "code",
      "execution_count": null,
      "id": "288b7fab",
      "metadata": {
        "id": "288b7fab",
        "outputId": "5b6abb5b-9473-4d4b-dcba-0e52b86004c6"
      },
      "outputs": [
        {
          "data": {
            "text/plain": [
              "array([[[[0., 0., 0., 0.],\n",
              "         [0., 0., 0., 0.],\n",
              "         [0., 0., 0., 0.]]]])"
            ]
          },
          "execution_count": 110,
          "metadata": {},
          "output_type": "execute_result"
        }
      ],
      "source": [
        "arr4 = np.zeros((1, 1, 3, 4)) # 3 rows, 4 columns >> 2d array + 1d +1d\n",
        "arr4"
      ]
    },
    {
      "cell_type": "code",
      "execution_count": null,
      "id": "108874e3",
      "metadata": {
        "id": "108874e3",
        "outputId": "7a517792-5910-4553-e95d-eb09344e590f"
      },
      "outputs": [
        {
          "data": {
            "text/plain": [
              "4"
            ]
          },
          "execution_count": 111,
          "metadata": {},
          "output_type": "execute_result"
        }
      ],
      "source": [
        "arr4.ndim"
      ]
    },
    {
      "cell_type": "code",
      "execution_count": null,
      "id": "4908b59b",
      "metadata": {
        "id": "4908b59b",
        "outputId": "e0880530-ef95-41c8-8462-27de7eb3377e"
      },
      "outputs": [
        {
          "data": {
            "text/plain": [
              "(1, 1, 3, 4)"
            ]
          },
          "execution_count": 112,
          "metadata": {},
          "output_type": "execute_result"
        }
      ],
      "source": [
        "arr4.shape"
      ]
    },
    {
      "cell_type": "code",
      "execution_count": null,
      "id": "239ee299",
      "metadata": {
        "id": "239ee299",
        "outputId": "0fa8e1ba-19ec-48cd-d486-0a5106a456b7"
      },
      "outputs": [
        {
          "data": {
            "text/plain": [
              "array([[[0., 0., 0., 0.],\n",
              "        [0., 0., 0., 0.],\n",
              "        [0., 0., 0., 0.]],\n",
              "\n",
              "       [[0., 0., 0., 0.],\n",
              "        [0., 0., 0., 0.],\n",
              "        [0., 0., 0., 0.]],\n",
              "\n",
              "       [[0., 0., 0., 0.],\n",
              "        [0., 0., 0., 0.],\n",
              "        [0., 0., 0., 0.]]])"
            ]
          },
          "execution_count": 120,
          "metadata": {},
          "output_type": "execute_result"
        }
      ],
      "source": [
        "arr3 = np.zeros((3, 3, 4))\n",
        "arr3"
      ]
    },
    {
      "cell_type": "code",
      "execution_count": null,
      "id": "f0858ac2",
      "metadata": {
        "id": "f0858ac2",
        "outputId": "8474381b-e99b-4d4a-af28-04c95d3823b0"
      },
      "outputs": [
        {
          "data": {
            "text/plain": [
              "3"
            ]
          },
          "execution_count": 117,
          "metadata": {},
          "output_type": "execute_result"
        }
      ],
      "source": [
        "arr3.ndim"
      ]
    },
    {
      "cell_type": "code",
      "execution_count": null,
      "id": "7789f2cc",
      "metadata": {
        "id": "7789f2cc",
        "outputId": "41b360c4-f799-4ad7-d52c-2a52494232a5"
      },
      "outputs": [
        {
          "data": {
            "text/plain": [
              "(3, 3, 4)"
            ]
          },
          "execution_count": 121,
          "metadata": {},
          "output_type": "execute_result"
        }
      ],
      "source": [
        "arr3.shape"
      ]
    },
    {
      "cell_type": "code",
      "execution_count": null,
      "id": "bd85dfdc",
      "metadata": {
        "id": "bd85dfdc"
      },
      "outputs": [],
      "source": [
        "arr1 = np.random.randint(1, 10, (5, 6))"
      ]
    },
    {
      "cell_type": "code",
      "execution_count": null,
      "id": "c6cb842b",
      "metadata": {
        "id": "c6cb842b",
        "outputId": "68456398-01a1-44bf-ebfc-a33a575d48d6"
      },
      "outputs": [
        {
          "data": {
            "text/plain": [
              "array([[2, 7, 4, 4, 8, 3],\n",
              "       [6, 4, 8, 4, 4, 2],\n",
              "       [3, 7, 5, 7, 2, 3],\n",
              "       [7, 4, 3, 5, 6, 8],\n",
              "       [5, 9, 4, 8, 4, 4]])"
            ]
          },
          "execution_count": 258,
          "metadata": {},
          "output_type": "execute_result"
        }
      ],
      "source": [
        "arr1"
      ]
    },
    {
      "cell_type": "code",
      "execution_count": null,
      "id": "d7604706",
      "metadata": {
        "id": "d7604706",
        "outputId": "0f8fdfcb-3146-4b78-973b-c95e256d2266"
      },
      "outputs": [
        {
          "data": {
            "text/plain": [
              "array([[False,  True, False, False,  True, False],\n",
              "       [ True, False,  True, False, False, False],\n",
              "       [False,  True, False,  True, False, False],\n",
              "       [ True, False, False, False,  True,  True],\n",
              "       [False,  True, False,  True, False, False]])"
            ]
          },
          "execution_count": 259,
          "metadata": {},
          "output_type": "execute_result"
        }
      ],
      "source": [
        "arr1 > 5"
      ]
    },
    {
      "cell_type": "code",
      "execution_count": null,
      "id": "3ef7c073",
      "metadata": {
        "id": "3ef7c073",
        "outputId": "b4bb52cb-10d8-4dad-b45c-98ae192e8a6d"
      },
      "outputs": [
        {
          "data": {
            "text/plain": [
              "array([7, 8, 6, 8, 7, 7, 7, 6, 8, 9, 8])"
            ]
          },
          "execution_count": 260,
          "metadata": {},
          "output_type": "execute_result"
        }
      ],
      "source": [
        "arr1[arr1 > 5]"
      ]
    },
    {
      "cell_type": "code",
      "execution_count": null,
      "id": "1d34ad7c",
      "metadata": {
        "id": "1d34ad7c",
        "outputId": "f480773d-06bf-4686-eb77-21d2d1cc3bd8"
      },
      "outputs": [
        {
          "data": {
            "text/plain": [
              "array([2, 4, 4, 3, 4, 4, 4, 2, 3, 2, 3, 4, 3, 4, 4, 4])"
            ]
          },
          "execution_count": 261,
          "metadata": {},
          "output_type": "execute_result"
        }
      ],
      "source": [
        "arr1[arr1 < 5]"
      ]
    },
    {
      "cell_type": "code",
      "execution_count": null,
      "id": "73ed1e20",
      "metadata": {
        "id": "73ed1e20",
        "outputId": "3478cf8b-e67a-4262-b654-467295972ca7"
      },
      "outputs": [
        {
          "data": {
            "text/plain": [
              "array([[2, 7, 4, 4, 8, 3],\n",
              "       [6, 4, 8, 4, 4, 2],\n",
              "       [3, 7, 5, 7, 2, 3],\n",
              "       [7, 4, 3, 5, 6, 8],\n",
              "       [5, 9, 4, 8, 4, 4]])"
            ]
          },
          "execution_count": 262,
          "metadata": {},
          "output_type": "execute_result"
        }
      ],
      "source": [
        "arr1"
      ]
    },
    {
      "cell_type": "code",
      "execution_count": null,
      "id": "a2564283",
      "metadata": {
        "id": "a2564283",
        "outputId": "310ff9ac-ffaa-4278-bcc8-5c821b9e86a4"
      },
      "outputs": [
        {
          "data": {
            "text/plain": [
              "array([[0., 0., 0., 0.],\n",
              "       [0., 0., 0., 0.],\n",
              "       [0., 0., 0., 0.]])"
            ]
          },
          "execution_count": 265,
          "metadata": {},
          "output_type": "execute_result"
        }
      ],
      "source": [
        "arr"
      ]
    },
    {
      "cell_type": "code",
      "execution_count": null,
      "id": "5adb3a1f",
      "metadata": {
        "id": "5adb3a1f",
        "outputId": "3c3b746d-6e31-4d50-d19e-c133229d9373"
      },
      "outputs": [
        {
          "data": {
            "text/plain": [
              "array([0., 0., 0., 0.])"
            ]
          },
          "execution_count": 266,
          "metadata": {},
          "output_type": "execute_result"
        }
      ],
      "source": [
        "arr[0]"
      ]
    },
    {
      "cell_type": "code",
      "execution_count": null,
      "id": "5da9d061",
      "metadata": {
        "id": "5da9d061",
        "outputId": "8544e37e-ec8f-415b-b899-4fad113a41bd"
      },
      "outputs": [
        {
          "data": {
            "text/plain": [
              "array([0., 0., 0., 0.])"
            ]
          },
          "execution_count": 268,
          "metadata": {},
          "output_type": "execute_result"
        }
      ],
      "source": [
        "arr[0]"
      ]
    },
    {
      "cell_type": "code",
      "execution_count": null,
      "id": "427f6fa8",
      "metadata": {
        "id": "427f6fa8",
        "outputId": "a25c6eca-ce9c-419e-ce70-c0a97f29101e"
      },
      "outputs": [
        {
          "data": {
            "text/plain": [
              "array([[2, 7, 4, 4, 8, 3],\n",
              "       [6, 4, 8, 4, 4, 2],\n",
              "       [3, 7, 5, 7, 2, 3],\n",
              "       [7, 4, 3, 5, 6, 8],\n",
              "       [5, 9, 4, 8, 4, 4]])"
            ]
          },
          "execution_count": 269,
          "metadata": {},
          "output_type": "execute_result"
        }
      ],
      "source": [
        "arr1"
      ]
    },
    {
      "cell_type": "code",
      "execution_count": null,
      "id": "c155e215",
      "metadata": {
        "id": "c155e215",
        "outputId": "afbc835f-ec82-49b6-8669-66291be42869"
      },
      "outputs": [
        {
          "data": {
            "text/plain": [
              "array([[2, 4],\n",
              "       [6, 8]])"
            ]
          },
          "execution_count": 276,
          "metadata": {},
          "output_type": "execute_result"
        }
      ],
      "source": [
        "arr1[0:2, [0,2]] #0th - 1st row in continuation and 0th and 2nd column"
      ]
    },
    {
      "cell_type": "code",
      "execution_count": null,
      "id": "6a55275e",
      "metadata": {
        "id": "6a55275e",
        "outputId": "5935160e-e937-4cb7-dc75-cb16a34c8e98"
      },
      "outputs": [
        {
          "data": {
            "text/plain": [
              "array([[7, 4],\n",
              "       [4, 8]])"
            ]
          },
          "execution_count": 277,
          "metadata": {},
          "output_type": "execute_result"
        }
      ],
      "source": [
        "#slicing on both rows and column\n",
        "arr1[0:2, 1:3]"
      ]
    },
    {
      "cell_type": "code",
      "execution_count": null,
      "id": "fae3b9a8",
      "metadata": {
        "id": "fae3b9a8",
        "outputId": "785bdee5-9068-47ed-ae9b-b9eec2579624"
      },
      "outputs": [
        {
          "data": {
            "text/plain": [
              "array([[2, 7],\n",
              "       [6, 4]])"
            ]
          },
          "execution_count": 272,
          "metadata": {},
          "output_type": "execute_result"
        }
      ],
      "source": [
        "arr1[0:2, [0, 1]]"
      ]
    },
    {
      "cell_type": "code",
      "execution_count": null,
      "id": "ee573a81",
      "metadata": {
        "id": "ee573a81"
      },
      "outputs": [],
      "source": [
        "arr"
      ]
    },
    {
      "cell_type": "code",
      "execution_count": null,
      "id": "397dc291",
      "metadata": {
        "id": "397dc291",
        "outputId": "8facc4b5-3067-404c-c033-ed0b9041568e"
      },
      "outputs": [
        {
          "data": {
            "text/plain": [
              "array([7, 1])"
            ]
          },
          "execution_count": 145,
          "metadata": {},
          "output_type": "execute_result"
        }
      ],
      "source": [
        "arr1[0, [1,3]]"
      ]
    },
    {
      "cell_type": "code",
      "execution_count": null,
      "id": "6c42bcde",
      "metadata": {
        "id": "6c42bcde",
        "outputId": "33c82cd8-9be2-4439-8105-28613b64c952"
      },
      "outputs": [
        {
          "data": {
            "text/plain": [
              "array([[2, 4],\n",
              "       [2, 9]])"
            ]
          },
          "execution_count": 154,
          "metadata": {},
          "output_type": "execute_result"
        }
      ],
      "source": [
        "arr1[2:4, [0, 2]]"
      ]
    },
    {
      "cell_type": "code",
      "execution_count": null,
      "id": "df6ece94",
      "metadata": {
        "id": "df6ece94",
        "outputId": "29068412-0527-4322-93ac-1ab7430b420a"
      },
      "outputs": [
        {
          "data": {
            "text/plain": [
              "array([[3, 7, 7, 1, 5, 2],\n",
              "       [6, 1, 5, 6, 6, 8],\n",
              "       [2, 8, 4, 2, 9, 3],\n",
              "       [2, 1, 9, 5, 8, 7],\n",
              "       [6, 2, 7, 6, 6, 1]])"
            ]
          },
          "execution_count": 156,
          "metadata": {},
          "output_type": "execute_result"
        }
      ],
      "source": [
        "arr1"
      ]
    },
    {
      "cell_type": "code",
      "execution_count": null,
      "id": "ab3e293d",
      "metadata": {
        "id": "ab3e293d",
        "outputId": "4865c365-895b-4af3-a189-c2e7bf9d53b3"
      },
      "outputs": [
        {
          "data": {
            "text/plain": [
              "array([[2, 8, 4, 2, 9, 3],\n",
              "       [2, 1, 9, 5, 8, 7],\n",
              "       [6, 2, 7, 6, 6, 1]])"
            ]
          },
          "execution_count": 160,
          "metadata": {},
          "output_type": "execute_result"
        }
      ],
      "source": [
        "arr1[2:5]"
      ]
    },
    {
      "cell_type": "code",
      "execution_count": null,
      "id": "5b0571f2",
      "metadata": {
        "id": "5b0571f2",
        "outputId": "59ba49a6-4e37-4596-fcc1-2650d6e91fda"
      },
      "outputs": [
        {
          "data": {
            "text/plain": [
              "array([[2, 8],\n",
              "       [2, 1],\n",
              "       [6, 2]])"
            ]
          },
          "execution_count": 164,
          "metadata": {},
          "output_type": "execute_result"
        }
      ],
      "source": [
        "arr1[2:5, 0:2] #slicing"
      ]
    },
    {
      "cell_type": "code",
      "execution_count": null,
      "id": "bd8c1e41",
      "metadata": {
        "id": "bd8c1e41",
        "outputId": "e77932bd-d8c5-498f-b6a9-18d56cf80c8a"
      },
      "outputs": [
        {
          "data": {
            "text/plain": [
              "array([[2, 4],\n",
              "       [2, 9],\n",
              "       [6, 7]])"
            ]
          },
          "execution_count": 167,
          "metadata": {},
          "output_type": "execute_result"
        }
      ],
      "source": [
        "arr1[2:5, [0, 2]]"
      ]
    },
    {
      "cell_type": "code",
      "execution_count": null,
      "id": "fc7dfcac",
      "metadata": {
        "id": "fc7dfcac",
        "outputId": "f86a5660-8061-44f4-853a-ecad9d3eece5"
      },
      "outputs": [
        {
          "data": {
            "text/plain": [
              "array([[2, 8, 4, 2, 9, 3],\n",
              "       [6, 2, 7, 6, 6, 1]])"
            ]
          },
          "execution_count": 170,
          "metadata": {},
          "output_type": "execute_result"
        }
      ],
      "source": [
        "arr1[[2,4]]"
      ]
    },
    {
      "cell_type": "code",
      "execution_count": null,
      "id": "64b48050",
      "metadata": {
        "id": "64b48050",
        "outputId": "269c4d52-d822-403d-d5eb-3ae8e6b5d650"
      },
      "outputs": [
        {
          "data": {
            "text/plain": [
              "array([[3, 7, 7, 1, 5, 2],\n",
              "       [6, 1, 5, 6, 6, 8],\n",
              "       [2, 8, 4, 2, 9, 3],\n",
              "       [2, 1, 9, 5, 8, 7],\n",
              "       [6, 2, 7, 6, 6, 1]])"
            ]
          },
          "execution_count": 171,
          "metadata": {},
          "output_type": "execute_result"
        }
      ],
      "source": [
        "arr1"
      ]
    },
    {
      "cell_type": "code",
      "execution_count": null,
      "id": "dd6ab048",
      "metadata": {
        "id": "dd6ab048",
        "outputId": "ea544162-a91f-4c06-b16b-ed63ea89bb36"
      },
      "outputs": [
        {
          "data": {
            "text/plain": [
              "array([[3, 7, 7, 1, 5, 2],\n",
              "       [6, 1, 5, 6, 6, 8],\n",
              "       [2, 8, 4, 2, 9, 3],\n",
              "       [2, 1, 9, 5, 8, 7],\n",
              "       [6, 2, 7, 6, 6, 1]])"
            ]
          },
          "execution_count": 172,
          "metadata": {},
          "output_type": "execute_result"
        }
      ],
      "source": [
        "arr1"
      ]
    },
    {
      "cell_type": "code",
      "execution_count": null,
      "id": "d0b255b1",
      "metadata": {
        "id": "d0b255b1",
        "outputId": "fde8832f-66ae-409b-dfb6-c0d5001981d0"
      },
      "outputs": [
        {
          "data": {
            "text/plain": [
              "array([[2, 8, 4, 2, 9, 3],\n",
              "       [6, 2, 7, 6, 6, 1]])"
            ]
          },
          "execution_count": 175,
          "metadata": {},
          "output_type": "execute_result"
        }
      ],
      "source": [
        "arr1[[2, 4]] #selecting specific column"
      ]
    },
    {
      "cell_type": "code",
      "execution_count": null,
      "id": "da01af1e",
      "metadata": {
        "id": "da01af1e",
        "outputId": "345ebb8e-c52d-4c14-9c8e-ca0040581df9"
      },
      "outputs": [
        {
          "data": {
            "text/plain": [
              "array([[2, 8, 4, 2, 9, 3],\n",
              "       [2, 1, 9, 5, 8, 7]])"
            ]
          },
          "execution_count": 177,
          "metadata": {},
          "output_type": "execute_result"
        }
      ],
      "source": [
        "arr1[2 : 4] #slicing"
      ]
    },
    {
      "cell_type": "code",
      "execution_count": null,
      "id": "b7176e43",
      "metadata": {
        "id": "b7176e43",
        "outputId": "2fcb18c8-9980-45c9-9ebe-4edae6614d5d"
      },
      "outputs": [
        {
          "data": {
            "text/plain": [
              "array([[3, 7, 7, 1, 5, 2],\n",
              "       [6, 1, 5, 6, 6, 8],\n",
              "       [2, 8, 4, 2, 9, 3],\n",
              "       [2, 1, 9, 5, 8, 7],\n",
              "       [6, 2, 7, 6, 6, 1]])"
            ]
          },
          "execution_count": 179,
          "metadata": {},
          "output_type": "execute_result"
        }
      ],
      "source": [
        "arr1"
      ]
    },
    {
      "cell_type": "code",
      "execution_count": null,
      "id": "623d223c",
      "metadata": {
        "id": "623d223c",
        "outputId": "db52e2af-c60b-4598-d9a2-ed864bcf2166"
      },
      "outputs": [
        {
          "data": {
            "text/plain": [
              "array([[8, 2],\n",
              "       [1, 5]])"
            ]
          },
          "execution_count": 182,
          "metadata": {},
          "output_type": "execute_result"
        }
      ],
      "source": [
        "arr1[2:4, [1, 3]]"
      ]
    },
    {
      "cell_type": "code",
      "execution_count": null,
      "id": "15556875",
      "metadata": {
        "id": "15556875"
      },
      "outputs": [],
      "source": [
        "arr1 = np.random.randint(1, 3, (3,3))\n",
        "arr2 = np.random.randint(1, 3, (3,3))"
      ]
    },
    {
      "cell_type": "code",
      "execution_count": null,
      "id": "3843c982",
      "metadata": {
        "id": "3843c982",
        "outputId": "f43e7927-d22a-4334-c3bf-53bd83a6e8fa"
      },
      "outputs": [
        {
          "data": {
            "text/plain": [
              "array([[1, 2, 2],\n",
              "       [2, 2, 1],\n",
              "       [2, 1, 1]])"
            ]
          },
          "execution_count": 184,
          "metadata": {},
          "output_type": "execute_result"
        }
      ],
      "source": [
        "arr1"
      ]
    },
    {
      "cell_type": "markdown",
      "id": "5078fe84",
      "metadata": {
        "id": "5078fe84"
      },
      "source": [
        "##"
      ]
    },
    {
      "cell_type": "code",
      "execution_count": null,
      "id": "41c381ed",
      "metadata": {
        "id": "41c381ed",
        "outputId": "c06c4ffc-380d-4b98-c85c-b069b43359d8"
      },
      "outputs": [
        {
          "data": {
            "text/plain": [
              "array([[2, 1, 1],\n",
              "       [1, 1, 1],\n",
              "       [2, 1, 2]])"
            ]
          },
          "execution_count": 185,
          "metadata": {},
          "output_type": "execute_result"
        }
      ],
      "source": [
        "arr2"
      ]
    },
    {
      "cell_type": "code",
      "execution_count": null,
      "id": "10b0c059",
      "metadata": {
        "id": "10b0c059",
        "outputId": "50f5d6af-ec39-4958-e701-4e16ee79e63a"
      },
      "outputs": [
        {
          "data": {
            "text/plain": [
              "array([[3, 3, 3],\n",
              "       [3, 3, 2],\n",
              "       [4, 2, 3]])"
            ]
          },
          "execution_count": 186,
          "metadata": {},
          "output_type": "execute_result"
        }
      ],
      "source": [
        "arr1 + arr2"
      ]
    },
    {
      "cell_type": "code",
      "execution_count": null,
      "id": "2378ec63",
      "metadata": {
        "id": "2378ec63",
        "outputId": "d6ba95b1-c697-409f-ab63-cbd8f5d2fd19"
      },
      "outputs": [
        {
          "data": {
            "text/plain": [
              "array([[-1,  1,  1],\n",
              "       [ 1,  1,  0],\n",
              "       [ 0,  0, -1]])"
            ]
          },
          "execution_count": 187,
          "metadata": {},
          "output_type": "execute_result"
        }
      ],
      "source": [
        "arr1 - arr2"
      ]
    },
    {
      "cell_type": "code",
      "execution_count": null,
      "id": "e47ef821",
      "metadata": {
        "id": "e47ef821",
        "outputId": "87f7ac0e-2877-4a60-df49-8fe8b699aecb"
      },
      "outputs": [
        {
          "data": {
            "text/plain": [
              "array([[2, 2, 2],\n",
              "       [2, 2, 1],\n",
              "       [4, 1, 2]])"
            ]
          },
          "execution_count": 188,
          "metadata": {},
          "output_type": "execute_result"
        }
      ],
      "source": [
        "arr1 * arr2"
      ]
    },
    {
      "cell_type": "code",
      "execution_count": null,
      "id": "5deffbb2",
      "metadata": {
        "id": "5deffbb2",
        "outputId": "4e81420a-c32c-4a02-b82b-57d2c7fa53ca"
      },
      "outputs": [
        {
          "data": {
            "text/plain": [
              "array([[1, 2, 2],\n",
              "       [2, 2, 1],\n",
              "       [2, 1, 1]])"
            ]
          },
          "execution_count": 189,
          "metadata": {},
          "output_type": "execute_result"
        }
      ],
      "source": [
        "#matrix multiplication\n",
        "\n",
        "\n",
        "arr1"
      ]
    },
    {
      "cell_type": "code",
      "execution_count": null,
      "id": "7c831294",
      "metadata": {
        "id": "7c831294",
        "outputId": "84e3275b-bf3f-4240-8d87-b999ecd4a5eb"
      },
      "outputs": [
        {
          "data": {
            "text/plain": [
              "array([[2, 1, 1],\n",
              "       [1, 1, 1],\n",
              "       [2, 1, 2]])"
            ]
          },
          "execution_count": 190,
          "metadata": {},
          "output_type": "execute_result"
        }
      ],
      "source": [
        "arr2"
      ]
    },
    {
      "cell_type": "code",
      "execution_count": null,
      "id": "c3c78008",
      "metadata": {
        "id": "c3c78008",
        "outputId": "c94a5318-7579-4573-dee0-abd98a1e78b4"
      },
      "outputs": [
        {
          "data": {
            "text/plain": [
              "array([[8, 5, 7],\n",
              "       [8, 5, 6],\n",
              "       [7, 4, 5]])"
            ]
          },
          "execution_count": 191,
          "metadata": {},
          "output_type": "execute_result"
        }
      ],
      "source": [
        "arr1 @ arr2"
      ]
    },
    {
      "cell_type": "code",
      "execution_count": null,
      "id": "c69beefc",
      "metadata": {
        "id": "c69beefc",
        "outputId": "82bef074-0243-4baa-9163-877be549ddc9"
      },
      "outputs": [
        {
          "data": {
            "text/plain": [
              "array([[1, 2, 2],\n",
              "       [2, 2, 1],\n",
              "       [2, 1, 1]])"
            ]
          },
          "execution_count": 192,
          "metadata": {},
          "output_type": "execute_result"
        }
      ],
      "source": [
        "arr1"
      ]
    },
    {
      "cell_type": "code",
      "execution_count": null,
      "id": "7a2660f8",
      "metadata": {
        "id": "7a2660f8",
        "outputId": "08b77eaf-0fac-42b2-f8fd-431100c5bdd6"
      },
      "outputs": [
        {
          "data": {
            "text/plain": [
              "array([[2, 1, 1],\n",
              "       [1, 1, 1],\n",
              "       [2, 1, 2]])"
            ]
          },
          "execution_count": 193,
          "metadata": {},
          "output_type": "execute_result"
        }
      ],
      "source": [
        "arr2"
      ]
    },
    {
      "cell_type": "code",
      "execution_count": null,
      "id": "0d4823ce",
      "metadata": {
        "id": "0d4823ce",
        "outputId": "28353ba6-ef32-44f5-9f99-7690145d45a8"
      },
      "outputs": [
        {
          "data": {
            "text/plain": [
              "array([[0.5, 2. , 2. ],\n",
              "       [2. , 2. , 1. ],\n",
              "       [1. , 1. , 0.5]])"
            ]
          },
          "execution_count": 194,
          "metadata": {},
          "output_type": "execute_result"
        }
      ],
      "source": [
        "arr1 / arr2 #index wise divison"
      ]
    },
    {
      "cell_type": "code",
      "execution_count": null,
      "id": "d83ad767",
      "metadata": {
        "id": "d83ad767",
        "outputId": "9a6a257d-561c-4e05-d09c-2ca6eee8e89b"
      },
      "outputs": [
        {
          "data": {
            "text/plain": [
              "array([[1, 2, 2],\n",
              "       [2, 2, 1],\n",
              "       [2, 1, 1]])"
            ]
          },
          "execution_count": 196,
          "metadata": {},
          "output_type": "execute_result"
        }
      ],
      "source": [
        "arr1"
      ]
    },
    {
      "cell_type": "code",
      "execution_count": null,
      "id": "f28fff19",
      "metadata": {
        "id": "f28fff19",
        "outputId": "9f71db47-da97-44a4-81ac-7c95f2a70642"
      },
      "outputs": [
        {
          "name": "stderr",
          "output_type": "stream",
          "text": [
            "C:\\Users\\ajayk\\AppData\\Local\\Temp\\ipykernel_12284\\824215542.py:1: RuntimeWarning: divide by zero encountered in divide\n",
            "  arr1 / 0\n"
          ]
        },
        {
          "data": {
            "text/plain": [
              "array([[inf, inf, inf],\n",
              "       [inf, inf, inf],\n",
              "       [inf, inf, inf]])"
            ]
          },
          "execution_count": 197,
          "metadata": {},
          "output_type": "execute_result"
        }
      ],
      "source": [
        "arr1 / 0"
      ]
    },
    {
      "cell_type": "code",
      "execution_count": null,
      "id": "b5ded093",
      "metadata": {
        "id": "b5ded093"
      },
      "outputs": [],
      "source": [
        "#Broad casting"
      ]
    },
    {
      "cell_type": "code",
      "execution_count": null,
      "id": "b0e00c9a",
      "metadata": {
        "id": "b0e00c9a"
      },
      "outputs": [],
      "source": [
        "arr = np.zeros((3, 4))"
      ]
    },
    {
      "cell_type": "code",
      "execution_count": null,
      "id": "55b7bd96",
      "metadata": {
        "id": "55b7bd96",
        "outputId": "87e1bc13-4f07-421d-e81f-80b9e4dead58"
      },
      "outputs": [
        {
          "data": {
            "text/plain": [
              "array([[0., 0., 0., 0.],\n",
              "       [0., 0., 0., 0.],\n",
              "       [0., 0., 0., 0.]])"
            ]
          },
          "execution_count": 199,
          "metadata": {},
          "output_type": "execute_result"
        }
      ],
      "source": [
        "arr"
      ]
    },
    {
      "cell_type": "code",
      "execution_count": null,
      "id": "47898885",
      "metadata": {
        "id": "47898885",
        "outputId": "e2b2cadb-548b-4257-d8a8-3b9b3c66ea0d"
      },
      "outputs": [
        {
          "data": {
            "text/plain": [
              "array([[5., 5., 5., 5.],\n",
              "       [5., 5., 5., 5.],\n",
              "       [5., 5., 5., 5.]])"
            ]
          },
          "execution_count": 200,
          "metadata": {},
          "output_type": "execute_result"
        }
      ],
      "source": [
        "arr + 5"
      ]
    },
    {
      "cell_type": "code",
      "execution_count": null,
      "id": "3e50be88",
      "metadata": {
        "id": "3e50be88",
        "outputId": "152c1830-e438-47f6-d6f5-0d6f15fa1025"
      },
      "outputs": [
        {
          "data": {
            "text/plain": [
              "array([[0., 0., 0., 0.],\n",
              "       [0., 0., 0., 0.],\n",
              "       [0., 0., 0., 0.]])"
            ]
          },
          "execution_count": 253,
          "metadata": {},
          "output_type": "execute_result"
        }
      ],
      "source": [
        "arr"
      ]
    },
    {
      "cell_type": "code",
      "execution_count": null,
      "id": "c978f4d8",
      "metadata": {
        "id": "c978f4d8"
      },
      "outputs": [],
      "source": [
        "a = np.array([1, 2, 3, 4])"
      ]
    },
    {
      "cell_type": "code",
      "execution_count": null,
      "id": "3169f1ae",
      "metadata": {
        "id": "3169f1ae",
        "outputId": "df56f308-6226-4d23-fa23-e241d6df908c"
      },
      "outputs": [
        {
          "data": {
            "text/plain": [
              "(4,)"
            ]
          },
          "execution_count": 255,
          "metadata": {},
          "output_type": "execute_result"
        }
      ],
      "source": [
        "a.shape"
      ]
    },
    {
      "cell_type": "code",
      "execution_count": null,
      "id": "55b0c659",
      "metadata": {
        "id": "55b0c659",
        "outputId": "ec5996ce-6a86-4856-d29b-65479bdd2856"
      },
      "outputs": [
        {
          "data": {
            "text/plain": [
              "array([1, 2, 3, 4])"
            ]
          },
          "execution_count": 256,
          "metadata": {},
          "output_type": "execute_result"
        }
      ],
      "source": [
        "a"
      ]
    },
    {
      "cell_type": "code",
      "execution_count": null,
      "id": "0299ce78",
      "metadata": {
        "id": "0299ce78",
        "outputId": "c5a78c4a-de38-4771-bc32-2f6598688c75"
      },
      "outputs": [
        {
          "data": {
            "text/plain": [
              "array([[1., 2., 3., 4.],\n",
              "       [1., 2., 3., 4.],\n",
              "       [1., 2., 3., 4.]])"
            ]
          },
          "execution_count": 204,
          "metadata": {},
          "output_type": "execute_result"
        }
      ],
      "source": [
        "arr + a"
      ]
    },
    {
      "cell_type": "code",
      "execution_count": null,
      "id": "034c58d9",
      "metadata": {
        "id": "034c58d9",
        "outputId": "878e7166-acd0-45f5-f2ec-cca64bdacb0f"
      },
      "outputs": [
        {
          "data": {
            "text/plain": [
              "array([[0., 0., 0., 0.],\n",
              "       [0., 0., 0., 0.],\n",
              "       [0., 0., 0., 0.]])"
            ]
          },
          "execution_count": 207,
          "metadata": {},
          "output_type": "execute_result"
        }
      ],
      "source": [
        "arr"
      ]
    },
    {
      "cell_type": "code",
      "execution_count": null,
      "id": "5a2fe461",
      "metadata": {
        "id": "5a2fe461",
        "outputId": "d301aace-e624-4be6-9bc4-0eeb52f81c46"
      },
      "outputs": [
        {
          "data": {
            "text/plain": [
              "array([1, 2, 3])"
            ]
          },
          "execution_count": 208,
          "metadata": {},
          "output_type": "execute_result"
        }
      ],
      "source": [
        "a"
      ]
    },
    {
      "cell_type": "code",
      "execution_count": null,
      "id": "a2c96ff1",
      "metadata": {
        "id": "a2c96ff1"
      },
      "outputs": [],
      "source": [
        "a = np.array([1, 2, 3])"
      ]
    },
    {
      "cell_type": "code",
      "execution_count": null,
      "id": "718a6a3a",
      "metadata": {
        "id": "718a6a3a"
      },
      "outputs": [],
      "source": [
        "a = np.array([[1, 2, 3]])"
      ]
    },
    {
      "cell_type": "code",
      "execution_count": null,
      "id": "200aab46",
      "metadata": {
        "id": "200aab46",
        "outputId": "54ac1860-03d6-4a1c-9290-847785952024"
      },
      "outputs": [
        {
          "data": {
            "text/plain": [
              "array([[1],\n",
              "       [2],\n",
              "       [3]])"
            ]
          },
          "execution_count": 212,
          "metadata": {},
          "output_type": "execute_result"
        }
      ],
      "source": [
        "a.T"
      ]
    },
    {
      "cell_type": "code",
      "execution_count": null,
      "id": "f2be4d51",
      "metadata": {
        "id": "f2be4d51",
        "outputId": "f634e19f-b531-433d-9c0a-3a3537949f86"
      },
      "outputs": [
        {
          "data": {
            "text/plain": [
              "array([[0., 0., 0., 0.],\n",
              "       [0., 0., 0., 0.],\n",
              "       [0., 0., 0., 0.]])"
            ]
          },
          "execution_count": 214,
          "metadata": {},
          "output_type": "execute_result"
        }
      ],
      "source": [
        "arr"
      ]
    },
    {
      "cell_type": "code",
      "execution_count": null,
      "id": "c1d91aa4",
      "metadata": {
        "id": "c1d91aa4",
        "outputId": "55955e99-2c96-425d-8172-853b168b49b1"
      },
      "outputs": [
        {
          "data": {
            "text/plain": [
              "array([[1, 2, 3]])"
            ]
          },
          "execution_count": 215,
          "metadata": {},
          "output_type": "execute_result"
        }
      ],
      "source": [
        "a"
      ]
    },
    {
      "cell_type": "code",
      "execution_count": null,
      "id": "81197e9e",
      "metadata": {
        "id": "81197e9e",
        "outputId": "4ce984eb-f6c7-43b7-b037-8898ebf647b9"
      },
      "outputs": [
        {
          "data": {
            "text/plain": [
              "array([[1., 1., 1., 1.],\n",
              "       [2., 2., 2., 2.],\n",
              "       [3., 3., 3., 3.]])"
            ]
          },
          "execution_count": 216,
          "metadata": {},
          "output_type": "execute_result"
        }
      ],
      "source": [
        "arr + a.T"
      ]
    },
    {
      "cell_type": "code",
      "execution_count": null,
      "id": "53c8e788",
      "metadata": {
        "id": "53c8e788",
        "outputId": "3cd549ad-d558-434a-998d-480fa679ba98"
      },
      "outputs": [
        {
          "data": {
            "text/plain": [
              "array([[1],\n",
              "       [2],\n",
              "       [3]])"
            ]
          },
          "execution_count": 217,
          "metadata": {},
          "output_type": "execute_result"
        }
      ],
      "source": [
        "a.T"
      ]
    },
    {
      "cell_type": "code",
      "execution_count": null,
      "id": "86439d80",
      "metadata": {
        "id": "86439d80",
        "outputId": "907dd583-b0a1-4e2f-e243-663f70a213be"
      },
      "outputs": [
        {
          "data": {
            "text/plain": [
              "array([1, 2, 3])"
            ]
          },
          "execution_count": 218,
          "metadata": {},
          "output_type": "execute_result"
        }
      ],
      "source": [
        "a = np.array([1, 2, 3])\n",
        "a.T"
      ]
    },
    {
      "cell_type": "code",
      "execution_count": null,
      "id": "9a3d6d14",
      "metadata": {
        "id": "9a3d6d14",
        "outputId": "7a22f6d2-8885-4754-eef3-b0e6f993f607"
      },
      "outputs": [
        {
          "data": {
            "text/plain": [
              "array([[1, 2, 2],\n",
              "       [2, 2, 1],\n",
              "       [2, 1, 1]])"
            ]
          },
          "execution_count": 219,
          "metadata": {},
          "output_type": "execute_result"
        }
      ],
      "source": [
        "arr1"
      ]
    },
    {
      "cell_type": "code",
      "execution_count": null,
      "id": "82b980a2",
      "metadata": {
        "id": "82b980a2",
        "outputId": "04081aa4-afcc-4233-a388-5e447163164b"
      },
      "outputs": [
        {
          "data": {
            "text/plain": [
              "array([[1.        , 1.41421356, 1.41421356],\n",
              "       [1.41421356, 1.41421356, 1.        ],\n",
              "       [1.41421356, 1.        , 1.        ]])"
            ]
          },
          "execution_count": 220,
          "metadata": {},
          "output_type": "execute_result"
        }
      ],
      "source": [
        "np.sqrt(arr1)"
      ]
    },
    {
      "cell_type": "code",
      "execution_count": null,
      "id": "7dd0a1a0",
      "metadata": {
        "id": "7dd0a1a0",
        "outputId": "e4651ba6-3e63-494b-89e5-bdb9ec256a4e"
      },
      "outputs": [
        {
          "data": {
            "text/plain": [
              "array([[0.     , 0.30103, 0.30103],\n",
              "       [0.30103, 0.30103, 0.     ],\n",
              "       [0.30103, 0.     , 0.     ]])"
            ]
          },
          "execution_count": 221,
          "metadata": {},
          "output_type": "execute_result"
        }
      ],
      "source": [
        "np.log10(arr1)"
      ]
    },
    {
      "cell_type": "code",
      "execution_count": null,
      "id": "6aa90ca6",
      "metadata": {
        "id": "6aa90ca6",
        "outputId": "650de5f0-370a-459b-e369-d07b4e841ab8"
      },
      "outputs": [
        {
          "data": {
            "text/plain": [
              "array([[2.71828183, 7.3890561 , 7.3890561 ],\n",
              "       [7.3890561 , 7.3890561 , 2.71828183],\n",
              "       [7.3890561 , 2.71828183, 2.71828183]])"
            ]
          },
          "execution_count": 222,
          "metadata": {},
          "output_type": "execute_result"
        }
      ],
      "source": [
        "np.exp(arr1)"
      ]
    },
    {
      "cell_type": "code",
      "execution_count": null,
      "id": "0f87492c",
      "metadata": {
        "id": "0f87492c",
        "outputId": "02b5997d-5d8b-4fbb-b3cf-1a8ea6132364"
      },
      "outputs": [
        {
          "data": {
            "text/plain": [
              "array([1, 2, 3])"
            ]
          },
          "execution_count": 225,
          "metadata": {},
          "output_type": "execute_result"
        }
      ],
      "source": [
        "a"
      ]
    },
    {
      "cell_type": "code",
      "execution_count": null,
      "id": "854f7be9",
      "metadata": {
        "id": "854f7be9",
        "outputId": "6c361b6e-8255-4e0b-d9ad-e6a4bf4fa905"
      },
      "outputs": [
        {
          "data": {
            "text/plain": [
              "1"
            ]
          },
          "execution_count": 224,
          "metadata": {},
          "output_type": "execute_result"
        }
      ],
      "source": [
        "np.min(a)"
      ]
    },
    {
      "cell_type": "code",
      "execution_count": null,
      "id": "a6029775",
      "metadata": {
        "id": "a6029775",
        "outputId": "3ff59edb-336c-4848-dcab-5774eed94cee"
      },
      "outputs": [
        {
          "data": {
            "text/plain": [
              "array([[1, 2, 2],\n",
              "       [2, 2, 1],\n",
              "       [2, 1, 1]])"
            ]
          },
          "execution_count": 226,
          "metadata": {},
          "output_type": "execute_result"
        }
      ],
      "source": [
        "arr1"
      ]
    },
    {
      "cell_type": "code",
      "execution_count": null,
      "id": "1f91f13b",
      "metadata": {
        "id": "1f91f13b",
        "outputId": "73812406-51a1-4a7d-f3c0-ce332c195ce8"
      },
      "outputs": [
        {
          "data": {
            "text/plain": [
              "1"
            ]
          },
          "execution_count": 227,
          "metadata": {},
          "output_type": "execute_result"
        }
      ],
      "source": [
        "np.min(arr1)"
      ]
    },
    {
      "cell_type": "code",
      "execution_count": null,
      "id": "87265817",
      "metadata": {
        "id": "87265817",
        "outputId": "2dcc4f2d-08fd-461a-fd67-a6aef52b1cc7"
      },
      "outputs": [
        {
          "data": {
            "text/plain": [
              "2"
            ]
          },
          "execution_count": 228,
          "metadata": {},
          "output_type": "execute_result"
        }
      ],
      "source": [
        "np.max(arr1)"
      ]
    },
    {
      "cell_type": "code",
      "execution_count": null,
      "id": "41e1309e",
      "metadata": {
        "id": "41e1309e",
        "outputId": "565ba95a-4a78-4850-ce6f-b4af4edfa47f"
      },
      "outputs": [
        {
          "data": {
            "text/plain": [
              "array([[1, 2, 2],\n",
              "       [2, 2, 1],\n",
              "       [2, 1, 1]])"
            ]
          },
          "execution_count": 229,
          "metadata": {},
          "output_type": "execute_result"
        }
      ],
      "source": [
        "arr1"
      ]
    },
    {
      "cell_type": "code",
      "execution_count": null,
      "id": "f63f6a3b",
      "metadata": {
        "id": "f63f6a3b",
        "outputId": "331729c8-b0db-478e-a4bb-12fa6126ec77"
      },
      "outputs": [
        {
          "data": {
            "text/plain": [
              "array([[1, 2, 2],\n",
              "       [2, 2, 1],\n",
              "       [2, 1, 1]])"
            ]
          },
          "execution_count": 230,
          "metadata": {},
          "output_type": "execute_result"
        }
      ],
      "source": [
        "arr1.T"
      ]
    },
    {
      "cell_type": "code",
      "execution_count": null,
      "id": "e2a97e60",
      "metadata": {
        "id": "e2a97e60",
        "outputId": "a246e2c3-f77b-4ab6-d6cc-c9b494634f97"
      },
      "outputs": [
        {
          "data": {
            "text/plain": [
              "array([1, 2, 2, 2, 2, 1, 2, 1, 1])"
            ]
          },
          "execution_count": 231,
          "metadata": {},
          "output_type": "execute_result"
        }
      ],
      "source": [
        "arr1.flatten() #reduce higher dimension to 1 d"
      ]
    },
    {
      "cell_type": "code",
      "execution_count": null,
      "id": "2fa0bd02",
      "metadata": {
        "id": "2fa0bd02"
      },
      "outputs": [],
      "source": [
        "#expand_dims >>  expands the array by inserting a new axis"
      ]
    },
    {
      "cell_type": "code",
      "execution_count": null,
      "id": "48a65036",
      "metadata": {
        "id": "48a65036"
      },
      "outputs": [],
      "source": [
        "arr = np.array([[1, 2, 3], [4, 5, 6], [1, 2, 3]])"
      ]
    },
    {
      "cell_type": "code",
      "execution_count": null,
      "id": "d68d5563",
      "metadata": {
        "id": "d68d5563",
        "outputId": "2b4aeb42-ca23-4555-c35c-45c08180e9b5"
      },
      "outputs": [
        {
          "data": {
            "text/plain": [
              "array([[1, 2, 3],\n",
              "       [4, 5, 6],\n",
              "       [1, 2, 3]])"
            ]
          },
          "execution_count": 236,
          "metadata": {},
          "output_type": "execute_result"
        }
      ],
      "source": [
        "arr"
      ]
    },
    {
      "cell_type": "code",
      "execution_count": null,
      "id": "e13ccc5e",
      "metadata": {
        "id": "e13ccc5e",
        "outputId": "c56d3ecf-f923-4d57-e453-1c9c21719623"
      },
      "outputs": [
        {
          "data": {
            "text/plain": [
              "27"
            ]
          },
          "execution_count": 237,
          "metadata": {},
          "output_type": "execute_result"
        }
      ],
      "source": [
        "np.sum(arr)"
      ]
    },
    {
      "cell_type": "code",
      "execution_count": null,
      "id": "f19cc723",
      "metadata": {
        "id": "f19cc723",
        "outputId": "805dedad-c23d-4bf7-9b51-522f6d63c49c"
      },
      "outputs": [
        {
          "data": {
            "text/plain": [
              "array([ 6,  9, 12])"
            ]
          },
          "execution_count": 238,
          "metadata": {},
          "output_type": "execute_result"
        }
      ],
      "source": [
        "np.sum(arr, axis = 0)"
      ]
    },
    {
      "cell_type": "code",
      "execution_count": null,
      "id": "0bccd187",
      "metadata": {
        "id": "0bccd187",
        "outputId": "1bf4987f-767f-486e-a1b4-1bf68b2ed45f"
      },
      "outputs": [
        {
          "data": {
            "text/plain": [
              "array([ 6, 15,  6])"
            ]
          },
          "execution_count": 239,
          "metadata": {},
          "output_type": "execute_result"
        }
      ],
      "source": [
        "np.sum(arr, axis = 1)"
      ]
    },
    {
      "cell_type": "code",
      "execution_count": null,
      "id": "cb8dd6cc",
      "metadata": {
        "id": "cb8dd6cc",
        "outputId": "3078c274-30e9-4536-fbd7-2bfbdfb52b26"
      },
      "outputs": [
        {
          "data": {
            "text/plain": [
              "array([1, 2, 3, 4])"
            ]
          },
          "execution_count": 240,
          "metadata": {},
          "output_type": "execute_result"
        }
      ],
      "source": [
        "#expand_dims >>expand the dimension of array\n",
        "arr = np.array([1, 2, 3, 4])\n",
        "arr"
      ]
    },
    {
      "cell_type": "code",
      "execution_count": null,
      "id": "8dac2abb",
      "metadata": {
        "id": "8dac2abb",
        "outputId": "f023a0de-d013-447d-eec7-41c9d2467731"
      },
      "outputs": [
        {
          "data": {
            "text/plain": [
              "1"
            ]
          },
          "execution_count": 241,
          "metadata": {},
          "output_type": "execute_result"
        }
      ],
      "source": [
        "arr.ndim"
      ]
    },
    {
      "cell_type": "code",
      "execution_count": null,
      "id": "d2c32faa",
      "metadata": {
        "id": "d2c32faa",
        "outputId": "3e8b1240-9c13-481a-8d95-100904d0c3fe"
      },
      "outputs": [
        {
          "data": {
            "text/plain": [
              "array([[1, 2, 3, 4]])"
            ]
          },
          "execution_count": 242,
          "metadata": {},
          "output_type": "execute_result"
        }
      ],
      "source": [
        "arr1 = np.expand_dims(arr, axis = 0)\n",
        "arr1"
      ]
    },
    {
      "cell_type": "code",
      "execution_count": null,
      "id": "16c72f70",
      "metadata": {
        "id": "16c72f70",
        "outputId": "bcde4c18-15b6-4ecf-bfb4-e9dd76e5ff39"
      },
      "outputs": [
        {
          "data": {
            "text/plain": [
              "2"
            ]
          },
          "execution_count": 243,
          "metadata": {},
          "output_type": "execute_result"
        }
      ],
      "source": [
        "arr1.ndim"
      ]
    },
    {
      "cell_type": "code",
      "execution_count": null,
      "id": "aee06f68",
      "metadata": {
        "id": "aee06f68",
        "outputId": "c72d86e4-ea39-4f12-b6b6-67ba798badc1"
      },
      "outputs": [
        {
          "data": {
            "text/plain": [
              "array([[[1, 2, 3, 4]]])"
            ]
          },
          "execution_count": 244,
          "metadata": {},
          "output_type": "execute_result"
        }
      ],
      "source": [
        "arr2 = np.expand_dims(arr1, axis = 0)\n",
        "arr2"
      ]
    },
    {
      "cell_type": "code",
      "execution_count": null,
      "id": "6b0d0564",
      "metadata": {
        "id": "6b0d0564",
        "outputId": "48fe095b-6519-4b08-a72d-f42538bd204f"
      },
      "outputs": [
        {
          "data": {
            "text/plain": [
              "(1, 1, 4)"
            ]
          },
          "execution_count": 245,
          "metadata": {},
          "output_type": "execute_result"
        }
      ],
      "source": [
        "arr2.shape"
      ]
    },
    {
      "cell_type": "code",
      "execution_count": null,
      "id": "0e2c334a",
      "metadata": {
        "id": "0e2c334a",
        "outputId": "d5368e46-e114-4c44-d882-4cbf3e65e8e8"
      },
      "outputs": [
        {
          "data": {
            "text/plain": [
              "array([1, 2, 3, 4])"
            ]
          },
          "execution_count": 246,
          "metadata": {},
          "output_type": "execute_result"
        }
      ],
      "source": [
        "arr"
      ]
    },
    {
      "cell_type": "code",
      "execution_count": null,
      "id": "776f2f79",
      "metadata": {
        "id": "776f2f79",
        "outputId": "d12ea3c6-ec4f-404c-e251-8ae1c139e714"
      },
      "outputs": [
        {
          "data": {
            "text/plain": [
              "array([[1],\n",
              "       [2],\n",
              "       [3],\n",
              "       [4]])"
            ]
          },
          "execution_count": 247,
          "metadata": {},
          "output_type": "execute_result"
        }
      ],
      "source": [
        "arr1 = np.expand_dims(arr, axis = 1)\n",
        "arr1"
      ]
    },
    {
      "cell_type": "code",
      "execution_count": null,
      "id": "5355ca8f",
      "metadata": {
        "id": "5355ca8f"
      },
      "outputs": [],
      "source": [
        "arr = np.zeros((3, 4))"
      ]
    },
    {
      "cell_type": "code",
      "execution_count": null,
      "id": "94077756",
      "metadata": {
        "id": "94077756",
        "outputId": "c894d4c0-265e-4bd4-d997-4d836b5b6bfc"
      },
      "outputs": [
        {
          "data": {
            "text/plain": [
              "array([[0., 0., 0., 0.],\n",
              "       [0., 0., 0., 0.],\n",
              "       [0., 0., 0., 0.]])"
            ]
          },
          "execution_count": 249,
          "metadata": {},
          "output_type": "execute_result"
        }
      ],
      "source": [
        "arr"
      ]
    },
    {
      "cell_type": "code",
      "execution_count": null,
      "id": "3d3e77d7",
      "metadata": {
        "id": "3d3e77d7",
        "outputId": "a6cdd509-1f79-4470-8459-55b47d8c5a3e"
      },
      "outputs": [
        {
          "data": {
            "text/plain": [
              "array([[[0., 0., 0., 0.]],\n",
              "\n",
              "       [[0., 0., 0., 0.]],\n",
              "\n",
              "       [[0., 0., 0., 0.]]])"
            ]
          },
          "execution_count": 251,
          "metadata": {},
          "output_type": "execute_result"
        }
      ],
      "source": [
        "arr1 = np.expand_dims(arr, axis = 1)\n",
        "arr1"
      ]
    },
    {
      "cell_type": "code",
      "execution_count": null,
      "id": "5b28036c",
      "metadata": {
        "id": "5b28036c",
        "outputId": "6874f60a-a428-4ba8-83d7-c424ed81ae64"
      },
      "outputs": [
        {
          "data": {
            "text/plain": [
              "array([[[0., 0., 0., 0.],\n",
              "        [0., 0., 0., 0.],\n",
              "        [0., 0., 0., 0.]]])"
            ]
          },
          "execution_count": 252,
          "metadata": {},
          "output_type": "execute_result"
        }
      ],
      "source": [
        "arr1 = np.expand_dims(arr, axis = 0)\n",
        "arr1"
      ]
    },
    {
      "cell_type": "code",
      "execution_count": null,
      "id": "f7f66d49",
      "metadata": {
        "id": "f7f66d49"
      },
      "outputs": [],
      "source": []
    }
  ],
  "metadata": {
    "colab": {
      "provenance": []
    },
    "kernelspec": {
      "display_name": "Python 3 (ipykernel)",
      "language": "python",
      "name": "python3"
    },
    "language_info": {
      "codemirror_mode": {
        "name": "ipython",
        "version": 3
      },
      "file_extension": ".py",
      "mimetype": "text/x-python",
      "name": "python",
      "nbconvert_exporter": "python",
      "pygments_lexer": "ipython3",
      "version": "3.12.4"
    }
  },
  "nbformat": 4,
  "nbformat_minor": 5
}
