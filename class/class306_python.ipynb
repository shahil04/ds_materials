{
 "cells": [
  {
   "cell_type": "code",
   "execution_count": null,
   "id": "2677a033",
   "metadata": {},
   "outputs": [],
   "source": [
    "# Loop\n",
    "#1. for  --> fix number iterations \n",
    "# 2. while\n",
    "\n",
    "for i in range(10,0,-2):\n",
    "    print(i)"
   ]
  },
  {
   "cell_type": "code",
   "execution_count": null,
   "id": "3b7cfef4",
   "metadata": {},
   "outputs": [],
   "source": [
    "list1 =[343,545,232,232,5,3]\n",
    "\n",
    "for i in list1:\n",
    "    print(i)\n"
   ]
  },
  {
   "cell_type": "code",
   "execution_count": null,
   "id": "66739f1d",
   "metadata": {},
   "outputs": [],
   "source": [
    "len(list1)"
   ]
  },
  {
   "cell_type": "code",
   "execution_count": null,
   "id": "98fd397d",
   "metadata": {},
   "outputs": [],
   "source": [
    "list1[1]"
   ]
  },
  {
   "cell_type": "code",
   "execution_count": null,
   "id": "c9f6506e",
   "metadata": {},
   "outputs": [],
   "source": [
    "for i in range(len(list1)-1, -1,-1):\n",
    "    print(list1[i])"
   ]
  },
  {
   "cell_type": "code",
   "execution_count": null,
   "id": "c6248048",
   "metadata": {},
   "outputs": [],
   "source": [
    "# variable\n",
    "while():\n",
    "\n",
    "\n",
    "    # false the condtions"
   ]
  },
  {
   "cell_type": "code",
   "execution_count": null,
   "id": "37e42007",
   "metadata": {},
   "outputs": [],
   "source": []
  },
  {
   "cell_type": "code",
   "execution_count": null,
   "id": "9f12836f",
   "metadata": {},
   "outputs": [],
   "source": [
    "i= 1\n",
    "while(i<=5):\n",
    "    print(i)\n",
    "    i =i+1\n",
    "    # i+=1\n"
   ]
  },
  {
   "cell_type": "code",
   "execution_count": null,
   "id": "6e8e5c7d",
   "metadata": {},
   "outputs": [],
   "source": [
    "reply =\"Y\"\n",
    "while(reply==\"Y\"):\n",
    "    print(\"play the game again\")\n",
    "\n",
    "    print(\"are you play again press : Y / press N\")\n",
    "    reply = input(\"are you play again press : Y  OTHER WISE press 0\")"
   ]
  },
  {
   "cell_type": "code",
   "execution_count": null,
   "id": "5323d38f",
   "metadata": {},
   "outputs": [],
   "source": [
    "import random\n",
    "list1= [1,2,3,4,5,6,7]\n",
    "l2 =[\"ram\",\"shayam\",\"bhola\",\"bhem\"]\n",
    "random.choice(l2)"
   ]
  },
  {
   "cell_type": "code",
   "execution_count": null,
   "id": "e596c003",
   "metadata": {},
   "outputs": [],
   "source": [
    "# guess the number from system generate number\n",
    "# user input\n",
    "user = int(input(\"Enter a number from 1 to 7 \"))\n",
    "# system choice \n",
    "system_choice = random.choice(list1)\n",
    "\n",
    "if user==system_choice:\n",
    "    print(user, \"WIN\")\n",
    "else:\n",
    "    print(f\"user number user system number {system_choice} you lose \")"
   ]
  },
  {
   "cell_type": "code",
   "execution_count": null,
   "id": "dcaf288a",
   "metadata": {},
   "outputs": [],
   "source": [
    "import random\n",
    "amount=100\n",
    "restart = \"y\"\n",
    "list1= [1,2,3,4,5,6,7]\n",
    "\n",
    "while(amount>=0 and restart == \"y\"):\n",
    "    user = int(input(\"Enter a number from 1 to 7 \"))\n",
    "    system_choice = random.choice(list1)\n",
    "\n",
    "    if user==system_choice:\n",
    "        print(user, \"WIN\", amount)\n",
    "        amount +=10\n",
    "\n",
    "    else:\n",
    "        amount -=10\n",
    "        print(f\"user number {user} system number {system_choice} you lose 10Rs rest amt:{amount}\")\n",
    "        \n",
    "    restart = input(\"You want to play again press y otherwise press n\")"
   ]
  },
  {
   "cell_type": "code",
   "execution_count": null,
   "id": "19b06287",
   "metadata": {},
   "outputs": [],
   "source": [
    "def casino():\n",
    "    import random\n",
    "    amount=100\n",
    "    restart = \"y\"\n",
    "    list1= [1,2,3,4,5,6,7]\n",
    "\n",
    "    while(amount>=0 and restart == \"y\"):\n",
    "        user = int(input(\"Enter a number from 1 to 7 \"))\n",
    "        system_choice = random.choice(list1)\n",
    "\n",
    "        if user==system_choice:\n",
    "            print(user, \"WIN\", amount)\n",
    "            amount +=10\n",
    "\n",
    "        else:\n",
    "            amount -=10\n",
    "            print(f\"user number {user} system number {system_choice} you lose 10Rs rest amt:{amount}\")\n",
    "            \n",
    "        restart = input(\"You want to play again press y otherwise press n\")"
   ]
  },
  {
   "cell_type": "code",
   "execution_count": null,
   "id": "d39a16b8",
   "metadata": {},
   "outputs": [],
   "source": [
    "# RUN \n",
    "casino()"
   ]
  },
  {
   "cell_type": "code",
   "execution_count": null,
   "id": "e1e1fa6d",
   "metadata": {},
   "outputs": [],
   "source": [
    "def casino(amount =100,bet=10):  #  default \n",
    "    import random\n",
    "    restart = \"y\"\n",
    "    list1= [1,2,3,4,5,6,7]\n",
    "\n",
    "    while(amount>=0 and restart == \"y\"):\n",
    "        user = int(input(\"Enter a number from 1 to 7 \"))\n",
    "        system_choice = random.choice(list1)\n",
    "\n",
    "        if user==system_choice:\n",
    "            print(user, \"WIN\", amount)\n",
    "            amount +=bet\n",
    "\n",
    "        else:\n",
    "            amount -=bet\n",
    "            print(f\"user number {user} system number {system_choice} you lose {bet}Rs rest amt:{amount}\")\n",
    "            \n",
    "        restart = input(\"You want to play again press y otherwise press n\")"
   ]
  },
  {
   "cell_type": "code",
   "execution_count": null,
   "id": "f7ae85db",
   "metadata": {},
   "outputs": [],
   "source": []
  },
  {
   "cell_type": "code",
   "execution_count": null,
   "id": "1025f034",
   "metadata": {},
   "outputs": [],
   "source": [
    "casino(10000,1000)"
   ]
  },
  {
   "cell_type": "code",
   "execution_count": null,
   "id": "8979594c",
   "metadata": {},
   "outputs": [],
   "source": [
    "casino(bet =1000,amount= 10000)"
   ]
  },
  {
   "cell_type": "code",
   "execution_count": null,
   "id": "6684ebb6",
   "metadata": {},
   "outputs": [],
   "source": [
    "casino()"
   ]
  },
  {
   "cell_type": "markdown",
   "id": "52f51b12",
   "metadata": {},
   "source": [
    "## Types of Arguments in Python\n",
    "Python provides various argument types to pass values to functions, making them more flexible and reusable. Understanding these types can simplify your code and improve readability. we have the following function argument types in Python:\n",
    "\n",
    "1. Default argument\n",
    "2. Keyword arguments (named arguments)\n",
    "3. Positional arguments\n",
    "4. Arbitrary arguments (variable-length arguments *args and **kwargs)\n",
    "5. Lambda Function Arguments"
   ]
  },
  {
   "cell_type": "code",
   "execution_count": null,
   "id": "0531f61f",
   "metadata": {},
   "outputs": [],
   "source": []
  },
  {
   "cell_type": "markdown",
   "id": "13f10f28",
   "metadata": {},
   "source": [
    "##### some inbuit functions\n",
    "1. normal functions\n",
    "2. Lambda funtions\n",
    "3. other --> filter funtions, map function, reduce function, "
   ]
  },
  {
   "cell_type": "markdown",
   "id": "6e1b3b79",
   "metadata": {},
   "source": [
    "### DATA TYPES IN PYHTON \n",
    "\n",
    "* SEGUENTIAL data TYPES\n",
    "1. LIST []\n",
    "2. TUPLE()\n",
    "3. SET OR FORZEN SET(,)\n",
    "\n",
    "Mapping data types\n",
    "4.dictonary{}"
   ]
  },
  {
   "cell_type": "code",
   "execution_count": null,
   "id": "c6cfe6ba",
   "metadata": {},
   "outputs": [],
   "source": [
    "# single value store\n",
    "a =5"
   ]
  },
  {
   "cell_type": "code",
   "execution_count": null,
   "id": "8b4b9f7d",
   "metadata": {},
   "outputs": [],
   "source": [
    "# 1. list\n",
    "a =[]  #empty list\n",
    "type(a)\n"
   ]
  },
  {
   "cell_type": "code",
   "execution_count": null,
   "id": "5a2c5936",
   "metadata": {},
   "outputs": [],
   "source": [
    "b = [1,2,3,4,5,6]  # initilize with value\n",
    "type(b)"
   ]
  },
  {
   "cell_type": "code",
   "execution_count": null,
   "id": "8414d835",
   "metadata": {},
   "outputs": [],
   "source": [
    "# store multipe values\n",
    "# store multiple types of data\n",
    "c =[1,\"a\", \"raj\",True, 3.09]"
   ]
  },
  {
   "cell_type": "code",
   "execution_count": null,
   "id": "12f9c7b1",
   "metadata": {},
   "outputs": [],
   "source": [
    "print(c)"
   ]
  },
  {
   "cell_type": "code",
   "execution_count": null,
   "id": "d40d74d0",
   "metadata": {},
   "outputs": [],
   "source": [
    "c"
   ]
  },
  {
   "cell_type": "code",
   "execution_count": null,
   "id": "630ad835",
   "metadata": {},
   "outputs": [],
   "source": [
    "# indexing \n",
    "# start from 0 \n",
    "c[3]"
   ]
  },
  {
   "cell_type": "code",
   "execution_count": null,
   "id": "1e01b8d0",
   "metadata": {},
   "outputs": [],
   "source": [
    "c[0,1]"
   ]
  },
  {
   "cell_type": "code",
   "execution_count": null,
   "id": "c4428421",
   "metadata": {},
   "outputs": [],
   "source": [
    "# slices\n",
    "# var[start:end: step]  syntax\n",
    "# range(start,end,step)\n",
    "c[0:4]  # in slicing last index number not include"
   ]
  },
  {
   "cell_type": "code",
   "execution_count": null,
   "id": "133e550d",
   "metadata": {},
   "outputs": [],
   "source": [
    "c[:]"
   ]
  },
  {
   "cell_type": "code",
   "execution_count": null,
   "id": "5b52edb4",
   "metadata": {},
   "outputs": [],
   "source": [
    "c[2:]"
   ]
  },
  {
   "cell_type": "code",
   "execution_count": null,
   "id": "04a4540d",
   "metadata": {},
   "outputs": [],
   "source": [
    "int(len(c)/2)"
   ]
  },
  {
   "cell_type": "code",
   "execution_count": null,
   "id": "92c68bd5",
   "metadata": {},
   "outputs": [],
   "source": [
    "c[len(c)//2]"
   ]
  },
  {
   "cell_type": "code",
   "execution_count": null,
   "id": "f54c2728",
   "metadata": {},
   "outputs": [],
   "source": [
    "c[::]"
   ]
  },
  {
   "cell_type": "code",
   "execution_count": null,
   "id": "8221c4ee",
   "metadata": {},
   "outputs": [],
   "source": [
    "c[::3]"
   ]
  },
  {
   "cell_type": "code",
   "execution_count": null,
   "id": "da2ef386",
   "metadata": {},
   "outputs": [],
   "source": [
    "std = [\"raj\",\"deep\",\"ram\"]"
   ]
  },
  {
   "cell_type": "code",
   "execution_count": null,
   "id": "3e3d7aec",
   "metadata": {},
   "outputs": [],
   "source": [
    "# add data in last index using append\n",
    "std.append(6)"
   ]
  },
  {
   "cell_type": "code",
   "execution_count": null,
   "id": "e9a07040",
   "metadata": {},
   "outputs": [],
   "source": [
    "# add data in any index using insert\n",
    "std.insert(0,\"shyam\")"
   ]
  },
  {
   "cell_type": "code",
   "execution_count": null,
   "id": "397b2517",
   "metadata": {},
   "outputs": [],
   "source": [
    "std.pop() # pop delete the last value\n",
    "\n",
    "std.pop(3) # pop delete the index value"
   ]
  },
  {
   "cell_type": "code",
   "execution_count": null,
   "id": "b0ff06d1",
   "metadata": {},
   "outputs": [],
   "source": [
    "std.remove(\"raj\")  # delete the specific value of 1st occurance present value"
   ]
  },
  {
   "cell_type": "code",
   "execution_count": null,
   "id": "2ccf2424",
   "metadata": {},
   "outputs": [],
   "source": [
    "std.clear()"
   ]
  },
  {
   "cell_type": "code",
   "execution_count": null,
   "id": "c36ec162",
   "metadata": {},
   "outputs": [],
   "source": [
    "std = [\"raj\",\"deep\",\"ram\"]"
   ]
  },
  {
   "cell_type": "code",
   "execution_count": null,
   "id": "01554d24",
   "metadata": {},
   "outputs": [],
   "source": [
    "s1 = std.copy()  # deep copy"
   ]
  },
  {
   "cell_type": "code",
   "execution_count": null,
   "id": "81454a65",
   "metadata": {},
   "outputs": [],
   "source": [
    "s2 =std  #shallow copy"
   ]
  },
  {
   "cell_type": "code",
   "execution_count": null,
   "id": "5c0e9242",
   "metadata": {},
   "outputs": [],
   "source": [
    "id(s1)"
   ]
  },
  {
   "cell_type": "code",
   "execution_count": null,
   "id": "b066e49d",
   "metadata": {},
   "outputs": [],
   "source": [
    "id(std)"
   ]
  },
  {
   "cell_type": "code",
   "execution_count": null,
   "id": "47688805",
   "metadata": {},
   "outputs": [],
   "source": [
    "id(s2)"
   ]
  },
  {
   "cell_type": "code",
   "execution_count": null,
   "id": "92eb7f3f",
   "metadata": {},
   "outputs": [],
   "source": [
    "a=3\n",
    "b =3.0"
   ]
  },
  {
   "cell_type": "code",
   "execution_count": null,
   "id": "4d69cc85",
   "metadata": {},
   "outputs": [],
   "source": [
    "id(a)"
   ]
  },
  {
   "cell_type": "code",
   "execution_count": null,
   "id": "dde97e07",
   "metadata": {},
   "outputs": [],
   "source": [
    "id(b)"
   ]
  },
  {
   "cell_type": "code",
   "execution_count": null,
   "id": "bc67d234",
   "metadata": {},
   "outputs": [],
   "source": [
    "std.append(\"deep\")"
   ]
  },
  {
   "cell_type": "code",
   "execution_count": null,
   "id": "95f443da",
   "metadata": {},
   "outputs": [],
   "source": [
    "std.count(\"deep\")"
   ]
  },
  {
   "cell_type": "code",
   "execution_count": null,
   "id": "f7ae830f",
   "metadata": {},
   "outputs": [],
   "source": [
    "std.reverse()"
   ]
  },
  {
   "cell_type": "code",
   "execution_count": null,
   "id": "b4b91948",
   "metadata": {},
   "outputs": [],
   "source": [
    "std.append(2)"
   ]
  },
  {
   "cell_type": "code",
   "execution_count": null,
   "id": "94525b34",
   "metadata": {},
   "outputs": [],
   "source": [
    "std.reverse()"
   ]
  },
  {
   "cell_type": "code",
   "execution_count": null,
   "id": "36883ff7",
   "metadata": {},
   "outputs": [],
   "source": [
    "std"
   ]
  },
  {
   "cell_type": "code",
   "execution_count": null,
   "id": "f822e634",
   "metadata": {},
   "outputs": [],
   "source": [
    "std.sort(reverse=True)  # for descending using reverse =true\n",
    "std"
   ]
  },
  {
   "cell_type": "code",
   "execution_count": null,
   "id": "2dd00aca",
   "metadata": {},
   "outputs": [],
   "source": [
    "std.sort()\n",
    "std"
   ]
  },
  {
   "cell_type": "code",
   "execution_count": null,
   "id": "b4589521",
   "metadata": {},
   "outputs": [],
   "source": [
    "std"
   ]
  },
  {
   "cell_type": "code",
   "execution_count": null,
   "id": "5f1c99d9",
   "metadata": {},
   "outputs": [],
   "source": [
    "std2 =[\"a\",\"b\",\"c\"]"
   ]
  },
  {
   "cell_type": "code",
   "execution_count": null,
   "id": "2968f667",
   "metadata": {},
   "outputs": [],
   "source": [
    "std.append(std2)\n"
   ]
  },
  {
   "cell_type": "code",
   "execution_count": null,
   "id": "e2ee1149",
   "metadata": {},
   "outputs": [],
   "source": [
    "std[-1]"
   ]
  },
  {
   "cell_type": "code",
   "execution_count": null,
   "id": "644be231",
   "metadata": {},
   "outputs": [],
   "source": [
    "std.extend(std2) # use to add itrable object one by one using extend function"
   ]
  },
  {
   "cell_type": "code",
   "execution_count": null,
   "id": "b9fa1acb",
   "metadata": {},
   "outputs": [],
   "source": [
    "std"
   ]
  },
  {
   "cell_type": "code",
   "execution_count": null,
   "id": "3e45d016",
   "metadata": {},
   "outputs": [],
   "source": [
    "# List Characteristics\n",
    "# In Python, lists are:\n",
    "\n",
    "# Ordered - They maintain the order of elements.\n",
    "# Mutable - Items can be changed after creation.\n",
    "# Allow duplicates - They can contain duplicate values.\n",
    "\n",
    "# Method\tDescription\n",
    "# append()\tAdds an item to the end of the list\n",
    "# extend()\tAdds items of lists and other iterables to the end of the list\n",
    "# insert()\tInserts an item at the specified index\n",
    "# remove()\tRemoves the specified value from the list\n",
    "# pop()\tReturns and removes item present at the given index\n",
    "# clear()\tRemoves all items from the list\n",
    "# index()\tReturns the index of the first matched item\n",
    "# count()\tReturns the count of the specified item in the list\n",
    "# sort()\tSorts the list in ascending/descending order\n",
    "# reverse()\tReverses the item of the list\n",
    "# copy()\tReturns the shallow copy of the list"
   ]
  },
  {
   "cell_type": "code",
   "execution_count": null,
   "id": "cd0fb065",
   "metadata": {},
   "outputs": [],
   "source": [
    "int(5.6)"
   ]
  },
  {
   "cell_type": "code",
   "execution_count": null,
   "id": "163c700a",
   "metadata": {},
   "outputs": [],
   "source": [
    "list()  # using list funtion convert any sequetial data into list"
   ]
  },
  {
   "cell_type": "code",
   "execution_count": null,
   "id": "31e288a3",
   "metadata": {},
   "outputs": [],
   "source": [
    "# Python list() - Convert other datatypes to list.\n",
    "# Python list comprehension - A concise way to create a list from another sequence in a single line.\n",
    "# Python enumerate() function - Adds a counter (index by default) to a list."
   ]
  },
  {
   "cell_type": "code",
   "execution_count": null,
   "id": "49344171",
   "metadata": {},
   "outputs": [],
   "source": [
    "for i in (std):\n",
    "    print(i)"
   ]
  },
  {
   "cell_type": "code",
   "execution_count": null,
   "id": "2f16e3f4",
   "metadata": {},
   "outputs": [],
   "source": [
    "for i in enumerate(std):\n",
    "    print(i)"
   ]
  },
  {
   "cell_type": "code",
   "execution_count": null,
   "id": "ed82fe61",
   "metadata": {},
   "outputs": [],
   "source": [
    "for i ,j in enumerate(std):\n",
    "    print(i)"
   ]
  },
  {
   "cell_type": "markdown",
   "id": "e658f7f0",
   "metadata": {},
   "source": [
    "## Python Tuple\n",
    "A tuple is a collection similar to a Python list. The primary difference is that we cannot modify a tuple once it is created."
   ]
  },
  {
   "cell_type": "code",
   "execution_count": null,
   "id": "4c3ab0f2",
   "metadata": {},
   "outputs": [],
   "source": [
    "# # Create a Python Tuple\n",
    "# Ordered - They maintain the order of elements.\n",
    "# Immutable - They cannot be changed after creation.\n",
    "# Allow duplicates - They can contain duplicate values.\n",
    "t1 =()\n",
    "t2 =(1,2,3,4,5)\n",
    "t3 =tuple(std)"
   ]
  },
  {
   "cell_type": "code",
   "execution_count": null,
   "id": "3fcbe4cf",
   "metadata": {},
   "outputs": [],
   "source": [
    "type(t3)"
   ]
  },
  {
   "cell_type": "code",
   "execution_count": null,
   "id": "c12da842",
   "metadata": {},
   "outputs": [],
   "source": [
    "t3[4:]"
   ]
  },
  {
   "cell_type": "code",
   "execution_count": null,
   "id": "f1bb588a",
   "metadata": {},
   "outputs": [],
   "source": [
    "t3[5]=44\n",
    "# 'tuple' object does not support item assignment\n",
    "# data is immutable in tuple"
   ]
  },
  {
   "cell_type": "code",
   "execution_count": null,
   "id": "4b7ba6d9",
   "metadata": {},
   "outputs": [],
   "source": [
    "std[4]= \"abh\""
   ]
  },
  {
   "cell_type": "code",
   "execution_count": null,
   "id": "27c7c8ad",
   "metadata": {},
   "outputs": [],
   "source": [
    "t3.count(\"deep\")"
   ]
  },
  {
   "cell_type": "code",
   "execution_count": null,
   "id": "3ed8f64f",
   "metadata": {},
   "outputs": [],
   "source": [
    "t3.index(\"raj\")"
   ]
  },
  {
   "cell_type": "code",
   "execution_count": null,
   "id": "0ad9ba4f",
   "metadata": {},
   "outputs": [],
   "source": [
    "for i in t3:\n",
    "    print(i)"
   ]
  },
  {
   "cell_type": "markdown",
   "id": "0f2de3a5",
   "metadata": {},
   "source": [
    "### Python Sets\n",
    "A set is a collection of unique data, meaning that elements within a set cannot be duplicated."
   ]
  },
  {
   "cell_type": "code",
   "execution_count": null,
   "id": "7f7da1a2",
   "metadata": {},
   "outputs": [],
   "source": [
    "s1={4,3,5,6,7}\n",
    "s2 = set()\n",
    "s3= set(t1)"
   ]
  },
  {
   "cell_type": "code",
   "execution_count": null,
   "id": "7dbaee38",
   "metadata": {},
   "outputs": [],
   "source": [
    "type(s1)"
   ]
  },
  {
   "cell_type": "code",
   "execution_count": null,
   "id": "4712ae01",
   "metadata": {},
   "outputs": [],
   "source": [
    "s1.discard(3)"
   ]
  },
  {
   "cell_type": "code",
   "execution_count": null,
   "id": "12a05a5e",
   "metadata": {},
   "outputs": [],
   "source": [
    "s1.remove(3)"
   ]
  },
  {
   "cell_type": "code",
   "execution_count": null,
   "id": "ce36d5d6",
   "metadata": {},
   "outputs": [],
   "source": [
    "s1.update([6,3,4,1,7,8,8])"
   ]
  },
  {
   "cell_type": "code",
   "execution_count": null,
   "id": "c25545ac",
   "metadata": {},
   "outputs": [],
   "source": [
    "s1"
   ]
  },
  {
   "cell_type": "code",
   "execution_count": null,
   "id": "29d45924",
   "metadata": {},
   "outputs": [],
   "source": [
    "# dictonaty type\n",
    "d= {1:\"ram\", 2:\"raj\"}"
   ]
  },
  {
   "cell_type": "code",
   "execution_count": null,
   "id": "54e7ccff",
   "metadata": {},
   "outputs": [],
   "source": [
    "type(d)"
   ]
  },
  {
   "cell_type": "code",
   "execution_count": null,
   "id": "d61156c7",
   "metadata": {},
   "outputs": [],
   "source": []
  }
 ],
 "metadata": {
  "kernelspec": {
   "display_name": "aienv",
   "language": "python",
   "name": "python3"
  },
  "language_info": {
   "codemirror_mode": {
    "name": "ipython",
    "version": 3
   },
   "file_extension": ".py",
   "mimetype": "text/x-python",
   "name": "python",
   "nbconvert_exporter": "python",
   "pygments_lexer": "ipython3",
   "version": "3.12.9"
  }
 },
 "nbformat": 4,
 "nbformat_minor": 5
}
