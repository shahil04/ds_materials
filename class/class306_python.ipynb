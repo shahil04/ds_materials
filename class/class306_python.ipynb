{
 "cells": [
  {
   "cell_type": "code",
   "execution_count": 7,
   "id": "2677a033",
   "metadata": {},
   "outputs": [
    {
     "name": "stdout",
     "output_type": "stream",
     "text": [
      "10\n",
      "8\n",
      "6\n",
      "4\n",
      "2\n"
     ]
    }
   ],
   "source": [
    "# Loop\n",
    "#1. for  --> fix number iterations \n",
    "# 2. while\n",
    "\n",
    "for i in range(10,0,-2):\n",
    "    print(i)"
   ]
  },
  {
   "cell_type": "code",
   "execution_count": 8,
   "id": "3b7cfef4",
   "metadata": {},
   "outputs": [
    {
     "name": "stdout",
     "output_type": "stream",
     "text": [
      "343\n",
      "545\n",
      "232\n",
      "232\n",
      "5\n",
      "3\n"
     ]
    }
   ],
   "source": [
    "list1 =[343,545,232,232,5,3]\n",
    "\n",
    "for i in list1:\n",
    "    print(i)\n"
   ]
  },
  {
   "cell_type": "code",
   "execution_count": 11,
   "id": "66739f1d",
   "metadata": {},
   "outputs": [
    {
     "data": {
      "text/plain": [
       "6"
      ]
     },
     "execution_count": 11,
     "metadata": {},
     "output_type": "execute_result"
    }
   ],
   "source": [
    "len(list1)"
   ]
  },
  {
   "cell_type": "code",
   "execution_count": 14,
   "id": "98fd397d",
   "metadata": {},
   "outputs": [
    {
     "data": {
      "text/plain": [
       "545"
      ]
     },
     "execution_count": 14,
     "metadata": {},
     "output_type": "execute_result"
    }
   ],
   "source": [
    "list1[1]"
   ]
  },
  {
   "cell_type": "code",
   "execution_count": 15,
   "id": "c9f6506e",
   "metadata": {},
   "outputs": [
    {
     "name": "stdout",
     "output_type": "stream",
     "text": [
      "3\n",
      "5\n",
      "232\n",
      "232\n",
      "545\n",
      "343\n"
     ]
    }
   ],
   "source": [
    "for i in range(len(list1)-1, -1,-1):\n",
    "    print(list1[i])"
   ]
  },
  {
   "cell_type": "code",
   "execution_count": null,
   "id": "c6248048",
   "metadata": {},
   "outputs": [],
   "source": [
    "# variable\n",
    "while():\n",
    "\n",
    "\n",
    "    # false the condtions"
   ]
  },
  {
   "cell_type": "code",
   "execution_count": null,
   "id": "37e42007",
   "metadata": {},
   "outputs": [],
   "source": []
  },
  {
   "cell_type": "code",
   "execution_count": 17,
   "id": "9f12836f",
   "metadata": {},
   "outputs": [
    {
     "name": "stdout",
     "output_type": "stream",
     "text": [
      "1\n",
      "2\n",
      "3\n",
      "4\n",
      "5\n"
     ]
    }
   ],
   "source": [
    "i= 1\n",
    "while(i<=5):\n",
    "    print(i)\n",
    "    i =i+1\n",
    "    # i+=1\n"
   ]
  },
  {
   "cell_type": "code",
   "execution_count": null,
   "id": "6e8e5c7d",
   "metadata": {},
   "outputs": [],
   "source": [
    "reply =\"Y\"\n",
    "while(reply==\"Y\"):\n",
    "    print(\"play the game again\")\n",
    "\n",
    "    print(\"are you play again press : Y / press N\")\n",
    "    reply = input(\"are you play again press : Y  OTHER WISE press 0\")"
   ]
  },
  {
   "cell_type": "code",
   "execution_count": null,
   "id": "5323d38f",
   "metadata": {},
   "outputs": [
    {
     "data": {
      "text/plain": [
       "'shayam'"
      ]
     },
     "execution_count": 27,
     "metadata": {},
     "output_type": "execute_result"
    }
   ],
   "source": [
    "import random\n",
    "list1= [1,2,3,4,5,6,7]\n",
    "l2 =[\"ram\",\"shayam\",\"bhola\",\"bhem\"]\n",
    "random.choice(l2)"
   ]
  },
  {
   "cell_type": "code",
   "execution_count": null,
   "id": "e596c003",
   "metadata": {},
   "outputs": [
    {
     "name": "stdout",
     "output_type": "stream",
     "text": [
      "4 WIN\n"
     ]
    }
   ],
   "source": [
    "# guess the number from system generate number\n",
    "# user input\n",
    "user = int(input(\"Enter a number from 1 to 7 \"))\n",
    "# system choice \n",
    "system_choice = random.choice(list1)\n",
    "\n",
    "if user==system_choice:\n",
    "    print(user, \"WIN\")\n",
    "else:\n",
    "    print(f\"user number user system number {system_choice} you lose \")"
   ]
  },
  {
   "cell_type": "code",
   "execution_count": null,
   "id": "dcaf288a",
   "metadata": {},
   "outputs": [],
   "source": [
    "import random\n",
    "amount=100\n",
    "restart = \"y\"\n",
    "list1= [1,2,3,4,5,6,7]\n",
    "\n",
    "while(amount>=0 and restart == \"y\"):\n",
    "    user = int(input(\"Enter a number from 1 to 7 \"))\n",
    "    system_choice = random.choice(list1)\n",
    "\n",
    "    if user==system_choice:\n",
    "        print(user, \"WIN\", amount)\n",
    "        amount +=10\n",
    "\n",
    "    else:\n",
    "        amount -=10\n",
    "        print(f\"user number {user} system number {system_choice} you lose 10Rs rest amt:{amount}\")\n",
    "        \n",
    "    restart = input(\"You want to play again press y otherwise press n\")"
   ]
  },
  {
   "cell_type": "code",
   "execution_count": null,
   "id": "19b06287",
   "metadata": {},
   "outputs": [],
   "source": [
    "def casino():\n",
    "    import random\n",
    "    amount=100\n",
    "    restart = \"y\"\n",
    "    list1= [1,2,3,4,5,6,7]\n",
    "\n",
    "    while(amount>=0 and restart == \"y\"):\n",
    "        user = int(input(\"Enter a number from 1 to 7 \"))\n",
    "        system_choice = random.choice(list1)\n",
    "\n",
    "        if user==system_choice:\n",
    "            print(user, \"WIN\", amount)\n",
    "            amount +=10\n",
    "\n",
    "        else:\n",
    "            amount -=10\n",
    "            print(f\"user number {user} system number {system_choice} you lose 10Rs rest amt:{amount}\")\n",
    "            \n",
    "        restart = input(\"You want to play again press y otherwise press n\")"
   ]
  },
  {
   "cell_type": "code",
   "execution_count": 46,
   "id": "d39a16b8",
   "metadata": {},
   "outputs": [
    {
     "name": "stdout",
     "output_type": "stream",
     "text": [
      "user number 4 system number 6 you lose 10Rs rest amt:90\n",
      "user number 4 system number 6 you lose 10Rs rest amt:80\n"
     ]
    }
   ],
   "source": [
    "# RUN \n",
    "casino()"
   ]
  },
  {
   "cell_type": "code",
   "execution_count": null,
   "id": "e1e1fa6d",
   "metadata": {},
   "outputs": [],
   "source": [
    "def casino(amount =100,bet=10):\n",
    "    import random\n",
    "    restart = \"y\"\n",
    "    list1= [1,2,3,4,5,6,7]\n",
    "\n",
    "    while(amount>=0 and restart == \"y\"):\n",
    "        user = int(input(\"Enter a number from 1 to 7 \"))\n",
    "        system_choice = random.choice(list1)\n",
    "\n",
    "        if user==system_choice:\n",
    "            print(user, \"WIN\", amount)\n",
    "            amount +=bet\n",
    "\n",
    "        else:\n",
    "            amount -=bet\n",
    "            print(f\"user number {user} system number {system_choice} you lose {bet}Rs rest amt:{amount}\")\n",
    "            \n",
    "        restart = input(\"You want to play again press y otherwise press n\")"
   ]
  },
  {
   "cell_type": "code",
   "execution_count": null,
   "id": "f7ae85db",
   "metadata": {},
   "outputs": [],
   "source": []
  },
  {
   "cell_type": "code",
   "execution_count": 52,
   "id": "1025f034",
   "metadata": {},
   "outputs": [
    {
     "name": "stdout",
     "output_type": "stream",
     "text": [
      "user number 4 system number 7 you lose 1000Rs rest amt:9000\n"
     ]
    }
   ],
   "source": [
    "casino(10000,1000)"
   ]
  },
  {
   "cell_type": "code",
   "execution_count": null,
   "id": "8979594c",
   "metadata": {},
   "outputs": [
    {
     "name": "stdout",
     "output_type": "stream",
     "text": [
      "user number 4 system number 2 you lose 10Rs rest amt:90\n"
     ]
    }
   ],
   "source": [
    "casino(bet =1000,amount= 10000)"
   ]
  },
  {
   "cell_type": "code",
   "execution_count": null,
   "id": "6684ebb6",
   "metadata": {},
   "outputs": [],
   "source": []
  }
 ],
 "metadata": {
  "kernelspec": {
   "display_name": "aienv",
   "language": "python",
   "name": "python3"
  },
  "language_info": {
   "codemirror_mode": {
    "name": "ipython",
    "version": 3
   },
   "file_extension": ".py",
   "mimetype": "text/x-python",
   "name": "python",
   "nbconvert_exporter": "python",
   "pygments_lexer": "ipython3",
   "version": "3.12.9"
  }
 },
 "nbformat": 4,
 "nbformat_minor": 5
}
