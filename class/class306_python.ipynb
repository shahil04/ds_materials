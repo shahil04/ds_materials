{
 "cells": [
  {
   "cell_type": "code",
   "execution_count": null,
   "id": "2677a033",
   "metadata": {},
   "outputs": [],
   "source": [
    "# Loop\n",
    "#1. for  --> fix number iterations \n",
    "# 2. while\n",
    "\n",
    "for i in range(10,0,-2):\n",
    "    print(i)"
   ]
  },
  {
   "cell_type": "code",
   "execution_count": null,
   "id": "3b7cfef4",
   "metadata": {},
   "outputs": [],
   "source": [
    "list1 =[343,545,232,232,5,3]\n",
    "\n",
    "for i in list1:\n",
    "    print(i)\n"
   ]
  },
  {
   "cell_type": "code",
   "execution_count": null,
   "id": "66739f1d",
   "metadata": {},
   "outputs": [],
   "source": [
    "len(list1)"
   ]
  },
  {
   "cell_type": "code",
   "execution_count": null,
   "id": "98fd397d",
   "metadata": {},
   "outputs": [],
   "source": [
    "list1[1]"
   ]
  },
  {
   "cell_type": "code",
   "execution_count": null,
   "id": "c9f6506e",
   "metadata": {},
   "outputs": [],
   "source": [
    "for i in range(len(list1)-1, -1,-1):\n",
    "    print(list1[i])"
   ]
  },
  {
   "cell_type": "code",
   "execution_count": null,
   "id": "c6248048",
   "metadata": {},
   "outputs": [],
   "source": [
    "# variable\n",
    "while():\n",
    "\n",
    "\n",
    "    # false the condtions"
   ]
  },
  {
   "cell_type": "code",
   "execution_count": null,
   "id": "37e42007",
   "metadata": {},
   "outputs": [],
   "source": []
  },
  {
   "cell_type": "code",
   "execution_count": null,
   "id": "9f12836f",
   "metadata": {},
   "outputs": [],
   "source": [
    "i= 1\n",
    "while(i<=5):\n",
    "    print(i)\n",
    "    i =i+1\n",
    "    # i+=1\n"
   ]
  },
  {
   "cell_type": "code",
   "execution_count": null,
   "id": "6e8e5c7d",
   "metadata": {},
   "outputs": [],
   "source": [
    "reply =\"Y\"\n",
    "while(reply==\"Y\"):\n",
    "    print(\"play the game again\")\n",
    "\n",
    "    print(\"are you play again press : Y / press N\")\n",
    "    reply = input(\"are you play again press : Y  OTHER WISE press 0\")"
   ]
  },
  {
   "cell_type": "code",
   "execution_count": null,
   "id": "5323d38f",
   "metadata": {},
   "outputs": [],
   "source": [
    "import random\n",
    "list1= [1,2,3,4,5,6,7]\n",
    "l2 =[\"ram\",\"shayam\",\"bhola\",\"bhem\"]\n",
    "random.choice(l2)"
   ]
  },
  {
   "cell_type": "code",
   "execution_count": null,
   "id": "e596c003",
   "metadata": {},
   "outputs": [],
   "source": [
    "# guess the number from system generate number\n",
    "# user input\n",
    "user = int(input(\"Enter a number from 1 to 7 \"))\n",
    "# system choice \n",
    "system_choice = random.choice(list1)\n",
    "\n",
    "if user==system_choice:\n",
    "    print(user, \"WIN\")\n",
    "else:\n",
    "    print(f\"user number user system number {system_choice} you lose \")"
   ]
  },
  {
   "cell_type": "code",
   "execution_count": null,
   "id": "dcaf288a",
   "metadata": {},
   "outputs": [],
   "source": [
    "import random\n",
    "amount=100\n",
    "restart = \"y\"\n",
    "list1= [1,2,3,4,5,6,7]\n",
    "\n",
    "while(amount>=0 and restart == \"y\"):\n",
    "    user = int(input(\"Enter a number from 1 to 7 \"))\n",
    "    system_choice = random.choice(list1)\n",
    "\n",
    "    if user==system_choice:\n",
    "        print(user, \"WIN\", amount)\n",
    "        amount +=10\n",
    "\n",
    "    else:\n",
    "        amount -=10\n",
    "        print(f\"user number {user} system number {system_choice} you lose 10Rs rest amt:{amount}\")\n",
    "        \n",
    "    restart = input(\"You want to play again press y otherwise press n\")"
   ]
  },
  {
   "cell_type": "code",
   "execution_count": null,
   "id": "19b06287",
   "metadata": {},
   "outputs": [],
   "source": [
    "def casino():\n",
    "    import random\n",
    "    amount=100\n",
    "    restart = \"y\"\n",
    "    list1= [1,2,3,4,5,6,7]\n",
    "\n",
    "    while(amount>=0 and restart == \"y\"):\n",
    "        user = int(input(\"Enter a number from 1 to 7 \"))\n",
    "        system_choice = random.choice(list1)\n",
    "\n",
    "        if user==system_choice:\n",
    "            print(user, \"WIN\", amount)\n",
    "            amount +=10\n",
    "\n",
    "        else:\n",
    "            amount -=10\n",
    "            print(f\"user number {user} system number {system_choice} you lose 10Rs rest amt:{amount}\")\n",
    "            \n",
    "        restart = input(\"You want to play again press y otherwise press n\")"
   ]
  },
  {
   "cell_type": "code",
   "execution_count": null,
   "id": "d39a16b8",
   "metadata": {},
   "outputs": [],
   "source": [
    "# RUN \n",
    "casino()"
   ]
  },
  {
   "cell_type": "code",
   "execution_count": null,
   "id": "e1e1fa6d",
   "metadata": {},
   "outputs": [],
   "source": [
    "def casino(amount =100,bet=10):  #  default \n",
    "    import random\n",
    "    restart = \"y\"\n",
    "    list1= [1,2,3,4,5,6,7]\n",
    "\n",
    "    while(amount>=0 and restart == \"y\"):\n",
    "        user = int(input(\"Enter a number from 1 to 7 \"))\n",
    "        system_choice = random.choice(list1)\n",
    "\n",
    "        if user==system_choice:\n",
    "            print(user, \"WIN\", amount)\n",
    "            amount +=bet\n",
    "\n",
    "        else:\n",
    "            amount -=bet\n",
    "            print(f\"user number {user} system number {system_choice} you lose {bet}Rs rest amt:{amount}\")\n",
    "            \n",
    "        restart = input(\"You want to play again press y otherwise press n\")"
   ]
  },
  {
   "cell_type": "code",
   "execution_count": null,
   "id": "f7ae85db",
   "metadata": {},
   "outputs": [],
   "source": []
  },
  {
   "cell_type": "code",
   "execution_count": null,
   "id": "1025f034",
   "metadata": {},
   "outputs": [],
   "source": [
    "casino(10000,1000)"
   ]
  },
  {
   "cell_type": "code",
   "execution_count": null,
   "id": "8979594c",
   "metadata": {},
   "outputs": [],
   "source": [
    "casino(bet =1000,amount= 10000)"
   ]
  },
  {
   "cell_type": "code",
   "execution_count": null,
   "id": "6684ebb6",
   "metadata": {},
   "outputs": [],
   "source": [
    "casino()"
   ]
  },
  {
   "cell_type": "markdown",
   "id": "52f51b12",
   "metadata": {},
   "source": [
    "## Types of Arguments in Python\n",
    "Python provides various argument types to pass values to functions, making them more flexible and reusable. Understanding these types can simplify your code and improve readability. we have the following function argument types in Python:\n",
    "\n",
    "1. Default argument\n",
    "2. Keyword arguments (named arguments)\n",
    "3. Positional arguments\n",
    "4. Arbitrary arguments (variable-length arguments *args and **kwargs)\n",
    "5. Lambda Function Arguments"
   ]
  },
  {
   "cell_type": "code",
   "execution_count": null,
   "id": "0531f61f",
   "metadata": {},
   "outputs": [],
   "source": []
  },
  {
   "cell_type": "markdown",
   "id": "13f10f28",
   "metadata": {},
   "source": [
    "##### some inbuit functions\n",
    "1. normal functions\n",
    "2. Lambda funtions\n",
    "3. other --> filter funtions, map function, reduce function, "
   ]
  },
  {
   "cell_type": "markdown",
   "id": "6e1b3b79",
   "metadata": {},
   "source": [
    "### DATA TYPES IN PYHTON \n",
    "\n",
    "* SEGUENTIAL data TYPES\n",
    "1. LIST []\n",
    "2. TUPLE()\n",
    "3. SET OR FORZEN SET(,)\n",
    "\n",
    "Mapping data types\n",
    "4.dictonary{}"
   ]
  },
  {
   "cell_type": "code",
   "execution_count": null,
   "id": "c6cfe6ba",
   "metadata": {},
   "outputs": [],
   "source": [
    "# single value store\n",
    "a =5"
   ]
  },
  {
   "cell_type": "code",
   "execution_count": null,
   "id": "8b4b9f7d",
   "metadata": {},
   "outputs": [],
   "source": [
    "# 1. list\n",
    "a =[]  #empty list\n",
    "type(a)\n"
   ]
  },
  {
   "cell_type": "code",
   "execution_count": null,
   "id": "5a2c5936",
   "metadata": {},
   "outputs": [],
   "source": [
    "b = [1,2,3,4,5,6]  # initilize with value\n",
    "type(b)"
   ]
  },
  {
   "cell_type": "code",
   "execution_count": null,
   "id": "8414d835",
   "metadata": {},
   "outputs": [],
   "source": [
    "# store multipe values\n",
    "# store multiple types of data\n",
    "c =[1,\"a\", \"raj\",True, 3.09]"
   ]
  },
  {
   "cell_type": "code",
   "execution_count": null,
   "id": "12f9c7b1",
   "metadata": {},
   "outputs": [],
   "source": [
    "print(c)"
   ]
  },
  {
   "cell_type": "code",
   "execution_count": null,
   "id": "d40d74d0",
   "metadata": {},
   "outputs": [],
   "source": [
    "c"
   ]
  },
  {
   "cell_type": "code",
   "execution_count": null,
   "id": "630ad835",
   "metadata": {},
   "outputs": [],
   "source": [
    "# indexing \n",
    "# start from 0 \n",
    "c[3]"
   ]
  },
  {
   "cell_type": "code",
   "execution_count": null,
   "id": "1e01b8d0",
   "metadata": {},
   "outputs": [],
   "source": [
    "c[0,1]"
   ]
  },
  {
   "cell_type": "code",
   "execution_count": null,
   "id": "c4428421",
   "metadata": {},
   "outputs": [],
   "source": [
    "# slices\n",
    "# var[start:end: step]  syntax\n",
    "# range(start,end,step)\n",
    "c[0:4]  # in slicing last index number not include"
   ]
  },
  {
   "cell_type": "code",
   "execution_count": null,
   "id": "133e550d",
   "metadata": {},
   "outputs": [],
   "source": [
    "c[:]"
   ]
  },
  {
   "cell_type": "code",
   "execution_count": null,
   "id": "5b52edb4",
   "metadata": {},
   "outputs": [],
   "source": [
    "c[2:]"
   ]
  },
  {
   "cell_type": "code",
   "execution_count": null,
   "id": "04a4540d",
   "metadata": {},
   "outputs": [],
   "source": [
    "int(len(c)/2)"
   ]
  },
  {
   "cell_type": "code",
   "execution_count": null,
   "id": "92c68bd5",
   "metadata": {},
   "outputs": [],
   "source": [
    "c[len(c)//2]"
   ]
  },
  {
   "cell_type": "code",
   "execution_count": null,
   "id": "f54c2728",
   "metadata": {},
   "outputs": [],
   "source": [
    "c[::]"
   ]
  },
  {
   "cell_type": "code",
   "execution_count": null,
   "id": "8221c4ee",
   "metadata": {},
   "outputs": [],
   "source": [
    "c[::3]"
   ]
  },
  {
   "cell_type": "code",
   "execution_count": null,
   "id": "da2ef386",
   "metadata": {},
   "outputs": [],
   "source": [
    "std = [\"raj\",\"deep\",\"ram\"]"
   ]
  },
  {
   "cell_type": "code",
   "execution_count": null,
   "id": "3e3d7aec",
   "metadata": {},
   "outputs": [],
   "source": [
    "# add data in last index using append\n",
    "std.append(6)"
   ]
  },
  {
   "cell_type": "code",
   "execution_count": null,
   "id": "e9a07040",
   "metadata": {},
   "outputs": [],
   "source": [
    "# add data in any index using insert\n",
    "std.insert(0,\"shyam\")"
   ]
  },
  {
   "cell_type": "code",
   "execution_count": null,
   "id": "397b2517",
   "metadata": {},
   "outputs": [],
   "source": [
    "std.pop() # pop delete the last value\n",
    "\n",
    "std.pop(3) # pop delete the index value"
   ]
  },
  {
   "cell_type": "code",
   "execution_count": null,
   "id": "b0ff06d1",
   "metadata": {},
   "outputs": [],
   "source": [
    "std.remove(\"raj\")  # delete the specific value of 1st occurance present value"
   ]
  },
  {
   "cell_type": "code",
   "execution_count": null,
   "id": "2ccf2424",
   "metadata": {},
   "outputs": [],
   "source": [
    "std.clear()"
   ]
  },
  {
   "cell_type": "code",
   "execution_count": null,
   "id": "c36ec162",
   "metadata": {},
   "outputs": [],
   "source": [
    "std = [\"raj\",\"deep\",\"ram\"]"
   ]
  },
  {
   "cell_type": "code",
   "execution_count": null,
   "id": "01554d24",
   "metadata": {},
   "outputs": [],
   "source": [
    "s1 = std.copy()  # deep copy"
   ]
  },
  {
   "cell_type": "code",
   "execution_count": null,
   "id": "81454a65",
   "metadata": {},
   "outputs": [],
   "source": [
    "s2 =std  #shallow copy"
   ]
  },
  {
   "cell_type": "code",
   "execution_count": null,
   "id": "5c0e9242",
   "metadata": {},
   "outputs": [],
   "source": [
    "id(s1)"
   ]
  },
  {
   "cell_type": "code",
   "execution_count": null,
   "id": "b066e49d",
   "metadata": {},
   "outputs": [],
   "source": [
    "id(std)"
   ]
  },
  {
   "cell_type": "code",
   "execution_count": null,
   "id": "47688805",
   "metadata": {},
   "outputs": [],
   "source": [
    "id(s2)"
   ]
  },
  {
   "cell_type": "code",
   "execution_count": null,
   "id": "92eb7f3f",
   "metadata": {},
   "outputs": [],
   "source": [
    "a=3\n",
    "b =3.0"
   ]
  },
  {
   "cell_type": "code",
   "execution_count": null,
   "id": "4d69cc85",
   "metadata": {},
   "outputs": [],
   "source": [
    "id(a)"
   ]
  },
  {
   "cell_type": "code",
   "execution_count": null,
   "id": "dde97e07",
   "metadata": {},
   "outputs": [],
   "source": [
    "id(b)"
   ]
  },
  {
   "cell_type": "code",
   "execution_count": null,
   "id": "bc67d234",
   "metadata": {},
   "outputs": [],
   "source": [
    "std.append(\"deep\")"
   ]
  },
  {
   "cell_type": "code",
   "execution_count": null,
   "id": "95f443da",
   "metadata": {},
   "outputs": [],
   "source": [
    "std.count(\"deep\")"
   ]
  },
  {
   "cell_type": "code",
   "execution_count": null,
   "id": "f7ae830f",
   "metadata": {},
   "outputs": [],
   "source": [
    "std.reverse()"
   ]
  },
  {
   "cell_type": "code",
   "execution_count": null,
   "id": "b4b91948",
   "metadata": {},
   "outputs": [],
   "source": [
    "std.append(2)"
   ]
  },
  {
   "cell_type": "code",
   "execution_count": null,
   "id": "94525b34",
   "metadata": {},
   "outputs": [],
   "source": [
    "std.reverse()"
   ]
  },
  {
   "cell_type": "code",
   "execution_count": null,
   "id": "36883ff7",
   "metadata": {},
   "outputs": [],
   "source": [
    "std"
   ]
  },
  {
   "cell_type": "code",
   "execution_count": null,
   "id": "f822e634",
   "metadata": {},
   "outputs": [],
   "source": [
    "std.sort(reverse=True)  # for descending using reverse =true\n",
    "std"
   ]
  },
  {
   "cell_type": "code",
   "execution_count": null,
   "id": "2dd00aca",
   "metadata": {},
   "outputs": [],
   "source": [
    "std.sort()\n",
    "std"
   ]
  },
  {
   "cell_type": "code",
   "execution_count": null,
   "id": "b4589521",
   "metadata": {},
   "outputs": [],
   "source": [
    "std"
   ]
  },
  {
   "cell_type": "code",
   "execution_count": null,
   "id": "5f1c99d9",
   "metadata": {},
   "outputs": [],
   "source": [
    "std2 =[\"a\",\"b\",\"c\"]"
   ]
  },
  {
   "cell_type": "code",
   "execution_count": null,
   "id": "2968f667",
   "metadata": {},
   "outputs": [],
   "source": [
    "std.append(std2)\n"
   ]
  },
  {
   "cell_type": "code",
   "execution_count": null,
   "id": "e2ee1149",
   "metadata": {},
   "outputs": [],
   "source": [
    "std[-1]"
   ]
  },
  {
   "cell_type": "code",
   "execution_count": null,
   "id": "644be231",
   "metadata": {},
   "outputs": [],
   "source": [
    "std.extend(std2) # use to add itrable object one by one using extend function"
   ]
  },
  {
   "cell_type": "code",
   "execution_count": null,
   "id": "b9fa1acb",
   "metadata": {},
   "outputs": [],
   "source": [
    "std"
   ]
  },
  {
   "cell_type": "code",
   "execution_count": null,
   "id": "3e45d016",
   "metadata": {},
   "outputs": [],
   "source": [
    "# List Characteristics\n",
    "# In Python, lists are:\n",
    "\n",
    "# Ordered - They maintain the order of elements.\n",
    "# Mutable - Items can be changed after creation.\n",
    "# Allow duplicates - They can contain duplicate values.\n",
    "\n",
    "# Method\tDescription\n",
    "# append()\tAdds an item to the end of the list\n",
    "# extend()\tAdds items of lists and other iterables to the end of the list\n",
    "# insert()\tInserts an item at the specified index\n",
    "# remove()\tRemoves the specified value from the list\n",
    "# pop()\tReturns and removes item present at the given index\n",
    "# clear()\tRemoves all items from the list\n",
    "# index()\tReturns the index of the first matched item\n",
    "# count()\tReturns the count of the specified item in the list\n",
    "# sort()\tSorts the list in ascending/descending order\n",
    "# reverse()\tReverses the item of the list\n",
    "# copy()\tReturns the shallow copy of the list"
   ]
  },
  {
   "cell_type": "code",
   "execution_count": null,
   "id": "cd0fb065",
   "metadata": {},
   "outputs": [],
   "source": [
    "int(5.6)"
   ]
  },
  {
   "cell_type": "code",
   "execution_count": null,
   "id": "163c700a",
   "metadata": {},
   "outputs": [],
   "source": [
    "list()  # using list funtion convert any sequetial data into list"
   ]
  },
  {
   "cell_type": "code",
   "execution_count": null,
   "id": "31e288a3",
   "metadata": {},
   "outputs": [],
   "source": [
    "# Python list() - Convert other datatypes to list.\n",
    "# Python list comprehension - A concise way to create a list from another sequence in a single line.\n",
    "# Python enumerate() function - Adds a counter (index by default) to a list."
   ]
  },
  {
   "cell_type": "code",
   "execution_count": null,
   "id": "49344171",
   "metadata": {},
   "outputs": [],
   "source": [
    "for i in (std):\n",
    "    print(i)"
   ]
  },
  {
   "cell_type": "code",
   "execution_count": null,
   "id": "2f16e3f4",
   "metadata": {},
   "outputs": [],
   "source": [
    "for i in enumerate(std):\n",
    "    print(i)"
   ]
  },
  {
   "cell_type": "code",
   "execution_count": null,
   "id": "ed82fe61",
   "metadata": {},
   "outputs": [],
   "source": [
    "for i ,j in enumerate(std):\n",
    "    print(i)"
   ]
  },
  {
   "cell_type": "markdown",
   "id": "e658f7f0",
   "metadata": {},
   "source": [
    "## Python Tuple\n",
    "A tuple is a collection similar to a Python list. The primary difference is that we cannot modify a tuple once it is created."
   ]
  },
  {
   "cell_type": "code",
   "execution_count": null,
   "id": "4c3ab0f2",
   "metadata": {},
   "outputs": [],
   "source": [
    "# # Create a Python Tuple\n",
    "# Ordered - They maintain the order of elements.\n",
    "# Immutable - They cannot be changed after creation.\n",
    "# Allow duplicates - They can contain duplicate values.\n",
    "t1 =()\n",
    "t2 =(1,2,3,4,5)\n",
    "t3 =tuple(std)"
   ]
  },
  {
   "cell_type": "code",
   "execution_count": null,
   "id": "3fcbe4cf",
   "metadata": {},
   "outputs": [],
   "source": [
    "type(t3)"
   ]
  },
  {
   "cell_type": "code",
   "execution_count": null,
   "id": "c12da842",
   "metadata": {},
   "outputs": [],
   "source": [
    "t3[4:]"
   ]
  },
  {
   "cell_type": "code",
   "execution_count": null,
   "id": "f1bb588a",
   "metadata": {},
   "outputs": [],
   "source": [
    "t3[5]=44\n",
    "# 'tuple' object does not support item assignment\n",
    "# data is immutable in tuple"
   ]
  },
  {
   "cell_type": "code",
   "execution_count": null,
   "id": "4b7ba6d9",
   "metadata": {},
   "outputs": [],
   "source": [
    "std[4]= \"abh\""
   ]
  },
  {
   "cell_type": "code",
   "execution_count": null,
   "id": "27c7c8ad",
   "metadata": {},
   "outputs": [],
   "source": [
    "t3.count(\"deep\")"
   ]
  },
  {
   "cell_type": "code",
   "execution_count": null,
   "id": "3ed8f64f",
   "metadata": {},
   "outputs": [],
   "source": [
    "t3.index(\"raj\")"
   ]
  },
  {
   "cell_type": "code",
   "execution_count": null,
   "id": "0ad9ba4f",
   "metadata": {},
   "outputs": [],
   "source": [
    "for i in t3:\n",
    "    print(i)"
   ]
  },
  {
   "cell_type": "markdown",
   "id": "0f2de3a5",
   "metadata": {},
   "source": [
    "### Python Sets\n",
    "A set is a collection of unique data, meaning that elements within a set cannot be duplicated."
   ]
  },
  {
   "cell_type": "code",
   "execution_count": null,
   "id": "7f7da1a2",
   "metadata": {},
   "outputs": [],
   "source": [
    "s1={4,3,5,6,7}\n",
    "s2 = set()\n",
    "s3= set(t1)"
   ]
  },
  {
   "cell_type": "code",
   "execution_count": null,
   "id": "7dbaee38",
   "metadata": {},
   "outputs": [],
   "source": [
    "type(s1)"
   ]
  },
  {
   "cell_type": "code",
   "execution_count": null,
   "id": "4712ae01",
   "metadata": {},
   "outputs": [],
   "source": [
    "s1.discard(3)"
   ]
  },
  {
   "cell_type": "code",
   "execution_count": null,
   "id": "12a05a5e",
   "metadata": {},
   "outputs": [],
   "source": [
    "s1.remove(3)"
   ]
  },
  {
   "cell_type": "code",
   "execution_count": null,
   "id": "ce36d5d6",
   "metadata": {},
   "outputs": [],
   "source": [
    "s1.update([6,3,4,1,7,8,8])"
   ]
  },
  {
   "cell_type": "code",
   "execution_count": null,
   "id": "c25545ac",
   "metadata": {},
   "outputs": [],
   "source": [
    "s1"
   ]
  },
  {
   "cell_type": "code",
   "execution_count": null,
   "id": "29d45924",
   "metadata": {},
   "outputs": [],
   "source": [
    "# dictonaty type\n",
    "d= {1:\"ram\", 2:\"raj\"}"
   ]
  },
  {
   "cell_type": "code",
   "execution_count": null,
   "id": "54e7ccff",
   "metadata": {},
   "outputs": [],
   "source": [
    "type(d)"
   ]
  },
  {
   "cell_type": "code",
   "execution_count": null,
   "id": "d61156c7",
   "metadata": {},
   "outputs": [],
   "source": [
    "students ={\n",
    "    \"id\":[1,2,3],\n",
    "    \"name\":[\"raj\",\"deep\",\"ram\"],\n",
    "    \"class\":[\"8th\",\"10th\",\"12th\"]\n",
    "}"
   ]
  },
  {
   "cell_type": "code",
   "execution_count": null,
   "id": "93c79aa0",
   "metadata": {},
   "outputs": [],
   "source": [
    "# name =\"raj\"\n",
    "def search_std_details(name):\n",
    "    if name in students[\"name\"]:\n",
    "        print(\"record found\")\n",
    "        for i in range(0, len(students[\"name\"])):\n",
    "            if name == students[\"name\"][i]:\n",
    "                print(f\" student id : {students[\"id\"][i]}\")\n",
    "                print(f\" student name : {students[\"name\"][i]}\")\n",
    "                print(f\" student calss : {students[\"class\"][i]}\")\n",
    "    else:\n",
    "        print(name,\"Record Not Found \")"
   ]
  },
  {
   "cell_type": "code",
   "execution_count": null,
   "id": "4db68bb4",
   "metadata": {},
   "outputs": [],
   "source": [
    "search_std_details(\"ajay\")"
   ]
  },
  {
   "cell_type": "markdown",
   "id": "bd589859",
   "metadata": {},
   "source": [
    "## List commprehension\n",
    "\n",
    "https://www.geeksforgeeks.org/comprehensions-in-python/\n"
   ]
  },
  {
   "cell_type": "code",
   "execution_count": null,
   "id": "9d75ea26",
   "metadata": {},
   "outputs": [],
   "source": [
    "# [<expression> for <item> in <iterable> if <condition>]"
   ]
  },
  {
   "cell_type": "code",
   "execution_count": null,
   "id": "1c131d62",
   "metadata": {},
   "outputs": [],
   "source": [
    "even = []\n",
    "for i in range(11):\n",
    "    if i%2==0:\n",
    "        # print(i)\n",
    "        even.append(i)\n",
    "even"
   ]
  },
  {
   "cell_type": "code",
   "execution_count": null,
   "id": "635ac66e",
   "metadata": {},
   "outputs": [],
   "source": [
    "[ i for i in range(11) if i%2==0]"
   ]
  },
  {
   "cell_type": "code",
   "execution_count": null,
   "id": "53ac5224",
   "metadata": {},
   "outputs": [],
   "source": [
    "# Dictonary comprehension\n",
    "# new_dict = [<key>:<value> for <item> in <iterable> if <condition>]\n",
    "#            [<expression> for <item> in <iterable> if <condition>]   -->list comp\n",
    "a = [\"Texas\", \"California\", \"Florida\"] # states\n",
    "b = [\"Austin\", \"Sacramento\", \"Tallahassee\"] # capital\n",
    "d1 = {}\n",
    "d1[\"Texas\"] =\"Austin\"\n",
    "d1"
   ]
  },
  {
   "cell_type": "code",
   "execution_count": null,
   "id": "e32aab6a",
   "metadata": {},
   "outputs": [],
   "source": [
    "for i in zip(a,b):\n",
    "    print(i[1])\n",
    "    d1[i[0]] = i[1]\n",
    "d1"
   ]
  },
  {
   "cell_type": "code",
   "execution_count": null,
   "id": "3c8060d3",
   "metadata": {},
   "outputs": [],
   "source": [
    "res = {state: capital for state, capital in zip(a, b)}\n",
    "print(res)"
   ]
  },
  {
   "cell_type": "code",
   "execution_count": null,
   "id": "c4f55be2",
   "metadata": {},
   "outputs": [],
   "source": [
    "def check_std_details(id):\n",
    "    if id in students[\"id\"]:\n",
    "        print(\"found\")\n",
    "        for i in students[\"id\"]:\n",
    "            if i ==id:\n",
    "                print(i)\n",
    "                print(students[\"id\"][i-1])\n",
    "                print(students[\"name\"][i-1])\n",
    "                print(students[\"class\"][i-1])\n",
    "\n",
    "    else:\n",
    "        print(\"Record not found\")"
   ]
  },
  {
   "cell_type": "code",
   "execution_count": null,
   "id": "d73bc884",
   "metadata": {},
   "outputs": [],
   "source": [
    "check_std_details(1)"
   ]
  },
  {
   "cell_type": "code",
   "execution_count": null,
   "id": "7bfea25e",
   "metadata": {},
   "outputs": [],
   "source": [
    "def check_positve(num):\n",
    "    if num>0:\n",
    "        # print(num)\n",
    "        return num\n",
    "    else:\n",
    "        print(\"-ve number \", num)\n",
    "        return 0\n",
    "     \n",
    "def odd_even_check(n):\n",
    "    if n%2==0:\n",
    "        print(n , \" even\")\n",
    "        # print(f\" student id : {n} name \")\n",
    "    \n",
    "    else:\n",
    "        print(n , \" odd\")"
   ]
  },
  {
   "cell_type": "code",
   "execution_count": null,
   "id": "d10e134c",
   "metadata": {},
   "outputs": [],
   "source": [
    "v = check_positve(54)"
   ]
  },
  {
   "cell_type": "code",
   "execution_count": null,
   "id": "89dced2c",
   "metadata": {},
   "outputs": [],
   "source": [
    "check_positve(54)"
   ]
  },
  {
   "cell_type": "code",
   "execution_count": null,
   "id": "72af3681",
   "metadata": {},
   "outputs": [],
   "source": [
    "v"
   ]
  },
  {
   "cell_type": "code",
   "execution_count": null,
   "id": "c2fd4203",
   "metadata": {},
   "outputs": [],
   "source": [
    "odd_even_check(v)"
   ]
  },
  {
   "cell_type": "code",
   "execution_count": null,
   "id": "574a79a9",
   "metadata": {},
   "outputs": [],
   "source": [
    "odd_even_check(check_positve(-53))"
   ]
  },
  {
   "cell_type": "code",
   "execution_count": null,
   "id": "cd7ae421",
   "metadata": {},
   "outputs": [],
   "source": [
    "\n",
    "def check_positve(num):\n",
    "    if num>0:\n",
    "        print(a)\n",
    "        return num\n",
    "    else:\n",
    "        print(\"-ve number \", num)\n",
    "        return 0\n",
    "    "
   ]
  },
  {
   "cell_type": "code",
   "execution_count": null,
   "id": "2d5dfc21",
   "metadata": {},
   "outputs": [],
   "source": [
    "check_positve(54)"
   ]
  },
  {
   "cell_type": "code",
   "execution_count": null,
   "id": "6c52b6c7",
   "metadata": {},
   "outputs": [],
   "source": [
    "a"
   ]
  },
  {
   "cell_type": "code",
   "execution_count": null,
   "id": "817f49d1",
   "metadata": {},
   "outputs": [],
   "source": [
    "num"
   ]
  },
  {
   "cell_type": "code",
   "execution_count": null,
   "id": "8a7e66b5",
   "metadata": {},
   "outputs": [],
   "source": [
    "claa_ = \"dsda\"\n",
    "def check_std_details(id):\n",
    "    if id in students[\"id\"]:\n",
    "        print(\"found\")\n",
    "        for i in students[\"id\"]:\n",
    "            if i ==id:\n",
    "                print(i)\n",
    "                print(students[\"id\"][i-1])\n",
    "                print(students[\"name\"][i-1])\n",
    "                print(students[\"class\"][i-1])\n",
    "\n",
    "    else:\n",
    "        print(\"Record not found\")"
   ]
  },
  {
   "cell_type": "code",
   "execution_count": null,
   "id": "f981de6d",
   "metadata": {},
   "outputs": [],
   "source": [
    "# outside function \n",
    "def outer():\n",
    "    message = 'local'\n",
    "\n",
    "    # nested function  \n",
    "    def inner():\n",
    "        nonlocal     message\n",
    "        # declare nonlocal variable\n",
    "        message = 'nonlocal'\n",
    "        print(\"inner:\", message)\n",
    "\n",
    "    inner()\n",
    "    print(\"outer:\", message)\n",
    "\n",
    "outer()"
   ]
  },
  {
   "cell_type": "code",
   "execution_count": null,
   "id": "b2f4e0da",
   "metadata": {},
   "outputs": [],
   "source": [
    "# https://www.geeksforgeeks.org/map-reduce-and-filter-operations-in-python/\n",
    "# https://www.programiz.com/python-programming/global-local-nonlocal-variables"
   ]
  },
  {
   "cell_type": "code",
   "execution_count": null,
   "id": "124c1e96",
   "metadata": {},
   "outputs": [],
   "source": [
    "s1 ={1,2,3,4,5}\n",
    "s2 = {4,3,57,6,8}"
   ]
  },
  {
   "cell_type": "code",
   "execution_count": null,
   "id": "923bf727",
   "metadata": {},
   "outputs": [],
   "source": [
    "s1.union(s2)"
   ]
  },
  {
   "cell_type": "code",
   "execution_count": null,
   "id": "38207ae1",
   "metadata": {},
   "outputs": [],
   "source": [
    "s1.difference(s2)"
   ]
  },
  {
   "cell_type": "code",
   "execution_count": null,
   "id": "77f4feea",
   "metadata": {},
   "outputs": [],
   "source": [
    "s2.difference(s1)"
   ]
  },
  {
   "cell_type": "code",
   "execution_count": null,
   "id": "4f52e738",
   "metadata": {},
   "outputs": [],
   "source": [
    "s2.symmetric_difference(s1)"
   ]
  },
  {
   "cell_type": "code",
   "execution_count": null,
   "id": "e1f8e89f",
   "metadata": {},
   "outputs": [],
   "source": []
  },
  {
   "cell_type": "markdown",
   "id": "3ce3f348",
   "metadata": {},
   "source": [
    "class 10/05/25\n",
    "\n",
    "types of function\n",
    "- basic function with arguments\n",
    "- lambda function\n",
    "- Recursion function\n",
    "\n",
    "\n",
    "buildin functions\n",
    "* map \n",
    "- reduce \n",
    "- filters \n",
    "\n"
   ]
  },
  {
   "cell_type": "markdown",
   "id": "60969cdf",
   "metadata": {},
   "source": []
  },
  {
   "cell_type": "code",
   "execution_count": null,
   "id": "417b3b90",
   "metadata": {},
   "outputs": [],
   "source": [
    "var = 35\n",
    "def prime_check(n):\n",
    "    count =0\n",
    "    global var\n",
    "    print(var)\n",
    "    var = var+4\n",
    "    print(var)\n",
    "    for i in range(1, n+1):\n",
    "        if n% i==0:\n",
    "            count+=1\n",
    "    \n",
    "    if count==2:\n",
    "        print(n, \"is prime\")\n",
    "        return n\n",
    "    else:\n",
    "        print(n, \"is not prime\")\n",
    "        return n\n",
    "\n",
    "print(var)\n",
    "prime_check(6)+2"
   ]
  },
  {
   "cell_type": "code",
   "execution_count": null,
   "id": "b28e21fa",
   "metadata": {},
   "outputs": [],
   "source": [
    "var"
   ]
  },
  {
   "cell_type": "code",
   "execution_count": null,
   "id": "5ed96e88",
   "metadata": {},
   "outputs": [],
   "source": [
    "if count==2:\n",
    "    print(n, \"is prime\")\n",
    "    return n\n",
    "else:\n",
    "    print(n, \"is not prime\")\n",
    "    return n\n"
   ]
  },
  {
   "cell_type": "code",
   "execution_count": null,
   "id": "bcc100aa",
   "metadata": {},
   "outputs": [],
   "source": [
    "prime_check(7)"
   ]
  },
  {
   "cell_type": "code",
   "execution_count": null,
   "id": "94943f9b",
   "metadata": {},
   "outputs": [],
   "source": [
    "# Lambda\n",
    "# syntax\n",
    "# lambda args : logic \n",
    "\n",
    "func = lambda a,b : a+b"
   ]
  },
  {
   "cell_type": "code",
   "execution_count": null,
   "id": "97135897",
   "metadata": {},
   "outputs": [],
   "source": [
    "func(2,3)"
   ]
  },
  {
   "cell_type": "code",
   "execution_count": null,
   "id": "44aff9fb",
   "metadata": {},
   "outputs": [],
   "source": [
    "(lambda a : a**2 )(3)"
   ]
  },
  {
   "cell_type": "code",
   "execution_count": null,
   "id": "1ef15323",
   "metadata": {},
   "outputs": [],
   "source": [
    "# lambda function without any variable assign\n",
    "(lambda a : \"even\" if a%2==0 else \"odd\")(34)"
   ]
  },
  {
   "cell_type": "code",
   "execution_count": null,
   "id": "63dc55ea",
   "metadata": {},
   "outputs": [],
   "source": [
    "# lambda function with variable assign\n",
    "odd_even_check= lambda a : \"even\" if a%2==0 else \"odd\""
   ]
  },
  {
   "cell_type": "code",
   "execution_count": null,
   "id": "a56ea75a",
   "metadata": {},
   "outputs": [],
   "source": [
    "odd_even_check(34)"
   ]
  },
  {
   "cell_type": "code",
   "execution_count": null,
   "id": "730c2054",
   "metadata": {},
   "outputs": [],
   "source": [
    "# Recurssion \n",
    "def print_num(v):\n",
    "    print(v)\n",
    "    v =v+2\n",
    "    print(v)"
   ]
  },
  {
   "cell_type": "code",
   "execution_count": null,
   "id": "5fb765bd",
   "metadata": {},
   "outputs": [],
   "source": [
    "print_num(6)"
   ]
  },
  {
   "cell_type": "code",
   "execution_count": null,
   "id": "16494dd1",
   "metadata": {},
   "outputs": [],
   "source": [
    "# Recurssion \n",
    "def print_num(v):\n",
    "    print(v)\n",
    "    v =print_num(v)+2\n",
    "    print(v)"
   ]
  },
  {
   "cell_type": "code",
   "execution_count": null,
   "id": "db2ab76e",
   "metadata": {},
   "outputs": [],
   "source": [
    "print_num(4)"
   ]
  },
  {
   "cell_type": "code",
   "execution_count": null,
   "id": "ba1c7c25",
   "metadata": {},
   "outputs": [],
   "source": [
    "num =5 \n",
    "fact =1 \n",
    "for i in range(1,num+1):\n",
    "    print(f\"i={i}, fact: {fact}\")\n",
    "    fact =fact*i\n",
    "    print(f\"fact: {fact}\")\n",
    "    print(\"==================\")\n",
    "\n",
    "print(fact)\n"
   ]
  },
  {
   "cell_type": "code",
   "execution_count": null,
   "id": "0ac23e9e",
   "metadata": {},
   "outputs": [],
   "source": [
    "num =5 \n",
    "fact =1 \n",
    "i =1\n",
    "while(i<=num):\n",
    "    fact =fact*1\n",
    "    i+=1\n",
    "print(fact)\n"
   ]
  },
  {
   "cell_type": "code",
   "execution_count": null,
   "id": "45d14a8a",
   "metadata": {},
   "outputs": [],
   "source": [
    "def factorial(num):\n",
    "    if num==1:\n",
    "        return num   \n",
    "    return num * factorial(num-1)\n",
    "\n",
    "factorial(5)\n",
    "\n",
    "# https://www.programiz.com/python-programming/recursion"
   ]
  },
  {
   "cell_type": "code",
   "execution_count": null,
   "id": "9b268609",
   "metadata": {},
   "outputs": [],
   "source": [
    "# Map \n",
    "# Reduce \n",
    "# filter\n",
    "# map() function is used to apply a given function to each item of an iterable (like lists,\n",
    "#  tuples, or sets) and returns a list of the results.\n",
    "\n",
    "# The map() function takes two arguments: a function and an iterable.\n",
    "\n",
    "# reduce() function is used to apply a given function of two arguments an accumulating way to"
   ]
  },
  {
   "cell_type": "code",
   "execution_count": null,
   "id": "aa6c8df7",
   "metadata": {},
   "outputs": [],
   "source": [
    "# Reduce \n",
    "l1 = [1, 2, 3, 4, 5]\n",
    "\n",
    "sum(l1)\n"
   ]
  },
  {
   "cell_type": "code",
   "execution_count": null,
   "id": "e7d3fbdf",
   "metadata": {},
   "outputs": [],
   "source": [
    "min(l1)"
   ]
  },
  {
   "cell_type": "code",
   "execution_count": null,
   "id": "6bd87c0b",
   "metadata": {},
   "outputs": [],
   "source": [
    "# even sum using loop in function\n",
    "l1 = [1, 2, 3, 4, 5]\n",
    "def even_sum(n):\n",
    "    total = 0\n",
    "    for i in n:\n",
    "        print(i)\n",
    "        if i % 2 == 0:\n",
    "            total +=i\n",
    "\n",
    "    return total\n",
    "\n",
    "even_sum(l1)"
   ]
  },
  {
   "cell_type": "code",
   "execution_count": null,
   "id": "f1d25f14",
   "metadata": {},
   "outputs": [],
   "source": [
    "import functools as f"
   ]
  },
  {
   "cell_type": "code",
   "execution_count": null,
   "id": "b4f4fa52",
   "metadata": {},
   "outputs": [],
   "source": [
    "# filter() function is used to apply a given function to each item of an iterable (like lists,\n",
    "#  tuples, or sets).\n",
    "\n",
    "# The filter() function takes two arguments: a function and an iterable."
   ]
  },
  {
   "cell_type": "code",
   "execution_count": null,
   "id": "b0188a81",
   "metadata": {},
   "outputs": [],
   "source": [
    "# fiter \n",
    "numbers = [1, 2, 3, 4]\n",
    "\n",
    "def even_num(n):\n",
    "    if n%2==0:\n",
    "        return n  \n",
    "    \n",
    "list(filter(even_num, numbers)  )"
   ]
  },
  {
   "cell_type": "code",
   "execution_count": null,
   "id": "dd5a94dc",
   "metadata": {},
   "outputs": [],
   "source": [
    "# show only words their length is greater than 3\n",
    "words = ['cat', 'lion', 'dog', 'elephant']\n",
    "\n",
    "# create lambda function to filter words with length greater than 3 only for one word\n",
    "(lambda w: len(w)>3)(\"cat\")"
   ]
  },
  {
   "cell_type": "code",
   "execution_count": null,
   "id": "af29ee6b",
   "metadata": {},
   "outputs": [],
   "source": [
    "# create normal function to filter words with length greater than 3 only for one word\n",
    "def check(w):\n",
    "    if len(w) >3:\n",
    "        return w    \n",
    "check(\"er\")"
   ]
  },
  {
   "cell_type": "code",
   "execution_count": null,
   "id": "a8e31ad3",
   "metadata": {},
   "outputs": [],
   "source": [
    "# now use filter functions with check() function to itrate for each item in the list words\n",
    "list(filter(check, words))"
   ]
  },
  {
   "cell_type": "code",
   "execution_count": null,
   "id": "ac7420d4",
   "metadata": {},
   "outputs": [],
   "source": [
    "# now use filter functions with lambda function to itrate for each item in the list wordsl\n",
    "list(filter((lambda w : len(w)>3 ), words))"
   ]
  },
  {
   "cell_type": "code",
   "execution_count": null,
   "id": "dd02febe",
   "metadata": {},
   "outputs": [],
   "source": [
    "l3 =[-23,-43,3,4,-9]\n",
    "def positive(n):\n",
    "    if n>0:\n",
    "        return n\n",
    "\n",
    "positive(-34)\n"
   ]
  },
  {
   "cell_type": "code",
   "execution_count": null,
   "id": "331e45a6",
   "metadata": {},
   "outputs": [],
   "source": [
    "# reduce \n",
    "# reduce() function is used to apply a given function to each item of an iterable (like lists,\n",
    "#  tuples, or sets) return in a single output value.\n",
    "\n",
    "# The reduce() function takes two arguments: a function and an iterable.\n",
    "numbers = [0,1, 2, 3, 4, 5]\n",
    "# find the sum of all numbers in the list\n",
    "from functools import reduce\n",
    "result = reduce(lambda x, y: x + y, numbers)\n",
    "result"
   ]
  },
  {
   "cell_type": "code",
   "execution_count": null,
   "id": "7e5bb3be",
   "metadata": {},
   "outputs": [],
   "source": [
    "def sum_all(x,y):\n",
    "    return x+y\n",
    "# one time call only for 2 values\n",
    "sum_all(3,4)\n",
    "\n",
    "# use reduce function to sum all values in a list using sum all function\n",
    "reduce(sum_all, [3,4,5])"
   ]
  },
  {
   "cell_type": "code",
   "execution_count": null,
   "id": "0eb7e03f",
   "metadata": {},
   "outputs": [],
   "source": [
    "def sum_even(x,y):\n",
    "    if y%2==0:\n",
    "        return x+y    \n",
    "    else:\n",
    "        return x\n",
    "reduce(sum_even, numbers)"
   ]
  },
  {
   "cell_type": "markdown",
   "id": "30db6a86",
   "metadata": {},
   "source": [
    "🔍 Step-by-step Execution:\n",
    "x = 0, y = 1 → 1 is odd → return 0\n",
    "x = 0, y = 2 → 2 is even → return 0 + 2 =2\n",
    "\n",
    "x =2, y = 3 → 3 is odd → return 2\n",
    "\n",
    "x = 2, y = 4 → 4 is even → return 2 + 4 = 6\n",
    "\n",
    "x = 6, y = 5 → 5 is odd → return 6\n",
    "\n",
    "x = 6, y = 6 → 6 is even → return 6 + 6 = 12"
   ]
  },
  {
   "cell_type": "code",
   "execution_count": null,
   "id": "0d48daa0",
   "metadata": {},
   "outputs": [],
   "source": [
    "numbers"
   ]
  },
  {
   "cell_type": "code",
   "execution_count": null,
   "id": "97d08534",
   "metadata": {},
   "outputs": [],
   "source": [
    "# using map to manupulate each data and return a new list\n",
    "list(map(lambda x :x+2, numbers))"
   ]
  },
  {
   "cell_type": "code",
   "execution_count": null,
   "id": "b694da8b",
   "metadata": {},
   "outputs": [],
   "source": [
    "#  return the list of even and odd text in place of the original list\n",
    "# [0, 1, 2, 3, 4, 5]\n",
    "# [\"even\",\"odd\",\"even\",\"odd\",\"even\",\"odd\"]\n",
    "def even_odd_list(x):\n",
    "    if x%2==0:\n",
    "        return f\"{x} even\"\n",
    "    else:\n",
    "        return f\"{x} odd\"\n",
    "    \n",
    "list(map(even_odd_list, numbers))"
   ]
  },
  {
   "cell_type": "code",
   "execution_count": null,
   "id": "02292020",
   "metadata": {},
   "outputs": [],
   "source": [
    "list(map(lambda x : f\"{x} even\" if x%2==0 else f\"{x} odd\",numbers) )"
   ]
  },
  {
   "cell_type": "code",
   "execution_count": null,
   "id": "dadd600a",
   "metadata": {},
   "outputs": [],
   "source": [
    "words = ['cat', 'lion', 'dog', 'elephant']\n",
    "# capitalize all words in the list\n",
    "words[1].upper()"
   ]
  },
  {
   "cell_type": "code",
   "execution_count": null,
   "id": "0896bb58",
   "metadata": {},
   "outputs": [],
   "source": [
    "list( map( lambda x : x.upper() ,words))"
   ]
  },
  {
   "cell_type": "code",
   "execution_count": null,
   "id": "b7dd5042",
   "metadata": {},
   "outputs": [],
   "source": [
    "# https://www.geeksforgeeks.org/map-reduce-and-filter-operations-in-python/\n"
   ]
  },
  {
   "cell_type": "markdown",
   "id": "16f5c941",
   "metadata": {},
   "source": [
    "## 17/05/2025\n"
   ]
  },
  {
   "cell_type": "code",
   "execution_count": null,
   "id": "baa9c92e",
   "metadata": {},
   "outputs": [],
   "source": [
    "# Take value from users --> name ,roll_no , class , email, address \n",
    "\n",
    "# create a functions to store student details in dictonary --->dict = student_details{}\n",
    "\n",
    "# variable = name ,roll_no , class , email, address \n",
    "\n",
    "\n",
    "\n",
    "# {name:[\"a\"],roll_no:[1] , class:[10] , email:[gmail.com], address :[]}\n"
   ]
  },
  {
   "cell_type": "code",
   "execution_count": null,
   "id": "0caa4a29",
   "metadata": {},
   "outputs": [],
   "source": [
    "student_detail ={}"
   ]
  },
  {
   "cell_type": "code",
   "execution_count": null,
   "id": "857d7b2c",
   "metadata": {},
   "outputs": [],
   "source": [
    "def insert_std_details():\n",
    "    name    = input(\"Enter student name: \")\n",
    "    roll_no = int(input(\"Enter student roll: \"))\n",
    "    # std     = int(input(\"Enter student class: \"))\n",
    "    # email   = input(\"Enter student email: \")\n",
    "    # address = input(\"Enter student addres: \")\n",
    "    if \"name\" not in student_detail.keys():\n",
    "        student_detail[\"name\"] =list([name])\n",
    "    else:\n",
    "        student_detail[\"name\"].append(name)\n",
    "\n",
    "    if \"roll_no\" not in student_detail.keys():\n",
    "        student_detail[\"roll_no\"] =list([roll_no])\n",
    "    else:\n",
    "        student_detail[\"roll_no\"].append(roll_no)\n",
    "\n",
    "def display_details():\n",
    "    for i in student_detail.items():\n",
    "        for j in i[1]:\n",
    "            print(j)"
   ]
  },
  {
   "cell_type": "code",
   "execution_count": null,
   "id": "ec529679",
   "metadata": {},
   "outputs": [],
   "source": [
    "# student_detail = {}  # Global dictionary to store student data\n",
    "\n",
    "def insert_std_details():\n",
    "    inputs = {\n",
    "        \"name\": input(\"Enter student name: \"),\n",
    "        \"roll_no\": int(input(\"Enter student roll: \")),\n",
    "        \"email\": input(\"Enter student email: \"),\n",
    "        \"address\": input(\"Enter student address: \")\n",
    "        \n",
    "    }\n",
    "\n",
    "    for key, value in inputs.items():\n",
    "        student_detail.setdefault(key, []).append(value)\n"
   ]
  },
  {
   "cell_type": "code",
   "execution_count": 54,
   "id": "f5fde80f",
   "metadata": {},
   "outputs": [],
   "source": [
    "insert_std_details()"
   ]
  },
  {
   "cell_type": "code",
   "execution_count": 55,
   "id": "297bab5d",
   "metadata": {},
   "outputs": [
    {
     "name": "stdout",
     "output_type": "stream",
     "text": [
      "Name:\n",
      "  raj\n",
      "  ds\n",
      "  pawan\n",
      "  eee\n",
      "  t\n",
      "  raj\n",
      "  deep \n",
      "Roll_No:\n",
      "  1\n",
      "  3\n",
      "  7\n",
      "  5\n",
      "  0\n",
      "  1\n",
      "  2\n",
      "Email:\n",
      "  @gmail.com\n",
      "  @yahoo.com\n",
      "Address:\n",
      "  delhi\n",
      "  mumbai\n"
     ]
    }
   ],
   "source": [
    "display_details()"
   ]
  },
  {
   "cell_type": "markdown",
   "metadata": {},
   "source": []
  },
  {
   "cell_type": "code",
   "execution_count": null,
   "id": "86db61b0",
   "metadata": {},
   "outputs": [],
   "source": [
    "students ={\n",
    "    \"id\":[1,2,3],\n",
    "    \"name\":[\"raj\",\"deep\",\"ram\"],\n",
    "    \"class\":[\"8th\",\"10th\",\"12th\"]\n",
    "}"
   ]
  },
  {
   "cell_type": "code",
   "execution_count": null,
   "id": "600f4936",
   "metadata": {},
   "outputs": [],
   "source": [
    "\"idw\" in students.keys()"
   ]
  },
  {
   "cell_type": "code",
   "execution_count": null,
   "id": "8bf2a4e9",
   "metadata": {},
   "outputs": [],
   "source": [
    "students[\"idss\"] = list([4])"
   ]
  },
  {
   "cell_type": "code",
   "execution_count": null,
   "id": "ca9a7996",
   "metadata": {},
   "outputs": [],
   "source": [
    "students[\"idss\"].append(9)"
   ]
  },
  {
   "cell_type": "code",
   "execution_count": null,
   "id": "3bfbfe85",
   "metadata": {},
   "outputs": [],
   "source": []
  },
  {
   "cell_type": "code",
   "execution_count": null,
   "id": "055d9309",
   "metadata": {},
   "outputs": [],
   "source": [
    "# pass ,break ,continue\n",
    "def functions():\n",
    "    pass"
   ]
  },
  {
   "cell_type": "code",
   "execution_count": null,
   "id": "f66e6e9e",
   "metadata": {},
   "outputs": [],
   "source": [
    "def func():\n",
    "    for i in range(10):\n",
    "        if i == 5:\n",
    "            break\n",
    "        print(i)\n",
    "\n",
    "func()"
   ]
  },
  {
   "cell_type": "code",
   "execution_count": null,
   "id": "76e984f6",
   "metadata": {},
   "outputs": [],
   "source": [
    "def func():\n",
    "    for  i in range(10):\n",
    "        if i==6:\n",
    "            continue\n",
    "        print(i)\n",
    "\n",
    "\n",
    "func()"
   ]
  },
  {
   "cell_type": "code",
   "execution_count": 56,
   "id": "1e12ce25",
   "metadata": {},
   "outputs": [
    {
     "data": {
      "text/plain": [
       "9"
      ]
     },
     "execution_count": 56,
     "metadata": {},
     "output_type": "execute_result"
    }
   ],
   "source": [
    "4+5"
   ]
  },
  {
   "cell_type": "code",
   "execution_count": 57,
   "id": "d1a0fe6d",
   "metadata": {},
   "outputs": [
    {
     "data": {
      "text/plain": [
       "'45'"
      ]
     },
     "execution_count": 57,
     "metadata": {},
     "output_type": "execute_result"
    }
   ],
   "source": [
    "\"4\"+\"5\""
   ]
  },
  {
   "cell_type": "code",
   "execution_count": null,
   "id": "0ac5e03c",
   "metadata": {},
   "outputs": [],
   "source": []
  }
 ],
 "metadata": {
  "kernelspec": {
   "display_name": "aienv",
   "language": "python",
   "name": "python3"
  },
  "language_info": {
   "codemirror_mode": {
    "name": "ipython",
    "version": 3
   },
   "file_extension": ".py",
   "mimetype": "text/x-python",
   "name": "python",
   "nbconvert_exporter": "python",
   "pygments_lexer": "ipython3",
   "version": "3.12.9"
  }
 },
 "nbformat": 4,
 "nbformat_minor": 5
}
