{
 "cells": [
  {
   "cell_type": "markdown",
   "id": "90205c2f",
   "metadata": {},
   "source": [
    "## Pandas "
   ]
  },
  {
   "cell_type": "code",
   "execution_count": null,
   "id": "fa00e965",
   "metadata": {},
   "outputs": [],
   "source": [
    "# https://pandas.pydata.org/\n",
    "# pip install pandas\n",
    "import pandas"
   ]
  },
  {
   "cell_type": "code",
   "execution_count": null,
   "id": "3d8da78d",
   "metadata": {},
   "outputs": [],
   "source": [
    "# Series and DataFrame\n",
    "\n",
    "# Series/1D/Vecotr\n",
    "# and DataFrame/matrix/2d/table"
   ]
  },
  {
   "cell_type": "code",
   "execution_count": null,
   "id": "fd3f20a1",
   "metadata": {},
   "outputs": [],
   "source": [
    "import pandas as pd\n",
    "\n",
    "s1 = pd.Series([12,3,4,56])\n",
    "s1"
   ]
  },
  {
   "cell_type": "code",
   "execution_count": null,
   "id": "ab912648",
   "metadata": {},
   "outputs": [],
   "source": [
    "# change index\n",
    "s1.set_axis([\"a\",\"B\",\"c\",\"d\"])"
   ]
  },
  {
   "cell_type": "code",
   "execution_count": null,
   "id": "86885c64",
   "metadata": {},
   "outputs": [],
   "source": [
    "# 2d/dataframe\n",
    "df1 = pd.DataFrame({\"a\":[2,3,4],\"b\":[5,6,7],\"c\":[6,7,8]})\n",
    "\n",
    "df2 = pd.DataFrame([[2,3,4],[2,6,5],[8,7,6]])\n",
    "print(df1)\n",
    "print(\"===========\")\n",
    "print(df2)"
   ]
  },
  {
   "cell_type": "code",
   "execution_count": null,
   "id": "2c9f7ab1",
   "metadata": {},
   "outputs": [],
   "source": [
    "# loc[row, column]\n",
    "# loc access data based on index/column custom name\n",
    "df1.loc[1,\"b\"]"
   ]
  },
  {
   "cell_type": "code",
   "execution_count": null,
   "id": "2b4069c9",
   "metadata": {},
   "outputs": [],
   "source": [
    "# iloc access data based on index number\n",
    "df1.iloc[1,1]"
   ]
  },
  {
   "cell_type": "code",
   "execution_count": null,
   "id": "1f87e2f9",
   "metadata": {},
   "outputs": [],
   "source": [
    "df1.iloc[1:,1:]"
   ]
  },
  {
   "cell_type": "code",
   "execution_count": null,
   "id": "e921011d",
   "metadata": {},
   "outputs": [],
   "source": [
    "pd.read_csv(r\"C:\\Users\\hp\\Downloads\\ti.csv\")\n",
    "# access from local folder"
   ]
  },
  {
   "cell_type": "code",
   "execution_count": null,
   "id": "e5000a41",
   "metadata": {},
   "outputs": [],
   "source": [
    "df = pd.read_csv(\"https://raw.githubusercontent.com/datasciencedojo/datasets/master/titanic.csv\")\n",
    "# access from url csv"
   ]
  },
  {
   "cell_type": "code",
   "execution_count": null,
   "id": "0ed4ebd6",
   "metadata": {},
   "outputs": [],
   "source": [
    "df"
   ]
  },
  {
   "cell_type": "code",
   "execution_count": null,
   "id": "7b933c79",
   "metadata": {},
   "outputs": [],
   "source": [
    "# number of row and columns\n",
    "df.shape"
   ]
  },
  {
   "cell_type": "code",
   "execution_count": null,
   "id": "07a92ffb",
   "metadata": {},
   "outputs": [],
   "source": [
    "df.size"
   ]
  },
  {
   "cell_type": "code",
   "execution_count": null,
   "id": "e32c5697",
   "metadata": {},
   "outputs": [],
   "source": [
    "df.ndim"
   ]
  },
  {
   "cell_type": "code",
   "execution_count": null,
   "id": "bdaec9ec",
   "metadata": {},
   "outputs": [],
   "source": [
    "# basic overview of data\n",
    "df.info()"
   ]
  },
  {
   "cell_type": "code",
   "execution_count": null,
   "id": "9f093e0e",
   "metadata": {},
   "outputs": [],
   "source": [
    "# Statistical overview of  numerical data\n",
    "df.describe()"
   ]
  },
  {
   "cell_type": "code",
   "execution_count": null,
   "id": "32d6b30c",
   "metadata": {},
   "outputs": [],
   "source": [
    "# for object  datype\n",
    "df.describe(include=\"object\")"
   ]
  },
  {
   "cell_type": "code",
   "execution_count": null,
   "id": "f8ce0d63",
   "metadata": {},
   "outputs": [],
   "source": [
    "# Statistical overview of data\n",
    "df.describe(include=\"all\")"
   ]
  },
  {
   "cell_type": "code",
   "execution_count": null,
   "id": "de42cac6",
   "metadata": {},
   "outputs": [],
   "source": [
    "df.columns"
   ]
  },
  {
   "cell_type": "code",
   "execution_count": null,
   "id": "ca58130f",
   "metadata": {},
   "outputs": [],
   "source": [
    "# show name column\n",
    "df[\"Name\"]"
   ]
  },
  {
   "cell_type": "code",
   "execution_count": null,
   "id": "55616aad",
   "metadata": {},
   "outputs": [],
   "source": [
    "# slicing using index number\n",
    "df.iloc[:,0:4]"
   ]
  },
  {
   "cell_type": "code",
   "execution_count": null,
   "id": "933a54b8",
   "metadata": {},
   "outputs": [],
   "source": [
    "df.columns"
   ]
  },
  {
   "cell_type": "code",
   "execution_count": null,
   "id": "de6795dc",
   "metadata": {},
   "outputs": [],
   "source": [
    "# slicing using custom name\n",
    "df.loc[:,\"PassengerId\":\"Name\"]"
   ]
  },
  {
   "cell_type": "code",
   "execution_count": null,
   "id": "e2f09ce6",
   "metadata": {},
   "outputs": [],
   "source": [
    "# show the any column using their name \n",
    "df[[\"PassengerId\",\"Name\",\"Fare\"]]"
   ]
  },
  {
   "cell_type": "code",
   "execution_count": null,
   "id": "2c2a00fb",
   "metadata": {},
   "outputs": [],
   "source": [
    "df[\"PassengerId\"].dtype"
   ]
  },
  {
   "cell_type": "code",
   "execution_count": null,
   "id": "d24d48b3",
   "metadata": {},
   "outputs": [],
   "source": [
    "# change the datatype\n",
    "\n",
    "df[\"PassengerId\"]= df[\"PassengerId\"].astype(\"float32\")"
   ]
  },
  {
   "cell_type": "code",
   "execution_count": null,
   "id": "a1118b3d",
   "metadata": {},
   "outputs": [],
   "source": [
    "df.dtypes"
   ]
  },
  {
   "cell_type": "code",
   "execution_count": null,
   "id": "b37dbc28",
   "metadata": {},
   "outputs": [],
   "source": [
    "# show top 5 row \n",
    "df.head()\n",
    "\n",
    "# show top 10 row \n",
    "df.head(10)"
   ]
  },
  {
   "cell_type": "code",
   "execution_count": null,
   "id": "975e284e",
   "metadata": {},
   "outputs": [],
   "source": [
    "# show bottom 5 row \n",
    "df.tail()\n",
    "\n",
    "# show bottom 10 row \n",
    "df.tail(10)"
   ]
  },
  {
   "cell_type": "code",
   "execution_count": null,
   "id": "2606be5b",
   "metadata": {},
   "outputs": [],
   "source": [
    "df.head()"
   ]
  },
  {
   "cell_type": "code",
   "execution_count": null,
   "id": "9b2b019f",
   "metadata": {},
   "outputs": [],
   "source": [
    "# show the unique values in the column\n",
    "df[\"Cabin\"].unique()"
   ]
  },
  {
   "cell_type": "code",
   "execution_count": null,
   "id": "b5ea8f86",
   "metadata": {},
   "outputs": [],
   "source": [
    "# count the unique values in the column\n",
    "df[\"Cabin\"].nunique()"
   ]
  },
  {
   "cell_type": "code",
   "execution_count": null,
   "id": "e6b41222",
   "metadata": {},
   "outputs": [],
   "source": [
    "# count the number of times each value appears in the column\n",
    "df[\"Survived\"].value_counts()"
   ]
  },
  {
   "cell_type": "code",
   "execution_count": null,
   "id": "f43e59c6",
   "metadata": {},
   "outputs": [],
   "source": [
    "# Data Cleaning\n",
    "df.info()\n"
   ]
  },
  {
   "cell_type": "code",
   "execution_count": null,
   "id": "409333bd",
   "metadata": {},
   "outputs": [],
   "source": [
    "# Check duplicate value \n",
    "df.duplicated()\n",
    "\n",
    "df =df.drop_duplicates() \n",
    "\n",
    "\n",
    "df.drop_duplicates(inplace=True)"
   ]
  },
  {
   "cell_type": "code",
   "execution_count": null,
   "id": "3c866e82",
   "metadata": {},
   "outputs": [],
   "source": [
    "# 2. check null \n",
    "df[\"Age\"].isnull()"
   ]
  },
  {
   "cell_type": "code",
   "execution_count": null,
   "id": "402c4ac0",
   "metadata": {},
   "outputs": [],
   "source": [
    "# add all true value \n",
    "df[\"Age\"].isnull().sum()"
   ]
  },
  {
   "cell_type": "code",
   "execution_count": null,
   "id": "1a0c3d66",
   "metadata": {},
   "outputs": [],
   "source": [
    "# Aggrigate functions"
   ]
  },
  {
   "cell_type": "code",
   "execution_count": null,
   "id": "06d9fba2",
   "metadata": {},
   "outputs": [],
   "source": [
    "# \n",
    "avg_age = round(df[\"Age\"].mean(),2)"
   ]
  },
  {
   "cell_type": "code",
   "execution_count": null,
   "id": "6edb2a02",
   "metadata": {},
   "outputs": [],
   "source": [
    "df[\"Age\"] = df[\"Age\"].fillna(avg_age)"
   ]
  },
  {
   "cell_type": "code",
   "execution_count": null,
   "id": "3dac17a6",
   "metadata": {},
   "outputs": [],
   "source": [
    "df[\"Age\"].isnull().sum()"
   ]
  },
  {
   "cell_type": "code",
   "execution_count": null,
   "id": "33aa74e5",
   "metadata": {},
   "outputs": [],
   "source": [
    "# show all null values in the dataframe\n",
    "df.isnull().sum()"
   ]
  },
  {
   "cell_type": "code",
   "execution_count": null,
   "id": "17671ec5",
   "metadata": {},
   "outputs": [],
   "source": [
    "# Drop column\n",
    "df.head()\n",
    "df.drop(\"Cabin\",axis=1,inplace=True)"
   ]
  },
  {
   "cell_type": "code",
   "execution_count": null,
   "id": "e0ba9156",
   "metadata": {},
   "outputs": [],
   "source": [
    "df"
   ]
  },
  {
   "cell_type": "code",
   "execution_count": null,
   "id": "a6ad4334",
   "metadata": {},
   "outputs": [],
   "source": [
    "# drop null values\n",
    "df.dropna(inplace=True)"
   ]
  },
  {
   "cell_type": "code",
   "execution_count": null,
   "id": "4aa69c63",
   "metadata": {},
   "outputs": [],
   "source": [
    "df"
   ]
  },
  {
   "cell_type": "code",
   "execution_count": null,
   "id": "92d7a9dd",
   "metadata": {},
   "outputs": [],
   "source": [
    "df.isnull().sum()"
   ]
  },
  {
   "cell_type": "code",
   "execution_count": null,
   "id": "1a0bbd93",
   "metadata": {},
   "outputs": [],
   "source": [
    "# save the file in local\n",
    "df.to_csv(\"clean_data.csv\")"
   ]
  },
  {
   "cell_type": "code",
   "execution_count": null,
   "id": "638843fa",
   "metadata": {},
   "outputs": [],
   "source": [
    "import pandas as  pd\n",
    "df = pd.read_csv(\"clean_data.csv\")\n",
    "df.head()"
   ]
  },
  {
   "cell_type": "code",
   "execution_count": null,
   "id": "1232fb3f",
   "metadata": {},
   "outputs": [],
   "source": [
    "df.isnull().sum()"
   ]
  },
  {
   "cell_type": "code",
   "execution_count": null,
   "id": "ce9f2f4d",
   "metadata": {},
   "outputs": [],
   "source": [
    "df.drop(\"Unnamed: 0\", inplace=True, axis=1)"
   ]
  },
  {
   "cell_type": "markdown",
   "id": "bd0b0cf3",
   "metadata": {},
   "source": [
    "### Questions\n",
    "\n",
    "1. total number of passanger\n",
    "2. total number of teenager passanger \n",
    "3. total number of senior passanger\n",
    "4. count the number of male and female passanger\n",
    "2. find the number  of the passenger who has the Highest fare\n",
    "3. find the name of the panssager who has the highest fare\n",
    "4. find the number  of the passenger who has the lowest fare"
   ]
  },
  {
   "cell_type": "code",
   "execution_count": null,
   "id": "4bcf73fc",
   "metadata": {},
   "outputs": [],
   "source": [
    "# total number of passanger\n",
    "len(df)\n",
    "df[\"PassengerId\"].count()"
   ]
  },
  {
   "cell_type": "code",
   "execution_count": null,
   "id": "c731af2e",
   "metadata": {},
   "outputs": [],
   "source": [
    "# boolean indexing\n",
    "df.columns"
   ]
  },
  {
   "cell_type": "code",
   "execution_count": null,
   "id": "4460a309",
   "metadata": {},
   "outputs": [],
   "source": [
    "# total number of teenagers\n",
    "(df[\"Age\"] <18).sum()"
   ]
  },
  {
   "cell_type": "code",
   "execution_count": null,
   "id": "53fcf005",
   "metadata": {},
   "outputs": [],
   "source": [
    "# details of teenager\n",
    "df[df[\"Age\"] <18]"
   ]
  },
  {
   "cell_type": "code",
   "execution_count": null,
   "id": "46129553",
   "metadata": {},
   "outputs": [],
   "source": [
    "# Seniors\n",
    "df[\"PassengerId\"][df[\"Age\"] >60].count()"
   ]
  },
  {
   "cell_type": "code",
   "execution_count": null,
   "id": "71518aa5",
   "metadata": {},
   "outputs": [],
   "source": [
    "df[\"Sex\"].unique()"
   ]
  },
  {
   "cell_type": "code",
   "execution_count": null,
   "id": "c063f3ba",
   "metadata": {},
   "outputs": [],
   "source": [
    "(df[\"Sex\"]==\"male\").sum()"
   ]
  },
  {
   "cell_type": "code",
   "execution_count": null,
   "id": "c3c45d5b",
   "metadata": {},
   "outputs": [],
   "source": [
    "df[\"Sex\"][df[\"Sex\"]==\"male\"].count()"
   ]
  },
  {
   "cell_type": "code",
   "execution_count": null,
   "id": "02f18751",
   "metadata": {},
   "outputs": [],
   "source": [
    "df[\"Sex\"].value_counts()"
   ]
  },
  {
   "cell_type": "code",
   "execution_count": null,
   "id": "6867b9e8",
   "metadata": {},
   "outputs": [],
   "source": [
    "# highest fair\n",
    "df[\"Fare\"].max()"
   ]
  },
  {
   "cell_type": "code",
   "execution_count": null,
   "id": "9b8a99ca",
   "metadata": {},
   "outputs": [],
   "source": [
    "df[\"Fare\"] == df[\"Fare\"].max()"
   ]
  },
  {
   "cell_type": "code",
   "execution_count": null,
   "id": "6700137e",
   "metadata": {},
   "outputs": [],
   "source": [
    "(df[\"Fare\"] == df[\"Fare\"].max()).sum()"
   ]
  },
  {
   "cell_type": "code",
   "execution_count": null,
   "id": "90785fa3",
   "metadata": {},
   "outputs": [],
   "source": [
    "df[df[\"Fare\"] == df[\"Fare\"].max()]"
   ]
  },
  {
   "cell_type": "code",
   "execution_count": null,
   "id": "08511031",
   "metadata": {},
   "outputs": [],
   "source": [
    "# name of the passanger who pay max fare\n",
    "df[df[\"Fare\"] == df[\"Fare\"].max()]"
   ]
  },
  {
   "cell_type": "code",
   "execution_count": null,
   "id": "cc4df2f3",
   "metadata": {},
   "outputs": [],
   "source": [
    "df[df[\"Fare\"] == df[\"Fare\"].min()].count()"
   ]
  },
  {
   "cell_type": "code",
   "execution_count": null,
   "id": "201e9a87",
   "metadata": {},
   "outputs": [],
   "source": [
    "# name of the passanger who pay min fare\n",
    "\n",
    "df[df[\"Fare\"] == df[\"Fare\"].min()]"
   ]
  },
  {
   "cell_type": "code",
   "execution_count": null,
   "id": "13ac753d",
   "metadata": {},
   "outputs": [],
   "source": [
    "# name of the passanger who pay min fare\n",
    "\n",
    "df[\"PassengerId\"][df[\"Fare\"] == df[\"Fare\"].min()].count()"
   ]
  },
  {
   "cell_type": "code",
   "execution_count": null,
   "id": "75f3fbe1",
   "metadata": {},
   "outputs": [],
   "source": [
    "# count of the passanger who survived or not after pay min fare\n",
    "\n",
    "df[\"Survived\"][df[\"Fare\"] == df[\"Fare\"].min()].value_counts()"
   ]
  },
  {
   "cell_type": "code",
   "execution_count": null,
   "id": "9c189425",
   "metadata": {},
   "outputs": [],
   "source": [
    "# count the total survived or not survived passanger\n",
    "df['Survived'].value_counts()"
   ]
  },
  {
   "cell_type": "code",
   "execution_count": null,
   "id": "f6234e73",
   "metadata": {},
   "outputs": [],
   "source": [
    "# groupby \n",
    "\n",
    "df.groupby(\"Survived\").count()"
   ]
  },
  {
   "cell_type": "code",
   "execution_count": null,
   "id": "63307f13",
   "metadata": {},
   "outputs": [],
   "source": [
    "# groupby using count in survived columns\n",
    "df.groupby(\"Survived\")[\"Survived\"].count()"
   ]
  },
  {
   "cell_type": "code",
   "execution_count": null,
   "id": "4b8b446a",
   "metadata": {},
   "outputs": [],
   "source": [
    "# fare \n",
    "df.groupby(\"Survived\").mean(numeric_only=True)"
   ]
  },
  {
   "cell_type": "code",
   "execution_count": null,
   "id": "b3ac02c6",
   "metadata": {},
   "outputs": [],
   "source": [
    "# fare \n",
    "df.groupby(\"Survived\")[[\"Fare\",\"Age\",\"Parch\"]].mean(numeric_only=True)"
   ]
  },
  {
   "cell_type": "code",
   "execution_count": null,
   "id": "7c17b49f",
   "metadata": {},
   "outputs": [],
   "source": [
    "df[[\"Fare\",\"Age\",\"Parch\",\"Survived\"]].groupby(\"Survived\").mean()"
   ]
  },
  {
   "cell_type": "code",
   "execution_count": null,
   "id": "b5c945de",
   "metadata": {},
   "outputs": [],
   "source": [
    "df.describe()"
   ]
  },
  {
   "cell_type": "code",
   "execution_count": null,
   "id": "b49b42f4",
   "metadata": {},
   "outputs": [],
   "source": [
    "df.groupby(\"Survived\").describe()"
   ]
  },
  {
   "cell_type": "code",
   "execution_count": null,
   "id": "c054a960",
   "metadata": {},
   "outputs": [],
   "source": [
    "df.groupby(\"Survived\")[\"Fare\"].describe()"
   ]
  },
  {
   "cell_type": "code",
   "execution_count": null,
   "id": "545f0c49",
   "metadata": {},
   "outputs": [],
   "source": [
    "df.groupby(\"Survived\").aggregate(\"max\")"
   ]
  },
  {
   "cell_type": "code",
   "execution_count": null,
   "id": "d904d4fb",
   "metadata": {},
   "outputs": [],
   "source": [
    "df.groupby(\"Survived\")[\"Fare\"].aggregate([\"max\",\"min\",\"mean\",\"std\"])"
   ]
  },
  {
   "cell_type": "code",
   "execution_count": null,
   "id": "4839373d",
   "metadata": {},
   "outputs": [],
   "source": [
    "pd.__version__"
   ]
  },
  {
   "cell_type": "code",
   "execution_count": null,
   "id": "6fd2f178",
   "metadata": {},
   "outputs": [],
   "source": [
    "#add new columns\n",
    "df[\"rdt\"] =None"
   ]
  },
  {
   "cell_type": "code",
   "execution_count": null,
   "id": "6ff8a904",
   "metadata": {},
   "outputs": [],
   "source": [
    "fare =455\n",
    "if fare<10:\n",
    "    print(\"Fare is low\")\n",
    "elif fare>=10 and fare<=100:\n",
    "    print(\"Fare is moderate\")\n",
    "else:\n",
    "    print(\"Fare is high\")\n"
   ]
  },
  {
   "cell_type": "code",
   "execution_count": null,
   "id": "97730fd6",
   "metadata": {},
   "outputs": [],
   "source": [
    "df"
   ]
  },
  {
   "cell_type": "code",
   "execution_count": null,
   "id": "1d1fcf7b",
   "metadata": {},
   "outputs": [],
   "source": []
  },
  {
   "cell_type": "code",
   "execution_count": null,
   "id": "bf0ac6f5",
   "metadata": {},
   "outputs": [],
   "source": [
    "# 14/05/24\n",
    "import pandas as pd\n",
    "df = pd.read_csv(\"clean_data.csv\")"
   ]
  },
  {
   "cell_type": "code",
   "execution_count": null,
   "id": "6b4653b2",
   "metadata": {},
   "outputs": [],
   "source": [
    "df[\"Age\"]<18"
   ]
  },
  {
   "cell_type": "code",
   "execution_count": null,
   "id": "efe3d803",
   "metadata": {},
   "outputs": [],
   "source": [
    "df[\"Survived\"]==1"
   ]
  },
  {
   "cell_type": "code",
   "execution_count": null,
   "id": "d9e692a1",
   "metadata": {},
   "outputs": [],
   "source": [
    "((df[\"Age\"]<18) & (df[\"Survived\"]==1) )"
   ]
  },
  {
   "cell_type": "code",
   "execution_count": null,
   "id": "e5204fb0",
   "metadata": {},
   "outputs": [],
   "source": [
    "((df[\"Age\"]<18) & (df[\"Survived\"]==1)).sum()"
   ]
  },
  {
   "cell_type": "code",
   "execution_count": null,
   "id": "5a302b70",
   "metadata": {},
   "outputs": [],
   "source": [
    "df[(df[\"Age\"]<18) & (df[\"Survived\"]==1)] [\"Sex\"].value_counts()"
   ]
  },
  {
   "cell_type": "code",
   "execution_count": null,
   "id": "2761f598",
   "metadata": {},
   "outputs": [],
   "source": [
    "df[\"Sex\"]==\"female\""
   ]
  },
  {
   "cell_type": "code",
   "execution_count": null,
   "id": "fe914d83",
   "metadata": {},
   "outputs": [],
   "source": [
    "((df[\"Age\"]<18) & (df[\"Survived\"]==1) &(df[\"Sex\"]==\"male\"))"
   ]
  },
  {
   "cell_type": "code",
   "execution_count": null,
   "id": "819696ea",
   "metadata": {},
   "outputs": [],
   "source": [
    "((df[\"Age\"]>60) & (df[\"Survived\"]==1) &(df[\"Sex\"]==\"male\")).sum()"
   ]
  },
  {
   "cell_type": "code",
   "execution_count": null,
   "id": "29810c4f",
   "metadata": {},
   "outputs": [],
   "source": [
    "def con(a,s,gender):\n",
    "    return ((df[\"Age\"]>a) & (df[\"Survived\"]==s) &(df[\"Sex\"]==gender)).sum()"
   ]
  },
  {
   "cell_type": "code",
   "execution_count": null,
   "id": "8522a072",
   "metadata": {},
   "outputs": [],
   "source": [
    "con(60,0,\"male\")"
   ]
  },
  {
   "cell_type": "markdown",
   "id": "09701f51",
   "metadata": {},
   "source": [
    "### Create columns\n"
   ]
  },
  {
   "cell_type": "code",
   "execution_count": null,
   "id": "296aac08",
   "metadata": {},
   "outputs": [],
   "source": [
    "df[\"new col\"] =0\n",
    "df"
   ]
  },
  {
   "cell_type": "code",
   "execution_count": null,
   "id": "c5a896da",
   "metadata": {},
   "outputs": [],
   "source": [
    "def fare_type(fare):\n",
    "    if fare<10:\n",
    "        return \"low\"\n",
    "    elif fare>=10 and fare<=100:\n",
    "        return \"moderate\"\n",
    "    else:\n",
    "        return \"high\"\n",
    "\n",
    "fare_type(343)"
   ]
  },
  {
   "cell_type": "code",
   "execution_count": null,
   "id": "3be7b291",
   "metadata": {},
   "outputs": [],
   "source": [
    "df[\"Fare\"][2]"
   ]
  },
  {
   "cell_type": "code",
   "execution_count": null,
   "id": "b4201fa5",
   "metadata": {},
   "outputs": [],
   "source": [
    "fare_type(df[\"Fare\"][2])"
   ]
  },
  {
   "cell_type": "code",
   "execution_count": null,
   "id": "199183d2",
   "metadata": {},
   "outputs": [],
   "source": [
    "df.shape[0] # find the number of rows"
   ]
  },
  {
   "cell_type": "code",
   "execution_count": null,
   "id": "fe72cd09",
   "metadata": {},
   "outputs": [],
   "source": [
    "for i in range(889):\n",
    "    df[\"new col\"][i] =fare_type(df[\"Fare\"][i])\n",
    "\n",
    "df"
   ]
  },
  {
   "cell_type": "code",
   "execution_count": null,
   "id": "5474c6ab",
   "metadata": {},
   "outputs": [],
   "source": [
    "# use apply function to itrate row-wise and apply function\n",
    "df[\"fare_type\"] = df[\"Fare\"].apply(fare_type)\n",
    "df"
   ]
  },
  {
   "cell_type": "code",
   "execution_count": null,
   "id": "889fd5d4",
   "metadata": {},
   "outputs": [],
   "source": [
    "# **Concatenation** means **combining multiple DataFrames either vertically (row-wise)** or **horizontally (column-wise)**.\n",
    "\n",
    "df1 = pd.DataFrame({\n",
    "    'ID': [1, 2, 3],\n",
    "    'Name': ['Alice', 'Bob', 'Charlie'],\n",
    "    'Score': [85, 90, 95]\n",
    "})\n",
    "\n",
    "df2 = pd.DataFrame({\n",
    "    'ID': [2, 3, 4],\n",
    "    'Subject': ['Math', 'English', 'Science'],\n",
    "    'Grade': ['A', 'B', 'A']\n",
    "})\n",
    "print(\"\\ndf1:\")\n",
    "print(df1)\n",
    "print(\"\\ndf2:\")\n",
    "print(df2)"
   ]
  },
  {
   "cell_type": "code",
   "execution_count": null,
   "id": "8b3ef9bb",
   "metadata": {},
   "outputs": [],
   "source": []
  },
  {
   "cell_type": "code",
   "execution_count": null,
   "id": "9fbd33ee",
   "metadata": {},
   "outputs": [],
   "source": [
    "pd.concat([df1, df2], axis=0 )"
   ]
  },
  {
   "cell_type": "code",
   "execution_count": null,
   "id": "fd5dbbb1",
   "metadata": {},
   "outputs": [],
   "source": [
    "pd.concat([df1, df2], axis=1 )"
   ]
  },
  {
   "cell_type": "code",
   "execution_count": null,
   "id": "3e2eb4c4",
   "metadata": {},
   "outputs": [],
   "source": [
    "# JOin using merge function \n",
    "pd.merge(df1,df2,how=\"left\",on=\"ID\")"
   ]
  },
  {
   "cell_type": "code",
   "execution_count": null,
   "id": "4b6ea881",
   "metadata": {},
   "outputs": [],
   "source": [
    "pd.merge(df1,df2,how=\"cross\")"
   ]
  },
  {
   "cell_type": "code",
   "execution_count": null,
   "id": "30914ffe",
   "metadata": {},
   "outputs": [],
   "source": [
    "df1.join(df2,on=\"ID\",how=\"inner\",lsuffix='_caller', rsuffix='_other')"
   ]
  },
  {
   "cell_type": "code",
   "execution_count": null,
   "id": "3f9ffbc4",
   "metadata": {},
   "outputs": [],
   "source": [
    "# Definitions and Use Cases:\n",
    "# ------------------------------------------------------------\n",
    "# concat: Combines DataFrames either vertically (row-wise) or horizontally (column-wise).\n",
    "#   Use case: Combine data from multiple CSVs or append new data.\n",
    "\n",
    "# merge: Combines DataFrames based on common columns (similar to SQL joins).\n",
    "#   Use case: Merge customer info with transaction data.\n",
    "\n",
    "# join: Joins DataFrames using their index.\n",
    "#   Use case: Combine metadata indexed by unique IDs.\n",
    "\n",
    "# pivot: Reshapes data by turning unique values in a column into new columns.\n",
    "#   Use case: Create summary tables like Excel pivot tables.\n",
    "\n",
    "# melt (unpivot): Converts wide-format data into long-format.\n",
    "#   Use case: Prepare data for analysis/visualization by tidying it.\n",
    "# ------------------------------------------------------------"
   ]
  },
  {
   "cell_type": "code",
   "execution_count": null,
   "id": "993f5e25",
   "metadata": {},
   "outputs": [],
   "source": [
    "### --- Pivot Example --- ###\n",
    "pivot_data = pd.DataFrame({\n",
    "    'ID': [1, 1, 2, 2],\n",
    "    'Subject': ['Math', 'Science', 'Math', 'Science'],\n",
    "    'Score': [88, 92, 80, 85]\n",
    "})\n",
    "pivot_data\n"
   ]
  },
  {
   "cell_type": "code",
   "execution_count": null,
   "id": "10196b73",
   "metadata": {},
   "outputs": [],
   "source": [
    "pivot_table = pivot_data.pivot(index='ID', columns='Subject', values='Score')\n",
    "print(\"\\nPivot Table:\")\n",
    "print(pivot_table)\n"
   ]
  },
  {
   "cell_type": "code",
   "execution_count": null,
   "id": "3cea99a9",
   "metadata": {},
   "outputs": [],
   "source": [
    "### --- Melt (Unpivot) Example --- ###\n",
    "\n",
    "melted = pd.melt(pivot_table.reset_index(), id_vars=['ID'], value_vars=['Math', 'Science'], var_name='xcf', value_name='Score')\n",
    "print(\"\\nMelted Data:\")\n",
    "print(melted)"
   ]
  },
  {
   "cell_type": "code",
   "execution_count": null,
   "id": "9bf0908d",
   "metadata": {},
   "outputs": [],
   "source": [
    "pd.read"
   ]
  },
  {
   "cell_type": "markdown",
   "id": "3e12d87c",
   "metadata": {},
   "source": [
    "15/05/2025"
   ]
  },
  {
   "cell_type": "code",
   "execution_count": null,
   "id": "eac2cd56",
   "metadata": {},
   "outputs": [],
   "source": [
    "import pandas as pd \n",
    "df = pd.read_csv(\"clean_data.csv\")"
   ]
  },
  {
   "cell_type": "code",
   "execution_count": null,
   "id": "399c0f65",
   "metadata": {},
   "outputs": [],
   "source": [
    "# \n",
    "#Q. How many passengers are less than 5 years old\n",
    "\n",
    "#Q. How many passengers have paid less than avg fare\n",
    "\n",
    "#How many passengers paid 0 fare\n",
    "\n",
    "#Q how many passengers of class 1\n",
    "\n",
    "#How many passengers survived\n",
    "\n",
    "#How many females paid more than avg fare\n",
    "\n",
    "#Qhow many male passenger paid more than avg >>and"
   ]
  },
  {
   "cell_type": "code",
   "execution_count": null,
   "id": "df79ab66",
   "metadata": {},
   "outputs": [],
   "source": [
    "((df[\"Survived\"] ==1) & (df[\"Sex\"] ==\"male\") ).sum()"
   ]
  },
  {
   "cell_type": "markdown",
   "id": "7e592840",
   "metadata": {},
   "source": [
    "## DATABASE CONNECTIONS"
   ]
  },
  {
   "cell_type": "code",
   "execution_count": null,
   "id": "20a23565",
   "metadata": {},
   "outputs": [],
   "source": [
    "pip install mysql-connector-python"
   ]
  },
  {
   "cell_type": "code",
   "execution_count": null,
   "id": "20375341",
   "metadata": {},
   "outputs": [],
   "source": [
    "import mysql.connector"
   ]
  },
  {
   "cell_type": "code",
   "execution_count": null,
   "id": "09fa0383",
   "metadata": {},
   "outputs": [],
   "source": []
  },
  {
   "cell_type": "code",
   "execution_count": null,
   "id": "51dc8572",
   "metadata": {},
   "outputs": [],
   "source": [
    "# mysql connector\n",
    "import mysql.connector  \n",
    "#Create the connection object   \n",
    "myconn = mysql.connector.connect(host = \"127.0.0.1\", user = \"root\",passwd = \"Azsxdcf123@\" ,database = \"mavenmovies\")  \n",
    "#creating the cursor object  \n",
    "cur = myconn.cursor()   \n",
    "try:  \n",
    "    #Reading the Employee data      \n",
    "    cur.execute(\"select * from Payment\")  \n",
    "  \n",
    "    #fetching the rows from the cursor object  \n",
    "    result = cur.fetchall()  \n",
    "\n",
    "    #printing the result  \n",
    "    cur.execute(\"desc Payment\")  \n",
    "    col_name =cur.fetchall()\n",
    "\n",
    "    # for x in result:  \n",
    "    #     print(x);  \n",
    "except:  \n",
    "    myconn.rollback()  \n",
    "  \n",
    "myconn.close()"
   ]
  },
  {
   "cell_type": "code",
   "execution_count": null,
   "id": "5e5efc25",
   "metadata": {},
   "outputs": [],
   "source": [
    "type(result)"
   ]
  },
  {
   "cell_type": "code",
   "execution_count": 70,
   "id": "50fecbdd",
   "metadata": {},
   "outputs": [
    {
     "data": {
      "text/plain": [
       "[('payment_id', 'smallint unsigned', 'NO', 'PRI', None, 'auto_increment'),\n",
       " ('customer_id', 'smallint unsigned', 'NO', 'MUL', None, ''),\n",
       " ('staff_id', 'tinyint unsigned', 'NO', 'MUL', None, ''),\n",
       " ('rental_id', 'int', 'YES', 'MUL', None, ''),\n",
       " ('amount', 'decimal(5,2)', 'NO', '', None, ''),\n",
       " ('payment_date', 'datetime', 'NO', '', None, ''),\n",
       " ('last_update',\n",
       "  'timestamp',\n",
       "  'YES',\n",
       "  '',\n",
       "  'CURRENT_TIMESTAMP',\n",
       "  'DEFAULT_GENERATED on update CURRENT_TIMESTAMP')]"
      ]
     },
     "execution_count": 70,
     "metadata": {},
     "output_type": "execute_result"
    }
   ],
   "source": [
    "col_name"
   ]
  },
  {
   "cell_type": "code",
   "execution_count": null,
   "id": "c6205f32",
   "metadata": {},
   "outputs": [],
   "source": [
    "name =[]\n",
    "for  i in col_name:\n",
    "    print(i[0])\n",
    "    name.append(i[0])"
   ]
  },
  {
   "cell_type": "code",
   "execution_count": 72,
   "id": "5f468c9f",
   "metadata": {},
   "outputs": [
    {
     "data": {
      "text/plain": [
       "['payment_id',\n",
       " 'customer_id',\n",
       " 'staff_id',\n",
       " 'rental_id',\n",
       " 'amount',\n",
       " 'payment_date',\n",
       " 'last_update']"
      ]
     },
     "execution_count": 72,
     "metadata": {},
     "output_type": "execute_result"
    }
   ],
   "source": [
    "name"
   ]
  },
  {
   "cell_type": "code",
   "execution_count": null,
   "id": "10225d8d",
   "metadata": {},
   "outputs": [
    {
     "data": {
      "text/html": [
       "<div>\n",
       "<style scoped>\n",
       "    .dataframe tbody tr th:only-of-type {\n",
       "        vertical-align: middle;\n",
       "    }\n",
       "\n",
       "    .dataframe tbody tr th {\n",
       "        vertical-align: top;\n",
       "    }\n",
       "\n",
       "    .dataframe thead th {\n",
       "        text-align: right;\n",
       "    }\n",
       "</style>\n",
       "<table border=\"1\" class=\"dataframe\">\n",
       "  <thead>\n",
       "    <tr style=\"text-align: right;\">\n",
       "      <th></th>\n",
       "      <th>payment_id</th>\n",
       "      <th>customer_id</th>\n",
       "      <th>staff_id</th>\n",
       "      <th>rental_id</th>\n",
       "      <th>amount</th>\n",
       "      <th>payment_date</th>\n",
       "      <th>last_update</th>\n",
       "    </tr>\n",
       "  </thead>\n",
       "  <tbody>\n",
       "    <tr>\n",
       "      <th>0</th>\n",
       "      <td>1</td>\n",
       "      <td>1</td>\n",
       "      <td>1</td>\n",
       "      <td>76.0</td>\n",
       "      <td>2.99</td>\n",
       "      <td>2005-05-25 11:30:37</td>\n",
       "      <td>2006-02-15 22:12:30</td>\n",
       "    </tr>\n",
       "    <tr>\n",
       "      <th>1</th>\n",
       "      <td>2</td>\n",
       "      <td>1</td>\n",
       "      <td>1</td>\n",
       "      <td>573.0</td>\n",
       "      <td>0.99</td>\n",
       "      <td>2005-05-28 10:35:23</td>\n",
       "      <td>2006-02-15 22:12:30</td>\n",
       "    </tr>\n",
       "    <tr>\n",
       "      <th>2</th>\n",
       "      <td>3</td>\n",
       "      <td>1</td>\n",
       "      <td>1</td>\n",
       "      <td>1185.0</td>\n",
       "      <td>5.99</td>\n",
       "      <td>2005-06-15 00:54:12</td>\n",
       "      <td>2006-02-15 22:12:30</td>\n",
       "    </tr>\n",
       "    <tr>\n",
       "      <th>3</th>\n",
       "      <td>4</td>\n",
       "      <td>1</td>\n",
       "      <td>2</td>\n",
       "      <td>1422.0</td>\n",
       "      <td>0.99</td>\n",
       "      <td>2005-06-15 18:02:53</td>\n",
       "      <td>2006-02-15 22:12:30</td>\n",
       "    </tr>\n",
       "    <tr>\n",
       "      <th>4</th>\n",
       "      <td>5</td>\n",
       "      <td>1</td>\n",
       "      <td>2</td>\n",
       "      <td>1476.0</td>\n",
       "      <td>9.99</td>\n",
       "      <td>2005-06-15 21:08:46</td>\n",
       "      <td>2006-02-15 22:12:30</td>\n",
       "    </tr>\n",
       "    <tr>\n",
       "      <th>...</th>\n",
       "      <td>...</td>\n",
       "      <td>...</td>\n",
       "      <td>...</td>\n",
       "      <td>...</td>\n",
       "      <td>...</td>\n",
       "      <td>...</td>\n",
       "      <td>...</td>\n",
       "    </tr>\n",
       "    <tr>\n",
       "      <th>16044</th>\n",
       "      <td>16045</td>\n",
       "      <td>599</td>\n",
       "      <td>1</td>\n",
       "      <td>14599.0</td>\n",
       "      <td>4.99</td>\n",
       "      <td>2005-08-21 17:43:42</td>\n",
       "      <td>2006-02-15 22:24:12</td>\n",
       "    </tr>\n",
       "    <tr>\n",
       "      <th>16045</th>\n",
       "      <td>16046</td>\n",
       "      <td>599</td>\n",
       "      <td>1</td>\n",
       "      <td>14719.0</td>\n",
       "      <td>1.99</td>\n",
       "      <td>2005-08-21 21:41:57</td>\n",
       "      <td>2006-02-15 22:24:12</td>\n",
       "    </tr>\n",
       "    <tr>\n",
       "      <th>16046</th>\n",
       "      <td>16047</td>\n",
       "      <td>599</td>\n",
       "      <td>2</td>\n",
       "      <td>15590.0</td>\n",
       "      <td>8.99</td>\n",
       "      <td>2005-08-23 06:09:44</td>\n",
       "      <td>2006-02-15 22:24:12</td>\n",
       "    </tr>\n",
       "    <tr>\n",
       "      <th>16047</th>\n",
       "      <td>16048</td>\n",
       "      <td>599</td>\n",
       "      <td>2</td>\n",
       "      <td>15719.0</td>\n",
       "      <td>2.99</td>\n",
       "      <td>2005-08-23 11:08:46</td>\n",
       "      <td>2006-02-15 22:24:13</td>\n",
       "    </tr>\n",
       "    <tr>\n",
       "      <th>16048</th>\n",
       "      <td>16049</td>\n",
       "      <td>599</td>\n",
       "      <td>2</td>\n",
       "      <td>15725.0</td>\n",
       "      <td>2.99</td>\n",
       "      <td>2005-08-23 11:25:00</td>\n",
       "      <td>2006-02-15 22:24:13</td>\n",
       "    </tr>\n",
       "  </tbody>\n",
       "</table>\n",
       "<p>16049 rows × 7 columns</p>\n",
       "</div>"
      ],
      "text/plain": [
       "       payment_id  customer_id  staff_id  rental_id amount  \\\n",
       "0               1            1         1       76.0   2.99   \n",
       "1               2            1         1      573.0   0.99   \n",
       "2               3            1         1     1185.0   5.99   \n",
       "3               4            1         2     1422.0   0.99   \n",
       "4               5            1         2     1476.0   9.99   \n",
       "...           ...          ...       ...        ...    ...   \n",
       "16044       16045          599         1    14599.0   4.99   \n",
       "16045       16046          599         1    14719.0   1.99   \n",
       "16046       16047          599         2    15590.0   8.99   \n",
       "16047       16048          599         2    15719.0   2.99   \n",
       "16048       16049          599         2    15725.0   2.99   \n",
       "\n",
       "             payment_date         last_update  \n",
       "0     2005-05-25 11:30:37 2006-02-15 22:12:30  \n",
       "1     2005-05-28 10:35:23 2006-02-15 22:12:30  \n",
       "2     2005-06-15 00:54:12 2006-02-15 22:12:30  \n",
       "3     2005-06-15 18:02:53 2006-02-15 22:12:30  \n",
       "4     2005-06-15 21:08:46 2006-02-15 22:12:30  \n",
       "...                   ...                 ...  \n",
       "16044 2005-08-21 17:43:42 2006-02-15 22:24:12  \n",
       "16045 2005-08-21 21:41:57 2006-02-15 22:24:12  \n",
       "16046 2005-08-23 06:09:44 2006-02-15 22:24:12  \n",
       "16047 2005-08-23 11:08:46 2006-02-15 22:24:13  \n",
       "16048 2005-08-23 11:25:00 2006-02-15 22:24:13  \n",
       "\n",
       "[16049 rows x 7 columns]"
      ]
     },
     "execution_count": 71,
     "metadata": {},
     "output_type": "execute_result"
    }
   ],
   "source": [
    "pyt = pd.DataFrame(result ,columns=name)\n",
    "pyt"
   ]
  },
  {
   "cell_type": "code",
   "execution_count": null,
   "id": "abf8601c",
   "metadata": {},
   "outputs": [],
   "source": [
    "pyt.to_json(\"abc.json\", orient=\"records\")"
   ]
  },
  {
   "cell_type": "code",
   "execution_count": null,
   "id": "5fa9f4b8",
   "metadata": {},
   "outputs": [],
   "source": [
    "pyt[\"amount\"].sum()"
   ]
  },
  {
   "cell_type": "code",
   "execution_count": null,
   "id": "50f9b711",
   "metadata": {},
   "outputs": [],
   "source": [
    "(pyt[\"amount\"]>10).sum()"
   ]
  },
  {
   "cell_type": "code",
   "execution_count": null,
   "id": "b78eb7b3",
   "metadata": {},
   "outputs": [],
   "source": [
    "pyt[pyt[\"amount\"]>10][\"amount\"].sum()"
   ]
  },
  {
   "cell_type": "code",
   "execution_count": null,
   "id": "8296e958",
   "metadata": {},
   "outputs": [],
   "source": [
    "pd.read_json(\"abc.json\")"
   ]
  },
  {
   "cell_type": "code",
   "execution_count": null,
   "id": "d48a93ae",
   "metadata": {},
   "outputs": [],
   "source": []
  }
 ],
 "metadata": {
  "kernelspec": {
   "display_name": "aienv",
   "language": "python",
   "name": "python3"
  },
  "language_info": {
   "codemirror_mode": {
    "name": "ipython",
    "version": 3
   },
   "file_extension": ".py",
   "mimetype": "text/x-python",
   "name": "python",
   "nbconvert_exporter": "python",
   "pygments_lexer": "ipython3",
   "version": "3.12.9"
  }
 },
 "nbformat": 4,
 "nbformat_minor": 5
}
