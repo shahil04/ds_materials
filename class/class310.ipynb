{
 "cells": [
  {
   "cell_type": "code",
   "execution_count": null,
   "id": "92efb37b",
   "metadata": {},
   "outputs": [],
   "source": [
    "import numpy as np"
   ]
  },
  {
   "cell_type": "code",
   "execution_count": null,
   "id": "43e539c6",
   "metadata": {},
   "outputs": [],
   "source": [
    "arr = np.arange(1,13)\n",
    "arr"
   ]
  },
  {
   "cell_type": "code",
   "execution_count": null,
   "id": "f11cb299",
   "metadata": {},
   "outputs": [],
   "source": [
    "type(arr)"
   ]
  },
  {
   "cell_type": "code",
   "execution_count": null,
   "id": "e77eb4e4",
   "metadata": {},
   "outputs": [],
   "source": [
    "arr.dtype"
   ]
  },
  {
   "cell_type": "code",
   "execution_count": null,
   "id": "fc507423",
   "metadata": {},
   "outputs": [],
   "source": [
    "arr.ndim"
   ]
  },
  {
   "cell_type": "code",
   "execution_count": null,
   "id": "5b018575",
   "metadata": {},
   "outputs": [],
   "source": [
    "arr.shape"
   ]
  },
  {
   "cell_type": "code",
   "execution_count": null,
   "id": "c760fa38",
   "metadata": {},
   "outputs": [],
   "source": [
    "arr.size"
   ]
  },
  {
   "cell_type": "code",
   "execution_count": null,
   "id": "33ded807",
   "metadata": {},
   "outputs": [],
   "source": [
    "# data type change\n",
    "arr.astype(\"f\")"
   ]
  },
  {
   "cell_type": "code",
   "execution_count": null,
   "id": "60ebbe17",
   "metadata": {},
   "outputs": [],
   "source": [
    "arr = arr.astype(\"f\")"
   ]
  },
  {
   "cell_type": "code",
   "execution_count": null,
   "id": "e80a532c",
   "metadata": {},
   "outputs": [],
   "source": [
    "# indexing\n",
    "arr"
   ]
  },
  {
   "cell_type": "code",
   "execution_count": null,
   "id": "dc0efb12",
   "metadata": {},
   "outputs": [],
   "source": [
    "arr[4]"
   ]
  },
  {
   "cell_type": "code",
   "execution_count": null,
   "id": "56d16d23",
   "metadata": {},
   "outputs": [],
   "source": [
    "arr2d = np.array([[1,2,3],[4,5,6],[8,7,6]])\n",
    "arr2d"
   ]
  },
  {
   "cell_type": "code",
   "execution_count": null,
   "id": "e34c4831",
   "metadata": {},
   "outputs": [],
   "source": [
    "arr2d[1,1]"
   ]
  },
  {
   "cell_type": "code",
   "execution_count": null,
   "id": "5d9ca2c7",
   "metadata": {},
   "outputs": [],
   "source": [
    "arr2d[1,1:]"
   ]
  },
  {
   "cell_type": "code",
   "execution_count": null,
   "id": "2c6b110e",
   "metadata": {},
   "outputs": [],
   "source": [
    "# 3,6\n",
    "arr2d[:2 ,2]"
   ]
  },
  {
   "cell_type": "code",
   "execution_count": null,
   "id": "11ba4c74",
   "metadata": {},
   "outputs": [],
   "source": [
    "arr3d = np.array([ [ [1,2,3],[4,5,6] ] ,[ [8,7,6],[9,4,6] ] ])\n",
    "arr3d"
   ]
  },
  {
   "cell_type": "code",
   "execution_count": null,
   "id": "ebecc9c7",
   "metadata": {},
   "outputs": [],
   "source": [
    "# access value \n",
    "# 2,5\n",
    "arr3d[0,:, 1]\n",
    "# 5,6\n",
    "arr3d[0,1,1:]"
   ]
  },
  {
   "cell_type": "code",
   "execution_count": null,
   "id": "b96ac433",
   "metadata": {},
   "outputs": [],
   "source": [
    "arr4 = np.array([1, 2, 3, 4], ndmin=2,dtype=\"f\")\n",
    "arr4"
   ]
  },
  {
   "cell_type": "code",
   "execution_count": null,
   "id": "fcee19d1",
   "metadata": {},
   "outputs": [],
   "source": [
    "# Negative Indexing\n",
    "arr4[0,-2]"
   ]
  },
  {
   "cell_type": "code",
   "execution_count": null,
   "id": "301d3c02",
   "metadata": {},
   "outputs": [],
   "source": [
    "# Converting Data Type on Existing Arrays\n",
    "\n",
    "arr4 = arr4.astype(\"S\")"
   ]
  },
  {
   "cell_type": "markdown",
   "id": "ff8a4355",
   "metadata": {},
   "source": [
    "## NumPy Array Reshaping"
   ]
  },
  {
   "cell_type": "code",
   "execution_count": null,
   "id": "0b40f33e",
   "metadata": {},
   "outputs": [],
   "source": [
    "arr"
   ]
  },
  {
   "cell_type": "code",
   "execution_count": null,
   "id": "963a78c1",
   "metadata": {},
   "outputs": [],
   "source": [
    "arr5 = arr.reshape(3,4) # 2d convert"
   ]
  },
  {
   "cell_type": "code",
   "execution_count": null,
   "id": "bf28adc1",
   "metadata": {},
   "outputs": [],
   "source": [
    "arr5"
   ]
  },
  {
   "cell_type": "code",
   "execution_count": null,
   "id": "0f90729a",
   "metadata": {},
   "outputs": [],
   "source": [
    "# 1D to 3d\n",
    "arr6 = arr.reshape(2,2,3)\n",
    "arr6"
   ]
  },
  {
   "cell_type": "code",
   "execution_count": null,
   "id": "4f4398a2",
   "metadata": {},
   "outputs": [],
   "source": [
    "arr6.reshape(12)"
   ]
  },
  {
   "cell_type": "code",
   "execution_count": null,
   "id": "5c7db0a6",
   "metadata": {},
   "outputs": [],
   "source": [
    "# 3d to 2d\n",
    "arr6.reshape(4,3)"
   ]
  },
  {
   "cell_type": "code",
   "execution_count": null,
   "id": "9d3a9dbc",
   "metadata": {},
   "outputs": [],
   "source": [
    "# unknown dimension --> use -1 in place of unknown value of dimensions\n",
    "# -1\n",
    "arr6.reshape(2,-1)"
   ]
  },
  {
   "cell_type": "code",
   "execution_count": null,
   "id": "d5ab61e9",
   "metadata": {},
   "outputs": [],
   "source": [
    "arr6.reshape(2,-1,-1)"
   ]
  },
  {
   "cell_type": "code",
   "execution_count": null,
   "id": "dae84371",
   "metadata": {},
   "outputs": [],
   "source": [
    "arr6.reshape(2,-1,2)"
   ]
  },
  {
   "cell_type": "code",
   "execution_count": null,
   "id": "d61be353",
   "metadata": {},
   "outputs": [],
   "source": [
    "# Iterating Arrays\n",
    "for i in arr:\n",
    "    print(i)"
   ]
  },
  {
   "cell_type": "code",
   "execution_count": null,
   "id": "6f66afb1",
   "metadata": {},
   "outputs": [],
   "source": [
    "# Iterating Arrays\n",
    "for i in arr2d:\n",
    "    print(i)\n",
    "    for j in i:\n",
    "        print(j)"
   ]
  },
  {
   "cell_type": "code",
   "execution_count": null,
   "id": "53856046",
   "metadata": {},
   "outputs": [],
   "source": [
    "# Iterating Arrays\n",
    "for i in arr3d:\n",
    "    # print(i)\n",
    "    for j in i:\n",
    "        for k in j:\n",
    "            print(k)"
   ]
  },
  {
   "cell_type": "code",
   "execution_count": null,
   "id": "7394b832",
   "metadata": {},
   "outputs": [],
   "source": [
    "for i in np.nditer(arr3d):\n",
    "    print(i)"
   ]
  },
  {
   "cell_type": "code",
   "execution_count": null,
   "id": "6eb49eb8",
   "metadata": {},
   "outputs": [],
   "source": [
    "# Array operations\n",
    "# Element-wise \n",
    "arr1 = np.array([1, 23, 3])\n",
    "arr2 = np.array([4, 5, 6])\n",
    "arr1+arr2"
   ]
  },
  {
   "cell_type": "code",
   "execution_count": null,
   "id": "4c2fa019",
   "metadata": {},
   "outputs": [],
   "source": [
    "arr1-arr2"
   ]
  },
  {
   "cell_type": "code",
   "execution_count": null,
   "id": "287d4e15",
   "metadata": {},
   "outputs": [],
   "source": [
    "np.square(arr1)"
   ]
  },
  {
   "cell_type": "code",
   "execution_count": null,
   "id": "e3b33e02",
   "metadata": {},
   "outputs": [],
   "source": [
    "# Aggrigate functions\n",
    "# sum\n",
    "arr2d"
   ]
  },
  {
   "cell_type": "code",
   "execution_count": null,
   "id": "a249cf5c",
   "metadata": {},
   "outputs": [],
   "source": [
    "sum(arr2d)\n",
    "arr2d.sum()"
   ]
  },
  {
   "cell_type": "code",
   "execution_count": null,
   "id": "6ad1523b",
   "metadata": {},
   "outputs": [],
   "source": [
    "arr2d.sum(axis=0)"
   ]
  },
  {
   "cell_type": "code",
   "execution_count": null,
   "id": "fd05ae79",
   "metadata": {},
   "outputs": [],
   "source": [
    "arr2d.sum(axis=1)"
   ]
  },
  {
   "cell_type": "code",
   "execution_count": null,
   "id": "78c0cfa5",
   "metadata": {},
   "outputs": [],
   "source": [
    "arr3d"
   ]
  },
  {
   "cell_type": "code",
   "execution_count": null,
   "id": "b0b1e5c0",
   "metadata": {},
   "outputs": [],
   "source": [
    "arr3d.sum(axis=0)  # diffrent layer-wise"
   ]
  },
  {
   "cell_type": "code",
   "execution_count": null,
   "id": "bda6be5e",
   "metadata": {},
   "outputs": [],
   "source": [
    "arr3d.sum(axis=1)  # layer wise"
   ]
  },
  {
   "cell_type": "code",
   "execution_count": null,
   "id": "3c324f58",
   "metadata": {},
   "outputs": [],
   "source": [
    "arr3d.sum(axis=2)  # row wise"
   ]
  },
  {
   "cell_type": "code",
   "execution_count": null,
   "id": "471f2ff7",
   "metadata": {},
   "outputs": [],
   "source": [
    "arr1+arr2"
   ]
  },
  {
   "cell_type": "code",
   "execution_count": null,
   "id": "52e56272",
   "metadata": {},
   "outputs": [],
   "source": [
    "arr1"
   ]
  },
  {
   "cell_type": "code",
   "execution_count": null,
   "id": "01e14022",
   "metadata": {},
   "outputs": [],
   "source": [
    "arr3 =np.array([2,3,4,5])\n",
    "arr3"
   ]
  },
  {
   "cell_type": "code",
   "execution_count": null,
   "id": "f7b9242c",
   "metadata": {},
   "outputs": [],
   "source": [
    "arr1+arr3"
   ]
  },
  {
   "cell_type": "markdown",
   "id": "e5fb72d9",
   "metadata": {},
   "source": [
    "## broadcast "
   ]
  },
  {
   "cell_type": "code",
   "execution_count": null,
   "id": "86215742",
   "metadata": {},
   "outputs": [],
   "source": [
    "arr4 = arr3.reshape(4,1)\n",
    "arr4"
   ]
  },
  {
   "cell_type": "code",
   "execution_count": null,
   "id": "86e18dc5",
   "metadata": {},
   "outputs": [],
   "source": [
    "arr1+[3,4,3,4]"
   ]
  },
  {
   "cell_type": "code",
   "execution_count": null,
   "id": "f0ceb589",
   "metadata": {},
   "outputs": [],
   "source": [
    "arr1+arr4"
   ]
  },
  {
   "cell_type": "code",
   "execution_count": null,
   "id": "5f46f464",
   "metadata": {},
   "outputs": [],
   "source": [
    "arr6 =np.array([[1,2,3],[2,3,4],[5,6,7]])\n",
    "print(arr6)"
   ]
  },
  {
   "cell_type": "code",
   "execution_count": null,
   "id": "61044ab0",
   "metadata": {},
   "outputs": [],
   "source": [
    "arr7 = np.array([1,2,3])\n",
    "arr7"
   ]
  },
  {
   "cell_type": "code",
   "execution_count": null,
   "id": "aab846d0",
   "metadata": {},
   "outputs": [],
   "source": [
    "arr6+arr7"
   ]
  },
  {
   "cell_type": "code",
   "execution_count": null,
   "id": "b3bffaf0",
   "metadata": {},
   "outputs": [],
   "source": [
    "# https://jakevdp.github.io/PythonDataScienceHandbook/02.05-computation-on-arrays-broadcasting.html"
   ]
  },
  {
   "cell_type": "code",
   "execution_count": null,
   "id": "37532f87",
   "metadata": {},
   "outputs": [],
   "source": [
    "arr6 =np.array([[1,2,3],[2,3,4],[5,6,7],[8,7,6]])\n",
    "print(arr6)"
   ]
  },
  {
   "cell_type": "code",
   "execution_count": null,
   "id": "dfef2856",
   "metadata": {},
   "outputs": [],
   "source": [
    "arr6.shape"
   ]
  },
  {
   "cell_type": "code",
   "execution_count": null,
   "id": "0b0ff67b",
   "metadata": {},
   "outputs": [],
   "source": [
    "# avg \n",
    "arr6.mean()"
   ]
  },
  {
   "cell_type": "code",
   "execution_count": null,
   "id": "60cdd21e",
   "metadata": {},
   "outputs": [],
   "source": [
    "arr6.mean()"
   ]
  },
  {
   "cell_type": "markdown",
   "id": "d5ecb01e",
   "metadata": {},
   "source": [
    "For a 2-dimensional array, \n",
    "\n",
    "axis=0 refers to operations along the columns (vertically), \n",
    "\n",
    "while axis=1 refers to operations along the rows (horizontally).\n",
    "\n",
    "\n",
    "In NumPy, the axis parameter in functions like np.sum(), np.mean(), "
   ]
  },
  {
   "cell_type": "code",
   "execution_count": null,
   "id": "e16b144d",
   "metadata": {},
   "outputs": [],
   "source": [
    "arr6.mean(axis=0)  # column wise avg"
   ]
  },
  {
   "cell_type": "code",
   "execution_count": null,
   "id": "f2f1ec56",
   "metadata": {},
   "outputs": [],
   "source": [
    "arr6.mean(axis=1)  # # row wise avg"
   ]
  },
  {
   "cell_type": "code",
   "execution_count": null,
   "id": "982453ac",
   "metadata": {},
   "outputs": [],
   "source": [
    "# Convert N-Dimenstions array in 1D array\n",
    "arr6\n",
    "arr6.flatten()"
   ]
  },
  {
   "cell_type": "code",
   "execution_count": null,
   "id": "aac70e25",
   "metadata": {},
   "outputs": [],
   "source": [
    "arr6.reshape(-1)"
   ]
  },
  {
   "cell_type": "code",
   "execution_count": null,
   "id": "8bbcb6c6",
   "metadata": {},
   "outputs": [],
   "source": [
    "# change the dimensions\n",
    "arr6.T\n",
    "arr6.transpose()"
   ]
  },
  {
   "cell_type": "code",
   "execution_count": null,
   "id": "9078f751",
   "metadata": {},
   "outputs": [],
   "source": [
    "arr7 = np.array([[3],[5],[7]])\n",
    "arr7.shape"
   ]
  },
  {
   "cell_type": "code",
   "execution_count": null,
   "id": "0e8a90a1",
   "metadata": {},
   "outputs": [],
   "source": [
    "arr7.transpose().shape"
   ]
  },
  {
   "cell_type": "code",
   "execution_count": null,
   "id": "ea3dad8c",
   "metadata": {},
   "outputs": [],
   "source": [
    "# Concatenate use to append the data \n",
    "# but all array dimension must be same\n",
    "arr_concatenated = np.concatenate((arr, arr))\n",
    "arr_concatenated"
   ]
  },
  {
   "cell_type": "code",
   "execution_count": null,
   "id": "1944675b",
   "metadata": {},
   "outputs": [],
   "source": [
    "np.concatenate((arr6,arr6))"
   ]
  },
  {
   "cell_type": "code",
   "execution_count": null,
   "id": "5504bcaa",
   "metadata": {},
   "outputs": [],
   "source": [
    "# Examples\n",
    "a = np.array([[1, 2], [3, 4]])\n",
    "b = np.array([[5, 6]])\n",
    "np.concatenate((a, b), axis=0)\n",
    "\n",
    "# array([[1, 2],\n",
    "#        [3, 4],\n",
    "#        [5, 6]])"
   ]
  },
  {
   "cell_type": "code",
   "execution_count": null,
   "id": "210a333c",
   "metadata": {},
   "outputs": [],
   "source": [
    "np.concatenate((a, b.T), axis=1)\n",
    "# array([[1, 2, 5],\n",
    "#        [3, 4, 6]])"
   ]
  },
  {
   "cell_type": "code",
   "execution_count": null,
   "id": "13212ee9",
   "metadata": {},
   "outputs": [],
   "source": [
    "np.concatenate((a, b), axis=None)\n",
    "# array([1, 2, 3, 4, 5, 6])"
   ]
  },
  {
   "cell_type": "code",
   "execution_count": null,
   "id": "795565cb",
   "metadata": {},
   "outputs": [],
   "source": [
    "arr6.sort()\n",
    "arr6"
   ]
  },
  {
   "cell_type": "code",
   "execution_count": null,
   "id": "7f2c538d",
   "metadata": {},
   "outputs": [],
   "source": [
    "np.sort(arr6)"
   ]
  },
  {
   "cell_type": "code",
   "execution_count": null,
   "id": "4ea32b0c",
   "metadata": {},
   "outputs": [],
   "source": [
    "arr8 = np.random.random((3,5))\n",
    "arr8"
   ]
  },
  {
   "cell_type": "code",
   "execution_count": null,
   "id": "7c1a2e38",
   "metadata": {},
   "outputs": [],
   "source": [
    "np.sort(arr8,axis=0)"
   ]
  },
  {
   "cell_type": "code",
   "execution_count": 106,
   "id": "c75236a8",
   "metadata": {},
   "outputs": [
    {
     "data": {
      "text/plain": [
       "array([[0.18593099, 0.32115159, 0.74715292, 0.80936725, 0.90774588],\n",
       "       [0.34395063, 0.48531715, 0.56898797, 0.74681347, 0.81342352],\n",
       "       [0.16843441, 0.399975  , 0.61090116, 0.65577509, 0.90518321]])"
      ]
     },
     "execution_count": 106,
     "metadata": {},
     "output_type": "execute_result"
    }
   ],
   "source": [
    "np.sort(arr8,axis=1)"
   ]
  },
  {
   "cell_type": "code",
   "execution_count": null,
   "id": "64a6e91a",
   "metadata": {},
   "outputs": [],
   "source": [
    "arr8.sort()"
   ]
  },
  {
   "cell_type": "code",
   "execution_count": null,
   "id": "8b61175b",
   "metadata": {},
   "outputs": [],
   "source": [
    "arr8"
   ]
  },
  {
   "cell_type": "code",
   "execution_count": null,
   "id": "0c8e453b",
   "metadata": {},
   "outputs": [],
   "source": [
    "arr8.argsort()"
   ]
  },
  {
   "cell_type": "code",
   "execution_count": 94,
   "id": "fb88a95c",
   "metadata": {},
   "outputs": [
    {
     "name": "stdout",
     "output_type": "stream",
     "text": [
      "Sorted array: [1 3 4 2 0 6 7 5]\n"
     ]
    }
   ],
   "source": [
    "# Create an array\n",
    "arr = np.array([50, 10, 40, 20, 30,452,120,123])\n",
    "\n",
    "# 1. np.sort(): Sort an array in ascending order\n",
    "sorted_arr = np.argsort(arr)\n",
    "print(\"Sorted array:\", sorted_arr)\n",
    "# Output: [10 20 30 40 50]\n"
   ]
  },
  {
   "cell_type": "code",
   "execution_count": 98,
   "id": "179ae7d2",
   "metadata": {},
   "outputs": [
    {
     "data": {
      "text/plain": [
       "array([5], dtype=int64)"
      ]
     },
     "execution_count": 98,
     "metadata": {},
     "output_type": "execute_result"
    }
   ],
   "source": [
    "arr.searchsorted([100])"
   ]
  },
  {
   "cell_type": "code",
   "execution_count": 100,
   "id": "197b93cc",
   "metadata": {},
   "outputs": [
    {
     "data": {
      "text/plain": [
       "1"
      ]
     },
     "execution_count": 100,
     "metadata": {},
     "output_type": "execute_result"
    }
   ],
   "source": [
    "arr.argmax()\n",
    "arr.argmin()"
   ]
  },
  {
   "cell_type": "code",
   "execution_count": 112,
   "id": "43e9c2d5",
   "metadata": {},
   "outputs": [
    {
     "data": {
      "text/plain": [
       "array([ 50,  10,  40,  20,  30, 452, 120, 123])"
      ]
     },
     "execution_count": 112,
     "metadata": {},
     "output_type": "execute_result"
    }
   ],
   "source": [
    "# boolean indexing\n",
    "arr"
   ]
  },
  {
   "cell_type": "code",
   "execution_count": 114,
   "id": "1f2a7c8a",
   "metadata": {},
   "outputs": [
    {
     "data": {
      "text/plain": [
       "array([ True, False, False, False, False,  True,  True,  True])"
      ]
     },
     "execution_count": 114,
     "metadata": {},
     "output_type": "execute_result"
    }
   ],
   "source": [
    "arr >40"
   ]
  },
  {
   "cell_type": "code",
   "execution_count": 115,
   "id": "eec99534",
   "metadata": {},
   "outputs": [
    {
     "data": {
      "text/plain": [
       "array([ 50, 452, 120, 123])"
      ]
     },
     "execution_count": 115,
     "metadata": {},
     "output_type": "execute_result"
    }
   ],
   "source": [
    "arr[arr >40]"
   ]
  },
  {
   "cell_type": "code",
   "execution_count": 118,
   "id": "7a373cad",
   "metadata": {},
   "outputs": [
    {
     "data": {
      "text/plain": [
       "array([False, False, False, False, False, False, False, False])"
      ]
     },
     "execution_count": 118,
     "metadata": {},
     "output_type": "execute_result"
    }
   ],
   "source": [
    "np.isnan(arr)"
   ]
  },
  {
   "cell_type": "code",
   "execution_count": 123,
   "id": "271da97d",
   "metadata": {},
   "outputs": [
    {
     "ename": "ValueError",
     "evalue": "cannot convert float NaN to integer",
     "output_type": "error",
     "traceback": [
      "\u001b[31m---------------------------------------------------------------------------\u001b[39m",
      "\u001b[31mValueError\u001b[39m                                Traceback (most recent call last)",
      "\u001b[36mCell\u001b[39m\u001b[36m \u001b[39m\u001b[32mIn[123]\u001b[39m\u001b[32m, line 1\u001b[39m\n\u001b[32m----> \u001b[39m\u001b[32m1\u001b[39m \u001b[43marr\u001b[49m\u001b[43m[\u001b[49m\u001b[32;43m6\u001b[39;49m\u001b[43m]\u001b[49m= np.nan\n",
      "\u001b[31mValueError\u001b[39m: cannot convert float NaN to integer"
     ]
    }
   ],
   "source": [
    "arr[6]= np.nan"
   ]
  },
  {
   "cell_type": "code",
   "execution_count": 124,
   "id": "57e5f45a",
   "metadata": {},
   "outputs": [
    {
     "name": "stdout",
     "output_type": "stream",
     "text": [
      "[10. 20. nan 40. 50.]\n"
     ]
    }
   ],
   "source": [
    "import numpy as np\n",
    "\n",
    "# Predefined array\n",
    "arr = np.array([10, 20, 30, 40, 50], dtype=float)  # Must be float for np.nan\n",
    "\n",
    "# Add null (np.nan) at specific index (e.g., index 2)\n",
    "arr[2] = np.nan\n",
    "\n",
    "print(arr)\n"
   ]
  },
  {
   "cell_type": "code",
   "execution_count": 127,
   "id": "745f66de",
   "metadata": {},
   "outputs": [
    {
     "data": {
      "text/plain": [
       "1"
      ]
     },
     "execution_count": 127,
     "metadata": {},
     "output_type": "execute_result"
    }
   ],
   "source": [
    "np.isnan(arr).sum()"
   ]
  },
  {
   "cell_type": "code",
   "execution_count": null,
   "id": "91ee6275",
   "metadata": {},
   "outputs": [],
   "source": [
    "# 2x+3y+z=1\n",
    "# 4x+y+2z=2\n",
    "# 3x+2y+3z=3"
   ]
  },
  {
   "cell_type": "code",
   "execution_count": null,
   "id": "fc9e998a",
   "metadata": {},
   "outputs": [],
   "source": [
    "# Coefficient matrix A\n",
    "A = np.array([[2, 3, 1],\n",
    "              [4, 1, 2],\n",
    "              [3, 2, 3]])"
   ]
  },
  {
   "cell_type": "code",
   "execution_count": null,
   "id": "e36e804c",
   "metadata": {},
   "outputs": [],
   "source": [
    "\n",
    "# Right-hand side vector b\n",
    "b = np.array([1, 2, 3])"
   ]
  },
  {
   "cell_type": "code",
   "execution_count": null,
   "id": "a9083a1a",
   "metadata": {},
   "outputs": [],
   "source": [
    "# Solve the system of equations\n",
    "solution = np.linalg.solve(A, b)"
   ]
  }
 ],
 "metadata": {
  "kernelspec": {
   "display_name": "aienv",
   "language": "python",
   "name": "python3"
  },
  "language_info": {
   "codemirror_mode": {
    "name": "ipython",
    "version": 3
   },
   "file_extension": ".py",
   "mimetype": "text/x-python",
   "name": "python",
   "nbconvert_exporter": "python",
   "pygments_lexer": "ipython3",
   "version": "3.12.9"
  }
 },
 "nbformat": 4,
 "nbformat_minor": 5
}
