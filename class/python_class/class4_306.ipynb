{
 "cells": [
  {
   "cell_type": "code",
   "execution_count": null,
   "id": "71feddc3",
   "metadata": {},
   "outputs": [],
   "source": [
    "# check the number is prime or not \n",
    "num = 5 ## prime\n",
    "count =0\n",
    "# divided by 1 or itself\n",
    "for i in range(1, num+1):\n",
    "    if num % i == 0:\n",
    "        print(\"divide by \",i, \" reminder \",num%i)\n",
    "        count +=1\n",
    "\n",
    "if count==2:\n",
    "    print(num,\"is a prime number\")\n",
    "else:\n",
    "    print(num,\" is not prime number\")  ## not prime"
   ]
  },
  {
   "cell_type": "code",
   "execution_count": 38,
   "id": "e8962365",
   "metadata": {},
   "outputs": [],
   "source": [
    "#  create a prime number check function\n",
    "def check_prime(num):\n",
    "    # check the number is prime or not \n",
    "    count =0\n",
    "    # divided by 1 or itself\n",
    "    for i in range(1, num+1):\n",
    "        if num % i == 0:\n",
    "            # print(\"divide by \",i, \" reminder \",num%i)\n",
    "            count +=1\n",
    "\n",
    "    if count==2:\n",
    "        print(num,\"is a prime number\")\n",
    "    else:\n",
    "        print(num,\" is not prime number\")  ## not prime"
   ]
  },
  {
   "cell_type": "code",
   "execution_count": null,
   "id": "948f623f",
   "metadata": {},
   "outputs": [
    {
     "name": "stdout",
     "output_type": "stream",
     "text": [
      "divide by  1  reminder  0\n",
      "divide by  13  reminder  0\n",
      "13 is a prime number\n"
     ]
    }
   ],
   "source": [
    "# call any function using function name and arguments\n",
    "check_prime(13)"
   ]
  },
  {
   "cell_type": "code",
   "execution_count": 34,
   "id": "4341b38a",
   "metadata": {},
   "outputs": [],
   "source": [
    "# write a function to add 2 number\n",
    "def sum(n1, n2):\n",
    "    print(n1+n2)"
   ]
  },
  {
   "cell_type": "code",
   "execution_count": 36,
   "id": "fa5dbed7",
   "metadata": {},
   "outputs": [
    {
     "name": "stdout",
     "output_type": "stream",
     "text": [
      "3779\n"
     ]
    }
   ],
   "source": [
    "# direct enter the value\n",
    "sum(345,3434)"
   ]
  },
  {
   "cell_type": "code",
   "execution_count": 35,
   "id": "b911be94",
   "metadata": {},
   "outputs": [
    {
     "name": "stdout",
     "output_type": "stream",
     "text": [
      "1221\n"
     ]
    }
   ],
   "source": [
    "\n",
    "a = int(input(\"enter your 1st number:\"))\n",
    "b= int(input(\"enter your 2nd number:\"))\n",
    "\n",
    "sum(a,b)"
   ]
  },
  {
   "cell_type": "code",
   "execution_count": 39,
   "id": "5b5dc21b",
   "metadata": {},
   "outputs": [
    {
     "name": "stdout",
     "output_type": "stream",
     "text": [
      "15  is not prime number\n",
      "16  is not prime number\n",
      "17 is a prime number\n"
     ]
    }
   ],
   "source": [
    "# check the prime of 15,16,17\n",
    "check_prime(15)\n",
    "check_prime(16)\n",
    "check_prime(17)\n"
   ]
  },
  {
   "cell_type": "code",
   "execution_count": 47,
   "id": "8a4cd762",
   "metadata": {},
   "outputs": [
    {
     "name": "stdout",
     "output_type": "stream",
     "text": [
      "10  is not prime number\n"
     ]
    }
   ],
   "source": [
    "num=10\n",
    "# check the number is prime or not \n",
    "count =0\n",
    "# divided by 1 or itself\n",
    "for i in range(1, num+1):\n",
    "    if num % i == 0:\n",
    "        # print(\"divide by \",i, \" reminder \",num%i)\n",
    "        count +=1\n",
    "\n",
    "if count==2:\n",
    "    print(num,\"is a prime number\")\n",
    "else:\n",
    "    print(num,\" is not prime number\")  ## not prime"
   ]
  },
  {
   "cell_type": "code",
   "execution_count": null,
   "id": "74e3e518",
   "metadata": {},
   "outputs": [
    {
     "name": "stdout",
     "output_type": "stream",
     "text": [
      "\n",
      "2 is a prime number\n",
      "\n",
      "3 is a prime number\n",
      "\n",
      "4  is not prime number\n",
      "\n",
      "5 is a prime number\n",
      "\n",
      "6  is not prime number\n",
      "\n",
      "7 is a prime number\n",
      "\n",
      "8  is not prime number\n",
      "\n",
      "9  is not prime number\n",
      "\n",
      "10  is not prime number\n"
     ]
    }
   ],
   "source": [
    "for j in range(2,11):\n",
    "    num =j\n",
    "    print()\n",
    "    count =0\n",
    "    # divided by 1 or itself\n",
    "    for i in range(1, num+1):\n",
    "        if num % i == 0:\n",
    "            # print(\"divide by \",i, \" reminder \",num%i)\n",
    "            count +=1\n",
    "\n",
    "    if count==2:\n",
    "        print(num,\"is a prime number\")\n",
    "    else:\n",
    "        print(num,\" is not prime number\")  ## not prime"
   ]
  },
  {
   "cell_type": "code",
   "execution_count": 54,
   "id": "f55c92d2",
   "metadata": {},
   "outputs": [
    {
     "name": "stdout",
     "output_type": "stream",
     "text": [
      "*\n"
     ]
    }
   ],
   "source": [
    "# print the pattern\n",
    "# *\n",
    "# **\n",
    "# ***\n",
    "# ****\n",
    "# *****\n",
    "\n",
    "print(\"*\")"
   ]
  },
  {
   "cell_type": "code",
   "execution_count": 57,
   "id": "2fcc66c4",
   "metadata": {},
   "outputs": [
    {
     "data": {
      "text/plain": [
       "'aaaaa'"
      ]
     },
     "execution_count": 57,
     "metadata": {},
     "output_type": "execute_result"
    }
   ],
   "source": [
    "\"a\"*5"
   ]
  },
  {
   "cell_type": "code",
   "execution_count": 60,
   "id": "9f4a12f9",
   "metadata": {},
   "outputs": [
    {
     "name": "stdout",
     "output_type": "stream",
     "text": [
      "*\n",
      "**\n",
      "***\n",
      "****\n",
      "*****\n"
     ]
    }
   ],
   "source": [
    "n =5\n",
    "for i in range(1,n+1):\n",
    "    print(\"*\"*i)"
   ]
  },
  {
   "cell_type": "code",
   "execution_count": 68,
   "id": "ef9492dc",
   "metadata": {},
   "outputs": [
    {
     "name": "stdout",
     "output_type": "stream",
     "text": [
      "*\n",
      "**\n",
      "***\n",
      "****\n",
      "*****\n"
     ]
    }
   ],
   "source": [
    "for row in range(1,n+1):\n",
    "    for col in range(1,row+1):\n",
    "        print(\"*\",end=\"\")\n",
    "    print()"
   ]
  },
  {
   "cell_type": "code",
   "execution_count": null,
   "id": "7728dac4",
   "metadata": {},
   "outputs": [],
   "source": [
    "def star_print(n):\n",
    "    for row in range(1,n+1):\n",
    "        print(\" \"*(n-row),end=\"\")\n",
    "        for col in range(1,row+1):\n",
    "            print(\"*\",end=\"\")\n",
    "        print()"
   ]
  },
  {
   "cell_type": "code",
   "execution_count": 86,
   "id": "922a37a8",
   "metadata": {},
   "outputs": [
    {
     "name": "stdout",
     "output_type": "stream",
     "text": [
      "    *\n",
      "   **\n",
      "  ***\n",
      " ****\n",
      "*****\n"
     ]
    }
   ],
   "source": [
    "star_print(5)"
   ]
  },
  {
   "cell_type": "code",
   "execution_count": 103,
   "id": "b8d54999",
   "metadata": {},
   "outputs": [
    {
     "name": "stdout",
     "output_type": "stream",
     "text": [
      "a\n",
      "ab\n",
      "abc\n",
      "abcd\n",
      "abcde\n"
     ]
    }
   ],
   "source": [
    "for row in range(1,n+1):\n",
    "    for col in range(1,row+1):\n",
    "        print(chr(97+col-1),end=\"\")\n",
    "    print()"
   ]
  },
  {
   "cell_type": "code",
   "execution_count": null,
   "id": "096d5816",
   "metadata": {},
   "outputs": [],
   "source": []
  }
 ],
 "metadata": {
  "kernelspec": {
   "display_name": "aienv",
   "language": "python",
   "name": "python3"
  },
  "language_info": {
   "codemirror_mode": {
    "name": "ipython",
    "version": 3
   },
   "file_extension": ".py",
   "mimetype": "text/x-python",
   "name": "python",
   "nbconvert_exporter": "python",
   "pygments_lexer": "ipython3",
   "version": "3.12.9"
  }
 },
 "nbformat": 4,
 "nbformat_minor": 5
}
