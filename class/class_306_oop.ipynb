{
 "cells": [
  {
   "cell_type": "code",
   "execution_count": null,
   "id": "4c4e1fdc",
   "metadata": {},
   "outputs": [],
   "source": [
    "# syntax of create class\n",
    "class classname:\n",
    "    pass\n",
    "    # logic"
   ]
  },
  {
   "cell_type": "code",
   "execution_count": 1,
   "id": "e403d05b",
   "metadata": {},
   "outputs": [],
   "source": [
    "a= 5"
   ]
  },
  {
   "cell_type": "code",
   "execution_count": null,
   "id": "021d8c6e",
   "metadata": {},
   "outputs": [],
   "source": [
    "type(a)"
   ]
  },
  {
   "cell_type": "code",
   "execution_count": null,
   "id": "2bca969b",
   "metadata": {},
   "outputs": [],
   "source": [
    "print(type(a))"
   ]
  },
  {
   "cell_type": "code",
   "execution_count": null,
   "id": "2426d5b7",
   "metadata": {},
   "outputs": [],
   "source": [
    "int(6.7)"
   ]
  },
  {
   "cell_type": "code",
   "execution_count": null,
   "id": "b225e3bb",
   "metadata": {},
   "outputs": [],
   "source": [
    "class Vehicle:\n",
    "    name =\"\"\n",
    "    year = None"
   ]
  },
  {
   "cell_type": "code",
   "execution_count": null,
   "id": "34e71f6d",
   "metadata": {},
   "outputs": [],
   "source": [
    "obj1 =Vehicle()"
   ]
  },
  {
   "cell_type": "code",
   "execution_count": null,
   "id": "155043fd",
   "metadata": {},
   "outputs": [],
   "source": [
    "obj1.name =\"bmw\""
   ]
  },
  {
   "cell_type": "code",
   "execution_count": null,
   "id": "26e05d61",
   "metadata": {},
   "outputs": [],
   "source": [
    "obj1.name"
   ]
  },
  {
   "cell_type": "code",
   "execution_count": null,
   "id": "0fc25c3f",
   "metadata": {},
   "outputs": [],
   "source": [
    "obj2 = Vehicle()"
   ]
  },
  {
   "cell_type": "code",
   "execution_count": null,
   "id": "059687b3",
   "metadata": {},
   "outputs": [],
   "source": [
    "obj2.name =\"audi\"\n",
    "obj2.name "
   ]
  },
  {
   "cell_type": "markdown",
   "id": "c9dd9091",
   "metadata": {},
   "source": [
    "Class is a blue print for an object, it defines the properties and methods of the object.\n",
    "\n",
    "An object is any entity that has attributes and behaviors. For example, a parrot is an object. It has\n",
    "\n",
    "attributes - name, age, color, etc.\n",
    "\n",
    "behavior/functions/method - dancing, singing, etc."
   ]
  },
  {
   "cell_type": "markdown",
   "id": "249e7ad9",
   "metadata": {},
   "source": [
    "* **Topics:**\n",
    "\n",
    "  * `class` keyword\n",
    "  * `__init__` constructor\n",
    "  * Creating objects\n",
    "  * Instance variables vs class variables\n",
    "  * The `self` keyword"
   ]
  },
  {
   "cell_type": "code",
   "execution_count": null,
   "id": "6b5f5af3",
   "metadata": {},
   "outputs": [],
   "source": [
    "class Human:  \n",
    "    name = \"\"\n",
    "    age =None\n",
    "    gender =\"\"\n",
    "\n",
    "    def speak(self):\n",
    "        print(\"Hello, I am a human.\", self.name)\n",
    "    def eat(self):\n",
    "        print(\"I am eating\")"
   ]
  },
  {
   "cell_type": "code",
   "execution_count": null,
   "id": "158ed19b",
   "metadata": {},
   "outputs": [],
   "source": [
    "h1 = Human()"
   ]
  },
  {
   "cell_type": "code",
   "execution_count": null,
   "id": "22a200f9",
   "metadata": {},
   "outputs": [],
   "source": [
    "h1.name =\"raj\"\n",
    "h1.gender=\"M\"\n",
    "h1.age=25\n"
   ]
  },
  {
   "cell_type": "code",
   "execution_count": null,
   "id": "9885643f",
   "metadata": {},
   "outputs": [],
   "source": [
    "print(h1.name )\n",
    "print(h1.gender)\n",
    "h1.age\n"
   ]
  },
  {
   "cell_type": "code",
   "execution_count": null,
   "id": "c11207a8",
   "metadata": {},
   "outputs": [],
   "source": [
    "h1.speak()\n",
    "h1.eat()"
   ]
  },
  {
   "cell_type": "code",
   "execution_count": null,
   "id": "72aa8c8b",
   "metadata": {},
   "outputs": [],
   "source": [
    "h2 = Human()\n",
    "h2.name =\"deepa\"\n",
    "h2.gender=\"F\"\n",
    "h2.age=25\n"
   ]
  },
  {
   "cell_type": "code",
   "execution_count": null,
   "id": "6c66f80a",
   "metadata": {},
   "outputs": [],
   "source": [
    "print(h2.name )\n",
    "print(h2.gender)\n",
    "h2.age"
   ]
  },
  {
   "cell_type": "code",
   "execution_count": null,
   "id": "493748d8",
   "metadata": {},
   "outputs": [],
   "source": [
    "h2.speak()"
   ]
  },
  {
   "cell_type": "code",
   "execution_count": null,
   "id": "4747829b",
   "metadata": {},
   "outputs": [],
   "source": [
    "Human.name =\"xy\""
   ]
  },
  {
   "cell_type": "code",
   "execution_count": null,
   "id": "55b1188c",
   "metadata": {},
   "outputs": [],
   "source": [
    "Human.name"
   ]
  },
  {
   "cell_type": "code",
   "execution_count": null,
   "id": "6a0c1492",
   "metadata": {},
   "outputs": [],
   "source": [
    "class Human: \n",
    "    # class variable \n",
    "    location = \"Earth\"\n",
    "    # create a constructor using init method\n",
    "    def __init__(self,name, age,gender):\n",
    "        print(\"it is constructor\")\n",
    "        # instace variable/ object variable\n",
    "        self.name = name\n",
    "        self.age = age\n",
    "        self.gender = gender\n",
    "\n",
    "    def speak(self):\n",
    "        print(\"Hello, I am a human.\", self.name)\n",
    "\n",
    "    def eat(self):\n",
    "        print(\"I am eating\")\n",
    "    \n",
    "    def deatils(self):\n",
    "        print(\"name:\",self.name,\"age:\",self.age,\"gender:\",self.gender)\n",
    "    # distructor \n",
    "    def __del__(self):\n",
    "        print(f\"Employee {self.name} deleted.\")\n"
   ]
  },
  {
   "cell_type": "code",
   "execution_count": null,
   "id": "614370ce",
   "metadata": {},
   "outputs": [],
   "source": [
    "h2 = Human(\"raj\",23,\"m\")\n"
   ]
  },
  {
   "cell_type": "code",
   "execution_count": null,
   "id": "d980ab45",
   "metadata": {},
   "outputs": [],
   "source": [
    "h2.deatils()"
   ]
  },
  {
   "cell_type": "code",
   "execution_count": null,
   "id": "498c6fad",
   "metadata": {},
   "outputs": [],
   "source": [
    "h2.location"
   ]
  },
  {
   "cell_type": "code",
   "execution_count": null,
   "id": "4c6b9458",
   "metadata": {},
   "outputs": [],
   "source": [
    "h3 = Human(\"deepa\",21, \"female\")\n",
    "h3.deatils()\n",
    "h3.location"
   ]
  },
  {
   "cell_type": "code",
   "execution_count": null,
   "id": "d6ff26e5",
   "metadata": {},
   "outputs": [],
   "source": [
    "# change the class variable for all instances \n",
    "Human.location =\"Mars\""
   ]
  },
  {
   "cell_type": "code",
   "execution_count": null,
   "id": "e34d1fb1",
   "metadata": {},
   "outputs": [],
   "source": [
    "h3.location"
   ]
  },
  {
   "cell_type": "code",
   "execution_count": null,
   "id": "5c20068e",
   "metadata": {},
   "outputs": [],
   "source": [
    "del h3"
   ]
  },
  {
   "cell_type": "code",
   "execution_count": null,
   "id": "26cef546",
   "metadata": {},
   "outputs": [],
   "source": [
    "h3"
   ]
  },
  {
   "cell_type": "code",
   "execution_count": null,
   "id": "a4539218",
   "metadata": {},
   "outputs": [],
   "source": [
    "# 4 pillar of oop\n",
    "# 1. inheritace \n",
    "# 2. encapsulation\n",
    "# 3. polymorphism\n",
    "# 4. abstraction"
   ]
  },
  {
   "cell_type": "markdown",
   "id": "04738e2b",
   "metadata": {},
   "source": [
    "### Inheritace"
   ]
  },
  {
   "cell_type": "markdown",
   "id": "586b228d",
   "metadata": {},
   "source": []
  },
  {
   "cell_type": "code",
   "execution_count": null,
   "id": "bccea0a7",
   "metadata": {},
   "outputs": [],
   "source": [
    "class Human: \n",
    "    # class variable \n",
    "    location = \"Earth\"\n",
    "    # create a constructor using init method\n",
    "    def __init__(self,name, age,gender):\n",
    "        print(\"it is constructor\")\n",
    "        # instace variable/ object variable\n",
    "        self.name = name\n",
    "        self.age = age\n",
    "        self.gender = gender\n",
    "\n",
    "    def speak(self):\n",
    "        print(\"Hello, I am a human.\", self.name)\n",
    "\n",
    "    def eat(self):\n",
    "        print(\"I am eating\")\n",
    "    \n",
    "    def deatils(self):\n",
    "        print(\"name:\",self.name,\"age:\",self.age,\"gender:\",self.gender)\n",
    "  "
   ]
  },
  {
   "cell_type": "code",
   "execution_count": null,
   "id": "a1ed6064",
   "metadata": {},
   "outputs": [],
   "source": [
    "# without inherit\n",
    "class Student_without_Inherit:\n",
    "        # class variable \n",
    "    location = \"Earth\"\n",
    "    # create a constructor using init method\n",
    "    def __init__(self,name, age,gender, id,std):\n",
    "        \n",
    "        # instace variable/ object variable\n",
    "        self.name = name\n",
    "        self.age = age\n",
    "        self.gender = gender\n",
    "        self.id =id\n",
    "        self.std = std\n",
    "\n",
    "    def speak(self):\n",
    "        print(\"Hello, I am a Student.\", self.name)\n",
    "\n",
    "    def eat(self):\n",
    "        print(\"I am eating\")\n",
    "    \n",
    "    def deatils(self):\n",
    "        print(\"name:\",self.name,\"age:\",self.age,\"gender:\",self.gender, \"id:\",self.id,\"std:\",self.std)"
   ]
  },
  {
   "cell_type": "code",
   "execution_count": null,
   "id": "b6a0fdc8",
   "metadata": {},
   "outputs": [],
   "source": [
    "s1 =Student_without_Inherit(\"raju\",12,\"m\",1,10)\n",
    "s1.deatils()"
   ]
  },
  {
   "cell_type": "code",
   "execution_count": null,
   "id": "afb38ca8",
   "metadata": {},
   "outputs": [],
   "source": [
    "# inheridance\n",
    "class Student(Human):\n",
    "    def __init__(self,name, age,gender, id, std):\n",
    "        # use super () to call the parent class's constructor and initialize the attributes-->name,age,gender\n",
    "        super().__init__(name,age,gender)\n",
    "        self.id = id\n",
    "        self.std = std\n",
    "\n",
    "    # define new method for student\n",
    "    def student_id_std(self):\n",
    "        return f\"Student ID: {self.id}, Student Standard: {self.std}\"\n",
    "    \n",
    "    # override the details method of parent class\n",
    "    def deatils(self):\n",
    "        return f\"Name: {self.name}, Age: {self.age}, Gender: {self.gender}, ID: {self.id}, Student Std: {self.std}\""
   ]
  },
  {
   "cell_type": "code",
   "execution_count": null,
   "id": "6fbf129b",
   "metadata": {},
   "outputs": [],
   "source": [
    "s2 = Student(\"raj\",13,\"m\",1,12)"
   ]
  },
  {
   "cell_type": "code",
   "execution_count": null,
   "id": "f3153935",
   "metadata": {},
   "outputs": [],
   "source": [
    "# call parent class 's method\n",
    "s2.speak()\n",
    "# call overide method \n",
    "s2.deatils()\n"
   ]
  },
  {
   "cell_type": "code",
   "execution_count": null,
   "id": "5b375ec0",
   "metadata": {},
   "outputs": [],
   "source": [
    "# call child class method\n",
    "s2.student_id_std()"
   ]
  },
  {
   "cell_type": "code",
   "execution_count": 182,
   "id": "f2dbcc3d",
   "metadata": {},
   "outputs": [
    {
     "name": "stderr",
     "output_type": "stream",
     "text": [
      "Exception ignored in: <function Human.__del__ at 0x000002199830E480>\n",
      "Traceback (most recent call last):\n",
      "  File \"C:\\Users\\hp\\AppData\\Local\\Temp\\ipykernel_12296\\1717350669.py\", line 22, in __del__\n",
      "AttributeError: 'Student' object has no attribute 'name'\n"
     ]
    },
    {
     "ename": "TypeError",
     "evalue": "Cannot create a consistent method resolution\norder (MRO) for bases Human, Student",
     "output_type": "error",
     "traceback": [
      "\u001b[31m---------------------------------------------------------------------------\u001b[39m",
      "\u001b[31mTypeError\u001b[39m                                 Traceback (most recent call last)",
      "\u001b[36mCell\u001b[39m\u001b[36m \u001b[39m\u001b[32mIn[182]\u001b[39m\u001b[32m, line 2\u001b[39m\n\u001b[32m      1\u001b[39m \u001b[38;5;66;03m# multiple inheritance -->only for example syntax\u001b[39;00m\n\u001b[32m----> \u001b[39m\u001b[32m2\u001b[39m \u001b[38;5;28;43;01mclass\u001b[39;49;00m\u001b[38;5;250;43m \u001b[39;49m\u001b[34;43;01mEmployee\u001b[39;49;00m\u001b[43m(\u001b[49m\u001b[43mHuman\u001b[49m\u001b[43m,\u001b[49m\u001b[43m \u001b[49m\u001b[43mStudent\u001b[49m\u001b[43m)\u001b[49m\u001b[43m:\u001b[49m\n\u001b[32m      3\u001b[39m \u001b[43m    \u001b[49m\u001b[38;5;28;43;01mdef\u001b[39;49;00m\u001b[38;5;250;43m \u001b[39;49m\u001b[34;43m__init__\u001b[39;49m\u001b[43m(\u001b[49m\u001b[38;5;28;43mself\u001b[39;49m\u001b[43m,\u001b[49m\u001b[43mname\u001b[49m\u001b[43m,\u001b[49m\u001b[43m \u001b[49m\u001b[43mage\u001b[49m\u001b[43m \u001b[49m\u001b[43m,\u001b[49m\u001b[43m \u001b[49m\u001b[43mgender\u001b[49m\u001b[43m,\u001b[49m\u001b[43m \u001b[49m\u001b[38;5;28;43mid\u001b[39;49m\u001b[43m,\u001b[49m\u001b[43m \u001b[49m\u001b[43mstd\u001b[49m\u001b[43m,\u001b[49m\u001b[43m \u001b[49m\u001b[43memployee_id\u001b[49m\u001b[43m \u001b[49m\u001b[43m)\u001b[49m\u001b[43m:\u001b[49m\n\u001b[32m      4\u001b[39m \u001b[43m        \u001b[49m\u001b[38;5;28;43msuper\u001b[39;49m\u001b[43m(\u001b[49m\u001b[43m)\u001b[49m\u001b[43m.\u001b[49m\u001b[34;43m__init__\u001b[39;49m\u001b[43m(\u001b[49m\u001b[43mname\u001b[49m\u001b[43m,\u001b[49m\u001b[43m \u001b[49m\u001b[43mage\u001b[49m\u001b[43m,\u001b[49m\u001b[43mgender\u001b[49m\u001b[43m,\u001b[49m\u001b[43m \u001b[49m\u001b[38;5;28;43mid\u001b[39;49m\u001b[43m,\u001b[49m\u001b[43m \u001b[49m\u001b[43mstd\u001b[49m\u001b[43m)\u001b[49m\n",
      "\u001b[31mTypeError\u001b[39m: Cannot create a consistent method resolution\norder (MRO) for bases Human, Student"
     ]
    }
   ],
   "source": [
    "# multiple inheritance -->only for example syntax\n",
    "class Employee(Human, Student):\n",
    "    def __init__(self,name, age , gender, id, std, employee_id ):\n",
    "        super().__init__(name, age,gender, id, std)\n",
    "        self.employee_id = employee_id"
   ]
  },
  {
   "cell_type": "code",
   "execution_count": null,
   "id": "d82084ae",
   "metadata": {},
   "outputs": [],
   "source": [
    "# MULTIPLE INHERITANCE\n",
    "class Human:\n",
    "    def __init__(self, name, age, gender):\n",
    "        self.name = name\n",
    "        self.age = age\n",
    "        self.gender = gender\n",
    "\n",
    "class Student:\n",
    "    def __init__(self, student_id, std):\n",
    "        self.student_id = student_id\n",
    "        self.std = std\n",
    "\n",
    "class Employee(Human, Student):\n",
    "    def __init__(self, name, age, gender, student_id, std, employee_id):\n",
    "        Human.__init__(self, name, age, gender)\n",
    "        Student.__init__(self, student_id, std)\n",
    "        self.employee_id = employee_id\n"
   ]
  },
  {
   "cell_type": "code",
   "execution_count": 184,
   "id": "51568507",
   "metadata": {},
   "outputs": [
    {
     "name": "stdout",
     "output_type": "stream",
     "text": [
      "(<class '__main__.Employee'>, <class '__main__.Human'>, <class '__main__.Student'>, <class 'object'>)\n"
     ]
    }
   ],
   "source": [
    "print(Employee.__mro__)\n"
   ]
  },
  {
   "cell_type": "code",
   "execution_count": null,
   "id": "1c99d0d2",
   "metadata": {},
   "outputs": [],
   "source": [
    "# multi-level inheritance  -->here we use multilevel inheritance for Employee\n",
    "\n",
    "class Employee(Student):\n",
    "    def __init__(self,name, age , gender, id, std, employee_id):\n",
    "        super().__init__(name, age,gender, id, std)\n",
    "        self.employee_id = employee_id\n",
    "\n",
    "    def emp_details(self):\n",
    "        return f\"Employee ID: {self.employee_id}, Name: {self.name}\""
   ]
  },
  {
   "cell_type": "code",
   "execution_count": null,
   "id": "84b28ae2",
   "metadata": {},
   "outputs": [],
   "source": [
    "emp1 = Employee(\"deep\",23,\"f\",2,15,1101)"
   ]
  },
  {
   "cell_type": "code",
   "execution_count": null,
   "id": "a7a59876",
   "metadata": {},
   "outputs": [],
   "source": [
    "emp1.speak()"
   ]
  },
  {
   "cell_type": "code",
   "execution_count": null,
   "id": "6be697cb",
   "metadata": {},
   "outputs": [],
   "source": [
    "emp1.student_id_std()"
   ]
  },
  {
   "cell_type": "code",
   "execution_count": null,
   "id": "2f014a02",
   "metadata": {},
   "outputs": [],
   "source": [
    "emp1.emp_details()"
   ]
  },
  {
   "cell_type": "code",
   "execution_count": null,
   "id": "1a54e5c3",
   "metadata": {},
   "outputs": [],
   "source": []
  },
  {
   "cell_type": "markdown",
   "id": "eb5f7990",
   "metadata": {},
   "source": [
    "Excellent! Let's break down **Q8: Hospital Management System** into a **detailed, structured OOP question** including:\n",
    "\n",
    "* Required **classes**\n",
    "* **Attributes** (variables)\n",
    "* **Methods** (functions)\n",
    "* Expected **objects**\n",
    "* Clear instructions for implementing **inheritance, composition**, and **overriding**\n",
    "\n",
    "---\n",
    "\n",
    "## 🏥 Detailed OOP Question: **Hospital Management System**\n",
    "\n",
    "### 🎯 **Goal:**\n",
    "\n",
    "Design a simple hospital system using **Object-Oriented Programming (OOP)** in Python. Use **inheritance** for modeling people and **composition** for organizing departments and hospitals.\n",
    "\n",
    "---\n",
    "\n",
    "## 🔧 Required Classes and Relationships\n",
    "\n",
    "---\n",
    "\n",
    "### 1. **Class: `Person` (Base Class)**\n",
    "\n",
    "* 🔹 Attributes:\n",
    "\n",
    "  * `name` (string)\n",
    "  * `age` (integer)\n",
    "\n",
    "* 🔹 Method:\n",
    "\n",
    "  * `get_info()` – returns name and age\n",
    "\n",
    "---\n",
    "\n",
    "### 2. **Class: `Patient` (Inherits from `Person`)**\n",
    "\n",
    "* 🔹 Attributes:\n",
    "\n",
    "  * `patient_id` (string)\n",
    "  * `ailment` (string)\n",
    "\n",
    "* 🔹 Method:\n",
    "\n",
    "  * `get_info()` – overrides base method to include patient ID and ailment\n",
    "\n",
    "---\n",
    "\n",
    "### 3. **Class: `Doctor` (Inherits from `Person`)**\n",
    "\n",
    "* 🔹 Attributes:\n",
    "\n",
    "  * `doctor_id` (string)\n",
    "  * `specialization` (string)\n",
    "\n",
    "* 🔹 Method:\n",
    "\n",
    "  * `get_info()` – overrides base method to include doctor ID and specialization\n",
    "\n",
    "---\n",
    "\n",
    "### 4. **Class: `Department` (Uses Composition)**\n",
    "\n",
    "* 🔹 Attributes:\n",
    "\n",
    "  * `name` (string)\n",
    "  * `doctors` (list of `Doctor` objects)\n",
    "  * `patients` (list of `Patient` objects)\n",
    "\n",
    "* 🔹 Methods:\n",
    "\n",
    "  * `assign_doctor(doctor: Doctor)`\n",
    "  * `admit_patient(patient: Patient)`\n",
    "  * `show_department_info()` – prints all doctor and patient info in the department\n",
    "\n",
    "---\n",
    "\n",
    "### 5. **Class: `Hospital` (Uses Composition)**\n",
    "\n",
    "* 🔹 Attributes:\n",
    "\n",
    "  * `name` (string)\n",
    "  * `departments` (list of `Department` objects)\n",
    "\n",
    "* 🔹 Methods:\n",
    "\n",
    "  * `add_department(department: Department)`\n",
    "  * `show_hospital_info()` – prints all department names and their info\n",
    "\n",
    "---\n",
    "\n",
    "## ✅ Example Instructions\n",
    "\n",
    "1. Create a base class `Person` and override `get_info()` in `Patient` and `Doctor`.\n",
    "2. Create departments like `\"Cardiology\"` and `\"Neurology\"` using the `Department` class.\n",
    "3. Assign doctors to departments using `assign_doctor()`.\n",
    "4. Admit patients to departments using `admit_patient()`.\n",
    "5. Create a `Hospital` object named `\"City Care\"` and add all departments.\n",
    "6. Call `show_hospital_info()` to display the entire structure.\n",
    "\n",
    "---\n",
    "\n",
    "## 🧪 Sample Object Creation\n",
    "\n",
    "```python\n",
    "# Create doctors\n",
    "doc1 = Doctor(\"Dr. Smith\", 45, \"D101\", \"Cardiologist\")\n",
    "doc2 = Doctor(\"Dr. Alice\", 50, \"D102\", \"Neurologist\")\n",
    "\n",
    "# Create patients\n",
    "pat1 = Patient(\"John Doe\", 60, \"P001\", \"Heart Disease\")\n",
    "pat2 = Patient(\"Jane Roe\", 30, \"P002\", \"Migraine\")\n",
    "\n",
    "# Create departments\n",
    "cardio = Department(\"Cardiology\")\n",
    "neuro = Department(\"Neurology\")\n",
    "\n",
    "# Assign doctors/patients\n",
    "cardio.assign_doctor(doc1)\n",
    "cardio.admit_patient(pat1)\n",
    "\n",
    "neuro.assign_doctor(doc2)\n",
    "neuro.admit_patient(pat2)\n",
    "\n",
    "# Create hospital and add departments\n",
    "hospital = Hospital(\"City Care Hospital\")\n",
    "hospital.add_department(cardio)\n",
    "hospital.add_department(neuro)\n",
    "\n",
    "# Display full info\n",
    "hospital.show_hospital_info()\n",
    "```\n",
    "\n",
    "---\n",
    "\n",
    "## 🧠 Learning Outcomes\n",
    "\n",
    "* Understand and implement **inheritance**\n",
    "* Use **method overriding**\n",
    "* Apply **composition** (object-in-object design)\n",
    "* Manage multiple objects in an organized system\n",
    "\n",
    "---\n",
    "\n",
    "Would you like me to provide:\n",
    "\n",
    "* A full solution code?\n",
    "* A Jupyter notebook template for students?\n",
    "* A worksheet format with blanks to fill in code?\n"
   ]
  },
  {
   "cell_type": "markdown",
   "id": "230ff401",
   "metadata": {},
   "source": []
  }
 ],
 "metadata": {
  "kernelspec": {
   "display_name": "aienv",
   "language": "python",
   "name": "python3"
  },
  "language_info": {
   "codemirror_mode": {
    "name": "ipython",
    "version": 3
   },
   "file_extension": ".py",
   "mimetype": "text/x-python",
   "name": "python",
   "nbconvert_exporter": "python",
   "pygments_lexer": "ipython3",
   "version": "3.12.9"
  }
 },
 "nbformat": 4,
 "nbformat_minor": 5
}
