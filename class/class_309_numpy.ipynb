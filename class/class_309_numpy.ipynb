{
 "cells": [
  {
   "cell_type": "code",
   "execution_count": null,
   "id": "b6bf0abf",
   "metadata": {},
   "outputs": [],
   "source": [
    "import numpy as np "
   ]
  },
  {
   "cell_type": "code",
   "execution_count": null,
   "id": "b65f1c9c",
   "metadata": {},
   "outputs": [],
   "source": [
    "# array()\n",
    "arr = np.array([45,6,9,0])\n",
    "arr"
   ]
  },
  {
   "cell_type": "code",
   "execution_count": null,
   "id": "415a47bb",
   "metadata": {},
   "outputs": [],
   "source": [
    "a= [5,6,78,4.54,\"abc\", True]\n",
    "a"
   ]
  },
  {
   "cell_type": "code",
   "execution_count": null,
   "id": "6b78793b",
   "metadata": {},
   "outputs": [],
   "source": [
    "arr2 = np.array([45,6,9,0,4.54,\"ab54545334343434565wgresgredgs2453432343c\", True])\n",
    "arr2"
   ]
  },
  {
   "cell_type": "code",
   "execution_count": null,
   "id": "1b58695c",
   "metadata": {},
   "outputs": [],
   "source": [
    "print(arr2)"
   ]
  },
  {
   "cell_type": "code",
   "execution_count": null,
   "id": "b742484f",
   "metadata": {},
   "outputs": [],
   "source": [
    "arr2.dtype"
   ]
  },
  {
   "cell_type": "code",
   "execution_count": null,
   "id": "97f4e5cf",
   "metadata": {},
   "outputs": [],
   "source": [
    "# Dimensions \n",
    "# 0D\n",
    "d1 = np.array(435)"
   ]
  },
  {
   "cell_type": "code",
   "execution_count": null,
   "id": "1258f548",
   "metadata": {},
   "outputs": [],
   "source": [
    "type(d1)"
   ]
  },
  {
   "cell_type": "code",
   "execution_count": null,
   "id": "35687e13",
   "metadata": {},
   "outputs": [],
   "source": [
    "d1.ndim"
   ]
  },
  {
   "cell_type": "code",
   "execution_count": null,
   "id": "763cc857",
   "metadata": {},
   "outputs": [],
   "source": [
    "print(arr)\n",
    "arr.ndim"
   ]
  },
  {
   "cell_type": "code",
   "execution_count": null,
   "id": "1e1ab2fa",
   "metadata": {},
   "outputs": [],
   "source": [
    "arr2d = np.array([[34,56,76]])"
   ]
  },
  {
   "cell_type": "code",
   "execution_count": null,
   "id": "e3fb5b3f",
   "metadata": {},
   "outputs": [],
   "source": [
    "# show the number of row & col\n",
    "arr2d.shape"
   ]
  },
  {
   "cell_type": "code",
   "execution_count": null,
   "id": "2cadd676",
   "metadata": {},
   "outputs": [],
   "source": [
    "arr2d.size # count the number of elements in array"
   ]
  },
  {
   "cell_type": "code",
   "execution_count": null,
   "id": "07082934",
   "metadata": {},
   "outputs": [],
   "source": [
    "arr2d.ndim  #show the number of Dimensions "
   ]
  },
  {
   "cell_type": "code",
   "execution_count": null,
   "id": "2c9879cc",
   "metadata": {},
   "outputs": [],
   "source": [
    "# create 2row, 3col --> 2d array\n",
    "arrd = np.array([[34,56,76],[4,5,6]])\n",
    "arrd.shape"
   ]
  },
  {
   "cell_type": "code",
   "execution_count": null,
   "id": "68cf2a85",
   "metadata": {},
   "outputs": [],
   "source": [
    "print(arrd)"
   ]
  },
  {
   "cell_type": "code",
   "execution_count": null,
   "id": "bc086d39",
   "metadata": {},
   "outputs": [],
   "source": [
    "arrd = np.array([[34,56,76],[4,6,]])"
   ]
  },
  {
   "cell_type": "code",
   "execution_count": null,
   "id": "cfdfb25e",
   "metadata": {},
   "outputs": [],
   "source": [
    "arrd = np.array([[34,56,76],[4,6,np.inf]])"
   ]
  },
  {
   "cell_type": "code",
   "execution_count": null,
   "id": "e2745659",
   "metadata": {},
   "outputs": [],
   "source": [
    "arrd.shape"
   ]
  },
  {
   "cell_type": "code",
   "execution_count": null,
   "id": "a1135f30",
   "metadata": {},
   "outputs": [],
   "source": [
    "print(arrd)"
   ]
  },
  {
   "cell_type": "code",
   "execution_count": null,
   "id": "edc7005f",
   "metadata": {},
   "outputs": [],
   "source": [
    "arrd2 = np.array([[34,56,76],[4,6,np.inf], [4,5,6]])\n",
    "arrd2.shape"
   ]
  },
  {
   "cell_type": "code",
   "execution_count": null,
   "id": "ea6c2404",
   "metadata": {},
   "outputs": [],
   "source": [
    "print(arrd2)"
   ]
  },
  {
   "cell_type": "code",
   "execution_count": null,
   "id": "ddabf6f0",
   "metadata": {},
   "outputs": [],
   "source": [
    "arr3d= np.array([[[4,3,4],[4,5,6]] , [[37,8,9],[7,6,5]]])\n",
    "arr3d.shape"
   ]
  },
  {
   "cell_type": "code",
   "execution_count": null,
   "id": "52db79a2",
   "metadata": {},
   "outputs": [],
   "source": [
    "print(arr3d)"
   ]
  },
  {
   "cell_type": "code",
   "execution_count": null,
   "id": "4039df20",
   "metadata": {},
   "outputs": [],
   "source": []
  }
 ],
 "metadata": {
  "kernelspec": {
   "display_name": "aienv",
   "language": "python",
   "name": "python3"
  },
  "language_info": {
   "codemirror_mode": {
    "name": "ipython",
    "version": 3
   },
   "file_extension": ".py",
   "mimetype": "text/x-python",
   "name": "python",
   "nbconvert_exporter": "python",
   "pygments_lexer": "ipython3",
   "version": "3.12.9"
  }
 },
 "nbformat": 4,
 "nbformat_minor": 5
}
