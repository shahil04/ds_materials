{
 "cells": [
  {
   "cell_type": "code",
   "execution_count": null,
   "id": "b6bf0abf",
   "metadata": {},
   "outputs": [],
   "source": [
    "import numpy as np "
   ]
  },
  {
   "cell_type": "code",
   "execution_count": null,
   "id": "b65f1c9c",
   "metadata": {},
   "outputs": [],
   "source": [
    "# array()\n",
    "arr = np.array([45,6,9,0])\n",
    "arr"
   ]
  },
  {
   "cell_type": "code",
   "execution_count": null,
   "id": "415a47bb",
   "metadata": {},
   "outputs": [],
   "source": [
    "a= [5,6,78,4.54,\"abc\", True]\n",
    "a"
   ]
  },
  {
   "cell_type": "code",
   "execution_count": null,
   "id": "6b78793b",
   "metadata": {},
   "outputs": [],
   "source": [
    "arr2 = np.array([45,6,9,0,4.54,\"ab54545334343434565wgresgredgs2453432343c\", True])\n",
    "arr2"
   ]
  },
  {
   "cell_type": "code",
   "execution_count": null,
   "id": "1b58695c",
   "metadata": {},
   "outputs": [],
   "source": [
    "print(arr2)"
   ]
  },
  {
   "cell_type": "code",
   "execution_count": null,
   "id": "b742484f",
   "metadata": {},
   "outputs": [],
   "source": [
    "arr2.dtype"
   ]
  },
  {
   "cell_type": "code",
   "execution_count": null,
   "id": "97f4e5cf",
   "metadata": {},
   "outputs": [],
   "source": [
    "# Dimensions \n",
    "# 0D\n",
    "d1 = np.array(435)"
   ]
  },
  {
   "cell_type": "code",
   "execution_count": null,
   "id": "1258f548",
   "metadata": {},
   "outputs": [],
   "source": [
    "type(d1)"
   ]
  },
  {
   "cell_type": "code",
   "execution_count": null,
   "id": "35687e13",
   "metadata": {},
   "outputs": [],
   "source": [
    "d1.ndim"
   ]
  },
  {
   "cell_type": "code",
   "execution_count": null,
   "id": "763cc857",
   "metadata": {},
   "outputs": [],
   "source": [
    "print(arr)\n",
    "arr.ndim"
   ]
  },
  {
   "cell_type": "code",
   "execution_count": null,
   "id": "1e1ab2fa",
   "metadata": {},
   "outputs": [],
   "source": [
    "arr2d = np.array([[34,56,76]])"
   ]
  },
  {
   "cell_type": "code",
   "execution_count": null,
   "id": "e3fb5b3f",
   "metadata": {},
   "outputs": [],
   "source": [
    "# show the number of row & col\n",
    "arr2d.shape"
   ]
  },
  {
   "cell_type": "code",
   "execution_count": null,
   "id": "2cadd676",
   "metadata": {},
   "outputs": [],
   "source": [
    "arr2d.size # count the number of elements in array"
   ]
  },
  {
   "cell_type": "code",
   "execution_count": null,
   "id": "07082934",
   "metadata": {},
   "outputs": [],
   "source": [
    "arr2d.ndim  #show the number of Dimensions "
   ]
  },
  {
   "cell_type": "code",
   "execution_count": null,
   "id": "2c9879cc",
   "metadata": {},
   "outputs": [],
   "source": [
    "# create 2row, 3col --> 2d array\n",
    "arrd = np.array([[34,56,76],[4,5,6]])\n",
    "arrd.shape"
   ]
  },
  {
   "cell_type": "code",
   "execution_count": null,
   "id": "68cf2a85",
   "metadata": {},
   "outputs": [],
   "source": [
    "print(arrd)"
   ]
  },
  {
   "cell_type": "code",
   "execution_count": null,
   "id": "bc086d39",
   "metadata": {},
   "outputs": [],
   "source": [
    "arrd = np.array([[34,56,76],[4,6,]])"
   ]
  },
  {
   "cell_type": "code",
   "execution_count": null,
   "id": "cfdfb25e",
   "metadata": {},
   "outputs": [],
   "source": [
    "arrd = np.array([[34,56,76],[4,6,np.inf]])"
   ]
  },
  {
   "cell_type": "code",
   "execution_count": null,
   "id": "e2745659",
   "metadata": {},
   "outputs": [],
   "source": [
    "arrd.shape"
   ]
  },
  {
   "cell_type": "code",
   "execution_count": null,
   "id": "a1135f30",
   "metadata": {},
   "outputs": [],
   "source": [
    "print(arrd)"
   ]
  },
  {
   "cell_type": "code",
   "execution_count": null,
   "id": "edc7005f",
   "metadata": {},
   "outputs": [],
   "source": [
    "arrd2 = np.array([[34,56,76],[4,6,np.inf], [4,5,6]])\n",
    "arrd2.shape"
   ]
  },
  {
   "cell_type": "code",
   "execution_count": null,
   "id": "ea6c2404",
   "metadata": {},
   "outputs": [],
   "source": [
    "print(arrd2)"
   ]
  },
  {
   "cell_type": "code",
   "execution_count": null,
   "id": "ddabf6f0",
   "metadata": {},
   "outputs": [],
   "source": [
    "arr3d= np.array([[[4,3,4],[4,5,6]] , [[37,8,9],[7,6,5]]])\n",
    "arr3d.shape"
   ]
  },
  {
   "cell_type": "code",
   "execution_count": null,
   "id": "52db79a2",
   "metadata": {},
   "outputs": [],
   "source": [
    "print(arr3d)"
   ]
  },
  {
   "cell_type": "markdown",
   "id": "420bbbb3",
   "metadata": {},
   "source": [
    "mat = np.matrix(l) #matris will be by default 2d\n",
    "\n",
    "Linear algebra functions\n",
    "Concatenation and splitting"
   ]
  },
  {
   "cell_type": "code",
   "execution_count": null,
   "id": "be1335c9",
   "metadata": {},
   "outputs": [],
   "source": [
    "import numpy as np\n",
    "np.matrix([3,4,5,6,7])"
   ]
  },
  {
   "cell_type": "code",
   "execution_count": null,
   "id": "f0b191f2",
   "metadata": {},
   "outputs": [],
   "source": [
    "import numpy as np\n",
    "arr = np.array([1, 2, 3, 4, 5])\n",
    "x = arr.copy()\n",
    "y = arr.view()\n",
    "print(x.base)\n",
    "# print(y)\n",
    "print(y.base)\n",
    "print(x)\n"
   ]
  },
  {
   "cell_type": "code",
   "execution_count": null,
   "id": "95c43ac2",
   "metadata": {},
   "outputs": [],
   "source": [
    "print(id(arr))\n",
    "print(id(x))\n",
    "print(id(y))\n",
    "print(y.base)\n",
    "print(x.base)"
   ]
  },
  {
   "cell_type": "code",
   "execution_count": null,
   "id": "3b29f0b7",
   "metadata": {},
   "outputs": [],
   "source": [
    "arr = np.array([1, 2, 3, 4, 5, 6, 7, 8, 9, 10, 11, 12])\n",
    "# convert into 2d and 3d\n",
    "a2d = arr.reshape(2,6)\n",
    "a2d"
   ]
  },
  {
   "cell_type": "code",
   "execution_count": null,
   "id": "f49379fa",
   "metadata": {},
   "outputs": [],
   "source": []
  },
  {
   "cell_type": "code",
   "execution_count": null,
   "id": "7e3a73a7",
   "metadata": {},
   "outputs": [],
   "source": [
    "a3d = arr.reshape(2,3,2)\n",
    "a3d"
   ]
  },
  {
   "cell_type": "code",
   "execution_count": null,
   "id": "fb6f24e8",
   "metadata": {},
   "outputs": [],
   "source": [
    "# Unknown dimensions  --> for atleast 1 dimension unknown\n",
    "ad = arr.reshape(3,-1)\n",
    "ad"
   ]
  },
  {
   "cell_type": "code",
   "execution_count": null,
   "id": "96432983",
   "metadata": {},
   "outputs": [],
   "source": [
    "# 2,3\n",
    "#3d\n",
    "arr.reshape(-1,2,3)"
   ]
  },
  {
   "cell_type": "code",
   "execution_count": null,
   "id": "bd6b11e4",
   "metadata": {},
   "outputs": [],
   "source": [
    "# iterations\n",
    "for i in arr:\n",
    "    print(i)"
   ]
  },
  {
   "cell_type": "code",
   "execution_count": null,
   "id": "490a44bf",
   "metadata": {},
   "outputs": [],
   "source": [
    "# iterations\n",
    "for i in a2d:\n",
    "    # print(i)\n",
    "    for j in i:\n",
    "        print(j)"
   ]
  },
  {
   "cell_type": "code",
   "execution_count": null,
   "id": "cc703247",
   "metadata": {},
   "outputs": [],
   "source": [
    "# iterations\n",
    "for i in a3d:\n",
    "    # print(i)\n",
    "    for j in i:\n",
    "        for k in j:\n",
    "            print(k)"
   ]
  },
  {
   "cell_type": "code",
   "execution_count": null,
   "id": "e5bdb24d",
   "metadata": {},
   "outputs": [],
   "source": [
    "# nditerator  --> use for iterating n-dimensions array in single loop\n",
    "for i in np.nditer(a3d):\n",
    "    print(i)"
   ]
  },
  {
   "cell_type": "markdown",
   "id": "ed776441",
   "metadata": {},
   "source": [
    "import numpy as np\n"
   ]
  },
  {
   "cell_type": "code",
   "execution_count": null,
   "id": "4039df20",
   "metadata": {},
   "outputs": [],
   "source": [
    "\n",
    "arr = np.array([1, 2, 3, 4, 5])\n",
    "x = arr.copy()\n",
    "y = arr.view()\n",
    "print(x.base)\n",
    "print(y)\n",
    "print(y.base)"
   ]
  },
  {
   "cell_type": "markdown",
   "id": "cef6248d",
   "metadata": {},
   "source": [
    "✅ Broadcasting in NumPy\n",
    "Broadcasting automatically expands smaller arrays to match the shape of larger ones in element-wise operations."
   ]
  },
  {
   "cell_type": "code",
   "execution_count": null,
   "id": "181f7afc",
   "metadata": {},
   "outputs": [],
   "source": [
    "a = np.array([0, 1, 2])\n",
    "b = np.array([5, 5, 5])\n",
    "a + b"
   ]
  },
  {
   "cell_type": "code",
   "execution_count": null,
   "id": "40bb9c9e",
   "metadata": {},
   "outputs": [],
   "source": [
    "c= b.reshape(3,1)"
   ]
  },
  {
   "cell_type": "code",
   "execution_count": null,
   "id": "c7087d75",
   "metadata": {},
   "outputs": [],
   "source": [
    "d = np.array([3,4,56,5])\n",
    "d"
   ]
  },
  {
   "cell_type": "code",
   "execution_count": null,
   "id": "6b264a3e",
   "metadata": {},
   "outputs": [
    {
     "ename": "SyntaxError",
     "evalue": "invalid syntax (1756088345.py, line 1)",
     "output_type": "error",
     "traceback": [
      "  \u001b[36mCell\u001b[39m\u001b[36m \u001b[39m\u001b[32mIn[51]\u001b[39m\u001b[32m, line 1\u001b[39m\n\u001b[31m    \u001b[39m\u001b[31mhttps://jakevdp.github.io/PythonDataScienceHandbook/02.05-computation-on-arrays-broadcasting.html\u001b[39m\n          ^\n\u001b[31mSyntaxError\u001b[39m\u001b[31m:\u001b[39m invalid syntax\n"
     ]
    }
   ],
   "source": [
    "# https://jakevdp.github.io/PythonDataScienceHandbook/02.05-computation-on-arrays-broadcasting.html"
   ]
  },
  {
   "cell_type": "code",
   "execution_count": null,
   "id": "b92c5f18",
   "metadata": {},
   "outputs": [],
   "source": [
    "a+d\n",
    "# here d in diffrent dimension so give you a broadcasting error\n",
    "#  so we need to change a dimension to a to match the dimension of a\n",
    "\n",
    "# rules of broadcasting\n",
    "# 1. if the dimension is 1 then it can be broadcasted to any number of dimension\n",
    "# 2. if 0 dimension then it can be broadcasted to any number of dimension\n",
    "# 3: If in any dimension the sizes disagree and neither is equal to 1, an error is raised."
   ]
  },
  {
   "cell_type": "code",
   "execution_count": null,
   "id": "56b44a9b",
   "metadata": {},
   "outputs": [],
   "source": [
    "e= d.reshape(4,1)\n",
    "e"
   ]
  },
  {
   "cell_type": "code",
   "execution_count": null,
   "id": "074de461",
   "metadata": {},
   "outputs": [],
   "source": [
    "a+e"
   ]
  },
  {
   "cell_type": "code",
   "execution_count": 52,
   "id": "d57e441b",
   "metadata": {},
   "outputs": [
    {
     "name": "stdout",
     "output_type": "stream",
     "text": [
      "[[1. 1. 1.]\n",
      " [1. 1. 1.]]\n",
      "[0 1 2]\n"
     ]
    }
   ],
   "source": [
    "M = np.ones((2, 3))\n",
    "a = np.arange(3)\n",
    "\n",
    "print(M)\n",
    "print(a)"
   ]
  },
  {
   "cell_type": "code",
   "execution_count": 53,
   "id": "eab6a6f2",
   "metadata": {},
   "outputs": [
    {
     "data": {
      "text/plain": [
       "array([[1., 2., 3.],\n",
       "       [1., 2., 3.]])"
      ]
     },
     "execution_count": 53,
     "metadata": {},
     "output_type": "execute_result"
    }
   ],
   "source": [
    "M+a"
   ]
  },
  {
   "cell_type": "code",
   "execution_count": 54,
   "id": "56e5e5eb",
   "metadata": {},
   "outputs": [
    {
     "ename": "ValueError",
     "evalue": "operands could not be broadcast together with shapes (3,2) (3,) ",
     "output_type": "error",
     "traceback": [
      "\u001b[31m---------------------------------------------------------------------------\u001b[39m",
      "\u001b[31mValueError\u001b[39m                                Traceback (most recent call last)",
      "\u001b[36mCell\u001b[39m\u001b[36m \u001b[39m\u001b[32mIn[54]\u001b[39m\u001b[32m, line 3\u001b[39m\n\u001b[32m      1\u001b[39m M = np.ones((\u001b[32m3\u001b[39m, \u001b[32m2\u001b[39m))\n\u001b[32m      2\u001b[39m a = np.arange(\u001b[32m3\u001b[39m)\n\u001b[32m----> \u001b[39m\u001b[32m3\u001b[39m \u001b[43mM\u001b[49m\u001b[43m+\u001b[49m\u001b[43ma\u001b[49m\n",
      "\u001b[31mValueError\u001b[39m: operands could not be broadcast together with shapes (3,2) (3,) "
     ]
    }
   ],
   "source": [
    "M = np.ones((3, 2))\n",
    "a = np.arange(3)\n",
    "M+a"
   ]
  },
  {
   "cell_type": "markdown",
   "id": "3bb2c22d",
   "metadata": {},
   "source": [
    "Great question! Let's cover the **conditions of broadcasting in NumPy** in a clear and simple way.\n",
    "\n",
    "---\n",
    "\n",
    "### ✅ **Conditions of Broadcasting in NumPy**\n",
    "\n",
    "Broadcasting allows NumPy to perform element-wise operations on arrays of **different shapes**, as long as certain **rules** are followed.\n",
    "\n",
    "---\n",
    "\n",
    "### 🧩 **Broadcasting Rules**\n",
    "\n",
    "Suppose we have two arrays: `A` and `B`.\n",
    "\n",
    "To broadcast them together:\n",
    "\n",
    "1. **Align the shapes** **from the right** (pad with 1s on the left if needed).\n",
    "2. **Dimensions are compatible if:**\n",
    "\n",
    "   * They are equal, or\n",
    "   * One of them is 1\n",
    "\n",
    "---\n",
    "\n",
    "### 🔢 **Example Scenarios**\n",
    "\n",
    "#### ✅ **Valid Broadcasting**\n",
    "\n",
    "```python\n",
    "A.shape = (3, 1)\n",
    "B.shape = (1, 4)\n",
    "Result.shape = (3, 4)  # Compatible\n",
    "```\n",
    "\n",
    "Why valid?\n",
    "\n",
    "* 1st dim: 3 vs 1 → OK (1 can be stretched)\n",
    "* 2nd dim: 1 vs 4 → OK (1 can be stretched)\n",
    "\n",
    "#### ❌ **Invalid Broadcasting**\n",
    "\n",
    "```python\n",
    "A.shape = (2, 3)\n",
    "B.shape = (3, 2)\n",
    "```\n",
    "\n",
    "* 1st dim: 2 vs 3 → Not compatible\n",
    "* 2nd dim: 3 vs 2 → Not compatible\n",
    "  → **Error: operands could not be broadcast together**\n",
    "\n",
    "---\n",
    "\n",
    "### 📌 **Examples in Code**\n",
    "\n",
    "#### Example 1: Broadcast scalar to array\n",
    "\n",
    "```python\n",
    "import numpy as np\n",
    "A = np.array([1, 2, 3])\n",
    "B = 5\n",
    "print(A + B)  # [6 7 8]\n",
    "```\n",
    "\n",
    "#### Example 2: Broadcast 1D to 2D\n",
    "\n",
    "```python\n",
    "A = np.array([[1], [2], [3]])  # shape (3, 1)\n",
    "B = np.array([10, 20, 30])     # shape (3,)\n",
    "result = A + B                 # shape (3, 3)\n",
    "print(result)\n",
    "```\n",
    "\n",
    "---\n",
    "\n",
    "### 📌 Tip for Teaching:\n",
    "\n",
    "When explaining broadcasting to students, show them how NumPy “virtually” expands the smaller array without actually copying data, which makes it memory-efficient.\n",
    "\n",
    "---\n",
    "\n",
    "Would you like visual diagrams or a worksheet for broadcasting examples?\n",
    "\n"
   ]
  },
  {
   "cell_type": "markdown",
   "id": "1204a748",
   "metadata": {},
   "source": [
    "# title\n",
    "1. topic\n",
    "    - new\n",
    "2. \n"
   ]
  },
  {
   "cell_type": "markdown",
   "id": "0eb97637",
   "metadata": {},
   "source": [
    "## Linear Algebra"
   ]
  },
  {
   "cell_type": "code",
   "execution_count": 55,
   "id": "64f2a975",
   "metadata": {},
   "outputs": [
    {
     "data": {
      "text/plain": [
       "array([[1, 2, 3],\n",
       "       [4, 5, 6]])"
      ]
     },
     "execution_count": 55,
     "metadata": {},
     "output_type": "execute_result"
    }
   ],
   "source": [
    "# \n",
    "arr = np.array([[1, 2, 3], [4, 5, 6]])\n",
    "arr"
   ]
  },
  {
   "cell_type": "code",
   "execution_count": 57,
   "id": "8a68db83",
   "metadata": {},
   "outputs": [
    {
     "data": {
      "text/plain": [
       "array([[1, 4],\n",
       "       [2, 5],\n",
       "       [3, 6]])"
      ]
     },
     "execution_count": 57,
     "metadata": {},
     "output_type": "execute_result"
    }
   ],
   "source": [
    "arr.transpose()"
   ]
  },
  {
   "cell_type": "code",
   "execution_count": 61,
   "id": "7f883188",
   "metadata": {},
   "outputs": [
    {
     "name": "stdout",
     "output_type": "stream",
     "text": [
      "[[1 2]\n",
      " [3 4]]\n",
      "[[5 6]\n",
      " [7 8]]\n"
     ]
    },
    {
     "data": {
      "text/plain": [
       "array([[ 5, 12],\n",
       "       [21, 32]])"
      ]
     },
     "execution_count": 61,
     "metadata": {},
     "output_type": "execute_result"
    }
   ],
   "source": [
    "# Matrix multiplication\n",
    "matrix1 = np.array([[1, 2], [3, 4]])\n",
    "matrix2 = np.array([[5, 6], [7, 8]])\n",
    "print(matrix1)\n",
    "print(matrix2)\n",
    "matrix1*matrix2"
   ]
  },
  {
   "cell_type": "code",
   "execution_count": 62,
   "id": "a1418f13",
   "metadata": {},
   "outputs": [
    {
     "data": {
      "text/plain": [
       "array([[19, 22],\n",
       "       [43, 50]])"
      ]
     },
     "execution_count": 62,
     "metadata": {},
     "output_type": "execute_result"
    }
   ],
   "source": [
    "# dot product\n",
    "matrix1@matrix2"
   ]
  },
  {
   "cell_type": "code",
   "execution_count": 63,
   "id": "30925c76",
   "metadata": {},
   "outputs": [
    {
     "data": {
      "text/plain": [
       "array([[19, 22],\n",
       "       [43, 50]])"
      ]
     },
     "execution_count": 63,
     "metadata": {},
     "output_type": "execute_result"
    }
   ],
   "source": [
    "np.dot(matrix1, matrix2)"
   ]
  },
  {
   "cell_type": "code",
   "execution_count": 65,
   "id": "ca61c667",
   "metadata": {},
   "outputs": [
    {
     "data": {
      "text/plain": [
       "-2.0000000000000004"
      ]
     },
     "execution_count": 65,
     "metadata": {},
     "output_type": "execute_result"
    }
   ],
   "source": [
    "# Determinant\n",
    "det = np.linalg.det(matrix1)\n",
    "det"
   ]
  },
  {
   "cell_type": "code",
   "execution_count": 66,
   "id": "ed3581e9",
   "metadata": {},
   "outputs": [
    {
     "data": {
      "text/plain": [
       "array([[-2. ,  1. ],\n",
       "       [ 1.5, -0.5]])"
      ]
     },
     "execution_count": 66,
     "metadata": {},
     "output_type": "execute_result"
    }
   ],
   "source": [
    "# Inverse\n",
    "inv = np.linalg.inv(matrix1)\n",
    "inv"
   ]
  },
  {
   "cell_type": "code",
   "execution_count": 67,
   "id": "8851e85c",
   "metadata": {},
   "outputs": [],
   "source": [
    "A = np.array([[2, 3, 1],\n",
    "              [4, 1, 2],\n",
    "              [3, 2, 3]])\n"
   ]
  },
  {
   "cell_type": "code",
   "execution_count": 70,
   "id": "43de3453",
   "metadata": {},
   "outputs": [],
   "source": [
    "# Right-hand side vector b\n",
    "b = np.array([1, 5, 3])\n"
   ]
  },
  {
   "cell_type": "code",
   "execution_count": 71,
   "id": "4ea3b13b",
   "metadata": {},
   "outputs": [
    {
     "data": {
      "text/plain": [
       "array([ 1.4, -0.6,  0. ])"
      ]
     },
     "execution_count": 71,
     "metadata": {},
     "output_type": "execute_result"
    }
   ],
   "source": [
    "# Solve the system of equations\n",
    "solution = np.linalg.solve(A, b)\n",
    "solution"
   ]
  },
  {
   "cell_type": "code",
   "execution_count": null,
   "id": "9dd3a925",
   "metadata": {},
   "outputs": [],
   "source": []
  }
 ],
 "metadata": {
  "kernelspec": {
   "display_name": "aienv",
   "language": "python",
   "name": "python3"
  },
  "language_info": {
   "codemirror_mode": {
    "name": "ipython",
    "version": 3
   },
   "file_extension": ".py",
   "mimetype": "text/x-python",
   "name": "python",
   "nbconvert_exporter": "python",
   "pygments_lexer": "ipython3",
   "version": "3.12.9"
  }
 },
 "nbformat": 4,
 "nbformat_minor": 5
}
