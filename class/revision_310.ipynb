{
 "cells": [
  {
   "cell_type": "code",
   "execution_count": null,
   "id": "8b85efed",
   "metadata": {},
   "outputs": [],
   "source": [
    "#  create registation form backend conditions\n",
    "\n",
    "name = input(\"enter you username:\")\n",
    "email = input(\"enter you email:\")\n",
    "password = input(\"enter your password:\")\n",
    "phone_number = input(\"enter your phone number:\")\n",
    "\n",
    "if \"@\" in email and \".\" in email:\n",
    "    print(\"valid email\")\n",
    "\n",
    "if len(password) >= 8 and password.isupper() and password.islower() and password.isdigit():    \n"
   ]
  },
  {
   "cell_type": "code",
   "execution_count": null,
   "id": "0c5dec34",
   "metadata": {},
   "outputs": [],
   "source": [
    "password =\"AasxdA\"\n",
    "\n",
    "any(password).isupper()"
   ]
  },
  {
   "cell_type": "code",
   "execution_count": 1,
   "id": "0e44e946",
   "metadata": {},
   "outputs": [],
   "source": [
    "import re\n",
    "pat =r\"\\w+@\\w+.\\w+\""
   ]
  },
  {
   "cell_type": "code",
   "execution_count": 14,
   "id": "3160c9b8",
   "metadata": {},
   "outputs": [],
   "source": [
    "pat2 = re.compile(r\"\\w+@\\w+\\.\\w+\")"
   ]
  },
  {
   "cell_type": "code",
   "execution_count": 16,
   "id": "36817700",
   "metadata": {},
   "outputs": [
    {
     "data": {
      "text/plain": [
       "<re.Match object; span=(0, 19), match='shahil434@gmail.com'>"
      ]
     },
     "execution_count": 16,
     "metadata": {},
     "output_type": "execute_result"
    }
   ],
   "source": [
    "email = \"shahil434@gmail.com  , ffdfd@gmail.in\"\n",
    "re.match(pat,email)\n",
    "# only return if match in starting string"
   ]
  },
  {
   "cell_type": "code",
   "execution_count": 18,
   "id": "b95eac51",
   "metadata": {},
   "outputs": [
    {
     "data": {
      "text/plain": [
       "<re.Match object; span=(0, 7), match='rd@e.fd'>"
      ]
     },
     "execution_count": 18,
     "metadata": {},
     "output_type": "execute_result"
    }
   ],
   "source": [
    "email = \"rd@e.fd , shahil434@gmail.com  , ffdfd@gmail.in\"\n",
    "re.search(pat,email)\n",
    "# only return 1st value which is match in any where in string"
   ]
  },
  {
   "cell_type": "code",
   "execution_count": 19,
   "id": "241dabe7",
   "metadata": {},
   "outputs": [
    {
     "data": {
      "text/plain": [
       "['rd@e.fd', 'shahil434@gmail.com', 'ffdfd@gmail.in']"
      ]
     },
     "execution_count": 19,
     "metadata": {},
     "output_type": "execute_result"
    }
   ],
   "source": [
    "pat2.findall(email)"
   ]
  },
  {
   "cell_type": "code",
   "execution_count": null,
   "id": "a7151419",
   "metadata": {},
   "outputs": [],
   "source": [
    "email = \"shahil434@gmail.com  , ffdfd@gmail.in\"\n",
    "x = re.findall(pat,email)"
   ]
  },
  {
   "cell_type": "code",
   "execution_count": 45,
   "id": "31b450d3",
   "metadata": {},
   "outputs": [
    {
     "data": {
      "text/plain": [
       "['shahil434@gmail.com', 'ffdfd@gmail.in']"
      ]
     },
     "execution_count": 45,
     "metadata": {},
     "output_type": "execute_result"
    }
   ],
   "source": [
    "x"
   ]
  },
  {
   "cell_type": "code",
   "execution_count": 47,
   "id": "2f5e5797",
   "metadata": {},
   "outputs": [
    {
     "data": {
      "text/plain": [
       "'ffdfd@gmail.in'"
      ]
     },
     "execution_count": 47,
     "metadata": {},
     "output_type": "execute_result"
    }
   ],
   "source": [
    "x[1]"
   ]
  },
  {
   "cell_type": "code",
   "execution_count": 103,
   "id": "b0cd1d12",
   "metadata": {},
   "outputs": [],
   "source": [
    "# open a file \n",
    "# file handling\n",
    "a = open(\"document.txt\",\"r\")\n"
   ]
  },
  {
   "cell_type": "code",
   "execution_count": 94,
   "id": "aaf3df62",
   "metadata": {},
   "outputs": [
    {
     "name": "stdout",
     "output_type": "stream",
     "text": [
      " Aaa\n",
      "\n",
      "\n",
      "\n",
      "include_top: whether to include the 3 fully-connected layers at the top of the networkaa.\n",
      "\n",
      "weights: one of None (random initialization), \"imagenet\" (pre-training on ImageNet), or the path to the weights file to be loaded.aaple\n",
      "\n",
      "input_tensor: optional Keras shahil434@gmail.com tensor (i.e. output of layers.Input()) to use as image input for the model.\n",
      "\n",
      "input_shape: optional shape tuple, only to be specified if include_top is False (otherwise the input shape has to be (224, 224, 3) (with channels_last data format) or (3, 224, 224) (with \"channels_first\" data format). It should have exactly 3 input channels, and width and height should be no smaller than 32. E.g. (200, 200, 3) would be one valid value.\n",
      "\n",
      "pooling: Optional pooling mode for feature extraction when include_top is False.\n",
      "\n",
      "None means that the output of the model will +91 9898434343 be the 4D tensor output of the last convolutional block.\n",
      "\n",
      "avg means that global average pooling will be applied to the output of the last convolutional block, and thus the output of the model will be a 2D tensor.\n",
      "\n",
      "max means that global max ffdfd@gmail.in pooling will be applied.\n",
      "\n",
      "classes: optional number of classes to classify images into, only to be specified if include_top is True, and if no weights argument is specified.\n",
      "\n",
      "classifier_activation: A str or callable. The activation function to use on the \"top\" layer. Ignored unless include_top=True. Set classifier_activation=None to return the logits of the \"top\" layer. When loading pretrained weights, classifier_activation can only be None or \"softmax\".\n",
      "\n",
      "name: The name of the model (string).ffddfd@gmai.in\n"
     ]
    }
   ],
   "source": [
    "a.seek(10)\n",
    "for i in a.readlines():\n",
    "    print(i)"
   ]
  },
  {
   "cell_type": "code",
   "execution_count": null,
   "id": "6e95a754",
   "metadata": {},
   "outputs": [],
   "source": [
    "a.seek(0)\n",
    "text =a.readlines()"
   ]
  },
  {
   "cell_type": "code",
   "execution_count": 105,
   "id": "e25979f1",
   "metadata": {},
   "outputs": [
    {
     "data": {
      "text/plain": [
       "'[\\'Arguments  Aaa\\\\n\\', \\'\\\\n\\', \\'include_top: whether to include the 3 fully-connected layers at the top of the networkaa.\\\\n\\', \\'weights: one of None (random initialization), \"imagenet\" (pre-training on ImageNet), or the path to the weights file to be loaded.aaple\\\\n\\', \\'input_tensor: optional Keras shahil434@gmail.com tensor (i.e. output of layers.Input()) to use as image input for the model.\\\\n\\', \\'input_shape: optional +92 9898434343 shape tuple, only to be specified if include_top is False (otherwise the input shape has to be (224, 224, 3) (with channels_last data format) or (3, 224, 224) (with \"channels_first\" data format). It should have exactly 3 input channels, and width and height should be no smaller than 32. E.g. (200, 200, 3) would be one valid value.\\\\n\\', \\'pooling: Optional pooling mode for feature extraction when include_top is False.\\\\n\\', \\'None means that the output of the model will +91 9898434343 be the 4D tensor output of the last convolutional block.\\\\n\\', \\'avg means that global average pooling will be applied to the output of the last convolutional block, and thus the output of the model will be a 2D tensor.\\\\n\\', \\'max means that global max ffdfd@gmail.in pooling will be applied.\\\\n\\', \\'classes: optional number of classes to classify images into, only to be specified if include_top is True, and if no weights argument is specified.\\\\n\\', \\'classifier_activation: A str or callable. The activation function to use on the \"top\" layer. Ignored unless include_top=True. Set classifier_activation=None to return the logits of the \"top\" layer. When loading pretrained weights, classifier_activation can only be None or \"softmax\".\\\\n\\', \\'name: The name of the model (string).ffddfd@gmai.in\\']'"
      ]
     },
     "execution_count": 105,
     "metadata": {},
     "output_type": "execute_result"
    }
   ],
   "source": [
    "str(text)"
   ]
  },
  {
   "cell_type": "code",
   "execution_count": 106,
   "id": "a8a89bd3",
   "metadata": {},
   "outputs": [
    {
     "data": {
      "text/plain": [
       "['shahil434@gmail.com', 'ffdfd@gmail.in', 'ffddfd@gmai.in']"
      ]
     },
     "execution_count": 106,
     "metadata": {},
     "output_type": "execute_result"
    }
   ],
   "source": [
    "re.findall(pat, str(text),)"
   ]
  },
  {
   "cell_type": "code",
   "execution_count": 114,
   "id": "c493b154",
   "metadata": {},
   "outputs": [],
   "source": [
    "num = r'\\+92 \\d{10}'"
   ]
  },
  {
   "cell_type": "code",
   "execution_count": 115,
   "id": "bc5ad54d",
   "metadata": {},
   "outputs": [
    {
     "data": {
      "text/plain": [
       "['+92 9898434343']"
      ]
     },
     "execution_count": 115,
     "metadata": {},
     "output_type": "execute_result"
    }
   ],
   "source": [
    "re.findall(num, str(text))"
   ]
  },
  {
   "cell_type": "code",
   "execution_count": null,
   "id": "16345a9c",
   "metadata": {},
   "outputs": [],
   "source": []
  },
  {
   "cell_type": "code",
   "execution_count": null,
   "id": "74d77820",
   "metadata": {},
   "outputs": [],
   "source": [
    "# # \n",
    "# variable\n",
    "# dataypes\n",
    "# condtion \n",
    "# loops\n",
    "\n",
    "# functions\n"
   ]
  },
  {
   "cell_type": "code",
   "execution_count": 50,
   "id": "f2f57ccd",
   "metadata": {},
   "outputs": [],
   "source": [
    "# Global variables\n",
    "ac_holder_name = \"\" \n",
    "account_number = \"\"\n",
    "balance = 0\n",
    "\n",
    "# Form to input user details\n",
    "def user_form():\n",
    "    global ac_holder_name, account_number, balance\n",
    "    ac_holder_name = input(\"Enter account holder's name: \") \n",
    "    account_number = input(\"Enter account number: \")\n",
    "    balance = 0\n",
    "    print(\"Form submitted.\")\n",
    "\n",
    "def account_type(classname):\n",
    "    global ac_holder_name, account_number, balance\n",
    "    account_type = \"current\"\n",
    "   \n",
    "def account_type(classname):\n",
    "    global ac_holder_name, account_number, balance\n",
    "    account_type = \"saving\"\n",
    "\n",
    "\n",
    "# Dictionary to store customer data\n",
    "customer = {}\n",
    "\n",
    "# Function to open account\n",
    "def account_open():\n",
    "    global customer, ac_holder_name, account_number, balance\n",
    "    customer[account_number] = {\n",
    "        \"name\": ac_holder_name,\n",
    "        \"balance\": balance\n",
    "    }\n",
    "    print(f\"Account for {ac_holder_name} opened successfully.\")\n",
    "\n",
    "# Function to deposit amount\n",
    "def deposit(amt):\n",
    "    global balance, customer, account_number\n",
    "    balance += amt\n",
    "    customer[account_number][\"balance\"] = balance\n",
    "    print(f\"Deposited {amt}. New balance: {balance}\")\n",
    "\n",
    "# Function to withdraw amount\n",
    "def withdraw(amt):\n",
    "    global balance, customer, account_number\n",
    "    if amt > balance:\n",
    "        print(\"Insufficient funds for withdrawal.\")\n",
    "    else:\n",
    "        balance -= amt\n",
    "        customer[account_number][\"balance\"] = balance\n",
    "        print(f\"Withdrew {amt}. New balance: {balance}\")\n",
    "\n",
    "# Function to check balance\n",
    "def balance_check():\n",
    "    global ac_holder_name, balance\n",
    "    print(f\"{ac_holder_name}'s Balance: {balance}\")\n"
   ]
  },
  {
   "cell_type": "code",
   "execution_count": 45,
   "id": "84b71eb5",
   "metadata": {},
   "outputs": [
    {
     "name": "stdout",
     "output_type": "stream",
     "text": [
      "Form submitted.\n"
     ]
    }
   ],
   "source": [
    "user_form()"
   ]
  },
  {
   "cell_type": "code",
   "execution_count": null,
   "id": "65babe0e",
   "metadata": {},
   "outputs": [
    {
     "name": "stdout",
     "output_type": "stream",
     "text": [
      "Account for  opened successfully.\n"
     ]
    }
   ],
   "source": [
    "# mager\n",
    "account_open()"
   ]
  },
  {
   "cell_type": "code",
   "execution_count": 34,
   "id": "34c8f531",
   "metadata": {},
   "outputs": [],
   "source": [
    "# user"
   ]
  },
  {
   "cell_type": "code",
   "execution_count": 47,
   "id": "1fc8ef9c",
   "metadata": {},
   "outputs": [
    {
     "name": "stdout",
     "output_type": "stream",
     "text": [
      "'s Balance: 0\n",
      "Deposited 1000. New balance: 1000\n"
     ]
    }
   ],
   "source": [
    "balance_check()\n",
    "deposit(1000)"
   ]
  },
  {
   "cell_type": "code",
   "execution_count": 48,
   "id": "d06eded5",
   "metadata": {},
   "outputs": [
    {
     "name": "stdout",
     "output_type": "stream",
     "text": [
      "Withdrew 500. New balance: 500\n"
     ]
    }
   ],
   "source": [
    "withdraw(500)"
   ]
  },
  {
   "cell_type": "code",
   "execution_count": 49,
   "id": "d7b83392",
   "metadata": {},
   "outputs": [
    {
     "name": "stdout",
     "output_type": "stream",
     "text": [
      "'s Balance: 500\n"
     ]
    }
   ],
   "source": [
    "balance_check()"
   ]
  },
  {
   "cell_type": "code",
   "execution_count": 51,
   "id": "65a0159f",
   "metadata": {},
   "outputs": [
    {
     "data": {
      "text/plain": [
       "5"
      ]
     },
     "execution_count": 51,
     "metadata": {},
     "output_type": "execute_result"
    }
   ],
   "source": [
    "5"
   ]
  },
  {
   "cell_type": "code",
   "execution_count": 52,
   "id": "13eb2f6e",
   "metadata": {},
   "outputs": [
    {
     "data": {
      "text/plain": [
       "int"
      ]
     },
     "execution_count": 52,
     "metadata": {},
     "output_type": "execute_result"
    }
   ],
   "source": [
    "type(5)"
   ]
  },
  {
   "cell_type": "code",
   "execution_count": 53,
   "id": "ce6455a3",
   "metadata": {},
   "outputs": [
    {
     "name": "stdout",
     "output_type": "stream",
     "text": [
      "<class 'int'>\n"
     ]
    }
   ],
   "source": [
    "print(type(5))"
   ]
  },
  {
   "cell_type": "code",
   "execution_count": null,
   "id": "86be0d22",
   "metadata": {},
   "outputs": [],
   "source": [
    "def f1():\n",
    "    c =4\n",
    "    print(c)\n",
    "\n",
    "def f2():\n",
    "    c =4\n",
    "    return \"hii\""
   ]
  },
  {
   "cell_type": "code",
   "execution_count": null,
   "id": "efab1fde",
   "metadata": {},
   "outputs": [
    {
     "ename": "NameError",
     "evalue": "name 'discounted_price' is not defined",
     "output_type": "error",
     "traceback": [
      "\u001b[31m---------------------------------------------------------------------------\u001b[39m",
      "\u001b[31mNameError\u001b[39m                                 Traceback (most recent call last)",
      "\u001b[36mCell\u001b[39m\u001b[36m \u001b[39m\u001b[32mIn[33]\u001b[39m\u001b[32m, line 7\u001b[39m\n\u001b[32m      3\u001b[39m     \u001b[38;5;66;03m# print(discounted_price)\u001b[39;00m\n\u001b[32m      5\u001b[39m     \u001b[38;5;28;01mreturn\u001b[39;00m discounted_price\n\u001b[32m----> \u001b[39m\u001b[32m7\u001b[39m \u001b[43mdiscounted_price\u001b[49m\n",
      "\u001b[31mNameError\u001b[39m: name 'discounted_price' is not defined"
     ]
    }
   ],
   "source": [
    "def cal_discount(price, discount):\n",
    "    discounted_price = (price * discount)/100\n",
    "    # print(discounted_price)\n",
    "\n",
    "    return discounted_price\n",
    "\n",
    "# discounted_price"
   ]
  },
  {
   "cell_type": "code",
   "execution_count": 32,
   "id": "2639a65a",
   "metadata": {},
   "outputs": [
    {
     "data": {
      "text/plain": [
       "80.0"
      ]
     },
     "execution_count": 32,
     "metadata": {},
     "output_type": "execute_result"
    }
   ],
   "source": [
    "cal_discount(400, 20)\n",
    "# print(\"hii\")"
   ]
  },
  {
   "cell_type": "code",
   "execution_count": 26,
   "id": "3b3efc3b",
   "metadata": {},
   "outputs": [
    {
     "data": {
      "text/plain": [
       "320"
      ]
     },
     "execution_count": 26,
     "metadata": {},
     "output_type": "execute_result"
    }
   ],
   "source": [
    "400 -80"
   ]
  },
  {
   "cell_type": "code",
   "execution_count": 27,
   "id": "b1ba3322",
   "metadata": {},
   "outputs": [],
   "source": [
    "dis = cal_discount(400, 20)"
   ]
  },
  {
   "cell_type": "code",
   "execution_count": 28,
   "id": "fab17c40",
   "metadata": {},
   "outputs": [
    {
     "data": {
      "text/plain": [
       "80.0"
      ]
     },
     "execution_count": 28,
     "metadata": {},
     "output_type": "execute_result"
    }
   ],
   "source": [
    "dis"
   ]
  },
  {
   "cell_type": "code",
   "execution_count": 30,
   "id": "dd38e20e",
   "metadata": {},
   "outputs": [
    {
     "data": {
      "text/plain": [
       "320.0"
      ]
     },
     "execution_count": 30,
     "metadata": {},
     "output_type": "execute_result"
    }
   ],
   "source": [
    "400 - dis\n",
    "400 - cal_discount(400, 20)"
   ]
  },
  {
   "cell_type": "code",
   "execution_count": 10,
   "id": "dcad82e1",
   "metadata": {},
   "outputs": [
    {
     "name": "stdout",
     "output_type": "stream",
     "text": [
      "4\n"
     ]
    },
    {
     "ename": "TypeError",
     "evalue": "unsupported operand type(s) for +: 'NoneType' and 'int'",
     "output_type": "error",
     "traceback": [
      "\u001b[31m---------------------------------------------------------------------------\u001b[39m",
      "\u001b[31mTypeError\u001b[39m                                 Traceback (most recent call last)",
      "\u001b[36mCell\u001b[39m\u001b[36m \u001b[39m\u001b[32mIn[10]\u001b[39m\u001b[32m, line 1\u001b[39m\n\u001b[32m----> \u001b[39m\u001b[32m1\u001b[39m \u001b[43mf1\u001b[49m\u001b[43m(\u001b[49m\u001b[43m)\u001b[49m\u001b[43m+\u001b[49m\u001b[32;43m5\u001b[39;49m\n",
      "\u001b[31mTypeError\u001b[39m: unsupported operand type(s) for +: 'NoneType' and 'int'"
     ]
    }
   ],
   "source": [
    "f1()+5"
   ]
  },
  {
   "cell_type": "code",
   "execution_count": 11,
   "id": "6ccdf666",
   "metadata": {},
   "outputs": [
    {
     "data": {
      "text/plain": [
       "9"
      ]
     },
     "execution_count": 11,
     "metadata": {},
     "output_type": "execute_result"
    }
   ],
   "source": [
    "f2()+5"
   ]
  },
  {
   "cell_type": "code",
   "execution_count": 5,
   "id": "3ff39ab7",
   "metadata": {},
   "outputs": [
    {
     "name": "stdout",
     "output_type": "stream",
     "text": [
      "Gfgfg\n"
     ]
    }
   ],
   "source": [
    "print(\"Gfgfg\")"
   ]
  },
  {
   "cell_type": "code",
   "execution_count": 6,
   "id": "e1d5f7d2",
   "metadata": {},
   "outputs": [
    {
     "ename": "SyntaxError",
     "evalue": "'return' outside function (3438313781.py, line 1)",
     "output_type": "error",
     "traceback": [
      "  \u001b[36mCell\u001b[39m\u001b[36m \u001b[39m\u001b[32mIn[6]\u001b[39m\u001b[32m, line 1\u001b[39m\n\u001b[31m    \u001b[39m\u001b[31mreturn\u001b[39m\n    ^\n\u001b[31mSyntaxError\u001b[39m\u001b[31m:\u001b[39m 'return' outside function\n"
     ]
    }
   ],
   "source": [
    "return"
   ]
  },
  {
   "cell_type": "code",
   "execution_count": 1,
   "id": "30f86589",
   "metadata": {},
   "outputs": [
    {
     "data": {
      "text/plain": [
       "120"
      ]
     },
     "execution_count": 1,
     "metadata": {},
     "output_type": "execute_result"
    }
   ],
   "source": [
    "n=5\n",
    "fact =1\n",
    "for i in range(1,n+1):\n",
    "    fact *=i\n",
    "\n",
    "fact"
   ]
  },
  {
   "cell_type": "code",
   "execution_count": null,
   "id": "e743deb8",
   "metadata": {},
   "outputs": [
    {
     "data": {
      "text/plain": [
       "120"
      ]
     },
     "execution_count": 11,
     "metadata": {},
     "output_type": "execute_result"
    }
   ],
   "source": [
    "def fact(n):\n",
    "    if n==1:\n",
    "        return n\n",
    "    \n",
    "    return n* fact(n-1)\n",
    "\n",
    "fact(5)"
   ]
  },
  {
   "cell_type": "code",
   "execution_count": 7,
   "id": "524c5400",
   "metadata": {},
   "outputs": [
    {
     "name": "stdout",
     "output_type": "stream",
     "text": [
      "75 not found\n"
     ]
    }
   ],
   "source": [
    "list1 = [1,23,56,60,755,770]\n",
    "element = 75\n",
    "found = False\n",
    "for i in list1:\n",
    "    # print(i)\n",
    "    if i==element:\n",
    "        found =True\n",
    "\n",
    "if found ==True:\n",
    "        print(element, \"element found\")\n",
    "else:\n",
    "        print(element, \"not found\")"
   ]
  },
  {
   "cell_type": "code",
   "execution_count": 20,
   "id": "fc500305",
   "metadata": {},
   "outputs": [
    {
     "data": {
      "text/plain": [
       "int"
      ]
     },
     "execution_count": 20,
     "metadata": {},
     "output_type": "execute_result"
    }
   ],
   "source": [
    "type(len(list1))"
   ]
  },
  {
   "cell_type": "code",
   "execution_count": 22,
   "id": "20edef19",
   "metadata": {},
   "outputs": [
    {
     "data": {
      "text/plain": [
       "int"
      ]
     },
     "execution_count": 22,
     "metadata": {},
     "output_type": "execute_result"
    }
   ],
   "source": [
    "length = len(list1)\n",
    "\n",
    "mid = length//2\n",
    "type(mid)"
   ]
  },
  {
   "cell_type": "code",
   "execution_count": null,
   "id": "dec2bb58",
   "metadata": {},
   "outputs": [],
   "source": [
    "length = len(list1)\n",
    "\n",
    "mid = length//2\n",
    "start = 0\n",
    "end = length-1\n",
    "\n",
    "while (start<=end):\n",
    "    mid = length//2\n",
    "    if element>= list1[mid]:\n",
    "        start = mid+1\n",
    "    if element<=list1[mid]:\n",
    "        end = mid-1\n",
    "    if element== list1[mid]:\n",
    "        print(\"found\")\n",
    "        break"
   ]
  },
  {
   "cell_type": "code",
   "execution_count": null,
   "id": "c13fc517",
   "metadata": {},
   "outputs": [
    {
     "name": "stdout",
     "output_type": "stream",
     "text": [
      "Found at index: 4\n"
     ]
    }
   ],
   "source": [
    "start = 0\n",
    "end = len(list1) - 1\n",
    "\n",
    "while start <= end:\n",
    "    mid = (start + end) // 2\n",
    "    if element == list1[mid]:\n",
    "        print(\"Found at index:\", mid)\n",
    "        break\n",
    "    elif element < list1[mid]:\n",
    "        end = mid - 1\n",
    "    else:\n",
    "        start = mid + 1"
   ]
  },
  {
   "cell_type": "code",
   "execution_count": 56,
   "id": "92bc29e6",
   "metadata": {},
   "outputs": [],
   "source": [
    "class Bank:\n",
    "    # constructor \n",
    "    def __init__(self):\n",
    "        self.a_name = \"\"\n",
    "        self.a_no =\"\"\n",
    "        self.balance =0\n",
    "        print(\"hii i am constructor\")\n",
    "\n",
    "    # Form to input user details\n",
    "    def user_form(self):\n",
    "        self.a_name = input(\"Enter account holder's name: \") \n",
    "        self.a_no = input(\"Enter account number: \")\n",
    "        print(\"Form submitted.\")\n",
    "\n",
    "    def account_open(self):\n",
    "        print(\"account open\")\n",
    "        print(f\"Account for {self.a_name} opened successfully.\")\n",
    "    # Function to deposit amount\n",
    "\n",
    "    def deposit(self,amt):\n",
    "        self.balance += amt\n",
    "        print(f\"Deposited {amt}. New balance: {self.balance}\")\n",
    "\n",
    "    # Function to withdraw amount\n",
    "    def withdraw(self, amt):\n",
    "        if amt > self.balance:\n",
    "            print(\"Insufficient funds for withdrawal.\")\n",
    "        else:\n",
    "            self.balance -= amt\n",
    "            print(f\"Withdrew {amt}. New balance: {self.balance}\")\n",
    "\n",
    "    # Function to check balance\n",
    "    def balance_check(self):\n",
    "        print(f\"{self.a_name}'s Balance: {self.balance}\")\n",
    "    \n",
    "    "
   ]
  },
  {
   "cell_type": "code",
   "execution_count": 57,
   "id": "1874ae15",
   "metadata": {},
   "outputs": [
    {
     "name": "stdout",
     "output_type": "stream",
     "text": [
      "hii i am constructor\n"
     ]
    }
   ],
   "source": [
    "# class call \n",
    "obj1 = Bank()"
   ]
  },
  {
   "cell_type": "code",
   "execution_count": 58,
   "id": "42adc84e",
   "metadata": {},
   "outputs": [
    {
     "name": "stdout",
     "output_type": "stream",
     "text": [
      "Form submitted.\n"
     ]
    }
   ],
   "source": [
    "obj1.user_form()"
   ]
  },
  {
   "cell_type": "code",
   "execution_count": 59,
   "id": "83529dc8",
   "metadata": {},
   "outputs": [
    {
     "name": "stdout",
     "output_type": "stream",
     "text": [
      "abc's Balance: 0\n",
      "Deposited 2000. New balance: 2000\n"
     ]
    }
   ],
   "source": [
    "obj1.balance_check()\n",
    "obj1.deposit(2000)"
   ]
  },
  {
   "cell_type": "code",
   "execution_count": 61,
   "id": "0a41df4d",
   "metadata": {},
   "outputs": [
    {
     "name": "stdout",
     "output_type": "stream",
     "text": [
      "Withdrew 500. New balance: 1500\n"
     ]
    }
   ],
   "source": [
    "obj1.withdraw(500)"
   ]
  },
  {
   "cell_type": "code",
   "execution_count": 60,
   "id": "f1a21647",
   "metadata": {},
   "outputs": [
    {
     "data": {
      "text/plain": [
       "'abc'"
      ]
     },
     "execution_count": 60,
     "metadata": {},
     "output_type": "execute_result"
    }
   ],
   "source": [
    "obj1.a_name"
   ]
  },
  {
   "cell_type": "code",
   "execution_count": null,
   "id": "3e9f0d88",
   "metadata": {},
   "outputs": [
    {
     "name": "stdout",
     "output_type": "stream",
     "text": [
      "hii i am constructor\n",
      "Form submitted.\n"
     ]
    }
   ],
   "source": [
    "obj2 = Bank()\n",
    "obj2.user_form()"
   ]
  },
  {
   "cell_type": "code",
   "execution_count": 70,
   "id": "322e3ba2",
   "metadata": {},
   "outputs": [],
   "source": [
    "class Bank:\n",
    "    def __init__(xyz):\n",
    "        xyz.a_name = \"\"\n",
    "        xyz.a_no =\"\"\n",
    "        xyz.balance =0\n",
    "        print(\"hii i am constructor\")\n",
    "\n",
    "    # Form to input user details\n",
    "    def user_form(xyz):\n",
    "        xyz.a_name = input(\"Enter account holder's name: \") \n",
    "        xyz.a_no = input(\"Enter account number: \")\n",
    "        print(\"Form submitted.\")\n",
    "\n",
    "    def account_open(xyz):\n",
    "        global ac_holder_name, account_number, balance\n",
    "        account_no=account_number\n",
    "    \n",
    "        \n",
    "        print(f\"Account for {ac_holder_name} opened successfully.\")\n",
    "    # Function to deposit amount\n",
    "    def deposit(xyz,amt):\n",
    "        global balance, customer, account_number\n",
    "        balance += amt\n",
    "        customer[account_number][\"balance\"] = balance\n",
    "        print(f\"Deposited {amt}. New balance: {balance}\")\n",
    "\n",
    "    # Function to withdraw amount\n",
    "    def withdraw(xyz, amt):\n",
    "        global balance, customer, account_number\n",
    "        if amt > balance:\n",
    "            print(\"Insufficient funds for withdrawal.\")\n",
    "        else:\n",
    "            balance -= amt\n",
    "            customer[account_number][\"balance\"] = balance\n",
    "            print(f\"Withdrew {amt}. New balance: {balance}\")\n",
    "\n",
    "    # Function to check balance\n",
    "    def balance_check(xyz):\n",
    "        global ac_holder_name, balance\n",
    "        print(f\"{ac_holder_name}'s Balance: {balance}\")\n"
   ]
  },
  {
   "cell_type": "code",
   "execution_count": null,
   "id": "01a4af1b",
   "metadata": {},
   "outputs": [],
   "source": [
    "   # Form to input user details\n",
    "    def user_form():\n",
    "        self.a_name = input(\"Enter account holder's name: \") \n",
    "        self.a_no = input(\"Enter account number: \")\n",
    "        print(\"Form submitted.\")"
   ]
  },
  {
   "cell_type": "code",
   "execution_count": null,
   "id": "23d30fab",
   "metadata": {},
   "outputs": [],
   "source": [
    "class Bank:\n",
    "    # constructor \n",
    "    def __init__(self):\n",
    "        self.a_name = \"\"\n",
    "        self.a_no =\"\"\n",
    "        self.__balance =0\n",
    "        print(\"hii i am constructor\")\n",
    "\n",
    "    def account_open(self,name, account_number, bal):\n",
    "        self.a_name= name\n",
    "        self.a_no = account_number\n",
    "        self.__balance = bal\n",
    "        print(\"account open\")\n",
    "        print(f\"Account for {self.a_name} opened successfully.\")\n",
    "    # Function to deposit amount\n",
    "    \n",
    "    # api (mager)\n",
    "    def setter(self,amt):\n",
    "        self.__balance =amt\n",
    "\n",
    "    def __deposit(self,amt):\n",
    "        self.__balance += amt\n",
    "        print(f\"Deposited {amt}. New balance: {self.__balance}\")\n",
    "\n",
    "    # Function to withdraw amount\n",
    "    def withdraw(self, amt):\n",
    "        if amt > self.__balance:\n",
    "            print(\"Insufficient funds for withdrawal.\")\n",
    "        else:\n",
    "            self.__balance -= amt\n",
    "            print(f\"Withdrew {amt}. New balance: {self.__balance}\")\n",
    "\n",
    "    # Function to check balance\n",
    "    def balance_check(self):\n",
    "        print(f\"{self.a_name}'s Balance: {self.__balance}\")\n",
    "    \n",
    "    "
   ]
  },
  {
   "cell_type": "code",
   "execution_count": 95,
   "id": "f8bfe7f7",
   "metadata": {},
   "outputs": [
    {
     "name": "stdout",
     "output_type": "stream",
     "text": [
      "hii i am constructor\n"
     ]
    }
   ],
   "source": [
    "amam = Bank()"
   ]
  },
  {
   "cell_type": "code",
   "execution_count": 96,
   "id": "6245d19c",
   "metadata": {},
   "outputs": [
    {
     "name": "stdout",
     "output_type": "stream",
     "text": [
      "account open\n",
      "Account for aman opened successfully.\n"
     ]
    }
   ],
   "source": [
    "amam.account_open(\"aman\",1234,500)"
   ]
  },
  {
   "cell_type": "code",
   "execution_count": 97,
   "id": "3efcf030",
   "metadata": {},
   "outputs": [
    {
     "name": "stdout",
     "output_type": "stream",
     "text": [
      "aman's Balance: 500\n"
     ]
    }
   ],
   "source": [
    "amam.balance_check()"
   ]
  },
  {
   "cell_type": "code",
   "execution_count": 98,
   "id": "bc961cb1",
   "metadata": {},
   "outputs": [],
   "source": [
    "amam.__balance =100000"
   ]
  },
  {
   "cell_type": "code",
   "execution_count": 101,
   "id": "1f55726b",
   "metadata": {},
   "outputs": [
    {
     "name": "stdout",
     "output_type": "stream",
     "text": [
      "aman's Balance: 599999\n"
     ]
    }
   ],
   "source": [
    "amam.balance_check()"
   ]
  },
  {
   "cell_type": "code",
   "execution_count": 100,
   "id": "5ad692fe",
   "metadata": {},
   "outputs": [],
   "source": [
    "amam.setter(599999)"
   ]
  },
  {
   "cell_type": "code",
   "execution_count": 92,
   "id": "8054b528",
   "metadata": {},
   "outputs": [
    {
     "ename": "AttributeError",
     "evalue": "'Bank' object has no attribute 'deposit'",
     "output_type": "error",
     "traceback": [
      "\u001b[31m---------------------------------------------------------------------------\u001b[39m",
      "\u001b[31mAttributeError\u001b[39m                            Traceback (most recent call last)",
      "\u001b[36mCell\u001b[39m\u001b[36m \u001b[39m\u001b[32mIn[92]\u001b[39m\u001b[32m, line 1\u001b[39m\n\u001b[32m----> \u001b[39m\u001b[32m1\u001b[39m \u001b[43mamam\u001b[49m\u001b[43m.\u001b[49m\u001b[43mdeposit\u001b[49m(\u001b[32m3000000\u001b[39m)\n",
      "\u001b[31mAttributeError\u001b[39m: 'Bank' object has no attribute 'deposit'"
     ]
    }
   ],
   "source": [
    "amam.deposit(3000000)"
   ]
  },
  {
   "cell_type": "code",
   "execution_count": 86,
   "id": "68ae1b57",
   "metadata": {},
   "outputs": [
    {
     "name": "stdout",
     "output_type": "stream",
     "text": [
      "hii i am constructor\n"
     ]
    }
   ],
   "source": [
    "raj = Bank()"
   ]
  },
  {
   "cell_type": "code",
   "execution_count": 61,
   "id": "80937473",
   "metadata": {},
   "outputs": [
    {
     "ename": "TypeError",
     "evalue": "Bank.account_open() takes 0 positional arguments but 1 was given",
     "output_type": "error",
     "traceback": [
      "\u001b[31m---------------------------------------------------------------------------\u001b[39m",
      "\u001b[31mTypeError\u001b[39m                                 Traceback (most recent call last)",
      "\u001b[36mCell\u001b[39m\u001b[36m \u001b[39m\u001b[32mIn[61]\u001b[39m\u001b[32m, line 1\u001b[39m\n\u001b[32m----> \u001b[39m\u001b[32m1\u001b[39m \u001b[43mraj\u001b[49m\u001b[43m.\u001b[49m\u001b[43maccount_open\u001b[49m\u001b[43m(\u001b[49m\u001b[43m)\u001b[49m\n",
      "\u001b[31mTypeError\u001b[39m: Bank.account_open() takes 0 positional arguments but 1 was given"
     ]
    }
   ],
   "source": [
    "raj.account_open()"
   ]
  },
  {
   "cell_type": "code",
   "execution_count": null,
   "id": "16142413",
   "metadata": {},
   "outputs": [],
   "source": [
    "# inheritance\n",
    "class Human:\n",
    "\n",
    "    def __init__(self, name, age, gender):\n",
    "        self.name = name\n",
    "        self.age = age\n",
    "        self.gender = gender\n",
    "\n",
    "class Student:\n",
    "    def __init__(self, name, age, gender, student_id):\n",
    "        self.name = name\n",
    "        self.age = age\n",
    "        self.gender = gender\n",
    "        self.student_id = student_id\n"
   ]
  },
  {
   "cell_type": "code",
   "execution_count": null,
   "id": "18808ba4",
   "metadata": {},
   "outputs": [],
   "source": [
    "# inheritance\n",
    "class Human:\n",
    "    def __init__(self, name, age, gender):\n",
    "        self.name = name\n",
    "        self.age = age\n",
    "        self.gender = gender\n",
    "\n",
    "    def introduce(self):\n",
    "        print(f\"i AM HUman and name is {self.name} \")\n",
    "\n",
    "\n",
    "\n",
    "class Student(Human):\n",
    "    def __init__(self, name, age, gender, student_id):\n",
    "        # Human.__init__(self, name, age, gender)\n",
    "        super().__init__(name, age, gender)\n",
    "        self.student_id = student_id\n",
    "\n",
    "    def show_id(self):\n",
    "        print(f\"HI, I am {self.name} and id is {self.student_id}\")\n",
    "\n",
    "    def introduce(self):\n",
    "        print(f\"i AM student and name is {self.name}\")\n",
    "    "
   ]
  },
  {
   "cell_type": "code",
   "execution_count": 140,
   "id": "4b12801f",
   "metadata": {},
   "outputs": [
    {
     "name": "stdout",
     "output_type": "stream",
     "text": [
      "i AM HUman and name is aman\n"
     ]
    }
   ],
   "source": [
    "h1 = Human(\"aman\",24,\"male\")\n",
    "h1.introduce()"
   ]
  },
  {
   "cell_type": "code",
   "execution_count": 141,
   "id": "37c3d4de",
   "metadata": {},
   "outputs": [
    {
     "name": "stdout",
     "output_type": "stream",
     "text": [
      "HI, I am raj and id is 1\n"
     ]
    }
   ],
   "source": [
    "s1 = Student(\"raj\",24, \"male\", 1)\n",
    "s1.show_id()"
   ]
  },
  {
   "cell_type": "code",
   "execution_count": 142,
   "id": "12835d1b",
   "metadata": {},
   "outputs": [
    {
     "name": "stdout",
     "output_type": "stream",
     "text": [
      "i AM student and name is raj\n"
     ]
    }
   ],
   "source": [
    "s1.introduce()"
   ]
  },
  {
   "cell_type": "code",
   "execution_count": null,
   "id": "61a8e9af",
   "metadata": {},
   "outputs": [],
   "source": [
    "class MyClass:\n",
    "    def __private_method(self):\n",
    "        print(\"This is a private method.\")\n",
    "\n",
    "    def public_method(self):\n",
    "        self.__private_method()\n",
    "\n",
    "obj = MyClass()\n",
    "obj.public_method()  # Works fine\n",
    "# obj.__private_method()  # Raises AttributeError\n"
   ]
  },
  {
   "cell_type": "code",
   "execution_count": null,
   "id": "61b624eb",
   "metadata": {},
   "outputs": [
    {
     "ename": "TypeError",
     "evalue": "Can't instantiate abstract class Hatchback without an implementation for abstract method 'printDetails'",
     "output_type": "error",
     "traceback": [
      "\u001b[31m---------------------------------------------------------------------------\u001b[39m",
      "\u001b[31mTypeError\u001b[39m                                 Traceback (most recent call last)",
      "\u001b[36mCell\u001b[39m\u001b[36m \u001b[39m\u001b[32mIn[146]\u001b[39m\u001b[32m, line 44\u001b[39m\n\u001b[32m     41\u001b[39m         \u001b[38;5;28mprint\u001b[39m(\u001b[33m\"\u001b[39m\u001b[33mAvailable\u001b[39m\u001b[33m\"\u001b[39m)\n\u001b[32m     43\u001b[39m \u001b[38;5;66;03m# Create an instance of the Hatchback class\u001b[39;00m\n\u001b[32m---> \u001b[39m\u001b[32m44\u001b[39m car1 = \u001b[43mHatchback\u001b[49m\u001b[43m(\u001b[49m\u001b[33;43m\"\u001b[39;49m\u001b[33;43mMaruti\u001b[39;49m\u001b[33;43m\"\u001b[39;49m\u001b[43m,\u001b[49m\u001b[43m \u001b[49m\u001b[33;43m\"\u001b[39;49m\u001b[33;43mAlto\u001b[39;49m\u001b[33;43m\"\u001b[39;49m\u001b[43m,\u001b[49m\u001b[43m \u001b[49m\u001b[33;43m\"\u001b[39;49m\u001b[33;43m2022\u001b[39;49m\u001b[33;43m\"\u001b[39;49m\u001b[43m)\u001b[49m\n\u001b[32m     46\u001b[39m \u001b[38;5;66;03m# Call methods\u001b[39;00m\n\u001b[32m     47\u001b[39m car1.printDetails()\n",
      "\u001b[31mTypeError\u001b[39m: Can't instantiate abstract class Hatchback without an implementation for abstract method 'printDetails'"
     ]
    }
   ],
   "source": [
    "# Import required modules\n",
    "from abc import ABC, abstractmethod\n",
    "\n",
    "# Create Abstract base class\n",
    "class Car(ABC):\n",
    "    def __init__(self, brand, model, year):\n",
    "        self.brand = brand\n",
    "        self.model = model\n",
    "        self.year = year\n",
    "    \n",
    "    # Create abstract method      \n",
    "    @abstractmethod\n",
    "    def printDetails(self):\n",
    "        pass\n",
    "  \n",
    "    # Create concrete method\n",
    "    def accelerate(self):\n",
    "        print(\"Speed up ...\")\n",
    "  \n",
    "    def break_applied(self):\n",
    "        print(\"Car stopped\")\n",
    "\n",
    "# Create a child class\n",
    "class Hatchback(Car):\n",
    "    def printDetails(self):\n",
    "        print(\"Brand:\", self.brand)\n",
    "        print(\"Model:\", self.model)\n",
    "        print(\"Year:\", self.year)\n",
    "  \n",
    "    def sunroof(self):\n",
    "        print(\"Not having this feature\")\n",
    "\n",
    "# Create a child class\n",
    "class Suv(Car):\n",
    "    def printDetails(self):\n",
    "        print(\"Brand:\", self.brand)\n",
    "        print(\"Model:\", self.model)\n",
    "        print(\"Year:\", self.year)\n",
    "  \n",
    "    def sunroof(self):\n",
    "        print(\"Available\")\n",
    "\n",
    "# Create an instance of the Hatchback class\n",
    "car1 = Hatchback(\"Maruti\", \"Alto\", \"2022\")\n",
    "\n",
    "# Call methods\n",
    "car1.printDetails()\n",
    "car1.accelerate()\n",
    "car1.sunroof()\n"
   ]
  },
  {
   "cell_type": "code",
   "execution_count": null,
   "id": "1ab73536",
   "metadata": {},
   "outputs": [
    {
     "name": "stdout",
     "output_type": "stream",
     "text": [
      "Requirement already satisfied: pandas in c:\\users\\hp\\.conda\\envs\\aienv\\lib\\site-packages (2.2.3)\n",
      "Requirement already satisfied: numpy>=1.26.0 in c:\\users\\hp\\.conda\\envs\\aienv\\lib\\site-packages (from pandas) (2.1.3)\n",
      "Requirement already satisfied: python-dateutil>=2.8.2 in c:\\users\\hp\\appdata\\roaming\\python\\python312\\site-packages (from pandas) (2.9.0.post0)\n",
      "Requirement already satisfied: pytz>=2020.1 in c:\\users\\hp\\.conda\\envs\\aienv\\lib\\site-packages (from pandas) (2025.2)\n",
      "Requirement already satisfied: tzdata>=2022.7 in c:\\users\\hp\\.conda\\envs\\aienv\\lib\\site-packages (from pandas) (2025.2)\n",
      "Requirement already satisfied: six>=1.5 in c:\\users\\hp\\appdata\\roaming\\python\\python312\\site-packages (from python-dateutil>=2.8.2->pandas) (1.17.0)\n",
      "Note: you may need to restart the kernel to use updated packages.\n"
     ]
    }
   ],
   "source": [
    "# data analysis libraries\n",
    "pip install numpy\n",
    "pip install pandas\n",
    "pip install matplotlib\n",
    "pip install seaborn\n",
    "\n",
    "# ML libraries for"
   ]
  },
  {
   "cell_type": "code",
   "execution_count": 149,
   "id": "edbe38d1",
   "metadata": {},
   "outputs": [],
   "source": [
    "import numpy"
   ]
  },
  {
   "cell_type": "code",
   "execution_count": 152,
   "id": "f2e1e22b",
   "metadata": {},
   "outputs": [
    {
     "data": {
      "text/plain": [
       "'2.1.3'"
      ]
     },
     "execution_count": 152,
     "metadata": {},
     "output_type": "execute_result"
    }
   ],
   "source": [
    "numpy.__version__\n"
   ]
  },
  {
   "cell_type": "code",
   "execution_count": null,
   "id": "1712660f",
   "metadata": {},
   "outputs": [],
   "source": []
  }
 ],
 "metadata": {
  "kernelspec": {
   "display_name": "aienv",
   "language": "python",
   "name": "python3"
  },
  "language_info": {
   "codemirror_mode": {
    "name": "ipython",
    "version": 3
   },
   "file_extension": ".py",
   "mimetype": "text/x-python",
   "name": "python",
   "nbconvert_exporter": "python",
   "pygments_lexer": "ipython3",
   "version": "3.12.9"
  }
 },
 "nbformat": 4,
 "nbformat_minor": 5
}
