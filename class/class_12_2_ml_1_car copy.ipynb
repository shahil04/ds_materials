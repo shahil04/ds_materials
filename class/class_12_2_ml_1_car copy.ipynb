{
 "cells": [
  {
   "cell_type": "markdown",
   "id": "08d1c906",
   "metadata": {},
   "source": [
    "## EDA and Preprocessing - AUTOMOBILE CARS\n",
    "\n",
    "1. Basic EDA - Info, shape\n",
    "\n",
    "2. Handling Missing Values\n",
    "\n",
    "3. Handling Outliers\n",
    "\n",
    "4. Handling Skewness\n",
    "\n",
    "5. Categorical Data Encoding\n",
    "\n",
    "6. Data Normalization or Scaling\n",
    "\n",
    "6. Feature Engineering\n",
    "\n",
    "\n",
    "Next ---> Model selection --> Supervised LEarning --> regression (price predict ) --> Linear Regression(y = mx+c)\n",
    "sklean  library --> ML model -->\n",
    "\n",
    "pip install scikit-learn"
   ]
  },
  {
   "cell_type": "code",
   "execution_count": null,
   "id": "b126f246",
   "metadata": {},
   "outputs": [],
   "source": [
    "# import libraries\n",
    "import pandas as pd\n",
    "import matplotlib.pyplot as plt\n",
    "import seaborn as sns"
   ]
  },
  {
   "cell_type": "code",
   "execution_count": null,
   "id": "362255da",
   "metadata": {},
   "outputs": [],
   "source": []
  },
  {
   "cell_type": "code",
   "execution_count": null,
   "id": "feb89cd3",
   "metadata": {},
   "outputs": [],
   "source": [
    "# data import\n",
    "df = pd.read_csv(r\"Car_sales.csv\")\n",
    "df.head(10)"
   ]
  },
  {
   "cell_type": "code",
   "execution_count": null,
   "id": "03e25324",
   "metadata": {},
   "outputs": [],
   "source": [
    "# shape\n",
    "df.shape\n",
    "# dimensions\n",
    "df.ndim\n",
    "# # number of datas\n",
    "df.size\n",
    "\n",
    "# # basic info\n",
    "df.info()\n",
    "# # column names\n",
    "df.columns\n",
    "# # data type \n",
    "df.dtypes\n",
    "\n"
   ]
  },
  {
   "cell_type": "code",
   "execution_count": null,
   "id": "33c66838",
   "metadata": {},
   "outputs": [],
   "source": [
    "# # basic statical summary\n",
    "df.describe()"
   ]
  },
  {
   "cell_type": "code",
   "execution_count": null,
   "id": "71b76f2e",
   "metadata": {},
   "outputs": [],
   "source": [
    "# # basic statical summary\n",
    "df.describe(include =\"O\")\n",
    "# # numerical and object\n",
    "# # null values check"
   ]
  },
  {
   "cell_type": "markdown",
   "id": "6d737803",
   "metadata": {},
   "source": [
    "* Insights\n",
    " - "
   ]
  },
  {
   "cell_type": "code",
   "execution_count": null,
   "id": "97ac3947",
   "metadata": {},
   "outputs": [],
   "source": [
    "type(df)"
   ]
  },
  {
   "cell_type": "code",
   "execution_count": null,
   "id": "b330a546",
   "metadata": {},
   "outputs": [],
   "source": [
    "df.dtypes"
   ]
  },
  {
   "cell_type": "markdown",
   "id": "0e32e1a3",
   "metadata": {},
   "source": [
    "### Duplicate"
   ]
  },
  {
   "cell_type": "code",
   "execution_count": null,
   "id": "95acee87",
   "metadata": {},
   "outputs": [],
   "source": [
    "# check duplicate value\n",
    "df.duplicated().sum()"
   ]
  },
  {
   "cell_type": "code",
   "execution_count": null,
   "id": "be985e79",
   "metadata": {},
   "outputs": [],
   "source": [
    "# droped\n",
    "df.drop_duplicates(inplace = True)\n"
   ]
  },
  {
   "cell_type": "markdown",
   "id": "64fe6508",
   "metadata": {},
   "source": [
    "### Null value check"
   ]
  },
  {
   "cell_type": "code",
   "execution_count": null,
   "id": "3cf02a0f",
   "metadata": {},
   "outputs": [],
   "source": [
    "# null check \n",
    "df.isnull().sum()"
   ]
  },
  {
   "cell_type": "markdown",
   "id": "8b76461d",
   "metadata": {},
   "source": [
    "#### handle null value\n",
    "\n",
    "1. replace\n",
    "2. drop\n"
   ]
  },
  {
   "cell_type": "code",
   "execution_count": null,
   "id": "632eba13",
   "metadata": {},
   "outputs": [],
   "source": [
    "df[\"Price_in_thousands\"].isnull().sum()"
   ]
  },
  {
   "cell_type": "code",
   "execution_count": null,
   "id": "e70894b0",
   "metadata": {},
   "outputs": [],
   "source": [
    "df[\"Price_in_thousands\"].mean()"
   ]
  },
  {
   "cell_type": "code",
   "execution_count": null,
   "id": "009ac050",
   "metadata": {},
   "outputs": [],
   "source": [
    "df[\"Price_in_thousands\"].fillna(df[\"Price_in_thousands\"].mean())"
   ]
  },
  {
   "cell_type": "code",
   "execution_count": null,
   "id": "56a07de9",
   "metadata": {},
   "outputs": [],
   "source": [
    "# replace\n",
    "df[\"Price_in_thousands\"] =  df[\"Price_in_thousands\"].fillna(df[\"Price_in_thousands\"].mean())\n",
    "# delete"
   ]
  },
  {
   "cell_type": "code",
   "execution_count": null,
   "id": "e972a008",
   "metadata": {},
   "outputs": [],
   "source": [
    "df[\"Price_in_thousands\"].isnull().sum()"
   ]
  },
  {
   "cell_type": "code",
   "execution_count": null,
   "id": "eedb398e",
   "metadata": {},
   "outputs": [],
   "source": [
    "# null check \n",
    "df.isnull().sum()"
   ]
  },
  {
   "cell_type": "code",
   "execution_count": null,
   "id": "0faf8017",
   "metadata": {},
   "outputs": [],
   "source": [
    "df[\"__year_resale_value\"] =  df[\"__year_resale_value\"].fillna(df[\"__year_resale_value\"].mean())\n",
    "# delete"
   ]
  },
  {
   "cell_type": "code",
   "execution_count": null,
   "id": "2cec419b",
   "metadata": {},
   "outputs": [],
   "source": [
    "\n",
    "j=\"__year_resale_value\"\n",
    "\n",
    "# replace\n",
    "df[j] =  df[j].fillna(df[j].mean())\n",
    "\n"
   ]
  },
  {
   "cell_type": "code",
   "execution_count": null,
   "id": "e3c0eae1",
   "metadata": {},
   "outputs": [],
   "source": [
    "j=\"Manufacturer\"\n",
    "if df[j].dtype ==\"O\":\n",
    "    print(\"obj\")\n",
    "else:\n",
    "    print(df[j].mean())"
   ]
  },
  {
   "cell_type": "code",
   "execution_count": null,
   "id": "1e6462de",
   "metadata": {},
   "outputs": [],
   "source": [
    "for  i in df.columns:\n",
    "    print(i)\n",
    "    "
   ]
  },
  {
   "cell_type": "code",
   "execution_count": null,
   "id": "e6c77f46",
   "metadata": {},
   "outputs": [],
   "source": [
    "for  i in df.columns:\n",
    "    print(i)\n",
    "\n",
    "    if df[i].dtype ==\"O\":\n",
    "        print(\"obi\")\n",
    "    else:\n",
    "        print(df[i].mean())\n",
    "        # replace\n",
    "        df[i] =  df[i].fillna(df[i].mean())"
   ]
  },
  {
   "cell_type": "code",
   "execution_count": null,
   "id": "b5cf2864",
   "metadata": {},
   "outputs": [],
   "source": [
    "# null check \n",
    "df.isnull().sum()"
   ]
  },
  {
   "cell_type": "code",
   "execution_count": null,
   "id": "c7b051d7",
   "metadata": {},
   "outputs": [],
   "source": [
    "df.head()"
   ]
  },
  {
   "cell_type": "markdown",
   "id": "c069757f",
   "metadata": {},
   "source": [
    "## 3. Handling Outliers"
   ]
  },
  {
   "cell_type": "code",
   "execution_count": null,
   "id": "8824f06f",
   "metadata": {},
   "outputs": [],
   "source": [
    "df"
   ]
  },
  {
   "cell_type": "code",
   "execution_count": null,
   "id": "0d01f855",
   "metadata": {},
   "outputs": [],
   "source": [
    "plt.boxplot(df[\"__year_resale_value\"])"
   ]
  },
  {
   "cell_type": "code",
   "execution_count": null,
   "id": "9f270708",
   "metadata": {},
   "outputs": [],
   "source": [
    "df[df[\"__year_resale_value\"]>60]"
   ]
  },
  {
   "cell_type": "code",
   "execution_count": null,
   "id": "236f2fb8",
   "metadata": {},
   "outputs": [],
   "source": [
    "df.shape"
   ]
  },
  {
   "cell_type": "code",
   "execution_count": null,
   "id": "155d5855",
   "metadata": {},
   "outputs": [],
   "source": [
    "df = df[df[\"__year_resale_value\"]<60]"
   ]
  },
  {
   "cell_type": "code",
   "execution_count": null,
   "id": "b49a1817",
   "metadata": {},
   "outputs": [],
   "source": [
    "df.shape"
   ]
  },
  {
   "cell_type": "code",
   "execution_count": null,
   "metadata": {},
   "outputs": [],
   "source": [
    "for  i in df.columns:\n",
    "    print(i)\n",
    "\n",
    "    if df[i].dtype ==\"O\":\n",
    "        print(\"obi\")\n",
    "    else:\n",
    "        # replace\n",
    "        plt.boxplot(df[i])\n",
    "        plt.show()"
   ]
  },
  {
   "cell_type": "code",
   "execution_count": null,
   "id": "caecfe15",
   "metadata": {},
   "outputs": [],
   "source": []
  },
  {
   "cell_type": "markdown",
   "id": "6649dbbe",
   "metadata": {},
   "source": [
    "\n",
    "\n",
    "4. Handling Skewness\n",
    "5. Data Normalization or Scaling\n",
    "\n",
    "6. Categorical Data Encoding\n",
    "\n",
    "6. Feature Engineering\n",
    "\n",
    "\n",
    "Next ---> Model selection --> Supervised LEarning --> regression (price predict ) --> Linear Regression(y = mx+c)\n",
    "sklean  library --> ML model -->\n",
    "\n",
    "pip install scikit-learn"
   ]
  }
 ],
 "metadata": {
  "kernelspec": {
   "display_name": "aienv",
   "language": "python",
   "name": "python3"
  },
  "language_info": {
   "codemirror_mode": {
    "name": "ipython",
    "version": 3
   },
   "file_extension": ".py",
   "mimetype": "text/x-python",
   "name": "python",
   "nbconvert_exporter": "python",
   "pygments_lexer": "ipython3",
   "version": "3.12.9"
  }
 },
 "nbformat": 4,
 "nbformat_minor": 5
}
