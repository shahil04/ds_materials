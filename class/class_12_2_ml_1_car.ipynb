{
 "cells": [
  {
   "cell_type": "markdown",
   "id": "08d1c906",
   "metadata": {},
   "source": [
    "## EDA and Preprocessing - AUTOMOBILE CARS\n",
    "\n",
    "Basic EDA - Info, shape\n",
    "\n",
    "Handling Missing Values\n",
    "\n",
    "Handling Outliers\n",
    "\n",
    "Handling Skewness\n",
    "\n",
    "Categorical Data Encoding\n",
    "\n",
    "Data Normalization or Scaling\n",
    "\n",
    "Feature Engineering"
   ]
  },
  {
   "cell_type": "code",
   "execution_count": null,
   "id": "b126f246",
   "metadata": {},
   "outputs": [],
   "source": [
    "# import libraries\n",
    "import pandas as pd\n",
    "import matplotlib.pyplot as plt\n"
   ]
  },
  {
   "cell_type": "code",
   "execution_count": null,
   "id": "362255da",
   "metadata": {},
   "outputs": [],
   "source": []
  },
  {
   "cell_type": "code",
   "execution_count": null,
   "id": "feb89cd3",
   "metadata": {},
   "outputs": [],
   "source": [
    "# data import\n",
    "df = pd.read_csv(r\"C:\\Users\\hp\\Documents\\ds\\ds_materials\\8.0_Machine Learning\\ml_class\\Car_sales.csv\")\n",
    "df.head(10)"
   ]
  },
  {
   "cell_type": "code",
   "execution_count": null,
   "id": "03e25324",
   "metadata": {},
   "outputs": [],
   "source": [
    "# shape\n",
    "df.shape\n",
    "# dimensions\n",
    "df.ndim\n",
    "# number of datas\n",
    "df.size\n",
    "\n",
    "# basic info\n",
    "df.info()\n",
    "# column names\n",
    "df.columns\n",
    "# data type \n",
    "df.dtypes\n",
    "# basic statical summary\n",
    "df.describe()\n",
    "# numerical and object\n",
    "# null values check\n"
   ]
  },
  {
   "cell_type": "markdown",
   "id": "6d737803",
   "metadata": {},
   "source": [
    "* Insights\n",
    " - "
   ]
  },
  {
   "cell_type": "code",
   "execution_count": null,
   "id": "97ac3947",
   "metadata": {},
   "outputs": [],
   "source": [
    "type(df)"
   ]
  },
  {
   "cell_type": "code",
   "execution_count": null,
   "id": "b330a546",
   "metadata": {},
   "outputs": [],
   "source": [
    "df.dtypes"
   ]
  },
  {
   "cell_type": "code",
   "execution_count": null,
   "id": "95acee87",
   "metadata": {},
   "outputs": [],
   "source": [
    "# check duplicate value\n",
    "df.duplicated().sum()\n",
    "\n",
    "# droped\n",
    "df.drop_duplicates(inplace = True)\n"
   ]
  },
  {
   "cell_type": "code",
   "execution_count": null,
   "id": "3cf02a0f",
   "metadata": {},
   "outputs": [],
   "source": [
    "# null check \n",
    "df.isnull().sum()"
   ]
  },
  {
   "cell_type": "code",
   "execution_count": null,
   "id": "56a07de9",
   "metadata": {},
   "outputs": [],
   "source": [
    "df[\"Price_in_thousands\"].isnull().sum()\n",
    "df[\"Price_in_thousands\"].mean()\n",
    "\n",
    "# replace\n",
    "df[\"Price_in_thousands\"] =  df[\"Price_in_thousands\"].fillna(df[\"Price_in_thousands\"].mean())\n",
    "# delete"
   ]
  },
  {
   "cell_type": "code",
   "execution_count": null,
   "id": "e972a008",
   "metadata": {},
   "outputs": [],
   "source": [
    "df[\"Price_in_thousands\"].isnull().sum()"
   ]
  },
  {
   "cell_type": "code",
   "execution_count": null,
   "id": "eedb398e",
   "metadata": {},
   "outputs": [],
   "source": [
    "# null check \n",
    "df.isnull().sum()"
   ]
  },
  {
   "cell_type": "code",
   "execution_count": null,
   "id": "0faf8017",
   "metadata": {},
   "outputs": [],
   "source": [
    "df[\"__year_resale_value\"].isnull().sum()\n",
    "df[\"__year_resale_value\"].mean()\n",
    "\n",
    "j=\"__year_resale_value\"\n",
    "\n",
    "# replace\n",
    "df[j] =  df[j].fillna(df[j].mean())\n",
    "\n",
    "df[\"__year_resale_value\"] =  df[\"__year_resale_value\"].fillna(df[\"__year_resale_value\"].mean())\n",
    "# delete"
   ]
  },
  {
   "cell_type": "code",
   "execution_count": null,
   "id": "b5cf2864",
   "metadata": {},
   "outputs": [],
   "source": [
    "# null check \n",
    "df.isnull().sum()"
   ]
  },
  {
   "cell_type": "code",
   "execution_count": null,
   "id": "c7b051d7",
   "metadata": {},
   "outputs": [],
   "source": [
    "df.head()"
   ]
  },
  {
   "cell_type": "code",
   "execution_count": null,
   "id": "a0d08a68",
   "metadata": {},
   "outputs": [],
   "source": [
    "df[\"Horsepower\"].dtypes"
   ]
  },
  {
   "cell_type": "code",
   "execution_count": null,
   "id": "d680e953",
   "metadata": {},
   "outputs": [],
   "source": [
    "for i in df.columns:\n",
    "\n",
    "    if df[i].dtypes !=\"object\":\n",
    "        # replace\n",
    "        df[i] =  df[i].fillna(df[i].mean())\n",
    "        \n",
    "        print(i, \"--->\",df[i].dtypes )"
   ]
  },
  {
   "cell_type": "code",
   "execution_count": null,
   "id": "8766a337",
   "metadata": {},
   "outputs": [],
   "source": [
    "# replace null values\n",
    "for i in df.columns:\n",
    "    if df[i].dtypes !=\"object\":\n",
    "        # replace\n",
    "        df[i] =  df[i].fillna(df[i].mean())\n",
    "        \n",
    "        print(i, \"--->\",df[i].dtypes )"
   ]
  },
  {
   "cell_type": "code",
   "execution_count": null,
   "id": "1b1654e6",
   "metadata": {},
   "outputs": [],
   "source": [
    "# null check \n",
    "df.isnull().sum()"
   ]
  },
  {
   "cell_type": "code",
   "execution_count": null,
   "id": "5be04cae",
   "metadata": {},
   "outputs": [],
   "source": [
    "df[\"Manufacturer\"].mode()[0]"
   ]
  },
  {
   "cell_type": "code",
   "execution_count": null,
   "id": "6d82b02f",
   "metadata": {},
   "outputs": [],
   "source": [
    "# save the clean data \n",
    "df.to_csv(\"clean_car_data.csv\")"
   ]
  },
  {
   "cell_type": "code",
   "execution_count": null,
   "id": "13dbde74",
   "metadata": {},
   "outputs": [],
   "source": [
    "# load the data \n",
    "df1 = pd.read_csv(\"clean_car_data.csv\")"
   ]
  },
  {
   "cell_type": "code",
   "execution_count": null,
   "id": "4194579a",
   "metadata": {},
   "outputs": [],
   "source": [
    "df1.head()"
   ]
  },
  {
   "cell_type": "markdown",
   "id": "b228d73e",
   "metadata": {},
   "source": [
    "## Analysis of data  \n",
    "\n",
    " - uni-variant analysis --> single column analysis\n",
    " - bi-variant analysis --> 2 0r more than 2 column analysis \n",
    " "
   ]
  },
  {
   "cell_type": "code",
   "execution_count": null,
   "id": "77d1c622",
   "metadata": {},
   "outputs": [],
   "source": [
    "# count the number of sale in each manufactuer\n",
    "df[\"Manufacturer\"].value_counts()"
   ]
  },
  {
   "cell_type": "code",
   "execution_count": null,
   "id": "cd48721b",
   "metadata": {},
   "outputs": [],
   "source": [
    "plt.figure(figsize=(15,6))\n",
    "plt.barh(df[\"Manufacturer\"].value_counts().index , df[\"Manufacturer\"].value_counts().values)"
   ]
  },
  {
   "cell_type": "code",
   "execution_count": null,
   "id": "27fe688e",
   "metadata": {},
   "outputs": [],
   "source": [
    "df.head()"
   ]
  },
  {
   "cell_type": "code",
   "execution_count": null,
   "id": "e231d0bf",
   "metadata": {},
   "outputs": [],
   "source": [
    "import seaborn as sns\n",
    "sns.histplot(x=df[\"__year_resale_value\"],kde=True)"
   ]
  },
  {
   "cell_type": "markdown",
   "id": "1eeabf7b",
   "metadata": {},
   "source": [
    "* Insight\n",
    " - most car  salesin resale value approx 19k dollor.\n",
    " - highest resale price in approx 68k $.\n",
    " - most car resale value in range of 10k to 20k $.\n",
    " "
   ]
  },
  {
   "cell_type": "code",
   "execution_count": null,
   "id": "4c47b1e5",
   "metadata": {},
   "outputs": [],
   "source": [
    "# sales_in thousands\n",
    "sns.histplot(df[\"Sales_in_thousands\"], kde=True)"
   ]
  },
  {
   "cell_type": "code",
   "execution_count": null,
   "id": "396b8f52",
   "metadata": {},
   "outputs": [],
   "source": [
    "# outliers\n",
    "# vis boxplot, villion plot\n",
    "sns.boxplot(x=df[\"Sales_in_thousands\"])"
   ]
  },
  {
   "cell_type": "code",
   "execution_count": null,
   "id": "922a4837",
   "metadata": {},
   "outputs": [],
   "source": [
    "# remove the outliers\n",
    "df[df[\"Sales_in_thousands\"]>500]"
   ]
  },
  {
   "cell_type": "code",
   "execution_count": null,
   "id": "dd5e0f3a",
   "metadata": {},
   "outputs": [],
   "source": [
    "df[df[\"Sales_in_thousands\"]<500]"
   ]
  },
  {
   "cell_type": "code",
   "execution_count": null,
   "id": "d5af159c",
   "metadata": {},
   "outputs": [],
   "source": [
    "# remove the outliers\n",
    "df = df[df[\"Sales_in_thousands\"]<500]"
   ]
  },
  {
   "cell_type": "code",
   "execution_count": null,
   "id": "5f8d07fd",
   "metadata": {},
   "outputs": [],
   "source": [
    "len(df)"
   ]
  },
  {
   "cell_type": "code",
   "execution_count": null,
   "id": "ed9beb64",
   "metadata": {},
   "outputs": [],
   "source": [
    "# df.drop(\"sales_in_thousand\",axis=0, index=56)"
   ]
  },
  {
   "cell_type": "markdown",
   "id": "54429cb5",
   "metadata": {},
   "source": [
    "#### REMOVE  OUTLIER"
   ]
  },
  {
   "cell_type": "code",
   "execution_count": null,
   "id": "82f8dbf3",
   "metadata": {},
   "outputs": [],
   "source": [
    "# load the data \n",
    "df1 = pd.read_csv(\"clean_car_data.csv\")\n",
    "df1\n",
    "import matplotlib.pyplot as plt\n",
    "import seaborn as sns"
   ]
  },
  {
   "cell_type": "code",
   "execution_count": null,
   "id": "37f34e98",
   "metadata": {},
   "outputs": [],
   "source": [
    "# outliers\n",
    "# vis boxplot, villion plot\n",
    "sns.boxplot(x=df1[\"Sales_in_thousands\"])"
   ]
  },
  {
   "cell_type": "code",
   "execution_count": null,
   "id": "54442f57",
   "metadata": {},
   "outputs": [],
   "source": [
    "# remove the outliers\n",
    "df1 = df1[df1[\"Sales_in_thousands\"]<500]"
   ]
  },
  {
   "cell_type": "code",
   "execution_count": null,
   "id": "5b7c4022",
   "metadata": {},
   "outputs": [],
   "source": [
    "for  i in df1.columns:\n",
    "    sns.boxplot(x=df1[i])\n",
    "    plt.show()"
   ]
  },
  {
   "cell_type": "code",
   "execution_count": null,
   "id": "34082641",
   "metadata": {},
   "outputs": [],
   "source": [
    "df1 = df1[df1[\"Fuel_efficiency\"]<40]"
   ]
  },
  {
   "cell_type": "code",
   "execution_count": null,
   "id": "6c1e0fb6",
   "metadata": {},
   "outputs": [],
   "source": [
    "df1 = df1[df1[\"Power_perf_factor\"]<170]"
   ]
  },
  {
   "cell_type": "markdown",
   "id": "e5af612e",
   "metadata": {},
   "source": [
    "\n",
    "Categorical Data Encoding\n",
    "\n",
    "Data Normalization or Scaling\n",
    "\n",
    "Feature Engineering"
   ]
  },
  {
   "cell_type": "markdown",
   "id": "19d09381",
   "metadata": {},
   "source": [
    "### Handling Skewness\n"
   ]
  },
  {
   "cell_type": "code",
   "execution_count": null,
   "id": "d7b2cc5b",
   "metadata": {},
   "outputs": [],
   "source": [
    "# check the skewness\n",
    "df[\"Sales_in_thousands\"].skew()\n",
    "\n",
    "sns.histplot(df[\"Sales_in_thousands\"],kde=True, label =df[\"Sales_in_thousands\"].skew())\n",
    "plt.legend()\n",
    "plt.show()\n"
   ]
  },
  {
   "cell_type": "code",
   "execution_count": null,
   "id": "7a727ec6",
   "metadata": {},
   "outputs": [],
   "source": [
    "df1.drop(\"Unnamed: 0\",axis=1,inplace=True)"
   ]
  },
  {
   "cell_type": "code",
   "execution_count": null,
   "id": "10a185d7",
   "metadata": {},
   "outputs": [],
   "source": [
    "for  i in df1.columns:\n",
    "    if df1[i].dtypes !=\"object\":\n",
    "        print(i) \n",
    "        sns.histplot(df[i],kde=True, label =df[i].skew())\n",
    "        plt.legend()\n",
    "        plt.show()"
   ]
  },
  {
   "cell_type": "code",
   "execution_count": null,
   "id": "796c0152",
   "metadata": {},
   "outputs": [],
   "source": [
    "# To handle the skew using transformations\n",
    "\n",
    "\n",
    "# check the skewness\n",
    "df[\"Sales_in_thousands\"].skew()\n",
    "\n",
    "sns.histplot(df[\"Sales_in_thousands\"],kde=True, label =df[\"Sales_in_thousands\"].skew())\n",
    "plt.legend()\n",
    "plt.show()"
   ]
  },
  {
   "cell_type": "code",
   "execution_count": null,
   "id": "57d829a4",
   "metadata": {},
   "outputs": [],
   "source": [
    "# transform the data \n",
    "import numpy as np \n",
    "d = np.log(df1[\"Sales_in_thousands\"])\n"
   ]
  },
  {
   "cell_type": "code",
   "execution_count": null,
   "id": "1d9c89bc",
   "metadata": {},
   "outputs": [],
   "source": [
    "# 1. sqrt \n",
    "# 2. log\n",
    "# https://machinelearningmastery.com/skewness-be-gone-transformative-tricks-for-data-scientists/\n",
    "# for box-cox use --> from scipy.stats import boxcox, yeojohnson\n",
    "# 3. Box-Cox Transformation\n",
    "# 4. Yeo-Johnson Transformation"
   ]
  },
  {
   "cell_type": "code",
   "execution_count": null,
   "id": "ac0c1ad9",
   "metadata": {},
   "outputs": [],
   "source": [
    "sns.histplot(d, kde=True, label =d.skew())\n",
    "plt.legend()\n",
    "plt.show()"
   ]
  },
  {
   "cell_type": "code",
   "execution_count": null,
   "id": "3dbba511",
   "metadata": {},
   "outputs": [],
   "source": [
    "df1[\"Sales_in_thousands\"] = d\n"
   ]
  },
  {
   "cell_type": "code",
   "execution_count": null,
   "id": "39d396c4",
   "metadata": {},
   "outputs": [],
   "source": [
    "# for 1 column reduce the skewness \n",
    "i =\"Sales_in_thousands\"\n",
    "\n",
    "plt.subplot(1,2,1)\n",
    "sns.histplot(df[i],kde=True, label =df[i].skew())\n",
    "\n",
    "plt.subplot(1,2,2)\n",
    "sns.histplot(np.log(df[i]),kde=True, label =np.log(df[i]).skew())\n",
    "plt.legend()\n",
    "plt.show()"
   ]
  },
  {
   "cell_type": "code",
   "execution_count": null,
   "id": "d908c1f6",
   "metadata": {},
   "outputs": [],
   "source": [
    "for  i in df1.columns:\n",
    "    if df1[i].dtypes !=\"object\":\n",
    "        print(i) \n",
    "     \n",
    "        plt.subplot(1,2,1)\n",
    "        sns.histplot(df[i],kde=True, label =df[i].skew())\n",
    "\n",
    "        plt.subplot(1,2,2)\n",
    "        sns.histplot(np.log(df[i]),kde=True, label =np.log(df[i]).skew())\n",
    "        plt.legend()\n",
    "        plt.show()"
   ]
  },
  {
   "cell_type": "markdown",
   "id": "736ec7f6",
   "metadata": {},
   "source": [
    "#### feature scaling\n",
    "1. Normalization \n",
    "2. Standardization\n",
    "\n",
    "https://www.geeksforgeeks.org/normalization-vs-standardization/"
   ]
  },
  {
   "cell_type": "code",
   "execution_count": null,
   "id": "f6568bd9",
   "metadata": {},
   "outputs": [],
   "source": [
    "df[\"Price_in_thousands\"]\n",
    "\n",
    "x_min = df[\"Price_in_thousands\"].min()\n",
    "x_max = df[\"Price_in_thousands\"].max()\n",
    "\n",
    "for i in df[\"Price_in_thousands\"]:\n",
    "    X_new = (i - x_min)/(x_max - x_min)\n",
    "    print(X_new)\n",
    "\n",
    "  \n",
    "# X_new = (X - X_min)/(X_max - X_min)\n",
    "# z-score = (X - X_mean)/(X_std)\n"
   ]
  },
  {
   "cell_type": "code",
   "execution_count": null,
   "id": "63bcd224",
   "metadata": {},
   "outputs": [],
   "source": [
    "## Data Encoding \n",
    "# Feature Selection"
   ]
  },
  {
   "cell_type": "markdown",
   "id": "0fe024c0",
   "metadata": {},
   "source": []
  }
 ],
 "metadata": {
  "kernelspec": {
   "display_name": "aienv",
   "language": "python",
   "name": "python3"
  },
  "language_info": {
   "codemirror_mode": {
    "name": "ipython",
    "version": 3
   },
   "file_extension": ".py",
   "mimetype": "text/x-python",
   "name": "python",
   "nbconvert_exporter": "python",
   "pygments_lexer": "ipython3",
   "version": "3.12.9"
  }
 },
 "nbformat": 4,
 "nbformat_minor": 5
}
