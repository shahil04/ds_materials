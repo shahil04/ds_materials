{
 "cells": [
  {
   "cell_type": "code",
   "execution_count": null,
   "id": "6ce3e64a",
   "metadata": {},
   "outputs": [],
   "source": [
    "print(\"start  execute\")\n",
    "\n",
    "result = 10 / 2\n",
    "\n",
    "print(\"successfully execute\")"
   ]
  },
  {
   "cell_type": "code",
   "execution_count": null,
   "id": "55c1c14b",
   "metadata": {},
   "outputs": [],
   "source": [
    "print(\"start  execute\")\n",
    "\n",
    "result = 10 / 0\n",
    "\n",
    "print(\"successfully execute\")"
   ]
  },
  {
   "cell_type": "code",
   "execution_count": null,
   "id": "bf5a1301",
   "metadata": {},
   "outputs": [],
   "source": [
    "print(\"start  execute\")\n",
    "try:\n",
    "    result = 10 / 0\n",
    "\n",
    "except :\n",
    "    print(\"Error : not divivisible by \")\n",
    "\n",
    "print(\"successfully execute\")"
   ]
  },
  {
   "cell_type": "code",
   "execution_count": null,
   "id": "6bf6f40d",
   "metadata": {},
   "outputs": [],
   "source": [
    "print(\"start  execute\")\n",
    "try:\n",
    "     result = 10 / 0\n",
    "\n",
    "except  ZeroDivisionError as e:\n",
    "    print(\"Error : \", e)\n",
    "\n",
    "print(\"successfully execute\")"
   ]
  },
  {
   "cell_type": "code",
   "execution_count": null,
   "id": "01a12b8b",
   "metadata": {},
   "outputs": [],
   "source": [
    "# Else use for successfully run the try block \n",
    "print(\"start  execute\")\n",
    "try:\n",
    "    result = 10 / 2\n",
    "\n",
    "except  ZeroDivisionError as e:\n",
    "    print(\"Error : \", e)\n",
    "\n",
    "else:\n",
    "    print(\"result = \", result)\n",
    "\n",
    "finally:\n",
    "    print(\"end execute\")\n",
    "    \n",
    "print(\"successfully execute\")"
   ]
  },
  {
   "cell_type": "code",
   "execution_count": null,
   "id": "4a540d7e",
   "metadata": {},
   "outputs": [],
   "source": [
    "print(\"start  execute\")\n",
    "try:\n",
    "    result = 10 / 2\n",
    "    print(\"result = \", result)\n",
    "\n",
    "except  ZeroDivisionError as e:\n",
    "    print(\"Error : \", e)\n",
    "\n",
    "# else:\n",
    "#      print(\"result = \", result)\n",
    "\n",
    "print(\"successfully execute\")"
   ]
  },
  {
   "cell_type": "code",
   "execution_count": null,
   "id": "6d5ad153",
   "metadata": {},
   "outputs": [],
   "source": [
    "print(\"start  execute\")\n",
    "try:\n",
    "     if = 10 / 2\n",
    "\n",
    "except  ZeroDivisionError as e:\n",
    "    print(\"Error : \", e)\n",
    "except SyntaxError as s:\n",
    "    print(\"check your syntax\", s)\n",
    "\n",
    "print(\"successfully execute\")"
   ]
  },
  {
   "cell_type": "code",
   "execution_count": null,
   "id": "b88ab25e",
   "metadata": {},
   "outputs": [],
   "source": [
    "class BankAccount:\n",
    "    def __init__(self, owner, balance: int):\n",
    "        self.owner = owner        # public\n",
    "        self.__balance = balance  # private\n",
    "\n",
    "    # Getter method\n",
    "    def get_balance(self):\n",
    "        return self.__balance\n",
    "\n",
    "    # Setter method\n",
    "    def deposit(self, amount):\n",
    "        # if amount > 0:\n",
    "        #         self.__balance += amount\n",
    "        try:\n",
    "            if amount > 0:\n",
    "                self.__balance += amount\n",
    "        except TypeError as e:\n",
    "            print(f\"Error: {e} --> ENTER THE INTEGER VALUE\")\n",
    "\n",
    "        print(\"successfully run\")\n",
    "        \n",
    "    # Another method to demonstrate encapsulation\n",
    "    def withdraw(self, amount):\n",
    "        if 0 < amount <= self.__balance:\n",
    "            self.__balance -= amount\n",
    "        else:\n",
    "            print(\"Insufficient funds or invalid amount\")\n",
    "    "
   ]
  },
  {
   "cell_type": "code",
   "execution_count": null,
   "id": "59a19473",
   "metadata": {},
   "outputs": [],
   "source": [
    "a = BankAccount(\"raj\",0)\n",
    "\n"
   ]
  },
  {
   "cell_type": "code",
   "execution_count": null,
   "id": "61396971",
   "metadata": {},
   "outputs": [],
   "source": [
    "a.deposit('65')\n"
   ]
  },
  {
   "cell_type": "code",
   "execution_count": null,
   "id": "732eccbf",
   "metadata": {},
   "outputs": [],
   "source": [
    "def deposit(amount):\n",
    "    if amount <= 0:\n",
    "        raise ValueError(\"Deposit amount must be greater than zero.\")\n",
    "    print(f\"Deposited ₹{amount}\")\n",
    "\n",
    "deposit(500)     # Works fine\n",
    "deposit(-100)    # Raises ValueError\n"
   ]
  },
  {
   "cell_type": "code",
   "execution_count": null,
   "id": "333bbe9b",
   "metadata": {},
   "outputs": [],
   "source": [
    "# create a custom exceptions\n",
    "class NegativeExceptionError(Exception):\n",
    "   pass"
   ]
  },
  {
   "cell_type": "code",
   "execution_count": null,
   "id": "f3b1d829",
   "metadata": {},
   "outputs": [],
   "source": [
    "def deposit(amount):\n",
    "    if amount <= 0:\n",
    "        raise NegativeExceptionError(\"Deposit amount must be greater than zero.\")\n",
    "    print(f\"Deposited {amount}\")\n",
    "\n",
    "deposit(500)     # Works fine\n",
    "deposit(-100)    # Raises ValueError\n"
   ]
  },
  {
   "cell_type": "code",
   "execution_count": null,
   "id": "34fc98b2",
   "metadata": {},
   "outputs": [],
   "source": [
    "# create a custom exceptions\n",
    "class NegativeExceptionError(Exception):\n",
    "   pass\n",
    "\n",
    "class InsufficientFundsError(Exception):\n",
    "    pass\n"
   ]
  },
  {
   "cell_type": "code",
   "execution_count": null,
   "id": "ed7e472b",
   "metadata": {},
   "outputs": [],
   "source": [
    "class BankAccount:\n",
    "    def __init__(self, owner, balance: int):\n",
    "        self.owner = owner        # public\n",
    "        self.__balance = balance  # private\n",
    "\n",
    "    # Getter method\n",
    "    def get_balance(self):\n",
    "        return self.__balance\n",
    "\n",
    "    # Setter method\n",
    "    def deposit(self, amount):\n",
    "        try:\n",
    "            if amount <= 0:\n",
    "                raise NegativeExceptionError(\"Deposit amount must be positive.\")\n",
    "            self.__balance += amount\n",
    "            print(f\" Deposited {amount}. Balance: {self.__balance}\")\n",
    "        \n",
    "        except NegativeExceptionError as e:\n",
    "            print(f\" Error: {e}\")\n",
    "        \n",
    "        print(\"Deposit method executed.\")\n",
    "        \n",
    "    # Another method to demonstrate encapsulation\n",
    "    def withdraw(self, amount):\n",
    "        try:\n",
    "            if amount <= 0:\n",
    "                raise NegativeExceptionError(\"Withdrawal amount must be positive.\")\n",
    "            \n",
    "            if amount > self.__balance:\n",
    "                raise InsufficientFundsError(\"Insufficient balance.\")\n",
    "            \n",
    "            self.__balance -= amount\n",
    "            print(f\" Withdrew {amount}. Balance: {self.__balance}\")\n",
    "            \n",
    "        except NegativeExceptionError as e:\n",
    "            print(f\" Error: {e}\")\n",
    "        \n",
    "        except InsufficientFundsError as e:\n",
    "            print(f\" Error: {e}\")\n",
    "\n",
    "        print(\"end\")\n"
   ]
  },
  {
   "cell_type": "code",
   "execution_count": null,
   "id": "47ccc4df",
   "metadata": {},
   "outputs": [],
   "source": [
    "a = BankAccount(\"raj\",0)\n",
    "a.deposit(-78)"
   ]
  },
  {
   "cell_type": "code",
   "execution_count": null,
   "id": "c84f7572",
   "metadata": {},
   "outputs": [],
   "source": [
    "a.deposit(78)"
   ]
  },
  {
   "cell_type": "code",
   "execution_count": null,
   "id": "dc08f84b",
   "metadata": {},
   "outputs": [],
   "source": [
    "a.withdraw(100)"
   ]
  },
  {
   "cell_type": "markdown",
   "id": "7f16878d",
   "metadata": {},
   "source": [
    "### File Handling"
   ]
  },
  {
   "cell_type": "code",
   "execution_count": null,
   "metadata": {},
   "outputs": [],
   "source": [
    "# \"w\" --> write use to create a new file and also to rewrite to an existing file \n",
    "\n",
    "file = open(\"class_306_e.txt\", \"w\")\n",
    "\n",
    "file.write(\"this is class 306 file handling\")\n",
    "file.close()"
   ]
  },
  {
   "cell_type": "code",
   "execution_count": 28,
   "metadata": {},
   "outputs": [
    {
     "name": "stdout",
     "output_type": "stream",
     "text": [
      "this is class 306 file handling --> abx.\n"
     ]
    }
   ],
   "source": [
    "# \"r\" --> read the data from file\n",
    "f= open(\"class_306_e.txt\", \"r\")\n",
    "\n",
    "print(f.read())\n",
    "\n",
    "f.close()"
   ]
  },
  {
   "cell_type": "code",
   "execution_count": 29,
   "id": "e90d9dfe",
   "metadata": {},
   "outputs": [
    {
     "name": "stdout",
     "output_type": "stream",
     "text": [
      "\n"
     ]
    }
   ],
   "source": [
    "f= open(\"class_306_e.txt\", \"a+\")\n",
    "f.write(\"-- > xyz\")\n",
    "print(f.read())\n",
    "f.close()"
   ]
  },
  {
   "cell_type": "code",
   "execution_count": null,
   "metadata": {},
   "outputs": [],
   "source": [
    "data = \"\"\"\n",
    "    Normalization vs Standardization\n",
    "Last Updated : 12 Nov, 2021\n",
    "Feature scaling is one of the most important data preprocessing step in machine learning. Algorithms\n",
    "that compute the distance between the features are biased towards numerically larger values if the data is not scaled. Tree-based algorithms are fairly insensitive to the scale of the features. Also, feature scaling helps machine learning, and deep learning algorithms train and converge faster. There are some feature scaling techniques such as Normalization and Standardization that are the most popular and at the same time, the most confusing ones.\n",
    " Let's resolve that confusion. Normalization or Min-Max Scaling is used to transform features to \n",
    " be on a similar scale. The new point is calculated as:\n",
    "X_new = (X - X_min)/(X_max - X_min)\n",
    "This scales the range to [0, 1] or sometimes [-1, 1]. Geometrically speaking, transformation squishes the n-dimensional data into an n-dimensional unit hypercube. Normalization is useful when there are no outliers as it cannot cope up with them. Usually, we would scale age and not incomes because only a few people have high incomes but the age is close to uniform. Standardization or Z-Score Normalization is the transformation of features by subtracting from mean and dividing by standard deviation. This is often called as Z-score.\n",
    "X_new = (X - mean)/Std\n",
    "Standardization can be helpful in cases where the data follows a Gaussian distribution. However, this does not have to be necessarily true. Geometrically speaking, it translates the data to the mean vector of original data to the origin and squishes or expands the points if std is 1 respectively. We can see that we are just changing mean and standard deviation to a standard normal distribution which is still normal thus the shape of the distribution is not affected. Standardization does not get affected by outliers because there is no predefined range of transformed features. Difference between Normalization and Standardization\n",
    "\"\"\""
   ]
  },
  {
   "cell_type": "code",
   "execution_count": null,
   "id": "a25b88f3",
   "metadata": {},
   "outputs": [],
   "source": []
  }
 ],
 "metadata": {
  "kernelspec": {
   "display_name": "aienv",
   "language": "python",
   "name": "python3"
  },
  "language_info": {
   "codemirror_mode": {
    "name": "ipython",
    "version": 3
   },
   "file_extension": ".py",
   "mimetype": "text/x-python",
   "name": "python",
   "nbconvert_exporter": "python",
   "pygments_lexer": "ipython3",
   "version": "3.12.9"
  }
 },
 "nbformat": 4,
 "nbformat_minor": 5
}
