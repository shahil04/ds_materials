{
 "cells": [
  {
   "cell_type": "code",
   "execution_count": null,
   "id": "6ce3e64a",
   "metadata": {},
   "outputs": [],
   "source": [
    "print(\"start  execute\")\n",
    "\n",
    "result = 10 / 2\n",
    "\n",
    "print(\"successfully execute\")"
   ]
  },
  {
   "cell_type": "code",
   "execution_count": null,
   "id": "55c1c14b",
   "metadata": {},
   "outputs": [],
   "source": [
    "print(\"start  execute\")\n",
    "\n",
    "result = 10 / 0\n",
    "\n",
    "print(\"successfully execute\")"
   ]
  },
  {
   "cell_type": "code",
   "execution_count": null,
   "id": "bf5a1301",
   "metadata": {},
   "outputs": [],
   "source": [
    "print(\"start  execute\")\n",
    "try:\n",
    "    result = 10 / 0\n",
    "\n",
    "except :\n",
    "    print(\"Error : not divivisible by \")\n",
    "\n",
    "print(\"successfully execute\")"
   ]
  },
  {
   "cell_type": "code",
   "execution_count": null,
   "id": "6bf6f40d",
   "metadata": {},
   "outputs": [],
   "source": [
    "print(\"start  execute\")\n",
    "try:\n",
    "     result = 10 / 0\n",
    "\n",
    "except  ZeroDivisionError as e:\n",
    "    print(\"Error : \", e)\n",
    "\n",
    "print(\"successfully execute\")"
   ]
  },
  {
   "cell_type": "code",
   "execution_count": null,
   "id": "01a12b8b",
   "metadata": {},
   "outputs": [],
   "source": [
    "# Else use for successfully run the try block \n",
    "print(\"start  execute\")\n",
    "try:\n",
    "    result = 10 / 2\n",
    "\n",
    "except  ZeroDivisionError as e:\n",
    "    print(\"Error : \", e)\n",
    "\n",
    "else:\n",
    "    print(\"result = \", result)\n",
    "\n",
    "finally:\n",
    "    print(\"end execute\")\n",
    "    \n",
    "print(\"successfully execute\")"
   ]
  },
  {
   "cell_type": "code",
   "execution_count": null,
   "id": "4a540d7e",
   "metadata": {},
   "outputs": [],
   "source": [
    "print(\"start  execute\")\n",
    "try:\n",
    "    result = 10 / 2\n",
    "    print(\"result = \", result)\n",
    "\n",
    "except  ZeroDivisionError as e:\n",
    "    print(\"Error : \", e)\n",
    "\n",
    "# else:\n",
    "#      print(\"result = \", result)\n",
    "\n",
    "print(\"successfully execute\")"
   ]
  },
  {
   "cell_type": "code",
   "execution_count": null,
   "id": "6d5ad153",
   "metadata": {},
   "outputs": [],
   "source": [
    "print(\"start  execute\")\n",
    "try:\n",
    "     if = 10 / 2\n",
    "\n",
    "except  ZeroDivisionError as e:\n",
    "    print(\"Error : \", e)\n",
    "except SyntaxError as s:\n",
    "    print(\"check your syntax\", s)\n",
    "\n",
    "print(\"successfully execute\")"
   ]
  },
  {
   "cell_type": "code",
   "execution_count": null,
   "id": "b88ab25e",
   "metadata": {},
   "outputs": [],
   "source": [
    "class BankAccount:\n",
    "    def __init__(self, owner, balance: int):\n",
    "        self.owner = owner        # public\n",
    "        self.__balance = balance  # private\n",
    "\n",
    "    # Getter method\n",
    "    def get_balance(self):\n",
    "        return self.__balance\n",
    "\n",
    "    # Setter method\n",
    "    def deposit(self, amount):\n",
    "        # if amount > 0:\n",
    "        #         self.__balance += amount\n",
    "        try:\n",
    "            if amount > 0:\n",
    "                self.__balance += amount\n",
    "        except TypeError as e:\n",
    "            print(f\"Error: {e} --> ENTER THE INTEGER VALUE\")\n",
    "\n",
    "        print(\"successfully run\")\n",
    "        \n",
    "    # Another method to demonstrate encapsulation\n",
    "    def withdraw(self, amount):\n",
    "        if 0 < amount <= self.__balance:\n",
    "            self.__balance -= amount\n",
    "        else:\n",
    "            print(\"Insufficient funds or invalid amount\")\n",
    "    "
   ]
  },
  {
   "cell_type": "code",
   "execution_count": null,
   "id": "59a19473",
   "metadata": {},
   "outputs": [],
   "source": [
    "a = BankAccount(\"raj\",0)\n",
    "\n"
   ]
  },
  {
   "cell_type": "code",
   "execution_count": null,
   "id": "61396971",
   "metadata": {},
   "outputs": [],
   "source": [
    "a.deposit('65')\n"
   ]
  },
  {
   "cell_type": "code",
   "execution_count": null,
   "id": "732eccbf",
   "metadata": {},
   "outputs": [],
   "source": [
    "def deposit(amount):\n",
    "    if amount <= 0:\n",
    "        raise ValueError(\"Deposit amount must be greater than zero.\")\n",
    "    print(f\"Deposited ₹{amount}\")\n",
    "\n",
    "deposit(500)     # Works fine\n",
    "deposit(-100)    # Raises ValueError\n"
   ]
  },
  {
   "cell_type": "code",
   "execution_count": null,
   "id": "333bbe9b",
   "metadata": {},
   "outputs": [],
   "source": [
    "# create a custom exceptions\n",
    "class NegativeExceptionError(Exception):\n",
    "   pass"
   ]
  },
  {
   "cell_type": "code",
   "execution_count": null,
   "id": "f3b1d829",
   "metadata": {},
   "outputs": [],
   "source": [
    "def deposit(amount):\n",
    "    if amount <= 0:\n",
    "        raise NegativeExceptionError(\"Deposit amount must be greater than zero.\")\n",
    "    print(f\"Deposited {amount}\")\n",
    "\n",
    "deposit(500)     # Works fine\n",
    "deposit(-100)    # Raises ValueError\n"
   ]
  },
  {
   "cell_type": "code",
   "execution_count": null,
   "id": "ed7e472b",
   "metadata": {},
   "outputs": [],
   "source": [
    "class BankAccount:\n",
    "    def __init__(self, owner, balance: int):\n",
    "        self.owner = owner        # public\n",
    "        self.__balance = balance  # private\n",
    "\n",
    "    # Getter method\n",
    "    def get_balance(self):\n",
    "        return self.__balance\n",
    "\n",
    "    # Setter method\n",
    "    def deposit(self, amount):\n",
    "        try:\n",
    "            if amount <= 0:\n",
    "                raise NegativeExceptionError(\"Deposit amount must be positive.\")\n",
    "            self.__balance += amount\n",
    "            print(f\" Deposited {amount}. Balance: {self.__balance}\")\n",
    "        \n",
    "        except NegativeExceptionError as e:\n",
    "            print(f\" Error: {e}\")\n",
    "        \n",
    "        print(\"Deposit method executed.\")\n",
    "        \n",
    "    # Another method to demonstrate encapsulation\n",
    "    def withdraw(self, amount):\n",
    "        if 0 < amount <= self.__balance:\n",
    "            self.__balance -= amount\n",
    "        else:\n",
    "            print(\"Insufficient funds or invalid amount\")"
   ]
  },
  {
   "cell_type": "code",
   "execution_count": 76,
   "id": "47ccc4df",
   "metadata": {},
   "outputs": [
    {
     "name": "stdout",
     "output_type": "stream",
     "text": [
      " Error: Deposit amount must be positive.\n",
      "Deposit method executed.\n",
      "successfully run\n"
     ]
    }
   ],
   "source": [
    "\n",
    "a = BankAccount(\"raj\",0)\n",
    "a.deposit(-78)"
   ]
  },
  {
   "cell_type": "code",
   "execution_count": 74,
   "id": "f2039167",
   "metadata": {},
   "outputs": [
    {
     "name": "stdout",
     "output_type": "stream",
     "text": [
      "❌ Error: Deposit amount must be positive.\n",
      "Deposit method executed.\n",
      "✅ Deposited ₹1000. Balance: ₹1000\n",
      "Deposit method executed.\n",
      "❌ Error: Insufficient balance.\n",
      "Withdraw method executed.\n",
      "❌ Error: Withdrawal amount must be positive.\n",
      "Withdraw method executed.\n"
     ]
    }
   ],
   "source": [
    "# Custom exception\n",
    "class NegativeExceptionError(Exception):\n",
    "    pass\n",
    "\n",
    "class BankAccount:\n",
    "    def __init__(self, owner, balance: int):\n",
    "        self.owner = owner\n",
    "        self.__balance = balance\n",
    "\n",
    "    def get_balance(self):\n",
    "        return self.__balance\n",
    "\n",
    "    def deposit(self, amount):\n",
    "        try:\n",
    "            if amount <= 0:\n",
    "                raise NegativeExceptionError(\"Deposit amount must be positive.\")\n",
    "            self.__balance += amount\n",
    "            print(f\"✅ Deposited ₹{amount}. Balance: ₹{self.__balance}\")\n",
    "        \n",
    "        except NegativeExceptionError as e:\n",
    "            print(f\"❌ Error: {e}\")\n",
    "        \n",
    "        print(\"Deposit method executed.\")\n",
    "\n",
    "    def withdraw(self, amount):\n",
    "        try:\n",
    "            if amount <= 0:\n",
    "                raise NegativeExceptionError(\"Withdrawal amount must be positive.\")\n",
    "            if amount > self.__balance:\n",
    "                raise NegativeExceptionError(\"Insufficient balance.\")\n",
    "            self.__balance -= amount\n",
    "            print(f\"✅ Withdrew ₹{amount}. Balance: ₹{self.__balance}\")\n",
    "        except NegativeExceptionError as e:\n",
    "            print(f\"❌ Error: {e}\")\n",
    "        print(\"Withdraw method executed.\")\n",
    "\n",
    "# Testing\n",
    "a = BankAccount(\"Raj\", 0)\n",
    "a.deposit(-78)    # Error handled\n",
    "a.deposit(1000)   # Success\n",
    "a.withdraw(2000)  # Insufficient balance error handled\n",
    "a.withdraw(-500)  # Negative amount error handled\n"
   ]
  },
  {
   "cell_type": "code",
   "execution_count": null,
   "id": "a25b88f3",
   "metadata": {},
   "outputs": [],
   "source": []
  }
 ],
 "metadata": {
  "kernelspec": {
   "display_name": "aienv",
   "language": "python",
   "name": "python3"
  },
  "language_info": {
   "codemirror_mode": {
    "name": "ipython",
    "version": 3
   },
   "file_extension": ".py",
   "mimetype": "text/x-python",
   "name": "python",
   "nbconvert_exporter": "python",
   "pygments_lexer": "ipython3",
   "version": "3.12.9"
  }
 },
 "nbformat": 4,
 "nbformat_minor": 5
}
