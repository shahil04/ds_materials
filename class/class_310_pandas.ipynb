{
 "cells": [
  {
   "cell_type": "code",
   "execution_count": null,
   "id": "8243f827",
   "metadata": {},
   "outputs": [],
   "source": [
    "# pip install pandas\n",
    "import pandas \n",
    "import pandas as pd"
   ]
  },
  {
   "cell_type": "code",
   "execution_count": null,
   "id": "4765c825",
   "metadata": {},
   "outputs": [],
   "source": [
    "\n",
    "#pandas>>data manipulation and data wrangling\n",
    "# create Series, DataFrame ,indexing, columns, data types, assign, create new columns\n",
    "\n",
    "# data cleaning\n",
    "# drop columns,  drop rows, fill missing values, handle outliers, remove duplicates\n",
    "\n",
    "\n",
    "# data transformation\n",
    "# pivot, melt, groupby, sort, sortby, rank, quantile, shift,\n",
    "# data merging\n",
    "# join, merge, concat, append\n",
    "# data analysis\n",
    "# summary statistics, descriptive statistics, correlation, regression, time series analysis\n",
    "# data visualization\n",
    "# plot, scatter plot, bar plot, histogram, box plot, violin plot, heatmap\n",
    "# data export\n",
    "# to_csv, to_excel, to_json, to_pickle, to_sql\n",
    "\n",
    "\n",
    "\n",
    "# A Pandas Series is a one-dimensional labeled array-like object that can hold data of any type.\n",
    "### Labels\n",
    "\n",
    "# The labels in the Pandas Series are \n",
    "# index numbers by default. Like in DataFrame and array, the index number in Series starts from 0.\n"
   ]
  },
  {
   "cell_type": "markdown",
   "id": "58bc564c",
   "metadata": {},
   "source": [
    "Data Represent in pandas \n",
    "\n",
    "1. Series/1D/Vector\n",
    "\n",
    "2. DataFrame/2D/Tabular data / Matrix"
   ]
  },
  {
   "cell_type": "code",
   "execution_count": null,
   "id": "119cdf6a",
   "metadata": {},
   "outputs": [],
   "source": [
    "# create \n",
    "s1 = pd.Series([1, 2, 3, 4, 5])\n",
    "s1"
   ]
  },
  {
   "cell_type": "code",
   "execution_count": null,
   "id": "c0eec7b5",
   "metadata": {},
   "outputs": [],
   "source": [
    "type(s1)"
   ]
  },
  {
   "cell_type": "code",
   "execution_count": null,
   "id": "77d35a63",
   "metadata": {},
   "outputs": [],
   "source": [
    "s1.ndim"
   ]
  },
  {
   "cell_type": "code",
   "execution_count": null,
   "id": "71d1f732",
   "metadata": {},
   "outputs": [],
   "source": [
    "s1.shape"
   ]
  },
  {
   "cell_type": "code",
   "execution_count": null,
   "id": "707a160c",
   "metadata": {},
   "outputs": [],
   "source": [
    "s1.size"
   ]
  },
  {
   "cell_type": "code",
   "execution_count": null,
   "id": "50e983b7",
   "metadata": {},
   "outputs": [],
   "source": [
    "# create sseries with custom index\n",
    "s2 = pd.Series([6,7,78,9],index=[\"a\",\"b\",\"c\",\"d\"])\n",
    "s2"
   ]
  },
  {
   "cell_type": "code",
   "execution_count": null,
   "id": "aebdde73",
   "metadata": {},
   "outputs": [],
   "source": [
    "# create series with custom index when value already create\n",
    "s1\n",
    "s1.set_axis([\"w\",\"x\",\"y\",\"z\",\"v\"])"
   ]
  },
  {
   "cell_type": "code",
   "execution_count": null,
   "id": "85538aef",
   "metadata": {},
   "outputs": [],
   "source": [
    "s1.reset_index(drop=True)"
   ]
  },
  {
   "cell_type": "markdown",
   "id": "a5f3c6b8",
   "metadata": {},
   "source": [
    "#### Indexing and Slicing"
   ]
  },
  {
   "cell_type": "code",
   "execution_count": null,
   "id": "24121d45",
   "metadata": {},
   "outputs": [],
   "source": [
    "# indexing\n",
    "(s1[3])"
   ]
  },
  {
   "cell_type": "code",
   "execution_count": null,
   "id": "9a12b38a",
   "metadata": {},
   "outputs": [],
   "source": [
    "s2[\"c\"]"
   ]
  },
  {
   "cell_type": "code",
   "execution_count": null,
   "id": "469848a7",
   "metadata": {},
   "outputs": [],
   "source": [
    "s2[\"a\":\"c\"]"
   ]
  },
  {
   "cell_type": "code",
   "execution_count": null,
   "id": "4131a75f",
   "metadata": {},
   "outputs": [],
   "source": [
    "s2[:3]"
   ]
  },
  {
   "cell_type": "code",
   "execution_count": null,
   "id": "b056eb2e",
   "metadata": {},
   "outputs": [],
   "source": [
    "# Define DF using 2d array\n",
    "df = pd.DataFrame([[12,3,34],[3,4,5]])\n",
    "df"
   ]
  },
  {
   "cell_type": "code",
   "execution_count": null,
   "id": "97d2db21",
   "metadata": {},
   "outputs": [],
   "source": [
    "df.ndim"
   ]
  },
  {
   "cell_type": "code",
   "execution_count": null,
   "id": "f5feb833",
   "metadata": {},
   "outputs": [],
   "source": [
    "# Define DF using Dictonary\n",
    "df2 = pd.DataFrame({\"a\": [12,3,34] ,\n",
    "                   \"b\": [3,4,5]}\n",
    "                   )\n",
    "df2"
   ]
  },
  {
   "cell_type": "code",
   "execution_count": null,
   "id": "1cb9771f",
   "metadata": {},
   "outputs": [],
   "source": [
    "df3 = df2.set_axis([\"x\",\"y\",\"z\"])"
   ]
  },
  {
   "cell_type": "code",
   "execution_count": null,
   "id": "6e416164",
   "metadata": {},
   "outputs": [],
   "source": [
    "df3 = df3.set_axis([\"c\",\"d\"],axis=1)"
   ]
  },
  {
   "cell_type": "code",
   "execution_count": null,
   "id": "422f36c5",
   "metadata": {},
   "outputs": [],
   "source": [
    "# add new_columns to the dataframe\n",
    "df2[\"c\"] = [1,2,3]\n",
    "df2\n",
    "# https://www.geeksforgeeks.org/adding-new-column-to-existing-dataframe-in-pandas/"
   ]
  },
  {
   "cell_type": "code",
   "execution_count": null,
   "id": "4adf48b8",
   "metadata": {},
   "outputs": [],
   "source": [
    "df3"
   ]
  },
  {
   "cell_type": "code",
   "execution_count": null,
   "id": "8eccbe04",
   "metadata": {},
   "outputs": [],
   "source": [
    "df"
   ]
  },
  {
   "cell_type": "code",
   "execution_count": null,
   "id": "06ffbfd3",
   "metadata": {},
   "outputs": [],
   "source": [
    "# indxing\n",
    "# df[0][0,:]"
   ]
  },
  {
   "cell_type": "code",
   "execution_count": null,
   "id": "2ec0e896",
   "metadata": {},
   "outputs": [],
   "source": [
    "#loc and iloc\n",
    "#loc is label based indexing cutsom\n",
    "#iloc is integer based indexing"
   ]
  },
  {
   "cell_type": "code",
   "execution_count": null,
   "id": "f9cd9691",
   "metadata": {},
   "outputs": [],
   "source": [
    "df3"
   ]
  },
  {
   "cell_type": "code",
   "execution_count": null,
   "id": "4d300f61",
   "metadata": {},
   "outputs": [],
   "source": [
    "df3.loc[\"y\",\"c\":]"
   ]
  },
  {
   "cell_type": "code",
   "execution_count": null,
   "id": "5b4769b5",
   "metadata": {},
   "outputs": [],
   "source": [
    "df2"
   ]
  },
  {
   "cell_type": "code",
   "execution_count": null,
   "id": "234a2b5d",
   "metadata": {},
   "outputs": [],
   "source": [
    "# \n",
    "df2.loc[0:1,\"b\":]"
   ]
  },
  {
   "cell_type": "code",
   "execution_count": null,
   "id": "7705ca5d",
   "metadata": {},
   "outputs": [],
   "source": [
    "df2.iloc[0:2, 1:]"
   ]
  },
  {
   "cell_type": "code",
   "execution_count": null,
   "id": "d1a4e9e9",
   "metadata": {},
   "outputs": [],
   "source": [
    "df2.c"
   ]
  },
  {
   "cell_type": "code",
   "execution_count": null,
   "id": "ffacce17",
   "metadata": {},
   "outputs": [],
   "source": [
    "# Data Preparation and analysis\n",
    "\n",
    "# Import necessary libraries -->pandas\n",
    "# Import data\n",
    "# basic overview of data\n",
    "# indexing and slicing \n",
    "# data cleaning \n",
    "    # duplicate \n",
    "    # missing values/missing value \n",
    "    # rename\n",
    "    # error value\n",
    "    # delete row-wise/columns-wise\n",
    "    # create new feature/column\n",
    "# save \n",
    "# load\n",
    "# Data anlysis\n",
    "# Data visualization\n",
    "\n",
    "# =========================\n",
    "# Strat Machine Learning -->Sk-learn libraries\n",
    "    # data preprocessing\n",
    "    # training\n",
    "    # prediction"
   ]
  },
  {
   "cell_type": "markdown",
   "id": "22b8f969",
   "metadata": {},
   "source": [
    "# Data Preparation and analysis"
   ]
  },
  {
   "cell_type": "code",
   "execution_count": null,
   "id": "2371a8dc",
   "metadata": {},
   "outputs": [],
   "source": [
    "# impoort data\n",
    "import pandas as pd\n",
    "\n",
    "pd.read_csv(r\"C:\\Users\\hp\\Downloads\\ti.csv\")"
   ]
  },
  {
   "cell_type": "code",
   "execution_count": null,
   "id": "7f285cf4",
   "metadata": {},
   "outputs": [],
   "source": [
    "df = pd.read_csv(\"https://raw.githubusercontent.com/datasciencedojo/datasets/master/titanic.csv\")"
   ]
  },
  {
   "cell_type": "code",
   "execution_count": null,
   "id": "00ab041d",
   "metadata": {},
   "outputs": [],
   "source": [
    "# head() return top 5 row\n",
    "df.head()\n",
    "\n",
    "# 10 is number of rows to display\n",
    "df.head(10)"
   ]
  },
  {
   "cell_type": "code",
   "execution_count": null,
   "id": "9b837228",
   "metadata": {},
   "outputs": [],
   "source": [
    "# tail() return bottom 5 row\n",
    "df.tail()\n",
    "\n",
    "# 10 is number of rows to display\n",
    "df.tail(5)"
   ]
  },
  {
   "cell_type": "code",
   "execution_count": null,
   "id": "6c8b4ea8",
   "metadata": {},
   "outputs": [],
   "source": [
    "# basic informations about your data\n",
    "df.info()"
   ]
  },
  {
   "cell_type": "code",
   "execution_count": null,
   "id": "1f134358",
   "metadata": {},
   "outputs": [],
   "source": [
    "# statistical summary of the numberical data\n",
    "df.describe()"
   ]
  },
  {
   "cell_type": "code",
   "execution_count": null,
   "id": "99c153dc",
   "metadata": {},
   "outputs": [],
   "source": [
    "# statistical summary of the no-numerical data\n",
    "df.describe(include=\"O\")"
   ]
  },
  {
   "cell_type": "code",
   "execution_count": null,
   "id": "82a7fa3d",
   "metadata": {},
   "outputs": [],
   "source": [
    "# statistical summary of the both no-numerical and numerical data\n",
    "df.describe(include=\"all\")"
   ]
  },
  {
   "cell_type": "code",
   "execution_count": null,
   "id": "209530d7",
   "metadata": {},
   "outputs": [],
   "source": [
    "df[\"Fare\"].mean()"
   ]
  },
  {
   "cell_type": "code",
   "execution_count": null,
   "id": "38786a09",
   "metadata": {},
   "outputs": [],
   "source": [
    "df[\"Fare\"].std()"
   ]
  },
  {
   "cell_type": "code",
   "execution_count": null,
   "id": "aa5f478c",
   "metadata": {},
   "outputs": [],
   "source": [
    "df[\"Fare\"].skew()"
   ]
  },
  {
   "cell_type": "code",
   "execution_count": null,
   "id": "76ce617e",
   "metadata": {},
   "outputs": [],
   "source": [
    "import numpy as np \n",
    "np.sqrt(df[\"Fare\"]).skew()"
   ]
  },
  {
   "cell_type": "code",
   "execution_count": null,
   "id": "fbdbe4d1",
   "metadata": {},
   "outputs": [],
   "source": [
    "np.square(df[\"Fare\"]).skew()"
   ]
  },
  {
   "cell_type": "code",
   "execution_count": null,
   "id": "b4f701e1",
   "metadata": {},
   "outputs": [],
   "source": [
    "df.head()"
   ]
  },
  {
   "cell_type": "code",
   "execution_count": null,
   "id": "2ca3a351",
   "metadata": {},
   "outputs": [],
   "source": [
    "df[\"Name\"][10]"
   ]
  },
  {
   "cell_type": "code",
   "execution_count": null,
   "id": "096a6894",
   "metadata": {},
   "outputs": [],
   "source": [
    "df.iloc[:, 3]"
   ]
  },
  {
   "cell_type": "code",
   "execution_count": null,
   "id": "cf3453d2",
   "metadata": {},
   "outputs": [],
   "source": [
    "df.loc[:, \"Name\"]"
   ]
  },
  {
   "cell_type": "code",
   "execution_count": null,
   "id": "395089e4",
   "metadata": {},
   "outputs": [],
   "source": [
    "# show any column using their name in 2D\n",
    "df[[\"Name\",\"Fare\",\"Survived\"]]"
   ]
  },
  {
   "cell_type": "code",
   "execution_count": null,
   "id": "3dd92c11",
   "metadata": {},
   "outputs": [],
   "source": [
    "# show  all columns name \n",
    "df.columns"
   ]
  },
  {
   "cell_type": "code",
   "execution_count": null,
   "id": "36789698",
   "metadata": {},
   "outputs": [],
   "source": [
    "# total fare\n",
    "df[\"Fare\"].sum()"
   ]
  },
  {
   "cell_type": "code",
   "execution_count": null,
   "id": "28464ee5",
   "metadata": {},
   "outputs": [],
   "source": [
    "sum()"
   ]
  },
  {
   "cell_type": "code",
   "execution_count": null,
   "id": "8e8a7785",
   "metadata": {},
   "outputs": [],
   "source": [
    "# check Duplicate  \n",
    "df.duplicated().sum()"
   ]
  },
  {
   "cell_type": "code",
   "execution_count": null,
   "id": "f0522466",
   "metadata": {},
   "outputs": [],
   "source": [
    "# drop Duplicate\n",
    "df = df.drop_duplicates()"
   ]
  },
  {
   "cell_type": "code",
   "execution_count": null,
   "id": "62c149d6",
   "metadata": {},
   "outputs": [],
   "source": [
    "# NULL value \n",
    "df.isnull().sum()"
   ]
  },
  {
   "cell_type": "code",
   "execution_count": null,
   "id": "001db222",
   "metadata": {},
   "outputs": [],
   "source": [
    "df[\"Age\"].mean()"
   ]
  },
  {
   "cell_type": "code",
   "execution_count": null,
   "id": "0682daba",
   "metadata": {},
   "outputs": [],
   "source": [
    "# fill null value\n",
    "df[\"Age\"] = df[\"Age\"].fillna(df[\"Age\"].mean())"
   ]
  },
  {
   "cell_type": "code",
   "execution_count": null,
   "id": "744ffbe6",
   "metadata": {},
   "outputs": [],
   "source": [
    "df.isnull().sum()"
   ]
  },
  {
   "cell_type": "code",
   "execution_count": null,
   "id": "801eed1b",
   "metadata": {},
   "outputs": [],
   "source": [
    "# Inplace is use to reassingn the value in same df\n",
    "df.drop(\"Cabin\", axis=1,inplace=True)"
   ]
  },
  {
   "cell_type": "code",
   "execution_count": null,
   "id": "0517499e",
   "metadata": {},
   "outputs": [],
   "source": [
    "df.isnull().sum()"
   ]
  },
  {
   "cell_type": "code",
   "execution_count": null,
   "id": "cd3ba44d",
   "metadata": {},
   "outputs": [],
   "source": [
    "df"
   ]
  },
  {
   "cell_type": "code",
   "execution_count": null,
   "id": "755b45ad",
   "metadata": {},
   "outputs": [],
   "source": [
    "# drop null value \n",
    "df.dropna(inplace=True)"
   ]
  },
  {
   "cell_type": "code",
   "execution_count": null,
   "id": "798931b2",
   "metadata": {},
   "outputs": [],
   "source": []
  },
  {
   "cell_type": "code",
   "execution_count": null,
   "id": "a996334d",
   "metadata": {},
   "outputs": [],
   "source": [
    "df.isnull().sum()"
   ]
  },
  {
   "cell_type": "code",
   "execution_count": null,
   "id": "f64255ed",
   "metadata": {},
   "outputs": [],
   "source": [
    "# change datatypes\n",
    "df.dtypes"
   ]
  },
  {
   "cell_type": "code",
   "execution_count": null,
   "id": "fa8a20d7",
   "metadata": {},
   "outputs": [],
   "source": [
    "df"
   ]
  },
  {
   "cell_type": "code",
   "execution_count": null,
   "id": "ea3ada25",
   "metadata": {},
   "outputs": [],
   "source": [
    "df[\"Age\"].astype(\"int32\")"
   ]
  },
  {
   "cell_type": "code",
   "execution_count": null,
   "id": "f5ef0f92",
   "metadata": {},
   "outputs": [],
   "source": [
    "# df[\"Age\"] = df[\"Age\"].astype(\"int32\")"
   ]
  },
  {
   "cell_type": "code",
   "execution_count": null,
   "id": "2becf2ec",
   "metadata": {},
   "outputs": [],
   "source": [
    "# save the clean file\n",
    "df.to_csv(\"clean_data.csv\",index=False)"
   ]
  },
  {
   "cell_type": "code",
   "execution_count": null,
   "id": "0c48e7b4",
   "metadata": {},
   "outputs": [],
   "source": [
    "# again load clean file \n",
    "df1 = pd.read_csv(\"clean_data.csv\")\n",
    "df1.head()"
   ]
  },
  {
   "cell_type": "code",
   "execution_count": null,
   "id": "2f216957",
   "metadata": {},
   "outputs": [],
   "source": [
    "# Create new column using assign value in new column name\n",
    "df1[\"xys\"]  =90"
   ]
  },
  {
   "cell_type": "code",
   "execution_count": null,
   "id": "d47d9f96",
   "metadata": {},
   "outputs": [],
   "source": [
    "# count the number of customer who has pay more than 100\n",
    "(df1[\"Fare\"]>100).sum()"
   ]
  },
  {
   "cell_type": "code",
   "execution_count": null,
   "id": "542ccb64",
   "metadata": {},
   "outputs": [],
   "source": [
    "# all details of customer who has pay more than 100\n",
    "df1[df1[\"Fare\"]>100].count()\n"
   ]
  },
  {
   "cell_type": "code",
   "execution_count": null,
   "id": "7447d1e7",
   "metadata": {},
   "outputs": [],
   "source": [
    "# all details of customer who has pay more than 100\n",
    "df1[df1[\"Fare\"]>100][\"Fare\"].count()\n"
   ]
  },
  {
   "cell_type": "code",
   "execution_count": null,
   "id": "4faeee86",
   "metadata": {},
   "outputs": [],
   "source": [
    "# show the name of customer who has pay more than 100\n",
    "df1[df1[\"Fare\"]>100][[\"Name\",\"Fare\"]]\n"
   ]
  },
  {
   "cell_type": "code",
   "execution_count": null,
   "id": "326e747a",
   "metadata": {},
   "outputs": [],
   "source": [
    "# find the max fare\n",
    "df[\"Fare\"].max()\n",
    "# name of the customer who pay max\n",
    "df[\"Fare\"] == df[\"Fare\"].max()  # conditions\n",
    "\n",
    "df[df[\"Fare\"] == df[\"Fare\"].max()]\n",
    "\n",
    "# count the total number of teenagers\n",
    "(df[\"Age\"]<18).sum()\n",
    "df[df[\"Age\"]<18][\"Age\"].count()\n",
    "\n",
    "# total number of male and female passangers\n",
    "\n",
    "(df[\"Sex\"]==\"male\").sum()"
   ]
  },
  {
   "cell_type": "code",
   "execution_count": null,
   "id": "60e2f893",
   "metadata": {},
   "outputs": [],
   "source": [
    "# count\n",
    "# nuique --> actual unique value \n",
    "df[\"Sex\"].unique()\n",
    "# nnuique --> number of unique value \n",
    "df[\"Sex\"].nunique()\n",
    "\n",
    "# value_count -->show count of all distinct value in df\n",
    "df[\"Sex\"].value_counts()\n",
    "\n",
    "# count the total female teenager passanger\n",
    "df[(df[\"Age\"]<18) & (df[\"Sex\"]==\"female\") ].count()"
   ]
  },
  {
   "cell_type": "code",
   "execution_count": null,
   "id": "d8e4b9c1",
   "metadata": {},
   "outputs": [],
   "source": [
    "#Q. How many passengers are less than 5 years old\n",
    "\n",
    "#Q. How many passengers have paid less than avg fare\n",
    "\n",
    "#How many passengers paid 0 fare\n",
    "\n",
    "#Q how many passengers of class 1\n",
    "\n",
    "#How many passengers survived\n",
    "\n",
    "#How many females paid more than avg fare\n",
    "\n",
    "#Qhow many male passenger paid more than avg >>and\n"
   ]
  }
 ],
 "metadata": {
  "kernelspec": {
   "display_name": "aienv",
   "language": "python",
   "name": "python3"
  },
  "language_info": {
   "codemirror_mode": {
    "name": "ipython",
    "version": 3
   },
   "file_extension": ".py",
   "mimetype": "text/x-python",
   "name": "python",
   "nbconvert_exporter": "python",
   "pygments_lexer": "ipython3",
   "version": "3.12.9"
  }
 },
 "nbformat": 4,
 "nbformat_minor": 5
}
