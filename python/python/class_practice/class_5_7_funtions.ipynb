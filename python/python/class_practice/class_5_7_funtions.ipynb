{
 "cells": [
  {
   "cell_type": "code",
   "execution_count": null,
   "metadata": {},
   "outputs": [],
   "source": []
  },
  {
   "cell_type": "markdown",
   "metadata": {},
   "source": [
    "## Write a program to check if the given strings are anagram or not."
   ]
  },
  {
   "cell_type": "code",
   "execution_count": 3,
   "metadata": {},
   "outputs": [
    {
     "name": "stdout",
     "output_type": "stream",
     "text": [
      "['a', 'e', 'h', 'r', 't']\n",
      "['a', 'e', 'h', 'r', 't']\n",
      "heart earth is anagram\n"
     ]
    }
   ],
   "source": [
    "st1=\"heart\"\n",
    "st2=\"earth\"\n",
    "print(sorted(st1))\n",
    "print(sorted(st2))\n",
    "if sorted(st1)==sorted(st2):\n",
    "    print(st1, st2 ,\"is anagram\")\n",
    "else:\n",
    "    print(st1, st2 ,\"is not anagram\")"
   ]
  },
  {
   "cell_type": "code",
   "execution_count": 6,
   "metadata": {},
   "outputs": [],
   "source": [
    "# Arguments\n",
    "# Empty agguments\n",
    "def anagram():\n",
    "    st1=\"heart\"\n",
    "    st2=\"earth\"\n",
    "    print(sorted(st1))\n",
    "    print(sorted(st2))\n",
    "    if sorted(st1)==sorted(st2):\n",
    "        print(st1, st2 ,\"is anagram\")\n",
    "    else:\n",
    "        print(st1, st2 ,\"is not anagram\")\n",
    "\n"
   ]
  },
  {
   "cell_type": "code",
   "execution_count": 7,
   "metadata": {},
   "outputs": [
    {
     "name": "stdout",
     "output_type": "stream",
     "text": [
      "['a', 'e', 'h', 'r', 't']\n",
      "['a', 'e', 'h', 'r', 't']\n",
      "heart earth is anagram\n"
     ]
    }
   ],
   "source": [
    "# agguments\n",
    "def anagram(st1,st2):\n",
    "    # st1=\"heart\"\n",
    "    # st2=\"earth\"\n",
    "    print(sorted(st1))\n",
    "    print(sorted(st2))\n",
    "    if sorted(st1)==sorted(st2):\n",
    "        print(st1, st2 ,\"is anagram\")\n",
    "    else:\n",
    "        print(st1, st2 ,\"is not anagram\")\n",
    "\n",
    "anagram(\"heart\",\"earth\")\n"
   ]
  },
  {
   "cell_type": "code",
   "execution_count": 8,
   "metadata": {},
   "outputs": [
    {
     "name": "stdout",
     "output_type": "stream",
     "text": [
      "['e', 'i', 'l', 'n', 's', 't']\n",
      "['e', 'i', 'l', 'n', 's', 't']\n",
      "silent listen is anagram\n",
      "['a', 'e', 'h', 'r', 't']\n",
      "['a', 'e', 'h', 'r', 't']\n",
      "heart earth is anagram\n"
     ]
    }
   ],
   "source": [
    "#default arguments\n",
    "def anagram(st1=\"silent\",st2=\"listen\"):\n",
    "    # st1=\"heart\"\n",
    "    # st2=\"earth\"\n",
    "    print(sorted(st1))\n",
    "    print(sorted(st2))\n",
    "    if sorted(st1)==sorted(st2):\n",
    "        print(st1, st2 ,\"is anagram\")\n",
    "    else:\n",
    "        print(st1, st2 ,\"is not anagram\")\n",
    "\n",
    "anagram()\n",
    "\n",
    "anagram(\"heart\",\"earth\")"
   ]
  },
  {
   "cell_type": "code",
   "execution_count": 10,
   "metadata": {},
   "outputs": [
    {
     "name": "stdout",
     "output_type": "stream",
     "text": [
      "['e', 'i', 'l', 'n', 's', 't']\n",
      "['e', 'i', 'l', 'n', 's', 't']\n",
      "silent listen is anagram\n",
      "['e', 'i', 'l', 'n', 's', 't']\n",
      "['e', 'i', 'l', 'n', 's', 't']\n",
      "silent listen is anagram\n",
      "['a', 'e', 'h', 'r', 't']\n",
      "['a', 'e', 'h', 'r', 't']\n",
      "earth heart is anagram\n"
     ]
    }
   ],
   "source": [
    "#keyword arguments\n",
    "def anagram(st1=\"silent\",st2=\"listen\"):\n",
    "    # st1=\"heart\"\n",
    "    # st2=\"earth\"\n",
    "    print(sorted(st1))\n",
    "    print(sorted(st2))\n",
    "    if sorted(st1)==sorted(st2):\n",
    "        print(st1, st2 ,\"is anagram\")\n",
    "    else:\n",
    "        print(st1, st2 ,\"is not anagram\")\n",
    "\n",
    "anagram()\n",
    "\n",
    "anagram(st2=\"heart\",st1=\"earth\")"
   ]
  },
  {
   "cell_type": "code",
   "execution_count": 2,
   "metadata": {},
   "outputs": [],
   "source": [
    "#  variable scope\n",
    "# global\n",
    "a=4"
   ]
  },
  {
   "cell_type": "code",
   "execution_count": 3,
   "metadata": {},
   "outputs": [
    {
     "data": {
      "text/plain": [
       "4"
      ]
     },
     "execution_count": 3,
     "metadata": {},
     "output_type": "execute_result"
    }
   ],
   "source": [
    "a"
   ]
  },
  {
   "cell_type": "code",
   "execution_count": 16,
   "metadata": {},
   "outputs": [
    {
     "name": "stdout",
     "output_type": "stream",
     "text": [
      "['a', 'e', 'h', 'r', 't']\n",
      "['a', 'e', 'h', 'r', 't']\n",
      "heart earth is anagram\n",
      " dfdf local scope\n"
     ]
    }
   ],
   "source": [
    "#  variable scope \n",
    "st1=\"heart\" # global variable\n",
    "st2=\"earth\" # global variable\n",
    "def anagram(st1,st2):\n",
    "    st3= \" dfdf local scope\" # local variable\n",
    "\n",
    "    print(sorted(st1))\n",
    "    print(sorted(st2))\n",
    "    if sorted(st1)==sorted(st2):\n",
    "        print(st1, st2 ,\"is anagram\")\n",
    "    else:\n",
    "        print(st1, st2 ,\"is not anagram\")\n",
    "    print(st3)\n",
    "anagram(st1,st2)\n",
    "\n"
   ]
  },
  {
   "cell_type": "code",
   "execution_count": 17,
   "metadata": {},
   "outputs": [
    {
     "data": {
      "text/plain": [
       "'heart'"
      ]
     },
     "execution_count": 17,
     "metadata": {},
     "output_type": "execute_result"
    }
   ],
   "source": [
    "st1"
   ]
  },
  {
   "cell_type": "code",
   "execution_count": 18,
   "metadata": {},
   "outputs": [
    {
     "data": {
      "text/plain": [
       "'earth'"
      ]
     },
     "execution_count": 18,
     "metadata": {},
     "output_type": "execute_result"
    }
   ],
   "source": [
    "st2"
   ]
  },
  {
   "cell_type": "code",
   "execution_count": 19,
   "metadata": {},
   "outputs": [
    {
     "ename": "NameError",
     "evalue": "name 'st3' is not defined",
     "output_type": "error",
     "traceback": [
      "\u001b[1;31m---------------------------------------------------------------------------\u001b[0m",
      "\u001b[1;31mNameError\u001b[0m                                 Traceback (most recent call last)",
      "Cell \u001b[1;32mIn[19], line 1\u001b[0m\n\u001b[1;32m----> 1\u001b[0m st3\n",
      "\u001b[1;31mNameError\u001b[0m: name 'st3' is not defined"
     ]
    }
   ],
   "source": [
    "st3"
   ]
  },
  {
   "cell_type": "code",
   "execution_count": 21,
   "metadata": {},
   "outputs": [
    {
     "name": "stdout",
     "output_type": "stream",
     "text": [
      "inner: nonlocali\n",
      "outer: nonlocali\n"
     ]
    }
   ],
   "source": [
    "# outside function \n",
    "def outer():\n",
    "    message = 'local'\n",
    "\n",
    "    # nested function  \n",
    "    def inner():\n",
    "\n",
    "        # declare nonlocal variable\n",
    "        nonlocal message\n",
    "\n",
    "        message = 'nonlocali'\n",
    "        print(\"inner:\", message)\n",
    "\n",
    "    inner()\n",
    "    print(\"outer:\", message)\n",
    "\n",
    "outer()"
   ]
  },
  {
   "cell_type": "code",
   "execution_count": 26,
   "metadata": {},
   "outputs": [
    {
     "name": "stdout",
     "output_type": "stream",
     "text": [
      "4\n"
     ]
    }
   ],
   "source": [
    "a= 4\n",
    "def abc():\n",
    "    print(a)\n",
    "abc()"
   ]
  },
  {
   "cell_type": "code",
   "execution_count": 24,
   "metadata": {},
   "outputs": [],
   "source": [
    "a= 4\n",
    "def abc():\n",
    "    a=5\n",
    "    print(a)"
   ]
  },
  {
   "cell_type": "code",
   "execution_count": 25,
   "metadata": {},
   "outputs": [
    {
     "name": "stdout",
     "output_type": "stream",
     "text": [
      "5\n"
     ]
    }
   ],
   "source": [
    "abc()"
   ]
  },
  {
   "cell_type": "code",
   "execution_count": 40,
   "metadata": {},
   "outputs": [],
   "source": [
    "xyz=45\n",
    "def abc():\n",
    "    a=5\n",
    "    global b \n",
    "    b=88\n",
    "\n",
    "    print(a)"
   ]
  },
  {
   "cell_type": "code",
   "execution_count": 42,
   "metadata": {},
   "outputs": [
    {
     "name": "stdout",
     "output_type": "stream",
     "text": [
      "5\n"
     ]
    },
    {
     "data": {
      "text/plain": [
       "45"
      ]
     },
     "execution_count": 42,
     "metadata": {},
     "output_type": "execute_result"
    }
   ],
   "source": [
    "abc()\n",
    "xyz"
   ]
  },
  {
   "cell_type": "code",
   "execution_count": 45,
   "metadata": {},
   "outputs": [
    {
     "name": "stdout",
     "output_type": "stream",
     "text": [
      "1\n",
      "3\n"
     ]
    }
   ],
   "source": [
    "# global variable\n",
    "c = 1 \n",
    "\n",
    "def add():\n",
    "    # use of global keyword\n",
    "    global c \n",
    "    # increment c by 2\n",
    "    c = c + 2 \n",
    "\n",
    "    print(c)\n",
    "\n",
    "add()\n",
    "\n",
    "# Output: 3 "
   ]
  },
  {
   "cell_type": "code",
   "execution_count": 46,
   "metadata": {},
   "outputs": [],
   "source": [
    "import numpy"
   ]
  },
  {
   "cell_type": "code",
   "execution_count": 47,
   "metadata": {},
   "outputs": [
    {
     "data": {
      "text/plain": [
       "'2.1.0'"
      ]
     },
     "execution_count": 47,
     "metadata": {},
     "output_type": "execute_result"
    }
   ],
   "source": [
    "numpy.__version__"
   ]
  },
  {
   "cell_type": "code",
   "execution_count": 48,
   "metadata": {},
   "outputs": [
    {
     "data": {
      "text/plain": [
       "np.int64(343)"
      ]
     },
     "execution_count": 48,
     "metadata": {},
     "output_type": "execute_result"
    }
   ],
   "source": [
    "numpy.abs(-343)"
   ]
  },
  {
   "cell_type": "code",
   "execution_count": 3,
   "metadata": {},
   "outputs": [],
   "source": [
    "import random as rn"
   ]
  },
  {
   "cell_type": "code",
   "execution_count": 4,
   "metadata": {},
   "outputs": [
    {
     "data": {
      "text/plain": [
       "3"
      ]
     },
     "execution_count": 4,
     "metadata": {},
     "output_type": "execute_result"
    }
   ],
   "source": [
    "rn.randint(1,10)"
   ]
  },
  {
   "cell_type": "code",
   "execution_count": 5,
   "metadata": {},
   "outputs": [],
   "source": [
    "from random import *"
   ]
  },
  {
   "cell_type": "code",
   "execution_count": 6,
   "metadata": {},
   "outputs": [],
   "source": [
    "from random import randrange"
   ]
  },
  {
   "cell_type": "code",
   "execution_count": 10,
   "metadata": {},
   "outputs": [
    {
     "data": {
      "text/plain": [
       "5"
      ]
     },
     "execution_count": 10,
     "metadata": {},
     "output_type": "execute_result"
    }
   ],
   "source": [
    "randrange(1,10)"
   ]
  },
  {
   "cell_type": "code",
   "execution_count": 11,
   "metadata": {},
   "outputs": [
    {
     "data": {
      "text/plain": [
       "12"
      ]
     },
     "execution_count": 11,
     "metadata": {},
     "output_type": "execute_result"
    }
   ],
   "source": [
    "rn.choice([2,34,656,323,12])"
   ]
  },
  {
   "cell_type": "code",
   "execution_count": 16,
   "metadata": {},
   "outputs": [],
   "source": []
  },
  {
   "cell_type": "code",
   "execution_count": 15,
   "metadata": {},
   "outputs": [],
   "source": [
    "d"
   ]
  },
  {
   "cell_type": "code",
   "execution_count": 17,
   "metadata": {},
   "outputs": [
    {
     "data": {
      "text/plain": [
       "9"
      ]
     },
     "execution_count": 17,
     "metadata": {},
     "output_type": "execute_result"
    }
   ],
   "source": [
    "4+5"
   ]
  },
  {
   "cell_type": "code",
   "execution_count": 18,
   "metadata": {},
   "outputs": [
    {
     "data": {
      "text/plain": [
       "'45'"
      ]
     },
     "execution_count": 18,
     "metadata": {},
     "output_type": "execute_result"
    }
   ],
   "source": [
    "\"4\"+\"5\""
   ]
  },
  {
   "cell_type": "code",
   "execution_count": 19,
   "metadata": {},
   "outputs": [],
   "source": [
    "a =4"
   ]
  },
  {
   "cell_type": "code",
   "execution_count": 21,
   "metadata": {},
   "outputs": [
    {
     "data": {
      "text/plain": [
       "4"
      ]
     },
     "execution_count": 21,
     "metadata": {},
     "output_type": "execute_result"
    }
   ],
   "source": [
    "a"
   ]
  },
  {
   "cell_type": "code",
   "execution_count": 22,
   "metadata": {},
   "outputs": [
    {
     "data": {
      "text/plain": [
       "4"
      ]
     },
     "execution_count": 22,
     "metadata": {},
     "output_type": "execute_result"
    }
   ],
   "source": [
    "a"
   ]
  },
  {
   "cell_type": "code",
   "execution_count": 23,
   "metadata": {},
   "outputs": [],
   "source": [
    "del a"
   ]
  },
  {
   "cell_type": "code",
   "execution_count": 24,
   "metadata": {},
   "outputs": [
    {
     "ename": "NameError",
     "evalue": "name 'a' is not defined",
     "output_type": "error",
     "traceback": [
      "\u001b[1;31m---------------------------------------------------------------------------\u001b[0m",
      "\u001b[1;31mNameError\u001b[0m                                 Traceback (most recent call last)",
      "Cell \u001b[1;32mIn[24], line 1\u001b[0m\n\u001b[1;32m----> 1\u001b[0m a\n",
      "\u001b[1;31mNameError\u001b[0m: name 'a' is not defined"
     ]
    }
   ],
   "source": [
    "a"
   ]
  },
  {
   "cell_type": "code",
   "execution_count": 25,
   "metadata": {},
   "outputs": [],
   "source": [
    "# \n",
    "def funname():\n",
    "    pass"
   ]
  },
  {
   "cell_type": "code",
   "execution_count": 26,
   "metadata": {},
   "outputs": [],
   "source": [
    "class classname:\n",
    "    pass"
   ]
  },
  {
   "cell_type": "code",
   "execution_count": 27,
   "metadata": {},
   "outputs": [],
   "source": [
    "funname()"
   ]
  },
  {
   "cell_type": "code",
   "execution_count": 33,
   "metadata": {},
   "outputs": [
    {
     "name": "stdout",
     "output_type": "stream",
     "text": [
      "<__main__.classname object at 0x000002A86190AC90>\n"
     ]
    }
   ],
   "source": [
    "print(classname())"
   ]
  },
  {
   "cell_type": "code",
   "execution_count": 31,
   "metadata": {},
   "outputs": [
    {
     "name": "stdout",
     "output_type": "stream",
     "text": [
      "<class 'int'>\n"
     ]
    }
   ],
   "source": [
    "print(int)"
   ]
  },
  {
   "cell_type": "code",
   "execution_count": 34,
   "metadata": {},
   "outputs": [
    {
     "data": {
      "text/plain": [
       "<__main__.classname at 0x2a86190d610>"
      ]
     },
     "execution_count": 34,
     "metadata": {},
     "output_type": "execute_result"
    }
   ],
   "source": [
    "obj = classname()\n",
    "obj"
   ]
  },
  {
   "cell_type": "code",
   "execution_count": 35,
   "metadata": {},
   "outputs": [
    {
     "name": "stdout",
     "output_type": "stream",
     "text": [
      "<__main__.classname object at 0x000002A86190D610>\n"
     ]
    }
   ],
   "source": [
    "print(obj)"
   ]
  },
  {
   "cell_type": "code",
   "execution_count": 36,
   "metadata": {},
   "outputs": [],
   "source": [
    "obj2=classname()"
   ]
  },
  {
   "cell_type": "code",
   "execution_count": 40,
   "metadata": {},
   "outputs": [],
   "source": [
    "class car:\n",
    "\n",
    "    def __init__(self,a):\n",
    "        self.b =a\n",
    "\n",
    "        print(self.b)"
   ]
  },
  {
   "cell_type": "code",
   "execution_count": 44,
   "metadata": {},
   "outputs": [
    {
     "name": "stdout",
     "output_type": "stream",
     "text": [
      "bmw\n"
     ]
    }
   ],
   "source": [
    "obj1= car(\"bmw\")"
   ]
  },
  {
   "cell_type": "code",
   "execution_count": 43,
   "metadata": {},
   "outputs": [
    {
     "name": "stdout",
     "output_type": "stream",
     "text": [
      "audi\n"
     ]
    }
   ],
   "source": [
    "obj2= car(\"audi\")"
   ]
  },
  {
   "cell_type": "code",
   "execution_count": 47,
   "metadata": {},
   "outputs": [
    {
     "data": {
      "text/plain": [
       "int"
      ]
     },
     "execution_count": 47,
     "metadata": {},
     "output_type": "execute_result"
    }
   ],
   "source": [
    "type(4)"
   ]
  },
  {
   "cell_type": "code",
   "execution_count": 48,
   "metadata": {},
   "outputs": [
    {
     "data": {
      "text/plain": [
       "__main__.car"
      ]
     },
     "execution_count": 48,
     "metadata": {},
     "output_type": "execute_result"
    }
   ],
   "source": [
    "type(obj2)"
   ]
  },
  {
   "cell_type": "code",
   "execution_count": 49,
   "metadata": {},
   "outputs": [],
   "source": [
    "a=int(4)"
   ]
  },
  {
   "cell_type": "code",
   "execution_count": 51,
   "metadata": {},
   "outputs": [
    {
     "name": "stdout",
     "output_type": "stream",
     "text": [
      "<class 'int'>\n"
     ]
    }
   ],
   "source": [
    "print(type(a))"
   ]
  },
  {
   "cell_type": "code",
   "execution_count": null,
   "metadata": {},
   "outputs": [],
   "source": []
  }
 ],
 "metadata": {
  "kernelspec": {
   "display_name": "base",
   "language": "python",
   "name": "python3"
  },
  "language_info": {
   "codemirror_mode": {
    "name": "ipython",
    "version": 3
   },
   "file_extension": ".py",
   "mimetype": "text/x-python",
   "name": "python",
   "nbconvert_exporter": "python",
   "pygments_lexer": "ipython3",
   "version": "3.11.9"
  }
 },
 "nbformat": 4,
 "nbformat_minor": 2
}
