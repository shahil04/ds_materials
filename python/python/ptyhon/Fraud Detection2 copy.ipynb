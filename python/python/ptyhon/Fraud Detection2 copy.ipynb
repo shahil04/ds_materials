{
 "cells": [
  {
   "cell_type": "code",
   "execution_count": 15,
   "metadata": {},
   "outputs": [],
   "source": [
    "# Import Modules\n",
    "import pandas as pd\n",
    "import random\n",
    "from datetime import datetime,timedelta\n"
   ]
  },
  {
   "cell_type": "code",
   "execution_count": 16,
   "metadata": {},
   "outputs": [],
   "source": [
    "fake = Faker()\n",
    "# Increase the size of the customer base\n",
    "\n",
    "Banks=['Axis Bank','HDFC Bank','ICICI Bank','SBI Bank','PNB Bank','Kotak Mahindra Bank']\n",
    "CardTypes=['Visa','Rupay','MasterCard']\n",
    "AtmID=['ATM001','ATM002','ATM003','ATM004','ATM005','ATM006','ATM007','ATM008','ATM009','ATM010']\n"
   ]
  },
  {
   "cell_type": "code",
   "execution_count": 5,
   "metadata": {},
   "outputs": [
    {
     "name": "stdout",
     "output_type": "stream",
     "text": [
      "Save Sucess\n"
     ]
    }
   ],
   "source": [
    "# Function to genrate Random Transactions for 100,000 users...\n",
    "def LargeDataset(NumRecords):\n",
    "    dataset=[]\n",
    "    startdate=datetime(2024,10,30,0,0,0)\n",
    "    global CustomerName\n",
    "    for i in range(NumRecords):\n",
    "        CardNum=random.randint(10000,99999)\n",
    "        random_name=random.choice(CustomerName)\n",
    "        CustomerName=f\"{random_name}{i % len(CustomerName)}\"\n",
    "        TransactionDateTime=startdate + timedelta(minutes=random.randint(1,1440))\n",
    "        TransactionAmount=round(random.uniform(500,50000),2)\n",
    "        Status=random.choice(['S','F'])  # 'S' for Success  & 'F' for Failure\n",
    "        CardType=random.choice(CardTypes)\n",
    "        BankName=random.choice(Banks)\n",
    "        AtmId=random.choice(AtmID)\n",
    "\n",
    "        # Now we have to append this data into the dataset which we have created above inside function\n",
    "\n",
    "        dataset.append({\n",
    "            \"CardNum\":CardNum,\n",
    "            \"CustomerName\":CustomerName,\n",
    "            \"TransactionDate&Time\":TransactionDateTime,\n",
    "            \"TransactionAmount\":TransactionAmount,\n",
    "            \"Status\":Status,\n",
    "            \"CardType\":CardType,\n",
    "            \"BankName\":BankName,\n",
    "            \"AtmId\":AtmId\n",
    "        })\n",
    "\n",
    "    # Now we have to return this datset in form of dataframe using pandas library\n",
    "    return pd.DataFrame(dataset)\n",
    "\n",
    "# Generate Dataset with 100,000 transactions(10 transaction per user on average)\n",
    "dfLarge=LargeDataset(100000)\n",
    "dfLarge.head()\n",
    "dfLarge.to_excel(\"Sam.xlsx\")\n",
    "print(\"Save Sucess\")"
   ]
  },
  {
   "cell_type": "markdown",
   "metadata": {},
   "source": [
    "## create 2 extra columns"
   ]
  },
  {
   "cell_type": "code",
   "execution_count": 6,
   "metadata": {},
   "outputs": [
    {
     "data": {
      "text/html": [
       "<div>\n",
       "<style scoped>\n",
       "    .dataframe tbody tr th:only-of-type {\n",
       "        vertical-align: middle;\n",
       "    }\n",
       "\n",
       "    .dataframe tbody tr th {\n",
       "        vertical-align: top;\n",
       "    }\n",
       "\n",
       "    .dataframe thead th {\n",
       "        text-align: right;\n",
       "    }\n",
       "</style>\n",
       "<table border=\"1\" class=\"dataframe\">\n",
       "  <thead>\n",
       "    <tr style=\"text-align: right;\">\n",
       "      <th></th>\n",
       "      <th>CardNum</th>\n",
       "      <th>CustomerName</th>\n",
       "      <th>TransactionDate&amp;Time</th>\n",
       "      <th>TransactionAmount</th>\n",
       "      <th>Status</th>\n",
       "      <th>CardType</th>\n",
       "      <th>BankName</th>\n",
       "      <th>AtmId</th>\n",
       "      <th>SuspectedFraud</th>\n",
       "      <th>CyclicTransactions</th>\n",
       "    </tr>\n",
       "  </thead>\n",
       "  <tbody>\n",
       "    <tr>\n",
       "      <th>1</th>\n",
       "      <td>19211</td>\n",
       "      <td>&gt;1</td>\n",
       "      <td>2024-10-30 09:24:00</td>\n",
       "      <td>46195.67</td>\n",
       "      <td>F</td>\n",
       "      <td>Visa</td>\n",
       "      <td>PNB Bank</td>\n",
       "      <td>ATM003</td>\n",
       "      <td>True</td>\n",
       "      <td>False</td>\n",
       "    </tr>\n",
       "    <tr>\n",
       "      <th>2</th>\n",
       "      <td>87385</td>\n",
       "      <td>&gt;0</td>\n",
       "      <td>2024-10-30 06:43:00</td>\n",
       "      <td>24722.28</td>\n",
       "      <td>S</td>\n",
       "      <td>Visa</td>\n",
       "      <td>SBI Bank</td>\n",
       "      <td>ATM005</td>\n",
       "      <td>True</td>\n",
       "      <td>False</td>\n",
       "    </tr>\n",
       "    <tr>\n",
       "      <th>3</th>\n",
       "      <td>44452</td>\n",
       "      <td>&gt;1</td>\n",
       "      <td>2024-10-30 17:46:00</td>\n",
       "      <td>21971.84</td>\n",
       "      <td>F</td>\n",
       "      <td>Visa</td>\n",
       "      <td>Kotak Mahindra Bank</td>\n",
       "      <td>ATM010</td>\n",
       "      <td>True</td>\n",
       "      <td>False</td>\n",
       "    </tr>\n",
       "    <tr>\n",
       "      <th>4</th>\n",
       "      <td>24231</td>\n",
       "      <td>&gt;0</td>\n",
       "      <td>2024-10-30 15:35:00</td>\n",
       "      <td>35704.96</td>\n",
       "      <td>F</td>\n",
       "      <td>Visa</td>\n",
       "      <td>Axis Bank</td>\n",
       "      <td>ATM007</td>\n",
       "      <td>True</td>\n",
       "      <td>False</td>\n",
       "    </tr>\n",
       "    <tr>\n",
       "      <th>5</th>\n",
       "      <td>76493</td>\n",
       "      <td>&gt;1</td>\n",
       "      <td>2024-10-30 09:19:00</td>\n",
       "      <td>11063.51</td>\n",
       "      <td>F</td>\n",
       "      <td>MasterCard</td>\n",
       "      <td>SBI Bank</td>\n",
       "      <td>ATM007</td>\n",
       "      <td>True</td>\n",
       "      <td>False</td>\n",
       "    </tr>\n",
       "  </tbody>\n",
       "</table>\n",
       "</div>"
      ],
      "text/plain": [
       "   CardNum CustomerName TransactionDate&Time  TransactionAmount Status  \\\n",
       "1    19211           >1  2024-10-30 09:24:00           46195.67      F   \n",
       "2    87385           >0  2024-10-30 06:43:00           24722.28      S   \n",
       "3    44452           >1  2024-10-30 17:46:00           21971.84      F   \n",
       "4    24231           >0  2024-10-30 15:35:00           35704.96      F   \n",
       "5    76493           >1  2024-10-30 09:19:00           11063.51      F   \n",
       "\n",
       "     CardType             BankName   AtmId  SuspectedFraud  CyclicTransactions  \n",
       "1        Visa             PNB Bank  ATM003            True               False  \n",
       "2        Visa             SBI Bank  ATM005            True               False  \n",
       "3        Visa  Kotak Mahindra Bank  ATM010            True               False  \n",
       "4        Visa            Axis Bank  ATM007            True               False  \n",
       "5  MasterCard             SBI Bank  ATM007            True               False  "
      ]
     },
     "execution_count": 6,
     "metadata": {},
     "output_type": "execute_result"
    }
   ],
   "source": [
    "# Define The Thresholds\n",
    "HighValueThreshold=10000  # Example Threshols for High Values Transactions\n",
    "\n",
    "def IdentifyFraudLogic(df):\n",
    "    #Suspected fraud transaction : High-value or failed transactions\n",
    "    df['SuspectedFraud']=df.apply(lambda row: True if row['TransactionAmount']>HighValueThreshold or row['Status']=='F' else False,axis=1)\n",
    "\n",
    "    # Cyclic transactions: Multiple Transaction by the same user with the same amount in a short period\n",
    "    CyclicTransaction=[]\n",
    "    for Name,Group in df.groupby('CustomerName'):\n",
    "        Amounts=Group[\"TransactionAmount\"].value_counts()\n",
    "        CyclicTransaction+=Group[Group['TransactionAmount'].isin(Amounts[Amounts>1].index)].index.tolist()\n",
    "\n",
    "    df['CyclicTransactions']=df.index.isin(CyclicTransaction)\n",
    "    \n",
    "    return df\n",
    "\n",
    "dfFraudLarge=IdentifyFraudLogic(dfLarge)\n",
    "dfFraudLarge[dfFraudLarge['SuspectedFraud'] | dfFraudLarge['CyclicTransactions']].head()"
   ]
  },
  {
   "cell_type": "code",
   "execution_count": null,
   "metadata": {},
   "outputs": [],
   "source": []
  },
  {
   "cell_type": "markdown",
   "metadata": {},
   "source": [
    "## data encoding"
   ]
  },
  {
   "cell_type": "code",
   "execution_count": 7,
   "metadata": {},
   "outputs": [],
   "source": [
    "from sklearn.model_selection import train_test_split\n",
    "from sklearn.preprocessing import LabelEncoder as LE\n",
    "\n",
    "# Encoding categorical variables\n",
    "dfMLLarge=dfFraudLarge.copy()\n",
    "LabelEncoder=LE() # Giving a short name to Label Encoder to LE\n",
    "\n",
    "dfMLLarge['CustomerName']=LabelEncoder.fit_transform(dfMLLarge['CustomerName'])\n",
    "dfMLLarge['CardType']=LabelEncoder.fit_transform(dfMLLarge['CardType'])\n",
    "dfMLLarge['BankName']=LabelEncoder.fit_transform(dfMLLarge['BankName'])\n",
    "dfMLLarge['AtmId']=LabelEncoder.fit_transform(dfMLLarge['AtmId'])\n",
    "\n",
    "# Convert TransactionDate&Time to TimeStamp\n",
    "dfMLLarge['TransactionDate&Time']=pd.to_datetime(dfFraudLarge['TransactionDate&Time']).astype(int)//10**9\n"
   ]
  },
  {
   "cell_type": "markdown",
   "metadata": {},
   "source": [
    "# train test split"
   ]
  },
  {
   "cell_type": "code",
   "execution_count": null,
   "metadata": {},
   "outputs": [],
   "source": []
  },
  {
   "cell_type": "code",
   "execution_count": 8,
   "metadata": {},
   "outputs": [
    {
     "data": {
      "text/plain": [
       "((80000, 9), (20000, 9))"
      ]
     },
     "execution_count": 8,
     "metadata": {},
     "output_type": "execute_result"
    }
   ],
   "source": [
    "# model data test train split\n",
    "# Define Features and target..\n",
    "x=dfMLLarge.drop(columns=['Status'])\n",
    "y=dfMLLarge['Status']\n",
    "y= y.map({'F':0,'S':1})\n",
    "# Split the dataset into training and test series\n",
    "x_train,x_test,y_train,y_test=train_test_split(x,y,test_size=0.2,random_state=42)\n",
    "\n",
    "# Check the size of the training and test datasets...\n",
    "x_train.shape,x_test.shape"
   ]
  },
  {
   "cell_type": "code",
   "execution_count": 9,
   "metadata": {},
   "outputs": [
    {
     "data": {
      "text/plain": [
       "75220    1\n",
       "48955    0\n",
       "44966    1\n",
       "13568    1\n",
       "92727    1\n",
       "        ..\n",
       "6265     1\n",
       "54886    0\n",
       "76820    1\n",
       "860      1\n",
       "15795    1\n",
       "Name: Status, Length: 80000, dtype: int64"
      ]
     },
     "execution_count": 9,
     "metadata": {},
     "output_type": "execute_result"
    }
   ],
   "source": [
    "y_train"
   ]
  },
  {
   "cell_type": "code",
   "execution_count": null,
   "metadata": {},
   "outputs": [],
   "source": []
  },
  {
   "cell_type": "markdown",
   "metadata": {},
   "source": [
    "# model Creations"
   ]
  },
  {
   "cell_type": "code",
   "execution_count": 10,
   "metadata": {},
   "outputs": [
    {
     "name": "stdout",
     "output_type": "stream",
     "text": [
      "Accuracy: 0.6034\n",
      "              precision    recall  f1-score   support\n",
      "\n",
      "           0       0.60      0.62      0.61      9994\n",
      "           1       0.61      0.59      0.60     10006\n",
      "\n",
      "    accuracy                           0.60     20000\n",
      "   macro avg       0.60      0.60      0.60     20000\n",
      "weighted avg       0.60      0.60      0.60     20000\n",
      "\n"
     ]
    }
   ],
   "source": [
    "\n",
    "from sklearn.ensemble import RandomForestClassifier\n",
    "from sklearn.metrics import classification_report, accuracy_score\n",
    "\n",
    "\n",
    "\n",
    "# Train the RandomForestClassifier\n",
    "Model = RandomForestClassifier(n_estimators=100, random_state=42, n_jobs=1)\n",
    "Model.fit(x_train, y_train)\n",
    "\n",
    "# Predict on the test set\n",
    "y_pred = Model.predict(x_test)\n",
    "\n",
    "# Evaluate the Model\n",
    "print(\"Accuracy:\", accuracy_score(y_test, y_pred))\n",
    "print(classification_report(y_test, y_pred))\n"
   ]
  },
  {
   "cell_type": "code",
   "execution_count": 11,
   "metadata": {},
   "outputs": [
    {
     "data": {
      "text/plain": [
       "array([1, 0, 0, ..., 1, 1, 0])"
      ]
     },
     "execution_count": 11,
     "metadata": {},
     "output_type": "execute_result"
    }
   ],
   "source": [
    "y_pred"
   ]
  },
  {
   "cell_type": "code",
   "execution_count": 12,
   "metadata": {},
   "outputs": [
    {
     "data": {
      "text/plain": [
       "<bound method ForestClassifier.predict of RandomForestClassifier(n_jobs=1, random_state=42)>"
      ]
     },
     "execution_count": 12,
     "metadata": {},
     "output_type": "execute_result"
    }
   ],
   "source": [
    "Model.predict"
   ]
  },
  {
   "cell_type": "markdown",
   "metadata": {},
   "source": [
    "## Again create data for predictions"
   ]
  },
  {
   "cell_type": "code",
   "execution_count": 13,
   "metadata": {},
   "outputs": [
    {
     "data": {
      "text/html": [
       "<div>\n",
       "<style scoped>\n",
       "    .dataframe tbody tr th:only-of-type {\n",
       "        vertical-align: middle;\n",
       "    }\n",
       "\n",
       "    .dataframe tbody tr th {\n",
       "        vertical-align: top;\n",
       "    }\n",
       "\n",
       "    .dataframe thead th {\n",
       "        text-align: right;\n",
       "    }\n",
       "</style>\n",
       "<table border=\"1\" class=\"dataframe\">\n",
       "  <thead>\n",
       "    <tr style=\"text-align: right;\">\n",
       "      <th></th>\n",
       "      <th>CardNum</th>\n",
       "      <th>CustomerName</th>\n",
       "      <th>TransactionDate&amp;Time</th>\n",
       "      <th>TransactionAmount</th>\n",
       "      <th>CardType</th>\n",
       "      <th>BankName</th>\n",
       "      <th>AtmId</th>\n",
       "      <th>SuspectedFraud</th>\n",
       "      <th>CyclicTransactions</th>\n",
       "    </tr>\n",
       "  </thead>\n",
       "  <tbody>\n",
       "    <tr>\n",
       "      <th>75741</th>\n",
       "      <td>78096</td>\n",
       "      <td>1</td>\n",
       "      <td>1730249520</td>\n",
       "      <td>15118.15</td>\n",
       "      <td>2</td>\n",
       "      <td>5</td>\n",
       "      <td>4</td>\n",
       "      <td>True</td>\n",
       "      <td>False</td>\n",
       "    </tr>\n",
       "    <tr>\n",
       "      <th>69663</th>\n",
       "      <td>11334</td>\n",
       "      <td>1</td>\n",
       "      <td>1730300340</td>\n",
       "      <td>31681.16</td>\n",
       "      <td>0</td>\n",
       "      <td>2</td>\n",
       "      <td>2</td>\n",
       "      <td>True</td>\n",
       "      <td>False</td>\n",
       "    </tr>\n",
       "    <tr>\n",
       "      <th>76236</th>\n",
       "      <td>12283</td>\n",
       "      <td>2</td>\n",
       "      <td>1730288400</td>\n",
       "      <td>23821.17</td>\n",
       "      <td>1</td>\n",
       "      <td>0</td>\n",
       "      <td>5</td>\n",
       "      <td>True</td>\n",
       "      <td>False</td>\n",
       "    </tr>\n",
       "    <tr>\n",
       "      <th>53299</th>\n",
       "      <td>14301</td>\n",
       "      <td>3</td>\n",
       "      <td>1730271300</td>\n",
       "      <td>25748.45</td>\n",
       "      <td>2</td>\n",
       "      <td>4</td>\n",
       "      <td>1</td>\n",
       "      <td>True</td>\n",
       "      <td>False</td>\n",
       "    </tr>\n",
       "    <tr>\n",
       "      <th>11554</th>\n",
       "      <td>31198</td>\n",
       "      <td>2</td>\n",
       "      <td>1730286660</td>\n",
       "      <td>9274.76</td>\n",
       "      <td>2</td>\n",
       "      <td>5</td>\n",
       "      <td>0</td>\n",
       "      <td>True</td>\n",
       "      <td>False</td>\n",
       "    </tr>\n",
       "    <tr>\n",
       "      <th>12743</th>\n",
       "      <td>88495</td>\n",
       "      <td>3</td>\n",
       "      <td>1730316120</td>\n",
       "      <td>9008.46</td>\n",
       "      <td>0</td>\n",
       "      <td>5</td>\n",
       "      <td>9</td>\n",
       "      <td>True</td>\n",
       "      <td>False</td>\n",
       "    </tr>\n",
       "    <tr>\n",
       "      <th>69354</th>\n",
       "      <td>97028</td>\n",
       "      <td>0</td>\n",
       "      <td>1730272200</td>\n",
       "      <td>42637.32</td>\n",
       "      <td>1</td>\n",
       "      <td>5</td>\n",
       "      <td>1</td>\n",
       "      <td>True</td>\n",
       "      <td>False</td>\n",
       "    </tr>\n",
       "    <tr>\n",
       "      <th>83003</th>\n",
       "      <td>55819</td>\n",
       "      <td>3</td>\n",
       "      <td>1730275860</td>\n",
       "      <td>10117.14</td>\n",
       "      <td>2</td>\n",
       "      <td>1</td>\n",
       "      <td>6</td>\n",
       "      <td>True</td>\n",
       "      <td>False</td>\n",
       "    </tr>\n",
       "    <tr>\n",
       "      <th>83121</th>\n",
       "      <td>50126</td>\n",
       "      <td>1</td>\n",
       "      <td>1730268720</td>\n",
       "      <td>34953.32</td>\n",
       "      <td>0</td>\n",
       "      <td>3</td>\n",
       "      <td>5</td>\n",
       "      <td>True</td>\n",
       "      <td>False</td>\n",
       "    </tr>\n",
       "    <tr>\n",
       "      <th>3826</th>\n",
       "      <td>50802</td>\n",
       "      <td>2</td>\n",
       "      <td>1730259120</td>\n",
       "      <td>13059.94</td>\n",
       "      <td>0</td>\n",
       "      <td>2</td>\n",
       "      <td>8</td>\n",
       "      <td>True</td>\n",
       "      <td>False</td>\n",
       "    </tr>\n",
       "  </tbody>\n",
       "</table>\n",
       "</div>"
      ],
      "text/plain": [
       "       CardNum  CustomerName  TransactionDate&Time  TransactionAmount  \\\n",
       "75741    78096             1            1730249520           15118.15   \n",
       "69663    11334             1            1730300340           31681.16   \n",
       "76236    12283             2            1730288400           23821.17   \n",
       "53299    14301             3            1730271300           25748.45   \n",
       "11554    31198             2            1730286660            9274.76   \n",
       "12743    88495             3            1730316120            9008.46   \n",
       "69354    97028             0            1730272200           42637.32   \n",
       "83003    55819             3            1730275860           10117.14   \n",
       "83121    50126             1            1730268720           34953.32   \n",
       "3826     50802             2            1730259120           13059.94   \n",
       "\n",
       "       CardType  BankName  AtmId  SuspectedFraud  CyclicTransactions  \n",
       "75741         2         5      4            True               False  \n",
       "69663         0         2      2            True               False  \n",
       "76236         1         0      5            True               False  \n",
       "53299         2         4      1            True               False  \n",
       "11554         2         5      0            True               False  \n",
       "12743         0         5      9            True               False  \n",
       "69354         1         5      1            True               False  \n",
       "83003         2         1      6            True               False  \n",
       "83121         0         3      5            True               False  \n",
       "3826          0         2      8            True               False  "
      ]
     },
     "execution_count": 13,
     "metadata": {},
     "output_type": "execute_result"
    }
   ],
   "source": [
    "x_test.sample(10)"
   ]
  },
  {
   "cell_type": "code",
   "execution_count": null,
   "metadata": {},
   "outputs": [],
   "source": []
  },
  {
   "cell_type": "markdown",
   "metadata": {},
   "source": [
    "## final predtionctions"
   ]
  },
  {
   "cell_type": "code",
   "execution_count": 14,
   "metadata": {},
   "outputs": [
    {
     "name": "stdout",
     "output_type": "stream",
     "text": [
      "[1 1 0 1 1 1 1 0 1 1]\n"
     ]
    }
   ],
   "source": [
    "print(Model.predict(x_test.sample(10)))"
   ]
  },
  {
   "cell_type": "code",
   "execution_count": null,
   "metadata": {},
   "outputs": [],
   "source": [
    "\n"
   ]
  },
  {
   "cell_type": "code",
   "execution_count": null,
   "metadata": {},
   "outputs": [],
   "source": []
  }
 ],
 "metadata": {
  "kernelspec": {
   "display_name": "Python 3",
   "language": "python",
   "name": "python3"
  },
  "language_info": {
   "codemirror_mode": {
    "name": "ipython",
    "version": 3
   },
   "file_extension": ".py",
   "mimetype": "text/x-python",
   "name": "python",
   "nbconvert_exporter": "python",
   "pygments_lexer": "ipython3",
   "version": "3.12.5"
  }
 },
 "nbformat": 4,
 "nbformat_minor": 2
}
