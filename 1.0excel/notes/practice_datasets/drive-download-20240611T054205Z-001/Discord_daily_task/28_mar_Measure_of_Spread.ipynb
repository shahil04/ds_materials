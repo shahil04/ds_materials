{
  "cells": [
    {
      "cell_type": "markdown",
      "metadata": {
        "colab_type": "text",
        "id": "wPQ-oKmUd4VC"
      },
      "source": [
        "# Range : \n",
        "\n",
        "---\n",
        "\n",
        "Range = X(lagest) - X (lowest)\n",
        "\n",
        "create the data set using numpy and find the range of the data set\n",
        "\n",
        "Hints: use np.ptp to calculate the range \n",
        "    - or Do manually maths "
      ]
    },
    {
      "cell_type": "code",
      "execution_count": null,
      "metadata": {
        "colab": {
          "base_uri": "https://localhost:8080/",
          "height": 51
        },
        "colab_type": "code",
        "id": "zFat5FJ8d1-6",
        "outputId": "10536d99-7178-4d92-8fce-3f5f325c3c14"
      },
      "outputs": [],
      "source": []
    },
    {
      "cell_type": "code",
      "execution_count": null,
      "metadata": {},
      "outputs": [],
      "source": []
    },
    {
      "cell_type": "markdown",
      "metadata": {
        "colab_type": "text",
        "id": "qmZJRD0xekaC"
      },
      "source": [
        "# Quartile\n",
        "\n",
        "---\n",
        "\n",
        "Hints: np.percetiles or use simple maths formula using code\n",
        "\n"
      ]
    },
    {
      "cell_type": "code",
      "execution_count": null,
      "metadata": {
        "colab": {
          "base_uri": "https://localhost:8080/",
          "height": 85
        },
        "colab_type": "code",
        "id": "onAG-ZzleNRO",
        "outputId": "79be6256-2bf0-4d90-e955-b9f77b17d9da"
      },
      "outputs": [],
      "source": [
        "A=np.array([[10,14,11,7,9.5,15,19],[8,9,17,14.5,12,18,15.5], [15,7.5,11.5,10,10.5,7,11],[11.5,11,9,12,14,12,7.5]])\n"
      ]
    },
    {
      "cell_type": "markdown",
      "metadata": {
        "colab_type": "text",
        "id": "7Do6eEXLgj2i"
      },
      "source": [
        "# inter-qurtile range\n",
        "\n",
        "---\n",
        "Hints: scipy.stats import iqr\n",
        "\n"
      ]
    },
    {
      "cell_type": "code",
      "execution_count": null,
      "metadata": {
        "colab": {
          "base_uri": "https://localhost:8080/",
          "height": 34
        },
        "colab_type": "code",
        "id": "v0J_1_TVgqF_",
        "outputId": "0956b1cd-d0f9-4058-ccd3-d50a41a4caed"
      },
      "outputs": [],
      "source": []
    },
    {
      "cell_type": "markdown",
      "metadata": {
        "colab_type": "text",
        "id": "TeDGcMkvg5je"
      },
      "source": [
        "# Variance\n",
        "\n",
        "---\n",
        "Hints: np.var \n"
      ]
    },
    {
      "cell_type": "code",
      "execution_count": null,
      "metadata": {
        "colab": {
          "base_uri": "https://localhost:8080/",
          "height": 51
        },
        "colab_type": "code",
        "id": "RA52W0_HgrOz",
        "outputId": "4554289c-45b5-4a5c-d611-4092f80e7ee8"
      },
      "outputs": [],
      "source": []
    },
    {
      "cell_type": "markdown",
      "metadata": {
        "colab_type": "text",
        "id": "H40m2neihCJC"
      },
      "source": [
        "# Standard deviation\n",
        "\n",
        "---\n",
        "Hints: np.std or use scipy library\n"
      ]
    },
    {
      "cell_type": "code",
      "execution_count": null,
      "metadata": {
        "colab": {
          "base_uri": "https://localhost:8080/",
          "height": 68
        },
        "colab_type": "code",
        "id": "9pETuLnmhAsc",
        "outputId": "1ff2c7d4-2723-4a54-cf94-5e5968bfcd17"
      },
      "outputs": [],
      "source": []
    },
    {
      "cell_type": "code",
      "execution_count": null,
      "metadata": {},
      "outputs": [],
      "source": []
    },
    {
      "cell_type": "code",
      "execution_count": null,
      "metadata": {},
      "outputs": [],
      "source": []
    }
  ],
  "metadata": {
    "colab": {
      "name": "Measure_of_Spread.ipynb",
      "provenance": [],
      "version": "0.3.2"
    },
    "kernelspec": {
      "display_name": "Python 3",
      "name": "python3"
    },
    "language_info": {
      "codemirror_mode": {
        "name": "ipython",
        "version": 3
      },
      "file_extension": ".py",
      "mimetype": "text/x-python",
      "name": "python",
      "nbconvert_exporter": "python",
      "pygments_lexer": "ipython3",
      "version": "3.11.5"
    }
  },
  "nbformat": 4,
  "nbformat_minor": 0
}
