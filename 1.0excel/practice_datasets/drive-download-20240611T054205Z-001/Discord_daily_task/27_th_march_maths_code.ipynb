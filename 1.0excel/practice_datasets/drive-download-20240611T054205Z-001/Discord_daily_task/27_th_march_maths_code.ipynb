{
  "nbformat": 4,
  "nbformat_minor": 0,
  "metadata": {
    "colab": {
      "provenance": []
    },
    "kernelspec": {
      "name": "python3",
      "display_name": "Python 3"
    },
    "language_info": {
      "name": "python"
    }
  },
  "cells": [
    {
      "cell_type": "markdown",
      "source": [
        "1. What is a Python library? Why do we use Python libraries?\n",
        "2. What is the difference between Numpy array and List?\n",
        "3. Find the shape, size and dimension of the following array?\n",
        "\n",
        "[[1, 2, 3, 4]\n",
        "\n",
        "[5, 6, 7, 8],\n",
        "\n",
        "[9, 10, 11, 12]]\n",
        "\n",
        "4. Write python code to access the first row of the following array?\n",
        "\n",
        "[[1, 2, 3, 4]\n",
        "\n",
        "[5, 6, 7, 8],\n",
        "\n",
        "[9, 10, 11, 12]]\n"
      ],
      "metadata": {
        "id": "ZGfl8c3Dx7Md"
      }
    },
    {
      "cell_type": "code",
      "source": [],
      "metadata": {
        "id": "FlYe_3qUoh5f"
      },
      "execution_count": null,
      "outputs": []
    }
  ]
}