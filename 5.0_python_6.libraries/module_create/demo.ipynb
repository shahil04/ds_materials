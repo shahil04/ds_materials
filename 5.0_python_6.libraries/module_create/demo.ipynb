{
 "cells": [
  {
   "cell_type": "code",
   "execution_count": null,
   "id": "11b9c1f5",
   "metadata": {},
   "outputs": [],
   "source": [
    "#all  \n",
    "import maths"
   ]
  },
  {
   "cell_type": "code",
   "execution_count": 2,
   "id": "ca57f5d5",
   "metadata": {},
   "outputs": [
    {
     "data": {
      "text/plain": [
       "9"
      ]
     },
     "execution_count": 2,
     "metadata": {},
     "output_type": "execute_result"
    }
   ],
   "source": [
    "maths.add(4,5)"
   ]
  },
  {
   "cell_type": "code",
   "execution_count": null,
   "id": "90df05ef",
   "metadata": {},
   "outputs": [
    {
     "name": "stdout",
     "output_type": "stream",
     "text": [
      "0 1 1 2 3 5 8 13 21 "
     ]
    }
   ],
   "source": [
    "# for specific function load\n",
    "from maths import finc\n",
    "\n",
    "\n",
    "finc(7)"
   ]
  },
  {
   "cell_type": "code",
   "execution_count": null,
   "id": "b8089911",
   "metadata": {},
   "outputs": [],
   "source": [
    "# to load all functions\n",
    "from maths import *"
   ]
  },
  {
   "cell_type": "code",
   "execution_count": 6,
   "id": "e26b3fed",
   "metadata": {},
   "outputs": [
    {
     "data": {
      "text/plain": [
       "30"
      ]
     },
     "execution_count": 6,
     "metadata": {},
     "output_type": "execute_result"
    }
   ],
   "source": [
    "mul(5,6)"
   ]
  },
  {
   "cell_type": "code",
   "execution_count": 8,
   "id": "76693f65",
   "metadata": {},
   "outputs": [
    {
     "name": "stdout",
     "output_type": "stream",
     "text": [
      "do calculs works\n"
     ]
    }
   ],
   "source": [
    "import mathmetics\n",
    "import mathmetics.calculs\n",
    "\n",
    "mathmetics.calculs.cal()"
   ]
  },
  {
   "cell_type": "code",
   "execution_count": 9,
   "id": "6611164a",
   "metadata": {},
   "outputs": [],
   "source": [
    "from mathmetics.calculs import cal"
   ]
  },
  {
   "cell_type": "code",
   "execution_count": 12,
   "id": "0e350c41",
   "metadata": {},
   "outputs": [],
   "source": [
    "from mathmetics import linear\n",
    "from mathmetics.linear import * "
   ]
  },
  {
   "cell_type": "code",
   "execution_count": 11,
   "id": "540ae8dd",
   "metadata": {},
   "outputs": [
    {
     "name": "stdout",
     "output_type": "stream",
     "text": [
      "do linear works\n"
     ]
    }
   ],
   "source": [
    "linear.linear()"
   ]
  },
  {
   "cell_type": "code",
   "execution_count": null,
   "id": "3fd1f5f3",
   "metadata": {},
   "outputs": [
    {
     "name": "stdout",
     "output_type": "stream",
     "text": [
      "Requirement already satisfied: numpy in c:\\users\\hp\\.conda\\envs\\aienv\\lib\\site-packages (1.26.4)\n",
      "Note: you may need to restart the kernel to use updated packages.\n"
     ]
    }
   ],
   "source": [
    "stall numpypip in"
   ]
  },
  {
   "cell_type": "code",
   "execution_count": null,
   "id": "0e6760f0",
   "metadata": {},
   "outputs": [],
   "source": []
  }
 ],
 "metadata": {
  "kernelspec": {
   "display_name": "aienv",
   "language": "python",
   "name": "python3"
  },
  "language_info": {
   "codemirror_mode": {
    "name": "ipython",
    "version": 3
   },
   "file_extension": ".py",
   "mimetype": "text/x-python",
   "name": "python",
   "nbconvert_exporter": "python",
   "pygments_lexer": "ipython3",
   "version": "3.12.9"
  }
 },
 "nbformat": 4,
 "nbformat_minor": 5
}
