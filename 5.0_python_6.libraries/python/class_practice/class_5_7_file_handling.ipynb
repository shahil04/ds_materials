{
 "cells": [
  {
   "cell_type": "markdown",
   "metadata": {},
   "source": [
    "Write a program to create a class named `Product`. The `Product` class has the following attributes:\n",
    "\n",
    "- **Unique identification number**: `id`\n",
    "- **Product Name**: `name`\n",
    "- **Product Price**: `price`\n",
    "- **Product Quantity**: `qty`\n",
    "\n",
    "Define the following methods and constructor:  \n",
    "1. Constructor to initialize the product ID.  \n",
    "2. Method to get product details as Name, Price, and Quantity.  \n",
    "3. Method to display a product."
   ]
  },
  {
   "cell_type": "code",
   "execution_count": null,
   "metadata": {},
   "outputs": [],
   "source": [
    "#file handling"
   ]
  },
  {
   "cell_type": "code",
   "execution_count": 2,
   "metadata": {},
   "outputs": [
    {
     "data": {
      "text/plain": [
       "'c:\\\\Users\\\\hp\\\\Documents\\\\ds\\\\ds_materials\\\\python\\\\python\\\\class_practice'"
      ]
     },
     "execution_count": 2,
     "metadata": {},
     "output_type": "execute_result"
    }
   ],
   "source": [
    "import os\n",
    "\n",
    "os.getcwd()"
   ]
  },
  {
   "cell_type": "code",
   "execution_count": 3,
   "metadata": {},
   "outputs": [
    {
     "name": "stdout",
     "output_type": "stream",
     "text": [
      "c:\\Users\\hp\\Documents\\ds\\ds_materials\\python\\python\\class_practice\n"
     ]
    }
   ],
   "source": [
    "print(os.getcwd())"
   ]
  },
  {
   "cell_type": "code",
   "execution_count": 9,
   "metadata": {},
   "outputs": [
    {
     "name": "stdout",
     "output_type": "stream",
     "text": [
      "c:\\Users\\hp\\Documents\\ds\\ds_materials\\python\\python\\class_practice\n"
     ]
    }
   ],
   "source": [
    "\n",
    "\n",
    "# change directory\n",
    "os.chdir('c:\\\\Users\\\\hp\\\\Documents\\\\ds\\\\ds_materials\\\\python\\\\python\\\\class_practice')\n",
    "\n",
    "print(os.getcwd())"
   ]
  },
  {
   "cell_type": "code",
   "execution_count": 10,
   "metadata": {},
   "outputs": [
    {
     "data": {
      "text/plain": [
       "['7754daab16fb8cf48860699e4ef60e71826596_15735_66cd8d80048f4.pdf',\n",
       " 'abc.csv',\n",
       " 'basic_data_excel.xlsx',\n",
       " 'basic_html_css_js.doc',\n",
       " 'cal.py',\n",
       " 'cass.ipynb',\n",
       " 'class_11_01_weekday_regex_ws.ipynb',\n",
       " 'class_11_1_mat_sea copy.ipynb',\n",
       " 'class_11_1_mat_sea.ipynb',\n",
       " 'class_11_1_stats.ipynb',\n",
       " 'class_2_4_exer.ipynb',\n",
       " 'class_2_4_web_regx.ipynb',\n",
       " 'class_5_7.ipynb',\n",
       " 'class_5_7.py',\n",
       " 'class_5_7_dict.ipynb',\n",
       " 'class_5_7_file_handling.ipynb',\n",
       " 'class_5_7_funtions.ipynb',\n",
       " 'clean_data.csv',\n",
       " 'demo.py',\n",
       " 'demo.txt',\n",
       " 'HTTP-Status-Codes-Cheat-Sheet.png',\n",
       " 'json_info.csv',\n",
       " 'numpy.ipynb',\n",
       " 'pandas_class_11_1.ipynb',\n",
       " 'passenger_count_by_class.png',\n",
       " 'ph_scrap_yellow.ipynb',\n",
       " 'products.csv',\n",
       " 'projectsweb_scrap.ipynb',\n",
       " 'python_class_5_7_dt.ipynb',\n",
       " 're.txt',\n",
       " 'regex.ipynb',\n",
       " 'requests_bs4.ipynb',\n",
       " 'Salary Sheet.xlsx',\n",
       " 'services.csv',\n",
       " 'status_codes.jpg',\n",
       " 'titanic.csv',\n",
       " 'weekend_2_4_pandas.ipynb']"
      ]
     },
     "execution_count": 10,
     "metadata": {},
     "output_type": "execute_result"
    }
   ],
   "source": [
    "#List Directories and Files in Python\n",
    "os.listdir()"
   ]
  },
  {
   "cell_type": "code",
   "execution_count": 11,
   "metadata": {},
   "outputs": [],
   "source": [
    "# Making a New Directory in Python\n",
    "os.mkdir(\"xyz.txt\")"
   ]
  },
  {
   "cell_type": "code",
   "execution_count": 12,
   "metadata": {},
   "outputs": [],
   "source": [
    "os.chdir(\"c:\\\\Users\\\\hp\\\\Documents\\\\ds\\\\ds_materials\\\\python\\\\python\\\\class_practice\")"
   ]
  },
  {
   "cell_type": "code",
   "execution_count": 13,
   "metadata": {},
   "outputs": [
    {
     "data": {
      "text/plain": [
       "'c:\\\\Users\\\\hp\\\\Documents\\\\ds\\\\ds_materials\\\\python\\\\python\\\\class_practice'"
      ]
     },
     "execution_count": 13,
     "metadata": {},
     "output_type": "execute_result"
    }
   ],
   "source": [
    "os.getcwd()"
   ]
  },
  {
   "cell_type": "code",
   "execution_count": 14,
   "metadata": {},
   "outputs": [],
   "source": [
    "# rename a directory\n",
    "os.rename('xyz.txt','new_one')"
   ]
  },
  {
   "cell_type": "code",
   "execution_count": null,
   "metadata": {},
   "outputs": [],
   "source": [
    "# Removing Directory or File in Python\n",
    "# delete \"myfile.txt\" file\n",
    "os.remove(\"abc.csv\")"
   ]
  },
  {
   "cell_type": "code",
   "execution_count": 15,
   "metadata": {},
   "outputs": [],
   "source": [
    "# delete the empty directory \"mydir\"\n",
    "os.rmdir(\"new_one\") "
   ]
  },
  {
   "cell_type": "code",
   "execution_count": null,
   "metadata": {},
   "outputs": [],
   "source": [
    "import shutil\n",
    "\n",
    "# delete \"mydir\" directory and all of its contents\n",
    "shutil.rmtree(\"mydir\")"
   ]
  },
  {
   "cell_type": "markdown",
   "metadata": {},
   "source": [
    "# file handling"
   ]
  },
  {
   "cell_type": "code",
   "execution_count": 23,
   "metadata": {},
   "outputs": [],
   "source": [
    "var = open(\"re.txt\",\"r\")"
   ]
  },
  {
   "cell_type": "code",
   "execution_count": 24,
   "metadata": {},
   "outputs": [
    {
     "data": {
      "text/plain": [
       "'abc@gmail.com test.email@example.com  \\nthis is email 2  shahil.ansa@itvedant.com   \\nraj.kumar@itvedant.com'"
      ]
     },
     "execution_count": 24,
     "metadata": {},
     "output_type": "execute_result"
    }
   ],
   "source": [
    "var.read()"
   ]
  },
  {
   "cell_type": "code",
   "execution_count": 25,
   "metadata": {},
   "outputs": [
    {
     "data": {
      "text/plain": [
       "1"
      ]
     },
     "execution_count": 25,
     "metadata": {},
     "output_type": "execute_result"
    }
   ],
   "source": [
    "var.seek(1)"
   ]
  },
  {
   "cell_type": "code",
   "execution_count": 21,
   "metadata": {},
   "outputs": [
    {
     "data": {
      "text/plain": [
       "'bc@gmail.com test.email@example.com  this is email 2  shahil.ansa@itvedant.com   raj.kumar@itvedant.com'"
      ]
     },
     "execution_count": 21,
     "metadata": {},
     "output_type": "execute_result"
    }
   ],
   "source": [
    "var.read()"
   ]
  },
  {
   "cell_type": "code",
   "execution_count": 22,
   "metadata": {},
   "outputs": [],
   "source": [
    "var.close()"
   ]
  },
  {
   "cell_type": "code",
   "execution_count": null,
   "metadata": {},
   "outputs": [],
   "source": [
    "var = open(\"re.txt\",\"r\")\n",
    "var.seek(1)\n",
    "print(var.read())\n",
    "print(\"====================\")\n",
    "var.seek(1)\n",
    "print(var.readline())\n",
    "print(\"====================\")\n",
    "var.seek(1)\n",
    "print(var.readlines())\n",
    "var.close()"
   ]
  },
  {
   "cell_type": "code",
   "execution_count": null,
   "metadata": {},
   "outputs": [],
   "source": [
    "with open(\"re.txt\",\"r\") as var:\n",
    "    for line in var.readlines():\n",
    "        print(line)"
   ]
  },
  {
   "cell_type": "code",
   "execution_count": 54,
   "metadata": {},
   "outputs": [],
   "source": [
    "f = open(\"new.txt\",\"w+\")\n"
   ]
  },
  {
   "cell_type": "code",
   "execution_count": 55,
   "metadata": {},
   "outputs": [
    {
     "data": {
      "text/plain": [
       "20"
      ]
     },
     "execution_count": 55,
     "metadata": {},
     "output_type": "execute_result"
    }
   ],
   "source": [
    "f.write(\"hello world \\n python\")"
   ]
  },
  {
   "cell_type": "code",
   "execution_count": 60,
   "metadata": {},
   "outputs": [
    {
     "data": {
      "text/plain": [
       "['o world \\n', ' python']"
      ]
     },
     "execution_count": 60,
     "metadata": {},
     "output_type": "execute_result"
    }
   ],
   "source": [
    "f.seek(4)\n",
    "\n",
    "f.readlines()"
   ]
  },
  {
   "cell_type": "code",
   "execution_count": 42,
   "metadata": {},
   "outputs": [],
   "source": [
    "f.close()"
   ]
  },
  {
   "cell_type": "code",
   "execution_count": null,
   "metadata": {},
   "outputs": [],
   "source": [
    "with  open('new_files.txt', 'r+') as f:\n",
    "        print(f.readline())\n",
    "\n",
    "print(\"run success\")"
   ]
  },
  {
   "cell_type": "code",
   "execution_count": 65,
   "metadata": {},
   "outputs": [
    {
     "name": "stdout",
     "output_type": "stream",
     "text": [
      "File not found\n",
      "run success\n"
     ]
    }
   ],
   "source": [
    "#new file text\n",
    "try:\n",
    "    with  open('new_files.txt', 'r+') as f:\n",
    "        print(f.readline())\n",
    "except:\n",
    "    print(\"File not found\")\n",
    "\n",
    "print(\"run success\")"
   ]
  },
  {
   "cell_type": "code",
   "execution_count": 61,
   "metadata": {},
   "outputs": [
    {
     "data": {
      "text/plain": [
       "21"
      ]
     },
     "execution_count": 61,
     "metadata": {},
     "output_type": "execute_result"
    }
   ],
   "source": [
    "f.tell()"
   ]
  },
  {
   "cell_type": "code",
   "execution_count": 46,
   "metadata": {},
   "outputs": [
    {
     "ename": "ZeroDivisionError",
     "evalue": "division by zero",
     "output_type": "error",
     "traceback": [
      "\u001b[1;31m---------------------------------------------------------------------------\u001b[0m",
      "\u001b[1;31mZeroDivisionError\u001b[0m                         Traceback (most recent call last)",
      "Cell \u001b[1;32mIn[46], line 1\u001b[0m\n\u001b[1;32m----> 1\u001b[0m \u001b[38;5;241m5\u001b[39m\u001b[38;5;241m/\u001b[39m\u001b[38;5;241m0\u001b[39m\n",
      "\u001b[1;31mZeroDivisionError\u001b[0m: division by zero"
     ]
    }
   ],
   "source": [
    "5/0"
   ]
  },
  {
   "cell_type": "code",
   "execution_count": 47,
   "metadata": {},
   "outputs": [
    {
     "ename": "SyntaxError",
     "evalue": "unterminated string literal (detected at line 1) (3669627336.py, line 1)",
     "output_type": "error",
     "traceback": [
      "\u001b[1;36m  Cell \u001b[1;32mIn[47], line 1\u001b[1;36m\u001b[0m\n\u001b[1;33m    print(\"dddd)\u001b[0m\n\u001b[1;37m          ^\u001b[0m\n\u001b[1;31mSyntaxError\u001b[0m\u001b[1;31m:\u001b[0m unterminated string literal (detected at line 1)\n"
     ]
    }
   ],
   "source": [
    "print(\"dddd)"
   ]
  },
  {
   "cell_type": "code",
   "execution_count": 50,
   "metadata": {},
   "outputs": [
    {
     "name": "stdout",
     "output_type": "stream",
     "text": [
      "Loop 1:\n",
      "Loop 2:\n",
      "Loop 3:\n",
      "gad\n"
     ]
    }
   ],
   "source": [
    "for i in range(3):\n",
    "\n",
    "i\n",
    "print(\"gad\")"
   ]
  },
  {
   "cell_type": "code",
   "execution_count": null,
   "metadata": {},
   "outputs": [],
   "source": []
  }
 ],
 "metadata": {
  "kernelspec": {
   "display_name": "base",
   "language": "python",
   "name": "python3"
  },
  "language_info": {
   "codemirror_mode": {
    "name": "ipython",
    "version": 3
   },
   "file_extension": ".py",
   "mimetype": "text/x-python",
   "name": "python",
   "nbconvert_exporter": "python",
   "pygments_lexer": "ipython3",
   "version": "3.11.9"
  }
 },
 "nbformat": 4,
 "nbformat_minor": 2
}
