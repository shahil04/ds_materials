{
 "cells": [
  {
   "cell_type": "code",
   "execution_count": null,
   "metadata": {},
   "outputs": [],
   "source": []
  },
  {
   "cell_type": "markdown",
   "metadata": {},
   "source": [
    "- Scraping Data from a Real Website https://youtu.be/WrTHDliMR34?si=CUGHC2SpQtRvSAZ2 https://github.com/AlexTheAnalyst/PythonYouTubeSeries/blob/main/Scraping%20a%20Table%20from%20a%20Website.ipynb  https://youtu.be/WrTHDliMR34?si=CUGHC2SpQtRvSAZ2"
   ]
  },
  {
   "cell_type": "markdown",
   "metadata": {},
   "source": [
    "- https://www.scrapethissite.com/\n",
    "- yellopage\n",
    "- https://realpython.github.io/fake-jobs/\n",
    "- https://quotes.toscrape.com/\n",
    "- "
   ]
  },
  {
   "cell_type": "markdown",
   "metadata": {},
   "source": [
    "- https://github.com/the-data-circle?tab=repositories\n",
    "- Amazon Web Scraping Made Easy with Python:https://youtu.be/C_qe5AfVlsQ?si=Wae7MNxnvYSVQLHj\n",
    "- Web Scraping Practice: Intro to Web Scraping With Python https://youtu.be/NGOjlI0lw4s?si=Mp4uOxawCt2PTQv6 https://realpython.com/courses/exercises-introduction-web-scraping/\n",
    "- Web Scraping With ChatGPT Code Interpreter: Mind-Blowing !! https://youtu.be/wlY7K_ktAHw?si=55YcLtqAOJu8b0lw\n",
    "- Python Selenium : Real World Project | Data Extraction and Automation https://youtu.be/3_85h7DBlAE?si=I9-SxFbxsu9FpRaE  https://www.scrapethissite.com/ https://github.com/SwapnilMane141/Selenium_Scraping_Demo\n",
    "\n",
    "- Scrape Any Website using GPT-4o (Vision Based Scraping in Python) https://youtu.be/poh_WbPEk68?si=_tKB0vam9h5XV1KB\n",
    "- Web Scraping in Python with Beautiful Soup | Data Science Tutorial  https://youtu.be/b_k9nT6l9bc?si=rzMxMBVCRIgsxB2M   https://realpython.github.io/fake-jobs/\n",
    "- How to Scrape Data from Instagram App Using Appium & Python https://youtu.be/Tt0Q93xH47g?si=WONxbjOY03gdbFnY https://github.com/Kartikrast/App-Scrapper/blob/main/App%20scrapper.py\n",
    "- Full Web Scraping Tutorial on Flipkart | Python BeautifulSoup & Selenium https://youtu.be/xJMCOX558us?si=FzbLJbEHcKPEljUt\n",
    "- Scraping Data from a Real Website https://youtu.be/WrTHDliMR34?si=CUGHC2SpQtRvSAZ2 https://github.com/AlexTheAnalyst/PythonYouTubeSeries/blob/main/Scraping%20a%20Table%20from%20a%20Website.ipynb  https://youtu.be/WrTHDliMR34?si=CUGHC2SpQtRvSAZ2\n",
    "\n",
    "- What Are Query Parameters? | Web Scraping https://youtu.be/tffhdtg7Ei0?si=YeVtMYJ4oMSI4hE- \n",
    "- AI and Python - Web Scraping with OpenAI  https://youtu.be/VPZimBvm_5g?si=q7OvwayOrqmgDCMQ https://github.com/SiliconDojo/Online-Classes\n",
    "- Advanced Web Scraping using Python https://youtu.be/q29OMhlTeac?si=sznG2eM9bIoGYbVm using form\n",
    "- Data scraping with selenium | Redbus project | Python | SQL | STREAMLIT https://youtu.be/LJtOfC_mkWM?si=GjGbP8YJPNbU_zkL\n",
    "\n",
    "- imdb https://github.com/shahil04/imdb_1_prject/blob/master/imdb2.py\n",
    "- https://github.com/iNeuronai/review-scrapper-aws-main/blob/main/app.py\n",
    "- flipkart https://github.com/iNeuronai/review_sc_hindi\n",
    "- https://github.com/sunnysavita10/Image-Scraper-Selenium/blob/main/app.py\n",
    "- "
   ]
  },
  {
   "cell_type": "markdown",
   "metadata": {},
   "source": [
    "### Extra \n",
    "- https://youtu.be/EnY6fSng3Ew?si=gJIY_lNYZ1XaETOW  HTTPS, SSL, TLS & Certificate Authority Explained\n",
    "- Storytelling with Data | Dashboard Build Demo"
   ]
  }
 ],
 "metadata": {
  "language_info": {
   "name": "python"
  }
 },
 "nbformat": 4,
 "nbformat_minor": 2
}
