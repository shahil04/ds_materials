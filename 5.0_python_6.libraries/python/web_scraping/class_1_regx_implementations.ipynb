{
 "cells": [
  {
   "cell_type": "code",
   "execution_count": 1,
   "metadata": {},
   "outputs": [],
   "source": [
    "import re"
   ]
  },
  {
   "cell_type": "markdown",
   "metadata": {},
   "source": [
    "### **2.3 Basic Functions**\n",
    "- **`re.match()`**: Checks for a match only at the beginning of the string.\n",
    "- **`re.search()`**: Searches for the first location where the pattern matches.\n",
    "- **`re.findall()`**: Finds all substrings where the pattern matches and returns them as a list.\n",
    "- **`re.sub()`**: Replaces occurrences of the pattern with a replacement string."
   ]
  },
  {
   "cell_type": "code",
   "execution_count": null,
   "metadata": {},
   "outputs": [
    {
     "name": "stdout",
     "output_type": "stream",
     "text": [
      "<re.Match object; span=(0, 2), match='ac'>\n"
     ]
    }
   ],
   "source": [
    "# **`re.match()`**: Checks for a match only at the beginning of the string\n",
    "pattern = r'ab*c'\n",
    "text = \"ac abc abbc\"\n",
    "matches = re.match(pattern, text)\n",
    "print(matches)  # Output: ['ac', 'abc', 'abbc']"
   ]
  },
  {
   "cell_type": "code",
   "execution_count": 14,
   "metadata": {},
   "outputs": [
    {
     "data": {
      "text/plain": [
       "'ac'"
      ]
     },
     "execution_count": 14,
     "metadata": {},
     "output_type": "execute_result"
    }
   ],
   "source": [
    "matches.group()"
   ]
  },
  {
   "cell_type": "code",
   "execution_count": null,
   "metadata": {},
   "outputs": [
    {
     "name": "stdout",
     "output_type": "stream",
     "text": [
      "<re.Match object; span=(0, 2), match='ac'>\n"
     ]
    }
   ],
   "source": [
    "#  **`re.search()`**: Searches for the first location where the pattern matches.\n",
    "pattern = r'ab*c'\n",
    "text = \"ac abc abbc\"\n",
    "matches = re.search(pattern, text)\n",
    "print(matches)  # Output: ['ac', 'abc', 'abbc']"
   ]
  },
  {
   "cell_type": "code",
   "execution_count": 12,
   "metadata": {},
   "outputs": [
    {
     "name": "stdout",
     "output_type": "stream",
     "text": [
      "ac\n"
     ]
    }
   ],
   "source": [
    "pattern = r'ab*c'\n",
    "text = \"ac abc abbc\"\n",
    "matches = re.search(pattern, text)\n",
    "print(matches.group())  # Output: ['ac', 'abc', 'abbc']"
   ]
  },
  {
   "cell_type": "code",
   "execution_count": null,
   "metadata": {},
   "outputs": [],
   "source": [
    "# **`re.findall()`**: Finds all substrings where the pattern matches and returns them as a list.\n",
    "pattern = r'ab*c'\n",
    "text = \"ac abc abbc\"\n",
    "matches = re.findall(pattern, text)\n",
    "print(matches)  # Output: ['ac', 'abc', 'abbc']"
   ]
  },
  {
   "cell_type": "code",
   "execution_count": 18,
   "metadata": {},
   "outputs": [
    {
     "name": "stdout",
     "output_type": "stream",
     "text": [
      "ac xyz abbc\n"
     ]
    }
   ],
   "source": [
    "# - **`re.sub()`**: Replaces occurrences of the pattern with a replacement string.\n",
    "pattern = r'abc'\n",
    "text = \"ac abc abbc\"\n",
    "matches = re.sub(pattern,\"xyz\",text)\n",
    "print(matches)  # Output: ['ac', 'abc', 'abbc']"
   ]
  },
  {
   "cell_type": "code",
   "execution_count": null,
   "metadata": {},
   "outputs": [],
   "source": [
    "pattern = r'[aeiou]'\n",
    "text = \"hello\"\n",
    "matches = re.findall(pattern, text)\n",
    "print(matches)  # Output: ['e', 'o']"
   ]
  },
  {
   "cell_type": "code",
   "execution_count": null,
   "metadata": {},
   "outputs": [],
   "source": [
    "pattern = r'cat|dog'\n",
    "text = \"I have a cat and a dog.\"\n",
    "matches = re.findall(pattern, text)\n",
    "print(matches)  # Output: ['cat', 'dog']"
   ]
  },
  {
   "cell_type": "code",
   "execution_count": null,
   "metadata": {},
   "outputs": [],
   "source": [
    "#  Matches any digit, equivalent to `[0-9]`.\n",
    "pattern = r'\\d+'\n",
    "text = \"There are 123 apples\"\n",
    "matches = re.findall(pattern, text)\n",
    "print(matches)  # Output: ['123']"
   ]
  },
  {
   "cell_type": "code",
   "execution_count": 8,
   "metadata": {},
   "outputs": [
    {
     "name": "stdout",
     "output_type": "stream",
     "text": [
      "['abbc', 'abbbc']\n"
     ]
    }
   ],
   "source": [
    "# `{n,m}` (Between `n` and `m` Times)**\n",
    "\n",
    "pattern = r'ab{2,3}c'\n",
    "text = \"abc abbc abbbc\"\n",
    "matches = re.findall(pattern, text)\n",
    "print(matches)  # Output: ['abbc', 'abbbc']"
   ]
  },
  {
   "cell_type": "code",
   "execution_count": 20,
   "metadata": {},
   "outputs": [],
   "source": [
    "# all\n",
    "text = \"\"\"12Edit the Expression & Text to see matches +91 97933453245. \n",
    "            +93 1233112478 Roll over matches deepkumar@itvedant.com or the expression for details 9878. \n",
    "            PCRE & 3434 JavaScript 23 flavors of RegEx are supported. \n",
    "            Validate your expression with ajayjha@deepclasses.com Tests mode.\"\"\"\n",
    "\n"
   ]
  },
  {
   "cell_type": "code",
   "execution_count": 25,
   "metadata": {},
   "outputs": [
    {
     "data": {
      "text/plain": [
       "['12', '91', '97933453245', '93', '1233112478', '9878', '3434', '23']"
      ]
     },
     "execution_count": 25,
     "metadata": {},
     "output_type": "execute_result"
    }
   ],
   "source": [
    "# find numbers \n",
    "re.findall('[0-9]+',text)"
   ]
  },
  {
   "cell_type": "code",
   "execution_count": null,
   "metadata": {},
   "outputs": [],
   "source": [
    "# re.search('[0-9]+',text).group()  find phone numbers\n",
    "\n",
    "re.findall('\\+\\d{2}\\s\\d{10}', text)"
   ]
  },
  {
   "cell_type": "code",
   "execution_count": 23,
   "metadata": {},
   "outputs": [
    {
     "data": {
      "text/plain": [
       "['deepkumar@itvedant.com', 'ajayjha@deepclasses.com']"
      ]
     },
     "execution_count": 23,
     "metadata": {},
     "output_type": "execute_result"
    }
   ],
   "source": [
    "# find email  from text\n",
    "email_pattern ='\\w+@\\w+.com'\n",
    "\n",
    "re.findall(email_pattern,text)"
   ]
  },
  {
   "cell_type": "code",
   "execution_count": 26,
   "metadata": {},
   "outputs": [
    {
     "data": {
      "text/plain": [
       "'.com'"
      ]
     },
     "execution_count": 26,
     "metadata": {},
     "output_type": "execute_result"
    }
   ],
   "source": [
    "txt = \"The rain in sha123@gmail.com\"\n",
    "x = re.search(\"[A-Z]*.com\", txt)\n",
    "x.group(0)"
   ]
  },
  {
   "cell_type": "markdown",
   "metadata": {},
   "source": [
    " # from file \n"
   ]
  },
  {
   "cell_type": "code",
   "execution_count": 29,
   "metadata": {},
   "outputs": [
    {
     "name": "stdout",
     "output_type": "stream",
     "text": [
      "which foot or hand fell Abc@gmail.com\n"
     ]
    }
   ],
   "source": [
    "with open(\"demo.txt\" ,\"w+\") as txt:\n",
    "    txt.write('which foot or hand fell Abc@gmail.com')\n",
    "    txt.seek(0)\n",
    "    data = txt.read()\n",
    "    print(data)"
   ]
  },
  {
   "cell_type": "code",
   "execution_count": 32,
   "metadata": {},
   "outputs": [
    {
     "name": "stdout",
     "output_type": "stream",
     "text": [
      "which foot or hand fell Abc@gmail.com\n",
      "['Abc@gmail.com']\n"
     ]
    }
   ],
   "source": [
    "\n",
    "print(data)\n",
    "\n",
    "print(re.findall(r'[A-Za-z1-9]*@[a-z]*.com',data))"
   ]
  },
  {
   "cell_type": "markdown",
   "metadata": {},
   "source": [
    " ## Practice\n",
    "\n",
    " "
   ]
  },
  {
   "cell_type": "markdown",
   "metadata": {},
   "source": []
  }
 ],
 "metadata": {
  "kernelspec": {
   "display_name": "base",
   "language": "python",
   "name": "python3"
  },
  "language_info": {
   "codemirror_mode": {
    "name": "ipython",
    "version": 3
   },
   "file_extension": ".py",
   "mimetype": "text/x-python",
   "name": "python",
   "nbconvert_exporter": "python",
   "pygments_lexer": "ipython3",
   "version": "3.11.9"
  }
 },
 "nbformat": 4,
 "nbformat_minor": 2
}
