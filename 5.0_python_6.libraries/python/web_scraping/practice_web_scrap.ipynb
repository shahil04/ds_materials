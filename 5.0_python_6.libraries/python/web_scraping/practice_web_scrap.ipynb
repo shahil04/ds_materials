{
 "cells": [
  {
   "cell_type": "code",
   "execution_count": 2,
   "metadata": {},
   "outputs": [
    {
     "name": "stdout",
     "output_type": "stream",
     "text": [
      "Defaulting to user installation because normal site-packages is not writeable\n",
      "Collecting tabula\n",
      "  Downloading tabula-1.0.5.tar.gz (9.5 kB)\n",
      "  Preparing metadata (setup.py): started\n",
      "  Preparing metadata (setup.py): finished with status 'done'\n",
      "Requirement already satisfied: setuptools in c:\\programdata\\anaconda3\\lib\\site-packages (from tabula) (72.1.0)\n",
      "Requirement already satisfied: numpy in c:\\users\\hp\\appdata\\roaming\\python\\python311\\site-packages (from tabula) (2.1.0)\n",
      "Building wheels for collected packages: tabula\n",
      "  Building wheel for tabula (setup.py): started\n",
      "  Building wheel for tabula (setup.py): finished with status 'done'\n",
      "  Created wheel for tabula: filename=tabula-1.0.5-py3-none-any.whl size=10597 sha256=b2c8366e0cd116ec2af1aa3244fbb855ffeb8baa24f88c4bd7c11b6ee38748a4\n",
      "  Stored in directory: c:\\users\\hp\\appdata\\local\\pip\\cache\\wheels\\db\\bb\\71\\f5d253c5eb10c8820dfd0590cd228e312b0768adc537466b45\n",
      "Successfully built tabula\n",
      "Installing collected packages: tabula\n",
      "Successfully installed tabula-1.0.5\n"
     ]
    }
   ],
   "source": [
    "!pip install tabula"
   ]
  },
  {
   "cell_type": "code",
   "execution_count": 2,
   "metadata": {},
   "outputs": [
    {
     "ename": "ImportError",
     "evalue": "cannot import name 'read_pdf' from 'tabula' (C:\\Users\\hp\\AppData\\Roaming\\Python\\Python311\\site-packages\\tabula\\__init__.py)",
     "output_type": "error",
     "traceback": [
      "\u001b[1;31m---------------------------------------------------------------------------\u001b[0m",
      "\u001b[1;31mImportError\u001b[0m                               Traceback (most recent call last)",
      "Cell \u001b[1;32mIn[2], line 2\u001b[0m\n\u001b[0;32m      1\u001b[0m \u001b[38;5;28;01mimport\u001b[39;00m \u001b[38;5;21;01mpandas\u001b[39;00m \u001b[38;5;28;01mas\u001b[39;00m \u001b[38;5;21;01mpd\u001b[39;00m\n\u001b[1;32m----> 2\u001b[0m \u001b[38;5;28;01mfrom\u001b[39;00m \u001b[38;5;21;01mtabula\u001b[39;00m \u001b[38;5;28;01mimport\u001b[39;00m read_pdf\n\u001b[0;32m      4\u001b[0m \u001b[38;5;28;01mdef\u001b[39;00m \u001b[38;5;21mpdf_to_excel\u001b[39m(pdf_file, excel_file):\n\u001b[0;32m      5\u001b[0m     \u001b[38;5;66;03m# Read tables from the PDF\u001b[39;00m\n\u001b[0;32m      6\u001b[0m     tables \u001b[38;5;241m=\u001b[39m read_pdf(pdf_file, pages\u001b[38;5;241m=\u001b[39m\u001b[38;5;124m'\u001b[39m\u001b[38;5;124mall\u001b[39m\u001b[38;5;124m'\u001b[39m, multiple_tables\u001b[38;5;241m=\u001b[39m\u001b[38;5;28;01mTrue\u001b[39;00m)\n",
      "\u001b[1;31mImportError\u001b[0m: cannot import name 'read_pdf' from 'tabula' (C:\\Users\\hp\\AppData\\Roaming\\Python\\Python311\\site-packages\\tabula\\__init__.py)"
     ]
    }
   ],
   "source": [
    "import pandas as pd\n",
    "from tabula import read_pdf\n",
    "\n",
    "def pdf_to_excel(pdf_file, excel_file):\n",
    "    # Read tables from the PDF\n",
    "    tables = read_pdf(pdf_file, pages='all', multiple_tables=True)\n",
    "\n",
    "    # Concatenate all tables into a single DataFrame\n",
    "    all_data = pd.concat(tables, ignore_index=True)\n",
    "\n",
    "    # Clean up DataFrame if necessary (optional)\n",
    "    all_data.columns = all_data.columns.str.strip()  # Remove leading/trailing spaces from column names\n",
    "\n",
    "    # Create an Excel writer using openpyxl\n",
    "    all_data.to_excel(excel_file, index=False, sheet_name='Combined_Data')\n",
    "\n",
    "    print(f\"Converted {pdf_file} to {excel_file} successfully!\")\n",
    "\n",
    "# Specify the PDF file and the output Excel file\n",
    "pdf_file = \"abcd.pdf\"  # Replace with your PDF file path\n",
    "excel_file = \"output.xlsx\"  # Desired output Excel file name\n",
    "\n",
    "# Convert PDF to Excel\n",
    "pdf_to_excel(pdf_file, excel_file)"
   ]
  },
  {
   "cell_type": "code",
   "execution_count": 3,
   "metadata": {},
   "outputs": [
    {
     "ename": "SyntaxError",
     "evalue": "invalid non-printable character U+00A0 (3263663031.py, line 32)",
     "output_type": "error",
     "traceback": [
      "\u001b[1;36m  Cell \u001b[1;32mIn[3], line 32\u001b[1;36m\u001b[0m\n\u001b[1;33m    save_to_csv(data, csv_path)\u001b[0m\n\u001b[1;37m                     ^\u001b[0m\n\u001b[1;31mSyntaxError\u001b[0m\u001b[1;31m:\u001b[0m invalid non-printable character U+00A0\n"
     ]
    }
   ],
   "source": [
    "import pdfplumber\n",
    "import pandas as pd\n",
    "\n",
    "def extract_text_from_pdf(pdf_path):\n",
    "    extracted_data = []\n",
    "    \n",
    "    with pdfplumber.open(pdf_path) as pdf:\n",
    "        for page in pdf.pages:\n",
    "            # Extract text from the page\n",
    "            text = page.extract_text()\n",
    "\n",
    "    return extracted_data\n",
    "\n",
    "def save_to_csv(data, csv_path):\n",
    "    # Convert the extracted data into a pandas DataFrame\n",
    "    df = pd.DataFrame(data)\n",
    "\n",
    "    # Fill NaN values with empty strings to maintain CSV structure\n",
    "    df.fillna('', inplace=True)\n",
    "\n",
    "    # Save the DataFrame as a CSV file\n",
    "    df.to_csv(csv_path, index=False, header=False)\n",
    "\n",
    "# Example usage\n",
    "pdf_path = 'abcd.pdf'  # Path to your PDF file\n",
    "csv_path = 'output_file2.csv'    # Path where you want to save the CSV file\n",
    "\n",
    "# Extract data from PDF\n",
    "data = extract_text_from_pdf(pdf_path)\n",
    "\n",
    "# Save the extracted data to CSV\n",
    "save_to_csv(data, csv_path)"
   ]
  },
  {
   "cell_type": "code",
   "execution_count": null,
   "metadata": {},
   "outputs": [],
   "source": []
  }
 ],
 "metadata": {
  "kernelspec": {
   "display_name": "base",
   "language": "python",
   "name": "python3"
  },
  "language_info": {
   "codemirror_mode": {
    "name": "ipython",
    "version": 3
   },
   "file_extension": ".py",
   "mimetype": "text/x-python",
   "name": "python",
   "nbconvert_exporter": "python",
   "pygments_lexer": "ipython3",
   "version": "3.11.9"
  }
 },
 "nbformat": 4,
 "nbformat_minor": 2
}
