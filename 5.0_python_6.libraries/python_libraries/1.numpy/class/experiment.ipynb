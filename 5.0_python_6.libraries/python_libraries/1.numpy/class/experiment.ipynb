{
 "cells": [
  {
   "cell_type": "code",
   "execution_count": 23,
   "metadata": {},
   "outputs": [
    {
     "name": "stdout",
     "output_type": "stream",
     "text": [
      "[[ 1  2  3]\n",
      " [ 4  5  6]\n",
      " [ 7  8  9]\n",
      " [10 11 12]]\n"
     ]
    }
   ],
   "source": [
    "import numpy as np\n",
    "arr = np.array([1, 2, 3, 4, 5, 6, 7, 8, 9, 10, 11, 12])\n",
    "newarr = arr.reshape(4, 3)\n",
    "print(newarr)"
   ]
  },
  {
   "cell_type": "code",
   "execution_count": 26,
   "metadata": {},
   "outputs": [
    {
     "data": {
      "text/plain": [
       "array([[ 1,  2,  3,  4,  5,  6],\n",
       "       [ 7,  8,  9, 10, 11, 12]])"
      ]
     },
     "execution_count": 26,
     "metadata": {},
     "output_type": "execute_result"
    }
   ],
   "source": [
    "arr.reshape(2,-1)"
   ]
  },
  {
   "cell_type": "code",
   "execution_count": null,
   "metadata": {},
   "outputs": [],
   "source": [
    "#  Reshaping a 2D Array into a 1D Array\n",
    "arr = np.array([[1, 2, 3], [4, 5, 6]])\n",
    "\n",
    "# Flattening the array\n",
    "newarr = arr.reshape(-1)\n",
    "print(newarr)\n",
    "\n",
    "arr = np.array([1, 2, 3, 4, 5, 6, 7, 8, 9, 10, 11, 12])\n",
    "\n",
    "# Reshape into 2 layers, each with 2 rows and 3 columns\n",
    "newarr = arr.reshape(2, 2, 3)\n",
    "print(newarr)\n"
   ]
  },
  {
   "cell_type": "code",
   "execution_count": 8,
   "metadata": {},
   "outputs": [
    {
     "data": {
      "text/plain": [
       "matrix([[1, 2],\n",
       "        [5, 6],\n",
       "        [7, 8]])"
      ]
     },
     "execution_count": 8,
     "metadata": {},
     "output_type": "execute_result"
    }
   ],
   "source": [
    "np.matrix([[[1, 2], [5, 6], [7, 8]]])"
   ]
  },
  {
   "cell_type": "code",
   "execution_count": 7,
   "metadata": {},
   "outputs": [
    {
     "data": {
      "text/plain": [
       "array([[[1, 2],\n",
       "        [5, 6],\n",
       "        [7, 8]]])"
      ]
     },
     "execution_count": 7,
     "metadata": {},
     "output_type": "execute_result"
    }
   ],
   "source": [
    "np.array([[[1, 2], [5, 6], [7, 8]]])"
   ]
  },
  {
   "cell_type": "code",
   "execution_count": null,
   "metadata": {},
   "outputs": [],
   "source": [
    "np.matrix([[1, 2], [5, 6], [7, 8]])"
   ]
  },
  {
   "cell_type": "code",
   "execution_count": 10,
   "metadata": {},
   "outputs": [
    {
     "name": "stdout",
     "output_type": "stream",
     "text": [
      "[ 1 25  3]\n"
     ]
    }
   ],
   "source": [
    "# If the input is already an array, no copy is made\n",
    "arr = np.array([1, 25, 3])\n",
    "arr2 = np.asarray(arr)\n",
    "\n",
    "print(arr2)\n"
   ]
  },
  {
   "cell_type": "code",
   "execution_count": 13,
   "metadata": {},
   "outputs": [
    {
     "name": "stdout",
     "output_type": "stream",
     "text": [
      "[1 4]\n"
     ]
    },
    {
     "data": {
      "text/plain": [
       "numpy.ndarray"
      ]
     },
     "execution_count": 13,
     "metadata": {},
     "output_type": "execute_result"
    }
   ],
   "source": [
    "# If the input is already an array, no copy is made\n",
    "arr = np.array([1, 25, 3])\n",
    "arr2 = np.asarray([1,4])\n",
    "\n",
    "print(arr2)\n",
    "type(arr2)\n",
    "\n"
   ]
  },
  {
   "cell_type": "code",
   "execution_count": 20,
   "metadata": {},
   "outputs": [
    {
     "name": "stdout",
     "output_type": "stream",
     "text": [
      "<class 'numpy.ndarray'>\n"
     ]
    }
   ],
   "source": [
    "# Example with np.matrix (a subclass of ndarray)\n",
    "mat = np.matrix([[1, 2], [3, 4]])\n",
    "arr = np.asanyarray([[2,2]])\n",
    "\n",
    "print(type(arr))  # Output: <class 'numpy.matrix'>\n"
   ]
  },
  {
   "cell_type": "code",
   "execution_count": 27,
   "metadata": {},
   "outputs": [
    {
     "name": "stdout",
     "output_type": "stream",
     "text": [
      "1\n",
      "2\n",
      "3\n",
      "4\n",
      "5\n",
      "6\n",
      "7\n",
      "8\n"
     ]
    }
   ],
   "source": [
    "arr = np.array([[[1, 2], [3, 4]], [[5, 6], [7, 8]]])\n",
    "\n",
    "for x in np.nditer(arr):\n",
    "  print(x)\n"
   ]
  },
  {
   "cell_type": "code",
   "execution_count": 39,
   "metadata": {},
   "outputs": [
    {
     "data": {
      "text/plain": [
       "array([[[1, 2],\n",
       "        [3, 4]]])"
      ]
     },
     "execution_count": 39,
     "metadata": {},
     "output_type": "execute_result"
    }
   ],
   "source": [
    "# indexing\n",
    "arr = np.array([[[1, 2], [3, 4]], [[5, 6], [7, 8]]])\n",
    "arr[1]\n",
    "arr[-1]\n",
    "arr[::2]"
   ]
  },
  {
   "cell_type": "code",
   "execution_count": 36,
   "metadata": {},
   "outputs": [
    {
     "name": "stdout",
     "output_type": "stream",
     "text": [
      "[[5 5 5]\n",
      " [5 5 5]]\n",
      "[[0.25 0.5 ]\n",
      " [0.75 1.  ]]\n",
      "[[0. 0.]\n",
      " [0. 0.]]\n",
      "4\n",
      "[1 3 5 7 9]\n",
      "5\n",
      "[[ 0.31378991  1.08945442]\n",
      " [ 0.09309422 -0.15998993]\n",
      " [-0.73495863 -0.59307737]]\n",
      "[[1 0 0 0]\n",
      " [0 2 0 0]\n",
      " [0 0 3 0]\n",
      " [0 0 0 4]]\n",
      "[[0. 0. 0. 0.]\n",
      " [0. 0. 0. 0.]\n",
      " [0. 0. 0. 0.]]\n",
      "[[1. 1. 1.]\n",
      " [1. 1. 1.]]\n",
      "[0 2 4 6 8]\n",
      "[0.   0.25 0.5  0.75 1.  ]\n",
      "[[0.24376415 0.10015434]\n",
      " [0.3534212  0.40714934]\n",
      " [0.63594636 0.12549312]]\n"
     ]
    }
   ],
   "source": [
    "rr_zeros = np.zeros((3, 4))  # 3 rows and 4 columns\n",
    "\n",
    "# With ones\n",
    "arr_ones = np.ones((2, 3))  # 2 rows and 3 columns\n",
    "# With a range of values\n",
    "arr_range = np.arange(0, 10, 2)  # start, stop, step\n",
    "# With equally spaced values\n",
    "arr_linspace = np.linspace(0, 1, 5)  # start, stop, number of values\n",
    "# With random values\n",
    "arr_random = np.random.rand(3, 2)  # 3 rows and 2 columns with values between 0 and 1\n",
    "print(np.full((2,3),5))\n",
    "print(np.empty((2,2)))\n",
    "print(np.zeros((2,2)))\n",
    "print(\"4\")\n",
    "print(np.arange(1,10,2))\n",
    "print(np.random.randint(1,10))\n",
    "print(np.random.randn(3, 2)) \n",
    "print(np.diag([1,2,3,4]))\n",
    "print(rr_zeros)\n",
    "print(arr_ones)\n",
    "print(arr_range)\n",
    "print(arr_linspace)\n",
    "print(arr_random)"
   ]
  },
  {
   "cell_type": "code",
   "execution_count": 4,
   "metadata": {},
   "outputs": [
    {
     "name": "stdout",
     "output_type": "stream",
     "text": [
      "[5 7 9]\n"
     ]
    }
   ],
   "source": [
    "import numpy as np\n",
    "arr1 = np.array([1, 2, 3])\n",
    "arr2 = np.array([4, 5, 6])\n",
    "# Element-wise addition\n",
    "result_add = arr1 + arr2\n",
    "# Element-wise subtraction\n",
    "result_subtract = arr1 - arr2\n",
    "# Element-wise multiplication\n",
    "result_multiply = arr1 * arr2\n",
    "# Element-wise division\n",
    "result_divide = arr1 / arr2\n",
    "# Element-wise power\n",
    "result_power = arr1 ** arr2\n",
    "print(result_add)\n"
   ]
  },
  {
   "cell_type": "code",
   "execution_count": 6,
   "metadata": {},
   "outputs": [
    {
     "data": {
      "text/plain": [
       "array([[11, 22, 33],\n",
       "       [14, 25, 36]])"
      ]
     },
     "execution_count": 6,
     "metadata": {},
     "output_type": "execute_result"
    }
   ],
   "source": [
    "# Broadcasting allows NumPy to perform element-wise operations on arrays of different shapes and sizes:\n",
    "import numpy as np\n",
    "\n",
    "arr1 = np.array([[1, 2, 3], [4, 5, 6]])\n",
    "arr2 = np.array([10, 20, 30])\n",
    "\n",
    "# Broadcasting the addition\n",
    "result_broadcast = arr1 + arr2\n",
    "result_broadcast\n"
   ]
  },
  {
   "cell_type": "code",
   "execution_count": 9,
   "metadata": {},
   "outputs": [
    {
     "name": "stdout",
     "output_type": "stream",
     "text": [
      "[[2 3 4]\n",
      " [3 4 5]\n",
      " [4 5 6]]\n"
     ]
    }
   ],
   "source": [
    "array1 = [1, 2, 3]\n",
    "array2 = [[1], [2], [3]]\n",
    "result = array1 + array2\n",
    "result\n",
    "\n",
    "# create 1-D array\n",
    "array1 = np.array([1, 2, 3])\n",
    "\n",
    "# create 2-D array\n",
    "array2 = np.array([[1], [2], [3]])\n",
    "\n",
    "# add arrays of different dimension\n",
    "# size of array1 expands to match with array2\n",
    "sum = array1 + array2\n",
    "\n",
    "print(sum)"
   ]
  },
  {
   "cell_type": "code",
   "execution_count": 7,
   "metadata": {},
   "outputs": [
    {
     "ename": "AxisError",
     "evalue": "axis 1 is out of bounds for array of dimension 1",
     "output_type": "error",
     "traceback": [
      "\u001b[1;31m---------------------------------------------------------------------------\u001b[0m",
      "\u001b[1;31mAxisError\u001b[0m                                 Traceback (most recent call last)",
      "Cell \u001b[1;32mIn[7], line 8\u001b[0m\n\u001b[0;32m      6\u001b[0m \u001b[38;5;66;03m# Sum and product\u001b[39;00m\n\u001b[0;32m      7\u001b[0m result_sum \u001b[38;5;241m=\u001b[39m np\u001b[38;5;241m.\u001b[39msum(arr)\n\u001b[1;32m----> 8\u001b[0m result_sum1 \u001b[38;5;241m=\u001b[39m np\u001b[38;5;241m.\u001b[39msum(arr,axis\u001b[38;5;241m=\u001b[39m\u001b[38;5;241m1\u001b[39m)\n\u001b[0;32m      9\u001b[0m result_product \u001b[38;5;241m=\u001b[39m np\u001b[38;5;241m.\u001b[39mprod(arr)\n\u001b[0;32m     10\u001b[0m \u001b[38;5;66;03m# Mean and median\u001b[39;00m\n",
      "File \u001b[1;32m~\\AppData\\Roaming\\Python\\Python312\\site-packages\\numpy\\_core\\fromnumeric.py:2485\u001b[0m, in \u001b[0;36msum\u001b[1;34m(a, axis, dtype, out, keepdims, initial, where)\u001b[0m\n\u001b[0;32m   2482\u001b[0m         \u001b[38;5;28;01mreturn\u001b[39;00m out\n\u001b[0;32m   2483\u001b[0m     \u001b[38;5;28;01mreturn\u001b[39;00m res\n\u001b[1;32m-> 2485\u001b[0m \u001b[38;5;28;01mreturn\u001b[39;00m _wrapreduction(\n\u001b[0;32m   2486\u001b[0m     a, np\u001b[38;5;241m.\u001b[39madd, \u001b[38;5;124m'\u001b[39m\u001b[38;5;124msum\u001b[39m\u001b[38;5;124m'\u001b[39m, axis, dtype, out,\n\u001b[0;32m   2487\u001b[0m     keepdims\u001b[38;5;241m=\u001b[39mkeepdims, initial\u001b[38;5;241m=\u001b[39minitial, where\u001b[38;5;241m=\u001b[39mwhere\n\u001b[0;32m   2488\u001b[0m )\n",
      "File \u001b[1;32m~\\AppData\\Roaming\\Python\\Python312\\site-packages\\numpy\\_core\\fromnumeric.py:86\u001b[0m, in \u001b[0;36m_wrapreduction\u001b[1;34m(obj, ufunc, method, axis, dtype, out, **kwargs)\u001b[0m\n\u001b[0;32m     83\u001b[0m         \u001b[38;5;28;01melse\u001b[39;00m:\n\u001b[0;32m     84\u001b[0m             \u001b[38;5;28;01mreturn\u001b[39;00m reduction(axis\u001b[38;5;241m=\u001b[39maxis, out\u001b[38;5;241m=\u001b[39mout, \u001b[38;5;241m*\u001b[39m\u001b[38;5;241m*\u001b[39mpasskwargs)\n\u001b[1;32m---> 86\u001b[0m \u001b[38;5;28;01mreturn\u001b[39;00m ufunc\u001b[38;5;241m.\u001b[39mreduce(obj, axis, dtype, out, \u001b[38;5;241m*\u001b[39m\u001b[38;5;241m*\u001b[39mpasskwargs)\n",
      "\u001b[1;31mAxisError\u001b[0m: axis 1 is out of bounds for array of dimension 1"
     ]
    }
   ],
   "source": [
    "import numpy as np\n",
    "arr = np.array([1, 2, 3, 4, 5])\n",
    "# Minimum and maximum\n",
    "result_min = np.min(arr)\n",
    "result_max = np.max(arr)\n",
    "# Sum and product\n",
    "result_sum = np.sum(arr)\n",
    "# result_sum1 = np.sum(arr,axis=1)\n",
    "result_product = np.prod(arr)\n",
    "# Mean and median\n",
    "result_mean = np.mean(arr)\n",
    "result_median = np.median(arr)\n",
    "# Variance and standard deviation\n",
    "result_var = np.var(arr)\n",
    "result_std = np.std(arr)\n"
   ]
  },
  {
   "cell_type": "code",
   "execution_count": 42,
   "metadata": {},
   "outputs": [],
   "source": [
    "# NumPy offers numerous functions to manipulate arrays:\n",
    "import numpy as np\n",
    "arr = np.array([[1, 2, 3], [4, 5, 6]])\n",
    "# Transpose\n",
    "arr_transposed = arr.T\n",
    "# Reshape\n",
    "arr_reshaped = arr.reshape((3, 2))\n",
    "# Flatten\n",
    "arr_flattened = arr.flatten()\n",
    "# Concatenate\n",
    "arr_concatenated = np.concatenate((arr, arr), axis=1)\n"
   ]
  },
  {
   "cell_type": "code",
   "execution_count": 46,
   "metadata": {},
   "outputs": [
    {
     "name": "stdout",
     "output_type": "stream",
     "text": [
      "[[19 22]\n",
      " [43 50]]\n",
      "-2.0000000000000004\n",
      "[[-2.   1. ]\n",
      " [ 1.5 -0.5]]\n"
     ]
    }
   ],
   "source": [
    "# NumPy provides a comprehensive set of linear algebra functions:\n",
    "import numpy as np\n",
    "# Matrix multiplication\n",
    "matrix1 = np.array([[1, 2], [3, 4]])\n",
    "matrix2 = np.array([[5, 6], [7, 8]])\n",
    "result_matrix_mult = np.dot(matrix1, matrix2)\n",
    "# Determinant\n",
    "det = np.linalg.det(matrix1)\n",
    "# Inverse\n",
    "inv = np.linalg.inv(matrix1)\n",
    "print(result_matrix_mult)\n",
    "print(det)\n",
    "print(inv)"
   ]
  },
  {
   "cell_type": "code",
   "execution_count": 3,
   "metadata": {},
   "outputs": [
    {
     "name": "stdout",
     "output_type": "stream",
     "text": [
      "[1 0 3]\n"
     ]
    }
   ],
   "source": [
    "import numpy as np\n",
    "# np.sort(): Sort an array in ascending order.\n",
    "# np.argsort(): Return the indices that would sort an array.\n",
    "# np.searchsorted(): Find the indices to insert elements to maintain order.\n",
    "arr = np.array([[1, 2, 3], [4, 5, 6]])\n",
    "np.sort(arr)\n",
    "arr = np.array([[1, 23, 3], [4, 5, 6]])\n",
    "np.sort(arr)\n",
    "np.argsort(arr)\n",
    "# np.searchsorted(arr)\n",
    "import numpy as np\n",
    "\n",
    "arr = np.array([1, 3, 5, 7])\n",
    "values = np.array([2, 43, 6])\n",
    "\n",
    "# np.searchsorted(a, v, side='left', sorter=None)\n",
    "# Find insertion indices for values to maintain the sorted order\n",
    "indices = np.searchsorted(arr, values)\n",
    "print(indices)\n"
   ]
  },
  {
   "cell_type": "code",
   "execution_count": null,
   "metadata": {},
   "outputs": [],
   "source": [
    "# Statistics and Data Analysis\n",
    "np.mean(): #Compute the mean of an array.\n",
    "np.median(): #Compute the median of an array.\n",
    "np.percentile(): Compute the q-th percentile of the data along the specified axis.\n",
    "np.cov(): Compute the covariance matrix.\n",
    "np.corrcoef(): Compute the correlation coefficient matrix.\n",
    "np.histogram(): Compute the histogram of a set of data.\n"
   ]
  }
 ],
 "metadata": {
  "kernelspec": {
   "display_name": "base",
   "language": "python",
   "name": "python3"
  },
  "language_info": {
   "codemirror_mode": {
    "name": "ipython",
    "version": 3
   },
   "file_extension": ".py",
   "mimetype": "text/x-python",
   "name": "python",
   "nbconvert_exporter": "python",
   "pygments_lexer": "ipython3",
   "version": "3.12.4"
  }
 },
 "nbformat": 4,
 "nbformat_minor": 2
}
