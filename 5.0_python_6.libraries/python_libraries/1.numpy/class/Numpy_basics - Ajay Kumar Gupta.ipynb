{
 "cells": [
  {
   "cell_type": "code",
   "execution_count": 1,
   "id": "277ace75",
   "metadata": {},
   "outputs": [],
   "source": [
    "# Import library numpy\n",
    "pip install numpy \n",
    "\n",
    "import numpy as np #2005 by Travis Oliphant "
   ]
  },
  {
   "cell_type": "code",
   "execution_count": 2,
   "id": "d710597e",
   "metadata": {},
   "outputs": [
    {
     "data": {
      "text/plain": [
       "'1.24.3'"
      ]
     },
     "execution_count": 2,
     "metadata": {},
     "output_type": "execute_result"
    }
   ],
   "source": [
    "# check the version\n",
    "np.__version__"
   ]
  },
  {
   "cell_type": "code",
   "execution_count": 3,
   "id": "9acfa15f",
   "metadata": {},
   "outputs": [
    {
     "name": "stdout",
     "output_type": "stream",
     "text": [
      "\n",
      "NumPy\n",
      "=====\n",
      "\n",
      "Provides\n",
      "  1. An array object of arbitrary homogeneous items\n",
      "  2. Fast mathematical operations over arrays\n",
      "  3. Linear Algebra, Fourier Transforms, Random Number Generation\n",
      "\n",
      "How to use the documentation\n",
      "----------------------------\n",
      "Documentation is available in two forms: docstrings provided\n",
      "with the code, and a loose standing reference guide, available from\n",
      "`the NumPy homepage <https://numpy.org>`_.\n",
      "\n",
      "We recommend exploring the docstrings using\n",
      "`IPython <https://ipython.org>`_, an advanced Python shell with\n",
      "TAB-completion and introspection capabilities.  See below for further\n",
      "instructions.\n",
      "\n",
      "The docstring examples assume that `numpy` has been imported as ``np``::\n",
      "\n",
      "  >>> import numpy as np\n",
      "\n",
      "Code snippets are indicated by three greater-than signs::\n",
      "\n",
      "  >>> x = 42\n",
      "  >>> x = x + 1\n",
      "\n",
      "Use the built-in ``help`` function to view a function's docstring::\n",
      "\n",
      "  >>> help(np.sort)\n",
      "  ... # doctest: +SKIP\n",
      "\n",
      "For some objects, ``np.info(obj)`` may provide additional help.  This is\n",
      "particularly true if you see the line \"Help on ufunc object:\" at the top\n",
      "of the help() page.  Ufuncs are implemented in C, not Python, for speed.\n",
      "The native Python help() does not know how to view their help, but our\n",
      "np.info() function does.\n",
      "\n",
      "To search for documents containing a keyword, do::\n",
      "\n",
      "  >>> np.lookfor('keyword')\n",
      "  ... # doctest: +SKIP\n",
      "\n",
      "General-purpose documents like a glossary and help on the basic concepts\n",
      "of numpy are available under the ``doc`` sub-module::\n",
      "\n",
      "  >>> from numpy import doc\n",
      "  >>> help(doc)\n",
      "  ... # doctest: +SKIP\n",
      "\n",
      "Available subpackages\n",
      "---------------------\n",
      "lib\n",
      "    Basic functions used by several sub-packages.\n",
      "random\n",
      "    Core Random Tools\n",
      "linalg\n",
      "    Core Linear Algebra Tools\n",
      "fft\n",
      "    Core FFT routines\n",
      "polynomial\n",
      "    Polynomial tools\n",
      "testing\n",
      "    NumPy testing tools\n",
      "distutils\n",
      "    Enhancements to distutils with support for\n",
      "    Fortran compilers support and more.\n",
      "\n",
      "Utilities\n",
      "---------\n",
      "test\n",
      "    Run numpy unittests\n",
      "show_config\n",
      "    Show numpy build configuration\n",
      "dual\n",
      "    Overwrite certain functions with high-performance SciPy tools.\n",
      "    Note: `numpy.dual` is deprecated.  Use the functions from NumPy or Scipy\n",
      "    directly instead of importing them from `numpy.dual`.\n",
      "matlib\n",
      "    Make everything matrices.\n",
      "__version__\n",
      "    NumPy version string\n",
      "\n",
      "Viewing documentation using IPython\n",
      "-----------------------------------\n",
      "\n",
      "Start IPython and import `numpy` usually under the alias ``np``: `import\n",
      "numpy as np`.  Then, directly past or use the ``%cpaste`` magic to paste\n",
      "examples into the shell.  To see which functions are available in `numpy`,\n",
      "type ``np.<TAB>`` (where ``<TAB>`` refers to the TAB key), or use\n",
      "``np.*cos*?<ENTER>`` (where ``<ENTER>`` refers to the ENTER key) to narrow\n",
      "down the list.  To view the docstring for a function, use\n",
      "``np.cos?<ENTER>`` (to view the docstring) and ``np.cos??<ENTER>`` (to view\n",
      "the source code).\n",
      "\n",
      "Copies vs. in-place operation\n",
      "-----------------------------\n",
      "Most of the functions in `numpy` return a copy of the array argument\n",
      "(e.g., `np.sort`).  In-place versions of these functions are often\n",
      "available as array methods, i.e. ``x = np.array([1,2,3]); x.sort()``.\n",
      "Exceptions to this rule are documented.\n",
      "\n",
      "\n"
     ]
    }
   ],
   "source": [
    "print(np.__doc__)"
   ]
  },
  {
   "cell_type": "markdown",
   "id": "54f7b35a",
   "metadata": {},
   "source": [
    "An array is a data structure that stores a collection of elements, typically of the same data type, in a contiguous block of memory. Arrays allow you to store multiple values in a single variable and access these values using indices. In most programming languages, including Python (via NumPy), arrays are used for efficiently storing and manipulating numerical data.\n",
    "\n",
    "### Characteristics of Arrays:\n",
    "1. **Fixed Size:**\n",
    "   - Once an array is created, its size is fixed, meaning it cannot grow or shrink dynamically like Python lists. The number of elements (length) in an array is set at the time of its creation.\n",
    "\n",
    "2. **Homogeneous Elements:**\n",
    "   - All elements in an array must be of the same data type (e.g., all integers, all floats, etc.). This makes operations on arrays more efficient.\n",
    "\n",
    "3. **Contiguous Memory Allocation:**\n",
    "   - Elements in an array are stored in contiguous memory locations, which allows for fast access and efficient memory use.\n",
    "\n",
    "4. **Indexing:**\n",
    "   - Arrays use zero-based indexing, meaning the first element is accessed with index 0, the second with index 1, and so on. This allows for direct access to any element in constant time (O(1)).\n",
    "\n",
    "5. **Efficient Computation:**\n",
    "   - Due to the fixed size and contiguous memory allocation, arrays allow for efficient computation, particularly in numerical operations where large datasets are involved.\n",
    "\n",
    "### Types of Arrays:\n",
    "- **One-Dimensional Array (1D Array):**\n",
    "  - A linear array where elements are arranged in a single row.\n",
    "  - Example: `[1, 2, 3, 4, 5]`\n",
    "\n",
    "- **Two-Dimensional Array (2D Array):**\n",
    "  - An array of arrays, often visualized as a matrix with rows and columns.\n",
    "  - Example: \n",
    "    ```\n",
    "    [[1, 2, 3],\n",
    "     [4, 5, 6],\n",
    "     [7, 8, 9]]\n",
    "    ```\n",
    "\n",
    "- **Multi-Dimensional Array:**\n",
    "  - An array with more than two dimensions, such as a 3D array, which can represent a cube of data.\n",
    "  - Example: A 3x3x3 cube.\n",
    "\n",
    "### Arrays in NumPy:\n",
    "In Python, the basic array structure is the list, but for more advanced numerical operations, the NumPy library is commonly used. NumPy arrays (`ndarray`) provide additional functionality and performance benefits over Python lists, making them ideal for scientific computing.\n",
    "\n",
    "#### Creating Arrays in NumPy:\n",
    "```python\n",
    "import numpy as np\n",
    "\n",
    "# 1D Array\n",
    "array_1d = np.array([1, 2, 3, 4, 5])\n",
    "\n",
    "# 2D Array (Matrix)\n",
    "array_2d = np.array([[1, 2, 3], [4, 5, 6], [7, 8, 9]])\n",
    "\n",
    "# 3D Array\n",
    "array_3d = np.array([[[1, 2], [3, 4]], [[5, 6], [7, 8]]])\n",
    "\n",
    "print(\"1D Array:\\n\", array_1d)\n",
    "print(\"2D Array:\\n\", array_2d)\n",
    "print(\"3D Array:\\n\", array_3d)\n",
    "```\n",
    "\n",
    "### Operations on Arrays:\n",
    "- **Element-wise Operations:**\n",
    "  - You can perform mathematical operations on arrays element-wise.\n",
    "  ```python\n",
    "  array = np.array([1, 2, 3, 4])\n",
    "  result = array + 10  # Adds 10 to each element\n",
    "  ```\n",
    "\n",
    "- **Matrix Operations:**\n",
    "  - Arrays can represent matrices, allowing for operations like matrix multiplication.\n",
    "  ```python\n",
    "  matrix1 = np.array([[1, 2], [3, 4]])\n",
    "  matrix2 = np.array([[5, 6], [7, 8]])\n",
    "  result = np.dot(matrix1, matrix2)  # Matrix multiplication\n",
    "  ```\n",
    "\n",
    "- **Indexing and Slicing:**\n",
    "  - You can access individual elements or subarrays using indexing and slicing.\n",
    "  ```python\n",
    "  array = np.array([1, 2, 3, 4, 5])\n",
    "  element = array[2]  # Accessing the 3rd element (index 2)\n",
    "  subarray = array[1:4]  # Slicing from index 1 to 3\n",
    "  ```\n",
    "\n",
    "### Use Cases of Arrays:\n",
    "1. **Data Storage:**\n",
    "   - Arrays are used to store large datasets, such as time series data, image data, or any numerical data, efficiently in memory.\n",
    "\n",
    "2. **Mathematical Computations:**\n",
    "   - Arrays are ideal for performing mathematical computations, such as vector operations, matrix multiplications, and solving systems of equations.\n",
    "\n",
    "3. **Scientific Simulations:**\n",
    "   - In scientific research, arrays are used to simulate physical systems, perform numerical analysis, and run experiments with large datasets.\n",
    "\n",
    "4. **Image Processing:**\n",
    "   - Images are represented as multi-dimensional arrays (e.g., 2D for grayscale images, 3D for color images), enabling operations like filtering, transformation, and enhancement.\n",
    "\n",
    "### Conclusion:\n",
    "Arrays are a fundamental data structure in programming, particularly in numerical computing and data analysis. In Python, while lists can be used as basic arrays, NumPy provides more powerful and efficient array structures (`ndarray`) for handling large datasets and performing complex numerical operations."
   ]
  },
  {
   "cell_type": "code",
   "execution_count": null,
   "id": "d830de6b",
   "metadata": {},
   "outputs": [],
   "source": [
    "#Why numpy\n",
    "#-mathematical function\n",
    "#Faster"
   ]
  },
  {
   "cell_type": "code",
   "execution_count": 4,
   "id": "956f9f42",
   "metadata": {},
   "outputs": [],
   "source": [
    "l = [1, 2, 3, 4, 5]"
   ]
  },
  {
   "cell_type": "code",
   "execution_count": 10,
   "id": "300cecb1",
   "metadata": {},
   "outputs": [],
   "source": [
    "arr = np.array(l)"
   ]
  },
  {
   "cell_type": "code",
   "execution_count": 12,
   "id": "5eb5099b",
   "metadata": {},
   "outputs": [
    {
     "data": {
      "text/plain": [
       "array([1, 2, 3, 4, 5])"
      ]
     },
     "execution_count": 12,
     "metadata": {},
     "output_type": "execute_result"
    }
   ],
   "source": [
    "arr"
   ]
  },
  {
   "cell_type": "code",
   "execution_count": 6,
   "id": "1830fae0",
   "metadata": {},
   "outputs": [
    {
     "data": {
      "text/plain": [
       "numpy.ndarray"
      ]
     },
     "execution_count": 6,
     "metadata": {},
     "output_type": "execute_result"
    }
   ],
   "source": [
    "type(np.array(l))"
   ]
  },
  {
   "cell_type": "code",
   "execution_count": 8,
   "id": "4678219e",
   "metadata": {},
   "outputs": [
    {
     "data": {
      "text/plain": [
       "numpy.ndarray"
      ]
     },
     "execution_count": 8,
     "metadata": {},
     "output_type": "execute_result"
    }
   ],
   "source": [
    "type(np.array(l))"
   ]
  },
  {
   "cell_type": "code",
   "execution_count": 11,
   "id": "fe1a7481",
   "metadata": {},
   "outputs": [
    {
     "data": {
      "text/plain": [
       "1"
      ]
     },
     "execution_count": 11,
     "metadata": {},
     "output_type": "execute_result"
    }
   ],
   "source": [
    "arr.ndim"
   ]
  },
  {
   "cell_type": "code",
   "execution_count": 14,
   "id": "50c33014",
   "metadata": {},
   "outputs": [
    {
     "data": {
      "text/plain": [
       "array(['1', '2', '3', '4', '5', 'arr'], dtype='<U21')"
      ]
     },
     "execution_count": 14,
     "metadata": {},
     "output_type": "execute_result"
    }
   ],
   "source": [
    "import numpy as np\n",
    "l = [1, 2, 3, 4, 5, \"arr\"]\n",
    "arr = np.array(l)\n",
    "arr"
   ]
  },
  {
   "cell_type": "code",
   "execution_count": 15,
   "id": "ed63c3f3",
   "metadata": {},
   "outputs": [
    {
     "data": {
      "text/plain": [
       "1"
      ]
     },
     "execution_count": 15,
     "metadata": {},
     "output_type": "execute_result"
    }
   ],
   "source": [
    "arr.ndim"
   ]
  },
  {
   "cell_type": "code",
   "execution_count": 16,
   "id": "20bb2fad",
   "metadata": {},
   "outputs": [
    {
     "data": {
      "text/plain": [
       "array(['1', '2', '3', '4', '5', 'arr'], dtype='<U21')"
      ]
     },
     "execution_count": 16,
     "metadata": {},
     "output_type": "execute_result"
    }
   ],
   "source": [
    "arr"
   ]
  },
  {
   "cell_type": "code",
   "execution_count": 31,
   "id": "ffed95b0",
   "metadata": {},
   "outputs": [],
   "source": [
    "p = np.array([[[[[\n",
    "    [1, 2, 3],[1,2,3],[3,4,5]\n",
    " ] ]] ]])"
   ]
  },
  {
   "cell_type": "code",
   "execution_count": 28,
   "id": "6931892d",
   "metadata": {},
   "outputs": [
    {
     "data": {
      "text/plain": [
       "6"
      ]
     },
     "execution_count": 28,
     "metadata": {},
     "output_type": "execute_result"
    }
   ],
   "source": [
    "p.ndim"
   ]
  },
  {
   "cell_type": "code",
   "execution_count": 34,
   "id": "9920a017",
   "metadata": {},
   "outputs": [],
   "source": [
    "arr1 = np.array([1, 2, 3])"
   ]
  },
  {
   "cell_type": "code",
   "execution_count": 36,
   "id": "1589018d",
   "metadata": {},
   "outputs": [],
   "source": [
    "arr2 = np.array([4,5,6])"
   ]
  },
  {
   "cell_type": "code",
   "execution_count": 37,
   "id": "33fe4d92",
   "metadata": {},
   "outputs": [
    {
     "data": {
      "text/plain": [
       "array([5, 7, 9])"
      ]
     },
     "execution_count": 37,
     "metadata": {},
     "output_type": "execute_result"
    }
   ],
   "source": [
    "arr1+arr2"
   ]
  },
  {
   "cell_type": "code",
   "execution_count": 38,
   "id": "42ba39a3",
   "metadata": {},
   "outputs": [
    {
     "data": {
      "text/plain": [
       "array([-3, -3, -3])"
      ]
     },
     "execution_count": 38,
     "metadata": {},
     "output_type": "execute_result"
    }
   ],
   "source": [
    "arr1-arr2"
   ]
  },
  {
   "cell_type": "code",
   "execution_count": 18,
   "id": "a41749ab",
   "metadata": {},
   "outputs": [
    {
     "data": {
      "text/plain": [
       "2"
      ]
     },
     "execution_count": 18,
     "metadata": {},
     "output_type": "execute_result"
    }
   ],
   "source": [
    "arr1.ndim"
   ]
  },
  {
   "cell_type": "code",
   "execution_count": 41,
   "id": "da020e8d",
   "metadata": {},
   "outputs": [],
   "source": [
    "l = [1, 2, 3, 4]"
   ]
  },
  {
   "cell_type": "code",
   "execution_count": 42,
   "id": "c74d488e",
   "metadata": {},
   "outputs": [
    {
     "data": {
      "text/plain": [
       "array([1, 2, 3, 4])"
      ]
     },
     "execution_count": 42,
     "metadata": {},
     "output_type": "execute_result"
    }
   ],
   "source": [
    "np.array(l)"
   ]
  },
  {
   "cell_type": "code",
   "execution_count": 43,
   "id": "89aa1903",
   "metadata": {},
   "outputs": [],
   "source": [
    "mat = np.matrix(l) #matris will be by default 2d"
   ]
  },
  {
   "cell_type": "code",
   "execution_count": 44,
   "id": "a72f79ed",
   "metadata": {},
   "outputs": [
    {
     "data": {
      "text/plain": [
       "matrix([[1, 2, 3, 4]])"
      ]
     },
     "execution_count": 44,
     "metadata": {},
     "output_type": "execute_result"
    }
   ],
   "source": [
    "mat"
   ]
  },
  {
   "cell_type": "code",
   "execution_count": 68,
   "id": "df865184",
   "metadata": {},
   "outputs": [
    {
     "data": {
      "text/plain": [
       "matrix([[1, 2],\n",
       "        [5, 6]])"
      ]
     },
     "execution_count": 68,
     "metadata": {},
     "output_type": "execute_result"
    }
   ],
   "source": [
    "np.matrix(\n",
    "    [\n",
    "    [1, 2], \n",
    "    [5, 6]\n",
    "    ])"
   ]
  },
  {
   "cell_type": "code",
   "execution_count": 46,
   "id": "450222ad",
   "metadata": {},
   "outputs": [
    {
     "data": {
      "text/plain": [
       "array([[[1, 2],\n",
       "        [5, 6],\n",
       "        [7, 8]]])"
      ]
     },
     "execution_count": 46,
     "metadata": {},
     "output_type": "execute_result"
    }
   ],
   "source": [
    "np.array(\n",
    "    [[\n",
    "        [1, 2], \n",
    "        [5, 6], \n",
    "        [7, 8]\n",
    "    ]])"
   ]
  },
  {
   "cell_type": "code",
   "execution_count": 48,
   "id": "c0ed8d4e",
   "metadata": {},
   "outputs": [],
   "source": [
    "d = [[[1, 2], [5, 6], [7, 8]]]"
   ]
  },
  {
   "cell_type": "code",
   "execution_count": 50,
   "id": "2c0e414b",
   "metadata": {},
   "outputs": [
    {
     "data": {
      "text/plain": [
       "list"
      ]
     },
     "execution_count": 50,
     "metadata": {},
     "output_type": "execute_result"
    }
   ],
   "source": [
    "type(d)\n"
   ]
  },
  {
   "cell_type": "code",
   "execution_count": 27,
   "id": "070ed685",
   "metadata": {},
   "outputs": [
    {
     "data": {
      "text/plain": [
       "array([[[1, 2],\n",
       "        [5, 6],\n",
       "        [7, 8]]])"
      ]
     },
     "execution_count": 27,
     "metadata": {},
     "output_type": "execute_result"
    }
   ],
   "source": [
    "#more way to convert to array\n",
    "np.asarray([[[1, 2], [5, 6], [7, 8]]])"
   ]
  },
  {
   "cell_type": "code",
   "execution_count": 28,
   "id": "a348967d",
   "metadata": {},
   "outputs": [
    {
     "data": {
      "text/plain": [
       "array([[[1, 2],\n",
       "        [5, 6],\n",
       "        [7, 8]]])"
      ]
     },
     "execution_count": 28,
     "metadata": {},
     "output_type": "execute_result"
    }
   ],
   "source": [
    "np.asanyarray([[[1, 2], [5, 6], [7, 8]]]) #Convert the input to an ndarray, but pass ndarray subclasses through."
   ]
  },
  {
   "cell_type": "code",
   "execution_count": 30,
   "id": "3f8739e9",
   "metadata": {},
   "outputs": [
    {
     "data": {
      "text/plain": [
       "matrix([[1, 2, 3, 4]])"
      ]
     },
     "execution_count": 30,
     "metadata": {},
     "output_type": "execute_result"
    }
   ],
   "source": [
    "mat"
   ]
  },
  {
   "cell_type": "code",
   "execution_count": 31,
   "id": "e7d0329e",
   "metadata": {},
   "outputs": [
    {
     "data": {
      "text/plain": [
       "matrix([[1, 2, 3, 4]])"
      ]
     },
     "execution_count": 31,
     "metadata": {},
     "output_type": "execute_result"
    }
   ],
   "source": [
    "np.asanyarray(mat)"
   ]
  },
  {
   "cell_type": "code",
   "execution_count": 32,
   "id": "75577185",
   "metadata": {},
   "outputs": [
    {
     "data": {
      "text/plain": [
       "array([[[1, 2],\n",
       "        [5, 6],\n",
       "        [7, 8]]])"
      ]
     },
     "execution_count": 32,
     "metadata": {},
     "output_type": "execute_result"
    }
   ],
   "source": [
    "np.asarray([[[1, 2], [5, 6], [7, 8]]])"
   ]
  },
  {
   "cell_type": "code",
   "execution_count": 33,
   "id": "6febaf03",
   "metadata": {},
   "outputs": [
    {
     "data": {
      "text/plain": [
       "array([[[1, 2],\n",
       "        [5, 6],\n",
       "        [7, 8]]])"
      ]
     },
     "execution_count": 33,
     "metadata": {},
     "output_type": "execute_result"
    }
   ],
   "source": [
    "np.array([[[1, 2], [5, 6], [7, 8]]])"
   ]
  },
  {
   "cell_type": "code",
   "execution_count": 34,
   "id": "cd0a4023",
   "metadata": {},
   "outputs": [
    {
     "data": {
      "text/plain": [
       "tuple"
      ]
     },
     "execution_count": 34,
     "metadata": {},
     "output_type": "execute_result"
    }
   ],
   "source": [
    "t = ([1, 2, 3], [4, 5, 6])\n",
    "type(t)"
   ]
  },
  {
   "cell_type": "code",
   "execution_count": 35,
   "id": "1f802b54",
   "metadata": {},
   "outputs": [
    {
     "data": {
      "text/plain": [
       "array([[1, 2, 3],\n",
       "       [4, 5, 6]])"
      ]
     },
     "execution_count": 35,
     "metadata": {},
     "output_type": "execute_result"
    }
   ],
   "source": [
    "np.array(t)"
   ]
  },
  {
   "cell_type": "code",
   "execution_count": 36,
   "id": "0ac2ed31",
   "metadata": {},
   "outputs": [
    {
     "data": {
      "text/plain": [
       "array(5)"
      ]
     },
     "execution_count": 36,
     "metadata": {},
     "output_type": "execute_result"
    }
   ],
   "source": [
    "a = 5\n",
    "np.array(a)"
   ]
  },
  {
   "cell_type": "code",
   "execution_count": 37,
   "id": "5487a14e",
   "metadata": {},
   "outputs": [
    {
     "data": {
      "text/plain": [
       "array([1, 2, 3, 4, 5])"
      ]
     },
     "execution_count": 37,
     "metadata": {},
     "output_type": "execute_result"
    }
   ],
   "source": [
    "l = [1, 2, 3, 4, 5]\n",
    "arr = np.array(l)\n",
    "arr"
   ]
  },
  {
   "cell_type": "code",
   "execution_count": 41,
   "id": "461f7064",
   "metadata": {},
   "outputs": [],
   "source": [
    "a = arr"
   ]
  },
  {
   "cell_type": "code",
   "execution_count": 42,
   "id": "7898f025",
   "metadata": {},
   "outputs": [
    {
     "data": {
      "text/plain": [
       "array([1, 2, 3, 4, 5])"
      ]
     },
     "execution_count": 42,
     "metadata": {},
     "output_type": "execute_result"
    }
   ],
   "source": [
    "a"
   ]
  },
  {
   "cell_type": "code",
   "execution_count": 43,
   "id": "575cec3f",
   "metadata": {},
   "outputs": [],
   "source": [
    "arr[0] = 1000"
   ]
  },
  {
   "cell_type": "code",
   "execution_count": 44,
   "id": "0bfd4289",
   "metadata": {},
   "outputs": [
    {
     "data": {
      "text/plain": [
       "array([1000,    2,    3,    4,    5])"
      ]
     },
     "execution_count": 44,
     "metadata": {},
     "output_type": "execute_result"
    }
   ],
   "source": [
    "arr"
   ]
  },
  {
   "cell_type": "code",
   "execution_count": 45,
   "id": "07bf7359",
   "metadata": {},
   "outputs": [
    {
     "data": {
      "text/plain": [
       "array([1000,    2,    3,    4,    5])"
      ]
     },
     "execution_count": 45,
     "metadata": {},
     "output_type": "execute_result"
    }
   ],
   "source": [
    "a"
   ]
  },
  {
   "cell_type": "code",
   "execution_count": 46,
   "id": "75b57f92",
   "metadata": {},
   "outputs": [
    {
     "data": {
      "text/plain": [
       "array([1000,    2,    3,    4,    5])"
      ]
     },
     "execution_count": 46,
     "metadata": {},
     "output_type": "execute_result"
    }
   ],
   "source": [
    "a"
   ]
  },
  {
   "cell_type": "code",
   "execution_count": 47,
   "id": "f7c4a254",
   "metadata": {},
   "outputs": [],
   "source": [
    "b = a.copy()\n",
    "b[0] = 2000"
   ]
  },
  {
   "cell_type": "code",
   "execution_count": 48,
   "id": "330ab1a3",
   "metadata": {},
   "outputs": [
    {
     "data": {
      "text/plain": [
       "array([2000,    2,    3,    4,    5])"
      ]
     },
     "execution_count": 48,
     "metadata": {},
     "output_type": "execute_result"
    }
   ],
   "source": [
    "b"
   ]
  },
  {
   "cell_type": "code",
   "execution_count": 49,
   "id": "64c65d03",
   "metadata": {},
   "outputs": [
    {
     "data": {
      "text/plain": [
       "array([1000,    2,    3,    4,    5])"
      ]
     },
     "execution_count": 49,
     "metadata": {},
     "output_type": "execute_result"
    }
   ],
   "source": [
    "a"
   ]
  },
  {
   "cell_type": "code",
   "execution_count": null,
   "id": "5d28e1f3",
   "metadata": {},
   "outputs": [],
   "source": [
    "#to create array >> .array, .asasrray, .asanyarray, deep copy, shallow copy"
   ]
  },
  {
   "cell_type": "code",
   "execution_count": null,
   "id": "573a36e6",
   "metadata": {},
   "outputs": [],
   "source": [
    "#There are multiple ways to generating arrays"
   ]
  },
  {
   "cell_type": "code",
   "execution_count": 50,
   "id": "48cce040",
   "metadata": {},
   "outputs": [
    {
     "data": {
      "text/plain": [
       "array([[ True, False, False],\n",
       "       [False,  True, False],\n",
       "       [False, False,  True]])"
      ]
     },
     "execution_count": 50,
     "metadata": {},
     "output_type": "execute_result"
    }
   ],
   "source": [
    "np.fromfunction(lambda i, j : i==j, (3, 3))"
   ]
  },
  {
   "cell_type": "code",
   "execution_count": 51,
   "id": "4b321c2b",
   "metadata": {},
   "outputs": [
    {
     "data": {
      "text/plain": [
       "array(['1', '2', '3', '4', '5', 'arr'], dtype='<U21')"
      ]
     },
     "execution_count": 51,
     "metadata": {},
     "output_type": "execute_result"
    }
   ],
   "source": [
    "arr"
   ]
  },
  {
   "cell_type": "code",
   "execution_count": 52,
   "id": "f2f93603",
   "metadata": {},
   "outputs": [
    {
     "data": {
      "text/plain": [
       "(6,)"
      ]
     },
     "execution_count": 52,
     "metadata": {},
     "output_type": "execute_result"
    }
   ],
   "source": [
    "arr.shape"
   ]
  },
  {
   "cell_type": "code",
   "execution_count": 61,
   "id": "35ade49e",
   "metadata": {},
   "outputs": [],
   "source": [
    "arr = np.array(['1', '2', '3', '4', '5', 'arr'])"
   ]
  },
  {
   "cell_type": "code",
   "execution_count": 65,
   "id": "e23387f2",
   "metadata": {},
   "outputs": [
    {
     "data": {
      "text/plain": [
       "1"
      ]
     },
     "execution_count": 65,
     "metadata": {},
     "output_type": "execute_result"
    }
   ],
   "source": [
    "arr.ndim"
   ]
  },
  {
   "cell_type": "code",
   "execution_count": 73,
   "id": "106d91e5",
   "metadata": {},
   "outputs": [],
   "source": [
    "mm = np.array(\n",
    "    [\n",
    "        [1, 2], \n",
    "        [5, 6], \n",
    "        [7, 8],\n",
    "        [9, 10]\n",
    "    ])"
   ]
  },
  {
   "cell_type": "code",
   "execution_count": 77,
   "id": "85e7de66",
   "metadata": {},
   "outputs": [],
   "source": [
    "mm = np.array(\n",
    "    [[[\n",
    "        [1, 2], \n",
    "        [5, 6], \n",
    "        [7, 8],\n",
    "        [9, 10]\n",
    "    ]]])"
   ]
  },
  {
   "cell_type": "code",
   "execution_count": 78,
   "id": "3aa88572",
   "metadata": {},
   "outputs": [
    {
     "data": {
      "text/plain": [
       "(1, 1, 4, 2)"
      ]
     },
     "execution_count": 78,
     "metadata": {},
     "output_type": "execute_result"
    }
   ],
   "source": [
    "mm.shape"
   ]
  },
  {
   "cell_type": "code",
   "execution_count": 67,
   "id": "8dc90522",
   "metadata": {},
   "outputs": [
    {
     "data": {
      "text/plain": [
       "6"
      ]
     },
     "execution_count": 67,
     "metadata": {},
     "output_type": "execute_result"
    }
   ],
   "source": [
    "arr.size"
   ]
  },
  {
   "cell_type": "code",
   "execution_count": 55,
   "id": "c737f0a0",
   "metadata": {},
   "outputs": [
    {
     "data": {
      "text/plain": [
       "3"
      ]
     },
     "execution_count": 55,
     "metadata": {},
     "output_type": "execute_result"
    }
   ],
   "source": [
    "arr1.size"
   ]
  },
  {
   "cell_type": "code",
   "execution_count": 61,
   "id": "400f5ecf",
   "metadata": {},
   "outputs": [
    {
     "data": {
      "text/plain": [
       "array([[ True, False, False],\n",
       "       [False,  True, False],\n",
       "       [False, False,  True]])"
      ]
     },
     "execution_count": 61,
     "metadata": {},
     "output_type": "execute_result"
    }
   ],
   "source": [
    "np.fromfunction(lambda i, j : i==j, (3, 3))"
   ]
  },
  {
   "cell_type": "code",
   "execution_count": 62,
   "id": "62a688a3",
   "metadata": {},
   "outputs": [
    {
     "data": {
      "text/plain": [
       "array([[0., 0., 0.],\n",
       "       [0., 1., 2.],\n",
       "       [0., 2., 4.]])"
      ]
     },
     "execution_count": 62,
     "metadata": {},
     "output_type": "execute_result"
    }
   ],
   "source": [
    "np.fromfunction(lambda i, j : i*j, (3, 3))"
   ]
  },
  {
   "cell_type": "code",
   "execution_count": 64,
   "id": "52515e93",
   "metadata": {},
   "outputs": [
    {
     "name": "stdout",
     "output_type": "stream",
     "text": [
      "0\n",
      "1\n",
      "2\n",
      "3\n",
      "4\n"
     ]
    }
   ],
   "source": [
    "for i in range(5):\n",
    "    print(i)"
   ]
  },
  {
   "cell_type": "code",
   "execution_count": 65,
   "id": "4be7b4c2",
   "metadata": {},
   "outputs": [
    {
     "data": {
      "text/plain": [
       "[0, 1, 2, 3, 4]"
      ]
     },
     "execution_count": 65,
     "metadata": {},
     "output_type": "execute_result"
    }
   ],
   "source": [
    "[i for i in range(5)]"
   ]
  },
  {
   "cell_type": "code",
   "execution_count": 66,
   "id": "c7f9c871",
   "metadata": {},
   "outputs": [
    {
     "data": {
      "text/plain": [
       "[0, 1, 2, 3, 4]"
      ]
     },
     "execution_count": 66,
     "metadata": {},
     "output_type": "execute_result"
    }
   ],
   "source": [
    "list(i for i in range(5))"
   ]
  },
  {
   "cell_type": "code",
   "execution_count": 67,
   "id": "b437f1b4",
   "metadata": {},
   "outputs": [
    {
     "data": {
      "text/plain": [
       "[0, 1, 2, 3, 4]"
      ]
     },
     "execution_count": 67,
     "metadata": {},
     "output_type": "execute_result"
    }
   ],
   "source": [
    "list(range(5))"
   ]
  },
  {
   "cell_type": "code",
   "execution_count": 83,
   "id": "cf6cd7e7",
   "metadata": {},
   "outputs": [],
   "source": [
    "iterable = (i*i for i in range(5))"
   ]
  },
  {
   "cell_type": "code",
   "execution_count": 84,
   "id": "d8a56656",
   "metadata": {},
   "outputs": [
    {
     "data": {
      "text/plain": [
       "array([ 0,  1,  4,  9, 16])"
      ]
     },
     "execution_count": 84,
     "metadata": {},
     "output_type": "execute_result"
    }
   ],
   "source": [
    "np.fromiter(iterable, int)"
   ]
  },
  {
   "cell_type": "code",
   "execution_count": 81,
   "id": "121af580",
   "metadata": {},
   "outputs": [
    {
     "data": {
      "text/plain": [
       "array([23., 34., 67.])"
      ]
     },
     "execution_count": 81,
     "metadata": {},
     "output_type": "execute_result"
    }
   ],
   "source": [
    "np.fromstring('23 34 67', sep = ' ')"
   ]
  },
  {
   "cell_type": "code",
   "execution_count": 80,
   "id": "4459929a",
   "metadata": {},
   "outputs": [
    {
     "data": {
      "text/plain": [
       "array([23., 34., 67.])"
      ]
     },
     "execution_count": 80,
     "metadata": {},
     "output_type": "execute_result"
    }
   ],
   "source": [
    "np.fromstring('23,34,67', sep = ',')"
   ]
  },
  {
   "cell_type": "code",
   "execution_count": 79,
   "id": "c048cb5b",
   "metadata": {},
   "outputs": [
    {
     "name": "stderr",
     "output_type": "stream",
     "text": [
      "C:\\Users\\hp\\AppData\\Local\\Temp\\ipykernel_11356\\4232903791.py:1: DeprecationWarning: string or file could not be read to its end due to unmatched data; this will raise a ValueError in the future.\n",
      "  np.fromstring('Suhani,Ajay,Anwesha', sep = ',')\n"
     ]
    },
    {
     "data": {
      "text/plain": [
       "array([], dtype=float64)"
      ]
     },
     "execution_count": 79,
     "metadata": {},
     "output_type": "execute_result"
    }
   ],
   "source": [
    "np.fromstring('Suhani,Ajay,Anwesha', sep = ',')"
   ]
  },
  {
   "cell_type": "code",
   "execution_count": 86,
   "id": "e57099da",
   "metadata": {},
   "outputs": [
    {
     "data": {
      "text/plain": [
       "array([1000,    2,    3,    4,    5])"
      ]
     },
     "execution_count": 86,
     "metadata": {},
     "output_type": "execute_result"
    }
   ],
   "source": [
    "arr"
   ]
  },
  {
   "cell_type": "code",
   "execution_count": 87,
   "id": "d7295c31",
   "metadata": {},
   "outputs": [
    {
     "data": {
      "text/plain": [
       "5"
      ]
     },
     "execution_count": 87,
     "metadata": {},
     "output_type": "execute_result"
    }
   ],
   "source": [
    "arr.size"
   ]
  },
  {
   "cell_type": "code",
   "execution_count": 88,
   "id": "0d66ec3f",
   "metadata": {},
   "outputs": [
    {
     "data": {
      "text/plain": [
       "(5,)"
      ]
     },
     "execution_count": 88,
     "metadata": {},
     "output_type": "execute_result"
    }
   ],
   "source": [
    "arr.shape"
   ]
  },
  {
   "cell_type": "code",
   "execution_count": 89,
   "id": "92fa12e9",
   "metadata": {},
   "outputs": [
    {
     "data": {
      "text/plain": [
       "dtype('int32')"
      ]
     },
     "execution_count": 89,
     "metadata": {},
     "output_type": "execute_result"
    }
   ],
   "source": [
    "arr.dtype"
   ]
  },
  {
   "cell_type": "code",
   "execution_count": 92,
   "id": "33e7e737",
   "metadata": {},
   "outputs": [
    {
     "data": {
      "text/plain": [
       "dtype('<U11')"
      ]
     },
     "execution_count": 92,
     "metadata": {},
     "output_type": "execute_result"
    }
   ],
   "source": [
    "l = [1, 2,3, \"Ajay\"]\n",
    "arr = np.array(l)\n",
    "arr.dtype"
   ]
  },
  {
   "cell_type": "code",
   "execution_count": 93,
   "id": "ac013f33",
   "metadata": {},
   "outputs": [
    {
     "data": {
      "text/plain": [
       "array(['1', '2', '3', 'Ajay'], dtype='<U11')"
      ]
     },
     "execution_count": 93,
     "metadata": {},
     "output_type": "execute_result"
    }
   ],
   "source": [
    "arr"
   ]
  },
  {
   "cell_type": "code",
   "execution_count": 94,
   "id": "98e044c7",
   "metadata": {},
   "outputs": [
    {
     "data": {
      "text/plain": [
       "[0, 1, 2, 3, 4]"
      ]
     },
     "execution_count": 94,
     "metadata": {},
     "output_type": "execute_result"
    }
   ],
   "source": [
    "list(range(5))"
   ]
  },
  {
   "cell_type": "code",
   "execution_count": 95,
   "id": "547c5443",
   "metadata": {},
   "outputs": [
    {
     "data": {
      "text/plain": [
       "range(0, 5)"
      ]
     },
     "execution_count": 95,
     "metadata": {},
     "output_type": "execute_result"
    }
   ],
   "source": [
    "range(5)"
   ]
  },
  {
   "cell_type": "code",
   "execution_count": 99,
   "id": "b2ab7c00",
   "metadata": {},
   "outputs": [
    {
     "ename": "TypeError",
     "evalue": "'float' object cannot be interpreted as an integer",
     "output_type": "error",
     "traceback": [
      "\u001b[1;31m---------------------------------------------------------------------------\u001b[0m",
      "\u001b[1;31mTypeError\u001b[0m                                 Traceback (most recent call last)",
      "Cell \u001b[1;32mIn[99], line 1\u001b[0m\n\u001b[1;32m----> 1\u001b[0m \u001b[38;5;28mlist\u001b[39m(\u001b[38;5;28mrange\u001b[39m(\u001b[38;5;241m1.0\u001b[39m, \u001b[38;5;241m2.10\u001b[39m))\n",
      "\u001b[1;31mTypeError\u001b[0m: 'float' object cannot be interpreted as an integer"
     ]
    }
   ],
   "source": [
    "list(range(1.0, 2.10))"
   ]
  },
  {
   "cell_type": "code",
   "execution_count": 102,
   "id": "8abb4353",
   "metadata": {},
   "outputs": [
    {
     "data": {
      "text/plain": [
       "[0.1,\n",
       " 0.2,\n",
       " 0.30000000000000004,\n",
       " 0.4,\n",
       " 0.5,\n",
       " 0.6,\n",
       " 0.7000000000000001,\n",
       " 0.8,\n",
       " 0.9,\n",
       " 1.0,\n",
       " 1.1,\n",
       " 1.2000000000000002,\n",
       " 1.3000000000000003,\n",
       " 1.4000000000000001,\n",
       " 1.5000000000000002,\n",
       " 1.6,\n",
       " 1.7000000000000002,\n",
       " 1.8000000000000003,\n",
       " 1.9000000000000001,\n",
       " 2.0,\n",
       " 2.1,\n",
       " 2.2,\n",
       " 2.3000000000000003,\n",
       " 2.4000000000000004,\n",
       " 2.5000000000000004,\n",
       " 2.6,\n",
       " 2.7,\n",
       " 2.8000000000000003,\n",
       " 2.9000000000000004,\n",
       " 3.0000000000000004,\n",
       " 3.1,\n",
       " 3.2,\n",
       " 3.3000000000000003,\n",
       " 3.4000000000000004,\n",
       " 3.5000000000000004,\n",
       " 3.6,\n",
       " 3.7,\n",
       " 3.8000000000000003,\n",
       " 3.9000000000000004,\n",
       " 4.0,\n",
       " 4.1,\n",
       " 4.2,\n",
       " 4.3,\n",
       " 4.3999999999999995,\n",
       " 4.5,\n",
       " 4.6,\n",
       " 4.7,\n",
       " 4.8,\n",
       " 4.9,\n",
       " 5.0,\n",
       " 5.1,\n",
       " 5.2,\n",
       " 5.3,\n",
       " 5.4,\n",
       " 5.5,\n",
       " 5.6,\n",
       " 5.7,\n",
       " 5.8,\n",
       " 5.9,\n",
       " 6.0,\n",
       " 6.1,\n",
       " 6.2,\n",
       " 6.3,\n",
       " 6.4,\n",
       " 6.5,\n",
       " 6.6,\n",
       " 6.7,\n",
       " 6.8,\n",
       " 6.9,\n",
       " 7.0,\n",
       " 7.1,\n",
       " 7.2,\n",
       " 7.3,\n",
       " 7.4,\n",
       " 7.5,\n",
       " 7.6,\n",
       " 7.7,\n",
       " 7.8,\n",
       " 7.9,\n",
       " 8.0,\n",
       " 8.1,\n",
       " 8.2,\n",
       " 8.3,\n",
       " 8.4,\n",
       " 8.5,\n",
       " 8.6,\n",
       " 8.7,\n",
       " 8.8,\n",
       " 8.9,\n",
       " 9.0,\n",
       " 9.1,\n",
       " 9.2,\n",
       " 9.3,\n",
       " 9.4,\n",
       " 9.5,\n",
       " 9.6,\n",
       " 9.700000000000001,\n",
       " 9.8,\n",
       " 9.9,\n",
       " 10.0,\n",
       " 10.1]"
      ]
     },
     "execution_count": 102,
     "metadata": {},
     "output_type": "execute_result"
    }
   ],
   "source": [
    "list(np.arange(0.1, 10.2, 0.1))"
   ]
  },
  {
   "cell_type": "code",
   "execution_count": 170,
   "id": "a1202772",
   "metadata": {},
   "outputs": [
    {
     "data": {
      "text/plain": [
       "array([1.        , 1.44444444, 1.88888889, 2.33333333, 2.77777778,\n",
       "       3.22222222, 3.66666667, 4.11111111, 4.55555556, 5.        ])"
      ]
     },
     "execution_count": 170,
     "metadata": {},
     "output_type": "execute_result"
    }
   ],
   "source": [
    "np.linspace(1, 5, 10)"
   ]
  },
  {
   "cell_type": "code",
   "execution_count": 109,
   "id": "003e8a94",
   "metadata": {},
   "outputs": [
    {
     "data": {
      "text/plain": [
       "array([ 2.        ,  2.72158   ,  3.70349885,  5.0396842 ,  6.85795186,\n",
       "        9.33223232, 12.69920842, 17.28095582, 23.51575188, 32.        ])"
      ]
     },
     "execution_count": 109,
     "metadata": {},
     "output_type": "execute_result"
    }
   ],
   "source": [
    "np.logspace(1, 5, 10, base = 2)"
   ]
  },
  {
   "cell_type": "code",
   "execution_count": 110,
   "id": "b8a3e947",
   "metadata": {},
   "outputs": [
    {
     "data": {
      "text/plain": [
       "array([1.00000000e+01, 2.78255940e+01, 7.74263683e+01, 2.15443469e+02,\n",
       "       5.99484250e+02, 1.66810054e+03, 4.64158883e+03, 1.29154967e+04,\n",
       "       3.59381366e+04, 1.00000000e+05])"
      ]
     },
     "execution_count": 110,
     "metadata": {},
     "output_type": "execute_result"
    }
   ],
   "source": [
    "np.logspace(1, 5, 10, base = 10)"
   ]
  },
  {
   "cell_type": "code",
   "execution_count": 158,
   "id": "bc224145",
   "metadata": {},
   "outputs": [
    {
     "data": {
      "text/plain": [
       "(5,)"
      ]
     },
     "execution_count": 158,
     "metadata": {},
     "output_type": "execute_result"
    }
   ],
   "source": [
    "arr1 = np.zeros(5)\n",
    "arr1.shape"
   ]
  },
  {
   "cell_type": "code",
   "execution_count": 159,
   "id": "3e0455b7",
   "metadata": {},
   "outputs": [
    {
     "data": {
      "text/plain": [
       "array([0., 0., 0., 0., 0.])"
      ]
     },
     "execution_count": 159,
     "metadata": {},
     "output_type": "execute_result"
    }
   ],
   "source": [
    "arr1"
   ]
  },
  {
   "cell_type": "code",
   "execution_count": 160,
   "id": "53299a31",
   "metadata": {},
   "outputs": [
    {
     "data": {
      "text/plain": [
       "1"
      ]
     },
     "execution_count": 160,
     "metadata": {},
     "output_type": "execute_result"
    }
   ],
   "source": [
    "arr1.ndim"
   ]
  },
  {
   "cell_type": "code",
   "execution_count": 161,
   "id": "b01a518b",
   "metadata": {},
   "outputs": [
    {
     "data": {
      "text/plain": [
       "(3, 4)"
      ]
     },
     "execution_count": 161,
     "metadata": {},
     "output_type": "execute_result"
    }
   ],
   "source": [
    "arr2 = np.zeros((3, 4))\n",
    "arr2.shape"
   ]
  },
  {
   "cell_type": "code",
   "execution_count": 162,
   "id": "b237a929",
   "metadata": {},
   "outputs": [
    {
     "data": {
      "text/plain": [
       "array([[0., 0., 0., 0.],\n",
       "       [0., 0., 0., 0.],\n",
       "       [0., 0., 0., 0.]])"
      ]
     },
     "execution_count": 162,
     "metadata": {},
     "output_type": "execute_result"
    }
   ],
   "source": [
    "arr2"
   ]
  },
  {
   "cell_type": "code",
   "execution_count": 119,
   "id": "e29d7458",
   "metadata": {},
   "outputs": [
    {
     "data": {
      "text/plain": [
       "2"
      ]
     },
     "execution_count": 119,
     "metadata": {},
     "output_type": "execute_result"
    }
   ],
   "source": [
    "arr2.ndim"
   ]
  },
  {
   "cell_type": "code",
   "execution_count": 163,
   "id": "b433c287",
   "metadata": {},
   "outputs": [
    {
     "data": {
      "text/plain": [
       "(1, 3, 4)"
      ]
     },
     "execution_count": 163,
     "metadata": {},
     "output_type": "execute_result"
    }
   ],
   "source": [
    "arr3 = np.zeros((1, 3, 4))\n",
    "arr3.shape"
   ]
  },
  {
   "cell_type": "code",
   "execution_count": 164,
   "id": "513a361b",
   "metadata": {},
   "outputs": [
    {
     "data": {
      "text/plain": [
       "3"
      ]
     },
     "execution_count": 164,
     "metadata": {},
     "output_type": "execute_result"
    }
   ],
   "source": [
    "arr3.ndim"
   ]
  },
  {
   "cell_type": "code",
   "execution_count": 167,
   "id": "5f679cbc",
   "metadata": {},
   "outputs": [
    {
     "data": {
      "text/plain": [
       "(1, 1, 3, 4)"
      ]
     },
     "execution_count": 167,
     "metadata": {},
     "output_type": "execute_result"
    }
   ],
   "source": [
    "arr4 = np.zeros((1, 1, 3, 4))\n",
    "arr4.shape"
   ]
  },
  {
   "cell_type": "code",
   "execution_count": 168,
   "id": "e0be87e0",
   "metadata": {},
   "outputs": [
    {
     "data": {
      "text/plain": [
       "4"
      ]
     },
     "execution_count": 168,
     "metadata": {},
     "output_type": "execute_result"
    }
   ],
   "source": [
    "arr4.ndim"
   ]
  },
  {
   "cell_type": "code",
   "execution_count": 169,
   "id": "510eafea",
   "metadata": {},
   "outputs": [
    {
     "data": {
      "text/plain": [
       "array([[[[0., 0., 0., 0.],\n",
       "         [0., 0., 0., 0.],\n",
       "         [0., 0., 0., 0.]]]])"
      ]
     },
     "execution_count": 169,
     "metadata": {},
     "output_type": "execute_result"
    }
   ],
   "source": [
    "arr4"
   ]
  },
  {
   "cell_type": "code",
   "execution_count": 130,
   "id": "9a5be8e0",
   "metadata": {},
   "outputs": [
    {
     "data": {
      "text/plain": [
       "array([1., 1., 1., 1., 1.])"
      ]
     },
     "execution_count": 130,
     "metadata": {},
     "output_type": "execute_result"
    }
   ],
   "source": [
    "np.ones(5)"
   ]
  },
  {
   "cell_type": "code",
   "execution_count": 139,
   "id": "676247ba",
   "metadata": {},
   "outputs": [],
   "source": [
    "arr = np.ones((3,4))"
   ]
  },
  {
   "cell_type": "code",
   "execution_count": 140,
   "id": "8a025e0f",
   "metadata": {},
   "outputs": [
    {
     "data": {
      "text/plain": [
       "array([[1., 1., 1., 1.],\n",
       "       [1., 1., 1., 1.],\n",
       "       [1., 1., 1., 1.]])"
      ]
     },
     "execution_count": 140,
     "metadata": {},
     "output_type": "execute_result"
    }
   ],
   "source": [
    "arr"
   ]
  },
  {
   "cell_type": "code",
   "execution_count": 141,
   "id": "0bafe867",
   "metadata": {},
   "outputs": [
    {
     "data": {
      "text/plain": [
       "array([[6., 6., 6., 6.],\n",
       "       [6., 6., 6., 6.],\n",
       "       [6., 6., 6., 6.]])"
      ]
     },
     "execution_count": 141,
     "metadata": {},
     "output_type": "execute_result"
    }
   ],
   "source": [
    "arr+5"
   ]
  },
  {
   "cell_type": "code",
   "execution_count": 143,
   "id": "86551169",
   "metadata": {},
   "outputs": [
    {
     "data": {
      "text/plain": [
       "array([[3., 3., 3., 3.],\n",
       "       [3., 3., 3., 3.],\n",
       "       [3., 3., 3., 3.]])"
      ]
     },
     "execution_count": 143,
     "metadata": {},
     "output_type": "execute_result"
    }
   ],
   "source": [
    "arr * 3"
   ]
  },
  {
   "cell_type": "code",
   "execution_count": null,
   "id": "1af34c2a",
   "metadata": {},
   "outputs": [],
   "source": [
    "np.array([[[[[[[[[[[[[[1, 1, 1, 1, ,1 ]]]]]]]]]]]]]])"
   ]
  },
  {
   "cell_type": "code",
   "execution_count": 144,
   "id": "bdeeb3e0",
   "metadata": {},
   "outputs": [
    {
     "ename": "AttributeError",
     "evalue": "module 'numpy' has no attribute 'twos'",
     "output_type": "error",
     "traceback": [
      "\u001b[1;31m---------------------------------------------------------------------------\u001b[0m",
      "\u001b[1;31mAttributeError\u001b[0m                            Traceback (most recent call last)",
      "Cell \u001b[1;32mIn[144], line 1\u001b[0m\n\u001b[1;32m----> 1\u001b[0m np\u001b[38;5;241m.\u001b[39mtwos((\u001b[38;5;241m2\u001b[39m,\u001b[38;5;241m3\u001b[39m))\n",
      "File \u001b[1;32m~\\anaconda3\\Lib\\site-packages\\numpy\\__init__.py:320\u001b[0m, in \u001b[0;36m__getattr__\u001b[1;34m(attr)\u001b[0m\n\u001b[0;32m    317\u001b[0m     \u001b[38;5;28;01mfrom\u001b[39;00m \u001b[38;5;21;01m.\u001b[39;00m\u001b[38;5;21;01mtesting\u001b[39;00m \u001b[38;5;28;01mimport\u001b[39;00m Tester\n\u001b[0;32m    318\u001b[0m     \u001b[38;5;28;01mreturn\u001b[39;00m Tester\n\u001b[1;32m--> 320\u001b[0m \u001b[38;5;28;01mraise\u001b[39;00m \u001b[38;5;167;01mAttributeError\u001b[39;00m(\u001b[38;5;124m\"\u001b[39m\u001b[38;5;124mmodule \u001b[39m\u001b[38;5;132;01m{!r}\u001b[39;00m\u001b[38;5;124m has no attribute \u001b[39m\u001b[38;5;124m\"\u001b[39m\n\u001b[0;32m    321\u001b[0m                      \u001b[38;5;124m\"\u001b[39m\u001b[38;5;132;01m{!r}\u001b[39;00m\u001b[38;5;124m\"\u001b[39m\u001b[38;5;241m.\u001b[39mformat(\u001b[38;5;18m__name__\u001b[39m, attr))\n",
      "\u001b[1;31mAttributeError\u001b[0m: module 'numpy' has no attribute 'twos'"
     ]
    }
   ],
   "source": [
    "np.twos((2,3))"
   ]
  },
  {
   "cell_type": "code",
   "execution_count": 155,
   "id": "116f5732",
   "metadata": {},
   "outputs": [
    {
     "data": {
      "text/plain": [
       "dtype('<U11')"
      ]
     },
     "execution_count": 155,
     "metadata": {},
     "output_type": "execute_result"
    }
   ],
   "source": [
    "l = [1, 2,3, 4,5, \"Prince\"]\n",
    "arr = np.array(l)\n",
    "arr.dtype"
   ]
  },
  {
   "cell_type": "code",
   "execution_count": 156,
   "id": "dcc05f47",
   "metadata": {},
   "outputs": [
    {
     "data": {
      "text/plain": [
       "array(['1', '2', '3', '4', '5', 'Prince'], dtype='<U11')"
      ]
     },
     "execution_count": 156,
     "metadata": {},
     "output_type": "execute_result"
    }
   ],
   "source": [
    "arr"
   ]
  },
  {
   "cell_type": "code",
   "execution_count": null,
   "id": "70c592bb",
   "metadata": {},
   "outputs": [],
   "source": []
  },
  {
   "cell_type": "code",
   "execution_count": null,
   "id": "2886a7e1",
   "metadata": {},
   "outputs": [],
   "source": []
  },
  {
   "cell_type": "code",
   "execution_count": null,
   "id": "87e3ff97",
   "metadata": {},
   "outputs": [],
   "source": []
  }
 ],
 "metadata": {
  "kernelspec": {
   "display_name": "Python 3 (ipykernel)",
   "language": "python",
   "name": "python3"
  },
  "language_info": {
   "codemirror_mode": {
    "name": "ipython",
    "version": 3
   },
   "file_extension": ".py",
   "mimetype": "text/x-python",
   "name": "python",
   "nbconvert_exporter": "python",
   "pygments_lexer": "ipython3",
   "version": "3.12.4"
  }
 },
 "nbformat": 4,
 "nbformat_minor": 5
}
